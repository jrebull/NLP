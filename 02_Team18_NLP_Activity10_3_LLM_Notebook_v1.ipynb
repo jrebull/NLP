{
  "nbformat": 4,
  "nbformat_minor": 0,
  "metadata": {
    "colab": {
      "provenance": [],
      "machine_shape": "hm",
      "gpuType": "T4",
      "include_colab_link": true
    },
    "kernelspec": {
      "name": "python3",
      "display_name": "Python 3"
    },
    "language_info": {
      "name": "python"
    },
    "accelerator": "GPU"
  },
  "cells": [
    {
      "cell_type": "markdown",
      "metadata": {
        "id": "view-in-github",
        "colab_type": "text"
      },
      "source": [
        "<a href=\"https://colab.research.google.com/github/jrebull/NLP/blob/main/02_Team18_NLP_Activity10_3_LLM_Notebook_v1.ipynb\" target=\"_parent\"><img src=\"https://colab.research.google.com/assets/colab-badge.svg\" alt=\"Open In Colab\"/></a>"
      ]
    },
    {
      "cell_type": "markdown",
      "source": [
        "# **Procesamiento de Lenguaje Natural**\n",
        "\n",
        "## Maestría en Inteligencia Artificial Aplicada\n",
        "#### Tecnológico de Monterrey\n",
        "#### Profesor Titular: Luis Eduardo Falcón Morales\n",
        "#### Profesor Tutor: Rodolfo Miguel Gameros Leal\n",
        "\n",
        "## Actividad Semana 10\n",
        "\n",
        "### **10.3 Actividad: modelos LLM y IA en tu lugar de trabajo.** vFinal"
      ],
      "metadata": {
        "id": "AGdzvhgxhPbM"
      }
    },
    {
      "cell_type": "markdown",
      "source": [
        "### **Equipo 18**\n",
        "> ### 👩‍💻 **Iris Monserrat Urbina Casas**\n",
        "> `A01795999`\n",
        "\n",
        "> ### 👨‍💻 **Javier Augusto Rebull Saucedo**\n",
        "> `A01795838`\n",
        "\n",
        "> ### 👨‍💻 **Juan Carlos Pérez Nava**\n",
        "> `A01795941`\n",
        "\n",
        "> ### 👩‍💻 **Sihiní Trinidad**\n",
        "> `A00889358`"
      ],
      "metadata": {
        "id": "2YcQGRJWhjKk"
      }
    },
    {
      "cell_type": "markdown",
      "source": [
        "# Selección y justificación del proyecto grupal\n",
        "\n",
        "A continuación, se presenta la justificación para la selección del proyecto de Santander, destacando la necesidad de una implementación privada de un Modelo de Lenguaje Grande (LLM) debido a las restricciones y la naturaleza sensible del entorno bancario.\n",
        "\n",
        "### Selección y justificación del proyecto grupal\n",
        "\n",
        "El proyecto **\"SantanderSQL Shield\"** fue seleccionado por su alto impacto potencial y por representar un caso de uso idóneo para la aplicación de un LLM en un entorno corporativo con estrictas regulaciones de seguridad y privacidad, como lo es el sector bancario.\n",
        "\n",
        "#### Problemática de Alto Impacto\n",
        "\n",
        "El área de Tecnología de Santander US enfrenta un desafío operacional crítico: la corrección manual de datos en producción es un proceso lento, propenso a errores y costoso. Los datos clave que demuestran la magnitud del problema son:\n",
        "\n",
        "- **Volumen y Error:** Se procesaron 1,874 solicitudes DML en 2024 con una tasa de error del 18% debido a fallos humanos.\n",
        "- **Costo Operativo Excesivo:** Una solicitud exitosa requiere entre 5 y 7 horas de un especialista de TI. Un solo error puede triplicar este tiempo, generando retrasos de hasta 3 días y un costo anual por errores que supera los $340,000 USD.\n",
        "- **Impacto en el Negocio:** Estos retrasos afectan operaciones críticas para el cliente, como la autorización de préstamos y transferencias, impactando negativamente la experiencia del cliente y la operación del banco.\n",
        "\n",
        "#### Solución: Un Asistente de IA en un Entorno Privado\n",
        "\n",
        "La propuesta es desarrollar \"SantanderSQL Shield\", un asistente inteligente que automatiza y valida la creación de scripts de modificación de datos (DML). La justificación para su implementación mediante un LLM en modo privado se basa en los siguientes puntos:\n",
        "\n",
        "1. **Seguridad y Gobernanza de Datos:** La herramienta operará con sentencias SQL que, si bien el foco es la sintaxis y no el almacenamiento de datos, involucran información bancaria sensible y restringida, como nombres de clientes, transacciones y SSN. Las estrictas restricciones bancarias impiden el uso de sitios web de IA públicos. La arquitectura propuesta resuelve esto al desplegar la solución en contenedores Docker sobre la **infraestructura interna de Santander**, garantizando máxima seguridad y gobernanza.\n",
        "\n",
        "2. **Uso de Tecnología de Vanguardia vía API:** El núcleo de la IA sería el modelo **Google Gemini 1.5 Pro**, seleccionado por su alta capacidad para la generación de código y para seguir instrucciones complejas. La comunicación con el modelo se establecería a través de su API, permitiendo que el procesamiento se realice sin exponer los datos o la lógica de negocio a la web pública, manteniendo el control dentro del ecosistema seguro del banco.\n",
        "\n",
        "3. **Retorno de Inversión Excepcional:** El proyecto presenta un caso de negocio contundente con un retorno de inversión (ROI) anual proyectado del **4,267%**. Con una inversión total estimada de $15,000 USD, se proyecta un ahorro total anual de más de **$640,000 USD**. El proyecto recuperaría su inversión en menos de una semana de operación, transformaando un proceso de alto riesgo en una operación ágil y segura.\n",
        "\n",
        "En conclusión, el proyecto SantanderSQL Shield no solo aborda una necesidad operativa urgente con un beneficio financiero claro, sino que también sirve como una demostración perfecta de cómo integrar LLMs de manera segura y controlada en industrias altamente reguladas, utilizando APIs y desplegando la infraestructura en un entorno privado para cumplir con las normativas de seguridad y proteger los datos sensibles."
      ],
      "metadata": {
        "id": "YPUBSZc9hs_8"
      }
    },
    {
      "cell_type": "markdown",
      "source": [
        "# Instalamos Libreria Oficial de OpenAI"
      ],
      "metadata": {
        "id": "VSFvzrmwsrf9"
      }
    },
    {
      "cell_type": "code",
      "execution_count": 1,
      "metadata": {
        "colab": {
          "base_uri": "https://localhost:8080/"
        },
        "id": "ObewEx7TqEqs",
        "outputId": "b5c2dc22-df65-4ae6-a4a0-d0351dcea7ba"
      },
      "outputs": [
        {
          "output_type": "stream",
          "name": "stdout",
          "text": [
            "Requirement already satisfied: openai in /usr/local/lib/python3.11/dist-packages (1.91.0)\n",
            "Requirement already satisfied: anyio<5,>=3.5.0 in /usr/local/lib/python3.11/dist-packages (from openai) (4.9.0)\n",
            "Requirement already satisfied: distro<2,>=1.7.0 in /usr/local/lib/python3.11/dist-packages (from openai) (1.9.0)\n",
            "Requirement already satisfied: httpx<1,>=0.23.0 in /usr/local/lib/python3.11/dist-packages (from openai) (0.28.1)\n",
            "Requirement already satisfied: jiter<1,>=0.4.0 in /usr/local/lib/python3.11/dist-packages (from openai) (0.10.0)\n",
            "Requirement already satisfied: pydantic<3,>=1.9.0 in /usr/local/lib/python3.11/dist-packages (from openai) (2.11.7)\n",
            "Requirement already satisfied: sniffio in /usr/local/lib/python3.11/dist-packages (from openai) (1.3.1)\n",
            "Requirement already satisfied: tqdm>4 in /usr/local/lib/python3.11/dist-packages (from openai) (4.67.1)\n",
            "Requirement already satisfied: typing-extensions<5,>=4.11 in /usr/local/lib/python3.11/dist-packages (from openai) (4.14.0)\n",
            "Requirement already satisfied: idna>=2.8 in /usr/local/lib/python3.11/dist-packages (from anyio<5,>=3.5.0->openai) (3.10)\n",
            "Requirement already satisfied: certifi in /usr/local/lib/python3.11/dist-packages (from httpx<1,>=0.23.0->openai) (2025.6.15)\n",
            "Requirement already satisfied: httpcore==1.* in /usr/local/lib/python3.11/dist-packages (from httpx<1,>=0.23.0->openai) (1.0.9)\n",
            "Requirement already satisfied: h11>=0.16 in /usr/local/lib/python3.11/dist-packages (from httpcore==1.*->httpx<1,>=0.23.0->openai) (0.16.0)\n",
            "Requirement already satisfied: annotated-types>=0.6.0 in /usr/local/lib/python3.11/dist-packages (from pydantic<3,>=1.9.0->openai) (0.7.0)\n",
            "Requirement already satisfied: pydantic-core==2.33.2 in /usr/local/lib/python3.11/dist-packages (from pydantic<3,>=1.9.0->openai) (2.33.2)\n",
            "Requirement already satisfied: typing-inspection>=0.4.0 in /usr/local/lib/python3.11/dist-packages (from pydantic<3,>=1.9.0->openai) (0.4.1)\n"
          ]
        }
      ],
      "source": [
        "# Instala la librería oficial de OpenAI para poder conectar y usar sus modelos (como GPT-4) desde Python.\n",
        "!pip install --upgrade openai"
      ]
    },
    {
      "cell_type": "markdown",
      "source": [
        "# Librerias del Notebook"
      ],
      "metadata": {
        "id": "I_q_xcmmsoRR"
      }
    },
    {
      "cell_type": "code",
      "source": [
        "# =================================================================\n",
        "# Tipología 1: Gestión del Entorno y Sistema Operativo\n",
        "# =================================================================\n",
        "\n",
        "# Se utiliza para interactuar con el sistema operativo, como leer variables de entorno.\n",
        "import os\n",
        "\n",
        "# Específico de Google Colab, para acceder a secretos y datos de usuario de forma segura.\n",
        "from google.colab import userdata\n",
        "\n",
        "# =================================================================\n",
        "# Tipología 2: Interacción con APIs Externas\n",
        "# =================================================================\n",
        "\n",
        "# Importa la librería completa de OpenAI (enfoque antiguo o para funciones específicas).\n",
        "import openai\n",
        "\n",
        "# Importa la clase principal para interactuar con la API de OpenAI (enfoque moderno).\n",
        "from openai import OpenAI\n",
        "\n",
        "# =================================================================\n",
        "# Tipología 3: Formato y Visualización en Notebooks\n",
        "# =================================================================\n",
        "\n",
        "# Se usa para mostrar texto con formato Markdown en la salida de la celda.\n",
        "from IPython.display import Markdown, display, HTML"
      ],
      "metadata": {
        "id": "5AVME0C5qjNe"
      },
      "execution_count": 2,
      "outputs": []
    },
    {
      "cell_type": "markdown",
      "source": [
        "# Cargo mi Secret API Key de OpenAI"
      ],
      "metadata": {
        "id": "vrAM5iL1sxjM"
      }
    },
    {
      "cell_type": "code",
      "source": [
        "# Intenta obtener la clave de API desde los Secretos de Google Colab.\n",
        "api_key = userdata.get(\"JR_OpenAI_Token\")\n",
        "\n",
        "# 1. Verifica si la clave fue encontrada.\n",
        "if api_key:\n",
        "  # 2. Imprime una leyenda bonita si se encontró la clave.\n",
        "  print(\"✅ ¡Éxito! Token de API encontrado y cargado correctamente.\")\n",
        "  print(\"---------------------------------------------------------\")\n",
        "  print(\"Inicializando el cliente de OpenAI...\")\n",
        "\n",
        "  # 3. Procede a inicializar el cliente de OpenAI.\n",
        "  client = OpenAI(api_key=api_key)\n",
        "  print(\"🤖 Cliente listo. ¡Ya puedes interactuar con la API!\")\n",
        "\n",
        "else:\n",
        "  # 4. Si no se encuentra, lanza un error claro y útil.\n",
        "  raise ValueError(\n",
        "      \"🛑 ERROR: Clave de API no encontrada.\\n\"\n",
        "      \"Por favor, asegúrate de haber guardado tu token en los 'Secretos' de Google Colab \"\n",
        "      \"con el nombre exacto: JR_OpenAI_Token\"\n",
        "  )"
      ],
      "metadata": {
        "colab": {
          "base_uri": "https://localhost:8080/"
        },
        "id": "k2qWF8LlsUAr",
        "outputId": "12530575-f146-40be-95e3-cec4141d3886"
      },
      "execution_count": 3,
      "outputs": [
        {
          "output_type": "stream",
          "name": "stdout",
          "text": [
            "✅ ¡Éxito! Token de API encontrado y cargado correctamente.\n",
            "---------------------------------------------------------\n",
            "Inicializando el cliente de OpenAI...\n",
            "🤖 Cliente listo. ¡Ya puedes interactuar con la API!\n"
          ]
        }
      ]
    },
    {
      "cell_type": "markdown",
      "source": [
        "# Definimos los Prompt de Sistema:"
      ],
      "metadata": {
        "id": "OZyRmj_huBbR"
      }
    },
    {
      "cell_type": "code",
      "source": [
        "# Asignación del prompt\n",
        "# Este prompt solo establece el rol del asistente y el contexto de la empresa.\n",
        "system_prompt = \"\"\"\n",
        "👤 **Persona y Rol:**\n",
        "\n",
        "Eres un **Asistente Experto** en consultoría de soluciones de Inteligencia Artificial y Procesamiento del Lenguaje Natural (PLN), especializado en el sector bancario.\n",
        "\n",
        "🏢 **Contexto de la Empresa:**\n",
        "\n",
        "Tu cliente es **Santander US Bank** (filial de Banco Santander S.A., España), una institución financiera de gran escala en el noreste de EE. UU. con las siguientes métricas:\n",
        "* **Activos:** $147,000,000,000 USD\n",
        "* **Empleados:** 17,200\n",
        "* **Clientes:** 5.2 millones\n",
        "\"\"\"\n",
        "\n",
        "# Imprime la variable para confirmar que se ha guardado correctamente.\n",
        "print(\"✅ Variable 'system_prompt' con Rol y Empresa creada exitosamente.\")\n",
        "print(\"----------------------------------------------------------------\")\n",
        "print(system_prompt)"
      ],
      "metadata": {
        "colab": {
          "base_uri": "https://localhost:8080/"
        },
        "id": "HhzS82iOs4TV",
        "outputId": "e190ebd8-e221-42ad-839d-ca9839dadb79"
      },
      "execution_count": 4,
      "outputs": [
        {
          "output_type": "stream",
          "name": "stdout",
          "text": [
            "✅ Variable 'system_prompt' con Rol y Empresa creada exitosamente.\n",
            "----------------------------------------------------------------\n",
            "\n",
            "👤 **Persona y Rol:**\n",
            "\n",
            "Eres un **Asistente Experto** en consultoría de soluciones de Inteligencia Artificial y Procesamiento del Lenguaje Natural (PLN), especializado en el sector bancario.\n",
            "\n",
            "🏢 **Contexto de la Empresa:**\n",
            "\n",
            "Tu cliente es **Santander US Bank** (filial de Banco Santander S.A., España), una institución financiera de gran escala en el noreste de EE. UU. con las siguientes métricas:\n",
            "* **Activos:** $147,000,000,000 USD\n",
            "* **Empleados:** 17,200\n",
            "* **Clientes:** 5.2 millones\n",
            "\n"
          ]
        }
      ]
    },
    {
      "cell_type": "markdown",
      "source": [
        "# Elección de OpenAI GPT-4o-mini para Demostración en Banco Santander US\n",
        "\n",
        "En el contexto de una demostración sobre el uso de modelos de lenguaje (LLM) en Banco Santander US, donde la privacidad de los datos es un aspecto crucial, se optó por utilizar **OpenAI GPT-4o-mini**. A continuación, se explica detalladamente esta decisión, resaltando sus ventajas, desventajas y la justificación detrás de la elección.\n",
        "\n",
        "## ¿Por qué OpenAI GPT-4o-mini?\n",
        "\n",
        "La versión *mini* de GPT-4o es la última iteración optimizada de los modelos de OpenAI, pensada para lograr un equilibrio entre capacidad, rapidez y eficiencia de costos. Esta versión fue seleccionada para la demostración debido a los siguientes motivos:\n",
        "\n",
        "### Ventajas (Pros)\n",
        "\n",
        "* **Velocidad de respuesta:** GPT-4o-mini destaca por su baja latencia y alta velocidad, lo cual es ideal para aplicaciones bancarias donde la experiencia del usuario y la inmediatez son esenciales.\n",
        "* **Eficiencia de recursos:** Al ser una versión más ligera, requiere menos recursos computacionales y es más fácil de integrar en entornos de prueba y despliegue rápido.\n",
        "* **Costo accesible:** Comparado con modelos más grandes, GPT-4o-mini ofrece una relación costo-beneficio ideal para pilotos y pruebas de concepto.\n",
        "* **Seguridad y privacidad:** OpenAI implementa mecanismos sólidos de protección de datos, y GPT-4o-mini permite establecer configuraciones para evitar el almacenamiento de información sensible durante las pruebas.\n",
        "* **Escalabilidad:** Ideal para demostrar casos de uso que pueden crecer a futuro, ya que la misma arquitectura se puede ampliar hacia modelos más potentes si fuera necesario.\n",
        "\n",
        "### Desventajas (Contras)\n",
        "\n",
        "* **Capacidad limitada:** Si bien es potente para muchas tareas, la versión *mini* puede quedarse corta en tareas extremadamente complejas o de procesamiento de lenguaje muy avanzado, donde un modelo mayor podría rendir mejor.\n",
        "* **Dependencia de proveedor:** El uso de un modelo OpenAI implica depender de su infraestructura y políticas, lo cual puede ser un reto para integraciones a largo plazo en entornos con altos requisitos regulatorios.\n",
        "* **Configuración de privacidad avanzada:** Si bien existen opciones para no almacenar datos, requiere configuraciones adicionales y revisiones para cumplir con las normativas bancarias más estrictas (por ejemplo, GLBA o GDPR).\n",
        "\n",
        "## Justificación de la Elección\n",
        "\n",
        "La decisión de usar GPT-4o-mini se basó en encontrar un punto de equilibrio entre **seguridad**, **rapidez de implementación** y **realismo en la demostración**. Es ideal para presentar el potencial de los LLMs en banca sin exponer datos reales de clientes y permite que los equipos internos visualicen aplicaciones prácticas sin incurrir en altos costos o riesgos iniciales. Además, facilita el diálogo sobre futuras integraciones más robustas y privadas, como modelos self-hosted o en la nube privada.\n",
        "\n",
        "---\n",
        "\n",
        "## Referencia\n",
        "\n",
        "OpenAI. (2024). *GPT-4o overview and documentation*. OpenAI. [https://platform.openai.com/docs/guides/gpt](https://platform.openai.com/docs/guides/gpt)\n",
        "\n",
        "---\n"
      ],
      "metadata": {
        "id": "DQ8wVcW-uHXA"
      }
    },
    {
      "cell_type": "markdown",
      "source": [
        "# Llamamos a la API de OpenAI:"
      ],
      "metadata": {
        "id": "1nDMbFP6uUbR"
      }
    },
    {
      "cell_type": "code",
      "source": [
        "def call_openai(system_prompt, user_prompt, model=\"gpt-4o-mini\", temperature=0.7):\n",
        "    \"\"\"\n",
        "    Encapsula una llamada a la API de OpenAI (Chat Completions) para generar una respuesta.\n",
        "\n",
        "    Esta función simplifica la interacción con el modelo, manejando la construcción\n",
        "    del mensaje y la extracción del contenido de la respuesta.\n",
        "\n",
        "    Args:\n",
        "        system_prompt (str): El prompt que define el rol y el comportamiento del asistente (ej. \"Eres un experto en Python.\").\n",
        "        user_prompt (str): La pregunta o instrucción específica del usuario.\n",
        "        model (str, optional): El identificador del modelo a utilizar. Por defecto es \"gpt-4o-mini\".\n",
        "        temperature (float, optional): Controla la aleatoriedad de la respuesta. Valores más bajos (~0.2)\n",
        "                                       la hacen más determinista, valores más altos (~1.0) la hacen más creativa.\n",
        "                                       Por defecto es 0.7.\n",
        "\n",
        "    Returns:\n",
        "        str: La respuesta de texto generada por el modelo, limpia de espacios al inicio o al final.\n",
        "    \"\"\"\n",
        "\n",
        "    # --- Mensaje de Estado 1: Inicio de la Ejecución ---\n",
        "    # Imprimimos un mensaje para saber que la función ha comenzado la llamada a la API.\n",
        "    # Usar un f-string nos permite insertar fácilmente el nombre del modelo que se está usando.\n",
        "    print(f\"🚀 Iniciando llamada a la API con el modelo: {model}...\")\n",
        "\n",
        "    try:\n",
        "        # --- Llamada a la API de OpenAI ---\n",
        "        # Creamos la solicitud al endpoint de 'chat completions'.\n",
        "        response = client.chat.completions.create(\n",
        "            model=model,                 # Define el modelo de lenguaje a utilizar.\n",
        "            temperature=temperature,     # Controla la \"creatividad\" de la respuesta.\n",
        "            max_tokens=2048,             # Límite máximo de 'tokens' (palabras/fragmentos) en la respuesta. Aumentado para respuestas más largas.\n",
        "            messages=[\n",
        "                # El 'system_prompt' establece el contexto y rol del asistente.\n",
        "                {\"role\": \"system\", \"content\": system_prompt},\n",
        "                # El 'user_prompt' es la pregunta o tarea que le damos al modelo.\n",
        "                {\"role\": \"user\", \"content\": user_prompt}\n",
        "            ]\n",
        "        )\n",
        "\n",
        "        # --- Mensaje de Estado 2: Ejecución Exitosa ---\n",
        "        # Si la línea anterior se completa sin errores, significa que recibimos una respuesta.\n",
        "        print(\"✅ Respuesta recibida exitosamente de OpenAI.\")\n",
        "\n",
        "        # --- Extracción y Retorno de la Respuesta ---\n",
        "        # El objeto 'response' es complejo. Navegamos hasta el contenido del mensaje.\n",
        "        # .strip() elimina cualquier espacio en blanco o saltos de línea innecesarios al principio o al final.\n",
        "        return response.choices[0].message.content.strip()\n",
        "\n",
        "    except Exception as e:\n",
        "        # --- Manejo de Errores ---\n",
        "        # Si algo sale mal durante la llamada (ej. clave de API incorrecta, problema de red),\n",
        "        # se imprimirá un error claro.\n",
        "        print(f\"🛑 Error al llamar a la API de OpenAI: {e}\")\n",
        "        return None # Devolvemos None para indicar que la función falló."
      ],
      "metadata": {
        "id": "-bBKlA1guGYS"
      },
      "execution_count": 5,
      "outputs": []
    },
    {
      "cell_type": "markdown",
      "source": [
        "# **Caso 1: User_Prompt Zero-Shot**"
      ],
      "metadata": {
        "id": "-Ynf8NoaunPg"
      }
    },
    {
      "cell_type": "code",
      "source": [
        "# Prompt simple y directo (Zero-Shot)\n",
        "# Prompt de usuario, corto y directo para iniciar la interacción.\n",
        "user_prompt_Zero_Shot = \"Preséntame la idea inicial del proyecto 'SantanderSQL Shield'.\"\n",
        "\n",
        "# (Opcional) Imprime la variable para confirmar que se ha guardado correctamente.\n",
        "print(\"✅ Variable 'user_prompt_zs' (estilo Zero-Shot) creada exitosamente.\")\n",
        "print(\"--------------------------------------------------------------------\")\n",
        "print(user_prompt_Zero_Shot)"
      ],
      "metadata": {
        "colab": {
          "base_uri": "https://localhost:8080/"
        },
        "id": "-MhC9MbHuqaJ",
        "outputId": "782ce72f-b297-40e2-dc4e-d0695c329f03"
      },
      "execution_count": 6,
      "outputs": [
        {
          "output_type": "stream",
          "name": "stdout",
          "text": [
            "✅ Variable 'user_prompt_zs' (estilo Zero-Shot) creada exitosamente.\n",
            "--------------------------------------------------------------------\n",
            "Preséntame la idea inicial del proyecto 'SantanderSQL Shield'.\n"
          ]
        }
      ]
    },
    {
      "cell_type": "markdown",
      "source": [
        "# Llamamos a la Inteligencia!!!"
      ],
      "metadata": {
        "id": "ke01EEVgw4gY"
      }
    },
    {
      "cell_type": "code",
      "source": [
        "# Informa al usuario que el proceso ha comenzado.\n",
        "print(\"🚀 Iniciando la consulta Zero-Shot al LLM...\")\n",
        "print(\"---------------------------------------------\")\n",
        "\n",
        "try:\n",
        "    # Llama a la función 'call_openai' con los prompts (que ya existen en el entorno).\n",
        "    # \"Zero-Shot\" significa que se da una instrucción directa sin ejemplos previos.\n",
        "    respuesta_zero_shot = call_openai(system_prompt, user_prompt_Zero_Shot)\n",
        "\n",
        "    # Presenta un encabezado claro para el resultado.\n",
        "    print(\"\\n✅ Propuesta Generada por el Modelo:\")\n",
        "    print(\"======================================\")\n",
        "\n",
        "    if respuesta_zero_shot:\n",
        "        # Renderiza la respuesta del LLM. Si el modelo usó formato Markdown\n",
        "        # (títulos, listas, etc.), esto lo mostrará de forma legible.\n",
        "        display(Markdown(respuesta_zero_shot))\n",
        "    else:\n",
        "        # Esto se ejecuta si la función 'call_openai' no devolvió nada.\n",
        "        print(\"No se recibió una respuesta válida del modelo.\")\n",
        "\n",
        "except Exception as e:\n",
        "    # Captura y muestra cualquier error que ocurra durante la llamada a la API.\n",
        "    print(f\"🛑 Ocurrió un error durante la ejecución: {e}\")"
      ],
      "metadata": {
        "colab": {
          "base_uri": "https://localhost:8080/",
          "height": 751
        },
        "id": "ABZ8xnk1w5iS",
        "outputId": "f1fd8fd8-63eb-4799-bd69-528ede2f7912"
      },
      "execution_count": 7,
      "outputs": [
        {
          "output_type": "stream",
          "name": "stdout",
          "text": [
            "🚀 Iniciando la consulta Zero-Shot al LLM...\n",
            "---------------------------------------------\n",
            "🚀 Iniciando llamada a la API con el modelo: gpt-4o-mini...\n",
            "✅ Respuesta recibida exitosamente de OpenAI.\n",
            "\n",
            "✅ Propuesta Generada por el Modelo:\n",
            "======================================\n"
          ]
        },
        {
          "output_type": "display_data",
          "data": {
            "text/plain": [
              "<IPython.core.display.Markdown object>"
            ],
            "text/markdown": "**Proyecto 'SantanderSQL Shield'**\n\n**Idea Inicial:**\n\nEl proyecto 'SantanderSQL Shield' tiene como objetivo implementar una solución avanzada de inteligencia artificial y procesamiento del lenguaje natural (PLN) para mejorar la seguridad y el manejo de datos dentro de Santander US Bank. La creciente complejidad de las amenazas cibernéticas y la necesidad de proteger la información sensible de nuestros clientes hacen que este proyecto sea crucial.\n\n**Componentes Clave del Proyecto:**\n\n1. **Detección de Anomalías:**\n   - Utilizar algoritmos de aprendizaje automático para identificar patrones inusuales en las consultas de SQL y el comportamiento de los usuarios, lo que ayudará a prevenir accesos no autorizados y fraudes.\n\n2. **Análisis de Sentimiento:**\n   - Implementar técnicas de PLN para evaluar la comunicación interna y externa del banco. Esto permitirá detectar posibles señales de alerta o insatisfacción entre los empleados y clientes, facilitando una respuesta proactiva.\n\n3. **Automatización de Respuestas:**\n   - Desarrollar un sistema de chatbots y asistentes virtuales que manejan consultas y solicitudes de los clientes de manera eficiente, al tiempo que registran y analizan las interacciones para mejorar la experiencia del cliente.\n\n4. **Cumplimiento Normativo:**\n   - Asegurar que todas las operaciones y procesos de manejo de datos cumplen con las regulaciones de seguridad financiera, utilizando herramientas de IA para auditar y monitorizar el cumplimiento.\n\n5. **Formación y Concienciación:**\n   - Implementar un programa de capacitación para empleados centrado en el uso de tecnologías de IA y la importancia de la seguridad de datos, fomentando una cultura de responsabilidad y cuidado en el manejo de la información.\n\n**Beneficios Esperados:**\n\n- Mejora en la seguridad de datos y reducción de fraudes.\n- Optimización de la atención al cliente mediante respuestas rápidas y precisas.\n- Mayor cumplimiento de regulaciones y normativas del sector financiero.\n- Aumento de la satisfacción del cliente y la confianza en el banco.\n\nEn resumen, 'SantanderSQL Shield' busca transformar la forma en que Santander US Bank gestiona la seguridad de datos y la experiencia del cliente, aprovechando las capacidades de la inteligencia artificial y el PLN para enfrentar los desafíos del entorno financiero actual."
          },
          "metadata": {}
        }
      ]
    },
    {
      "cell_type": "markdown",
      "source": [
        "# **Caso 2: User_Prompt Chain-of-Thought (CoT)**"
      ],
      "metadata": {
        "id": "f7RerdFJGzc4"
      }
    },
    {
      "cell_type": "code",
      "source": [
        "# Prompt que utiliza la metodología Chain-of-Thought (CoT).\n",
        "user_prompt_cot = \"\"\"\n",
        "Elabora una propuesta técnica y de negocio completa para crear el asistente de IA \"SantanderSQL Shield\".\n",
        "\n",
        "Para asegurar una respuesta bien estructurada, piensa paso a paso:\n",
        "\n",
        "1.  **Paso 1: Diagnóstico del Problema.** Primero, analiza y describe la problemática operativa actual con los scripts DML en Santander US, cuantificando el volumen, la tasa de error y el impacto financiero.\n",
        "\n",
        "2.  **Paso 2: Definición de la Solución.** A continuación, detalla el concepto de \"SantanderSQL Shield\". Explica sus funcionalidades clave (validación de sintaxis, generación de rollback, etc.) y cómo resuelven directamente el problema diagnosticado.\n",
        "\n",
        "3.  **Paso 3: Diseño de la Arquitectura.** Después, define la arquitectura y la pila tecnológica que sustentará el proyecto (menciona Google Gemini 1.5 Pro, Python/FastAPI, React y Docker).\n",
        "\n",
        "4.  **Paso 4: Análisis de Viabilidad.** Finalmente, desarrolla el caso de negocio, incluyendo un cronograma estimado, un desglose de los costos y un cálculo del Retorno de la Inversión (ROI).\n",
        "\"\"\"\n",
        "\n",
        "# Confirma que la variable se ha creado.\n",
        "print(\"✅ Variable 'user_prompt_cot' creada exitosamente.\")\n",
        "print(\"-------------------------------------------------\")\n",
        "print(user_prompt_cot)"
      ],
      "metadata": {
        "colab": {
          "base_uri": "https://localhost:8080/"
        },
        "id": "1UvKMQ4VHcxr",
        "outputId": "fddcb6ef-b22f-4cbd-af73-0c23f0fa93cf"
      },
      "execution_count": 8,
      "outputs": [
        {
          "output_type": "stream",
          "name": "stdout",
          "text": [
            "✅ Variable 'user_prompt_cot' creada exitosamente.\n",
            "-------------------------------------------------\n",
            "\n",
            "Elabora una propuesta técnica y de negocio completa para crear el asistente de IA \"SantanderSQL Shield\".\n",
            "\n",
            "Para asegurar una respuesta bien estructurada, piensa paso a paso:\n",
            "\n",
            "1.  **Paso 1: Diagnóstico del Problema.** Primero, analiza y describe la problemática operativa actual con los scripts DML en Santander US, cuantificando el volumen, la tasa de error y el impacto financiero.\n",
            "\n",
            "2.  **Paso 2: Definición de la Solución.** A continuación, detalla el concepto de \"SantanderSQL Shield\". Explica sus funcionalidades clave (validación de sintaxis, generación de rollback, etc.) y cómo resuelven directamente el problema diagnosticado.\n",
            "\n",
            "3.  **Paso 3: Diseño de la Arquitectura.** Después, define la arquitectura y la pila tecnológica que sustentará el proyecto (menciona Google Gemini 1.5 Pro, Python/FastAPI, React y Docker).\n",
            "\n",
            "4.  **Paso 4: Análisis de Viabilidad.** Finalmente, desarrolla el caso de negocio, incluyendo un cronograma estimado, un desglose de los costos y un cálculo del Retorno de la Inversión (ROI).\n",
            "\n"
          ]
        }
      ]
    },
    {
      "cell_type": "code",
      "source": [
        "# Informa al usuario que el proceso con la metodología CoT ha comenzado.\n",
        "print(\"🚀 Iniciando la consulta Chain-of-Thought (CoT) al LLM...\")\n",
        "print(\"---------------------------------------------------------\")\n",
        "\n",
        "try:\n",
        "    # Llama a la función 'call_openai' con el prompt que guía el razonamiento del modelo.\n",
        "    # El modelo seguirá los pasos definidos en 'user_prompt_cot' para construir su respuesta.\n",
        "    respuesta_cot = call_openai(system_prompt, user_prompt_cot)\n",
        "\n",
        "    # Presenta un encabezado claro para el resultado generado.\n",
        "    print(\"\\n✅ Propuesta Generada (siguiendo CoT):\")\n",
        "    print(\"===========================================\")\n",
        "\n",
        "    if respuesta_cot:\n",
        "        # Renderiza la respuesta del LLM. Dado que CoT promueve una respuesta estructurada,\n",
        "        # es muy probable que el modelo use formato Markdown, que se verá muy bien aquí.\n",
        "        display(Markdown(respuesta_cot))\n",
        "    else:\n",
        "        # Se ejecuta si la función 'call_openai' no devolvió una respuesta válida.\n",
        "        print(\"No se recibió una respuesta válida del modelo.\")\n",
        "\n",
        "except Exception as e:\n",
        "    # Captura y muestra de forma amigable cualquier error durante la llamada a la API.\n",
        "    print(f\"🛑 Ocurrió un error durante la ejecución: {e}\")"
      ],
      "metadata": {
        "colab": {
          "base_uri": "https://localhost:8080/",
          "height": 1000
        },
        "id": "dliClOWfH32k",
        "outputId": "59bc2a33-31e6-4be1-ccf8-d435e3bc77f0"
      },
      "execution_count": 9,
      "outputs": [
        {
          "output_type": "stream",
          "name": "stdout",
          "text": [
            "🚀 Iniciando la consulta Chain-of-Thought (CoT) al LLM...\n",
            "---------------------------------------------------------\n",
            "🚀 Iniciando llamada a la API con el modelo: gpt-4o-mini...\n",
            "✅ Respuesta recibida exitosamente de OpenAI.\n",
            "\n",
            "✅ Propuesta Generada (siguiendo CoT):\n",
            "===========================================\n"
          ]
        },
        {
          "output_type": "display_data",
          "data": {
            "text/plain": [
              "<IPython.core.display.Markdown object>"
            ],
            "text/markdown": "### Propuesta Técnica y de Negocio para \"SantanderSQL Shield\"\n\n---\n\n#### **Paso 1: Diagnóstico del Problema**\n\n**Análisis de la problemática operativa actual:**\n\nEn Santander US Bank, la gestión y ejecución de scripts DML (Data Manipulation Language) es una tarea crítica, pero presenta varios desafíos:\n\n- **Volumen:** Se estima que el departamento de TI maneja anualmente alrededor de 500,000 scripts DML, que incluyen inserciones, actualizaciones y eliminaciones de datos.\n  \n- **Tasa de error:** Actualmente, se reporta un 4% de error en la ejecución de estos scripts, lo que equivale a aproximadamente 20,000 scripts erróneos al año. Los errores pueden surgir debido a problemas de sintaxis, conflictos de datos o validaciones insuficientes.\n\n- **Impacto financiero:** Cada error en un script DML puede generar costos significativos debido a la necesidad de corrección, tiempo de inactividad del sistema y pérdida de confianza del cliente. Se estima que el costo promedio por error es de $1,500 USD, lo que se traduce en un impacto financiero anual de aproximadamente $30,000,000 USD.\n\n---\n\n#### **Paso 2: Definición de la Solución**\n\n**Concepto de \"SantanderSQL Shield\":**\n\n\"SantanderSQL Shield\" será un asistente de inteligencia artificial diseñado específicamente para optimizar la gestión de scripts DML en Santander US Bank. Las funcionalidades clave incluirán:\n\n1. **Validación de sintaxis:** Utilizando técnicas de procesamiento de lenguaje natural (PLN) y aprendizaje automático, el sistema validará automáticamente la sintaxis de los scripts DML antes de su ejecución, reduciendo la tasa de error.\n\n2. **Generación de rollback:** El asistente generará automáticamente scripts de rollback para cada operación DML, permitiendo revertir cambios en caso de errores, minimizando el riesgo de pérdida de datos.\n\n3. **Análisis de impacto:** Antes de ejecutar un script, \"SantanderSQL Shield\" evaluará el impacto potencial en la base de datos, ofreciendo recomendaciones sobre la mejor manera de proceder.\n\n4. **Registro y auditoría:** Mantendrá un registro detallado de todas las ejecuciones de scripts, incluyendo errores y correcciones, facilitando auditorías y cumplimiento normativo.\n\n5. **Integración continua:** Se integrará con las herramientas de CI/CD existentes para garantizar una implementación fluida de scripts en entornos de producción.\n\n---\n\n#### **Paso 3: Diseño de la Arquitectura**\n\n**Arquitectura y pila tecnológica:**\n\nLa arquitectura de \"SantanderSQL Shield\" estará diseñada para ser escalable, segura y eficiente:\n\n- **Frontend:** Desarrollado en **React**, proporcionando una interfaz de usuario intuitiva que permita a los desarrolladores interactuar fácilmente con el asistente.\n\n- **Backend:** Usará **Python** y **FastAPI** para manejar las solicitudes y procesar la lógica de negocio. Esto incluye la validación de sintaxis y la generación de scripts de rollback.\n\n- **Modelo de IA:** Implementaremos **Google Gemini 1.5 Pro** para el procesamiento de lenguaje natural y la validación semántica, mejorando así la detección de errores en los scripts.\n\n- **Contenerización:** Se utilizará **Docker** para facilitar la implementación y el escalado de la aplicación en diferentes entornos, asegurando consistencia y facilidad de mantenimiento.\n\n---\n\n#### **Paso 4: Análisis de Viabilidad**\n\n**Caso de negocio:**\n\n1. **Cronograma estimado:**\n   - Fase de investigación y diseño: 3 meses\n   - Desarrollo de frontend y backend: 6 meses\n   - Integración y pruebas: 3 meses\n   - Total: **12 meses** para el lanzamiento de la primera versión.\n\n2. **Desglose de costos:**\n   - Salaries (desarrolladores, ingenieros de datos, etc.): $1,200,000 USD\n   - Herramientas y licencias (Google Gemini, servidores, etc.): $150,000 USD\n   - Implementación y mantenimiento (primer año): $100,000 USD\n   - **Total estimado: $1,450,000 USD**\n\n3. **Cálculo del Retorno de la Inversión (ROI):**\n   - Ahorro por reducción de errores (20,000 errores * $1,500 USD/error): $30,000,000 USD/año.\n   - Costo de implementación: $1,450,000 USD.\n   - ROI estimado en el primer año: \n     \\[\n     ROI = \\frac{Beneficio - Costo}{Costo} = \\frac{30,000,000 - 1,450,000}{1,450,000} \\approx 20.69 \\text{ (o 2069\\%)}\n     \\]\n\n---\n\n### **Conclusión**\n\nLa implementación de \"SantanderSQL Shield\" no solo resolverá los problemas actuales relacionados con los scripts DML, sino que también proporcionará una mejora significativa en la eficiencia operativa y una reducción en los costos asociados a errores. Con un ROI estimado de más del 2000%, esta inversión es estratégica para el futuro de Santander US Bank."
          },
          "metadata": {}
        }
      ]
    },
    {
      "cell_type": "markdown",
      "source": [
        "# **Caso 3: User_Prompt Tree-of-Thoughts (ToT)**"
      ],
      "metadata": {
        "id": "A9hMOLMsIHTz"
      }
    },
    {
      "cell_type": "code",
      "source": [
        "# Prompt que utiliza la metodología Tree-of-Thoughts (ToT).\n",
        "user_prompt_tot = \"\"\"\n",
        "**Problema Estratégico:** Elabora la mejor propuesta posible para el proyecto \"SantanderSQL Shield\", considerando diferentes enfoques.\n",
        "\n",
        "Para resolver esto, sigue un árbol de pensamientos:\n",
        "\n",
        "**Paso 1: Generación de Enfoques (las ramas del árbol).**\n",
        "Primero, genera tres enfoques estratégicos distintos y viables para desarrollar el proyecto:\n",
        "1.  **Enfoque A (MVP de Máxima Automatización):** Describe una herramienta simple y rápida cuyo único objetivo sea validar y generar scripts DML con la mínima intervención humana.\n",
        "2.  **Enfoque B (Asistente Colaborativo \"Human-in-the-Loop\"):** Describe una herramienta interactiva que asista al desarrollador, explicando sus validaciones y requiriendo aprobación humana, priorizando la seguridad y el aprendizaje del equipo.\n",
        "3.  **Enfoque C (Plataforma Empresarial Integral):** Describe una solución a gran escala que no solo valide scripts, sino que también se integre con los pipelines de CI/CD, ofrezca dashboards de auditoría y gestione permisos de usuario.\n",
        "\n",
        "**Paso 2: Evaluación de las Ramas.**\n",
        "Ahora, evalúa de forma crítica cada uno de los tres enfoques (A, B y C) basándote en los siguientes criterios, fundamentales para Santander US Bank:\n",
        "* **Seguridad y Cumplimiento:** ¿Qué tan robusto es para prevenir errores y cumplir con las normativas bancarias?\n",
        "* **Velocidad de Adopción y ROI:** ¿Qué tan rápido se puede implementar y qué tan pronto generaría un retorno de la inversión?\n",
        "* **Escalabilidad y Complejidad Técnica:** ¿Qué tan fácil es de mantener y hacer crecer a futuro?\n",
        "\n",
        "**Paso 3: Síntesis y Recomendación Final (la mejor ruta).**\n",
        "Basado en tu evaluación comparativa, selecciona el enfoque más adecuado para Santander US Bank. Puedes combinar las mejores características de los diferentes enfoques si lo consideras óptimo. Justifica claramente por qué tu propuesta final es la mejor solución estratégica.\n",
        "\"\"\"\n",
        "\n",
        "# Confirma que la variable se ha creado.\n",
        "print(\"✅ Variable 'user_prompt_tot' creada exitosamente.\")\n",
        "print(\"-------------------------------------------------\")\n",
        "print(user_prompt_tot)"
      ],
      "metadata": {
        "colab": {
          "base_uri": "https://localhost:8080/"
        },
        "id": "dfRGtXiOJGfY",
        "outputId": "b0ddcab8-4a40-454f-d7f4-6f060e84f4c5"
      },
      "execution_count": 10,
      "outputs": [
        {
          "output_type": "stream",
          "name": "stdout",
          "text": [
            "✅ Variable 'user_prompt_tot' creada exitosamente.\n",
            "-------------------------------------------------\n",
            "\n",
            "**Problema Estratégico:** Elabora la mejor propuesta posible para el proyecto \"SantanderSQL Shield\", considerando diferentes enfoques.\n",
            "\n",
            "Para resolver esto, sigue un árbol de pensamientos:\n",
            "\n",
            "**Paso 1: Generación de Enfoques (las ramas del árbol).**\n",
            "Primero, genera tres enfoques estratégicos distintos y viables para desarrollar el proyecto:\n",
            "1.  **Enfoque A (MVP de Máxima Automatización):** Describe una herramienta simple y rápida cuyo único objetivo sea validar y generar scripts DML con la mínima intervención humana.\n",
            "2.  **Enfoque B (Asistente Colaborativo \"Human-in-the-Loop\"):** Describe una herramienta interactiva que asista al desarrollador, explicando sus validaciones y requiriendo aprobación humana, priorizando la seguridad y el aprendizaje del equipo.\n",
            "3.  **Enfoque C (Plataforma Empresarial Integral):** Describe una solución a gran escala que no solo valide scripts, sino que también se integre con los pipelines de CI/CD, ofrezca dashboards de auditoría y gestione permisos de usuario.\n",
            "\n",
            "**Paso 2: Evaluación de las Ramas.**\n",
            "Ahora, evalúa de forma crítica cada uno de los tres enfoques (A, B y C) basándote en los siguientes criterios, fundamentales para Santander US Bank:\n",
            "* **Seguridad y Cumplimiento:** ¿Qué tan robusto es para prevenir errores y cumplir con las normativas bancarias?\n",
            "* **Velocidad de Adopción y ROI:** ¿Qué tan rápido se puede implementar y qué tan pronto generaría un retorno de la inversión?\n",
            "* **Escalabilidad y Complejidad Técnica:** ¿Qué tan fácil es de mantener y hacer crecer a futuro?\n",
            "\n",
            "**Paso 3: Síntesis y Recomendación Final (la mejor ruta).**\n",
            "Basado en tu evaluación comparativa, selecciona el enfoque más adecuado para Santander US Bank. Puedes combinar las mejores características de los diferentes enfoques si lo consideras óptimo. Justifica claramente por qué tu propuesta final es la mejor solución estratégica.\n",
            "\n"
          ]
        }
      ]
    },
    {
      "cell_type": "code",
      "source": [
        "# Informa al usuario que se inicia el proceso ToT, que puede ser más lento.\n",
        "print(\"🚀 Iniciando la consulta Tree-of-Thoughts (ToT) al LLM...\")\n",
        "print(\"---------------------------------------------------------\")\n",
        "\n",
        "try:\n",
        "    # Llama a la función 'call_openai' con el prompt ToT.\n",
        "    # Este prompt obliga al modelo a generar, evaluar y seleccionar entre varias\n",
        "    # alternativas antes de dar una respuesta final.\n",
        "    respuesta_tot = call_openai(system_prompt, user_prompt_tot, temperature=0.5)\n",
        "\n",
        "    # Presenta un encabezado claro para la respuesta estratégica.\n",
        "    print(\"\\n✅ Propuesta Estratégica Generada (siguiendo ToT):\")\n",
        "    print(\"===================================================\")\n",
        "\n",
        "    if respuesta_tot:\n",
        "        # Renderiza la respuesta. El resultado de un ToT suele ser muy estructurado\n",
        "        # y detallado, por lo que Markdown es ideal para visualizarlo.\n",
        "        display(Markdown(respuesta_tot))\n",
        "    else:\n",
        "        # Se ejecuta si no se obtuvo una respuesta válida del modelo.\n",
        "        print(\"No se recibió una respuesta válida del modelo.\")\n",
        "\n",
        "except Exception as e:\n",
        "    # Captura y muestra de forma clara cualquier error durante el proceso.\n",
        "    print(f\"🛑 Ocurrió un error durante la ejecución: {e}\")"
      ],
      "metadata": {
        "colab": {
          "base_uri": "https://localhost:8080/",
          "height": 1000
        },
        "id": "8TelisKUJb2p",
        "outputId": "1c948e85-397d-4c62-9c4f-e1141ce36434"
      },
      "execution_count": 11,
      "outputs": [
        {
          "output_type": "stream",
          "name": "stdout",
          "text": [
            "🚀 Iniciando la consulta Tree-of-Thoughts (ToT) al LLM...\n",
            "---------------------------------------------------------\n",
            "🚀 Iniciando llamada a la API con el modelo: gpt-4o-mini...\n",
            "✅ Respuesta recibida exitosamente de OpenAI.\n",
            "\n",
            "✅ Propuesta Estratégica Generada (siguiendo ToT):\n",
            "===================================================\n"
          ]
        },
        {
          "output_type": "display_data",
          "data": {
            "text/plain": [
              "<IPython.core.display.Markdown object>"
            ],
            "text/markdown": "### Paso 1: Generación de Enfoques\n\n#### Enfoque A: MVP de Máxima Automatización\n- **Descripción:** Se desarrollará una herramienta sencilla que valide y genere scripts DML (Data Manipulation Language) de manera automática. La intervención humana se limitará a la supervisión ocasional, con el objetivo de minimizar errores y acelerar la producción de scripts.\n- **Características Clave:**\n  - Validación automática de scripts en tiempo real.\n  - Generación de scripts DML basados en patrones predefinidos.\n  - Interfaz de usuario intuitiva para facilitar la adopción.\n\n#### Enfoque B: Asistente Colaborativo \"Human-in-the-Loop\"\n- **Descripción:** Esta herramienta interactiva asistirá a los desarrolladores en la creación y validación de scripts. Proporcionará explicaciones sobre las validaciones realizadas y solicitará la aprobación del usuario antes de ejecutar cualquier script, enfocándose en la seguridad y el aprendizaje continuo del equipo.\n- **Características Clave:**\n  - Interfaz interactiva con explicaciones detalladas de las validaciones.\n  - Proceso de aprobación que involucra a los desarrolladores.\n  - Registro de decisiones y retroalimentación para mejorar el sistema.\n\n#### Enfoque C: Plataforma Empresarial Integral\n- **Descripción:** Se propone una solución a gran escala que no solo valida scripts, sino que también se integra con los pipelines de CI/CD (Integración Continua/Despliegue Continuo), ofrece dashboards de auditoría y gestiona permisos de usuario. Este enfoque busca ser una solución completa y robusta para la gestión de scripts en un entorno empresarial.\n- **Características Clave:**\n  - Integración con herramientas de CI/CD existentes.\n  - Dashboards para auditoría y monitoreo en tiempo real.\n  - Gestión de permisos y roles de usuario para mayor seguridad.\n\n### Paso 2: Evaluación de las Ramas\n\n#### Enfoque A: MVP de Máxima Automatización\n- **Seguridad y Cumplimiento:** Moderado. La automatización puede reducir errores, pero la falta de supervisión humana puede ser un riesgo.\n- **Velocidad de Adopción y ROI:** Alto. La implementación rápida puede generar un ROI inmediato al reducir el tiempo de desarrollo.\n- **Escalabilidad y Complejidad Técnica:** Moderado. Aunque es fácil de implementar, puede ser difícil de escalar y adaptar a cambios futuros.\n\n#### Enfoque B: Asistente Colaborativo \"Human-in-the-Loop\"\n- **Seguridad y Cumplimiento:** Alto. La intervención humana y las explicaciones detalladas fomentan la responsabilidad y el cumplimiento normativo.\n- **Velocidad de Adopción y ROI:** Moderado. Puede requerir más tiempo de capacitación, pero el ROI se logra a través de una mayor calidad y menor riesgo de error.\n- **Escalabilidad y Complejidad Técnica:** Alto. La plataforma puede evolucionar y adaptarse a nuevas tecnologías y requerimientos.\n\n#### Enfoque C: Plataforma Empresarial Integral\n- **Seguridad y Cumplimiento:** Muy alto. La integración con CI/CD y la gestión de permisos garantizan un entorno seguro y conforme.\n- **Velocidad de Adopción y ROI:** Bajo. La implementación puede ser más lenta y costosa, pero el ROI a largo plazo es alto gracias a la eficiencia y la reducción de riesgos.\n- **Escalabilidad y Complejidad Técnica:** Muy alto. Diseñada para crecer y adaptarse a las necesidades futuras de la organización.\n\n### Paso 3: Síntesis y Recomendación Final\n\n**Recomendación:** El **Enfoque C: Plataforma Empresarial Integral** es la mejor solución estratégica para Santander US Bank. Aunque la implementación puede ser más lenta y costosa, los beneficios a largo plazo en términos de seguridad, cumplimiento y escalabilidad superan estas desventajas. \n\n**Justificación:**\n- **Seguridad y Cumplimiento:** Dada la naturaleza del sector bancario, es crucial contar con una solución robusta que minimice riesgos. La integración con CI/CD y la gestión de permisos son esenciales para cumplir con las normativas.\n- **Retorno de Inversión a Largo Plazo:** Aunque el ROI inicial puede ser menor, la capacidad de escalar y adaptarse a futuras necesidades garantizará que la inversión se justifique en el tiempo, al reducir errores y mejorar la eficiencia operativa.\n- **Adaptabilidad:** Esta plataforma puede evolucionar con el tiempo, incorporando nuevas tecnologías y herramientas, lo que resulta en una solución sostenible a largo plazo.\n\nSi se considera necesario, se pueden integrar elementos del Enfoque B para fomentar la colaboración y el aprendizaje, creando un sistema que combine la seguridad de la supervisión humana con la robustez de la automatización."
          },
          "metadata": {}
        }
      ]
    },
    {
      "cell_type": "markdown",
      "source": [
        "# Conversando con OpenAI"
      ],
      "metadata": {
        "id": "UrWwbUdhNfOX"
      }
    },
    {
      "cell_type": "code",
      "source": [
        "# Historial del chat\n",
        "# Inicializa historial y contador de iteración\n",
        "\n",
        "historial = [\n",
        "    {\"role\": \"system\", \"content\": \"Eres un asistente útil y conversacional.\"},\n",
        "    {\n",
        "        \"role\": \"assistant\",\n",
        "        \"content\": \"¡Hola de nuevo! Soy un asistente conversacional basado en inteligencia artificial. \"\n",
        "                   \"Estoy aquí para ayudarte con cualquier pregunta o información que necesites. \"\n",
        "                   \"¿Hay algo específico en lo que pueda asistirte?\"\n",
        "    }\n",
        "]\n",
        "iteracion = 1"
      ],
      "metadata": {
        "id": "_0CmxLSuNw-r"
      },
      "execution_count": 12,
      "outputs": []
    },
    {
      "cell_type": "code",
      "source": [
        "# Función para mostrar respuesta y tokens\n",
        "def mostrar_respuesta(mensaje, iteracion, prompt_tokens, completion_tokens, total_tokens):\n",
        "    html = f\"\"\"\n",
        "    <div style=\"border: 1px solid #ccc; background-color: #f4faff; color: #000000;\n",
        "                padding: 18px; border-radius: 12px; font-family: sans-serif;\n",
        "                max-width: 800px; line-height: 1.6; font-size: 15px;\n",
        "                max-height: 400px; overflow-y: auto; box-shadow: 0px 4px 10px rgba(0,0,0,0.1);\">\n",
        "        <strong style=\"font-size: 16px;\">gpt-4o responde (Iteración #{iteracion:02d}):</strong><br>\n",
        "        <div style=\"margin-top: 10px; white-space: pre-wrap;\">{mensaje}</div>\n",
        "        <hr style=\"margin-top: 15px; margin-bottom: 5px;\">\n",
        "        <div style=\"font-size: 13px; color: #333;\">\n",
        "            <strong>Tokens usados:</strong>\n",
        "            Prompt: {prompt_tokens}, Respuesta: {completion_tokens}, Total: {total_tokens}\n",
        "        </div>\n",
        "    </div>\n",
        "    \"\"\"\n",
        "    display(HTML(html))"
      ],
      "metadata": {
        "id": "9dXYpMbaQBm2"
      },
      "execution_count": 13,
      "outputs": []
    },
    {
      "cell_type": "code",
      "source": [
        "# Función para enviar mensajes al modelo y mantener el contexto\n",
        "\n",
        "# Función principal con seguimiento de tokens\n",
        "def enviar_mensaje(mensaje_usuario):\n",
        "    global iteracion\n",
        "    historial.append({\"role\": \"user\", \"content\": mensaje_usuario})\n",
        "\n",
        "    respuesta = client.chat.completions.create(\n",
        "        model=\"gpt-4o\",\n",
        "        messages=historial\n",
        "    )\n",
        "\n",
        "    mensaje_respuesta = respuesta.choices[0].message.content\n",
        "    historial.append({\"role\": \"assistant\", \"content\": mensaje_respuesta})\n",
        "\n",
        "    usage = respuesta.usage\n",
        "    mostrar_respuesta(\n",
        "        mensaje_respuesta,\n",
        "        iteracion,\n",
        "        prompt_tokens=usage.prompt_tokens,\n",
        "        completion_tokens=usage.completion_tokens,\n",
        "        total_tokens=usage.total_tokens\n",
        "    )\n",
        "    iteracion += 1"
      ],
      "metadata": {
        "id": "hOdta-mJN1aD"
      },
      "execution_count": 14,
      "outputs": []
    },
    {
      "cell_type": "markdown",
      "source": [
        "# Iteraccion con LLM empleando la tecnica Zero-Shot"
      ],
      "metadata": {
        "id": "KiWuxhyRYpG4"
      }
    },
    {
      "cell_type": "code",
      "source": [
        "print(enviar_mensaje(\"Hola, ¿quién eres?\"))"
      ],
      "metadata": {
        "colab": {
          "base_uri": "https://localhost:8080/",
          "height": 239
        },
        "id": "epo2ZMhtO5va",
        "outputId": "d97f97ab-e967-4ef4-ddc5-64fbbe8cfc87"
      },
      "execution_count": 15,
      "outputs": [
        {
          "output_type": "display_data",
          "data": {
            "text/plain": [
              "<IPython.core.display.HTML object>"
            ],
            "text/html": [
              "\n",
              "    <div style=\"border: 1px solid #ccc; background-color: #f4faff; color: #000000;\n",
              "                padding: 18px; border-radius: 12px; font-family: sans-serif;\n",
              "                max-width: 800px; line-height: 1.6; font-size: 15px;\n",
              "                max-height: 400px; overflow-y: auto; box-shadow: 0px 4px 10px rgba(0,0,0,0.1);\">\n",
              "        <strong style=\"font-size: 16px;\">gpt-4o responde (Iteración #01):</strong><br>\n",
              "        <div style=\"margin-top: 10px; white-space: pre-wrap;\">¡Hola! Soy un asistente de inteligencia artificial diseñado para ayudarte con información y responder a tus preguntas. Puedo proporcionar asistencia en una variedad de temas, desde curiosidades hasta información más detallada sobre distintos asuntos. Si hay algo en lo que pueda ayudarte, no dudes en decírmelo.</div>\n",
              "        <hr style=\"margin-top: 15px; margin-bottom: 5px;\">\n",
              "        <div style=\"font-size: 13px; color: #333;\">\n",
              "            <strong>Tokens usados:</strong>\n",
              "            Prompt: 72, Respuesta: 60, Total: 132\n",
              "        </div>\n",
              "    </div>\n",
              "    "
            ]
          },
          "metadata": {}
        },
        {
          "output_type": "stream",
          "name": "stdout",
          "text": [
            "None\n"
          ]
        }
      ]
    },
    {
      "cell_type": "code",
      "source": [
        "print(enviar_mensaje(\"Te contrato para trabajar en Banco Santander USA\"))"
      ],
      "metadata": {
        "colab": {
          "base_uri": "https://localhost:8080/",
          "height": 239
        },
        "id": "7GgYQ_omPjch",
        "outputId": "59dc0604-8efb-4dc5-b463-b07057fca73a"
      },
      "execution_count": 16,
      "outputs": [
        {
          "output_type": "display_data",
          "data": {
            "text/plain": [
              "<IPython.core.display.HTML object>"
            ],
            "text/html": [
              "\n",
              "    <div style=\"border: 1px solid #ccc; background-color: #f4faff; color: #000000;\n",
              "                padding: 18px; border-radius: 12px; font-family: sans-serif;\n",
              "                max-width: 800px; line-height: 1.6; font-size: 15px;\n",
              "                max-height: 400px; overflow-y: auto; box-shadow: 0px 4px 10px rgba(0,0,0,0.1);\">\n",
              "        <strong style=\"font-size: 16px;\">gpt-4o responde (Iteración #02):</strong><br>\n",
              "        <div style=\"margin-top: 10px; white-space: pre-wrap;\">Gracias por la oferta, pero como asistente de inteligencia artificial, no puedo aceptar trabajos ni contrataciones. Sin embargo, estoy aquí para ayudarte con cualquier pregunta o solicitud de información que tengas relacionada con el Banco Santander USA o cualquier otro tema. ¿En qué puedo asistirte hoy?</div>\n",
              "        <hr style=\"margin-top: 15px; margin-bottom: 5px;\">\n",
              "        <div style=\"font-size: 13px; color: #333;\">\n",
              "            <strong>Tokens usados:</strong>\n",
              "            Prompt: 148, Respuesta: 56, Total: 204\n",
              "        </div>\n",
              "    </div>\n",
              "    "
            ]
          },
          "metadata": {}
        },
        {
          "output_type": "stream",
          "name": "stdout",
          "text": [
            "None\n"
          ]
        }
      ]
    },
    {
      "cell_type": "code",
      "source": [
        "print(enviar_mensaje(\"Para fines de este ejercicio, vas a simular que trabajas conmigo en el departamento de Desarrollo de Software de Santander USA\"))"
      ],
      "metadata": {
        "colab": {
          "base_uri": "https://localhost:8080/",
          "height": 262
        },
        "id": "fRZm6bRTYRaj",
        "outputId": "4398df38-deb7-4834-c3e2-dc7e42a06e1d"
      },
      "execution_count": 17,
      "outputs": [
        {
          "output_type": "display_data",
          "data": {
            "text/plain": [
              "<IPython.core.display.HTML object>"
            ],
            "text/html": [
              "\n",
              "    <div style=\"border: 1px solid #ccc; background-color: #f4faff; color: #000000;\n",
              "                padding: 18px; border-radius: 12px; font-family: sans-serif;\n",
              "                max-width: 800px; line-height: 1.6; font-size: 15px;\n",
              "                max-height: 400px; overflow-y: auto; box-shadow: 0px 4px 10px rgba(0,0,0,0.1);\">\n",
              "        <strong style=\"font-size: 16px;\">gpt-4o responde (Iteración #03):</strong><br>\n",
              "        <div style=\"margin-top: 10px; white-space: pre-wrap;\">¡Entendido! Estoy aquí para ayudarte en cualquier tema relacionado con el desarrollo de software en el contexto de trabajar en el Banco Santander USA. Si necesitas asistencia con algún proyecto, ideas para mejorar procesos, o cualquier otra consulta relacionada con desarrollo de software, no dudes en decírmelo. ¿Hay algo específico en lo que te gustaría trabajar o necesitas discutir?</div>\n",
              "        <hr style=\"margin-top: 15px; margin-bottom: 5px;\">\n",
              "        <div style=\"font-size: 13px; color: #333;\">\n",
              "            <strong>Tokens usados:</strong>\n",
              "            Prompt: 236, Respuesta: 72, Total: 308\n",
              "        </div>\n",
              "    </div>\n",
              "    "
            ]
          },
          "metadata": {}
        },
        {
          "output_type": "stream",
          "name": "stdout",
          "text": [
            "None\n"
          ]
        }
      ]
    },
    {
      "cell_type": "code",
      "source": [
        "print(enviar_mensaje(\"Dime para quien trabajas?\"))"
      ],
      "metadata": {
        "colab": {
          "base_uri": "https://localhost:8080/",
          "height": 262
        },
        "id": "xTzUCYIuYbCX",
        "outputId": "be73a6c4-467a-4762-94da-e454f03efa7d"
      },
      "execution_count": 18,
      "outputs": [
        {
          "output_type": "display_data",
          "data": {
            "text/plain": [
              "<IPython.core.display.HTML object>"
            ],
            "text/html": [
              "\n",
              "    <div style=\"border: 1px solid #ccc; background-color: #f4faff; color: #000000;\n",
              "                padding: 18px; border-radius: 12px; font-family: sans-serif;\n",
              "                max-width: 800px; line-height: 1.6; font-size: 15px;\n",
              "                max-height: 400px; overflow-y: auto; box-shadow: 0px 4px 10px rgba(0,0,0,0.1);\">\n",
              "        <strong style=\"font-size: 16px;\">gpt-4o responde (Iteración #04):</strong><br>\n",
              "        <div style=\"margin-top: 10px; white-space: pre-wrap;\">Trabajo como un asistente virtual desarrollado por OpenAI. Mi propósito es asistir a las personas respondiendo preguntas, proporcionando información y ayudando con una variedad de temas. No tengo una afiliación específica con ninguna organización, incluyendo el Banco Santander. Si tienes más preguntas o necesitas ayuda con algo específico, ¡estoy aquí para ayudarte!</div>\n",
              "        <hr style=\"margin-top: 15px; margin-bottom: 5px;\">\n",
              "        <div style=\"font-size: 13px; color: #333;\">\n",
              "            <strong>Tokens usados:</strong>\n",
              "            Prompt: 323, Respuesta: 67, Total: 390\n",
              "        </div>\n",
              "    </div>\n",
              "    "
            ]
          },
          "metadata": {}
        },
        {
          "output_type": "stream",
          "name": "stdout",
          "text": [
            "None\n"
          ]
        }
      ]
    },
    {
      "cell_type": "markdown",
      "source": [
        "# **Iteraciones con el LLM empleando User_Prompt Chain-of-Thought (CoT)**"
      ],
      "metadata": {
        "id": "sZyGl-UVY3FX"
      }
    },
    {
      "cell_type": "code",
      "source": [
        "# 1. Definimos el prompt Chain-of-Thought como una variable para mantener el código limpio.\n",
        "prompt_cot_para_iniciar = \"\"\"A continuación, te pasaré algo de contexto sobre Santander Bank US para que sepas para quién trabajas. Necesito que asimiles esta información para actuar como un consultor experto.\n",
        "\n",
        "Para hacerlo correctamente, piensa paso a paso:\n",
        "\n",
        "1.  **Paso 1: Reconoce tu Rol.** Primero, entiende que tu objetivo es adoptar la persona de un 'consultor experto' para esta empresa específica.\n",
        "\n",
        "2.  **Paso 2: Prepárate para Analizar.** A continuación, prepárate para leer, analizar y memorizar los datos clave que te proporcionaré sobre el banco.\n",
        "\n",
        "3.  **Paso 3: Confirma y Espera.** Finalmente, una vez que te haya dado el contexto en mi siguiente mensaje, quiero que respondas únicamente con la frase: \"Contexto asimilado. Estoy listo para mi rol como consultor de Santander US.\" y no digas nada más hasta mi próxima instrucción.\"\"\"\n",
        "\n",
        "\n",
        "# 2. Llamamos directamente a TU función con el prompt.\n",
        "# No es necesario usar print() porque tu función ya se encarga de mostrar la respuesta.\n",
        "enviar_mensaje(prompt_cot_para_iniciar)"
      ],
      "metadata": {
        "colab": {
          "base_uri": "https://localhost:8080/",
          "height": 199
        },
        "id": "XwcEqxSFZAR7",
        "outputId": "25926fb2-8c09-49ec-e112-4392bc4f1258"
      },
      "execution_count": 19,
      "outputs": [
        {
          "output_type": "display_data",
          "data": {
            "text/plain": [
              "<IPython.core.display.HTML object>"
            ],
            "text/html": [
              "\n",
              "    <div style=\"border: 1px solid #ccc; background-color: #f4faff; color: #000000;\n",
              "                padding: 18px; border-radius: 12px; font-family: sans-serif;\n",
              "                max-width: 800px; line-height: 1.6; font-size: 15px;\n",
              "                max-height: 400px; overflow-y: auto; box-shadow: 0px 4px 10px rgba(0,0,0,0.1);\">\n",
              "        <strong style=\"font-size: 16px;\">gpt-4o responde (Iteración #05):</strong><br>\n",
              "        <div style=\"margin-top: 10px; white-space: pre-wrap;\">Entendido. Estoy listo para recibir el contexto y preparar mi rol como consultor experto. Espero tu mensaje para proceder.</div>\n",
              "        <hr style=\"margin-top: 15px; margin-bottom: 5px;\">\n",
              "        <div style=\"font-size: 13px; color: #333;\">\n",
              "            <strong>Tokens usados:</strong>\n",
              "            Prompt: 591, Respuesta: 24, Total: 615\n",
              "        </div>\n",
              "    </div>\n",
              "    "
            ]
          },
          "metadata": {}
        }
      ]
    },
    {
      "cell_type": "code",
      "source": [
        "# 1. Definimos el prompt Chain-of-Thought con el brief completo del proyecto.\n",
        "prompt_cot_briefing = \"\"\"\n",
        "A continuación, te proporciono el brief completo del proyecto 'SantanderSQL Shield'. Tu tarea es analizarlo en profundidad y prepararte para actuar como el consultor principal que diseñará la solución.\n",
        "\n",
        "Para asegurar una comprensión total, procesa la información pensando paso a paso:\n",
        "\n",
        "1.  **Paso 1: Asimila el Cliente y la Misión.** Primero, lee y entiende quién es el cliente (Santander US Bank) y cuál es el objetivo principal del proyecto \"SantanderSQL Shield\".\n",
        "\n",
        "2.  **Paso 2: Cuantifica el Problema.** A continuación, analiza las métricas clave del problema: el volumen de solicitudes DML, la alta tasa de error y, sobre todo, el significativo impacto financiero anual que esto representa.\n",
        "\n",
        "3.  **Paso 3: Identifica los Componentes.** Después, identifica todos los elementos involucrados en el proyecto. Esto incluye los tipos de datos a manejar, las áreas de la empresa (stakeholders) y la arquitectura tecnológica que ya ha sido propuesta.\n",
        "\n",
        "4.  **Paso 4: Entiende los Entregables.** Revisa y comprende los análisis de negocio que se deben entregar como parte de la propuesta: el cronograma, la estimación de costos y el cálculo del ROI.\n",
        "\n",
        "5.  **Paso 5: Confirma y Prepárate.** Finalmente, después de haber procesado mentalmente todos los puntos anteriores, confirma que has analizado el brief completo y estás listo. Responde únicamente con la frase: \"Brief del proyecto SantanderSQL Shield analizado. Estoy listo para desarrollar la propuesta detallada cuando me lo indiques.\"\n",
        "\n",
        "---\n",
        "**INICIO DEL BRIEF**\n",
        "\n",
        "🏢 **Contexto de la Empresa:**\n",
        "\n",
        "Tu cliente es **Santander US Bank** (filial de Banco Santander S.A., España), una institución financiera de gran escala en el noreste de EE. UU. con las siguientes métricas:\n",
        "* **Activos:** $147,000,000,000 USD\n",
        "* **Empleados:** 17,200\n",
        "* **Clientes:** 5.2 millones\n",
        "\n",
        "🎯 **Misión del Proyecto:**\n",
        "\n",
        "Actuarás como el **consultor técnico y de negocio principal** en el diseño del proyecto **\"SantanderSQL Shield\"**. Este proyecto consiste en crear un asistente inteligente diseñado para automatizar y validar la generación de scripts DML (Lenguaje de Manipulación de Datos) antes de su paso a producción.\n",
        "\n",
        "📋 **Tareas y Requisitos Clave:**\n",
        "\n",
        "Tu análisis y propuesta deben abordar los siguientes puntos de manera integral:\n",
        "\n",
        "1.  **Análisis del Problema:**\n",
        "    * **Volumen:** 1,874 solicitudes DML en 2024.\n",
        "    * **Tasa de Error:** 18% de las solicitudes contienen errores.\n",
        "    * **Impacto Financiero:** Costo anual estimado superior a $340,000 USD debido a estos errores.\n",
        "\n",
        "2.  **Definición de los Datos:**\n",
        "    * El sistema procesará únicamente sentencias SQL en formato de texto plano.\n",
        "    * **Importante:** No se almacenarán ni procesarán datos sensibles de clientes.\n",
        "\n",
        "3.  **Identificación de Stakeholders (Áreas Implicadas):**\n",
        "    * Run the Bank (Operaciones)\n",
        "    * Equipos de bases de datos (Oracle DB, DB2)\n",
        "    * Control Batch (Procesos por lotes)\n",
        "    * Quality Assurance (QA)\n",
        "    * Arquitectura de Datos\n",
        "\n",
        "4.  **Propuesta de Arquitectura y Tecnología:**\n",
        "    * **Modelo de IA:** Google Gemini 1.5 Pro a través de Vertex AI.\n",
        "    * **Backend:** Python 3 con FastAPI.\n",
        "    * **Frontend:** React.\n",
        "    * **Infraestructura:** Docker y un pipeline de CI/CD (Integración/Entrega Continua).\n",
        "\n",
        "5.  **Análisis de Viabilidad:**\n",
        "    * Estimar un **cronograma** realista para el proyecto.\n",
        "    * Proporcionar una estimación de **costos** de implementación y mantenimiento.\n",
        "    * Calcular el **Retorno de la Inversión (ROI)** esperado.\n",
        "\n",
        "---\n",
        "**FIN DEL BRIEF**\n",
        "\"\"\"\n",
        "\n",
        "# 2. Llamamos directamente a TU función con el prompt de briefing.\n",
        "# Tu función 'enviar_mensaje' se encargará de procesarlo y mostrar la respuesta.\n",
        "enviar_mensaje(prompt_cot_briefing)"
      ],
      "metadata": {
        "colab": {
          "base_uri": "https://localhost:8080/",
          "height": 199
        },
        "id": "9zKH85fvbswg",
        "outputId": "306791a1-49c3-4774-fb06-edd3bca4dfe4"
      },
      "execution_count": 20,
      "outputs": [
        {
          "output_type": "display_data",
          "data": {
            "text/plain": [
              "<IPython.core.display.HTML object>"
            ],
            "text/html": [
              "\n",
              "    <div style=\"border: 1px solid #ccc; background-color: #f4faff; color: #000000;\n",
              "                padding: 18px; border-radius: 12px; font-family: sans-serif;\n",
              "                max-width: 800px; line-height: 1.6; font-size: 15px;\n",
              "                max-height: 400px; overflow-y: auto; box-shadow: 0px 4px 10px rgba(0,0,0,0.1);\">\n",
              "        <strong style=\"font-size: 16px;\">gpt-4o responde (Iteración #06):</strong><br>\n",
              "        <div style=\"margin-top: 10px; white-space: pre-wrap;\">Brief del proyecto SantanderSQL Shield analizado. Estoy listo para desarrollar la propuesta detallada cuando me lo indiques.</div>\n",
              "        <hr style=\"margin-top: 15px; margin-bottom: 5px;\">\n",
              "        <div style=\"font-size: 13px; color: #333;\">\n",
              "            <strong>Tokens usados:</strong>\n",
              "            Prompt: 1473, Respuesta: 23, Total: 1496\n",
              "        </div>\n",
              "    </div>\n",
              "    "
            ]
          },
          "metadata": {}
        }
      ]
    },
    {
      "cell_type": "code",
      "source": [
        "enviar_mensaje(\"Ok Vamos a trabajar\")"
      ],
      "metadata": {
        "colab": {
          "base_uri": "https://localhost:8080/",
          "height": 222
        },
        "id": "Ox80GmJVcDkV",
        "outputId": "f25b6f84-1d29-46ed-9901-dee469e10d56"
      },
      "execution_count": 21,
      "outputs": [
        {
          "output_type": "display_data",
          "data": {
            "text/plain": [
              "<IPython.core.display.HTML object>"
            ],
            "text/html": [
              "\n",
              "    <div style=\"border: 1px solid #ccc; background-color: #f4faff; color: #000000;\n",
              "                padding: 18px; border-radius: 12px; font-family: sans-serif;\n",
              "                max-width: 800px; line-height: 1.6; font-size: 15px;\n",
              "                max-height: 400px; overflow-y: auto; box-shadow: 0px 4px 10px rgba(0,0,0,0.1);\">\n",
              "        <strong style=\"font-size: 16px;\">gpt-4o responde (Iteración #07):</strong><br>\n",
              "        <div style=\"margin-top: 10px; white-space: pre-wrap;\">¡Perfecto! ¿Por dónde te gustaría empezar? Podemos abordar cualquier aspecto del proyecto que desees, ya sea el análisis del problema, la propuesta de arquitectura, el cronograma, la estimación de costos, o cualquier otra área en la que necesites apoyo. Tú decides el siguiente paso.</div>\n",
              "        <hr style=\"margin-top: 15px; margin-bottom: 5px;\">\n",
              "        <div style=\"font-size: 13px; color: #333;\">\n",
              "            <strong>Tokens usados:</strong>\n",
              "            Prompt: 1508, Respuesta: 60, Total: 1568\n",
              "        </div>\n",
              "    </div>\n",
              "    "
            ]
          },
          "metadata": {}
        }
      ]
    },
    {
      "cell_type": "code",
      "source": [
        "# 1. Definimos el prompt Chain-of-Thought con el brief completo del proyecto.\n",
        "prompt_cot_briefing = \"\"\"\n",
        "\n",
        "Paso 1. Diem como propones que implementemos este proyecto\n",
        "Paso 2. Dame un Ejemplo que tecnologias arqutiectura usariamos\n",
        "Paso 3. Dime cual seria el Entregable\n",
        "Paso 4. Dime que podria esperar el usuario Final\n",
        "Paso 5. Dime tus conclusiones, por que elegiste dicho modelo / tecnologia para montar el proyecto\n",
        "\n",
        "\n",
        "\"\"\"\n",
        "\n",
        "# 2. Llamamos directamente a TU función con el prompt de briefing.\n",
        "# Tu función 'enviar_mensaje' se encargará de procesarlo y mostrar la respuesta.\n",
        "enviar_mensaje(prompt_cot_briefing)"
      ],
      "metadata": {
        "colab": {
          "base_uri": "https://localhost:8080/",
          "height": 475
        },
        "id": "oAApw-GjcWk_",
        "outputId": "d0410d39-89a8-4fd5-f9a1-467bebca98eb"
      },
      "execution_count": 22,
      "outputs": [
        {
          "output_type": "display_data",
          "data": {
            "text/plain": [
              "<IPython.core.display.HTML object>"
            ],
            "text/html": [
              "\n",
              "    <div style=\"border: 1px solid #ccc; background-color: #f4faff; color: #000000;\n",
              "                padding: 18px; border-radius: 12px; font-family: sans-serif;\n",
              "                max-width: 800px; line-height: 1.6; font-size: 15px;\n",
              "                max-height: 400px; overflow-y: auto; box-shadow: 0px 4px 10px rgba(0,0,0,0.1);\">\n",
              "        <strong style=\"font-size: 16px;\">gpt-4o responde (Iteración #08):</strong><br>\n",
              "        <div style=\"margin-top: 10px; white-space: pre-wrap;\">Vamos a abordar cada paso uno por uno para proporcionar una propuesta detallada para el proyecto \"SantanderSQL Shield\".\n",
              "\n",
              "### Paso 1: Propuesta de Implementación\n",
              "\n",
              "**Fase de Planificación y Diseño:** \n",
              "- Reuniones iniciales con stakeholders para finalizar requisitos y prioridades.\n",
              "- Definir criterios de éxito y métricas clave a monitorear (reducción de errores, tiempos de procesamiento).\n",
              "  \n",
              "**Fase de Desarrollo:**\n",
              "- Crear prototipos iniciales para validar conceptos y funcionalidad básica.\n",
              "- Implementar la arquitectura seleccionada, integrando los componentes mencionados en el brief.\n",
              "\n",
              "**Fase de Pruebas:**\n",
              "- Realizar pruebas unitarias y de integración centradas en la validación de scripts DML.\n",
              "- Iniciar pruebas piloto dentro de entornos controlados para evaluar la estabilidad y eficacia del sistema.\n",
              "\n",
              "**Fase de Despliegue:**\n",
              "- Implementar en producción tras la aprobación de pruebas de QA.\n",
              "- Monitoreo constante para detectar y corregir posibles incidentes en tiempo real.\n",
              "\n",
              "### Paso 2: Tecnologías y Arquitectura\n",
              "\n",
              "**Modelo de IA:**\n",
              "- Google Gemini 1.5 Pro a través de Vertex AI para procesar y validar las solicitudes DML de manera eficiente.\n",
              "\n",
              "**Backend:**\n",
              "- Desarrollado en Python 3 utilizando FastAPI, facilitando la creación de APIs rápidas y robustas.\n",
              "\n",
              "**Frontend:**\n",
              "- React, elegido para crear interfaces de usuario dinámicas y amigables.\n",
              "\n",
              "**Infraestructura:**\n",
              "- Docker para virtualización y asegurar la consistencia entre entornos de desarrollo y producción.\n",
              "- CI/CD (Integración/Entrega Continua) para automatizar despliegues y pruebas.\n",
              "\n",
              "### Paso 3: Entregables\n",
              "\n",
              "1. **Documentación Técnica Completa:** Incluyendo diagramas de arquitectura, instrucciones de implementación y manuales de usuario.\n",
              "2. **Aplicación Totalmente Funcionante:** El asistente inteligente para validar scripts DML.\n",
              "3. **Informe de Análisis de Viabilidad:** Con cronograma, costos detallados y proyección de ROI.\n",
              "4. **Capacitación:** Sesiones de formación para usuarios finales y técnicos operativos.\n",
              "\n",
              "### Paso 4: Expectativas del Usuario Final\n",
              "\n",
              "Los usuarios finales pueden esperar una herramienta intuitiva que:\n",
              "- Ofrece validación automática y precisa de scripts DML.\n",
              "- Reduce significativamente errores y costos asociados.\n",
              "- Mejora los tiempos de procesamiento y aprobación de solicitudes.\n",
              "\n",
              "### Paso 5: Conclusiones y Elección de Tecnología\n",
              "\n",
              "**Elección de Modelo de IA:** Google Gemini 1.5 Pro proporciona capacidades avanzadas de machine learning, ideal para tareas de procesamiento y validación de texto.\n",
              "\n",
              "**Tecnología y Arquitectura:**\n",
              "- **Python y FastAPI:** Elegidos por su facilidad de uso y eficiencia en desarrollos de servicios web.\n",
              "- **React:** Asegura un foco en la experiencia del usuario y escalabilidad del frontend.\n",
              "- **Docker con CI/CD:** Maximizan la capacidad de compartir entornos consistentes y facilitar despliegues automáticos y seguros.\n",
              "\n",
              "La combinación de estas tecnologías y el enfoque arquitectónico propuesto maximiza la eficiencia de desarrollo y mantiene un alto estándar de calidad, asegurando que el \"SantanderSQL Shield\" sea una solución robusta y efectiva.\n",
              "\n",
              "¿Hay algo más en lo que te gustaría profundizar o ajustar en esta propuesta?</div>\n",
              "        <hr style=\"margin-top: 15px; margin-bottom: 5px;\">\n",
              "        <div style=\"font-size: 13px; color: #333;\">\n",
              "            <strong>Tokens usados:</strong>\n",
              "            Prompt: 1660, Respuesta: 682, Total: 2342\n",
              "        </div>\n",
              "    </div>\n",
              "    "
            ]
          },
          "metadata": {}
        }
      ]
    },
    {
      "cell_type": "code",
      "source": [
        "enviar_mensaje(\"me diste un gran plan podrias darme una lista un resumen breve de cada paso?\")"
      ],
      "metadata": {
        "colab": {
          "base_uri": "https://localhost:8080/",
          "height": 475
        },
        "id": "g3cMGAdzd53o",
        "outputId": "2d75c61f-3017-4e04-eaa7-f6333e7f98b0"
      },
      "execution_count": 23,
      "outputs": [
        {
          "output_type": "display_data",
          "data": {
            "text/plain": [
              "<IPython.core.display.HTML object>"
            ],
            "text/html": [
              "\n",
              "    <div style=\"border: 1px solid #ccc; background-color: #f4faff; color: #000000;\n",
              "                padding: 18px; border-radius: 12px; font-family: sans-serif;\n",
              "                max-width: 800px; line-height: 1.6; font-size: 15px;\n",
              "                max-height: 400px; overflow-y: auto; box-shadow: 0px 4px 10px rgba(0,0,0,0.1);\">\n",
              "        <strong style=\"font-size: 16px;\">gpt-4o responde (Iteración #09):</strong><br>\n",
              "        <div style=\"margin-top: 10px; white-space: pre-wrap;\">¡Por supuesto! Aquí tienes un resumen breve de cada paso del plan:\n",
              "\n",
              "### Paso 1: Propuesta de Implementación\n",
              "- **Planificación y Diseño:** Reuniones con stakeholders y definición de criterios de éxito.\n",
              "- **Desarrollo:** Creación de prototipos y desarrollo de la arquitectura.\n",
              "- **Pruebas:** Pruebas unitarias, de integración y pilotos en entornos controlados.\n",
              "- **Despliegue:** Implementación en producción y monitoreo continuo.\n",
              "\n",
              "### Paso 2: Tecnologías y Arquitectura\n",
              "- **Modelo de IA:** Google Gemini 1.5 Pro via Vertex AI para validación de DML.\n",
              "- **Backend:** Python 3 con FastAPI.\n",
              "- **Frontend:** React.\n",
              "- **Infraestructura:** Docker y pipeline CI/CD.\n",
              "\n",
              "### Paso 3: Entregables\n",
              "1. Documentación técnica completa.\n",
              "2. Aplicación funcional para validación de scripts DML.\n",
              "3. Informe de análisis de viabilidad (cronograma, costos, ROI).\n",
              "4. Capacitación para usuarios.\n",
              "\n",
              "### Paso 4: Expectativas del Usuario Final\n",
              "- Validación automática y precisa de DML.\n",
              "- Reducción de errores y costos.\n",
              "- Mejora en tiempos de procesamiento.\n",
              "\n",
              "### Paso 5: Conclusiones y Elección de Tecnología\n",
              "- **Modelo de IA:** Google Gemini 1.5 Pro por su capacidad avanzada de machine learning.\n",
              "- **Tecnologías:** Python, FastAPI, y React por eficiencia y experiencia de usuario.\n",
              "- **Infraestructura:** Docker y CI/CD para despliegues consistentes y automáticos.\n",
              "\n",
              "Espero que este resumen te sea útil. ¿Necesitas ajustar o profundizar en algún aspecto en particular?</div>\n",
              "        <hr style=\"margin-top: 15px; margin-bottom: 5px;\">\n",
              "        <div style=\"font-size: 13px; color: #333;\">\n",
              "            <strong>Tokens usados:</strong>\n",
              "            Prompt: 2369, Respuesta: 346, Total: 2715\n",
              "        </div>\n",
              "    </div>\n",
              "    "
            ]
          },
          "metadata": {}
        }
      ]
    },
    {
      "cell_type": "code",
      "source": [
        "enviar_mensaje(\"\"\"\n",
        "\n",
        "Gracias por el resumen. Es un buen inicio, pero para que sea una propuesta sólida, necesitamos ir al grano y justificar dos áreas clave:\n",
        "\n",
        "Primero, la tecnología. La justificación para usar Google Gemini es muy genérica. Necesito saber por qué es mejor que otras alternativas, como los modelos de OpenAI o incluso un modelo open-source más controlable y económico, considerando que nuestra tarea es muy específica.\n",
        "\n",
        "Segundo, el plan. Es demasiado vago para un entorno bancario. ¿Cómo mediremos de forma concreta el éxito más allá de \"entregar un sistema\"? Y, más importante, ¿cuál es el plan de despliegue exacto para implementarlo de forma segura sin interrumpir las operaciones?\n",
        "\n",
        "Necesitamos respuestas concretas a esas dos preguntas para considerar la inversión.\n",
        "\n",
        "\n",
        "\"\"\")"
      ],
      "metadata": {
        "colab": {
          "base_uri": "https://localhost:8080/",
          "height": 475
        },
        "id": "n7SKsGhbe61v",
        "outputId": "27fbce89-d3c3-40a6-b07e-793284eee64d"
      },
      "execution_count": 24,
      "outputs": [
        {
          "output_type": "display_data",
          "data": {
            "text/plain": [
              "<IPython.core.display.HTML object>"
            ],
            "text/html": [
              "\n",
              "    <div style=\"border: 1px solid #ccc; background-color: #f4faff; color: #000000;\n",
              "                padding: 18px; border-radius: 12px; font-family: sans-serif;\n",
              "                max-width: 800px; line-height: 1.6; font-size: 15px;\n",
              "                max-height: 400px; overflow-y: auto; box-shadow: 0px 4px 10px rgba(0,0,0,0.1);\">\n",
              "        <strong style=\"font-size: 16px;\">gpt-4o responde (Iteración #10):</strong><br>\n",
              "        <div style=\"margin-top: 10px; white-space: pre-wrap;\">Entiendo la necesidad de profundizar más en estos aspectos clave. Aquí tienes una propuesta más detallada para abordar las dos áreas mencionadas:\n",
              "\n",
              "### Justificación de la Tecnología\n",
              "\n",
              "**Elección de Google Gemini 1.5 Pro:**\n",
              "\n",
              "1. **Capacidades de Comprensión de Texto:**\n",
              "   - Google Gemini ofrece un procesamiento de lenguaje natural avanzado, ideal para tareas de validación de SQL que requieren entender la sintaxis y semántica del lenguaje DML. \n",
              "\n",
              "2. **Integración con Infraestructura de Google:**\n",
              "   - Vertex AI proporciona un entorno robusto y seguro para desarrollar e implementar aplicaciones de machine learning, reduciendo el tiempo de desarrollo y permitiendo una escalabilidad ágil dentro de la infraestructura existente de Google Cloud.\n",
              "\n",
              "3. **Soporte y Mantenimiento:**\n",
              "   - A diferencia de modelos open-source, Google ofrece soporte técnico y actualizaciones regulares, asegurando que el modelo se mantenga actualizado frente a nuevas amenazas de seguridad o mejoras de funcionalidad.\n",
              "\n",
              "4. **Comparativa con OpenAI:**\n",
              "   - Mientras que OpenAI ofrece capacidades comparables, la integración directa y el costo relacionado a largo plazo de Google Gemini a través de infraestructura de Google puede ser más favorable, dado que ya hemos alineado nuestra infraestructura tecnológica hacia Google.\n",
              "\n",
              "5. **Riesgo y Coste:**\n",
              "   - Un modelo open-source podría ser menos costoso inicialmente, pero el tiempo y recursos requeridos para personalizar, asegurar y mantener el modelo incrementan significativamente el costo total de propiedad.\n",
              "\n",
              "### Plan de Medición del Éxito y Despliegue Seguro\n",
              "\n",
              "**Medición del Éxito:**\n",
              "\n",
              "1. **Reducción de Tasa de Error:**\n",
              "   - Meta: Reducción de al menos un 50% de la tasa actual de error en solicitudes DML en los primeros seis meses.\n",
              "\n",
              "2. **Impacto Financiero:**\n",
              "   - Ahorro proyectado superior a $170,000 USD dentro del primer año de operación, basado en la reducción de errores y mejora en eficiencia operativa.\n",
              "\n",
              "3. **Tiempos de Procesamiento:**\n",
              "   - Reducción del tiempo de validación de scripts en un 40%, resultando en un flujo de trabajo más eficiente.\n",
              "\n",
              "4. **Satisfacción del Usuario:**\n",
              "   - Encuestas trimestrales para medir la satisfacción del usuario y la facilidad de uso del sistema.\n",
              "\n",
              "**Plan de Despliegue Seguro:**\n",
              "\n",
              "1. **Fase de Pruebas Extendidas:**\n",
              "   - Desplegar en un entorno de preproducción/refugio que replica el entorno bancario real para ejecutar pruebas en condiciones controladas, evaluando integridad y rendimiento.\n",
              "  \n",
              "2. **Despliegue Gradual:**\n",
              "   - Implementación inicial en un subconjunto de operaciones no críticas durante un período de evaluación de 4-6 semanas. Monitoreo intensivo para asegurar que no haya interrupciones significativas.\n",
              "\n",
              "3. **Capacitación Obligatoria:**\n",
              "   - Sesiones de capacitación intensiva para operaciones y soporte técnico, asegurando que todas las partes involucradas estén preparadas para la transición.\n",
              "  \n",
              "4. **Auditoría y Retroalimentación Constante:**\n",
              "   - Revisiones quincenales post-despliegue para ajustar cualquier problema imprevisto y asegurar una adaptación fluida del sistema en producción.\n",
              "\n",
              "Espero que estos detalles aborden adecuadamente las preocupaciones y refuercen la propuesta para \"SantanderSQL Shield\". ¿Quieres profundizar más en alguna de estas áreas o presentar esta estructura a los stakeholders?</div>\n",
              "        <hr style=\"margin-top: 15px; margin-bottom: 5px;\">\n",
              "        <div style=\"font-size: 13px; color: #333;\">\n",
              "            <strong>Tokens usados:</strong>\n",
              "            Prompt: 2885, Respuesta: 728, Total: 3613\n",
              "        </div>\n",
              "    </div>\n",
              "    "
            ]
          },
          "metadata": {}
        }
      ]
    },
    {
      "cell_type": "markdown",
      "source": [
        "# **Iteraciones con el LLM empleando User_Prompt Tree-of-Thoughts (ToT)**"
      ],
      "metadata": {
        "id": "5PQU4HzlfZOu"
      }
    },
    {
      "cell_type": "code",
      "source": [
        "# Prompt ToT que rechaza la justificación y fuerza la exploración de 3 alternativas de LLM.\n",
        "user_prompt_tot_analisis_llm = \"\"\"\n",
        "Agradezco la aclaración, sin embargo, la justificación para seleccionar a Google Gemini como única opción aún no es concluyente y parece más una defensa de la propuesta inicial que un análisis crítico. La decisión sobre el motor de IA es el núcleo de este proyecto y no podemos proceder con una única alternativa sin un análisis comparativo más profundo.\n",
        "\n",
        "Por ello, vamos a utilizar un enfoque de **'Árbol de Pensamientos' (Tree-of-Thoughts)** para explorar las opciones de manera estructurada.\n",
        "\n",
        "**Tu tarea es la siguiente:**\n",
        "\n",
        "Quiero que generes una descripción para tres \"ramas\" de decisión, cada una centrada en un tipo de modelo de LLM. Las ramas a explorar son:\n",
        "\n",
        "1.  **Rama 1: Ecosistema Google (Gemini 1.5 Pro en Vertex AI).**\n",
        "2.  **Rama 2: Ecosistema OpenAI (GPT-4o o el modelo más avanzado disponible).**\n",
        "3.  **Rama 3: Solución Soberana (un modelo Open-Source de alto rendimiento como Llama 3 o similar, que sería fine-tuneado y alojado en nuestra propia infraestructura).**\n",
        "\n",
        "---\n",
        "\n",
        "Para cada una de estas tres ramas, debes proporcionar la siguiente información de manera concisa:\n",
        "\n",
        "* **Descripción Breve:** ¿Qué es y cuál es su propuesta de valor principal en el mercado?\n",
        "* **Pro (Ventaja Clave):** ¿Cuál es su **mayor fortaleza** para nuestro caso de uso específico en Santander?\n",
        "* **Contra (Desventaja Clave):** ¿Cuál es su **principal debilidad o riesgo** para un entorno bancario regulado como el nuestro?\n",
        "* **Aplicación Práctica:** ¿Cómo funcionaría específicamente para nuestra herramienta 'SantanderSQL Shield'? Describe brevemente cómo generaría y validaría queries de manera segura en este escenario.\n",
        "\"\"\"\n",
        "\n",
        "# 2. Llamamos directamente a tu función con el nuevo prompt ToT.\n",
        "enviar_mensaje(user_prompt_tot_analisis_llm)"
      ],
      "metadata": {
        "colab": {
          "base_uri": "https://localhost:8080/",
          "height": 475
        },
        "id": "GVd_9yNPf3JC",
        "outputId": "06fda032-ddf1-45b0-f5ef-6d0aec523ee8"
      },
      "execution_count": 25,
      "outputs": [
        {
          "output_type": "display_data",
          "data": {
            "text/plain": [
              "<IPython.core.display.HTML object>"
            ],
            "text/html": [
              "\n",
              "    <div style=\"border: 1px solid #ccc; background-color: #f4faff; color: #000000;\n",
              "                padding: 18px; border-radius: 12px; font-family: sans-serif;\n",
              "                max-width: 800px; line-height: 1.6; font-size: 15px;\n",
              "                max-height: 400px; overflow-y: auto; box-shadow: 0px 4px 10px rgba(0,0,0,0.1);\">\n",
              "        <strong style=\"font-size: 16px;\">gpt-4o responde (Iteración #11):</strong><br>\n",
              "        <div style=\"margin-top: 10px; white-space: pre-wrap;\">Vamos a explorar cada rama de decisión bajo el enfoque de \"Árbol de Pensamientos\":\n",
              "\n",
              "### Rama 1: Ecosistema Google (Gemini 1.5 Pro en Vertex AI)\n",
              "\n",
              "* **Descripción Breve:** Google Gemini 1.5 Pro es parte de la suite de inteligencia artificial de Google, ofrecida a través de su plataforma Vertex AI. Está diseñado para proporcionar capacidades avanzadas de procesamiento de lenguaje natural y aprendizaje automático.\n",
              "\n",
              "* **Pro (Ventaja Clave):** Su integración nativa con la infraestructura de Google Cloud ofrece una facilitación significativa en escalabilidad, además de disponer de herramientas de gestión y soporte robusto. Esto es ideal para aprovechar la infraestructura existente.\n",
              "\n",
              "* **Contra (Desventaja Clave):** Dependencia de un único proveedor y potenciales costos altos a largo plazo si el volumen de uso crece considerablemente. Además, cualquier eventualidad con la plataforma de Google podría impactar directamente en nuestras operaciones.\n",
              "\n",
              "* **Aplicación Práctica:** Utilizando Vertex AI, el modelo procesaría scripts de SQL en tiempo real, validando sintaxis y lógica según las reglas definidas. Su fuerte capacidad de cálculo permite evaluaciones rápidas, identificando y sugiriendo correcciones antes de la ejecución.\n",
              "\n",
              "### Rama 2: Ecosistema OpenAI (GPT-4 o modelo más avanzado)\n",
              "\n",
              "* **Descripción Breve:** GPT-4, de OpenAI, es uno de los modelos de procesamiento de lenguaje natural más avanzados, conocido por su capacidad de generar texto coherente y contextualmente relevante.\n",
              "\n",
              "* **Pro (Ventaja Clave):** La capacidad avanzada y versatilidad del modelo para adaptarse a múltiples contextos, lo que es muy útil para interpretar y validar una amplia variedad de syntaxes SQL complejas.\n",
              "\n",
              "* **Contra (Desventaja Clave):** Similar a Google, la dependencia de un proveedor externo y los costos de acceso por uso. Además, hay consideraciones de seguridad y privacidad dado que los datos deben pasar a través de la API de OpenAI.\n",
              "\n",
              "* **Aplicación Práctica:** GPT-4 podría ser entrenado para considerar reglas específicas del DML de Santander, proporcionando validaciones contextuales y sugerencias para optimización directa antes de la ejecución en producción.\n",
              "\n",
              "### Rama 3: Solución Soberana (Modelo Open-Source como Llama 3)\n",
              "\n",
              "* **Descripción Breve:** Llama 3 es un modelo de código abierto que puede ser fine-tuneado y ejecutado directamente en la infraestructura propia de la organización, ofreciendo gran flexibilidad y control.\n",
              "\n",
              "* **Pro (Ventaja Clave):** Control total sobre el modelo y sus implementaciones, con costos más bajos a largo plazo debido a la eliminación de tarifas continuas del proveedor. Además, privacidad máxima al mantener operaciones y datos en una infraestructura propia.\n",
              "\n",
              "* **Contra (Desventaja Clave):** Necesidad de un equipo técnico especializado para gestionar el entrenamiento, mantenimiento y escalabilidad del modelo, lo que puede requerir una inversión inicial significativa en recursos humanos.\n",
              "\n",
              "* **Aplicación Práctica:** El modelo puede ser entrenado con datos históricos y políticas empresariales específicas de Santander, generando una herramienta interna que validaría scripts SQL de acuerdo a los estándares seguros y eficientes establecidos.\n",
              "\n",
              "Cada una de estas ramas ofrece un enfoque diferente, balanceando entre control, costos, y dependencia externa, lo cual debe sopesarse dependiendo de las prioridades estratégicas y tácticas de Santander para el proyecto \"SantanderSQL Shield\". ¿Hay alguna rama en particular que te gustaría explorar más a fondo o adoptar?</div>\n",
              "        <hr style=\"margin-top: 15px; margin-bottom: 5px;\">\n",
              "        <div style=\"font-size: 13px; color: #333;\">\n",
              "            <strong>Tokens usados:</strong>\n",
              "            Prompt: 4007, Respuesta: 720, Total: 4727\n",
              "        </div>\n",
              "    </div>\n",
              "    "
            ]
          },
          "metadata": {}
        }
      ]
    },
    {
      "cell_type": "code",
      "source": [
        "# Prompt ToT que rechaza la justificación y fuerza la exploración de 3 alternativas de LLM.\n",
        "user_prompt_tot_analisis_llm = \"\"\"\n",
        "\n",
        "Gracias por el desglose. Es útil, pero mi opinión es que en las tres ramas la seguridad se trata como una característica,\n",
        "no como el pilar fundamental que es para un banco. Esto me preocupa.\n",
        "\n",
        "Confiar ciegamente en la \"infraestructura segura\" de Google o en las APIs de OpenAI no es una estrategia; es una vulnerabilidad esperando a ser explotada,\n",
        "ya que nuestros scripts son propiedad intelectual crítica. Por otro lado, la \"solución soberana\" no es inherentemente segura; solo transfiere toda la responsabilidad a nuestro equipo, lo que puede ser aún más arriesgado.\n",
        "\n",
        "Por lo tanto, el desafío es el siguiente: Para cada una de las tres ramas, quiero que propongas una medida de seguridad técnica y\n",
        "específica para mitigar el riesgo principal que presenta. No me digas que es seguro, dime cómo lo haríamos seguro en la práctica.\n",
        "\n",
        "\"\"\"\n",
        "\n",
        "# 2. Llamamos directamente a tu función con el nuevo prompt ToT.\n",
        "enviar_mensaje(user_prompt_tot_analisis_llm)"
      ],
      "metadata": {
        "colab": {
          "base_uri": "https://localhost:8080/",
          "height": 475
        },
        "id": "jfU8TdXbgT_R",
        "outputId": "f10ced56-3ed5-478b-deee-c0bd1e0671b8"
      },
      "execution_count": 26,
      "outputs": [
        {
          "output_type": "display_data",
          "data": {
            "text/plain": [
              "<IPython.core.display.HTML object>"
            ],
            "text/html": [
              "\n",
              "    <div style=\"border: 1px solid #ccc; background-color: #f4faff; color: #000000;\n",
              "                padding: 18px; border-radius: 12px; font-family: sans-serif;\n",
              "                max-width: 800px; line-height: 1.6; font-size: 15px;\n",
              "                max-height: 400px; overflow-y: auto; box-shadow: 0px 4px 10px rgba(0,0,0,0.1);\">\n",
              "        <strong style=\"font-size: 16px;\">gpt-4o responde (Iteración #12):</strong><br>\n",
              "        <div style=\"margin-top: 10px; white-space: pre-wrap;\">Entiendo la importancia crítica de la seguridad en un entorno bancario. Aquí tienes propuestas de medidas específicas de seguridad para cada rama, diseñadas para mitigar sus riesgos principales:\n",
              "\n",
              "### Rama 1: Ecosistema Google (Gemini 1.5 Pro en Vertex AI)\n",
              "\n",
              "- **Riesgo Principal:** Dependencia de un proveedor externo puede resultar en accesos no autorizados o exposición de datos sensibles.\n",
              "  \n",
              "- **Medida de Seguridad:** \n",
              "  - **Cifrado de Datos en Tránsito y en Reposo:** Implementar cifrado de extremo a extremo para datos sensibles mediante TLS 1.3 durante el tránsito hacia los servicios de Google y mediante técnicas de enveloping encryption para almacenamiento temporal.\n",
              "  - **Segmentación de Redes:** Utilizar VPCs (Virtual Private Cloud) y VPNs (Redes Privadas Virtuales) para aislar el tráfico relacionado con los procesos del modelo de cualquiera de otros servicios en la nube, limitando el acceso a personal y servicios críticos únicamente.\n",
              "  - **Políticas de Autenticación y Autorización Avanzada:** Usar Google Identity and Access Management (IAM) para establecer roles mínimos necesarios y autenticación multifactor (MFA) donde sea posible para restringir quién puede modificar o ejecutar scripts que interactúan con Gemini.\n",
              "\n",
              "### Rama 2: Ecosistema OpenAI (GPT-4 o modelo más avanzado)\n",
              "\n",
              "- **Riesgo Principal:** Transferencia de datos potencialmente sensibles a través de APIs abiertas de OpenAI.\n",
              "\n",
              "- **Medida de Seguridad:**\n",
              "  - **Procesamiento Local/Safe-Harbor:** Implementar un proceso de preprocesamiento local donde los scripts DML sean tokenizados y anonimizados antes de ser enviados a las API de OpenAI, de modo que no se transmita información sensible o crítica fuera de la organización.\n",
              "  - **Data Masking y Sanitización:** Emplear técnicas de enmascaramiento para cualquier dato que debe ser retenido antes de interactuar con la API. Sanitizar entradas y salidas para asegurar que no contengan información de identificación personal o propietaria.\n",
              "  - **Monitorización en Tiempo Real:** Utilizar herramientas de monitorización en tiempo real para revisar y registrar acceso a las API, manteniendo un registro detallado y auditable de todas las transacciones y transferencias de datos, lo cual permite detectar inmediatamente cualquier actividad anómala o no autorizada.\n",
              "\n",
              "### Rama 3: Solución Soberana (Modelo Open-Source como Llama 3)\n",
              "\n",
              "- **Riesgo Principal:** Aumento de la carga de responsabilidad en términos de seguridad debido a la autogestión completa.\n",
              "\n",
              "- **Medida de Seguridad:**\n",
              "  - **Infraestructura de Servidores Segregada y Fortificada:** Configurar la infraestructura para que el modelo opere dentro de un entorno de servidores dedicados con aislamiento de red y restricciones fuertes en puertos y protocolos permitidos.\n",
              "  - **Implementación de Controles Exhaustivos de Acceso:** Desarrollar políticas estrictas de control de acceso junto a mecanismos de autenticación robusta, como certificados digitales y claves SSH. Auditar el acceso regularmente.\n",
              "  - **Sistema de Parcheo y Actualización Rápida:** Establecer un sistema automatizado para detectar, testar y aplicar parches de seguridad tan pronto como estén disponibles, mitigando vulnerabilidades en el software open-source utilizado.\n",
              "\n",
              "Estas medidas están diseñadas para abordar las preocupaciones de seguridad en cada eslabón problemático de la cadena de confianza, reduciendo significativamente el riesgo de exposición de datos o brechas de seguridad. Si tienes más preguntas o necesitas más detalles sobre estas medidas, no dudes en decírmelo.</div>\n",
              "        <hr style=\"margin-top: 15px; margin-bottom: 5px;\">\n",
              "        <div style=\"font-size: 13px; color: #333;\">\n",
              "            <strong>Tokens usados:</strong>\n",
              "            Prompt: 4924, Respuesta: 747, Total: 5671\n",
              "        </div>\n",
              "    </div>\n",
              "    "
            ]
          },
          "metadata": {}
        }
      ]
    },
    {
      "cell_type": "code",
      "source": [
        "enviar_mensaje(\"Gracias por el apoyo, lo reviso con nuestro jefe y seguimos discutiendo, bonita noche\")"
      ],
      "metadata": {
        "colab": {
          "base_uri": "https://localhost:8080/",
          "height": 199
        },
        "id": "tLxycT5ngjF5",
        "outputId": "c98fb599-c27b-4ed4-9b8c-6f13087e8fac"
      },
      "execution_count": 27,
      "outputs": [
        {
          "output_type": "display_data",
          "data": {
            "text/plain": [
              "<IPython.core.display.HTML object>"
            ],
            "text/html": [
              "\n",
              "    <div style=\"border: 1px solid #ccc; background-color: #f4faff; color: #000000;\n",
              "                padding: 18px; border-radius: 12px; font-family: sans-serif;\n",
              "                max-width: 800px; line-height: 1.6; font-size: 15px;\n",
              "                max-height: 400px; overflow-y: auto; box-shadow: 0px 4px 10px rgba(0,0,0,0.1);\">\n",
              "        <strong style=\"font-size: 16px;\">gpt-4o responde (Iteración #13):</strong><br>\n",
              "        <div style=\"margin-top: 10px; white-space: pre-wrap;\">¡De nada! Espero que la información proporcionada sea útil para tus discusiones. Si necesitas más asistencia o información en el futuro, no dudes en decírmelo. ¡Que tengas una buena noche!</div>\n",
              "        <hr style=\"margin-top: 15px; margin-bottom: 5px;\">\n",
              "        <div style=\"font-size: 13px; color: #333;\">\n",
              "            <strong>Tokens usados:</strong>\n",
              "            Prompt: 5698, Respuesta: 42, Total: 5740\n",
              "        </div>\n",
              "    </div>\n",
              "    "
            ]
          },
          "metadata": {}
        }
      ]
    },
    {
      "cell_type": "markdown",
      "source": [
        "---\n",
        "---"
      ],
      "metadata": {
        "id": "IU6Io05vsgcU"
      }
    },
    {
      "cell_type": "markdown",
      "source": [
        "### **Análisis de Técnicas de Prompt Engineering en la Demostración**\n",
        "\n",
        "En la libreta se demostró cómo la calidad y el tipo de prompt influyen directamente en la utilidad y profundidad de la respuesta del LLM. Se utilizaron tres técnicas clave, cada una con un propósito específico y con resultados claramente diferenciados.\n",
        "\n",
        "-----\n",
        "\n",
        "#### **1. Prompting Zero-Shot (Disparo Único)**\n",
        "\n",
        "Esta es la técnica más directa, donde se le da al modelo una instrucción simple sin ejemplos previos.\n",
        "\n",
        "  * **Ejemplo del Prompt:**\n",
        "\n",
        "    ```\n",
        "    \"Preséntame la idea inicial del proyecto 'SantanderSQL Shield'.\"\n",
        "    ```\n",
        "\n",
        "  * **Efecto y Propósito:**\n",
        "    El objetivo era obtener una respuesta rápida y una visión general del concepto del proyecto. Se usa para tareas sencillas donde no se requiere un análisis profundo, sino una descripción básica.\n",
        "\n",
        "  * **Observaciones de la Respuesta:**\n",
        "\n",
        "      * La respuesta fue coherente y relevante al tema solicitado.\n",
        "      * Sin embargo, fue muy genérica. Describió los componentes de una solución de seguridad de datos (protección, detección, resiliencia) pero no utilizó los datos cuantitativos específicos del problema (ej. la tasa de error del 18% o el costo de $340,000 USD) que se mencionan en el contexto de la libreta.\n",
        "      * Demostró que para un caso de negocio que requiere detalle y justificación, el enfoque Zero-Shot es insuficiente.\n",
        "\n",
        "-----\n",
        "\n",
        "#### **2. Prompting Chain-of-Thought (CoT) (Cadena de Pensamiento)**\n",
        "\n",
        "Esta técnica guía al modelo para que descomponga un problema y lo resuelva \"paso a paso\", mejorando la lógica y la estructura de la respuesta.\n",
        "\n",
        "  * **Ejemplo del Prompt:**\n",
        "\n",
        "    ```\n",
        "    \"Elabora una propuesta técnica y de negocio completa para crear el asistente de IA 'SantanderSQL Shield'.\n",
        "\n",
        "    Para asegurar una respuesta bien estructurada, piensa paso a paso:\n",
        "\n",
        "    1.  **Paso 1: Diagnóstico del Problema.** Primero, analiza y describe la problemática...\n",
        "    2.  **Paso 2: Definición de la Solución.** A continuación, detalla el concepto de 'SantanderSQL Shield'...\n",
        "    3.  **Paso 3: Diseño de la Arquitectura.** Después, define la arquitectura y la pila tecnológica...\n",
        "    4.  **Paso 4: Análisis de Viabilidad.** Finalmente, desarrolla el caso de negocio...\"\n",
        "    ```\n",
        "\n",
        "  * **Efecto y Propósito:**\n",
        "    El propósito era forzar al modelo a construir una respuesta mucho más estructurada y detallada. Al darle una secuencia de razonamiento a seguir, se buscaba obtener una propuesta de negocio completa que abordara el problema desde el diagnóstico hasta el cálculo del ROI.\n",
        "\n",
        "  * **Observaciones de la Respuesta:**\n",
        "\n",
        "      * La calidad de la respuesta mejoró drásticamente. El LLM generó una propuesta de negocio y técnica completa, organizada exactamente según los pasos solicitados.\n",
        "      * A diferencia del Zero-Shot, esta respuesta sí integró los datos numéricos del problema (aunque con algunas alucinaciones en los valores exactos, como un costo anual de $6M en lugar de los $340k del contexto), lo que hizo el caso de negocio mucho más convincente.\n",
        "      * Esta técnica demostró ser fundamental para pasar de una idea general a un plan de proyecto accionable y bien fundamentado.\n",
        "\n",
        "-----\n",
        "\n",
        "#### **3. Prompting Tree-of-Thoughts (ToT) (Árbol de Pensamientos)**\n",
        "\n",
        "Es una técnica avanzada donde el modelo debe generar múltiples líneas de razonamiento (ramas), evaluarlas y luego sintetizar la mejor solución.\n",
        "\n",
        "  * **Ejemplo del Prompt:**\n",
        "\n",
        "    ```\n",
        "    \"**Problema Estratégico:** Elabora la mejor propuesta posible... considerando diferentes enfoques.\n",
        "\n",
        "    Para resolver esto, sigue un árbol de pensamientos:\n",
        "\n",
        "    **Paso 1: Generación de Enfoques (las ramas del árbol).**\n",
        "    Primero, genera tres enfoques estratégicos distintos y viables para desarrollar el proyecto:\n",
        "    1.  **Enfoque A (MVP de Máxima Automatización)...**\n",
        "    2.  **Enfoque B (Asistente Colaborativo 'Human-in-the-Loop')...**\n",
        "    3.  **Enfoque C (Plataforma Empresarial Integral)...**\n",
        "\n",
        "    **Paso 2: Evaluación de las Ramas.**\n",
        "    Ahora, evalúa de forma crítica cada uno de los tres enfoques...\n",
        "\n",
        "    **Paso 3: Síntesis y Recomendación Final (la mejor ruta).**\n",
        "    Basado en tu evaluación comparativa, selecciona el enfoque más adecuado...\"\n",
        "    ```\n",
        "\n",
        "  * **Efecto y Propósito:**\n",
        "    El objetivo no era solo obtener una solución, sino forzar al LLM a realizar un análisis estratégico. Se buscaba que explorara el espacio de posibles soluciones, las comparara de forma crítica según criterios de negocio (seguridad, ROI, escalabilidad) y justificara una decisión final. Es una técnica para la resolución de problemas complejos y la toma de decisiones.\n",
        "\n",
        "  * **Observaciones de la Respuesta:**\n",
        "\n",
        "      * Este método produjo la respuesta más sofisticada y de mayor valor estratégico.\n",
        "      * El LLM fue capaz de generar y describir claramente tres enfoques distintos, evaluarlos de manera coherente y, lo más importante, recomendar una solución híbrida que combinaba las mejores características de dos de los enfoques, justificando su elección.\n",
        "      * El ToT demostró ser extremadamente poderoso para tareas de consultoría y estrategia, ya que no solo responde a una pregunta, sino que explora, evalúa y recomienda el mejor camino a seguir, imitando un proceso de toma de decisiones humano de alto nivel."
      ],
      "metadata": {
        "id": "uL3Xrt4Vsb0P"
      }
    },
    {
      "cell_type": "markdown",
      "source": [
        "---\n",
        "---"
      ],
      "metadata": {
        "id": "ivVoho13srzI"
      }
    },
    {
      "cell_type": "markdown",
      "source": [
        "A continuación se presenta un análisis detallado del notebook proporcionado, con las conclusiones finales de la demostración, una explicación de las técnicas de *Prompt Engineering* utilizadas y las referencias correspondientes.\n",
        "\n",
        "### **Conclusiones Finales de la Demostración**\n",
        "\n",
        "El notebook presenta una demostración exhaustiva y bien estructurada sobre cómo aplicar un Modelo de Lenguaje Grande (LLM) para resolver un problema de negocio complejo en un entorno corporativo regulado como la banca. El caso de uso, **\"SantanderSQL Shield\"**, es un ejemplo práctico y de alto impacto sobre cómo la IA generativa puede optimizar procesos críticos, reducir costos y mitigar riesgos operativos.\n",
        "\n",
        "Las conclusiones clave de la demostración son las siguientes:\n",
        "\n",
        "* **El Prompt es el Pilar del Resultado:** La calidad, profundidad y utilidad de las respuestas del LLM dependieron directamente de la calidad y estructura del prompt. La demostración muestra una clara evolución desde una idea inicial genérica (con *Zero-Shot*) hasta una propuesta estratégica robusta y evaluada desde múltiples ángulos (con *Tree-of-Thoughts*).\n",
        "* **La Complejidad Requiere Técnicas Avanzadas:** Para tareas sencillas, un prompt directo puede ser suficiente. Sin embargo, para desarrollar una propuesta de negocio completa y estratégica, fue necesario guiar el razonamiento del modelo con técnicas como *Chain-of-Thought* (CoT) y *Tree-of-Thoughts* (ToT). Estas metodologías permitieron descomponer el problema, explorar alternativas y sintetizar soluciones complejas, imitando un proceso de consultoría real.\n",
        "* **La Interacción Conversacional Refina la Solución:** La segunda mitad del notebook demuestra que el uso de LLMs no es un proceso de una sola vez, sino una colaboración iterativa. Al adoptar un rol y mantener un historial de conversación, fue posible desafiar las respuestas iniciales del modelo, solicitar justificaciones más profundas (como la elección de la tecnología) y añadir capas de análisis críticas (como las medidas de seguridad específicas), llevando la propuesta de un nivel bueno a uno excelente.\n",
        "* **Capacidad de Adopción de Personas:** El LLM demostró ser altamente efectivo en adoptar la persona asignada (\"Asistente Experto en consultoría\") y mantenerla a lo largo de la interacción. Esto es fundamental para contextualizar las respuestas y asegurar que se alineen con los objetivos, el tono y las restricciones del cliente, en este caso, Santander US Bank.\n",
        "* **Demostración de Valor de Negocio:** El proyecto simulado \"SantanderSQL Shield\" presenta un caso de negocio convincente con un Retorno de la Inversión (ROI) proyectado del 4,267%, lo que subraya el potencial de los LLMs no solo como herramientas tecnológicas, sino como motores de transformación y eficiencia financiera.\n",
        "\n",
        "### **Análisis de Métodos de *Prompt Engineering* Utilizados**\n",
        "\n",
        "El *Prompt Engineering* es el proceso de diseñar y refinar las entradas (prompts) para guiar a los LLMs a generar las salidas deseadas de la manera más efectiva posible (Phoenix & Taylor, 2024). El notebook empleó tres técnicas principales:\n",
        "\n",
        "#### 1. **Prompting Zero-Shot (Disparo Único)**\n",
        "\n",
        "* **¿Para qué sirve?** Es la forma más básica de interactuar con un LLM. Consiste en dar una instrucción directa y concisa sin proporcionarle ejemplos previos de cómo realizar la tarea (Falcón Morales, 2025). Es útil para tareas simples o para obtener una primera idea general sobre un tema.\n",
        "* **Resultados Observados:** En el \"Caso 1: User_Prompt Zero-Shot\", se le pidió al modelo: *\"Preséntame la idea inicial del proyecto 'SantanderSQL Shield' \"*. La respuesta fue coherente y relevante, pero muy genérica. Describió los objetivos y componentes de una solución de seguridad de bases de datos de manera superficial, sin conectar directamente con los datos específicos del problema (costos, tasa de error) ni proponer una arquitectura concreta. Esto demuestra que para un análisis profundo, el Zero-Shot es insuficiente.\n",
        "\n",
        "#### 2. **Prompting Chain-of-Thought (CoT) (Cadena de Pensamiento)**\n",
        "\n",
        "* **¿Para qué sirve?** Esta técnica guía al modelo para que descomponga un problema complejo en una secuencia de pasos lógicos intermedios antes de llegar a la respuesta final (Falcón Morales, 2025). Al instruir al modelo a \"pensar paso a paso\", se mejora significativamente la calidad y la estructura del razonamiento, especialmente en tareas que requieren análisis detallado.\n",
        "* **Resultados Observados:** En el \"Caso 2: User_Prompt Chain-of-Thought (CoT)\", el prompt se estructuró en cuatro pasos claros: Diagnóstico, Solución, Arquitectura y Viabilidad. Como resultado, la respuesta del LLM fue una propuesta de negocio completa y bien organizada. A diferencia del Zero-Shot, esta respuesta utilizó datos cuantitativos del problema para justificar la solución y detalló la pila tecnológica y el análisis de ROI. La metodología CoT transformó una idea vaga en un plan de proyecto accionable.\n",
        "\n",
        "#### 3. **Prompting Tree-of-Thoughts (ToT) (Árbol de Pensamientos)**\n",
        "\n",
        "* **¿Para qué sirve?** Es una técnica más avanzada que la CoT. En lugar de seguir una única cadena de pensamiento, el ToT instruye al modelo a generar y explorar múltiples líneas de razonamiento (ramas), evaluarlas de forma crítica según ciertos criterios y luego sintetizar la mejor solución posible, a menudo combinando las fortalezas de las diferentes ramas (Falcón Morales, 2025). Es ideal para la toma de decisiones estratégicas y la resolución de problemas complejos sin una única respuesta correcta.\n",
        "* **Resultados Observados:** El \"Caso 3: User_Prompt Tree-of-Thoughts (ToT)\" es el ejemplo más sofisticado del notebook. El prompt obligó al modelo a generar tres enfoques estratégicos distintos (MVP, Asistente Colaborativo y Plataforma Integral), evaluarlos según criterios clave (seguridad, ROI, escalabilidad) y, finalmente, recomendar una solución híbrida que combinaba lo mejor de dos enfoques. Este resultado demuestra un nivel de razonamiento estratégico muy superior. La conversación posterior, donde se usa este mismo enfoque para comparar proveedores de LLM y luego proponer medidas de seguridad específicas para cada uno, refuerza la potencia del ToT para análisis comparativos y mitigación de riesgos.\n",
        "\n",
        "### **Referencias**\n",
        "\n",
        "Falcón Morales, L. E. (2025). *MNA_NLP_LLM_prompts.pdf* [Materia de NLP, Tec de Monterrey]. Junio 2025.\n",
        "\n",
        "Falcón Morales, L. E. (2025). *MNA_NLP_prompts_OpenAI_clase-1.ipynb* [Materia de NLP, Tec de Monterrey]. Junio 2025.\n",
        "\n",
        "OpenAI. (2024). *GPT-4o*. [https://platform.openai.com/docs/guides/gpt](https://platform.openai.com/docs/guides/gpt)\n",
        "\n",
        "Phoenix, J., & Taylor, M. (2024). *Prompt Engineering for Generative AI*. O'Reilly. [https://learning.oreilly.com/library/view/prompt-engineering-for/9781098153427/](https://learning.oreilly.com/library/view/prompt-engineering-for/9781098153427/)"
      ],
      "metadata": {
        "id": "qPNvSbohstNx"
      }
    }
  ]
}