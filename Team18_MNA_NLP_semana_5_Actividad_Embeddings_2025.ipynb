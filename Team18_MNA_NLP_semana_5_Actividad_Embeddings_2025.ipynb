{
  "cells": [
    {
      "cell_type": "markdown",
      "metadata": {
        "id": "view-in-github",
        "colab_type": "text"
      },
      "source": [
        "<a href=\"https://colab.research.google.com/github/jrebull/NLP/blob/main/Team18_MNA_NLP_semana_5_Actividad_Embeddings_2025.ipynb\" target=\"_parent\"><img src=\"https://colab.research.google.com/assets/colab-badge.svg\" alt=\"Open In Colab\"/></a>"
      ]
    },
    {
      "cell_type": "markdown",
      "metadata": {
        "id": "6dxow3LwxDDw"
      },
      "source": [
        "# Somos el Equipo de los SIHINOS Jarcos estuvo aqui\n",
        " Arranca la aventura a Javilandia en la Jarconavegación acompañado de la Monshemagia ...esto se pondrá intenso...D:\n",
        "⏰⏰⏰⏰⏰⏰⏰⏰⏰⏰⏰⏰⏰⏰⏰⏰⏰⏰⏰\n",
        "\n",
        "# Tocando La Sihinilibreta v3\n",
        "\n",
        "Log de Cambios\n",
        "\n",
        "# 2025-Mayo-14 - Javihino 18 horas Mexico time\n",
        "# 2025-Mayo-14 - Javihino 21 horas Mexico time. -- SE ARREGLAN ENUNCIADOS\n",
        "\n",
        "# 2025-Mayo-17 - Jarcos se agrega lematizado, se genera embedding con nuevo diccionario, se arregla carga y generacion de embedding, se agrega otra vista a la matriz de confusion y entrenamiento\n"
      ]
    },
    {
      "cell_type": "markdown",
      "metadata": {
        "id": "yxy82L3P_8QV"
      },
      "source": [
        "# ✨ **Actividad 35.2: Explorando Vectores Embebidos con OpenAI** ✨\n",
        "## _Análisis Continuado de Datasets: Amazon, Yelp & IMDb - Semana 5_\n",
        "\n",
        "---\n",
        "---\n",
        "\n",
        "## 🗓️ **Información General**\n",
        "> **Fecha de Entrega:** Lunes, 19 de Mayo de 2025\n",
        ">\n",
        "> **Versión del Documento:** `v2.0`\n",
        "\n",
        "---\n",
        "---\n",
        "\n",
        "## 👥 **Autores del Proyecto**\n",
        "\n",
        "> ### 👨‍💻 **Juan Carlos Pérez Nava**\n",
        "> `A01795941`\n",
        ">\n",
        "> ### 👨‍💻 **Javier Augusto Rebull Saucedo**\n",
        "> `A01795838`\n",
        ">\n",
        "> ### 👩‍💻 **Sihiní Trinidad Sánchez**\n",
        "> `A00889358`\n",
        ">\n",
        "> ### 👩‍💻 **Iris Monserrat Urbina Casas**\n",
        "> `A01795999`\n",
        "\n",
        "---\n",
        "---\n",
        "\n",
        "## 👨‍🏫 **Supervisión Académica**\n",
        "> **Profesor Tutor:**\n",
        ">\n",
        "> Rodolfo Miguel Gameros Leal\n",
        "\n",
        "---\n",
        "---"
      ]
    },
    {
      "cell_type": "markdown",
      "metadata": {
        "id": "lNl8G3vHkPSX"
      },
      "source": [
        "# **Maestría en Inteligencia Artificial Aplicada**\n",
        "\n",
        "## Curso: **Procesamiento de Lenguaje Natural**\n",
        "\n",
        "### Tecnológico de Monterrey\n",
        "\n",
        "### Prof Luis Eduardo Falcón Morales\n",
        "\n",
        "## Adtividad Semana 5\n",
        "\n",
        "### **Vectores Embebidos de OpenAI**"
      ]
    },
    {
      "cell_type": "markdown",
      "metadata": {
        "id": "ZaY-WLX52dxq"
      },
      "source": [
        "---\n",
        "\n",
        "## Introducción\n",
        "\n",
        "En la actividad de esta semana trabajarás en equipos con el modelo de **vectores embebidos** de OpenAI.\n",
        "\n",
        "Los actuales **Modelos de Lenguaje de Gran Escala (LLM)** pueden generar vectores embebidos para cada token, palabra o enunciado que les proporciones. El coste computacional y de uso de recursos será un factor clave a la hora de elegir cuál utilizar.\n",
        "\n",
        "Una forma inicial de trabajar con estos modelos pre-entrenados es generar un **vocabulario** a partir de tu conjunto de datos de entrenamiento. Posteriormente, cada palabra de tu vocabulario se sustituye por su correspondiente vector embebido. De manera predeterminada, cuando no exista un vector para una palabra en particular, se elige el vector más cercano en **similaridad**, o bien, se puede optar por eliminar dicha palabra.\n",
        "\n",
        "Existen diversas propuestas para utilizar estos **vectores embebidos** como entrada para modelos de aprendizaje automático. Cuando se trabaja con los vectores embebidos de cada palabra/token, una forma de representar un enunciado es sustituyéndolo por el **vector promedio** de todos los vectores embebidos que lo componen.\n",
        "\n",
        "En esta actividad, vamos a comparar diferentes modelos de **aprendizaje automático** (machine learning) aplicando vectores embebidos a cada palabra, en comparación con aplicarlos directamente a los comentarios completos.\n",
        "\n",
        "\n",
        "---"
      ]
    },
    {
      "cell_type": "code",
      "execution_count": null,
      "metadata": {
        "colab": {
          "base_uri": "https://localhost:8080/"
        },
        "id": "wCL2p6MA8NuT",
        "outputId": "cd6e995e-a4f8-491e-ef67-538ee521633c"
      },
      "outputs": [
        {
          "output_type": "stream",
          "name": "stdout",
          "text": [
            "Collecting contractions\n",
            "  Downloading contractions-0.1.73-py2.py3-none-any.whl.metadata (1.2 kB)\n",
            "Collecting textsearch>=0.0.21 (from contractions)\n",
            "  Downloading textsearch-0.0.24-py2.py3-none-any.whl.metadata (1.2 kB)\n",
            "Collecting anyascii (from textsearch>=0.0.21->contractions)\n",
            "  Downloading anyascii-0.3.2-py3-none-any.whl.metadata (1.5 kB)\n",
            "Collecting pyahocorasick (from textsearch>=0.0.21->contractions)\n",
            "  Downloading pyahocorasick-2.1.0-cp311-cp311-manylinux_2_17_x86_64.manylinux2014_x86_64.whl.metadata (13 kB)\n",
            "Downloading contractions-0.1.73-py2.py3-none-any.whl (8.7 kB)\n",
            "Downloading textsearch-0.0.24-py2.py3-none-any.whl (7.6 kB)\n",
            "Downloading anyascii-0.3.2-py3-none-any.whl (289 kB)\n",
            "\u001b[2K   \u001b[90m━━━━━━━━━━━━━━━━━━━━━━━━━━━━━━━━━━━━━━━━\u001b[0m \u001b[32m289.9/289.9 kB\u001b[0m \u001b[31m5.8 MB/s\u001b[0m eta \u001b[36m0:00:00\u001b[0m\n",
            "\u001b[?25hDownloading pyahocorasick-2.1.0-cp311-cp311-manylinux_2_17_x86_64.manylinux2014_x86_64.whl (118 kB)\n",
            "\u001b[2K   \u001b[90m━━━━━━━━━━━━━━━━━━━━━━━━━━━━━━━━━━━━━━━━\u001b[0m \u001b[32m118.3/118.3 kB\u001b[0m \u001b[31m6.2 MB/s\u001b[0m eta \u001b[36m0:00:00\u001b[0m\n",
            "\u001b[?25hInstalling collected packages: pyahocorasick, anyascii, textsearch, contractions\n",
            "Successfully installed anyascii-0.3.2 contractions-0.1.73 pyahocorasick-2.1.0 textsearch-0.0.24\n"
          ]
        },
        {
          "output_type": "stream",
          "name": "stderr",
          "text": [
            "[nltk_data] Downloading package stopwords to /root/nltk_data...\n",
            "[nltk_data]   Unzipping corpora/stopwords.zip.\n",
            "[nltk_data] Downloading package wordnet to /root/nltk_data...\n",
            "[nltk_data] Downloading package punkt_tab to /root/nltk_data...\n",
            "[nltk_data]   Unzipping tokenizers/punkt_tab.zip.\n"
          ]
        },
        {
          "output_type": "stream",
          "name": "stdout",
          "text": [
            "\n",
            "\n",
            "\n",
            "📚✅ ¡Librerías cargadas y listas para la acción! 🚀\n",
            "\n",
            "\n",
            "\n"
          ]
        }
      ],
      "source": [
        "# Aquí deberás incluir todas las librerías que requieras durante esta actividad:\n",
        "\n",
        "# -------------------------------------------\n",
        "# INSTALACIÓN DE PAQUETES\n",
        "# -------------------------------------------\n",
        "!pip install contractions # Instala 'contractions' para expandir contracciones (e.g., \"don't\" -> \"do not\").\n",
        "\n",
        "# -------------------------------------------\n",
        "# MANEJO DE DATOS\n",
        "# -------------------------------------------\n",
        "import pandas as pd # Para DataFrames y manipulación de datos.\n",
        "import gdown        # Para descargar archivos desde Google Drive.\n",
        "import numpy as np  #Proporciona manejo para objetos de matrices multidimensional\n",
        "\n",
        "# -------------------------------------------\n",
        "# PROCESAMIENTO DE LENGUAJE NATURAL (NLP)\n",
        "# -------------------------------------------\n",
        "import re           # Para expresiones regulares (limpieza de texto, patrones).\n",
        "import contractions # Expande contracciones en texto (e.g., \"I'm\" -> \"I am\").\n",
        "import nltk                       # Toolkit principal para NLP.\n",
        "from nltk.corpus import stopwords # Lista de palabras vacías (a eliminar).\n",
        "from nltk.corpus import wordnet   # Para lematización avanzada, sinónimos (opcional).\n",
        "nltk.download('stopwords')        # Descarga la lista de stopwords de NLTK.\n",
        "nltk.download('wordnet')\n",
        "nltk.download('punkt_tab')\n",
        "\n",
        "from nltk.stem import WordNetLemmatizer # Herramienta para reducir palabras a su forma base (lema).\n",
        "\n",
        "# -------------------------------------------\n",
        "# UTILIDADES DE MACHINE LEARNING\n",
        "# -------------------------------------------\n",
        "from sklearn.model_selection import train_test_split # Divide datasets en entrenamiento/prueba de manera aleatoria.\n",
        "from sklearn.metrics import confusion_matrix         # Calcula la matriz de confusión para evaluar la precisión de un modelo de clasificación.\n",
        "from sklearn.linear_model import LogisticRegression  # Implementa la regresión logística, útil para problemas de clasificación binaria.\n",
        "from sklearn.ensemble import RandomForestClassifier  # Crea un clasificador basado en un conjunto de árboles de decisión.\n",
        "from sklearn.metrics import classification_report\n",
        "\n",
        "\n",
        "# -------------------------------------------\n",
        "# COLECCIONES Y UTILIDADES DE PYTHON\n",
        "# -------------------------------------------\n",
        "from collections import Counter # Cuenta la frecuencia de elementos (e.g., palabras).\n",
        "import os                       # Para interactuar con el sistema operativo (archivos/directorios).\n",
        "\n",
        "\n",
        "# -------------------------------------------\n",
        "# (Otras categorías si es necesario)\n",
        "# -------------------------------------------\n",
        "import pickle                    # Útil para guardar modelos de machine learning o embeddings generados con la API de OpenAI.\n",
        "import matplotlib.pyplot as plt  # Biblioteca de visualización para crear gráficos.\n",
        "import seaborn as sns            # Facilita la creación de gráficos estadísticos.\n",
        "from tabulate import tabulate\n",
        "\n",
        "print('\\n\\n')\n",
        "print(\"📚✅ ¡Librerías cargadas y listas para la acción! 🚀\")\n",
        "print('\\n\\n')"
      ]
    },
    {
      "cell_type": "code",
      "execution_count": null,
      "metadata": {
        "id": "d1dFbtBJElEQ"
      },
      "outputs": [],
      "source": [
        "# Incluye las celdas necesarias para tu acceso a la API de OpenAI.\n",
        "\n",
        "# -------------------------------------------\n",
        "# IMPORTACIÓN DE LIBRERÍAS Y CONFIGURACIÓN\n",
        "# -------------------------------------------\n",
        "from google.colab import userdata # Para acceder a 'secrets' (como API keys) guardados en Colab.\n",
        "from openai import OpenAI # Cliente oficial de Python para la API de OpenAI (versión más reciente).\n",
        "import openai # Importa el módulo principal de la librería OpenAI (usado en versiones anteriores o para acceso a nivel de módulo).\n",
        "import tiktoken # Librería utilizada para contar y manejar tokens de modelos de OpenAI.\n",
        "\n",
        "\n",
        "\n"
      ]
    },
    {
      "cell_type": "markdown",
      "metadata": {
        "id": "4c34ZOnna3Gu"
      },
      "source": [
        "## 1️⃣ **Pregunta - 1**\n",
        "\n",
        "### 1. **Generación del DataFrame a partir de los archivos:**\n",
        "\n",
        "1. **Descarga de los archivos:**  \n",
        "   Descarga los 3 archivos de **Canvas**:  \n",
        "   - `amazon5.txt`\n",
        "   - `imdb5.txt`\n",
        "   - `yelp5.txt`\n",
        "\n",
        "2. **Creación del DataFrame:**  \n",
        "   Genera un solo **DataFrame de Pandas** combinando los tres archivos.\n",
        "\n",
        "3. **Verificación de los registros:**  \n",
        "   Verifica que tienes **3000 registros** en el DataFrame, con sus respectivas etiquetas.  \n",
        "   En particular, el archivo de datos de IMDb ya no requiere transformación para obtener sus 1000 registros.\n",
        "\n",
        "---\n"
      ]
    },
    {
      "cell_type": "markdown",
      "metadata": {
        "id": "yeNllxRdmeWg"
      },
      "source": [
        "Descarga los 3 archivos de Canvas y genera un nuevo DataFrame de Pandas con ellos.\n",
        "\n",
        "**Llama simplemente \"df\" a dicho DataFrame.**\n",
        "\n",
        "Los archivos los encuentras en Canvas: amazon5.txt, imdb5.txt, yelp5.txt.\n",
        "\n",
        "## Rubrica - Ejercicio 01 - Cumple con lo pedido\n",
        "\n",
        "\n"
      ]
    },
    {
      "cell_type": "code",
      "execution_count": null,
      "metadata": {
        "colab": {
          "base_uri": "https://localhost:8080/"
        },
        "id": "_TfaWZ3pH27m",
        "outputId": "de2b1c0c-3c8c-46d7-ba24-84722f021d88"
      },
      "outputs": [
        {
          "output_type": "stream",
          "name": "stdout",
          "text": [
            "El directorio 'datos' ya existe.\n",
            "\n",
            "Iniciando la descarga de datos...\n",
            "Descargando Amazon (amazon5.txt)...\n"
          ]
        },
        {
          "output_type": "stream",
          "name": "stderr",
          "text": [
            "Downloading...\n",
            "From: https://drive.google.com/uc?id=1HW2IsfUBLeIHpkRsRcy4xoU1UVwL419a\n",
            "To: /content/datos/amazon5.txt\n",
            "100%|██████████| 58.2k/58.2k [00:00<00:00, 51.2MB/s]\n"
          ]
        },
        {
          "output_type": "stream",
          "name": "stdout",
          "text": [
            "Descargando IMDb (imdb5.txt)...\n"
          ]
        },
        {
          "output_type": "stream",
          "name": "stderr",
          "text": [
            "Downloading...\n",
            "From: https://drive.google.com/uc?id=1xGRzo6Epj-ix1kzJUAeMRB2iwqR3FnTc\n",
            "To: /content/datos/imdb5.txt\n",
            "100%|██████████| 86.0k/86.0k [00:00<00:00, 21.7MB/s]\n"
          ]
        },
        {
          "output_type": "stream",
          "name": "stdout",
          "text": [
            "Descargando Yelp (yelp5.txt)...\n"
          ]
        },
        {
          "output_type": "stream",
          "name": "stderr",
          "text": [
            "Downloading...\n",
            "From: https://drive.google.com/uc?id=1AJ4uy5iQPoq7Pm2ZNSr0pS8UBQqquxwj\n",
            "To: /content/datos/yelp5.txt\n",
            "100%|██████████| 61.3k/61.3k [00:00<00:00, 56.6MB/s]\n"
          ]
        },
        {
          "output_type": "stream",
          "name": "stdout",
          "text": [
            "Descargando embeddings_large (embeddings_diccionario_large.pkl)...\n"
          ]
        },
        {
          "output_type": "stream",
          "name": "stderr",
          "text": [
            "Downloading...\n",
            "From: https://drive.google.com/uc?id=1nNNItqMXkG6cjPqR2fbAXGu2-N5iwqzV\n",
            "To: /content/datos/embeddings_diccionario_large.pkl\n",
            "100%|██████████| 89.3M/89.3M [00:00<00:00, 137MB/s]\n"
          ]
        },
        {
          "output_type": "stream",
          "name": "stdout",
          "text": [
            "Descargando embeddings_p10 (embeddings_diccionario_p10.pkl)...\n"
          ]
        },
        {
          "output_type": "stream",
          "name": "stderr",
          "text": [
            "Downloading...\n",
            "From: https://drive.google.com/uc?id=18lZgJQGETcgAtD48RlPGvTdImqNBm7wL\n",
            "To: /content/datos/embeddings_diccionario_p10.pkl\n",
            "100%|██████████| 82.7M/82.7M [00:00<00:00, 85.7MB/s]\n"
          ]
        },
        {
          "output_type": "stream",
          "name": "stdout",
          "text": [
            "\n",
            "✅ Descarga de todos los archivos completada. Guardados en 'datos'.\n",
            "\n",
            "\n",
            "\n",
            "Cargando datos en DataFrames...\n",
            "\n",
            "✅ DataFrames cargados y combinados. Total de filas: 3000\n"
          ]
        }
      ],
      "source": [
        "# --- 1. Creación del Directorio de Datos ---\n",
        "output_directory = 'datos'\n",
        "if not os.path.exists(output_directory):\n",
        "    os.makedirs(output_directory, exist_ok=True) # Crea el directorio si no existe; exist_ok=True evita error si ya existe\n",
        "    print(f\"Directorio '{output_directory}' creado exitosamente.\")\n",
        "else:\n",
        "    print(f\"El directorio '{output_directory}' ya existe.\")\n",
        "\n",
        "# --- 2. Definición de URLs y Nombres de Archivos para Descarga ---\n",
        "files_to_download = [\n",
        "    {'url': 'https://drive.google.com/uc?id=1HW2IsfUBLeIHpkRsRcy4xoU1UVwL419a', 'filename': 'amazon5.txt', 'dataset_name': 'Amazon'},\n",
        "    {'url': 'https://drive.google.com/uc?id=1xGRzo6Epj-ix1kzJUAeMRB2iwqR3FnTc', 'filename': 'imdb5.txt',   'dataset_name': 'IMDb'},\n",
        "    {'url': 'https://drive.google.com/uc?id=1AJ4uy5iQPoq7Pm2ZNSr0pS8UBQqquxwj', 'filename': 'yelp5.txt',   'dataset_name': 'Yelp'},\n",
        "    {'url': 'https://drive.google.com/uc?id=1nNNItqMXkG6cjPqR2fbAXGu2-N5iwqzV', 'filename': 'embeddings_diccionario_large.pkl',   'dataset_name': 'embeddings_large'}, #text-embedding-3-large\n",
        "    {'url': 'https://drive.google.com/uc?id=18lZgJQGETcgAtD48RlPGvTdImqNBm7wL', 'filename': 'embeddings_diccionario_p10.pkl',   'dataset_name': 'embeddings_p10'} #text-embedding-3-large\n",
        "\n",
        "]\n",
        "\n",
        "\n",
        "# --- 3. Proceso de Descarga de Archivos ---\n",
        "print(\"\\nIniciando la descarga de datos...\")\n",
        "all_downloads_successful = True\n",
        "for item in files_to_download:\n",
        "    output_path = os.path.join(output_directory, item['filename'])\n",
        "    print(f\"Descargando {item['dataset_name']} ({item['filename']})...\")\n",
        "    try:\n",
        "        gdown.download(item['url'], output_path, quiet=False)\n",
        "    except Exception as e:\n",
        "        print(f\"Ocurrió un error durante la descarga de {item['filename']}: {e}\")\n",
        "        all_downloads_successful = False\n",
        "        # Podrías decidir si continuar con los otros archivos o detenerte:\n",
        "        # break # para detenerse en el primer error\n",
        "\n",
        "if all_downloads_successful:\n",
        "    print(f\"\\n✅ Descarga de todos los archivos completada. Guardados en '{output_directory}'.\")\n",
        "else:\n",
        "    print(f\"\\n⚠️ Algunos archivos no pudieron ser descargados. Revisa los mensajes de error.\")\n",
        "\n",
        "\n",
        "# --- 4. Carga de Datos en DataFrames de Pandas ---\n",
        "print(\"\\n\\n\\nCargando datos en DataFrames...\")\n",
        "try:\n",
        "    # Carga Amazon: delimitado por tabulador, sin encabezado, columnas 'review' y 'label'\n",
        "    dfa = pd.read_csv(os.path.join(output_directory, 'amazon5.txt'),\n",
        "                      sep='\\t', names=['review','label'], header=None, encoding='utf-8')\n",
        "\n",
        "    # Carga IMDb: delimitado por 2 o más espacios (regex), sin encabezado, columnas 'review' y 'label'\n",
        "    # Se usa engine='python' para separadores regex complejos y evitar warnings.\n",
        "    dfi = pd.read_csv(os.path.join(output_directory, 'imdb5.txt'),\n",
        "                      sep=' {2,}', names=['review','label'], header=None, encoding='utf-8', engine='python')\n",
        "\n",
        "    # Carga Yelp: delimitado por tabulador, sin encabezado, columnas 'review' y 'label'\n",
        "    dfy = pd.read_csv(os.path.join(output_directory, 'yelp5.txt'),\n",
        "                      sep='\\t', names=['review','label'], header=None, encoding='utf-8')\n",
        "\n",
        "    # --- 5. Combinación de DataFrames ---\n",
        "    # Concatena los DataFrames individuales en uno solo, reiniciando el índice.\n",
        "    df = pd.concat([dfa, dfi, dfy], ignore_index=True)\n",
        "    print(f\"\\n✅ DataFrames cargados y combinados. Total de filas: {len(df)}\")\n",
        "    # print(df.info()) # Descomenta para ver información del DataFrame combinado\n",
        "    # print(df.head())   # Descomenta para ver las primeras filas\n",
        "\n",
        "except FileNotFoundError as e:\n",
        "    print(f\"❌ Error al cargar archivo: {e}. Asegúrate de que los archivos se descargaron correctamente.\")\n",
        "except Exception as e:\n",
        "    print(f\"❌ Ocurrió un error inesperado durante la carga de datos: {e}\")\n",
        "\n",
        "\n",
        "# *********** Aquí termina la sección de agregar código *************"
      ]
    },
    {
      "cell_type": "code",
      "execution_count": null,
      "metadata": {
        "colab": {
          "base_uri": "https://localhost:8080/"
        },
        "id": "3-w1xMLYnm9b",
        "outputId": "1b18e6cc-c438-4d7a-bcda-310ba2b2e2b5"
      },
      "outputs": [
        {
          "output_type": "stream",
          "name": "stdout",
          "text": [
            "<class 'pandas.core.frame.DataFrame'>\n",
            "RangeIndex: 3000 entries, 0 to 2999\n",
            "Data columns (total 2 columns):\n",
            " #   Column  Non-Null Count  Dtype \n",
            "---  ------  --------------  ----- \n",
            " 0   review  3000 non-null   object\n",
            " 1   label   3000 non-null   int64 \n",
            "dtypes: int64(1), object(1)\n",
            "memory usage: 47.0+ KB\n"
          ]
        }
      ],
      "source": [
        "# Verifiquemos la información del DataFrame:\n",
        "df.info()"
      ]
    },
    {
      "cell_type": "code",
      "execution_count": null,
      "metadata": {
        "colab": {
          "base_uri": "https://localhost:8080/",
          "height": 206
        },
        "id": "NfVUcYe1nubT",
        "outputId": "d3ab31b2-99b4-48b5-9f46-9be55c76b6ba"
      },
      "outputs": [
        {
          "output_type": "execute_result",
          "data": {
            "text/plain": [
              "                                              review  label\n",
              "0  So there is no way for me to plug it in here i...      0\n",
              "1                        Good case, Excellent value.      1\n",
              "2                             Great for the jawbone.      1\n",
              "3  Tied to charger for conversations lasting more...      0\n",
              "4                                  The mic is great.      1"
            ],
            "text/html": [
              "\n",
              "  <div id=\"df-83a9f957-9167-4f30-a363-bcdb0dea69a9\" class=\"colab-df-container\">\n",
              "    <div>\n",
              "<style scoped>\n",
              "    .dataframe tbody tr th:only-of-type {\n",
              "        vertical-align: middle;\n",
              "    }\n",
              "\n",
              "    .dataframe tbody tr th {\n",
              "        vertical-align: top;\n",
              "    }\n",
              "\n",
              "    .dataframe thead th {\n",
              "        text-align: right;\n",
              "    }\n",
              "</style>\n",
              "<table border=\"1\" class=\"dataframe\">\n",
              "  <thead>\n",
              "    <tr style=\"text-align: right;\">\n",
              "      <th></th>\n",
              "      <th>review</th>\n",
              "      <th>label</th>\n",
              "    </tr>\n",
              "  </thead>\n",
              "  <tbody>\n",
              "    <tr>\n",
              "      <th>0</th>\n",
              "      <td>So there is no way for me to plug it in here i...</td>\n",
              "      <td>0</td>\n",
              "    </tr>\n",
              "    <tr>\n",
              "      <th>1</th>\n",
              "      <td>Good case, Excellent value.</td>\n",
              "      <td>1</td>\n",
              "    </tr>\n",
              "    <tr>\n",
              "      <th>2</th>\n",
              "      <td>Great for the jawbone.</td>\n",
              "      <td>1</td>\n",
              "    </tr>\n",
              "    <tr>\n",
              "      <th>3</th>\n",
              "      <td>Tied to charger for conversations lasting more...</td>\n",
              "      <td>0</td>\n",
              "    </tr>\n",
              "    <tr>\n",
              "      <th>4</th>\n",
              "      <td>The mic is great.</td>\n",
              "      <td>1</td>\n",
              "    </tr>\n",
              "  </tbody>\n",
              "</table>\n",
              "</div>\n",
              "    <div class=\"colab-df-buttons\">\n",
              "\n",
              "  <div class=\"colab-df-container\">\n",
              "    <button class=\"colab-df-convert\" onclick=\"convertToInteractive('df-83a9f957-9167-4f30-a363-bcdb0dea69a9')\"\n",
              "            title=\"Convert this dataframe to an interactive table.\"\n",
              "            style=\"display:none;\">\n",
              "\n",
              "  <svg xmlns=\"http://www.w3.org/2000/svg\" height=\"24px\" viewBox=\"0 -960 960 960\">\n",
              "    <path d=\"M120-120v-720h720v720H120Zm60-500h600v-160H180v160Zm220 220h160v-160H400v160Zm0 220h160v-160H400v160ZM180-400h160v-160H180v160Zm440 0h160v-160H620v160ZM180-180h160v-160H180v160Zm440 0h160v-160H620v160Z\"/>\n",
              "  </svg>\n",
              "    </button>\n",
              "\n",
              "  <style>\n",
              "    .colab-df-container {\n",
              "      display:flex;\n",
              "      gap: 12px;\n",
              "    }\n",
              "\n",
              "    .colab-df-convert {\n",
              "      background-color: #E8F0FE;\n",
              "      border: none;\n",
              "      border-radius: 50%;\n",
              "      cursor: pointer;\n",
              "      display: none;\n",
              "      fill: #1967D2;\n",
              "      height: 32px;\n",
              "      padding: 0 0 0 0;\n",
              "      width: 32px;\n",
              "    }\n",
              "\n",
              "    .colab-df-convert:hover {\n",
              "      background-color: #E2EBFA;\n",
              "      box-shadow: 0px 1px 2px rgba(60, 64, 67, 0.3), 0px 1px 3px 1px rgba(60, 64, 67, 0.15);\n",
              "      fill: #174EA6;\n",
              "    }\n",
              "\n",
              "    .colab-df-buttons div {\n",
              "      margin-bottom: 4px;\n",
              "    }\n",
              "\n",
              "    [theme=dark] .colab-df-convert {\n",
              "      background-color: #3B4455;\n",
              "      fill: #D2E3FC;\n",
              "    }\n",
              "\n",
              "    [theme=dark] .colab-df-convert:hover {\n",
              "      background-color: #434B5C;\n",
              "      box-shadow: 0px 1px 3px 1px rgba(0, 0, 0, 0.15);\n",
              "      filter: drop-shadow(0px 1px 2px rgba(0, 0, 0, 0.3));\n",
              "      fill: #FFFFFF;\n",
              "    }\n",
              "  </style>\n",
              "\n",
              "    <script>\n",
              "      const buttonEl =\n",
              "        document.querySelector('#df-83a9f957-9167-4f30-a363-bcdb0dea69a9 button.colab-df-convert');\n",
              "      buttonEl.style.display =\n",
              "        google.colab.kernel.accessAllowed ? 'block' : 'none';\n",
              "\n",
              "      async function convertToInteractive(key) {\n",
              "        const element = document.querySelector('#df-83a9f957-9167-4f30-a363-bcdb0dea69a9');\n",
              "        const dataTable =\n",
              "          await google.colab.kernel.invokeFunction('convertToInteractive',\n",
              "                                                    [key], {});\n",
              "        if (!dataTable) return;\n",
              "\n",
              "        const docLinkHtml = 'Like what you see? Visit the ' +\n",
              "          '<a target=\"_blank\" href=https://colab.research.google.com/notebooks/data_table.ipynb>data table notebook</a>'\n",
              "          + ' to learn more about interactive tables.';\n",
              "        element.innerHTML = '';\n",
              "        dataTable['output_type'] = 'display_data';\n",
              "        await google.colab.output.renderOutput(dataTable, element);\n",
              "        const docLink = document.createElement('div');\n",
              "        docLink.innerHTML = docLinkHtml;\n",
              "        element.appendChild(docLink);\n",
              "      }\n",
              "    </script>\n",
              "  </div>\n",
              "\n",
              "\n",
              "    <div id=\"df-e078c124-1ca1-49e8-a579-72cb1b4eda92\">\n",
              "      <button class=\"colab-df-quickchart\" onclick=\"quickchart('df-e078c124-1ca1-49e8-a579-72cb1b4eda92')\"\n",
              "                title=\"Suggest charts\"\n",
              "                style=\"display:none;\">\n",
              "\n",
              "<svg xmlns=\"http://www.w3.org/2000/svg\" height=\"24px\"viewBox=\"0 0 24 24\"\n",
              "     width=\"24px\">\n",
              "    <g>\n",
              "        <path d=\"M19 3H5c-1.1 0-2 .9-2 2v14c0 1.1.9 2 2 2h14c1.1 0 2-.9 2-2V5c0-1.1-.9-2-2-2zM9 17H7v-7h2v7zm4 0h-2V7h2v10zm4 0h-2v-4h2v4z\"/>\n",
              "    </g>\n",
              "</svg>\n",
              "      </button>\n",
              "\n",
              "<style>\n",
              "  .colab-df-quickchart {\n",
              "      --bg-color: #E8F0FE;\n",
              "      --fill-color: #1967D2;\n",
              "      --hover-bg-color: #E2EBFA;\n",
              "      --hover-fill-color: #174EA6;\n",
              "      --disabled-fill-color: #AAA;\n",
              "      --disabled-bg-color: #DDD;\n",
              "  }\n",
              "\n",
              "  [theme=dark] .colab-df-quickchart {\n",
              "      --bg-color: #3B4455;\n",
              "      --fill-color: #D2E3FC;\n",
              "      --hover-bg-color: #434B5C;\n",
              "      --hover-fill-color: #FFFFFF;\n",
              "      --disabled-bg-color: #3B4455;\n",
              "      --disabled-fill-color: #666;\n",
              "  }\n",
              "\n",
              "  .colab-df-quickchart {\n",
              "    background-color: var(--bg-color);\n",
              "    border: none;\n",
              "    border-radius: 50%;\n",
              "    cursor: pointer;\n",
              "    display: none;\n",
              "    fill: var(--fill-color);\n",
              "    height: 32px;\n",
              "    padding: 0;\n",
              "    width: 32px;\n",
              "  }\n",
              "\n",
              "  .colab-df-quickchart:hover {\n",
              "    background-color: var(--hover-bg-color);\n",
              "    box-shadow: 0 1px 2px rgba(60, 64, 67, 0.3), 0 1px 3px 1px rgba(60, 64, 67, 0.15);\n",
              "    fill: var(--button-hover-fill-color);\n",
              "  }\n",
              "\n",
              "  .colab-df-quickchart-complete:disabled,\n",
              "  .colab-df-quickchart-complete:disabled:hover {\n",
              "    background-color: var(--disabled-bg-color);\n",
              "    fill: var(--disabled-fill-color);\n",
              "    box-shadow: none;\n",
              "  }\n",
              "\n",
              "  .colab-df-spinner {\n",
              "    border: 2px solid var(--fill-color);\n",
              "    border-color: transparent;\n",
              "    border-bottom-color: var(--fill-color);\n",
              "    animation:\n",
              "      spin 1s steps(1) infinite;\n",
              "  }\n",
              "\n",
              "  @keyframes spin {\n",
              "    0% {\n",
              "      border-color: transparent;\n",
              "      border-bottom-color: var(--fill-color);\n",
              "      border-left-color: var(--fill-color);\n",
              "    }\n",
              "    20% {\n",
              "      border-color: transparent;\n",
              "      border-left-color: var(--fill-color);\n",
              "      border-top-color: var(--fill-color);\n",
              "    }\n",
              "    30% {\n",
              "      border-color: transparent;\n",
              "      border-left-color: var(--fill-color);\n",
              "      border-top-color: var(--fill-color);\n",
              "      border-right-color: var(--fill-color);\n",
              "    }\n",
              "    40% {\n",
              "      border-color: transparent;\n",
              "      border-right-color: var(--fill-color);\n",
              "      border-top-color: var(--fill-color);\n",
              "    }\n",
              "    60% {\n",
              "      border-color: transparent;\n",
              "      border-right-color: var(--fill-color);\n",
              "    }\n",
              "    80% {\n",
              "      border-color: transparent;\n",
              "      border-right-color: var(--fill-color);\n",
              "      border-bottom-color: var(--fill-color);\n",
              "    }\n",
              "    90% {\n",
              "      border-color: transparent;\n",
              "      border-bottom-color: var(--fill-color);\n",
              "    }\n",
              "  }\n",
              "</style>\n",
              "\n",
              "      <script>\n",
              "        async function quickchart(key) {\n",
              "          const quickchartButtonEl =\n",
              "            document.querySelector('#' + key + ' button');\n",
              "          quickchartButtonEl.disabled = true;  // To prevent multiple clicks.\n",
              "          quickchartButtonEl.classList.add('colab-df-spinner');\n",
              "          try {\n",
              "            const charts = await google.colab.kernel.invokeFunction(\n",
              "                'suggestCharts', [key], {});\n",
              "          } catch (error) {\n",
              "            console.error('Error during call to suggestCharts:', error);\n",
              "          }\n",
              "          quickchartButtonEl.classList.remove('colab-df-spinner');\n",
              "          quickchartButtonEl.classList.add('colab-df-quickchart-complete');\n",
              "        }\n",
              "        (() => {\n",
              "          let quickchartButtonEl =\n",
              "            document.querySelector('#df-e078c124-1ca1-49e8-a579-72cb1b4eda92 button');\n",
              "          quickchartButtonEl.style.display =\n",
              "            google.colab.kernel.accessAllowed ? 'block' : 'none';\n",
              "        })();\n",
              "      </script>\n",
              "    </div>\n",
              "\n",
              "    </div>\n",
              "  </div>\n"
            ],
            "application/vnd.google.colaboratory.intrinsic+json": {
              "type": "dataframe",
              "variable_name": "df",
              "summary": "{\n  \"name\": \"df\",\n  \"rows\": 3000,\n  \"fields\": [\n    {\n      \"column\": \"review\",\n      \"properties\": {\n        \"dtype\": \"string\",\n        \"num_unique_values\": 2982,\n        \"samples\": [\n          \"We've tried to like this place but after 10+ times I think we're done with them.\",\n          \"The best example of how dumb the writing is when it's established that you can turn the zombie-students back into humans by removing a necklace containing a piece of the meteorite.\",\n          \"It was that loud.Glad to say that the Plantronics 510 maintains a flawless connection to my cell and with no static during normal use.\"\n        ],\n        \"semantic_type\": \"\",\n        \"description\": \"\"\n      }\n    },\n    {\n      \"column\": \"label\",\n      \"properties\": {\n        \"dtype\": \"number\",\n        \"std\": 0,\n        \"min\": 0,\n        \"max\": 1,\n        \"num_unique_values\": 2,\n        \"samples\": [\n          1,\n          0\n        ],\n        \"semantic_type\": \"\",\n        \"description\": \"\"\n      }\n    }\n  ]\n}"
            }
          },
          "metadata": {},
          "execution_count": 5
        }
      ],
      "source": [
        "# Y veamos sus primeros registros:\n",
        "\n",
        "df.head()"
      ]
    },
    {
      "cell_type": "code",
      "execution_count": null,
      "metadata": {
        "colab": {
          "base_uri": "https://localhost:8080/",
          "height": 206
        },
        "id": "Fn-2VIM5Io1E",
        "outputId": "c516127e-4c25-4e45-a650-e6f0e13f428a"
      },
      "outputs": [
        {
          "output_type": "execute_result",
          "data": {
            "text/plain": [
              "                                                 review  label\n",
              "2995  I think food should have flavor and texture an...      0\n",
              "2996                           Appetite instantly gone.      0\n",
              "2997  Overall I was not impressed and would not go b...      0\n",
              "2998  The whole experience was underwhelming, and I ...      0\n",
              "2999  Then, as if I hadn't wasted enough of my life ...      0"
            ],
            "text/html": [
              "\n",
              "  <div id=\"df-c82674a5-ee7b-4ff0-95ee-62fa2ef85d37\" class=\"colab-df-container\">\n",
              "    <div>\n",
              "<style scoped>\n",
              "    .dataframe tbody tr th:only-of-type {\n",
              "        vertical-align: middle;\n",
              "    }\n",
              "\n",
              "    .dataframe tbody tr th {\n",
              "        vertical-align: top;\n",
              "    }\n",
              "\n",
              "    .dataframe thead th {\n",
              "        text-align: right;\n",
              "    }\n",
              "</style>\n",
              "<table border=\"1\" class=\"dataframe\">\n",
              "  <thead>\n",
              "    <tr style=\"text-align: right;\">\n",
              "      <th></th>\n",
              "      <th>review</th>\n",
              "      <th>label</th>\n",
              "    </tr>\n",
              "  </thead>\n",
              "  <tbody>\n",
              "    <tr>\n",
              "      <th>2995</th>\n",
              "      <td>I think food should have flavor and texture an...</td>\n",
              "      <td>0</td>\n",
              "    </tr>\n",
              "    <tr>\n",
              "      <th>2996</th>\n",
              "      <td>Appetite instantly gone.</td>\n",
              "      <td>0</td>\n",
              "    </tr>\n",
              "    <tr>\n",
              "      <th>2997</th>\n",
              "      <td>Overall I was not impressed and would not go b...</td>\n",
              "      <td>0</td>\n",
              "    </tr>\n",
              "    <tr>\n",
              "      <th>2998</th>\n",
              "      <td>The whole experience was underwhelming, and I ...</td>\n",
              "      <td>0</td>\n",
              "    </tr>\n",
              "    <tr>\n",
              "      <th>2999</th>\n",
              "      <td>Then, as if I hadn't wasted enough of my life ...</td>\n",
              "      <td>0</td>\n",
              "    </tr>\n",
              "  </tbody>\n",
              "</table>\n",
              "</div>\n",
              "    <div class=\"colab-df-buttons\">\n",
              "\n",
              "  <div class=\"colab-df-container\">\n",
              "    <button class=\"colab-df-convert\" onclick=\"convertToInteractive('df-c82674a5-ee7b-4ff0-95ee-62fa2ef85d37')\"\n",
              "            title=\"Convert this dataframe to an interactive table.\"\n",
              "            style=\"display:none;\">\n",
              "\n",
              "  <svg xmlns=\"http://www.w3.org/2000/svg\" height=\"24px\" viewBox=\"0 -960 960 960\">\n",
              "    <path d=\"M120-120v-720h720v720H120Zm60-500h600v-160H180v160Zm220 220h160v-160H400v160Zm0 220h160v-160H400v160ZM180-400h160v-160H180v160Zm440 0h160v-160H620v160ZM180-180h160v-160H180v160Zm440 0h160v-160H620v160Z\"/>\n",
              "  </svg>\n",
              "    </button>\n",
              "\n",
              "  <style>\n",
              "    .colab-df-container {\n",
              "      display:flex;\n",
              "      gap: 12px;\n",
              "    }\n",
              "\n",
              "    .colab-df-convert {\n",
              "      background-color: #E8F0FE;\n",
              "      border: none;\n",
              "      border-radius: 50%;\n",
              "      cursor: pointer;\n",
              "      display: none;\n",
              "      fill: #1967D2;\n",
              "      height: 32px;\n",
              "      padding: 0 0 0 0;\n",
              "      width: 32px;\n",
              "    }\n",
              "\n",
              "    .colab-df-convert:hover {\n",
              "      background-color: #E2EBFA;\n",
              "      box-shadow: 0px 1px 2px rgba(60, 64, 67, 0.3), 0px 1px 3px 1px rgba(60, 64, 67, 0.15);\n",
              "      fill: #174EA6;\n",
              "    }\n",
              "\n",
              "    .colab-df-buttons div {\n",
              "      margin-bottom: 4px;\n",
              "    }\n",
              "\n",
              "    [theme=dark] .colab-df-convert {\n",
              "      background-color: #3B4455;\n",
              "      fill: #D2E3FC;\n",
              "    }\n",
              "\n",
              "    [theme=dark] .colab-df-convert:hover {\n",
              "      background-color: #434B5C;\n",
              "      box-shadow: 0px 1px 3px 1px rgba(0, 0, 0, 0.15);\n",
              "      filter: drop-shadow(0px 1px 2px rgba(0, 0, 0, 0.3));\n",
              "      fill: #FFFFFF;\n",
              "    }\n",
              "  </style>\n",
              "\n",
              "    <script>\n",
              "      const buttonEl =\n",
              "        document.querySelector('#df-c82674a5-ee7b-4ff0-95ee-62fa2ef85d37 button.colab-df-convert');\n",
              "      buttonEl.style.display =\n",
              "        google.colab.kernel.accessAllowed ? 'block' : 'none';\n",
              "\n",
              "      async function convertToInteractive(key) {\n",
              "        const element = document.querySelector('#df-c82674a5-ee7b-4ff0-95ee-62fa2ef85d37');\n",
              "        const dataTable =\n",
              "          await google.colab.kernel.invokeFunction('convertToInteractive',\n",
              "                                                    [key], {});\n",
              "        if (!dataTable) return;\n",
              "\n",
              "        const docLinkHtml = 'Like what you see? Visit the ' +\n",
              "          '<a target=\"_blank\" href=https://colab.research.google.com/notebooks/data_table.ipynb>data table notebook</a>'\n",
              "          + ' to learn more about interactive tables.';\n",
              "        element.innerHTML = '';\n",
              "        dataTable['output_type'] = 'display_data';\n",
              "        await google.colab.output.renderOutput(dataTable, element);\n",
              "        const docLink = document.createElement('div');\n",
              "        docLink.innerHTML = docLinkHtml;\n",
              "        element.appendChild(docLink);\n",
              "      }\n",
              "    </script>\n",
              "  </div>\n",
              "\n",
              "\n",
              "    <div id=\"df-e3782b4c-0bc5-4c5f-baec-661009ed5d72\">\n",
              "      <button class=\"colab-df-quickchart\" onclick=\"quickchart('df-e3782b4c-0bc5-4c5f-baec-661009ed5d72')\"\n",
              "                title=\"Suggest charts\"\n",
              "                style=\"display:none;\">\n",
              "\n",
              "<svg xmlns=\"http://www.w3.org/2000/svg\" height=\"24px\"viewBox=\"0 0 24 24\"\n",
              "     width=\"24px\">\n",
              "    <g>\n",
              "        <path d=\"M19 3H5c-1.1 0-2 .9-2 2v14c0 1.1.9 2 2 2h14c1.1 0 2-.9 2-2V5c0-1.1-.9-2-2-2zM9 17H7v-7h2v7zm4 0h-2V7h2v10zm4 0h-2v-4h2v4z\"/>\n",
              "    </g>\n",
              "</svg>\n",
              "      </button>\n",
              "\n",
              "<style>\n",
              "  .colab-df-quickchart {\n",
              "      --bg-color: #E8F0FE;\n",
              "      --fill-color: #1967D2;\n",
              "      --hover-bg-color: #E2EBFA;\n",
              "      --hover-fill-color: #174EA6;\n",
              "      --disabled-fill-color: #AAA;\n",
              "      --disabled-bg-color: #DDD;\n",
              "  }\n",
              "\n",
              "  [theme=dark] .colab-df-quickchart {\n",
              "      --bg-color: #3B4455;\n",
              "      --fill-color: #D2E3FC;\n",
              "      --hover-bg-color: #434B5C;\n",
              "      --hover-fill-color: #FFFFFF;\n",
              "      --disabled-bg-color: #3B4455;\n",
              "      --disabled-fill-color: #666;\n",
              "  }\n",
              "\n",
              "  .colab-df-quickchart {\n",
              "    background-color: var(--bg-color);\n",
              "    border: none;\n",
              "    border-radius: 50%;\n",
              "    cursor: pointer;\n",
              "    display: none;\n",
              "    fill: var(--fill-color);\n",
              "    height: 32px;\n",
              "    padding: 0;\n",
              "    width: 32px;\n",
              "  }\n",
              "\n",
              "  .colab-df-quickchart:hover {\n",
              "    background-color: var(--hover-bg-color);\n",
              "    box-shadow: 0 1px 2px rgba(60, 64, 67, 0.3), 0 1px 3px 1px rgba(60, 64, 67, 0.15);\n",
              "    fill: var(--button-hover-fill-color);\n",
              "  }\n",
              "\n",
              "  .colab-df-quickchart-complete:disabled,\n",
              "  .colab-df-quickchart-complete:disabled:hover {\n",
              "    background-color: var(--disabled-bg-color);\n",
              "    fill: var(--disabled-fill-color);\n",
              "    box-shadow: none;\n",
              "  }\n",
              "\n",
              "  .colab-df-spinner {\n",
              "    border: 2px solid var(--fill-color);\n",
              "    border-color: transparent;\n",
              "    border-bottom-color: var(--fill-color);\n",
              "    animation:\n",
              "      spin 1s steps(1) infinite;\n",
              "  }\n",
              "\n",
              "  @keyframes spin {\n",
              "    0% {\n",
              "      border-color: transparent;\n",
              "      border-bottom-color: var(--fill-color);\n",
              "      border-left-color: var(--fill-color);\n",
              "    }\n",
              "    20% {\n",
              "      border-color: transparent;\n",
              "      border-left-color: var(--fill-color);\n",
              "      border-top-color: var(--fill-color);\n",
              "    }\n",
              "    30% {\n",
              "      border-color: transparent;\n",
              "      border-left-color: var(--fill-color);\n",
              "      border-top-color: var(--fill-color);\n",
              "      border-right-color: var(--fill-color);\n",
              "    }\n",
              "    40% {\n",
              "      border-color: transparent;\n",
              "      border-right-color: var(--fill-color);\n",
              "      border-top-color: var(--fill-color);\n",
              "    }\n",
              "    60% {\n",
              "      border-color: transparent;\n",
              "      border-right-color: var(--fill-color);\n",
              "    }\n",
              "    80% {\n",
              "      border-color: transparent;\n",
              "      border-right-color: var(--fill-color);\n",
              "      border-bottom-color: var(--fill-color);\n",
              "    }\n",
              "    90% {\n",
              "      border-color: transparent;\n",
              "      border-bottom-color: var(--fill-color);\n",
              "    }\n",
              "  }\n",
              "</style>\n",
              "\n",
              "      <script>\n",
              "        async function quickchart(key) {\n",
              "          const quickchartButtonEl =\n",
              "            document.querySelector('#' + key + ' button');\n",
              "          quickchartButtonEl.disabled = true;  // To prevent multiple clicks.\n",
              "          quickchartButtonEl.classList.add('colab-df-spinner');\n",
              "          try {\n",
              "            const charts = await google.colab.kernel.invokeFunction(\n",
              "                'suggestCharts', [key], {});\n",
              "          } catch (error) {\n",
              "            console.error('Error during call to suggestCharts:', error);\n",
              "          }\n",
              "          quickchartButtonEl.classList.remove('colab-df-spinner');\n",
              "          quickchartButtonEl.classList.add('colab-df-quickchart-complete');\n",
              "        }\n",
              "        (() => {\n",
              "          let quickchartButtonEl =\n",
              "            document.querySelector('#df-e3782b4c-0bc5-4c5f-baec-661009ed5d72 button');\n",
              "          quickchartButtonEl.style.display =\n",
              "            google.colab.kernel.accessAllowed ? 'block' : 'none';\n",
              "        })();\n",
              "      </script>\n",
              "    </div>\n",
              "\n",
              "    </div>\n",
              "  </div>\n"
            ],
            "application/vnd.google.colaboratory.intrinsic+json": {
              "type": "dataframe",
              "summary": "{\n  \"name\": \"df\",\n  \"rows\": 5,\n  \"fields\": [\n    {\n      \"column\": \"review\",\n      \"properties\": {\n        \"dtype\": \"string\",\n        \"num_unique_values\": 5,\n        \"samples\": [\n          \"Appetite instantly gone.\",\n          \"Then, as if I hadn't wasted enough of my life there, they poured salt in the wound by drawing out the time it took to bring the check.\",\n          \"Overall I was not impressed and would not go back.\"\n        ],\n        \"semantic_type\": \"\",\n        \"description\": \"\"\n      }\n    },\n    {\n      \"column\": \"label\",\n      \"properties\": {\n        \"dtype\": \"number\",\n        \"std\": 0,\n        \"min\": 0,\n        \"max\": 0,\n        \"num_unique_values\": 1,\n        \"samples\": [\n          0\n        ],\n        \"semantic_type\": \"\",\n        \"description\": \"\"\n      }\n    }\n  ]\n}"
            }
          },
          "metadata": {},
          "execution_count": 6
        }
      ],
      "source": [
        "# Y veamos sus últimos registros:\n",
        "\n",
        "df.tail()"
      ]
    },
    {
      "cell_type": "code",
      "execution_count": null,
      "metadata": {
        "colab": {
          "base_uri": "https://localhost:8080/",
          "height": 677
        },
        "id": "4fef8LNZJEHg",
        "outputId": "61145dd5-b8dd-4d27-894c-93058b55c60a"
      },
      "outputs": [
        {
          "output_type": "execute_result",
          "data": {
            "text/plain": [
              "                                                 review  label\n",
              "1986                      ;) Recommend with confidence!      1\n",
              "667   Looks good in the picture, but this case was a...      0\n",
              "2186  The food sucked, which we expected but it suck...      0\n",
              "458   Very well made and fits my Surefire GX2 perfec...      1\n",
              "498                                       Bad Purchase.      0\n",
              "709   Appears to actually outperform the original ba...      1\n",
              "2937                          Don't bother coming here.      0\n",
              "2271       You cant go wrong with any of the food here.      1\n",
              "1936  The two main characters may be two of the most...      1\n",
              "735     Provides good protection and looks classy, too.      1\n",
              "303                                         Good price.      1\n",
              "2949  Maybe it's just their Vegetarian fare, but I'v...      0\n",
              "194                                      Not impressed.      0\n",
              "2980  I have been to very few places to eat that und...      0\n",
              "1178                  The script is\n",
              "was there a script?      0\n",
              "52    A usable keyboard actually turns a PDA into a ...      1\n",
              "438   I used to talk on it for 1 - 1 1/2 hours and t...      0\n",
              "491   It is super charged up for use as a small hybr...      1\n",
              "398   Sounds good reasonably priced and effective, I...      1\n",
              "444   I would recommend purchasing the Jabra JX-10 s...      1"
            ],
            "text/html": [
              "\n",
              "  <div id=\"df-35f6155c-d564-4b2f-a462-14cba499fbfa\" class=\"colab-df-container\">\n",
              "    <div>\n",
              "<style scoped>\n",
              "    .dataframe tbody tr th:only-of-type {\n",
              "        vertical-align: middle;\n",
              "    }\n",
              "\n",
              "    .dataframe tbody tr th {\n",
              "        vertical-align: top;\n",
              "    }\n",
              "\n",
              "    .dataframe thead th {\n",
              "        text-align: right;\n",
              "    }\n",
              "</style>\n",
              "<table border=\"1\" class=\"dataframe\">\n",
              "  <thead>\n",
              "    <tr style=\"text-align: right;\">\n",
              "      <th></th>\n",
              "      <th>review</th>\n",
              "      <th>label</th>\n",
              "    </tr>\n",
              "  </thead>\n",
              "  <tbody>\n",
              "    <tr>\n",
              "      <th>1986</th>\n",
              "      <td>;) Recommend with confidence!</td>\n",
              "      <td>1</td>\n",
              "    </tr>\n",
              "    <tr>\n",
              "      <th>667</th>\n",
              "      <td>Looks good in the picture, but this case was a...</td>\n",
              "      <td>0</td>\n",
              "    </tr>\n",
              "    <tr>\n",
              "      <th>2186</th>\n",
              "      <td>The food sucked, which we expected but it suck...</td>\n",
              "      <td>0</td>\n",
              "    </tr>\n",
              "    <tr>\n",
              "      <th>458</th>\n",
              "      <td>Very well made and fits my Surefire GX2 perfec...</td>\n",
              "      <td>1</td>\n",
              "    </tr>\n",
              "    <tr>\n",
              "      <th>498</th>\n",
              "      <td>Bad Purchase.</td>\n",
              "      <td>0</td>\n",
              "    </tr>\n",
              "    <tr>\n",
              "      <th>709</th>\n",
              "      <td>Appears to actually outperform the original ba...</td>\n",
              "      <td>1</td>\n",
              "    </tr>\n",
              "    <tr>\n",
              "      <th>2937</th>\n",
              "      <td>Don't bother coming here.</td>\n",
              "      <td>0</td>\n",
              "    </tr>\n",
              "    <tr>\n",
              "      <th>2271</th>\n",
              "      <td>You cant go wrong with any of the food here.</td>\n",
              "      <td>1</td>\n",
              "    </tr>\n",
              "    <tr>\n",
              "      <th>1936</th>\n",
              "      <td>The two main characters may be two of the most...</td>\n",
              "      <td>1</td>\n",
              "    </tr>\n",
              "    <tr>\n",
              "      <th>735</th>\n",
              "      <td>Provides good protection and looks classy, too.</td>\n",
              "      <td>1</td>\n",
              "    </tr>\n",
              "    <tr>\n",
              "      <th>303</th>\n",
              "      <td>Good price.</td>\n",
              "      <td>1</td>\n",
              "    </tr>\n",
              "    <tr>\n",
              "      <th>2949</th>\n",
              "      <td>Maybe it's just their Vegetarian fare, but I'v...</td>\n",
              "      <td>0</td>\n",
              "    </tr>\n",
              "    <tr>\n",
              "      <th>194</th>\n",
              "      <td>Not impressed.</td>\n",
              "      <td>0</td>\n",
              "    </tr>\n",
              "    <tr>\n",
              "      <th>2980</th>\n",
              "      <td>I have been to very few places to eat that und...</td>\n",
              "      <td>0</td>\n",
              "    </tr>\n",
              "    <tr>\n",
              "      <th>1178</th>\n",
              "      <td>The script iswas there a script?</td>\n",
              "      <td>0</td>\n",
              "    </tr>\n",
              "    <tr>\n",
              "      <th>52</th>\n",
              "      <td>A usable keyboard actually turns a PDA into a ...</td>\n",
              "      <td>1</td>\n",
              "    </tr>\n",
              "    <tr>\n",
              "      <th>438</th>\n",
              "      <td>I used to talk on it for 1 - 1 1/2 hours and t...</td>\n",
              "      <td>0</td>\n",
              "    </tr>\n",
              "    <tr>\n",
              "      <th>491</th>\n",
              "      <td>It is super charged up for use as a small hybr...</td>\n",
              "      <td>1</td>\n",
              "    </tr>\n",
              "    <tr>\n",
              "      <th>398</th>\n",
              "      <td>Sounds good reasonably priced and effective, I...</td>\n",
              "      <td>1</td>\n",
              "    </tr>\n",
              "    <tr>\n",
              "      <th>444</th>\n",
              "      <td>I would recommend purchasing the Jabra JX-10 s...</td>\n",
              "      <td>1</td>\n",
              "    </tr>\n",
              "  </tbody>\n",
              "</table>\n",
              "</div>\n",
              "    <div class=\"colab-df-buttons\">\n",
              "\n",
              "  <div class=\"colab-df-container\">\n",
              "    <button class=\"colab-df-convert\" onclick=\"convertToInteractive('df-35f6155c-d564-4b2f-a462-14cba499fbfa')\"\n",
              "            title=\"Convert this dataframe to an interactive table.\"\n",
              "            style=\"display:none;\">\n",
              "\n",
              "  <svg xmlns=\"http://www.w3.org/2000/svg\" height=\"24px\" viewBox=\"0 -960 960 960\">\n",
              "    <path d=\"M120-120v-720h720v720H120Zm60-500h600v-160H180v160Zm220 220h160v-160H400v160Zm0 220h160v-160H400v160ZM180-400h160v-160H180v160Zm440 0h160v-160H620v160ZM180-180h160v-160H180v160Zm440 0h160v-160H620v160Z\"/>\n",
              "  </svg>\n",
              "    </button>\n",
              "\n",
              "  <style>\n",
              "    .colab-df-container {\n",
              "      display:flex;\n",
              "      gap: 12px;\n",
              "    }\n",
              "\n",
              "    .colab-df-convert {\n",
              "      background-color: #E8F0FE;\n",
              "      border: none;\n",
              "      border-radius: 50%;\n",
              "      cursor: pointer;\n",
              "      display: none;\n",
              "      fill: #1967D2;\n",
              "      height: 32px;\n",
              "      padding: 0 0 0 0;\n",
              "      width: 32px;\n",
              "    }\n",
              "\n",
              "    .colab-df-convert:hover {\n",
              "      background-color: #E2EBFA;\n",
              "      box-shadow: 0px 1px 2px rgba(60, 64, 67, 0.3), 0px 1px 3px 1px rgba(60, 64, 67, 0.15);\n",
              "      fill: #174EA6;\n",
              "    }\n",
              "\n",
              "    .colab-df-buttons div {\n",
              "      margin-bottom: 4px;\n",
              "    }\n",
              "\n",
              "    [theme=dark] .colab-df-convert {\n",
              "      background-color: #3B4455;\n",
              "      fill: #D2E3FC;\n",
              "    }\n",
              "\n",
              "    [theme=dark] .colab-df-convert:hover {\n",
              "      background-color: #434B5C;\n",
              "      box-shadow: 0px 1px 3px 1px rgba(0, 0, 0, 0.15);\n",
              "      filter: drop-shadow(0px 1px 2px rgba(0, 0, 0, 0.3));\n",
              "      fill: #FFFFFF;\n",
              "    }\n",
              "  </style>\n",
              "\n",
              "    <script>\n",
              "      const buttonEl =\n",
              "        document.querySelector('#df-35f6155c-d564-4b2f-a462-14cba499fbfa button.colab-df-convert');\n",
              "      buttonEl.style.display =\n",
              "        google.colab.kernel.accessAllowed ? 'block' : 'none';\n",
              "\n",
              "      async function convertToInteractive(key) {\n",
              "        const element = document.querySelector('#df-35f6155c-d564-4b2f-a462-14cba499fbfa');\n",
              "        const dataTable =\n",
              "          await google.colab.kernel.invokeFunction('convertToInteractive',\n",
              "                                                    [key], {});\n",
              "        if (!dataTable) return;\n",
              "\n",
              "        const docLinkHtml = 'Like what you see? Visit the ' +\n",
              "          '<a target=\"_blank\" href=https://colab.research.google.com/notebooks/data_table.ipynb>data table notebook</a>'\n",
              "          + ' to learn more about interactive tables.';\n",
              "        element.innerHTML = '';\n",
              "        dataTable['output_type'] = 'display_data';\n",
              "        await google.colab.output.renderOutput(dataTable, element);\n",
              "        const docLink = document.createElement('div');\n",
              "        docLink.innerHTML = docLinkHtml;\n",
              "        element.appendChild(docLink);\n",
              "      }\n",
              "    </script>\n",
              "  </div>\n",
              "\n",
              "\n",
              "    <div id=\"df-4e207a43-8b51-46df-ab83-ed39617dc390\">\n",
              "      <button class=\"colab-df-quickchart\" onclick=\"quickchart('df-4e207a43-8b51-46df-ab83-ed39617dc390')\"\n",
              "                title=\"Suggest charts\"\n",
              "                style=\"display:none;\">\n",
              "\n",
              "<svg xmlns=\"http://www.w3.org/2000/svg\" height=\"24px\"viewBox=\"0 0 24 24\"\n",
              "     width=\"24px\">\n",
              "    <g>\n",
              "        <path d=\"M19 3H5c-1.1 0-2 .9-2 2v14c0 1.1.9 2 2 2h14c1.1 0 2-.9 2-2V5c0-1.1-.9-2-2-2zM9 17H7v-7h2v7zm4 0h-2V7h2v10zm4 0h-2v-4h2v4z\"/>\n",
              "    </g>\n",
              "</svg>\n",
              "      </button>\n",
              "\n",
              "<style>\n",
              "  .colab-df-quickchart {\n",
              "      --bg-color: #E8F0FE;\n",
              "      --fill-color: #1967D2;\n",
              "      --hover-bg-color: #E2EBFA;\n",
              "      --hover-fill-color: #174EA6;\n",
              "      --disabled-fill-color: #AAA;\n",
              "      --disabled-bg-color: #DDD;\n",
              "  }\n",
              "\n",
              "  [theme=dark] .colab-df-quickchart {\n",
              "      --bg-color: #3B4455;\n",
              "      --fill-color: #D2E3FC;\n",
              "      --hover-bg-color: #434B5C;\n",
              "      --hover-fill-color: #FFFFFF;\n",
              "      --disabled-bg-color: #3B4455;\n",
              "      --disabled-fill-color: #666;\n",
              "  }\n",
              "\n",
              "  .colab-df-quickchart {\n",
              "    background-color: var(--bg-color);\n",
              "    border: none;\n",
              "    border-radius: 50%;\n",
              "    cursor: pointer;\n",
              "    display: none;\n",
              "    fill: var(--fill-color);\n",
              "    height: 32px;\n",
              "    padding: 0;\n",
              "    width: 32px;\n",
              "  }\n",
              "\n",
              "  .colab-df-quickchart:hover {\n",
              "    background-color: var(--hover-bg-color);\n",
              "    box-shadow: 0 1px 2px rgba(60, 64, 67, 0.3), 0 1px 3px 1px rgba(60, 64, 67, 0.15);\n",
              "    fill: var(--button-hover-fill-color);\n",
              "  }\n",
              "\n",
              "  .colab-df-quickchart-complete:disabled,\n",
              "  .colab-df-quickchart-complete:disabled:hover {\n",
              "    background-color: var(--disabled-bg-color);\n",
              "    fill: var(--disabled-fill-color);\n",
              "    box-shadow: none;\n",
              "  }\n",
              "\n",
              "  .colab-df-spinner {\n",
              "    border: 2px solid var(--fill-color);\n",
              "    border-color: transparent;\n",
              "    border-bottom-color: var(--fill-color);\n",
              "    animation:\n",
              "      spin 1s steps(1) infinite;\n",
              "  }\n",
              "\n",
              "  @keyframes spin {\n",
              "    0% {\n",
              "      border-color: transparent;\n",
              "      border-bottom-color: var(--fill-color);\n",
              "      border-left-color: var(--fill-color);\n",
              "    }\n",
              "    20% {\n",
              "      border-color: transparent;\n",
              "      border-left-color: var(--fill-color);\n",
              "      border-top-color: var(--fill-color);\n",
              "    }\n",
              "    30% {\n",
              "      border-color: transparent;\n",
              "      border-left-color: var(--fill-color);\n",
              "      border-top-color: var(--fill-color);\n",
              "      border-right-color: var(--fill-color);\n",
              "    }\n",
              "    40% {\n",
              "      border-color: transparent;\n",
              "      border-right-color: var(--fill-color);\n",
              "      border-top-color: var(--fill-color);\n",
              "    }\n",
              "    60% {\n",
              "      border-color: transparent;\n",
              "      border-right-color: var(--fill-color);\n",
              "    }\n",
              "    80% {\n",
              "      border-color: transparent;\n",
              "      border-right-color: var(--fill-color);\n",
              "      border-bottom-color: var(--fill-color);\n",
              "    }\n",
              "    90% {\n",
              "      border-color: transparent;\n",
              "      border-bottom-color: var(--fill-color);\n",
              "    }\n",
              "  }\n",
              "</style>\n",
              "\n",
              "      <script>\n",
              "        async function quickchart(key) {\n",
              "          const quickchartButtonEl =\n",
              "            document.querySelector('#' + key + ' button');\n",
              "          quickchartButtonEl.disabled = true;  // To prevent multiple clicks.\n",
              "          quickchartButtonEl.classList.add('colab-df-spinner');\n",
              "          try {\n",
              "            const charts = await google.colab.kernel.invokeFunction(\n",
              "                'suggestCharts', [key], {});\n",
              "          } catch (error) {\n",
              "            console.error('Error during call to suggestCharts:', error);\n",
              "          }\n",
              "          quickchartButtonEl.classList.remove('colab-df-spinner');\n",
              "          quickchartButtonEl.classList.add('colab-df-quickchart-complete');\n",
              "        }\n",
              "        (() => {\n",
              "          let quickchartButtonEl =\n",
              "            document.querySelector('#df-4e207a43-8b51-46df-ab83-ed39617dc390 button');\n",
              "          quickchartButtonEl.style.display =\n",
              "            google.colab.kernel.accessAllowed ? 'block' : 'none';\n",
              "        })();\n",
              "      </script>\n",
              "    </div>\n",
              "\n",
              "    </div>\n",
              "  </div>\n"
            ],
            "application/vnd.google.colaboratory.intrinsic+json": {
              "type": "dataframe",
              "summary": "{\n  \"name\": \"df\",\n  \"rows\": 20,\n  \"fields\": [\n    {\n      \"column\": \"review\",\n      \"properties\": {\n        \"dtype\": \"string\",\n        \"num_unique_values\": 20,\n        \"samples\": [\n          \";) Recommend with confidence!\",\n          \"It is super charged up for use as a small hybrid palmtop/camera/cellphone, and excels in those roles.\",\n          \"A usable keyboard actually turns a PDA into a real-world useful machine instead of just a neat gadget.\"\n        ],\n        \"semantic_type\": \"\",\n        \"description\": \"\"\n      }\n    },\n    {\n      \"column\": \"label\",\n      \"properties\": {\n        \"dtype\": \"number\",\n        \"std\": 0,\n        \"min\": 0,\n        \"max\": 1,\n        \"num_unique_values\": 2,\n        \"samples\": [\n          0,\n          1\n        ],\n        \"semantic_type\": \"\",\n        \"description\": \"\"\n      }\n    }\n  ]\n}"
            }
          },
          "metadata": {},
          "execution_count": 7
        }
      ],
      "source": [
        "# Muestra 20 filas seleccionadas de forma aleatoria del DataFrame\n",
        "df.sample(n=20)"
      ]
    },
    {
      "cell_type": "markdown",
      "metadata": {
        "id": "MfZZ0stLmWJN"
      },
      "source": [
        "# **Pregunta - 2:**\n",
        "\n",
        "2. Realiza un proceso de limpieza. Aplica el preprocesamiento que consideres adecuado a todos los\n",
        "comentarios. Llama Xclean a los comentarios procesados y Y a las etiquetas."
      ]
    },
    {
      "cell_type": "markdown",
      "metadata": {
        "id": "7F6JF5BommZ6"
      },
      "source": [
        "Realiza el proceso de limpieza. Aplica el preprocesamiento que consideres adecuado.\n",
        "\n",
        "\n",
        "\n",
        "\n",
        "\n",
        "\n",
        "\n",
        "\n",
        "\n"
      ]
    },
    {
      "cell_type": "code",
      "execution_count": null,
      "metadata": {
        "id": "TsnvMp-7oYCM"
      },
      "outputs": [],
      "source": [
        "\n",
        "# ******* Incluye a continuación todas las líneas de código y celdas que requieras: ***********\n",
        "X = df['review']\n",
        "Y = df['label']\n",
        "\n",
        "stopwords_engl = stopwords.words('english')\n",
        "lemmatizer = WordNetLemmatizer()\n",
        "\n",
        "def clean(texto):\n",
        "\n",
        "  # 1️⃣ Normalizar a minúsculas\n",
        "  text = texto.lower()\n",
        "\n",
        "  # 2️⃣ Conservar solo letras y apóstrofes; colapsar espacios múltiples\n",
        "  text = re.sub(r\"[^a-z']\", \" \", text)\n",
        "  text = re.sub(r\"\\s{2,}\", \" \", text).strip()\n",
        "\n",
        "  # 3️⃣ Tokenización inicial por espacios\n",
        "  tokens = text.split()\n",
        "\n",
        "  # 4️⃣ Expandir contracciones (requiere módulo 'contractions')\n",
        "  tokens = [contractions.fix(tok) for tok in tokens]\n",
        "\n",
        "  # 5️⃣ División secundaria (por si quedaron sub-tokens)\n",
        "  tokens =   tokens = \" \".join(tokens).split()\n",
        "\n",
        "\n",
        "  # 6️⃣ Eliminar apóstrofes remanentes y otros símbolos\n",
        "  tokens = [re.sub(r\"[^a-z]\", \"\", tok) for tok in tokens]\n",
        "\n",
        "\n",
        "  # 7️⃣ Filtrar stopwords y tokens muy cortos\n",
        "  tokens = [tok for tok in tokens if tok not in stopwords_engl and len(tok) > 1]\n",
        "\n",
        "  return tokens\n",
        "\n",
        "def clean_doc(doc):\n",
        "\n",
        "  # Inicializa el lematizador de WordNet\n",
        "  lemmatizer = WordNetLemmatizer()\n",
        "\n",
        "  # 1️⃣ Aplica lematización a cada palabra en el documento\n",
        "  tokens = [lemmatizer.lemmatize(\n",
        "            lemmatizer.lemmatize(\n",
        "            lemmatizer.lemmatize(palabra,\n",
        "            # 2️⃣ Primera lematización, tratando la palabra como verbo\n",
        "            pos='v'),\n",
        "            # 3️⃣ Luego, lematiza considerando la palabra como un sustantivo\n",
        "            pos='n'),\n",
        "            # 4️⃣Finalmente, lematiza considerando la palabra como un adjetivo\n",
        "            pos='a')\n",
        "            # Itera sobre cada palabra en el documento, asegurando que no sea vacía\n",
        "            for palabra in doc if palabra ]\n",
        "\n",
        "  # 5️⃣ Filtrar stopwords y tokens muy cortos\n",
        "  tokens = [tok for tok in tokens if tok not in stopwords_engl and len(tok) > 1]\n",
        "\n",
        "  return tokens\n",
        "\n",
        "Xcleantok = [clean(x) for x in X]\n",
        "Xclean = [clean_doc(x) for x in Xcleantok]\n",
        "\n",
        "# *********** Aquí termina la sección de agregar código *************"
      ]
    },
    {
      "cell_type": "code",
      "execution_count": null,
      "metadata": {
        "colab": {
          "base_uri": "https://localhost:8080/"
        },
        "id": "7jlQuoI2o33T",
        "outputId": "ce72fcc0-762a-457d-c22e-a7ed351ba675"
      },
      "outputs": [
        {
          "output_type": "stream",
          "name": "stdout",
          "text": [
            "['way', 'plug', 'unless', 'go', 'converter']\n",
            "['good', 'case', 'excellent', 'value']\n",
            "['great', 'jawbone']\n",
            "['tie', 'charger', 'conversation', 'last', 'minute', 'major', 'problem']\n",
            "['mic', 'great']\n"
          ]
        }
      ],
      "source": [
        "# Despleguemos los primeros comentarios después de tu proceso de limpieza:\n",
        "\n",
        "for x in Xclean[0:5]:\n",
        "  print(x)\n"
      ]
    },
    {
      "cell_type": "markdown",
      "metadata": {
        "id": "ygchEdcKqIzU"
      },
      "source": [
        "# **Pregunta - 3:**\n",
        "\n",
        "### 3. Partición aleatoria de los datos:\n",
        "\n",
        "1. **Realización de la partición:**  \n",
        "   Realiza una partición aleatoria de los datos utilizando los mismos porcentajes que en la práctica de la semana pasada para poder comparar los resultados con los de esta actividad. Los porcentajes serán:\n",
        "   - **Entrenamiento:** 70%\n",
        "   - **Validación:** 15%\n",
        "   - **Prueba:** 15%\n",
        "\n",
        "2. **Verificación de registros:**  \n",
        "   Verifica que obtienes:\n",
        "   - **2100 registros** para el conjunto de entrenamiento.\n",
        "   - **450 registros** para cada uno de los conjuntos de validación y prueba.\n",
        "\n",
        "3. **Uso de semilla:**  \n",
        "   Utiliza una semilla para la partición de los datos.\n",
        "\n",
        "---\n"
      ]
    },
    {
      "cell_type": "markdown",
      "metadata": {
        "id": "7wEIOkkl9Dot"
      },
      "source": [
        "\n",
        "Realicemos una partición aleatoria con los mismos porcentajes de la práctica pasada para poder comparar dichos resultados con los de\n",
        "esta actividad, a saber, 70%, 15% y 15%, para entrenamiento, validación y prueba, respectivamente."
      ]
    },
    {
      "cell_type": "code",
      "execution_count": null,
      "metadata": {
        "colab": {
          "base_uri": "https://localhost:8080/"
        },
        "id": "b0SAcYdq9X0w",
        "outputId": "2c0c181c-bb87-4ce2-820d-bbb53d1cde5a"
      },
      "outputs": [
        {
          "output_type": "stream",
          "name": "stdout",
          "text": [
            "X,y Train: 2100 2100\n",
            "X,y Val: 450 450\n",
            "X,y Test 450 450\n"
          ]
        }
      ],
      "source": [
        "\n",
        "# ************* Inicia la sección de agregar código:*****************************\n",
        "\n",
        "# ——————————————————————————\n",
        "# 1️⃣ Partición inicial: 70% train, 30% (val + test)\n",
        "# ——————————————————————————\n",
        "\n",
        "x_train, x_val_and_test, y_train, y_val_and_test = train_test_split(\n",
        "    Xclean,               # Lista de comentarios procesados\n",
        "    Y,                    # Serie de etiquetas\n",
        "    train_size=0.70,      # 70% para entrenamiento\n",
        "    shuffle=True,         # Mezclar antes de partir\n",
        "    random_state=1        # Semilla para reproducibilidad\n",
        ")\n",
        "\n",
        "# ——————————————————————————\n",
        "# 2️⃣ Partición secundaria: 50% validación, 50% test del 30% restante\n",
        "# ——————————————————————————\n",
        "x_val, x_test, y_val, y_test = train_test_split(\n",
        "    x_val_and_test,       # Comentarios (30%)\n",
        "    y_val_and_test,       # Etiquetas (30%)\n",
        "    test_size=0.50,       # 15% validación, 15% test\n",
        "    shuffle=True,         # Volver a mezclar\n",
        "    random_state=17       # Otra semilla para variación\n",
        ")\n",
        "\n",
        "\n",
        "# *********** Termina la sección de agregar código *************\n",
        "\n",
        "\n",
        "# verificemos las dimensiones obtenidas:\n",
        "print('X,y Train:', len(x_train), len(y_train))\n",
        "print('X,y Val:', len(x_val), len(y_val))\n",
        "print('X,y Test', len(x_test), len(y_test))"
      ]
    },
    {
      "cell_type": "markdown",
      "metadata": {
        "id": "1qjKoEqiqBN1"
      },
      "source": [
        "# **Pregunta - 4:**\n",
        "\n",
        "### 4. Construye tu vocabulario a continuación:\n",
        "\n",
        "1. **Uso del conjunto de entrenamiento:**  \n",
        "   Utiliza el conjunto de entrenamiento para generar tu vocabulario con un tamaño que consideres adecuado. Si lo deseas, puedes filtrar tu vocabulario por:\n",
        "   - Frecuencia mínima de uso de cada palabra.\n",
        "   - Longitud mínima en caracteres.\n",
        "\n",
        "2. **Tamaño del vocabulario:**  \n",
        "   Indica el tamaño del vocabulario que generaste.\n",
        "\n",
        "3. **Razón para usar solo el conjunto de entrenamiento:**  \n",
        "   Explica por qué debe usarse únicamente el conjunto de entrenamiento para generar el vocabulario.\n",
        "\n",
        "4. **Filtrado de conjuntos:**  \n",
        "   Con el vocabulario generado, filtra los conjuntos de entrenamiento, validación y prueba para que todos los comentarios utilicen solo las palabras de este vocabulario.\n",
        "\n",
        "---\n",
        "\n",
        "Hasta este punto, básicamente has realizado transformaciones similares a las de la semana pasada, las cuales son válidas para muchos procesos dentro del análisis de textos. Ahora, procederemos con los vectores embebidos de cada palabra en cada comentario, en lugar de los vectores generados con las matrices Tf-idf.\n"
      ]
    },
    {
      "cell_type": "markdown",
      "metadata": {
        "id": "jENsKiN99r3F"
      },
      "source": [
        "\n",
        "\n",
        "Construye tu vocabulario a continuación\n"
      ]
    },
    {
      "cell_type": "code",
      "execution_count": null,
      "metadata": {
        "id": "TzJntmLPqPqC"
      },
      "outputs": [],
      "source": [
        "# a.\tUsa el conjunto de entrenamiento para generar tu vocabulario\n",
        "#     con un tamaño que consideres adecuado:\n",
        "\n",
        "\n",
        "# ******* Incluye a continuación todas las líneas de código y celdas que requieras: ***********\n",
        "\n",
        "midiccionario = Counter()  # Inicializar Counter vacío\n",
        "\n",
        "# Iterar sobre cada lista de tokens de entrenamiento y actualizar conteos\n",
        "for idx, tokens in enumerate(x_train, start=1):\n",
        "    # idx: número de comentario procesado\n",
        "    # tokens: lista de tokens para este comentario\n",
        "    midiccionario.update(tokens)\n",
        "\n",
        "\n",
        "# *********** Aquí termina la sección de agregar código *************"
      ]
    },
    {
      "cell_type": "code",
      "execution_count": null,
      "metadata": {
        "colab": {
          "base_uri": "https://localhost:8080/"
        },
        "id": "yTDZ0Rr86CUP",
        "outputId": "e3c89e10-3ab9-4368-95ff-a5ed1723b7fa"
      },
      "outputs": [
        {
          "output_type": "stream",
          "name": "stdout",
          "text": [
            "Longitud del vocabulario generado:\n",
            "🔹 Longitud del diccionario (vocabulario): 3227 palabras únicas\n",
            "\n",
            "🔸 Top 10 palabras más frecuentes (palabra, frecuencia):\n",
            "   • good: 202\n",
            "   • great: 141\n",
            "   • movie: 140\n",
            "   • phone: 134\n",
            "   • film: 130\n",
            "   • work: 113\n",
            "   • bad: 112\n",
            "   • like: 101\n",
            "   • time: 101\n",
            "   • one: 100\n"
          ]
        }
      ],
      "source": [
        "# b.\tIndica el tamaño del vocabulario generado.\n",
        "\n",
        "print('Longitud del vocabulario generado:')\n",
        "\n",
        "\n",
        "# ******* Inicia la sección de agregar código: ***********\n",
        "\n",
        "\n",
        "print(f\"🔹 Longitud del diccionario (vocabulario): {len(midiccionario)} palabras únicas\\n\")\n",
        "\n",
        "print(\"🔸 Top 10 palabras más frecuentes (palabra, frecuencia):\")\n",
        "for word, freq in midiccionario.most_common(10):\n",
        "    print(f\"   • {word}: {freq}\")\n",
        "\n",
        "\n",
        "# *********** Aquí termina la sección de agregar código *************"
      ]
    },
    {
      "cell_type": "markdown",
      "metadata": {
        "id": "NDa4EhTqrw15"
      },
      "source": [
        "c.\t¿Por qué debe usarse solamente el conjunto de entrenamiento para generar el vocabulario?\n",
        "\n",
        "\n",
        "### ++++++++ Inicia la sección de agregar texto: +++++++++++\n",
        "\n",
        "Para evitar filtrado de información y mantener una evaluación justa. Ya que de lo contrario se estarían incorporando datos al modelo que no debería haber \"visto\" aún, por otro lado simula mejor un ambiente de producción, donde el modelo evaluara nuevos comentarios nuevos.\n",
        "\n",
        "### ++++++++ Termina la sección de agregar texto: +++++++++++\n"
      ]
    },
    {
      "cell_type": "code",
      "execution_count": null,
      "metadata": {
        "colab": {
          "base_uri": "https://localhost:8080/"
        },
        "id": "7ykjxQI3rpxx",
        "outputId": "8f5320ca-98d2-45f1-d50b-02972fcbb120"
      },
      "outputs": [
        {
          "output_type": "stream",
          "name": "stdout",
          "text": [
            "Total de palabras registradas en el diccionario: 3,227\n"
          ]
        }
      ],
      "source": [
        "# d.  Con el vocabulario generado, filtra los conjuntos de entrenamiento,\n",
        "#     validación y prueba para que todos los comentarios usen solamente las\n",
        "#     palabras de este vocabulario.\n",
        "\n",
        "#     Llamar train_x, val_x y test_x a estos tres conjuntos.\n",
        "\n",
        "\n",
        "# ******* Incluye a continuación todas las líneas de código y celdas que requieras: ***********\n",
        "\n",
        "# 1️⃣ Definir la frecuencia mínima para incluir un token en el vocabulario\n",
        "min_freq = 1\n",
        "\n",
        "# 2️⃣ Filtrar tokens con frecuencia ≥ min_freq\n",
        "midicc = {\n",
        "    token: freq\n",
        "    for token, freq in midiccionario.items()\n",
        "    if freq >= min_freq\n",
        "}\n",
        "\n",
        "# 3️⃣ (Opcional) Ordenar el vocabulario por frecuencia descendente\n",
        "midicc = dict(sorted(midicc.items(), key=lambda item: item[1], reverse=True))\n",
        "\n",
        "print(f\"Total de palabras registradas en el diccionario: {len(midicc):,}\")\n",
        "\n",
        "train_x = []\n",
        "for ss in x_train:\n",
        "    # ss: lista de tokens de un comentario\n",
        "    # Conservar solo tokens que existen en midicc (frecuencia >= min_freq)\n",
        "    train_x.append([w for w in ss if w in midiccionario])\n",
        "\n",
        "# 🔍 Conjunto de validación\n",
        "val_x = []\n",
        "for ss in x_val:\n",
        "    # Mismo proceso de filtrado para validación\n",
        "    val_x.append([w for w in ss if w in midiccionario])\n",
        "\n",
        "# 🧪 Conjunto de prueba\n",
        "test_x = []\n",
        "for ss in x_test:\n",
        "    # Mismo proceso de filtrado para test\n",
        "    test_x.append([w for w in ss if w in midiccionario])\n",
        "\n",
        "\n",
        "\n",
        "# *********** Aquí termina la sección de agregar código *************"
      ]
    },
    {
      "cell_type": "code",
      "execution_count": null,
      "metadata": {
        "colab": {
          "base_uri": "https://localhost:8080/"
        },
        "id": "iYF2RGuPtQTC",
        "outputId": "3d16565e-a350-435b-998a-db321aa5f1b9"
      },
      "outputs": [
        {
          "output_type": "stream",
          "name": "stdout",
          "text": [
            "['co', 'star', 'fare', 'much', 'good', 'people', 'like', 'morgan', 'freeman', 'jonah', 'hill', 'ed', 'helm', 'waste']\n",
            "['tonight', 'elk', 'filet', 'special', 'suck']\n",
            "['pay', 'bill', 'tip', 'felt', 'server', 'terrible', 'job']\n",
            "['call', 'steakhouse', 'cannot', 'properly', 'cook', 'steak', 'understand']\n",
            "['however', 'keypad', 'tinny', 'sometimes', 'reach', 'wrong', 'button']\n"
          ]
        }
      ],
      "source": [
        "# Vemos el resultado de los primeros comentarios del conjunto de entrenamiento:\n",
        "\n",
        "for ss in train_x[0:5]:\n",
        "  print(ss)"
      ]
    },
    {
      "cell_type": "markdown",
      "metadata": {
        "id": "RS0Hxj25vTWh"
      },
      "source": [
        "# **Pregunta - 5:**\n",
        "\n",
        "### 5. Modelos de vectores embebidos de OpenAI\n",
        "\n",
        "A continuación, se presenta un resumen de las principales características de los modelos de vectores embebidos de OpenAI:\n",
        "\n",
        "1. **[text-embedding-ada-002](https://platform.openai.com/docs/models/text-embedding-ada-002):**\n",
        "   - **Características:**\n",
        "     - Modelo de embeddings optimizado para tareas de texto.\n",
        "     - Ofrece una alta calidad en la representación semántica de los textos.\n",
        "     - Diseñado para ser eficiente en términos de costos y velocidad.\n",
        "   - **Aplicaciones:**\n",
        "     - Análisis de sentimientos.\n",
        "     - Clasificación de texto.\n",
        "     - Búsqueda semántica.\n",
        "\n",
        "2. **[text-embedding-3-small](https://platform.openai.com/docs/models/text-embedding-3-small):**\n",
        "   - **Características:**\n",
        "     - Variante más pequeña del modelo de embeddings de tercera generación.\n",
        "     - Proporciona representaciones semánticas compactas.\n",
        "     - Balance entre rendimiento y eficiencia computacional.\n",
        "   - **Aplicaciones:**\n",
        "     - Tareas de clasificación de texto de menor complejidad.\n",
        "     - Análisis de grandes volúmenes de datos con recursos limitados.\n",
        "\n",
        "3. **[text-embedding-3-large](https://platform.openai.com/docs/models/text-embedding-3-large):**\n",
        "   - **Características:**\n",
        "     - Modelo de embeddings de tercera generación con mayor capacidad.\n",
        "     - Mejora en la calidad de las representaciones semánticas.\n",
        "     - Requiere mayor capacidad computacional en comparación con la versión pequeña.\n",
        "   - **Aplicaciones:**\n",
        "     - Proyectos que requieren alta precisión en la representación de texto.\n",
        "     - Análisis de texto en dominios complejos o especializados.\n",
        "\n",
        "---\n",
        "\n",
        "Para más detalles sobre estos modelos y su implementación, puedes consultar la documentación oficial de OpenAI en [https://platform.openai.com/docs/guides/embeddings](https://platform.openai.com/docs/guides/embeddings).\n"
      ]
    },
    {
      "cell_type": "markdown",
      "metadata": {
        "id": "CnHHAza5_P5Z"
      },
      "source": [
        "\n",
        "#### **Incluye aquí un resumen de las características y diferencias que tiene al menos los tres modelos de OpenAI indicados: \"text-embedding-3-small\", \"text-embedding-3-large\" y \"text-embedding-ada-002\".**"
      ]
    },
    {
      "cell_type": "markdown",
      "metadata": {
        "id": "uTI9xSgF_Xc8"
      },
      "source": [
        "###  ++++++++ Inicia la sección de agregar texto: +++++++++++\n",
        "\n",
        "Todos estos embeddings aceptan únicamente texto como entrada. Son modelos que transforman el texto en representaciones vectoriales.\n",
        "\n",
        "- **text-embedding-3-small**: Es una versión mejorada con mayor rendimiento que el modelo Ada.\n",
        "- **text-embedding-3-large**: Es el más potente para tareas en inglés y otros idiomas.\n",
        "- **text-embedding-ada-002**: Es una versión optimizada con mejor rendimiento que el modelo embedding Ada.\n",
        "\n",
        "\n",
        "<table>\n",
        "  <tr>\n",
        "    <th>Característica</th>\n",
        "    <th>text-embedding-3-small</th>\n",
        "    <th>text-embedding-3-large</th>\n",
        "    <th>text-embedding-ada-002</th>\n",
        "  </tr>\n",
        "  <tr>\n",
        "    <td>Rendimiento</td>\n",
        "    <td>Bueno 🟢🟢</td>\n",
        "    <td>Mejor 🟢🟢🟢</td>\n",
        "    <td>Inferior 🟢</td>\n",
        "  </tr>\n",
        "    <tr>\n",
        "    <td>Velocidad</td>\n",
        "    <td>⏩⏩⏩</td>\n",
        "    <td>⏩⏩</td>\n",
        "    <td>⏩⏩</td>\n",
        "  </tr>\n",
        "  <tr>\n",
        "    <td>Costo por Millon de Token</td>\n",
        "    <td>0.02</td>\n",
        "    <td>0.13</td>\n",
        "    <td>0.10</td>\n",
        "  </tr>\n",
        "</table>\n",
        "\n",
        "### ++++++++ Termina la sección de agregar texto: +++++++++++\n"
      ]
    },
    {
      "cell_type": "markdown",
      "metadata": {
        "id": "ToqRl7fT_fn2"
      },
      "source": [
        "# **Pregunta - 6:**\n",
        "\n",
        "### 6. Generación del diccionario clave-valor con vectores embebidos:\n",
        "\n",
        "1. **Uso de modelos de OpenAI:**  \n",
        "   Utiliza alguno de los modelos de OpenAI para generar vectores embebidos. Debes crear un nuevo diccionario clave-valor donde:\n",
        "   - **Clave:** Cada palabra de tu vocabulario.\n",
        "   - **Valor:** El vector embebido correspondiente, de la dimensión proporcionada por el modelo seleccionado.\n",
        "\n",
        "2. **Guardado del diccionario:**  \n",
        "   Una vez generado el diccionario de vectores embebidos, es recomendable guardarlo en un archivo, utilizando el formato que consideres más adecuado (por ejemplo, `pickle`, `npz` o cualquier otro formato relevante).\n",
        "\n",
        "3. **Colaboración en equipo:**  \n",
        "   Apóyense entre los miembros del equipo para trabajar con los diferentes modelos de vectores embebidos, considerando los costos de cada modelo.\n",
        "\n",
        "4. **Cantidad de tokens utilizados:**  \n",
        "   Indica la cantidad de tokens de OpenAI que se han utilizado durante este proceso.\n",
        "\n",
        "---\n"
      ]
    },
    {
      "cell_type": "markdown",
      "metadata": {
        "id": "BKqQk03oqoOD"
      },
      "source": [
        "#### **Diccionario clave-valor de palabras del diccionario y vectores embebidos.**"
      ]
    },
    {
      "cell_type": "code",
      "source": [
        "# ******* Incluye a continuación todas las líneas de código y celdas que requieras: ***********\n",
        "def obtener_embedding(diccionario,respaldo):\n",
        "  print(f\"Generando embeddings para {len(diccionario):,} registros.\")\n",
        "  ruta_dicc = os.path.join(output_directory, respaldo)\n",
        "  numero_tokens = 0\n",
        "\n",
        "  modelo = \"text-embedding-3-large\"\n",
        "  tokenizador = tiktoken.encoding_for_model(modelo)\n",
        "\n",
        "  conteo_tokens = {clave: len(tokenizador.encode(str(valor))) for clave, valor in diccionario.items()}\n",
        "  total_tokens = sum(conteo_tokens.values())\n",
        "\n",
        "  print(f\"Total estimado de tokens: \\033[32m\\033[1m{total_tokens:,}\\033[0m\")\n",
        "\n",
        "  if os.path.exists(ruta_dicc):\n",
        "      print(f\"El archivo {ruta_dicc} localizado.\")\n",
        "      try:\n",
        "        with open(ruta_dicc, 'rb') as archivo:\n",
        "          diccionario_cargado = pickle.load(archivo)\n",
        "          print(f\"Diccionario cargado.\")\n",
        "        return diccionario_cargado\n",
        "      except pickle.UnpicklingError:\n",
        "        print(f\"Error al cargar el archivo {ruta_dicc}.\")\n",
        "        return None\n",
        "      except Exception as e:\n",
        "        print(f\"Ocurrió un error al cargar el archivo: {e}\")\n",
        "        return None\n",
        "  else:\n",
        "      print(f\"El archivo {ruta_dicc} no localizado.\")\n",
        "      diccionario_vectores = {}\n",
        "\n",
        "      for palabra in diccionario:\n",
        "        respuesta = openai.embeddings.create(\n",
        "        input=palabra,\n",
        "        model=\"text-embedding-3-large\"\n",
        "        )\n",
        "        diccionario_vectores[palabra] = respuesta.data[0].embedding\n",
        "        numero_tokens += respuesta.usage.total_tokens\n",
        "\n",
        "      print(f\"Embeddings generados: {len(diccionario_vectores):,} vectores.\")\n",
        "      print(f\"Total de tokens utilizados: {numero_tokens:,}.\")\n",
        "\n",
        "      with open(respaldo, 'wb') as archivo:\n",
        "        pickle.dump(diccionario_vectores, archivo)\n",
        "\n",
        "      return diccionario_vectores\n",
        "\n",
        "respaldo = 'embeddings_diccionario_larget3.pkl'\n",
        "diccionario_vectores = obtener_embedding(midicc,respaldo)\n",
        "\n",
        "\n",
        "  # *********** Aquí termina la sección de agregar código *************\n",
        "\n"
      ],
      "metadata": {
        "colab": {
          "base_uri": "https://localhost:8080/"
        },
        "id": "E-UDCdwJwwfL",
        "outputId": "665aa291-1105-4648-f79d-ab22d553581d"
      },
      "execution_count": null,
      "outputs": [
        {
          "output_type": "stream",
          "name": "stdout",
          "text": [
            "Generando embeddings para 3,227 registros.\n",
            "Total estimado de tokens: \u001b[32m\u001b[1m3,227\u001b[0m\n",
            "El archivo datos/embeddings_diccionario_larget3.pkl no localizado.\n",
            "Embeddings generados: 3,227 vectores.\n",
            "Total de tokens utilizados: 5,549.\n"
          ]
        }
      ]
    },
    {
      "cell_type": "code",
      "source": [
        "#Modelo 2\n",
        "\n",
        "def obtener_embedding2(diccionario,respaldo2):\n",
        "  print(f\"Generando embeddings para {len(diccionario):,} registros.\")\n",
        "  ruta_dicc = os.path.join(output_directory, respaldo2)\n",
        "  numero_tokens = 0\n",
        "\n",
        "  modelo = \"text-embedding-3-small\"\n",
        "  tokenizador = tiktoken.encoding_for_model(modelo)\n",
        "\n",
        "  conteo_tokens = {clave: len(tokenizador.encode(str(valor))) for clave, valor in diccionario.items()}\n",
        "  total_tokens = sum(conteo_tokens.values())\n",
        "\n",
        "  print(f\"Total estimado de tokens modelo 2: \\033[32m\\033[1m{total_tokens:,}\\033[0m\")\n",
        "\n",
        "  if os.path.exists(ruta_dicc):\n",
        "      print(f\"El archivo {ruta_dicc} localizado.\")\n",
        "      try:\n",
        "        with open(ruta_dicc, 'rb') as archivo:\n",
        "          diccionario_cargado = pickle.load(archivo)\n",
        "          print(f\"Diccionario cargado.\")\n",
        "        return diccionario_cargado\n",
        "      except pickle.UnpicklingError:\n",
        "        print(f\"Error al cargar el archivo {ruta_dicc}.\")\n",
        "        return None\n",
        "      except Exception as e:\n",
        "        print(f\"Ocurrió un error al cargar el archivo: {e}\")\n",
        "        return None\n",
        "  else:\n",
        "      print(f\"El archivo {ruta_dicc} no localizado.\")\n",
        "      diccionario_vectores = {}\n",
        "\n",
        "      for palabra in diccionario:\n",
        "        respuesta = openai.embeddings.create(\n",
        "        input=palabra,\n",
        "        model=\"text-embedding-3-small\"\n",
        "        )\n",
        "        diccionario_vectores[palabra] = respuesta.data[0].embedding\n",
        "        numero_tokens += respuesta.usage.total_tokens\n",
        "\n",
        "      print(f\"Embeddings generados: {len(diccionario_vectores):,} vectores.\")\n",
        "      print(f\"Total de tokens utilizados: {numero_tokens:,}.\")\n",
        "\n",
        "      with open(respaldo2, 'wb') as archivo:\n",
        "        pickle.dump(diccionario_vectores, archivo)\n",
        "\n",
        "      return diccionario_vectores\n",
        "\n",
        "respaldo2 = 'embeddings_diccionario_embedding3Small.pkl'\n",
        "diccionario_vectores2 = obtener_embedding2(midicc, respaldo2)\n"
      ],
      "metadata": {
        "colab": {
          "base_uri": "https://localhost:8080/"
        },
        "id": "tbqkeNmKV5Lo",
        "outputId": "cd3ad335-2d07-4414-87e4-aca2ab9f3b20"
      },
      "execution_count": null,
      "outputs": [
        {
          "output_type": "stream",
          "name": "stdout",
          "text": [
            "Generando embeddings para 3,227 registros.\n",
            "Total estimado de tokens modelo 2: \u001b[32m\u001b[1m3,227\u001b[0m\n",
            "El archivo datos/embeddings_diccionario_embedding3Small.pkl no localizado.\n",
            "Embeddings generados: 3,227 vectores.\n",
            "Total de tokens utilizados: 5,549.\n"
          ]
        }
      ]
    },
    {
      "cell_type": "code",
      "source": [
        "import pickle\n",
        "#Funcion para comparar las salidas de los diccionarios con embedding 3 small y large\n",
        "# Ruta a los archivos Plk\n",
        "archivo_large = 'datos/embeddings_diccionario_larget3.pkl'\n",
        "archivo_small = 'datos/embeddings_diccionario_embedding3Small.pkl'\n",
        "\n",
        "# Función para cargar y mostrar la forma de los vectores\n",
        "def mostrar_dimensionalidad(archivo, nombre_modelo):\n",
        "    with open(archivo, 'rb') as f:\n",
        "        embeddings_dicc = pickle.load(f)\n",
        "\n",
        "    # Tomamos el primer vector para ver su tamaño\n",
        "    primer_clave = next(iter(embeddings_dicc))\n",
        "    vector = embeddings_dicc[primer_clave]\n",
        "\n",
        "    print(f'🔹 {nombre_modelo}')\n",
        "    print(f'Número total de vectores: {len(embeddings_dicc)}')\n",
        "    print(f'Dimensionalidad del vector: {len(vector)}')\n",
        "    print('-' * 50)\n",
        "\n",
        "# Comparar ambos modelos\n",
        "mostrar_dimensionalidad(archivo_large, \"text-embedding-3-large\")\n",
        "mostrar_dimensionalidad(archivo_small, \"text-embedding-3-small\")"
      ],
      "metadata": {
        "colab": {
          "base_uri": "https://localhost:8080/"
        },
        "id": "rLZcpK-K1YKF",
        "outputId": "c976ef33-e098-4cd2-c3b3-cbd18131039b"
      },
      "execution_count": null,
      "outputs": [
        {
          "output_type": "stream",
          "name": "stdout",
          "text": [
            "🔹 text-embedding-3-large\n",
            "Número total de vectores: 3227\n",
            "Dimensionalidad del vector: 3072\n",
            "--------------------------------------------------\n",
            "🔹 text-embedding-3-small\n",
            "Número total de vectores: 3227\n",
            "Dimensionalidad del vector: 1536\n",
            "--------------------------------------------------\n"
          ]
        }
      ]
    },
    {
      "cell_type": "markdown",
      "source": [
        "**Resultados de los dos modelos**\n",
        "\n",
        "🔹** text-embedding-3-large**\n",
        "Generando embeddings para 3,227 registros\n",
        "\n",
        "Total estimado de tokens: 3,227\n",
        "\n",
        "El archivo datos/embeddings_diccionario_larget3.pkl no localizado\n",
        "\n",
        "Embeddings generados: 3,227 vectores\n",
        "\n",
        "Total de tokens utilizados: 5,549\n",
        "\n",
        "Dimensionalidad del Vector: 3072\n",
        "🔹 **text-embedding-3-small**\n",
        "Generando embeddings para 3,227 registros\n",
        "\n",
        "Total estimado de tokens: 3,227\n",
        "\n",
        "El archivo datos/embeddings_diccionario_embedding3.pkl no localizado\n",
        "\n",
        "Embeddings generados: 3,227 vectores\n",
        "\n",
        "Total de tokens utilizados: 5,549\n",
        "\n",
        "Dimensionalidad del Vector: 1536\n",
        "\n",
        "**Comparativa**\n",
        "Ambos modelos procesaron las mismas 3 227 entradas y estimaron idénticamente 3 227 tokens de entrada, generando cada uno 3 227 vectores y usando realmente 5 549 tokens en la API. Esto confirma que, desde el punto de vista del conteo de entrada, el preprocesamiento y la tokenización fueron consistentes.\n",
        "\n",
        "*   text-embedding-3-large produjo vectores de dimensión 3 072.\n",
        "*   text-embedding-3-small produjo vectores de dimensión 1 536.\n",
        "\n",
        "Tener el doble de dimensiones en el modelo “large” indica mayor capacidad para capturar matices semánticos, pero también implica mayor uso de memoria y cómputo en posteriores etapas de modelado.\n",
        "\n",
        "Aunque ambos modelos consumieron el mismo número de tokens, el coste por token de text-embedding-3-large es sustancialmente mayor que el de text-embedding-3-small. En aplicaciones con gran volumen de datos, elegir el modelo “small” puede suponer un ahorro notable sin sacrificar demasiado la calidad de la representación.\n",
        "\n"
      ],
      "metadata": {
        "id": "tCJbA5l_n7kV"
      }
    },
    {
      "cell_type": "markdown",
      "metadata": {
        "id": "W4S7q0yR0Mpi"
      },
      "source": [
        "# **Pregunta - 7:**\n",
        "\n",
        "### 7. Uso de vectores embebidos en modelos de aprendizaje automático:\n",
        "\n",
        "1. **Promediado de vectores embebidos:**  \n",
        "   Una manera de utilizar los vectores embebidos con modelos de aprendizaje automático es asignar a cada comentario un único vector embebido de dimensión predeterminada. Este vector es el resultado de promediar todos los vectores embebidos de cada una de las palabras (tokens) del comentario.\n",
        "\n",
        "2. **Generación de conjuntos de datos:**  \n",
        "   En este ejercicio, deberás generar los siguientes conjuntos:\n",
        "   - **trainEmb**: Conjunto de entrenamiento.\n",
        "   - **valEmb**: Conjunto de validación.\n",
        "   - **testEmb**: Conjunto de prueba.\n",
        "\n",
        "   En cada uno de estos conjuntos, cada comentario estará representado por un solo vector de dimensión dada por el modelo de OpenAI seleccionado.\n",
        "\n",
        "---\n"
      ]
    },
    {
      "cell_type": "markdown",
      "metadata": {
        "id": "VyeOrkoaC1eq"
      },
      "source": [
        "\n",
        "\n",
        "Generamos los vectores embebidos a partir de los conjuntos de entrenamiento, validación y prueba.\n",
        "\n",
        "Los llamaremos trainEmb, valEmb y testEmb, respectivamente."
      ]
    },
    {
      "cell_type": "code",
      "execution_count": null,
      "metadata": {
        "id": "wnfQpkxg0Usq"
      },
      "outputs": [],
      "source": [
        "# ******* Incluye a continuación todas las líneas de código y celdas que requieras: ***********\n",
        "\n",
        "def average_embedding(comentario, diccionario):\n",
        "    vectors = [diccionario[word] for word in comentario if word in diccionario]\n",
        "    return np.mean(vectors, axis=0) if vectors else np.zeros(len(next(iter(diccionario.values()))))\n",
        "\n",
        "trainEmb = np.array([average_embedding(comentario, diccionario_vectores) for comentario in train_x])\n",
        "valEmb = np.array([average_embedding(comentario, diccionario_vectores) for comentario in val_x])\n",
        "testEmb = np.array([average_embedding(comentario, diccionario_vectores) for comentario in test_x])\n",
        "# *********** Aquí termina la sección de agregar código *************"
      ]
    },
    {
      "cell_type": "code",
      "execution_count": null,
      "metadata": {
        "colab": {
          "base_uri": "https://localhost:8080/"
        },
        "id": "J3BBF96D0N8Z",
        "outputId": "95b11a0e-e109-4239-9c17-d565b25b7596"
      },
      "outputs": [
        {
          "output_type": "stream",
          "name": "stdout",
          "text": [
            "Train-Emb: (2100, 3072)\n",
            "Val-Emb: (450, 3072)\n",
            "Test-Emb: (450, 3072)\n"
          ]
        }
      ],
      "source": [
        "# Veamos las dimensiones de cada conjunto embebido:\n",
        "\n",
        "print(\"Train-Emb:\", trainEmb.shape)\n",
        "print(\"Val-Emb:\", valEmb.shape)\n",
        "print(\"Test-Emb:\", testEmb.shape)"
      ]
    },
    {
      "cell_type": "markdown",
      "metadata": {
        "id": "pibp1LA91CP_"
      },
      "source": [
        "# **Pregunta - 8:**\n",
        "\n",
        "### 8. Modelos de regresión logística y bosque aleatorio con conjuntos embebidos:\n",
        "\n",
        "1. **Modelos a utilizar:**  \n",
        "   Utiliza los nuevos conjuntos embebidos de entrenamiento y validación para obtener los siguientes modelos de aprendizaje automático:\n",
        "   - **Regresión logística.**\n",
        "   - **Bosque aleatorio (Random Forest).**\n",
        "\n",
        "2. **Evaluación de los modelos:**  \n",
        "   Para cada modelo, muestra los siguientes resultados:\n",
        "   - **Exactitud (accuracy).**\n",
        "   - **Reporte de clasificación:** Utiliza la función `classification_report()` de **sklearn**.\n",
        "\n",
        "3. **Verificación de sobreentrenamiento:**  \n",
        "   Asegúrate de verificar que los modelos no estén sobreentrenados (overfitting).\n",
        "\n",
        "4. **Comparación de resultados:**  \n",
        "   Compara los resultados obtenidos con los que obtuviste en la actividad de la semana pasada.\n",
        "\n",
        "5. **Modelos adicionales:**  \n",
        "   Si lo consideras adecuado, puedes incluir algún otro modelo de aprendizaje automático para comparar los resultados.\n",
        "\n",
        "---\n"
      ]
    },
    {
      "cell_type": "markdown",
      "metadata": {
        "id": "UxC9K0VnGOwG"
      },
      "source": [
        "\n",
        "Utiliza los modelos de regresión logística y bosque aleatorio (random forest) y encuentra sus desempeños.\n",
        "\n",
        "Compara los resultados con los de la semana anterior."
      ]
    },
    {
      "cell_type": "code",
      "source": [
        "def resultados(modelo, trainEmb,y_train,valEmb,y_val,testEmb):\n",
        "\n",
        "  target_names = ['0', '1']\n",
        "  headers = [\"Clase\", \"Precisión\", \"Recall\", \"F1-Score\", \"Soporte\"]\n",
        "\n",
        "  nombre = type(modelo).__name__\n",
        "\n",
        "  print(f\"Modelo → \\033[36m{nombre}\\033[0m\")\n",
        "  print(f\"--\"*29)\n",
        "\n",
        "  modelo.fit(trainEmb, y_train)\n",
        "  y_pred = modelo.predict(testEmb)\n",
        "\n",
        "  score_train = modelo.score(trainEmb, y_train)\n",
        "  score_val = modelo.score(valEmb, y_val)\n",
        "\n",
        "\n",
        "  report = classification_report(y_val, y_pred, target_names=target_names, output_dict=True)\n",
        "\n",
        "  table = [[key] + [f\"{v:.4f}\" for v in values.values()] for key, values in report.items() if isinstance(values, dict)]\n",
        "\n",
        "\n",
        "  print(tabulate(table, headers=headers))\n",
        "\n",
        "  plt.figure(figsize=(3, 3))\n",
        "  sns.heatmap(confusion_matrix(y_pred,y_test),# normalize='true'),\n",
        "            annot=True, fmt='d',\n",
        "            cmap='Blues',\n",
        "            cbar=False,\n",
        "            xticklabels=['0', '1'],\n",
        "            yticklabels=['0', '1'],\n",
        "            )\n",
        "\n",
        "\n",
        "  plt.text(1.05, 0.6, f'Train Score: {round(score_train*100,4)}%\\nVal Score: {round(score_val*100,4)}%',\n",
        "         fontsize=12, color='black', ha='left', va='top', transform=plt.gca().transAxes)\n",
        "  plt.title(\"Matriz de confusión\")\n",
        "  plt.xlabel('Predicción')\n",
        "  plt.ylabel('Valor Real')\n",
        "  plt.show()\n",
        "\n",
        "  resultado = {modelo: {\"score_train\": round(score_train*100,4), \"score_val\": round(score_val*100,4)}}\n",
        "\n",
        "  return resultado\n",
        "\n"
      ],
      "metadata": {
        "id": "304lde0-e8x1"
      },
      "execution_count": null,
      "outputs": []
    },
    {
      "cell_type": "code",
      "execution_count": null,
      "metadata": {
        "colab": {
          "base_uri": "https://localhost:8080/",
          "height": 479
        },
        "id": "ycwjD8ztGOL7",
        "outputId": "a63b2fd1-c4ba-4e5a-af11-947275d318e5"
      },
      "outputs": [
        {
          "output_type": "stream",
          "name": "stdout",
          "text": [
            "Modelo → \u001b[36mLogisticRegression\u001b[0m\n",
            "----------------------------------------------------------\n",
            "Clase           Precisión    Recall    F1-Score    Soporte\n",
            "------------  -----------  --------  ----------  ---------\n",
            "0                  0.5175    0.5463      0.5315        216\n",
            "1                  0.5586    0.5299      0.5439        234\n",
            "macro avg          0.5381    0.5381      0.5377        450\n",
            "weighted avg       0.5389    0.5378      0.5379        450\n"
          ]
        },
        {
          "output_type": "display_data",
          "data": {
            "text/plain": [
              "<Figure size 300x300 with 1 Axes>"
            ],
            "image/png": "[encoded data removed]"
          },
          "metadata": {}
        }
      ],
      "source": [
        "# REGRESIÓN LOGÍSTICA:\n",
        "\n",
        "# ******* Incluye a continuación todas las líneas de código y celdas que requieras: ***********\n",
        "modeloLR = LogisticRegression(  max_iter=100\n",
        "                              , C=3\n",
        "                              , penalty= 'l2'\n",
        "                              , solver='lbfgs'\n",
        "                             )\n",
        "resultadoLR = resultados(modeloLR, trainEmb,y_train,valEmb,y_val,testEmb)\n",
        "\n",
        "# *********** Aquí termina la sección de agregar código *************\n"
      ]
    },
    {
      "cell_type": "code",
      "execution_count": null,
      "metadata": {
        "colab": {
          "base_uri": "https://localhost:8080/",
          "height": 479
        },
        "id": "N4n70GHW0sl3",
        "outputId": "2f865ba7-334b-446b-f7f8-f7a75e3aea7d"
      },
      "outputs": [
        {
          "output_type": "stream",
          "name": "stdout",
          "text": [
            "Modelo → \u001b[36mRandomForestClassifier\u001b[0m\n",
            "----------------------------------------------------------\n",
            "Clase           Precisión    Recall    F1-Score    Soporte\n",
            "------------  -----------  --------  ----------  ---------\n",
            "0                  0.5339    0.6204      0.5739        216\n",
            "1                  0.5879    0.5         0.5404        234\n",
            "macro avg          0.5609    0.5602      0.5571        450\n",
            "weighted avg       0.562     0.5578      0.5565        450\n"
          ]
        },
        {
          "output_type": "display_data",
          "data": {
            "text/plain": [
              "<Figure size 300x300 with 1 Axes>"
            ],
            "image/png": "[encoded data removed]"
          },
          "metadata": {}
        }
      ],
      "source": [
        "# BOSQUE ALEATORIO (Random Forest):\n",
        "\n",
        "# ******* Incluye a continuación todas las líneas de código y celdas que requieras: ***********\n",
        "modeloRF = RandomForestClassifier(  n_estimators=100\n",
        "                                  , max_depth= 1\n",
        "                                  , criterion='gini'\n",
        "                                  , min_samples_split=2\n",
        "                                  , random_state=42\n",
        "                                  )\n",
        "resultadoRF = resultados(modeloRF,trainEmb,y_train,valEmb,y_val,testEmb)\n",
        "# *********** Aquí termina la sección de agregar código *************"
      ]
    },
    {
      "cell_type": "markdown",
      "metadata": {
        "id": "WDIiSHvg0_hm"
      },
      "source": [
        "# **Pregunta - 9:**\n",
        "\n",
        "### 9. Evaluación del mejor modelo con el conjunto de prueba:\n",
        "\n",
        "1. **Selección del mejor modelo:**  \n",
        "   Utiliza el mejor modelo obtenido en el ejercicio anterior.\n",
        "\n",
        "2. **Evaluación con el conjunto de prueba:**  \n",
        "   Aplica el nuevo conjunto de prueba para obtener los siguientes resultados:\n",
        "   - **Matriz de confusión**: La mejor matriz de confusión para el modelo seleccionado.\n",
        "   - **Reporte de clasificación:** Utiliza la función `classification_report()` de **sklearn**.\n",
        "\n",
        "---\n"
      ]
    },
    {
      "cell_type": "markdown",
      "metadata": {
        "id": "dJJtALGZHrGk"
      },
      "source": [
        "\n",
        "\n",
        "Reporte del mejor modelo con el conjunto de Prueba (Test).\n"
      ]
    },
    {
      "cell_type": "code",
      "execution_count": null,
      "metadata": {
        "colab": {
          "base_uri": "https://localhost:8080/",
          "height": 552
        },
        "id": "ETv4VLjP1GYt",
        "outputId": "ad3bfad8-0315-4f9e-aae0-4604b1b9e399"
      },
      "outputs": [
        {
          "output_type": "stream",
          "name": "stdout",
          "text": [
            "Obteniendo resultados del mejor modelo\n",
            "----------------------------------------------------------\n",
            "Score en entrenamiento: \u001b[32m\u001b[1m85.4762\u001b[0m\n",
            "Score en validación: \u001b[32m\u001b[1m84.0\u001b[0m\n",
            "Modelo → \u001b[36mLogisticRegression\u001b[0m\n",
            "----------------------------------------------------------\n",
            "Clase           Precisión    Recall    F1-Score    Soporte\n",
            "------------  -----------  --------  ----------  ---------\n",
            "0                  0.5175    0.5463      0.5315        216\n",
            "1                  0.5586    0.5299      0.5439        234\n",
            "macro avg          0.5381    0.5381      0.5377        450\n",
            "weighted avg       0.5389    0.5378      0.5379        450\n"
          ]
        },
        {
          "output_type": "display_data",
          "data": {
            "text/plain": [
              "<Figure size 300x300 with 1 Axes>"
            ],
            "image/png": "[encoded data removed]"
          },
          "metadata": {}
        }
      ],
      "source": [
        "# ******* Incluye a continuación todas las líneas de código y celdas que requieras: ***********\n",
        "\n",
        "# Se combinan los diccionarios resultadoLR y resultadoRF en un solo diccionario llamado resultados_entrenamiento.\n",
        "resultados_entrenamiento = {**resultadoLR, **resultadoRF}\n",
        "\n",
        "# Se selecciona el modelo con el mejor desempeño en la validación utilizando el score_val como criterio de comparación.\n",
        "mejorModelo = max(resultados_entrenamiento.items(), key=lambda item: item[1]['score_val'])\n",
        "\n",
        "# Se imprimen los resultados del mejor modelo identificado en la validación.\n",
        "print(f\"Obteniendo resultados del mejor modelo\")\n",
        "print(f\"--\"*29)\n",
        "print(f\"Score en entrenamiento: \\033[32m\\033[1m{mejorModelo[1]['score_train']}\\033[0m\")\n",
        "print(f\"Score en validación: \\033[32m\\033[1m{mejorModelo[1]['score_val']}\\033[0m\")\n",
        "\n",
        "resultado = resultados(mejorModelo[0], trainEmb,y_train,valEmb,y_val,testEmb)\n",
        "\n",
        "# *********** Aquí termina la sección de agregar código *************"
      ]
    },
    {
      "cell_type": "markdown",
      "metadata": {
        "id": "NbhBUBKJp1MB"
      },
      "source": [
        "# **Pregunta - 10:**\n",
        "\n",
        "### 10. Segunda parte de la actividad:\n",
        "\n",
        "1. **Transformación a vectores embebidos:**  \n",
        "   Realiza la transformación a vectores embebidos de todos los 3000 comentarios tal como están dados en los archivos.  \n",
        "   - Selecciona el modelo de vector embebido que consideres más adecuado.\n",
        "   - Indica la cantidad de tokens de OpenAI utilizados en el proceso.\n",
        "\n",
        "2. **Partición de datos (Train-Val-Test):**  \n",
        "   Realiza una partición de los datos en los siguientes conjuntos:\n",
        "   - **Train:** 70%\n",
        "   - **Validation (Val):** 15%\n",
        "   - **Test:** 15%  \n",
        "   Utiliza la misma semilla que empleaste en el ejercicio 3 para la partición de los datos.\n",
        "\n",
        "3. **Modelos de aprendizaje automático:**  \n",
        "   Utiliza los modelos de regresión logística y bosque aleatorio (random forest) para este problema de clasificación.  \n",
        "   Para cada modelo, muestra los siguientes resultados:\n",
        "   - **Exactitud (accuracy).**\n",
        "   - **Reporte de clasificación:** Utiliza la función `classification_report()` de **sklearn**.\n",
        "\n",
        "4. **Verificación de sobreentrenamiento:**  \n",
        "   Asegúrate de verificar que los modelos no estén sobreentrenados (overfitting).\n",
        "\n",
        "5. **Comparación de resultados:**  \n",
        "   Compara los resultados obtenidos con los de la primera parte de la actividad.\n",
        "\n",
        "6. **Modelos adicionales (opcional):**  \n",
        "   Si lo consideras adecuado, puedes incluir algún otro modelo de aprendizaje automático para comparar los resultados.\n",
        "\n",
        "---\n"
      ]
    },
    {
      "cell_type": "code",
      "execution_count": null,
      "metadata": {
        "id": "3zPSi-H7p6ga",
        "colab": {
          "base_uri": "https://localhost:8080/"
        },
        "outputId": "d3fcadc0-67ba-413a-a041-f15dd646cdc2"
      },
      "outputs": [
        {
          "output_type": "stream",
          "name": "stdout",
          "text": [
            "Generando embeddings para 2,982 registros.\n",
            "Total estimado de tokens: \u001b[32m\u001b[1m2,982\u001b[0m\n",
            "El archivo datos/embeddings_diccionario_p10.pkl localizado.\n",
            "Diccionario cargado.\n"
          ]
        }
      ],
      "source": [
        "# Incluye todas las líneas de código y celdas que consideres adecuadas para este ejercicio.\n",
        "\n",
        "# Se crea un diccionario que asigna cada reseña ('review') a su etiqueta ('label').\n",
        "tokens_comentario = dict(zip(df['review'],df['label']))\n",
        "\n",
        "# Se realiza una copia del DataFrame original para preservar los datos antes de modificaciones.\n",
        "df_comentario = df.copy()\n",
        "\n",
        "# Se generan o recuperan los embeddings.\n",
        "respaldo = 'embeddings_diccionario_p10.pkl'\n",
        "diccionario_comentario = obtener_embedding(tokens_comentario,respaldo)\n",
        "\n",
        "# Se asigna el embedding correspondiente a cada reseña en el DataFrame, mapeando los valores con el diccionario generado.\n",
        "df_comentario[\"embedding\"] = df_comentario[\"review\"].map(diccionario_comentario)\n",
        "\n",
        "\n",
        "# ******* Incluye a continuación todas las líneas de código y celdas que requieras\n"
      ]
    },
    {
      "cell_type": "code",
      "source": [
        "X_embeding = df_comentario[\"embedding\"].to_list()\n",
        "\n",
        "# ——————————————————————————\n",
        "# 1️⃣ Partición inicial: 70% train, 30% (val + test)\n",
        "# ——————————————————————————\n",
        "\n",
        "x_train, x_val_and_test, y_train, y_val_and_test = train_test_split(\n",
        "    X_embeding,           # Lista de comentarios procesados\n",
        "    Y,                    # Serie de etiquetas\n",
        "    train_size=0.70,      # 70% para entrenamiento\n",
        "    shuffle=True,         # Mezclar antes de partir\n",
        "    random_state=1        # Semilla para reproducibilidad\n",
        ")\n",
        "\n",
        "# ——————————————————————————\n",
        "# 2️⃣ Partición secundaria: 50% validación, 50% test del 30% restante\n",
        "# ——————————————————————————\n",
        "x_val, x_test, y_val, y_test = train_test_split(\n",
        "    x_val_and_test,       # Comentarios (30%)\n",
        "    y_val_and_test,       # Etiquetas (30%)\n",
        "    test_size=0.50,       # 15% validación, 15% test\n",
        "    shuffle=True,         # Volver a mezclar\n",
        "    random_state=17       # Otra semilla para variación\n",
        ")"
      ],
      "metadata": {
        "id": "RNeR3u8ojB1j"
      },
      "execution_count": null,
      "outputs": []
    },
    {
      "cell_type": "code",
      "source": [
        "resultadoLRemb = resultados(modeloLR, x_train,y_train,x_val,y_val,x_test)"
      ],
      "metadata": {
        "colab": {
          "base_uri": "https://localhost:8080/",
          "height": 479
        },
        "id": "qXj4xvv1hwdu",
        "outputId": "3b012036-10a8-4c06-a6be-720b6e548e4c"
      },
      "execution_count": null,
      "outputs": [
        {
          "output_type": "stream",
          "name": "stdout",
          "text": [
            "Modelo → \u001b[36mLogisticRegression\u001b[0m\n",
            "----------------------------------------------------------\n",
            "Clase           Precisión    Recall    F1-Score    Soporte\n",
            "------------  -----------  --------  ----------  ---------\n",
            "0                  0.4815    0.4815      0.4815        216\n",
            "1                  0.5214    0.5214      0.5214        234\n",
            "macro avg          0.5014    0.5014      0.5014        450\n",
            "weighted avg       0.5022    0.5022      0.5022        450\n"
          ]
        },
        {
          "output_type": "display_data",
          "data": {
            "text/plain": [
              "<Figure size 300x300 with 1 Axes>"
            ],
            "image/png": "[encoded data removed]"
          },
          "metadata": {}
        }
      ]
    },
    {
      "cell_type": "code",
      "source": [
        "resultadoRFemb = resultados(modeloRF, x_train,y_train,x_val,y_val,x_test)"
      ],
      "metadata": {
        "colab": {
          "base_uri": "https://localhost:8080/",
          "height": 479
        },
        "id": "bxNxswnKhxbK",
        "outputId": "ea074b57-b3f0-4b2a-9b36-a5c040d1d549"
      },
      "execution_count": null,
      "outputs": [
        {
          "output_type": "stream",
          "name": "stdout",
          "text": [
            "Modelo → \u001b[36mRandomForestClassifier\u001b[0m\n",
            "----------------------------------------------------------\n",
            "Clase           Precisión    Recall    F1-Score    Soporte\n",
            "------------  -----------  --------  ----------  ---------\n",
            "0                  0.4789    0.4722      0.4755        216\n",
            "1                  0.519     0.5256      0.5223        234\n",
            "macro avg          0.4989    0.4989      0.4989        450\n",
            "weighted avg       0.4997    0.5         0.4998        450\n"
          ]
        },
        {
          "output_type": "display_data",
          "data": {
            "text/plain": [
              "<Figure size 300x300 with 1 Axes>"
            ],
            "image/png": "[encoded data removed]"
          },
          "metadata": {}
        }
      ]
    },
    {
      "cell_type": "markdown",
      "metadata": {
        "id": "YCkh2WfN1MC1"
      },
      "source": [
        "# **Pregunta - 11:**\n",
        "\n",
        "11. Comparen los resultados obtenidos e incluyan sus comentarios finales de la actividad."
      ]
    },
    {
      "cell_type": "markdown",
      "metadata": {
        "id": "4ySFuDQtVuK5"
      },
      "source": [
        "\n",
        "\n",
        "Incluye tus comentarios finales de la actividad.\n",
        "\n",
        "### ++++++++ Inicia la sección de agregar texto: +++++++++++\n",
        "\n",
        "| Modelo              | Accuracy Entrenamiento | Accuracy Validación | F1-Score clase 1 | FP / FN |\n",
        "| ------------------- | ---------------------- | ------------------- | ---------------- | ------- |\n",
        "| Logistic Regression | 99.05%                 | 98.67%              | 0.5214           | 2 / 2   |\n",
        "| Random Forest       | 97.48%                 | 97.56%              | 0.5223           | 5 / 8   |\n",
        "\n",
        "Basado en los resultados podemos concluir que:\n",
        "Logistic Regression es el modelo más eficiente en este caso, debido a que tiene una, mayor precisión en validación, un menor número de errores (FP + FN). Aunque ambos modelos muestran un ligero gap entre entrenamiento y validación, no hay signos severos de sobreentrenamiento.\n",
        "\n",
        "El uso de vectores embebidos preentrenados (como embeddings de OpenAI) permitió representar el significado semántico de las palabras, mejorando la capacidad del modelo para generalizar; donde a diferencia de CountVectorizer o TF-IDF, los vectores embebidos capturan relaciones contextuales entre palabras.\n",
        "\n",
        "Los vectores embebidos mejoran drásticamente el desempeño del modelo, al proporcionar representaciones más ricas que los enfoques clásicos basados en frecuencia. La utlización personalizados permite representar los textos de forma densa y contextual, facilitando un mejor aprendizaje, incluso con modelos lineales como regresión logística.\n",
        "\n",
        "Por otro lado la técnica de promediado de embeddings es efectiva y computacionalmente eficiente, ya que captura el significado general del texto, reflejando bien la polaridad o intención semántica, funciona con textos de cualquier longitud, generando vectores de tamaño fijo y reduce el uso de recursos de cómputo.\n",
        "\n",
        "Hay que tomar en cuenta el tipo de modelo con el que se generan los vectores, en la pregunta 6 observamos que el número de tokens fue el mismo, sin embargo, el costo varía sustancialmente entre el modelo \"text-embedding-3-small\" y \"text-embedding-3-large\". Para tareas de clasificación de texto a gran escala donde la velocidad, la memoria y el costo son críticos, text-embedding-3-small suele ser la mejor opción. Si el dominio requiere máxima fidelidad semántica y el presupuesto lo permite, text-embedding-3-large aportará un nivel adicional de detalle en las representaciones.\n",
        "\n",
        "Modelos como Random Forest y Regresión Logística pueden beneficiarse significativamente de la respresentación de promedidado de embeddings.\n",
        "\n",
        "El elaborar un diccionario personalizado y realizar nuestros propios modelos embebidos a través de algunos modelos disponibles tienen algunas ventajas particulares dependiendo el tipo de aplicación, por ejemplo: Puedes modificar cada etapa del preprocesamiento, selección de vocabulario, modelo y métricas, una vez entrenado, correr un modelo propio es más barato que pagar por cada consulta a un modelo comercial y puedes mantener todos los datos en tu entorno local, sin enviarlos a servicios externos.\n",
        "\n",
        "### ++++++++ Termina la sección de agregar texto: +++++++++++"
      ]
    },
    {
      "cell_type": "markdown",
      "metadata": {
        "id": "bgKHmQTbWJT1"
      },
      "source": [
        "# **Fin de la Actividad de Vectores Embebidos - OpenAI**"
      ]
    }
  ],
  "metadata": {
    "colab": {
      "provenance": [],
      "include_colab_link": true
    },
    "kernelspec": {
      "display_name": "Python 3",
      "name": "python3"
    }
  },
  "nbformat": 4,
  "nbformat_minor": 0
}