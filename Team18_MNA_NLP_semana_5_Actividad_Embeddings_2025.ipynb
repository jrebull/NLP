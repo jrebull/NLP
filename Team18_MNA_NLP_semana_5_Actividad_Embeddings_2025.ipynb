{
  "cells": [
    {
      "cell_type": "markdown",
      "metadata": {
        "id": "view-in-github",
        "colab_type": "text"
      },
      "source": [
        "<a href=\"https://colab.research.google.com/github/jrebull/NLP/blob/main/Team18_MNA_NLP_semana_5_Actividad_Embeddings_2025.ipynb\" target=\"_parent\"><img src=\"https://colab.research.google.com/assets/colab-badge.svg\" alt=\"Open In Colab\"/></a>"
      ]
    },
    {
      "cell_type": "markdown",
      "metadata": {
        "id": "yxy82L3P_8QV"
      },
      "source": [
        "# ✨ **Actividad 3 5.2: Explorando Vectores Embebidos con OpenAI** ✨\n",
        "## _Análisis Continuado de Datasets: Amazon, Yelp & IMDb - Semana 5 y 6_\n",
        "\n",
        "---\n",
        "---\n",
        "\n",
        "## 🗓️ **Información General**\n",
        "> **Fecha de Entrega:** Lunes, 26 de Mayo de 2025\n",
        ">\n",
        "> **Versión del Documento:** `vFinal`\n",
        "\n",
        "---\n",
        "---\n",
        "\n",
        "## 👥 **Autores del Proyecto**\n",
        "\n",
        "> #### 🙅🏼‍♀️ **Iris Monserrat Urbina Casas** `A01795999`\n",
        ">\n",
        "> #### 🙆🏼‍♂️ **Javier Augusto Rebull Saucedo** `A01795838`\n",
        ">\n",
        "> #### 🙆🏼‍♂️ **Juan Carlos Pérez Nava** `A01795941`\n",
        ">\n",
        "> #### 🙅🏼‍♀️ **Sihiní Trinidad Sánchez** `A00889358`\n",
        "\n",
        "---\n",
        "---\n",
        "\n",
        "## 👨‍🏫 **Supervisión Académica**\n",
        "> **Profesor Tutor:**\n",
        ">\n",
        "> Dr. Rodolfo Miguel Gameros Leal\n",
        "\n",
        "> **Profesor Titular:**\n",
        ">\n",
        "> Dr. Luis Eduardo Falcón Morales\n",
        "\n",
        "---\n",
        "---"
      ]
    },
    {
      "cell_type": "markdown",
      "metadata": {
        "id": "lNl8G3vHkPSX"
      },
      "source": [
        "# **Maestría en Inteligencia Artificial Aplicada**\n",
        "\n",
        "## Curso: **Procesamiento de Lenguaje Natural**\n",
        "\n",
        "### Tecnológico de Monterrey\n",
        "\n",
        "### Prof Luis Eduardo Falcón Morales\n",
        "\n",
        "## Actividad Semana 5 y Semana 6\n",
        "\n",
        "### **Vectores Embebidos de OpenAI**"
      ]
    },
    {
      "cell_type": "markdown",
      "metadata": {
        "id": "ZaY-WLX52dxq"
      },
      "source": [
        "---\n",
        "\n",
        "\n",
        "## 💡 Introducción\n",
        "\n",
        "En la actividad de esta semana, trabajarás en equipos con el modelo de **vectores embebidos** de OpenAI.\n",
        "\n",
        "Los actuales **Modelos de Lenguaje de Gran Escala (LLM)** son capaces de generar vectores embebidos para cada token, palabra o enunciado que les proporciones. Es crucial considerar que el **coste computacional** y de uso de **recursos** será un factor determinante al elegir qué modelo o aproximación utilizar.\n",
        "\n",
        "Una forma inicial de trabajar con estos modelos preentrenados implica los siguientes pasos:\n",
        "\n",
        "> 1.  Generar un **vocabulario** a partir de tu conjunto de datos de entrenamiento.\n",
        "> 2.  Posteriormente, cada palabra de tu vocabulario se sustituye por su correspondiente **vector embebido** preentrenado.\n",
        "> 3.  De manera predeterminada, cuando no exista un vector para una palabra en particular, se suele elegir el vector más cercano en términos de **similaridad coseno**, o bien, se puede optar por eliminar dicha palabra del análisis.\n",
        "\n",
        "Existen diversas propuestas para utilizar estos **vectores embebidos** como entrada para modelos de aprendizaje automático. Cuando se trabaja con los vectores embebidos de cada palabra o token individual, una forma común de representar un enunciado completo es calculando el **vector promedio** de todos los vectores embebidos que lo componen.\n",
        "\n",
        "🎯 En esta actividad, el objetivo principal será comparar el rendimiento de diferentes modelos de **aprendizaje automático** (machine learning) cuando se utilizan:\n",
        "    * Vectores embebidos a nivel de palabra (promediados por enunciado).\n",
        "    * Vectores embebidos aplicados directamente a los comentarios completos.\n",
        "\n",
        "---"
      ]
    },
    {
      "cell_type": "markdown",
      "source": [
        "## 📖 Marco Teórico: Vectores Embebidos y Modelos de Lenguaje para el Análisis de Texto\n",
        "\n",
        "El análisis de sentimientos y la clasificación de texto son tareas fundamentales en el **Procesamiento de Lenguaje Natural (PNL)**, con aplicaciones que van desde la comprensión de la opinión del cliente hasta la moderación de contenido. Tradicionalmente, se han utilizado enfoques basados en la frecuencia de palabras como **TF-IDF** (Term Frequency-Inverse Document Frequency). Sin embargo, estos métodos a menudo no capturan las relaciones semánticas matizadas entre palabras (Aggarwal, 2018).\n",
        "\n",
        "### Vectores Embebidos de Palabras (Word Embeddings)\n",
        "\n",
        "Los **vectores embebidos de palabras** (word embeddings) han representado un avance significativo al mapear palabras o frases de un vocabulario a vectores de números reales en un espacio de baja dimensión. Estos vectores están entrenados de tal manera que las palabras con significados similares se encuentran cerca en el espacio vectorial, permitiendo a los modelos capturar el contexto y la semántica (Mikolov et al., 2013a; Pennington et al., 2014). Modelos como **Word2Vec** (Mikolov et al., 2013a) y **GloVe** (Pennington et al., 2014) fueron pioneros en esta área, aprendiendo estos vectores a partir de grandes corpus de texto.\n",
        "\n",
        "Una técnica común para representar un documento o enunciado a partir de los vectores embebidos de sus palabras es calcular el **vector promedio** de los vectores de todas las palabras que lo componen. Si bien es un método simple, ha demostrado ser una línea base robusta para diversas tareas de PNL (Aggarwal, 2018).\n",
        "\n",
        "### Modelos de Lenguaje de Gran Escala (LLMs) y Embeddings Contextuales\n",
        "\n",
        "Más recientemente, los **Modelos de Lenguaje de Gran Escala (LLMs)**, basados en la arquitectura **Transformer** (Vaswani et al., 2017), como los modelos de **OpenAI** (por ejemplo, la familia GPT), han llevado los embeddings a un nuevo nivel. Estos modelos pueden generar **embeddings contextuales**, lo que significa que la representación vectorial de una palabra puede cambiar según el contexto en el que aparece. Esto contrasta con los embeddings estáticos como Word2Vec, donde cada palabra tiene una única representación vectorial.\n",
        "\n",
        "Los LLMs pueden generar embeddings para tokens, palabras individuales o enunciados completos. La elección del modelo y la granularidad del embedding (palabra vs. enunciado) pueden tener un impacto significativo en el rendimiento y el costo computacional (OpenAI, 2023). En esta actividad, se explorará el uso de los embeddings proporcionados por OpenAI para la tarea de clasificación de texto.\n",
        "\n",
        "### Aplicación en Aprendizaje Automático\n",
        "\n",
        "Una vez que el texto se convierte en representaciones vectoriales numéricas mediante embeddings, se pueden utilizar diversos algoritmos de **aprendizaje automático supervisado** para la clasificación. Modelos como la **regresión logística** y los **bosques aleatorios (random forests)** son opciones comunes y efectivas para este tipo de tareas, proporcionando un buen equilibrio entre interpretabilidad y rendimiento (James et al., 2013). La evaluación de estos modelos se realiza comúnmente utilizando métricas como la **exactitud (accuracy)** y el **reporte de clasificación**, que incluye precisión, recall y F1-score por clase."
      ],
      "metadata": {
        "id": "-b-RAHoJsN3y"
      }
    },
    {
      "cell_type": "markdown",
      "source": [
        "---\n",
        "---\n",
        "# Definicion de librerias"
      ],
      "metadata": {
        "id": "pBAfCo3CuA3r"
      }
    },
    {
      "cell_type": "code",
      "execution_count": 1,
      "metadata": {
        "colab": {
          "base_uri": "https://localhost:8080/"
        },
        "id": "wCL2p6MA8NuT",
        "outputId": "fc844ee2-313c-43fe-b670-1cf1129fdd69"
      },
      "outputs": [
        {
          "output_type": "stream",
          "name": "stdout",
          "text": [
            "Collecting contractions\n",
            "  Downloading contractions-0.1.73-py2.py3-none-any.whl.metadata (1.2 kB)\n",
            "Collecting textsearch>=0.0.21 (from contractions)\n",
            "  Downloading textsearch-0.0.24-py2.py3-none-any.whl.metadata (1.2 kB)\n",
            "Collecting anyascii (from textsearch>=0.0.21->contractions)\n",
            "  Downloading anyascii-0.3.2-py3-none-any.whl.metadata (1.5 kB)\n",
            "Collecting pyahocorasick (from textsearch>=0.0.21->contractions)\n",
            "  Downloading pyahocorasick-2.1.0-cp311-cp311-manylinux_2_17_x86_64.manylinux2014_x86_64.whl.metadata (13 kB)\n",
            "Downloading contractions-0.1.73-py2.py3-none-any.whl (8.7 kB)\n",
            "Downloading textsearch-0.0.24-py2.py3-none-any.whl (7.6 kB)\n",
            "Downloading anyascii-0.3.2-py3-none-any.whl (289 kB)\n",
            "\u001b[2K   \u001b[90m━━━━━━━━━━━━━━━━━━━━━━━━━━━━━━━━━━━━━━━━\u001b[0m \u001b[32m289.9/289.9 kB\u001b[0m \u001b[31m23.2 MB/s\u001b[0m eta \u001b[36m0:00:00\u001b[0m\n",
            "\u001b[?25hDownloading pyahocorasick-2.1.0-cp311-cp311-manylinux_2_17_x86_64.manylinux2014_x86_64.whl (118 kB)\n",
            "\u001b[2K   \u001b[90m━━━━━━━━━━━━━━━━━━━━━━━━━━━━━━━━━━━━━━━━\u001b[0m \u001b[32m118.3/118.3 kB\u001b[0m \u001b[31m11.1 MB/s\u001b[0m eta \u001b[36m0:00:00\u001b[0m\n",
            "\u001b[?25hInstalling collected packages: pyahocorasick, anyascii, textsearch, contractions\n",
            "Successfully installed anyascii-0.3.2 contractions-0.1.73 pyahocorasick-2.1.0 textsearch-0.0.24\n",
            "\n",
            "\n",
            "\n",
            "📚✅ ¡Librerías cargadas y listas para la acción! 🚀\n",
            "\n",
            "\n",
            "\n"
          ]
        }
      ],
      "source": [
        "# -------------------------------------------\n",
        "# INSTALACIÓN DE PAQUETES EXTERNOS\n",
        "# -------------------------------------------\n",
        "!pip install contractions # Instala la librería 'contractions' para expandir contracciones del inglés (e.g., \"don't\" -> \"do not\").\n",
        "\n",
        "# -------------------------------------------\n",
        "# MANEJO Y ANÁLISIS DE DATOS\n",
        "# -------------------------------------------\n",
        "import pandas as pd # Librería fundamental para la manipulación y análisis de datos, usa estructuras como DataFrames.\n",
        "import numpy as np  # Proporciona soporte para vectores y matrices grandes, junto con funciones matemáticas de alto nivel para operar con ellos.\n",
        "import gdown        # Útil para descargar archivos directamente desde Google Drive.\n",
        "\n",
        "# -------------------------------------------\n",
        "# PROCESAMIENTO DE LENGUAJE NATURAL (NLP)\n",
        "# -------------------------------------------\n",
        "import re           # Módulo para trabajar con expresiones regulares, esencial para la limpieza y búsqueda de patrones en texto.\n",
        "import contractions # Librería para expandir contracciones comunes en el idioma inglés (e.g., \"I'm\" -> \"I am\").\n",
        "import nltk         # Natural Language Toolkit (NLTK), una de las bibliotecas más completas para tareas de NLP.\n",
        "\n",
        "# Descarga de recursos específicos de NLTK (solo se necesita ejecutar una vez por entorno)\n",
        "nltk.download('stopwords', quiet=True) # Descarga la lista de palabras vacías (stopwords) para varios idiomas.\n",
        "nltk.download('wordnet', quiet=True)   # Descarga WordNet, una gran base de datos léxica del inglés, útil para lematización y sinónimos.\n",
        "nltk.download('punkt', quiet=True)     # Descarga el tokenizador 'punkt', necesario para dividir texto en frases y palabras.\n",
        "\n",
        "from nltk.corpus import stopwords       # Módulo para acceder a listas de palabras vacías (artículos, preposiciones, etc.).\n",
        "from nltk.corpus import wordnet         # Módulo para interactuar con la base de datos léxica WordNet.\n",
        "from nltk.stem import WordNetLemmatizer # Herramienta para realizar la lematización, reduciendo palabras a su forma base o lema.\n",
        "\n",
        "# -------------------------------------------\n",
        "# MACHINE LEARNING Y EVALUACIÓN DE MODELOS\n",
        "# -------------------------------------------\n",
        "from sklearn.model_selection import train_test_split # Función para dividir conjuntos de datos en subconjuntos de entrenamiento y prueba.\n",
        "from sklearn.linear_model import LogisticRegression  # Implementa el algoritmo de Regresión Logística para clasificación.\n",
        "from sklearn.ensemble import RandomForestClassifier  # Implementa el algoritmo de Bosques Aleatorios (Random Forest) para clasificación.\n",
        "from sklearn.metrics import confusion_matrix         # Calcula la matriz de confusión para evaluar el rendimiento de un modelo de clasificación.\n",
        "from sklearn.metrics import classification_report    # Genera un reporte con las principales métricas de clasificación (precisión, recall, F1-score).\n",
        "\n",
        "# -------------------------------------------\n",
        "# UTILIDADES ESTÁNDAR DE PYTHON Y COLECCIONES\n",
        "# -------------------------------------------\n",
        "import os                       # Proporciona funciones para interactuar con el sistema operativo (manejo de archivos, directorios, etc.).\n",
        "from collections import Counter # Clase para contar la frecuencia de elementos en una colección (e.g., palabras en un texto).\n",
        "import pickle                   # Módulo para la serialización y deserialización de objetos Python (guardar y cargar modelos, datos, etc.).\n",
        "\n",
        "# -------------------------------------------\n",
        "# VISUALIZACIÓN DE DATOS Y FORMATO\n",
        "# -------------------------------------------\n",
        "import matplotlib.pyplot as plt # Principal librería para la creación de gráficos y visualizaciones estáticas, interactivas y animadas.\n",
        "import seaborn as sns           # Basada en matplotlib, proporciona una interfaz de alto nivel para dibujar gráficos estadísticos atractivos.\n",
        "from tabulate import tabulate   # Librería para crear tablas formateadas y legibles a partir de datos tabulares.\n",
        "\n",
        "print('\\n\\n')\n",
        "print(\"📚✅ ¡Librerías cargadas y listas para la acción! 🚀\")\n",
        "print('\\n\\n')"
      ]
    },
    {
      "cell_type": "markdown",
      "source": [
        "---\n",
        "## 📚 Definición de Librerías y Acceso a la API de OpenAI\n",
        "\n",
        "En esta sección, se importarán las librerías necesarias para el proyecto y se configurará el acceso a la API de OpenAI.\n",
        "\n",
        "> ⚠️ **Nota Importante:** Por razones de seguridad y para facilitar la reproducibilidad en el entorno de Google Colab, las claves de API (API keys) de OpenAI han sido omitidas en este notebook. Originalmente, se definieron en esta parte del código para su uso.\n",
        "\n",
        "---"
      ],
      "metadata": {
        "id": "mPjSH0dXuISs"
      }
    },
    {
      "cell_type": "code",
      "execution_count": 2,
      "metadata": {
        "id": "d1dFbtBJElEQ"
      },
      "outputs": [],
      "source": [
        "# Incluye las celdas necesarias para tu acceso a la API de OpenAI.\n",
        "\n",
        "# -------------------------------------------\n",
        "# IMPORTACIÓN DE LIBRERÍAS Y CONFIGURACIÓN\n",
        "# -------------------------------------------\n",
        "from google.colab import userdata # Para acceder a 'secrets' (como API keys) guardados en Colab.\n",
        "from openai import OpenAI # Cliente oficial de Python para la API de OpenAI (versión más reciente).\n",
        "import openai # Importa el módulo principal de la librería OpenAI (usado en versiones anteriores o para acceso a nivel de módulo).\n",
        "import tiktoken # Librería utilizada para contar y manejar tokens de modelos de OpenAI.\n",
        "\n",
        "\n",
        "\n"
      ]
    },
    {
      "cell_type": "markdown",
      "source": [
        "---\n",
        "---"
      ],
      "metadata": {
        "id": "J2fJ6B5g2pwY"
      }
    },
    {
      "cell_type": "markdown",
      "metadata": {
        "id": "4c34ZOnna3Gu"
      },
      "source": [
        "## 1️⃣ **Pregunta - 1**\n",
        "\n",
        "### 1. **Generación del DataFrame a partir de los archivos:**\n",
        "\n",
        "1. **Descarga de los archivos:**  \n",
        "   Descarga los 3 archivos de **Canvas**:  \n",
        "   - `amazon5.txt`\n",
        "   - `imdb5.txt`\n",
        "   - `yelp5.txt`\n",
        "\n",
        "2. **Creación del DataFrame:**  \n",
        "   Genera un solo **DataFrame de Pandas** combinando los tres archivos.\n",
        "\n",
        "3. **Verificación de los registros:**  \n",
        "   Verifica que tienes **3000 registros** en el DataFrame, con sus respectivas etiquetas.  \n",
        "   En particular, el archivo de datos de IMDb ya no requiere transformación para obtener sus 1000 registros.\n",
        "\n",
        "---\n"
      ]
    },
    {
      "cell_type": "markdown",
      "metadata": {
        "id": "yeNllxRdmeWg"
      },
      "source": [
        "Descarga los 3 archivos de Canvas y genera un nuevo DataFrame de Pandas con ellos.\n",
        "\n",
        "**Llama simplemente \"df\" a dicho DataFrame.**\n",
        "\n",
        "Los archivos los encuentras en Canvas: amazon5.txt, imdb5.txt, yelp5.txt.\n",
        "\n",
        "\n"
      ]
    },
    {
      "cell_type": "code",
      "execution_count": 22,
      "metadata": {
        "colab": {
          "base_uri": "https://localhost:8080/"
        },
        "id": "_TfaWZ3pH27m",
        "outputId": "697f802d-cc19-4c6b-aa05-80c655f78fa8"
      },
      "outputs": [
        {
          "output_type": "stream",
          "name": "stdout",
          "text": [
            "El directorio 'datos' ya existe.\n",
            "\n",
            "Iniciando la descarga de datos...\n",
            "Descargando Amazon (amazon5.txt)...\n"
          ]
        },
        {
          "output_type": "stream",
          "name": "stderr",
          "text": [
            "Downloading...\n",
            "From: https://drive.google.com/uc?id=1HW2IsfUBLeIHpkRsRcy4xoU1UVwL419a\n",
            "To: /content/datos/amazon5.txt\n",
            "100%|██████████| 58.2k/58.2k [00:00<00:00, 68.5MB/s]\n"
          ]
        },
        {
          "output_type": "stream",
          "name": "stdout",
          "text": [
            "Descargando IMDb (imdb5.txt)...\n"
          ]
        },
        {
          "output_type": "stream",
          "name": "stderr",
          "text": [
            "Downloading...\n",
            "From: https://drive.google.com/uc?id=1xGRzo6Epj-ix1kzJUAeMRB2iwqR3FnTc\n",
            "To: /content/datos/imdb5.txt\n",
            "100%|██████████| 86.0k/86.0k [00:00<00:00, 74.3MB/s]\n"
          ]
        },
        {
          "output_type": "stream",
          "name": "stdout",
          "text": [
            "Descargando Yelp (yelp5.txt)...\n"
          ]
        },
        {
          "output_type": "stream",
          "name": "stderr",
          "text": [
            "Downloading...\n",
            "From: https://drive.google.com/uc?id=1AJ4uy5iQPoq7Pm2ZNSr0pS8UBQqquxwj\n",
            "To: /content/datos/yelp5.txt\n",
            "100%|██████████| 61.3k/61.3k [00:00<00:00, 63.8MB/s]\n"
          ]
        },
        {
          "output_type": "stream",
          "name": "stdout",
          "text": [
            "Descargando embeddings_large (embeddings_diccionario_large.pkl)...\n"
          ]
        },
        {
          "output_type": "stream",
          "name": "stderr",
          "text": [
            "Downloading...\n",
            "From: https://drive.google.com/uc?id=1nNNItqMXkG6cjPqR2fbAXGu2-N5iwqzV\n",
            "To: /content/datos/embeddings_diccionario_large.pkl\n",
            "100%|██████████| 89.3M/89.3M [00:01<00:00, 47.4MB/s]\n"
          ]
        },
        {
          "output_type": "stream",
          "name": "stdout",
          "text": [
            "Descargando embeddings_p10 (embeddings_diccionario_p10.pkl)...\n"
          ]
        },
        {
          "output_type": "stream",
          "name": "stderr",
          "text": [
            "Downloading...\n",
            "From: https://drive.google.com/uc?id=18lZgJQGETcgAtD48RlPGvTdImqNBm7wL\n",
            "To: /content/datos/embeddings_diccionario_p10.pkl\n",
            "100%|██████████| 82.7M/82.7M [00:01<00:00, 54.3MB/s]\n"
          ]
        },
        {
          "output_type": "stream",
          "name": "stdout",
          "text": [
            "Descargando embeddings_small (embeddings_diccionario_small.pkl)...\n"
          ]
        },
        {
          "output_type": "stream",
          "name": "stderr",
          "text": [
            "Downloading...\n",
            "From: https://drive.google.com/uc?id=10fnLXgpakF6-MyA6K_vrN_xUk2-CNX1q\n",
            "To: /content/datos/embeddings_diccionario_small.pkl\n",
            "100%|██████████| 44.7M/44.7M [00:01<00:00, 38.7MB/s]"
          ]
        },
        {
          "output_type": "stream",
          "name": "stdout",
          "text": [
            "\n",
            "✅ Descarga de todos los archivos completada. Guardados en 'datos'.\n",
            "\n",
            "\n",
            "\n",
            "Cargando datos en DataFrames...\n",
            "\n",
            "✅ DataFrames cargados y combinados. Total de filas: 3000\n"
          ]
        },
        {
          "output_type": "stream",
          "name": "stderr",
          "text": [
            "\n"
          ]
        }
      ],
      "source": [
        "# --- 1. Creación del Directorio de Datos ---\n",
        "output_directory = 'datos'\n",
        "if not os.path.exists(output_directory):\n",
        "    os.makedirs(output_directory, exist_ok=True) # Crea el directorio si no existe; exist_ok=True evita error si ya existe\n",
        "    print(f\"Directorio '{output_directory}' creado exitosamente.\")\n",
        "else:\n",
        "    print(f\"El directorio '{output_directory}' ya existe.\")\n",
        "\n",
        "# --- 2. Definición de URLs y Nombres de Archivos para Descarga ---\n",
        "files_to_download = [\n",
        "    {'url': 'https://drive.google.com/uc?id=1HW2IsfUBLeIHpkRsRcy4xoU1UVwL419a', 'filename': 'amazon5.txt', 'dataset_name': 'Amazon'},\n",
        "    {'url': 'https://drive.google.com/uc?id=1xGRzo6Epj-ix1kzJUAeMRB2iwqR3FnTc', 'filename': 'imdb5.txt',   'dataset_name': 'IMDb'},\n",
        "    {'url': 'https://drive.google.com/uc?id=1AJ4uy5iQPoq7Pm2ZNSr0pS8UBQqquxwj', 'filename': 'yelp5.txt',   'dataset_name': 'Yelp'},\n",
        "    {'url': 'https://drive.google.com/uc?id=1nNNItqMXkG6cjPqR2fbAXGu2-N5iwqzV', 'filename': 'embeddings_diccionario_large.pkl',   'dataset_name': 'embeddings_large'}, #text-embedding-3-large\n",
        "    {'url': 'https://drive.google.com/uc?id=18lZgJQGETcgAtD48RlPGvTdImqNBm7wL', 'filename': 'embeddings_diccionario_p10.pkl',   'dataset_name': 'embeddings_p10'}, #text-embedding-3-large\n",
        "    {'url': 'https://drive.google.com/uc?id=10fnLXgpakF6-MyA6K_vrN_xUk2-CNX1q', 'filename': 'embeddings_diccionario_small.pkl',   'dataset_name': 'embeddings_small'} #text-embedding-3-small\n",
        "\n",
        "\n",
        "]\n",
        "\n",
        "# --- 3. Proceso de Descarga de Archivos ---\n",
        "print(\"\\nIniciando la descarga de datos...\")\n",
        "all_downloads_successful = True\n",
        "for item in files_to_download:\n",
        "    output_path = os.path.join(output_directory, item['filename'])\n",
        "    print(f\"Descargando {item['dataset_name']} ({item['filename']})...\")\n",
        "    try:\n",
        "        gdown.download(item['url'], output_path, quiet=False)\n",
        "    except Exception as e:\n",
        "        print(f\"Ocurrió un error durante la descarga de {item['filename']}: {e}\")\n",
        "        all_downloads_successful = False\n",
        "\n",
        "if all_downloads_successful:\n",
        "    print(f\"\\n✅ Descarga de todos los archivos completada. Guardados en '{output_directory}'.\")\n",
        "else:\n",
        "    print(f\"\\n⚠️ Algunos archivos no pudieron ser descargados. Revisa los mensajes de error.\")\n",
        "\n",
        "\n",
        "# --- 4. Carga de Datos en DataFrames de Pandas ---\n",
        "print(\"\\n\\n\\nCargando datos en DataFrames...\")\n",
        "try:\n",
        "    # Carga Amazon: delimitado por tabulador, sin encabezado, columnas 'review' y 'label'\n",
        "    dfa = pd.read_csv(os.path.join(output_directory, 'amazon5.txt'),\n",
        "                      sep='\\t', names=['review','label'], header=None, encoding='utf-8')\n",
        "\n",
        "    # Carga IMDb: delimitado por 2 o más espacios (regex), sin encabezado, columnas 'review' y 'label'\n",
        "    # Se usa engine='python' para separadores regex complejos y evitar warnings.\n",
        "    dfi = pd.read_csv(os.path.join(output_directory, 'imdb5.txt'),\n",
        "                      sep=' {2,}', names=['review','label'], header=None, encoding='utf-8', engine='python')\n",
        "\n",
        "    # Carga Yelp: delimitado por tabulador, sin encabezado, columnas 'review' y 'label'\n",
        "    dfy = pd.read_csv(os.path.join(output_directory, 'yelp5.txt'),\n",
        "                      sep='\\t', names=['review','label'], header=None, encoding='utf-8')\n",
        "\n",
        "    # --- 5. Combinación de DataFrames ---\n",
        "    # Concatena los DataFrames individuales en uno solo, reiniciando el índice.\n",
        "    df = pd.concat([dfa, dfi, dfy], ignore_index=True)\n",
        "    print(f\"\\n✅ DataFrames cargados y combinados. Total de filas: {len(df)}\")\n",
        "\n",
        "except FileNotFoundError as e:\n",
        "    print(f\"❌ Error al cargar archivo: {e}. Asegúrate de que los archivos se descargaron correctamente.\")\n",
        "except Exception as e:\n",
        "    print(f\"❌ Ocurrió un error inesperado durante la carga de datos: {e}\")\n",
        "\n",
        "\n",
        "# *********** Aquí termina la sección de agregar código *************"
      ]
    },
    {
      "cell_type": "code",
      "execution_count": 4,
      "metadata": {
        "colab": {
          "base_uri": "https://localhost:8080/"
        },
        "id": "3-w1xMLYnm9b",
        "outputId": "c7b50a0b-ad77-41c5-9016-85f66fadc8a6"
      },
      "outputs": [
        {
          "output_type": "stream",
          "name": "stdout",
          "text": [
            "<class 'pandas.core.frame.DataFrame'>\n",
            "RangeIndex: 3000 entries, 0 to 2999\n",
            "Data columns (total 2 columns):\n",
            " #   Column  Non-Null Count  Dtype \n",
            "---  ------  --------------  ----- \n",
            " 0   review  3000 non-null   object\n",
            " 1   label   3000 non-null   int64 \n",
            "dtypes: int64(1), object(1)\n",
            "memory usage: 47.0+ KB\n"
          ]
        }
      ],
      "source": [
        "# Verifiquemos la información del DataFrame:\n",
        "df.info()"
      ]
    },
    {
      "cell_type": "code",
      "execution_count": 5,
      "metadata": {
        "colab": {
          "base_uri": "https://localhost:8080/",
          "height": 204
        },
        "id": "NfVUcYe1nubT",
        "outputId": "6e87d1f6-3ecd-475d-f4f0-01ce1f4e7b13"
      },
      "outputs": [
        {
          "output_type": "execute_result",
          "data": {
            "text/plain": [
              "                                              review  label\n",
              "0  So there is no way for me to plug it in here i...      0\n",
              "1                        Good case, Excellent value.      1\n",
              "2                             Great for the jawbone.      1\n",
              "3  Tied to charger for conversations lasting more...      0\n",
              "4                                  The mic is great.      1"
            ],
            "text/html": [
              "\n",
              "  <div id=\"df-b2d6ff1a-eaa1-469f-9f65-3b3a5bd1f187\" class=\"colab-df-container\">\n",
              "    <div>\n",
              "<style scoped>\n",
              "    .dataframe tbody tr th:only-of-type {\n",
              "        vertical-align: middle;\n",
              "    }\n",
              "\n",
              "    .dataframe tbody tr th {\n",
              "        vertical-align: top;\n",
              "    }\n",
              "\n",
              "    .dataframe thead th {\n",
              "        text-align: right;\n",
              "    }\n",
              "</style>\n",
              "<table border=\"1\" class=\"dataframe\">\n",
              "  <thead>\n",
              "    <tr style=\"text-align: right;\">\n",
              "      <th></th>\n",
              "      <th>review</th>\n",
              "      <th>label</th>\n",
              "    </tr>\n",
              "  </thead>\n",
              "  <tbody>\n",
              "    <tr>\n",
              "      <th>0</th>\n",
              "      <td>So there is no way for me to plug it in here i...</td>\n",
              "      <td>0</td>\n",
              "    </tr>\n",
              "    <tr>\n",
              "      <th>1</th>\n",
              "      <td>Good case, Excellent value.</td>\n",
              "      <td>1</td>\n",
              "    </tr>\n",
              "    <tr>\n",
              "      <th>2</th>\n",
              "      <td>Great for the jawbone.</td>\n",
              "      <td>1</td>\n",
              "    </tr>\n",
              "    <tr>\n",
              "      <th>3</th>\n",
              "      <td>Tied to charger for conversations lasting more...</td>\n",
              "      <td>0</td>\n",
              "    </tr>\n",
              "    <tr>\n",
              "      <th>4</th>\n",
              "      <td>The mic is great.</td>\n",
              "      <td>1</td>\n",
              "    </tr>\n",
              "  </tbody>\n",
              "</table>\n",
              "</div>\n",
              "    <div class=\"colab-df-buttons\">\n",
              "\n",
              "  <div class=\"colab-df-container\">\n",
              "    <button class=\"colab-df-convert\" onclick=\"convertToInteractive('df-b2d6ff1a-eaa1-469f-9f65-3b3a5bd1f187')\"\n",
              "            title=\"Convert this dataframe to an interactive table.\"\n",
              "            style=\"display:none;\">\n",
              "\n",
              "  <svg xmlns=\"http://www.w3.org/2000/svg\" height=\"24px\" viewBox=\"0 -960 960 960\">\n",
              "    <path d=\"M120-120v-720h720v720H120Zm60-500h600v-160H180v160Zm220 220h160v-160H400v160Zm0 220h160v-160H400v160ZM180-400h160v-160H180v160Zm440 0h160v-160H620v160ZM180-180h160v-160H180v160Zm440 0h160v-160H620v160Z\"/>\n",
              "  </svg>\n",
              "    </button>\n",
              "\n",
              "  <style>\n",
              "    .colab-df-container {\n",
              "      display:flex;\n",
              "      gap: 12px;\n",
              "    }\n",
              "\n",
              "    .colab-df-convert {\n",
              "      background-color: #E8F0FE;\n",
              "      border: none;\n",
              "      border-radius: 50%;\n",
              "      cursor: pointer;\n",
              "      display: none;\n",
              "      fill: #1967D2;\n",
              "      height: 32px;\n",
              "      padding: 0 0 0 0;\n",
              "      width: 32px;\n",
              "    }\n",
              "\n",
              "    .colab-df-convert:hover {\n",
              "      background-color: #E2EBFA;\n",
              "      box-shadow: 0px 1px 2px rgba(60, 64, 67, 0.3), 0px 1px 3px 1px rgba(60, 64, 67, 0.15);\n",
              "      fill: #174EA6;\n",
              "    }\n",
              "\n",
              "    .colab-df-buttons div {\n",
              "      margin-bottom: 4px;\n",
              "    }\n",
              "\n",
              "    [theme=dark] .colab-df-convert {\n",
              "      background-color: #3B4455;\n",
              "      fill: #D2E3FC;\n",
              "    }\n",
              "\n",
              "    [theme=dark] .colab-df-convert:hover {\n",
              "      background-color: #434B5C;\n",
              "      box-shadow: 0px 1px 3px 1px rgba(0, 0, 0, 0.15);\n",
              "      filter: drop-shadow(0px 1px 2px rgba(0, 0, 0, 0.3));\n",
              "      fill: #FFFFFF;\n",
              "    }\n",
              "  </style>\n",
              "\n",
              "    <script>\n",
              "      const buttonEl =\n",
              "        document.querySelector('#df-b2d6ff1a-eaa1-469f-9f65-3b3a5bd1f187 button.colab-df-convert');\n",
              "      buttonEl.style.display =\n",
              "        google.colab.kernel.accessAllowed ? 'block' : 'none';\n",
              "\n",
              "      async function convertToInteractive(key) {\n",
              "        const element = document.querySelector('#df-b2d6ff1a-eaa1-469f-9f65-3b3a5bd1f187');\n",
              "        const dataTable =\n",
              "          await google.colab.kernel.invokeFunction('convertToInteractive',\n",
              "                                                    [key], {});\n",
              "        if (!dataTable) return;\n",
              "\n",
              "        const docLinkHtml = 'Like what you see? Visit the ' +\n",
              "          '<a target=\"_blank\" href=https://colab.research.google.com/notebooks/data_table.ipynb>data table notebook</a>'\n",
              "          + ' to learn more about interactive tables.';\n",
              "        element.innerHTML = '';\n",
              "        dataTable['output_type'] = 'display_data';\n",
              "        await google.colab.output.renderOutput(dataTable, element);\n",
              "        const docLink = document.createElement('div');\n",
              "        docLink.innerHTML = docLinkHtml;\n",
              "        element.appendChild(docLink);\n",
              "      }\n",
              "    </script>\n",
              "  </div>\n",
              "\n",
              "\n",
              "    <div id=\"df-ff759d8c-f141-4053-a0b6-6dcc97db20f3\">\n",
              "      <button class=\"colab-df-quickchart\" onclick=\"quickchart('df-ff759d8c-f141-4053-a0b6-6dcc97db20f3')\"\n",
              "                title=\"Suggest charts\"\n",
              "                style=\"display:none;\">\n",
              "\n",
              "<svg xmlns=\"http://www.w3.org/2000/svg\" height=\"24px\"viewBox=\"0 0 24 24\"\n",
              "     width=\"24px\">\n",
              "    <g>\n",
              "        <path d=\"M19 3H5c-1.1 0-2 .9-2 2v14c0 1.1.9 2 2 2h14c1.1 0 2-.9 2-2V5c0-1.1-.9-2-2-2zM9 17H7v-7h2v7zm4 0h-2V7h2v10zm4 0h-2v-4h2v4z\"/>\n",
              "    </g>\n",
              "</svg>\n",
              "      </button>\n",
              "\n",
              "<style>\n",
              "  .colab-df-quickchart {\n",
              "      --bg-color: #E8F0FE;\n",
              "      --fill-color: #1967D2;\n",
              "      --hover-bg-color: #E2EBFA;\n",
              "      --hover-fill-color: #174EA6;\n",
              "      --disabled-fill-color: #AAA;\n",
              "      --disabled-bg-color: #DDD;\n",
              "  }\n",
              "\n",
              "  [theme=dark] .colab-df-quickchart {\n",
              "      --bg-color: #3B4455;\n",
              "      --fill-color: #D2E3FC;\n",
              "      --hover-bg-color: #434B5C;\n",
              "      --hover-fill-color: #FFFFFF;\n",
              "      --disabled-bg-color: #3B4455;\n",
              "      --disabled-fill-color: #666;\n",
              "  }\n",
              "\n",
              "  .colab-df-quickchart {\n",
              "    background-color: var(--bg-color);\n",
              "    border: none;\n",
              "    border-radius: 50%;\n",
              "    cursor: pointer;\n",
              "    display: none;\n",
              "    fill: var(--fill-color);\n",
              "    height: 32px;\n",
              "    padding: 0;\n",
              "    width: 32px;\n",
              "  }\n",
              "\n",
              "  .colab-df-quickchart:hover {\n",
              "    background-color: var(--hover-bg-color);\n",
              "    box-shadow: 0 1px 2px rgba(60, 64, 67, 0.3), 0 1px 3px 1px rgba(60, 64, 67, 0.15);\n",
              "    fill: var(--button-hover-fill-color);\n",
              "  }\n",
              "\n",
              "  .colab-df-quickchart-complete:disabled,\n",
              "  .colab-df-quickchart-complete:disabled:hover {\n",
              "    background-color: var(--disabled-bg-color);\n",
              "    fill: var(--disabled-fill-color);\n",
              "    box-shadow: none;\n",
              "  }\n",
              "\n",
              "  .colab-df-spinner {\n",
              "    border: 2px solid var(--fill-color);\n",
              "    border-color: transparent;\n",
              "    border-bottom-color: var(--fill-color);\n",
              "    animation:\n",
              "      spin 1s steps(1) infinite;\n",
              "  }\n",
              "\n",
              "  @keyframes spin {\n",
              "    0% {\n",
              "      border-color: transparent;\n",
              "      border-bottom-color: var(--fill-color);\n",
              "      border-left-color: var(--fill-color);\n",
              "    }\n",
              "    20% {\n",
              "      border-color: transparent;\n",
              "      border-left-color: var(--fill-color);\n",
              "      border-top-color: var(--fill-color);\n",
              "    }\n",
              "    30% {\n",
              "      border-color: transparent;\n",
              "      border-left-color: var(--fill-color);\n",
              "      border-top-color: var(--fill-color);\n",
              "      border-right-color: var(--fill-color);\n",
              "    }\n",
              "    40% {\n",
              "      border-color: transparent;\n",
              "      border-right-color: var(--fill-color);\n",
              "      border-top-color: var(--fill-color);\n",
              "    }\n",
              "    60% {\n",
              "      border-color: transparent;\n",
              "      border-right-color: var(--fill-color);\n",
              "    }\n",
              "    80% {\n",
              "      border-color: transparent;\n",
              "      border-right-color: var(--fill-color);\n",
              "      border-bottom-color: var(--fill-color);\n",
              "    }\n",
              "    90% {\n",
              "      border-color: transparent;\n",
              "      border-bottom-color: var(--fill-color);\n",
              "    }\n",
              "  }\n",
              "</style>\n",
              "\n",
              "      <script>\n",
              "        async function quickchart(key) {\n",
              "          const quickchartButtonEl =\n",
              "            document.querySelector('#' + key + ' button');\n",
              "          quickchartButtonEl.disabled = true;  // To prevent multiple clicks.\n",
              "          quickchartButtonEl.classList.add('colab-df-spinner');\n",
              "          try {\n",
              "            const charts = await google.colab.kernel.invokeFunction(\n",
              "                'suggestCharts', [key], {});\n",
              "          } catch (error) {\n",
              "            console.error('Error during call to suggestCharts:', error);\n",
              "          }\n",
              "          quickchartButtonEl.classList.remove('colab-df-spinner');\n",
              "          quickchartButtonEl.classList.add('colab-df-quickchart-complete');\n",
              "        }\n",
              "        (() => {\n",
              "          let quickchartButtonEl =\n",
              "            document.querySelector('#df-ff759d8c-f141-4053-a0b6-6dcc97db20f3 button');\n",
              "          quickchartButtonEl.style.display =\n",
              "            google.colab.kernel.accessAllowed ? 'block' : 'none';\n",
              "        })();\n",
              "      </script>\n",
              "    </div>\n",
              "\n",
              "    </div>\n",
              "  </div>\n"
            ],
            "application/vnd.google.colaboratory.intrinsic+json": {
              "type": "dataframe",
              "variable_name": "df",
              "summary": "{\n  \"name\": \"df\",\n  \"rows\": 3000,\n  \"fields\": [\n    {\n      \"column\": \"review\",\n      \"properties\": {\n        \"dtype\": \"string\",\n        \"num_unique_values\": 2982,\n        \"samples\": [\n          \"We've tried to like this place but after 10+ times I think we're done with them.\",\n          \"The best example of how dumb the writing is when it's established that you can turn the zombie-students back into humans by removing a necklace containing a piece of the meteorite.\",\n          \"It was that loud.Glad to say that the Plantronics 510 maintains a flawless connection to my cell and with no static during normal use.\"\n        ],\n        \"semantic_type\": \"\",\n        \"description\": \"\"\n      }\n    },\n    {\n      \"column\": \"label\",\n      \"properties\": {\n        \"dtype\": \"number\",\n        \"std\": 0,\n        \"min\": 0,\n        \"max\": 1,\n        \"num_unique_values\": 2,\n        \"samples\": [\n          1,\n          0\n        ],\n        \"semantic_type\": \"\",\n        \"description\": \"\"\n      }\n    }\n  ]\n}"
            }
          },
          "metadata": {},
          "execution_count": 5
        }
      ],
      "source": [
        "# Y veamos sus primeros registros:\n",
        "\n",
        "df.head()"
      ]
    },
    {
      "cell_type": "code",
      "execution_count": 6,
      "metadata": {
        "colab": {
          "base_uri": "https://localhost:8080/",
          "height": 204
        },
        "id": "Fn-2VIM5Io1E",
        "outputId": "c7d82e53-c494-4751-c1ab-4c079cf27030"
      },
      "outputs": [
        {
          "output_type": "execute_result",
          "data": {
            "text/plain": [
              "                                                 review  label\n",
              "2995  I think food should have flavor and texture an...      0\n",
              "2996                           Appetite instantly gone.      0\n",
              "2997  Overall I was not impressed and would not go b...      0\n",
              "2998  The whole experience was underwhelming, and I ...      0\n",
              "2999  Then, as if I hadn't wasted enough of my life ...      0"
            ],
            "text/html": [
              "\n",
              "  <div id=\"df-7e0a9973-5f26-4bda-8ce1-f12628f7a228\" class=\"colab-df-container\">\n",
              "    <div>\n",
              "<style scoped>\n",
              "    .dataframe tbody tr th:only-of-type {\n",
              "        vertical-align: middle;\n",
              "    }\n",
              "\n",
              "    .dataframe tbody tr th {\n",
              "        vertical-align: top;\n",
              "    }\n",
              "\n",
              "    .dataframe thead th {\n",
              "        text-align: right;\n",
              "    }\n",
              "</style>\n",
              "<table border=\"1\" class=\"dataframe\">\n",
              "  <thead>\n",
              "    <tr style=\"text-align: right;\">\n",
              "      <th></th>\n",
              "      <th>review</th>\n",
              "      <th>label</th>\n",
              "    </tr>\n",
              "  </thead>\n",
              "  <tbody>\n",
              "    <tr>\n",
              "      <th>2995</th>\n",
              "      <td>I think food should have flavor and texture an...</td>\n",
              "      <td>0</td>\n",
              "    </tr>\n",
              "    <tr>\n",
              "      <th>2996</th>\n",
              "      <td>Appetite instantly gone.</td>\n",
              "      <td>0</td>\n",
              "    </tr>\n",
              "    <tr>\n",
              "      <th>2997</th>\n",
              "      <td>Overall I was not impressed and would not go b...</td>\n",
              "      <td>0</td>\n",
              "    </tr>\n",
              "    <tr>\n",
              "      <th>2998</th>\n",
              "      <td>The whole experience was underwhelming, and I ...</td>\n",
              "      <td>0</td>\n",
              "    </tr>\n",
              "    <tr>\n",
              "      <th>2999</th>\n",
              "      <td>Then, as if I hadn't wasted enough of my life ...</td>\n",
              "      <td>0</td>\n",
              "    </tr>\n",
              "  </tbody>\n",
              "</table>\n",
              "</div>\n",
              "    <div class=\"colab-df-buttons\">\n",
              "\n",
              "  <div class=\"colab-df-container\">\n",
              "    <button class=\"colab-df-convert\" onclick=\"convertToInteractive('df-7e0a9973-5f26-4bda-8ce1-f12628f7a228')\"\n",
              "            title=\"Convert this dataframe to an interactive table.\"\n",
              "            style=\"display:none;\">\n",
              "\n",
              "  <svg xmlns=\"http://www.w3.org/2000/svg\" height=\"24px\" viewBox=\"0 -960 960 960\">\n",
              "    <path d=\"M120-120v-720h720v720H120Zm60-500h600v-160H180v160Zm220 220h160v-160H400v160Zm0 220h160v-160H400v160ZM180-400h160v-160H180v160Zm440 0h160v-160H620v160ZM180-180h160v-160H180v160Zm440 0h160v-160H620v160Z\"/>\n",
              "  </svg>\n",
              "    </button>\n",
              "\n",
              "  <style>\n",
              "    .colab-df-container {\n",
              "      display:flex;\n",
              "      gap: 12px;\n",
              "    }\n",
              "\n",
              "    .colab-df-convert {\n",
              "      background-color: #E8F0FE;\n",
              "      border: none;\n",
              "      border-radius: 50%;\n",
              "      cursor: pointer;\n",
              "      display: none;\n",
              "      fill: #1967D2;\n",
              "      height: 32px;\n",
              "      padding: 0 0 0 0;\n",
              "      width: 32px;\n",
              "    }\n",
              "\n",
              "    .colab-df-convert:hover {\n",
              "      background-color: #E2EBFA;\n",
              "      box-shadow: 0px 1px 2px rgba(60, 64, 67, 0.3), 0px 1px 3px 1px rgba(60, 64, 67, 0.15);\n",
              "      fill: #174EA6;\n",
              "    }\n",
              "\n",
              "    .colab-df-buttons div {\n",
              "      margin-bottom: 4px;\n",
              "    }\n",
              "\n",
              "    [theme=dark] .colab-df-convert {\n",
              "      background-color: #3B4455;\n",
              "      fill: #D2E3FC;\n",
              "    }\n",
              "\n",
              "    [theme=dark] .colab-df-convert:hover {\n",
              "      background-color: #434B5C;\n",
              "      box-shadow: 0px 1px 3px 1px rgba(0, 0, 0, 0.15);\n",
              "      filter: drop-shadow(0px 1px 2px rgba(0, 0, 0, 0.3));\n",
              "      fill: #FFFFFF;\n",
              "    }\n",
              "  </style>\n",
              "\n",
              "    <script>\n",
              "      const buttonEl =\n",
              "        document.querySelector('#df-7e0a9973-5f26-4bda-8ce1-f12628f7a228 button.colab-df-convert');\n",
              "      buttonEl.style.display =\n",
              "        google.colab.kernel.accessAllowed ? 'block' : 'none';\n",
              "\n",
              "      async function convertToInteractive(key) {\n",
              "        const element = document.querySelector('#df-7e0a9973-5f26-4bda-8ce1-f12628f7a228');\n",
              "        const dataTable =\n",
              "          await google.colab.kernel.invokeFunction('convertToInteractive',\n",
              "                                                    [key], {});\n",
              "        if (!dataTable) return;\n",
              "\n",
              "        const docLinkHtml = 'Like what you see? Visit the ' +\n",
              "          '<a target=\"_blank\" href=https://colab.research.google.com/notebooks/data_table.ipynb>data table notebook</a>'\n",
              "          + ' to learn more about interactive tables.';\n",
              "        element.innerHTML = '';\n",
              "        dataTable['output_type'] = 'display_data';\n",
              "        await google.colab.output.renderOutput(dataTable, element);\n",
              "        const docLink = document.createElement('div');\n",
              "        docLink.innerHTML = docLinkHtml;\n",
              "        element.appendChild(docLink);\n",
              "      }\n",
              "    </script>\n",
              "  </div>\n",
              "\n",
              "\n",
              "    <div id=\"df-643797db-9058-4f00-8a8a-7cff8fda844f\">\n",
              "      <button class=\"colab-df-quickchart\" onclick=\"quickchart('df-643797db-9058-4f00-8a8a-7cff8fda844f')\"\n",
              "                title=\"Suggest charts\"\n",
              "                style=\"display:none;\">\n",
              "\n",
              "<svg xmlns=\"http://www.w3.org/2000/svg\" height=\"24px\"viewBox=\"0 0 24 24\"\n",
              "     width=\"24px\">\n",
              "    <g>\n",
              "        <path d=\"M19 3H5c-1.1 0-2 .9-2 2v14c0 1.1.9 2 2 2h14c1.1 0 2-.9 2-2V5c0-1.1-.9-2-2-2zM9 17H7v-7h2v7zm4 0h-2V7h2v10zm4 0h-2v-4h2v4z\"/>\n",
              "    </g>\n",
              "</svg>\n",
              "      </button>\n",
              "\n",
              "<style>\n",
              "  .colab-df-quickchart {\n",
              "      --bg-color: #E8F0FE;\n",
              "      --fill-color: #1967D2;\n",
              "      --hover-bg-color: #E2EBFA;\n",
              "      --hover-fill-color: #174EA6;\n",
              "      --disabled-fill-color: #AAA;\n",
              "      --disabled-bg-color: #DDD;\n",
              "  }\n",
              "\n",
              "  [theme=dark] .colab-df-quickchart {\n",
              "      --bg-color: #3B4455;\n",
              "      --fill-color: #D2E3FC;\n",
              "      --hover-bg-color: #434B5C;\n",
              "      --hover-fill-color: #FFFFFF;\n",
              "      --disabled-bg-color: #3B4455;\n",
              "      --disabled-fill-color: #666;\n",
              "  }\n",
              "\n",
              "  .colab-df-quickchart {\n",
              "    background-color: var(--bg-color);\n",
              "    border: none;\n",
              "    border-radius: 50%;\n",
              "    cursor: pointer;\n",
              "    display: none;\n",
              "    fill: var(--fill-color);\n",
              "    height: 32px;\n",
              "    padding: 0;\n",
              "    width: 32px;\n",
              "  }\n",
              "\n",
              "  .colab-df-quickchart:hover {\n",
              "    background-color: var(--hover-bg-color);\n",
              "    box-shadow: 0 1px 2px rgba(60, 64, 67, 0.3), 0 1px 3px 1px rgba(60, 64, 67, 0.15);\n",
              "    fill: var(--button-hover-fill-color);\n",
              "  }\n",
              "\n",
              "  .colab-df-quickchart-complete:disabled,\n",
              "  .colab-df-quickchart-complete:disabled:hover {\n",
              "    background-color: var(--disabled-bg-color);\n",
              "    fill: var(--disabled-fill-color);\n",
              "    box-shadow: none;\n",
              "  }\n",
              "\n",
              "  .colab-df-spinner {\n",
              "    border: 2px solid var(--fill-color);\n",
              "    border-color: transparent;\n",
              "    border-bottom-color: var(--fill-color);\n",
              "    animation:\n",
              "      spin 1s steps(1) infinite;\n",
              "  }\n",
              "\n",
              "  @keyframes spin {\n",
              "    0% {\n",
              "      border-color: transparent;\n",
              "      border-bottom-color: var(--fill-color);\n",
              "      border-left-color: var(--fill-color);\n",
              "    }\n",
              "    20% {\n",
              "      border-color: transparent;\n",
              "      border-left-color: var(--fill-color);\n",
              "      border-top-color: var(--fill-color);\n",
              "    }\n",
              "    30% {\n",
              "      border-color: transparent;\n",
              "      border-left-color: var(--fill-color);\n",
              "      border-top-color: var(--fill-color);\n",
              "      border-right-color: var(--fill-color);\n",
              "    }\n",
              "    40% {\n",
              "      border-color: transparent;\n",
              "      border-right-color: var(--fill-color);\n",
              "      border-top-color: var(--fill-color);\n",
              "    }\n",
              "    60% {\n",
              "      border-color: transparent;\n",
              "      border-right-color: var(--fill-color);\n",
              "    }\n",
              "    80% {\n",
              "      border-color: transparent;\n",
              "      border-right-color: var(--fill-color);\n",
              "      border-bottom-color: var(--fill-color);\n",
              "    }\n",
              "    90% {\n",
              "      border-color: transparent;\n",
              "      border-bottom-color: var(--fill-color);\n",
              "    }\n",
              "  }\n",
              "</style>\n",
              "\n",
              "      <script>\n",
              "        async function quickchart(key) {\n",
              "          const quickchartButtonEl =\n",
              "            document.querySelector('#' + key + ' button');\n",
              "          quickchartButtonEl.disabled = true;  // To prevent multiple clicks.\n",
              "          quickchartButtonEl.classList.add('colab-df-spinner');\n",
              "          try {\n",
              "            const charts = await google.colab.kernel.invokeFunction(\n",
              "                'suggestCharts', [key], {});\n",
              "          } catch (error) {\n",
              "            console.error('Error during call to suggestCharts:', error);\n",
              "          }\n",
              "          quickchartButtonEl.classList.remove('colab-df-spinner');\n",
              "          quickchartButtonEl.classList.add('colab-df-quickchart-complete');\n",
              "        }\n",
              "        (() => {\n",
              "          let quickchartButtonEl =\n",
              "            document.querySelector('#df-643797db-9058-4f00-8a8a-7cff8fda844f button');\n",
              "          quickchartButtonEl.style.display =\n",
              "            google.colab.kernel.accessAllowed ? 'block' : 'none';\n",
              "        })();\n",
              "      </script>\n",
              "    </div>\n",
              "\n",
              "    </div>\n",
              "  </div>\n"
            ],
            "application/vnd.google.colaboratory.intrinsic+json": {
              "type": "dataframe",
              "summary": "{\n  \"name\": \"df\",\n  \"rows\": 5,\n  \"fields\": [\n    {\n      \"column\": \"review\",\n      \"properties\": {\n        \"dtype\": \"string\",\n        \"num_unique_values\": 5,\n        \"samples\": [\n          \"Appetite instantly gone.\",\n          \"Then, as if I hadn't wasted enough of my life there, they poured salt in the wound by drawing out the time it took to bring the check.\",\n          \"Overall I was not impressed and would not go back.\"\n        ],\n        \"semantic_type\": \"\",\n        \"description\": \"\"\n      }\n    },\n    {\n      \"column\": \"label\",\n      \"properties\": {\n        \"dtype\": \"number\",\n        \"std\": 0,\n        \"min\": 0,\n        \"max\": 0,\n        \"num_unique_values\": 1,\n        \"samples\": [\n          0\n        ],\n        \"semantic_type\": \"\",\n        \"description\": \"\"\n      }\n    }\n  ]\n}"
            }
          },
          "metadata": {},
          "execution_count": 6
        }
      ],
      "source": [
        "# Y veamos sus últimos registros:\n",
        "\n",
        "df.tail()"
      ]
    },
    {
      "cell_type": "code",
      "execution_count": 7,
      "metadata": {
        "colab": {
          "base_uri": "https://localhost:8080/",
          "height": 669
        },
        "id": "4fef8LNZJEHg",
        "outputId": "384d6dd3-5731-4a34-c0b9-da14e0e694ed"
      },
      "outputs": [
        {
          "output_type": "execute_result",
          "data": {
            "text/plain": [
              "                                                 review  label\n",
              "2986  Shrimp- When I unwrapped it (I live only 1/2 a...      0\n",
              "2747  I always order from the vegetarian menu during...      1\n",
              "542   Perhaps my phone is defective, but people cann...      0\n",
              "2938  The meat was pretty dry, I had the sliced bris...      0\n",
              "2007  The potatoes were like rubber and you could te...      0\n",
              "2251  There is nothing privileged about working/eati...      0\n",
              "1317  The telephone repair man was really funny and ...      1\n",
              "1524  Full of unconvincing cardboard characters it i...      0\n",
              "1910  I highly doubt that anyone could ever like thi...      0\n",
              "1205  I really don't see how anyone could enjoy this...      0\n",
              "1628  I thought Errol Flynn was brilliant as Custer ...      1\n",
              "290                                        Great Phone.      1\n",
              "691                                  Clear crisp sound.      1\n",
              "2840  for 40 bucks a head, i really expect better food.      0\n",
              "1275  The performances are real and gripping, the cr...      1\n",
              "768                                      Great product.      1\n",
              "717   Unfortunately it will not recharge my iPhone 4...      0\n",
              "16                  I advise EVERYONE DO NOT BE FOOLED!      0\n",
              "2897              I had strawberry tea, which was good.      1\n",
              "536   Bluetooth range is good - a few days ago I lef...      1"
            ],
            "text/html": [
              "\n",
              "  <div id=\"df-0b2c3fa2-6f35-4887-ba9a-30254f4f040b\" class=\"colab-df-container\">\n",
              "    <div>\n",
              "<style scoped>\n",
              "    .dataframe tbody tr th:only-of-type {\n",
              "        vertical-align: middle;\n",
              "    }\n",
              "\n",
              "    .dataframe tbody tr th {\n",
              "        vertical-align: top;\n",
              "    }\n",
              "\n",
              "    .dataframe thead th {\n",
              "        text-align: right;\n",
              "    }\n",
              "</style>\n",
              "<table border=\"1\" class=\"dataframe\">\n",
              "  <thead>\n",
              "    <tr style=\"text-align: right;\">\n",
              "      <th></th>\n",
              "      <th>review</th>\n",
              "      <th>label</th>\n",
              "    </tr>\n",
              "  </thead>\n",
              "  <tbody>\n",
              "    <tr>\n",
              "      <th>2986</th>\n",
              "      <td>Shrimp- When I unwrapped it (I live only 1/2 a...</td>\n",
              "      <td>0</td>\n",
              "    </tr>\n",
              "    <tr>\n",
              "      <th>2747</th>\n",
              "      <td>I always order from the vegetarian menu during...</td>\n",
              "      <td>1</td>\n",
              "    </tr>\n",
              "    <tr>\n",
              "      <th>542</th>\n",
              "      <td>Perhaps my phone is defective, but people cann...</td>\n",
              "      <td>0</td>\n",
              "    </tr>\n",
              "    <tr>\n",
              "      <th>2938</th>\n",
              "      <td>The meat was pretty dry, I had the sliced bris...</td>\n",
              "      <td>0</td>\n",
              "    </tr>\n",
              "    <tr>\n",
              "      <th>2007</th>\n",
              "      <td>The potatoes were like rubber and you could te...</td>\n",
              "      <td>0</td>\n",
              "    </tr>\n",
              "    <tr>\n",
              "      <th>2251</th>\n",
              "      <td>There is nothing privileged about working/eati...</td>\n",
              "      <td>0</td>\n",
              "    </tr>\n",
              "    <tr>\n",
              "      <th>1317</th>\n",
              "      <td>The telephone repair man was really funny and ...</td>\n",
              "      <td>1</td>\n",
              "    </tr>\n",
              "    <tr>\n",
              "      <th>1524</th>\n",
              "      <td>Full of unconvincing cardboard characters it i...</td>\n",
              "      <td>0</td>\n",
              "    </tr>\n",
              "    <tr>\n",
              "      <th>1910</th>\n",
              "      <td>I highly doubt that anyone could ever like thi...</td>\n",
              "      <td>0</td>\n",
              "    </tr>\n",
              "    <tr>\n",
              "      <th>1205</th>\n",
              "      <td>I really don't see how anyone could enjoy this...</td>\n",
              "      <td>0</td>\n",
              "    </tr>\n",
              "    <tr>\n",
              "      <th>1628</th>\n",
              "      <td>I thought Errol Flynn was brilliant as Custer ...</td>\n",
              "      <td>1</td>\n",
              "    </tr>\n",
              "    <tr>\n",
              "      <th>290</th>\n",
              "      <td>Great Phone.</td>\n",
              "      <td>1</td>\n",
              "    </tr>\n",
              "    <tr>\n",
              "      <th>691</th>\n",
              "      <td>Clear crisp sound.</td>\n",
              "      <td>1</td>\n",
              "    </tr>\n",
              "    <tr>\n",
              "      <th>2840</th>\n",
              "      <td>for 40 bucks a head, i really expect better food.</td>\n",
              "      <td>0</td>\n",
              "    </tr>\n",
              "    <tr>\n",
              "      <th>1275</th>\n",
              "      <td>The performances are real and gripping, the cr...</td>\n",
              "      <td>1</td>\n",
              "    </tr>\n",
              "    <tr>\n",
              "      <th>768</th>\n",
              "      <td>Great product.</td>\n",
              "      <td>1</td>\n",
              "    </tr>\n",
              "    <tr>\n",
              "      <th>717</th>\n",
              "      <td>Unfortunately it will not recharge my iPhone 4...</td>\n",
              "      <td>0</td>\n",
              "    </tr>\n",
              "    <tr>\n",
              "      <th>16</th>\n",
              "      <td>I advise EVERYONE DO NOT BE FOOLED!</td>\n",
              "      <td>0</td>\n",
              "    </tr>\n",
              "    <tr>\n",
              "      <th>2897</th>\n",
              "      <td>I had strawberry tea, which was good.</td>\n",
              "      <td>1</td>\n",
              "    </tr>\n",
              "    <tr>\n",
              "      <th>536</th>\n",
              "      <td>Bluetooth range is good - a few days ago I lef...</td>\n",
              "      <td>1</td>\n",
              "    </tr>\n",
              "  </tbody>\n",
              "</table>\n",
              "</div>\n",
              "    <div class=\"colab-df-buttons\">\n",
              "\n",
              "  <div class=\"colab-df-container\">\n",
              "    <button class=\"colab-df-convert\" onclick=\"convertToInteractive('df-0b2c3fa2-6f35-4887-ba9a-30254f4f040b')\"\n",
              "            title=\"Convert this dataframe to an interactive table.\"\n",
              "            style=\"display:none;\">\n",
              "\n",
              "  <svg xmlns=\"http://www.w3.org/2000/svg\" height=\"24px\" viewBox=\"0 -960 960 960\">\n",
              "    <path d=\"M120-120v-720h720v720H120Zm60-500h600v-160H180v160Zm220 220h160v-160H400v160Zm0 220h160v-160H400v160ZM180-400h160v-160H180v160Zm440 0h160v-160H620v160ZM180-180h160v-160H180v160Zm440 0h160v-160H620v160Z\"/>\n",
              "  </svg>\n",
              "    </button>\n",
              "\n",
              "  <style>\n",
              "    .colab-df-container {\n",
              "      display:flex;\n",
              "      gap: 12px;\n",
              "    }\n",
              "\n",
              "    .colab-df-convert {\n",
              "      background-color: #E8F0FE;\n",
              "      border: none;\n",
              "      border-radius: 50%;\n",
              "      cursor: pointer;\n",
              "      display: none;\n",
              "      fill: #1967D2;\n",
              "      height: 32px;\n",
              "      padding: 0 0 0 0;\n",
              "      width: 32px;\n",
              "    }\n",
              "\n",
              "    .colab-df-convert:hover {\n",
              "      background-color: #E2EBFA;\n",
              "      box-shadow: 0px 1px 2px rgba(60, 64, 67, 0.3), 0px 1px 3px 1px rgba(60, 64, 67, 0.15);\n",
              "      fill: #174EA6;\n",
              "    }\n",
              "\n",
              "    .colab-df-buttons div {\n",
              "      margin-bottom: 4px;\n",
              "    }\n",
              "\n",
              "    [theme=dark] .colab-df-convert {\n",
              "      background-color: #3B4455;\n",
              "      fill: #D2E3FC;\n",
              "    }\n",
              "\n",
              "    [theme=dark] .colab-df-convert:hover {\n",
              "      background-color: #434B5C;\n",
              "      box-shadow: 0px 1px 3px 1px rgba(0, 0, 0, 0.15);\n",
              "      filter: drop-shadow(0px 1px 2px rgba(0, 0, 0, 0.3));\n",
              "      fill: #FFFFFF;\n",
              "    }\n",
              "  </style>\n",
              "\n",
              "    <script>\n",
              "      const buttonEl =\n",
              "        document.querySelector('#df-0b2c3fa2-6f35-4887-ba9a-30254f4f040b button.colab-df-convert');\n",
              "      buttonEl.style.display =\n",
              "        google.colab.kernel.accessAllowed ? 'block' : 'none';\n",
              "\n",
              "      async function convertToInteractive(key) {\n",
              "        const element = document.querySelector('#df-0b2c3fa2-6f35-4887-ba9a-30254f4f040b');\n",
              "        const dataTable =\n",
              "          await google.colab.kernel.invokeFunction('convertToInteractive',\n",
              "                                                    [key], {});\n",
              "        if (!dataTable) return;\n",
              "\n",
              "        const docLinkHtml = 'Like what you see? Visit the ' +\n",
              "          '<a target=\"_blank\" href=https://colab.research.google.com/notebooks/data_table.ipynb>data table notebook</a>'\n",
              "          + ' to learn more about interactive tables.';\n",
              "        element.innerHTML = '';\n",
              "        dataTable['output_type'] = 'display_data';\n",
              "        await google.colab.output.renderOutput(dataTable, element);\n",
              "        const docLink = document.createElement('div');\n",
              "        docLink.innerHTML = docLinkHtml;\n",
              "        element.appendChild(docLink);\n",
              "      }\n",
              "    </script>\n",
              "  </div>\n",
              "\n",
              "\n",
              "    <div id=\"df-4c789418-0ed3-431f-a93f-fd9582b17d64\">\n",
              "      <button class=\"colab-df-quickchart\" onclick=\"quickchart('df-4c789418-0ed3-431f-a93f-fd9582b17d64')\"\n",
              "                title=\"Suggest charts\"\n",
              "                style=\"display:none;\">\n",
              "\n",
              "<svg xmlns=\"http://www.w3.org/2000/svg\" height=\"24px\"viewBox=\"0 0 24 24\"\n",
              "     width=\"24px\">\n",
              "    <g>\n",
              "        <path d=\"M19 3H5c-1.1 0-2 .9-2 2v14c0 1.1.9 2 2 2h14c1.1 0 2-.9 2-2V5c0-1.1-.9-2-2-2zM9 17H7v-7h2v7zm4 0h-2V7h2v10zm4 0h-2v-4h2v4z\"/>\n",
              "    </g>\n",
              "</svg>\n",
              "      </button>\n",
              "\n",
              "<style>\n",
              "  .colab-df-quickchart {\n",
              "      --bg-color: #E8F0FE;\n",
              "      --fill-color: #1967D2;\n",
              "      --hover-bg-color: #E2EBFA;\n",
              "      --hover-fill-color: #174EA6;\n",
              "      --disabled-fill-color: #AAA;\n",
              "      --disabled-bg-color: #DDD;\n",
              "  }\n",
              "\n",
              "  [theme=dark] .colab-df-quickchart {\n",
              "      --bg-color: #3B4455;\n",
              "      --fill-color: #D2E3FC;\n",
              "      --hover-bg-color: #434B5C;\n",
              "      --hover-fill-color: #FFFFFF;\n",
              "      --disabled-bg-color: #3B4455;\n",
              "      --disabled-fill-color: #666;\n",
              "  }\n",
              "\n",
              "  .colab-df-quickchart {\n",
              "    background-color: var(--bg-color);\n",
              "    border: none;\n",
              "    border-radius: 50%;\n",
              "    cursor: pointer;\n",
              "    display: none;\n",
              "    fill: var(--fill-color);\n",
              "    height: 32px;\n",
              "    padding: 0;\n",
              "    width: 32px;\n",
              "  }\n",
              "\n",
              "  .colab-df-quickchart:hover {\n",
              "    background-color: var(--hover-bg-color);\n",
              "    box-shadow: 0 1px 2px rgba(60, 64, 67, 0.3), 0 1px 3px 1px rgba(60, 64, 67, 0.15);\n",
              "    fill: var(--button-hover-fill-color);\n",
              "  }\n",
              "\n",
              "  .colab-df-quickchart-complete:disabled,\n",
              "  .colab-df-quickchart-complete:disabled:hover {\n",
              "    background-color: var(--disabled-bg-color);\n",
              "    fill: var(--disabled-fill-color);\n",
              "    box-shadow: none;\n",
              "  }\n",
              "\n",
              "  .colab-df-spinner {\n",
              "    border: 2px solid var(--fill-color);\n",
              "    border-color: transparent;\n",
              "    border-bottom-color: var(--fill-color);\n",
              "    animation:\n",
              "      spin 1s steps(1) infinite;\n",
              "  }\n",
              "\n",
              "  @keyframes spin {\n",
              "    0% {\n",
              "      border-color: transparent;\n",
              "      border-bottom-color: var(--fill-color);\n",
              "      border-left-color: var(--fill-color);\n",
              "    }\n",
              "    20% {\n",
              "      border-color: transparent;\n",
              "      border-left-color: var(--fill-color);\n",
              "      border-top-color: var(--fill-color);\n",
              "    }\n",
              "    30% {\n",
              "      border-color: transparent;\n",
              "      border-left-color: var(--fill-color);\n",
              "      border-top-color: var(--fill-color);\n",
              "      border-right-color: var(--fill-color);\n",
              "    }\n",
              "    40% {\n",
              "      border-color: transparent;\n",
              "      border-right-color: var(--fill-color);\n",
              "      border-top-color: var(--fill-color);\n",
              "    }\n",
              "    60% {\n",
              "      border-color: transparent;\n",
              "      border-right-color: var(--fill-color);\n",
              "    }\n",
              "    80% {\n",
              "      border-color: transparent;\n",
              "      border-right-color: var(--fill-color);\n",
              "      border-bottom-color: var(--fill-color);\n",
              "    }\n",
              "    90% {\n",
              "      border-color: transparent;\n",
              "      border-bottom-color: var(--fill-color);\n",
              "    }\n",
              "  }\n",
              "</style>\n",
              "\n",
              "      <script>\n",
              "        async function quickchart(key) {\n",
              "          const quickchartButtonEl =\n",
              "            document.querySelector('#' + key + ' button');\n",
              "          quickchartButtonEl.disabled = true;  // To prevent multiple clicks.\n",
              "          quickchartButtonEl.classList.add('colab-df-spinner');\n",
              "          try {\n",
              "            const charts = await google.colab.kernel.invokeFunction(\n",
              "                'suggestCharts', [key], {});\n",
              "          } catch (error) {\n",
              "            console.error('Error during call to suggestCharts:', error);\n",
              "          }\n",
              "          quickchartButtonEl.classList.remove('colab-df-spinner');\n",
              "          quickchartButtonEl.classList.add('colab-df-quickchart-complete');\n",
              "        }\n",
              "        (() => {\n",
              "          let quickchartButtonEl =\n",
              "            document.querySelector('#df-4c789418-0ed3-431f-a93f-fd9582b17d64 button');\n",
              "          quickchartButtonEl.style.display =\n",
              "            google.colab.kernel.accessAllowed ? 'block' : 'none';\n",
              "        })();\n",
              "      </script>\n",
              "    </div>\n",
              "\n",
              "    </div>\n",
              "  </div>\n"
            ],
            "application/vnd.google.colaboratory.intrinsic+json": {
              "type": "dataframe",
              "summary": "{\n  \"name\": \"df\",\n  \"rows\": 20,\n  \"fields\": [\n    {\n      \"column\": \"review\",\n      \"properties\": {\n        \"dtype\": \"string\",\n        \"num_unique_values\": 20,\n        \"samples\": [\n          \"Shrimp- When I unwrapped it (I live only 1/2 a mile from Brushfire) it was literally ice cold.\",\n          \"I advise EVERYONE DO NOT BE FOOLED!\",\n          \"Great product.\"\n        ],\n        \"semantic_type\": \"\",\n        \"description\": \"\"\n      }\n    },\n    {\n      \"column\": \"label\",\n      \"properties\": {\n        \"dtype\": \"number\",\n        \"std\": 0,\n        \"min\": 0,\n        \"max\": 1,\n        \"num_unique_values\": 2,\n        \"samples\": [\n          1,\n          0\n        ],\n        \"semantic_type\": \"\",\n        \"description\": \"\"\n      }\n    }\n  ]\n}"
            }
          },
          "metadata": {},
          "execution_count": 7
        }
      ],
      "source": [
        "# Muestra 20 filas seleccionadas de forma aleatoria del DataFrame\n",
        "df.sample(n=20)"
      ]
    },
    {
      "cell_type": "markdown",
      "source": [
        "---\n",
        "---"
      ],
      "metadata": {
        "id": "BjPiCzYS1_x4"
      }
    },
    {
      "cell_type": "markdown",
      "metadata": {
        "id": "MfZZ0stLmWJN"
      },
      "source": [
        "# 2️⃣ **Pregunta - 2:**\n",
        "\n",
        "2. Realiza un proceso de limpieza. Aplica el preprocesamiento que consideres adecuado a todos los\n",
        "comentarios. Llama Xclean a los comentarios procesados y Y a las etiquetas."
      ]
    },
    {
      "cell_type": "markdown",
      "metadata": {
        "id": "7F6JF5BommZ6"
      },
      "source": [
        "Realiza el proceso de limpieza. Aplica el preprocesamiento que consideres adecuado.\n",
        "\n",
        "\n",
        "\n",
        "\n",
        "\n",
        "\n",
        "\n",
        "\n",
        "\n"
      ]
    },
    {
      "cell_type": "code",
      "execution_count": 8,
      "metadata": {
        "id": "TsnvMp-7oYCM"
      },
      "outputs": [],
      "source": [
        "\n",
        "# ******* Incluye a continuación todas las líneas de código y celdas que requieras: ***********\n",
        "X = df['review']\n",
        "Y = df['label']\n",
        "\n",
        "stopwords_engl = stopwords.words('english')\n",
        "lemmatizer = WordNetLemmatizer()\n",
        "\n",
        "def clean(texto):\n",
        "\n",
        "  # 1️⃣ Normalizar a minúsculas\n",
        "  text = texto.lower()\n",
        "\n",
        "  # 2️⃣ Conservar solo letras y apóstrofes; colapsar espacios múltiples\n",
        "  text = re.sub(r\"[^a-z']\", \" \", text)\n",
        "  text = re.sub(r\"\\s{2,}\", \" \", text).strip()\n",
        "\n",
        "  # 3️⃣ Tokenización inicial por espacios\n",
        "  tokens = text.split()\n",
        "\n",
        "  # 4️⃣ Expandir contracciones (requiere módulo 'contractions')\n",
        "  tokens = [contractions.fix(tok) for tok in tokens]\n",
        "\n",
        "  # 5️⃣ División secundaria (por si quedaron sub-tokens)\n",
        "  tokens =   tokens = \" \".join(tokens).split()\n",
        "\n",
        "\n",
        "  # 6️⃣ Eliminar apóstrofes remanentes y otros símbolos\n",
        "  tokens = [re.sub(r\"[^a-z]\", \"\", tok) for tok in tokens]\n",
        "\n",
        "\n",
        "  # 7️⃣ Filtrar stopwords y tokens muy cortos\n",
        "  tokens = [tok for tok in tokens if tok not in stopwords_engl and len(tok) > 1]\n",
        "\n",
        "  return tokens\n",
        "\n",
        "def clean_doc(doc):\n",
        "\n",
        "  # Inicializa el lematizador de WordNet\n",
        "  lemmatizer = WordNetLemmatizer()\n",
        "\n",
        "  # 1️⃣ Aplica lematización a cada palabra en el documento\n",
        "  tokens = [lemmatizer.lemmatize(\n",
        "            lemmatizer.lemmatize(\n",
        "            lemmatizer.lemmatize(palabra,\n",
        "            # 2️⃣ Primera lematización, tratando la palabra como verbo\n",
        "            pos='v'),\n",
        "            # 3️⃣ Luego, lematiza considerando la palabra como un sustantivo\n",
        "            pos='n'),\n",
        "            # 4️⃣Finalmente, lematiza considerando la palabra como un adjetivo\n",
        "            pos='a')\n",
        "            # Itera sobre cada palabra en el documento, asegurando que no sea vacía\n",
        "            for palabra in doc if palabra ]\n",
        "\n",
        "  # 5️⃣ Filtrar stopwords y tokens muy cortos\n",
        "  tokens = [tok for tok in tokens if tok not in stopwords_engl and len(tok) > 1]\n",
        "\n",
        "  return tokens\n",
        "\n",
        "Xcleantok = [clean(x) for x in X]\n",
        "Xclean = [clean_doc(x) for x in Xcleantok]\n",
        "\n",
        "# *********** Aquí termina la sección de agregar código *************"
      ]
    },
    {
      "cell_type": "code",
      "execution_count": 9,
      "metadata": {
        "colab": {
          "base_uri": "https://localhost:8080/"
        },
        "id": "7jlQuoI2o33T",
        "outputId": "1a56f906-8b12-402f-90c4-9e719ed25d2d"
      },
      "outputs": [
        {
          "output_type": "stream",
          "name": "stdout",
          "text": [
            "['way', 'plug', 'unless', 'go', 'converter']\n",
            "['good', 'case', 'excellent', 'value']\n",
            "['great', 'jawbone']\n",
            "['tie', 'charger', 'conversation', 'last', 'minute', 'major', 'problem']\n",
            "['mic', 'great']\n"
          ]
        }
      ],
      "source": [
        "# Despleguemos los primeros comentarios después de tu proceso de limpieza:\n",
        "\n",
        "for x in Xclean[0:5]:\n",
        "  print(x)\n"
      ]
    },
    {
      "cell_type": "markdown",
      "source": [
        "---\n",
        "---"
      ],
      "metadata": {
        "id": "THvTPgT0198L"
      }
    },
    {
      "cell_type": "markdown",
      "metadata": {
        "id": "ygchEdcKqIzU"
      },
      "source": [
        "# 3️⃣ **Pregunta - 3:**\n",
        "\n",
        "### 3. Partición aleatoria de los datos:\n",
        "\n",
        "1. **Realización de la partición:**  \n",
        "   Realiza una partición aleatoria de los datos utilizando los mismos porcentajes que en la práctica de la semana pasada para poder comparar los resultados con los de esta actividad. Los porcentajes serán:\n",
        "   - **Entrenamiento:** 70%\n",
        "   - **Validación:** 15%\n",
        "   - **Prueba:** 15%\n",
        "\n",
        "2. **Verificación de registros:**  \n",
        "   Verifica que obtienes:\n",
        "   - **2100 registros** para el conjunto de entrenamiento.\n",
        "   - **450 registros** para cada uno de los conjuntos de validación y prueba.\n",
        "\n",
        "3. **Uso de semilla:**  \n",
        "   Utiliza una semilla para la partición de los datos.\n",
        "\n",
        "---\n"
      ]
    },
    {
      "cell_type": "markdown",
      "metadata": {
        "id": "7wEIOkkl9Dot"
      },
      "source": [
        "\n",
        "Realicemos una partición aleatoria con los mismos porcentajes de la práctica pasada para poder comparar dichos resultados con los de\n",
        "esta actividad, a saber, 70%, 15% y 15%, para entrenamiento, validación y prueba, respectivamente."
      ]
    },
    {
      "cell_type": "code",
      "execution_count": 10,
      "metadata": {
        "colab": {
          "base_uri": "https://localhost:8080/"
        },
        "id": "b0SAcYdq9X0w",
        "outputId": "c409b5e9-5ca9-44b5-e48d-8c19a26b9070"
      },
      "outputs": [
        {
          "output_type": "stream",
          "name": "stdout",
          "text": [
            "X,y Train: 2100 2100\n",
            "X,y Val: 450 450\n",
            "X,y Test 450 450\n"
          ]
        }
      ],
      "source": [
        "\n",
        "# ************* Inicia la sección de agregar código:*****************************\n",
        "\n",
        "# ——————————————————————————\n",
        "# 1️⃣ Partición inicial: 70% train, 30% (val + test)\n",
        "# ——————————————————————————\n",
        "\n",
        "x_train, x_val_and_test, y_train, y_val_and_test = train_test_split(\n",
        "    Xclean,               # Lista de comentarios procesados\n",
        "    Y,                    # Serie de etiquetas\n",
        "    train_size=0.70,      # 70% para entrenamiento\n",
        "    shuffle=True,         # Mezclar antes de partir\n",
        "    random_state=1        # Semilla para reproducibilidad\n",
        ")\n",
        "\n",
        "# ——————————————————————————\n",
        "# 2️⃣ Partición secundaria: 50% validación, 50% test del 30% restante\n",
        "# ——————————————————————————\n",
        "x_val, x_test, y_val, y_test = train_test_split(\n",
        "    x_val_and_test,       # Comentarios (30%)\n",
        "    y_val_and_test,       # Etiquetas (30%)\n",
        "    test_size=0.50,       # 15% validación, 15% test\n",
        "    shuffle=True,         # Volver a mezclar\n",
        "    random_state=17       # Otra semilla para variación\n",
        ")\n",
        "\n",
        "\n",
        "# *********** Termina la sección de agregar código *************\n",
        "\n",
        "\n",
        "# verificemos las dimensiones obtenidas:\n",
        "print('X,y Train:', len(x_train), len(y_train))\n",
        "print('X,y Val:', len(x_val), len(y_val))\n",
        "print('X,y Test', len(x_test), len(y_test))"
      ]
    },
    {
      "cell_type": "markdown",
      "source": [
        "---\n",
        "---"
      ],
      "metadata": {
        "id": "wsE63ZM-17iP"
      }
    },
    {
      "cell_type": "markdown",
      "metadata": {
        "id": "1qjKoEqiqBN1"
      },
      "source": [
        "# 4️⃣ **Pregunta - 4:**\n",
        "\n",
        "### 4. Construye tu vocabulario a continuación:\n",
        "\n",
        "1. **Uso del conjunto de entrenamiento:**  \n",
        "   Utiliza el conjunto de entrenamiento para generar tu vocabulario con un tamaño que consideres adecuado. Si lo deseas, puedes filtrar tu vocabulario por:\n",
        "   - Frecuencia mínima de uso de cada palabra.\n",
        "   - Longitud mínima en caracteres.\n",
        "\n",
        "2. **Tamaño del vocabulario:**  \n",
        "   Indica el tamaño del vocabulario que generaste.\n",
        "\n",
        "3. **Razón para usar solo el conjunto de entrenamiento:**  \n",
        "   Explica por qué debe usarse únicamente el conjunto de entrenamiento para generar el vocabulario.\n",
        "\n",
        "4. **Filtrado de conjuntos:**  \n",
        "   Con el vocabulario generado, filtra los conjuntos de entrenamiento, validación y prueba para que todos los comentarios utilicen solo las palabras de este vocabulario.\n",
        "\n",
        "---\n",
        "\n",
        "Hasta este punto, básicamente has realizado transformaciones similares a las de la semana pasada, las cuales son válidas para muchos procesos dentro del análisis de textos. Ahora, procederemos con los vectores embebidos de cada palabra en cada comentario, en lugar de los vectores generados con las matrices Tf-idf.\n"
      ]
    },
    {
      "cell_type": "markdown",
      "metadata": {
        "id": "jENsKiN99r3F"
      },
      "source": [
        "\n",
        "\n",
        "Construye tu vocabulario a continuación\n"
      ]
    },
    {
      "cell_type": "code",
      "execution_count": 11,
      "metadata": {
        "id": "TzJntmLPqPqC"
      },
      "outputs": [],
      "source": [
        "# a.\tUsa el conjunto de entrenamiento para generar tu vocabulario\n",
        "#     con un tamaño que consideres adecuado:\n",
        "\n",
        "\n",
        "# ******* Incluye a continuación todas las líneas de código y celdas que requieras: ***********\n",
        "\n",
        "midiccionario = Counter()  # Inicializar Counter vacío\n",
        "\n",
        "# Iterar sobre cada lista de tokens de entrenamiento y actualizar conteos\n",
        "for idx, tokens in enumerate(x_train, start=1):\n",
        "    # idx: número de comentario procesado\n",
        "    # tokens: lista de tokens para este comentario\n",
        "    midiccionario.update(tokens)\n",
        "\n",
        "\n",
        "# *********** Aquí termina la sección de agregar código *************"
      ]
    },
    {
      "cell_type": "code",
      "execution_count": 12,
      "metadata": {
        "colab": {
          "base_uri": "https://localhost:8080/"
        },
        "id": "yTDZ0Rr86CUP",
        "outputId": "6eb0e415-afe7-4101-da51-016bebc957f8"
      },
      "outputs": [
        {
          "output_type": "stream",
          "name": "stdout",
          "text": [
            "Longitud del vocabulario generado:\n",
            "🔹 Longitud del diccionario (vocabulario): 3227 palabras únicas\n",
            "\n",
            "🔸 Top 10 palabras más frecuentes (palabra, frecuencia):\n",
            "   • good: 202\n",
            "   • great: 141\n",
            "   • movie: 140\n",
            "   • phone: 134\n",
            "   • film: 130\n",
            "   • work: 113\n",
            "   • bad: 112\n",
            "   • like: 101\n",
            "   • time: 101\n",
            "   • one: 100\n"
          ]
        }
      ],
      "source": [
        "# b.\tIndica el tamaño del vocabulario generado.\n",
        "\n",
        "print('Longitud del vocabulario generado:')\n",
        "\n",
        "\n",
        "# ******* Inicia la sección de agregar código: ***********\n",
        "\n",
        "\n",
        "print(f\"🔹 Longitud del diccionario (vocabulario): {len(midiccionario)} palabras únicas\\n\")\n",
        "\n",
        "print(\"🔸 Top 10 palabras más frecuentes (palabra, frecuencia):\")\n",
        "for word, freq in midiccionario.most_common(10):\n",
        "    print(f\"   • {word}: {freq}\")\n",
        "\n",
        "\n",
        "# *********** Aquí termina la sección de agregar código *************"
      ]
    },
    {
      "cell_type": "markdown",
      "metadata": {
        "id": "NDa4EhTqrw15"
      },
      "source": [
        "c.\t¿Por qué debe usarse solamente el conjunto de entrenamiento para generar el vocabulario?\n",
        "\n",
        "\n",
        "### ++++++++ Inicia la sección de agregar texto: +++++++++++\n",
        "\n",
        "Para evitar filtrado de información y mantener una evaluación justa. Ya que de lo contrario se estarían incorporando datos al modelo que no debería haber \"visto\" aún, por otro lado simula mejor un ambiente de producción, donde el modelo evaluara nuevos comentarios nuevos.\n",
        "\n",
        "### ++++++++ Termina la sección de agregar texto: +++++++++++\n"
      ]
    },
    {
      "cell_type": "code",
      "execution_count": 13,
      "metadata": {
        "colab": {
          "base_uri": "https://localhost:8080/"
        },
        "id": "7ykjxQI3rpxx",
        "outputId": "e6695b52-7fde-406f-df49-62ef4e34a1af"
      },
      "outputs": [
        {
          "output_type": "stream",
          "name": "stdout",
          "text": [
            "Total de palabras registradas en el diccionario: 3,227\n"
          ]
        }
      ],
      "source": [
        "# d.  Con el vocabulario generado, filtra los conjuntos de entrenamiento,\n",
        "#     validación y prueba para que todos los comentarios usen solamente las\n",
        "#     palabras de este vocabulario.\n",
        "\n",
        "#     Llamar train_x, val_x y test_x a estos tres conjuntos.\n",
        "\n",
        "# ******* Incluye a continuación todas las líneas de código y celdas que requieras: ***********\n",
        "\n",
        "# 1️⃣ Definir la frecuencia mínima para incluir un token en el vocabulario\n",
        "min_freq = 1\n",
        "\n",
        "# 2️⃣ Filtrar tokens con frecuencia ≥ min_freq\n",
        "midicc = {\n",
        "    token: freq\n",
        "    for token, freq in midiccionario.items()\n",
        "    if freq >= min_freq\n",
        "}\n",
        "\n",
        "# 3️⃣ (Opcional) Ordenar el vocabulario por frecuencia descendente\n",
        "midicc = dict(sorted(midicc.items(), key=lambda item: item[1], reverse=True))\n",
        "\n",
        "print(f\"Total de palabras registradas en el diccionario: {len(midicc):,}\")\n",
        "\n",
        "train_x = []\n",
        "for ss in x_train:\n",
        "    # ss: lista de tokens de un comentario\n",
        "    # Conservar solo tokens que existen en midicc (frecuencia >= min_freq)\n",
        "    train_x.append([w for w in ss if w in midiccionario])\n",
        "\n",
        "# 🔍 Conjunto de validación\n",
        "val_x = []\n",
        "for ss in x_val:\n",
        "    # Mismo proceso de filtrado para validación\n",
        "    val_x.append([w for w in ss if w in midiccionario])\n",
        "\n",
        "# 🧪 Conjunto de prueba\n",
        "test_x = []\n",
        "for ss in x_test:\n",
        "    # Mismo proceso de filtrado para test\n",
        "    test_x.append([w for w in ss if w in midiccionario])\n",
        "\n",
        "\n",
        "\n",
        "# *********** Aquí termina la sección de agregar código *************"
      ]
    },
    {
      "cell_type": "code",
      "execution_count": 14,
      "metadata": {
        "colab": {
          "base_uri": "https://localhost:8080/"
        },
        "id": "iYF2RGuPtQTC",
        "outputId": "da9006c1-3c9f-4cc8-87cc-5bf796080019"
      },
      "outputs": [
        {
          "output_type": "stream",
          "name": "stdout",
          "text": [
            "['co', 'star', 'fare', 'much', 'good', 'people', 'like', 'morgan', 'freeman', 'jonah', 'hill', 'ed', 'helm', 'waste']\n",
            "['tonight', 'elk', 'filet', 'special', 'suck']\n",
            "['pay', 'bill', 'tip', 'felt', 'server', 'terrible', 'job']\n",
            "['call', 'steakhouse', 'cannot', 'properly', 'cook', 'steak', 'understand']\n",
            "['however', 'keypad', 'tinny', 'sometimes', 'reach', 'wrong', 'button']\n"
          ]
        }
      ],
      "source": [
        "# Vemos el resultado de los primeros comentarios del conjunto de entrenamiento:\n",
        "\n",
        "for ss in train_x[0:5]:\n",
        "  print(ss)"
      ]
    },
    {
      "cell_type": "markdown",
      "source": [
        "---\n",
        "---"
      ],
      "metadata": {
        "id": "CfprdP_h145S"
      }
    },
    {
      "cell_type": "markdown",
      "source": [
        "\n",
        "# 5️⃣ **Pregunta - 5:**\n",
        "\n",
        "###  ++++++++ Inicia la sección de agregar texto: +++++++++++\n",
        "\n",
        "## Modelos de Vectores Embebidos de OpenAI\n",
        "\n",
        "OpenAI ha desarrollado varios modelos para generar vectores embebidos, cada uno con características y optimizaciones específicas. Estos embeddings son fundamentales para tareas que requieren la comprensión semántica del texto, como búsqueda, agrupación, recomendación y clasificación (OpenAI, n.d.-a). A continuación, se presenta una comparación de los modelos más recientes y el anterior `text-embedding-ada-002`.\n",
        "\n",
        "### Tabla Comparativa de Modelos de Embeddings de OpenAI\n",
        "\n",
        "| Característica             | `text-embedding-ada-002`                     | `text-embedding-3-small`                    | `text-embedding-3-large`                    |\n",
        "| :------------------------- | :------------------------------------------- | :------------------------------------------ | :------------------------------------------ |\n",
        "| **Generación** | Segunda                                      | Tercera                                     | Tercera                                     |\n",
        "| **Dimensiones del Vector** | 1536                                         | 1536 (predeterminado), 512                  | 3072 (predeterminado), 1024, 256            |\n",
        "| **Máx. Tokens de Entrada** | 8191                                         | 8191                                        | 8191                                        |\n",
        "| **Optimización Principal** | Costo-efectividad, buen rendimiento general  | Balanceado: costo y rendimiento mejorados   | Máximo rendimiento, mayor dimensionalidad   |\n",
        "| **Características Clave** | Modelo popular y ampliamente utilizado      | Soporte para MRL (Matryoshka Representation Learning) para acortar embeddings sin perder mucha información; rendimiento mejorado sobre `ada-002` (OpenAI, n.d.-b). | Soporte para MRL; el modelo más potente de la tercera generación con el mejor rendimiento en benchmarks como MTEB (OpenAI, n.d.-c). |\n",
        "| **Rendimiento (MTEB)** | 61.0% (Inglés)                               | 62.3% (Inglés)                              | 64.6% (Inglés)                              |\n",
        "| **Costo (por 1k tokens)** | \\$0.0001                                     | \\$0.00002                                   | \\$0.00013                                   |\n",
        "| **Casos de Uso Sugeridos** | Búsqueda semántica, clasificación, agrupación de texto, análisis de sentimiento. | Tareas que requieren un buen balance entre rendimiento y costo, aplicaciones a gran escala. | Aplicaciones que demandan la más alta precisión en la representación semántica, análisis de texto complejo. |\n",
        "\n",
        "*Fuente: Información adaptada de la documentación oficial de OpenAI (OpenAI, n.d.-a; OpenAI, n.d.-b; OpenAI, n.d.-c).*\n",
        "\n",
        "### Resumen Adicional\n",
        "\n",
        "* **`text-embedding-ada-002`**: Ha sido el modelo de embedding de segunda generación más capaz y rentable de OpenAI, ofreciendo un sólido rendimiento en una amplia gama de tareas de PNL. Es conocido por su buena calidad en la representación semántica y eficiencia (OpenAI, n.d.-d).\n",
        "\n",
        "* **`text-embedding-3-small`**: Es una opción más eficiente y económica de la nueva generación de modelos de embedding. A pesar de su tamaño reducido y costo significativamente menor, supera a `text-embedding-ada-002` en benchmarks estándar como MIRACL y MTEB. Introduce la flexibilidad de dimensiones mediante la técnica de Matryoshka Representation Learning (MRL), permitiendo a los desarrolladores acortar los embeddings (por ejemplo, a 512 dimensiones) para optimizar velocidad y almacenamiento, aunque con una ligera pérdida de precisión (OpenAI, n.d.-b).\n",
        "\n",
        "* **`text-embedding-3-large`**: Es el modelo de embedding de tercera generación más grande y potente de OpenAI hasta la fecha. Ofrece la mejor precisión y rendimiento en los benchmarks, superando a `text-embedding-3-small`. Al igual que la versión `small`, soporta MRL, lo que permite generar embeddings de dimensiones variables (por ejemplo, 3072, 1024, o 256) según las necesidades de la aplicación. Aunque es más costoso que `text-embedding-3-small`, su rendimiento superior lo hace ideal para tareas donde la calidad de la representación semántica es crítica (OpenAI, n.d.-c).\n",
        "\n",
        "La elección del modelo dependerá de los requisitos específicos de la tarea, incluyendo la precisión deseada, el presupuesto y las limitaciones computacionales. Los modelos de tercera generación (`text-embedding-3-small` y `text-embedding-3-large`) ofrecen mejoras significativas en rendimiento y flexibilidad, como la capacidad de trabajar con dimensiones de embedding variables (OpenAI, n.d.-a).\n",
        "\n",
        "---\n",
        "\n",
        "Todos estos embeddings aceptan únicamente texto como entrada. Son modelos que transforman el texto en representaciones vectoriales.\n",
        "\n",
        "- **text-embedding-3-small**: Es una versión mejorada con mayor rendimiento que el modelo Ada.\n",
        "- **text-embedding-3-large**: Es el más potente para tareas en inglés y otros idiomas.\n",
        "- **text-embedding-ada-002**: Es una versión optimizada con mejor rendimiento que el modelo embedding Ada.\n",
        "\n",
        "\n",
        "<table>\n",
        "  <tr>\n",
        "    <th>Característica</th>\n",
        "    <th>text-embedding-3-small</th>\n",
        "    <th>text-embedding-3-large</th>\n",
        "    <th>text-embedding-ada-002</th>\n",
        "  </tr>\n",
        "  <tr>\n",
        "    <td>Rendimiento</td>\n",
        "    <td>Bueno 🟢🟢</td>\n",
        "    <td>Mejor 🟢🟢🟢</td>\n",
        "    <td>Inferior 🟢</td>\n",
        "  </tr>\n",
        "    <tr>\n",
        "    <td>Velocidad</td>\n",
        "    <td>⏩⏩⏩</td>\n",
        "    <td>⏩⏩</td>\n",
        "    <td>⏩⏩</td>\n",
        "  </tr>\n",
        "  <tr>\n",
        "    <td>Costo por Millon de Token</td>\n",
        "    <td>0.02</td>\n",
        "    <td>0.13</td>\n",
        "    <td>0.10</td>\n",
        "  </tr>\n",
        "</table>\n",
        "\n",
        "### ++++++++ Termina la sección de agregar texto: +++++++++++\n"
      ],
      "metadata": {
        "id": "W-gCgem5yruZ"
      }
    },
    {
      "cell_type": "markdown",
      "source": [
        "---\n",
        "---"
      ],
      "metadata": {
        "id": "ormbsI-911Mf"
      }
    },
    {
      "cell_type": "markdown",
      "metadata": {
        "id": "ToqRl7fT_fn2"
      },
      "source": [
        "# 6️⃣ **Pregunta - 6:**\n",
        "\n",
        "### 6. Generación del diccionario clave-valor con vectores embebidos:\n",
        "\n",
        "1. **Uso de modelos de OpenAI:**  \n",
        "   Utiliza alguno de los modelos de OpenAI para generar vectores embebidos. Debes crear un nuevo diccionario clave-valor donde:\n",
        "   - **Clave:** Cada palabra de tu vocabulario.\n",
        "   - **Valor:** El vector embebido correspondiente, de la dimensión proporcionada por el modelo seleccionado.\n",
        "\n",
        "2. **Guardado del diccionario:**  \n",
        "   Una vez generado el diccionario de vectores embebidos, es recomendable guardarlo en un archivo, utilizando el formato que consideres más adecuado (por ejemplo, `pickle`, `npz` o cualquier otro formato relevante).\n",
        "\n",
        "3. **Colaboración en equipo:**  \n",
        "   Apóyense entre los miembros del equipo para trabajar con los diferentes modelos de vectores embebidos, considerando los costos de cada modelo.\n",
        "\n",
        "4. **Cantidad de tokens utilizados:**  \n",
        "   Indica la cantidad de tokens de OpenAI que se han utilizado durante este proceso.\n",
        "\n",
        "---\n"
      ]
    },
    {
      "cell_type": "markdown",
      "metadata": {
        "id": "BKqQk03oqoOD"
      },
      "source": [
        "#### **Diccionario clave-valor de palabras del diccionario y vectores embebidos.**"
      ]
    },
    {
      "cell_type": "markdown",
      "source": [
        "### Descripción del Código: `obtener_embedding`\n",
        "\n",
        "La función `obtener_embedding` está diseñada para generar o cargar vectores embebidos (embeddings) para un conjunto de palabras o textos (denominado `diccionario`) utilizando un modelo de OpenAI. Además, gestiona el almacenamiento y la recuperación de estos embeddings para evitar regenerarlos innecesariamente, optimizando así costos y tiempo.\n",
        "\n",
        "A continuación, se detalla el funcionamiento del código:\n",
        "\n",
        "1.  **Inicialización y Mensajes Informativos:**\n",
        "    * Al inicio, imprime un mensaje indicando la cantidad de registros (palabras/textos) para los cuales se generarán o cargarán embeddings.\n",
        "    * Define la ruta (`ruta_dicc`) donde se buscará o guardará el archivo con los embeddings, utilizando un directorio de salida (`output_directory`) y un nombre de archivo de respaldo (`respaldo`).\n",
        "\n",
        "2.  **Estimación de Tokens (Antes de la API):**\n",
        "    * Selecciona el modelo de embedding a utilizar (en este caso, `\"text-embedding-3-large\"`).\n",
        "    * Carga el tokenizador (`tiktoken`) correspondiente a dicho modelo.\n",
        "    * Calcula la cantidad de tokens que representaría cada elemento del `diccionario` si se enviara a la API de OpenAI.\n",
        "    * Suma estos conteos para obtener un total estimado de tokens para todo el diccionario.\n",
        "    * Imprime el total estimado de tokens, resaltándolo en color verde y negrita, lo que ayuda al usuario a anticipar el posible uso de la API.\n",
        "\n",
        "3.  **Carga de Embeddings Preexistentes:**\n",
        "    * Verifica si ya existe un archivo de respaldo con los embeddings previamente generados en la ruta especificada (`ruta_dicc`).\n",
        "    * **Si el archivo existe:**\n",
        "        * Informa que el archivo fue localizado.\n",
        "        * Intenta cargar el diccionario de vectores desde este archivo utilizando `pickle.load()`.\n",
        "        * Si la carga es exitosa, informa al usuario y retorna el diccionario cargado, evitando así la necesidad de llamar a la API de OpenAI.\n",
        "        * Maneja posibles errores durante la carga del archivo (`pickle.UnpicklingError` u otras excepciones), informando el problema y retornando `None`.\n",
        "    * **Si el archivo no existe:**\n",
        "        * Informa que el archivo no fue localizado y que se procederá a generar los embeddings.\n",
        "\n",
        "4.  **Generación de Embeddings (Si no se cargaron):**\n",
        "    * Inicializa un diccionario vacío (`diccionario_vectores`) para almacenar los embeddings generados.\n",
        "    * Itera sobre cada `palabra` (o texto) en el `diccionario` de entrada:\n",
        "        * Realiza una llamada a la API de OpenAI (`openai.embeddings.create`) para obtener el vector embebido de la `palabra` utilizando el modelo `\"text-embedding-3-large\"`.\n",
        "        * Almacena el vector embebido resultante en `diccionario_vectores`, usando la `palabra` original como clave.\n",
        "        * Acumula la cantidad de tokens realmente utilizados según la respuesta de la API (`respuesta.usage.total_tokens`).\n",
        "    * Una vez procesadas todas las palabras, imprime la cantidad de vectores generados y el total de tokens efectivamente utilizados en las llamadas a la API.\n",
        "\n",
        "5.  **Almacenamiento de Nuevos Embeddings:**\n",
        "    * Guarda el `diccionario_vectores` (que ahora contiene los nuevos embeddings) en un archivo binario utilizando `pickle.dump()`. El nombre del archivo es el especificado en la variable `respaldo`. Esto permite que en futuras ejecuciones se puedan cargar estos embeddings directamente (paso 3).\n",
        "\n",
        "6.  **Retorno de Resultados:**\n",
        "    * Retorna el `diccionario_vectores` que contiene las palabras y sus correspondientes vectores embebidos.\n",
        "\n",
        "**Uso de la Función:**\n",
        "Finalmente, el script define un nombre para el archivo de respaldo (`respaldo = 'embeddings_diccionario_larget3.pkl'`) y luego llama a la función `obtener_embedding` pasándole un diccionario existente (`midicc`) y el nombre del archivo de respaldo. El resultado (el diccionario con los embeddings) se almacena en `diccionario_vectores`.\n",
        "\n",
        "**En resumen, esta función es una utilidad robusta que:**\n",
        "* Calcula embeddings utilizando un modelo específico de OpenAI.\n",
        "* Estima el uso de tokens antes de incurrir en costos de API.\n",
        "* Implementa un sistema de caché (guardando y cargando con `pickle`) para persistir los embeddings y evitar regeneraciones costosas y lentas.\n",
        "* Proporciona retroalimentación al usuario durante todo el proceso."
      ],
      "metadata": {
        "id": "9JKyLVzZ09oC"
      }
    },
    {
      "cell_type": "code",
      "source": [
        "# ******* Incluye a continuación todas las líneas de código y celdas que requieras: ***********\n",
        "def obtener_embedding(diccionario,respaldo):\n",
        "  print(f\"Generando embeddings para {len(diccionario):,} registros.\")\n",
        "  ruta_dicc = os.path.join(output_directory, respaldo)\n",
        "  numero_tokens = 0\n",
        "\n",
        "  modelo = \"text-embedding-3-large\"\n",
        "  tokenizador = tiktoken.encoding_for_model(modelo)\n",
        "\n",
        "  conteo_tokens = {clave: len(tokenizador.encode(str(valor))) for clave, valor in diccionario.items()}\n",
        "  total_tokens = sum(conteo_tokens.values())\n",
        "\n",
        "  print(f\"Total estimado de tokens: \\033[32m\\033[1m{total_tokens:,}\\033[0m\")\n",
        "\n",
        "  if os.path.exists(ruta_dicc):\n",
        "      print(f\"El archivo {ruta_dicc} localizado.\")\n",
        "      try:\n",
        "        with open(ruta_dicc, 'rb') as archivo:\n",
        "          diccionario_cargado = pickle.load(archivo)\n",
        "          print(f\"Diccionario cargado.\")\n",
        "        return diccionario_cargado\n",
        "      except pickle.UnpicklingError:\n",
        "        print(f\"Error al cargar el archivo {ruta_dicc}.\")\n",
        "        return None\n",
        "      except Exception as e:\n",
        "        print(f\"Ocurrió un error al cargar el archivo: {e}\")\n",
        "        return None\n",
        "  else:\n",
        "      print(f\"El archivo {ruta_dicc} no localizado.\")\n",
        "      diccionario_vectores = {}\n",
        "\n",
        "      for palabra in diccionario:\n",
        "        respuesta = openai.embeddings.create(\n",
        "        input=palabra,\n",
        "        model=\"text-embedding-3-large\"\n",
        "        )\n",
        "        diccionario_vectores[palabra] = respuesta.data[0].embedding\n",
        "        numero_tokens += respuesta.usage.total_tokens\n",
        "\n",
        "      print(f\"Embeddings generados: {len(diccionario_vectores):,} vectores.\")\n",
        "      print(f\"Total de tokens utilizados: {numero_tokens:,}.\")\n",
        "\n",
        "      with open(respaldo, 'wb') as archivo:\n",
        "        pickle.dump(diccionario_vectores, archivo)\n",
        "\n",
        "      return diccionario_vectores\n",
        "\n",
        "respaldo = 'embeddings_diccionario_larget3.pkl'\n",
        "diccionario_vectores = obtener_embedding(midicc,respaldo)\n",
        "\n",
        "\n",
        "  # *********** Aquí termina la sección de agregar código *************\n",
        "\n"
      ],
      "metadata": {
        "colab": {
          "base_uri": "https://localhost:8080/"
        },
        "id": "E-UDCdwJwwfL",
        "outputId": "0435bf73-b634-4774-f517-12cc63452197"
      },
      "execution_count": 15,
      "outputs": [
        {
          "output_type": "stream",
          "name": "stdout",
          "text": [
            "Generando embeddings para 3,227 registros.\n",
            "Total estimado de tokens: \u001b[32m\u001b[1m3,227\u001b[0m\n",
            "El archivo datos/embeddings_diccionario_larget3.pkl no localizado.\n",
            "Embeddings generados: 3,227 vectores.\n",
            "Total de tokens utilizados: 5,549.\n"
          ]
        }
      ]
    },
    {
      "cell_type": "code",
      "source": [
        "#Modelo 2\n",
        "\n",
        "def obtener_embedding2(diccionario,respaldo2):\n",
        "  print(f\"Generando embeddings para {len(diccionario):,} registros.\")\n",
        "  ruta_dicc = os.path.join(output_directory, respaldo2)\n",
        "  numero_tokens = 0\n",
        "\n",
        "  modelo = \"text-embedding-3-small\"\n",
        "  tokenizador = tiktoken.encoding_for_model(modelo)\n",
        "\n",
        "  conteo_tokens = {clave: len(tokenizador.encode(str(valor))) for clave, valor in diccionario.items()}\n",
        "  total_tokens = sum(conteo_tokens.values())\n",
        "\n",
        "  print(f\"Total estimado de tokens modelo 2: \\033[32m\\033[1m{total_tokens:,}\\033[0m\")\n",
        "\n",
        "  if os.path.exists(ruta_dicc):\n",
        "      print(f\"El archivo {ruta_dicc} localizado.\")\n",
        "      try:\n",
        "        with open(ruta_dicc, 'rb') as archivo:\n",
        "          diccionario_cargado = pickle.load(archivo)\n",
        "          print(f\"Diccionario cargado.\")\n",
        "        return diccionario_cargado\n",
        "      except pickle.UnpicklingError:\n",
        "        print(f\"Error al cargar el archivo {ruta_dicc}.\")\n",
        "        return None\n",
        "      except Exception as e:\n",
        "        print(f\"Ocurrió un error al cargar el archivo: {e}\")\n",
        "        return None\n",
        "  else:\n",
        "      print(f\"El archivo {ruta_dicc} no localizado.\")\n",
        "      diccionario_vectores = {}\n",
        "\n",
        "      for palabra in diccionario:\n",
        "        respuesta = openai.embeddings.create(\n",
        "        input=palabra,\n",
        "        model=\"text-embedding-3-small\"\n",
        "        )\n",
        "        diccionario_vectores[palabra] = respuesta.data[0].embedding\n",
        "        numero_tokens += respuesta.usage.total_tokens\n",
        "\n",
        "      print(f\"Embeddings generados: {len(diccionario_vectores):,} vectores.\")\n",
        "      print(f\"Total de tokens utilizados: {numero_tokens:,}.\")\n",
        "\n",
        "      with open(respaldo2, 'wb') as archivo:\n",
        "        pickle.dump(diccionario_vectores, archivo)\n",
        "\n",
        "      return diccionario_vectores\n",
        "\n",
        "respaldo2 = 'embeddings_diccionario_embedding3Small.pkl'\n",
        "diccionario_vectores2 = obtener_embedding2(midicc, respaldo2)\n"
      ],
      "metadata": {
        "colab": {
          "base_uri": "https://localhost:8080/"
        },
        "id": "tbqkeNmKV5Lo",
        "outputId": "279447a0-52af-48d5-d3d6-64f27d00adc1"
      },
      "execution_count": 16,
      "outputs": [
        {
          "output_type": "stream",
          "name": "stdout",
          "text": [
            "Generando embeddings para 3,227 registros.\n",
            "Total estimado de tokens modelo 2: \u001b[32m\u001b[1m3,227\u001b[0m\n",
            "El archivo datos/embeddings_diccionario_embedding3Small.pkl no localizado.\n",
            "Embeddings generados: 3,227 vectores.\n",
            "Total de tokens utilizados: 5,549.\n"
          ]
        }
      ]
    },
    {
      "cell_type": "code",
      "source": [
        "#Funcion para comparar las salidas de los diccionarios con embedding 3 small y large\n",
        "# Ruta a los archivos Plk\n",
        "archivo_large = 'datos/embeddings_diccionario_large.pkl'  # Modelo larog\n",
        "archivo_small = 'datos/embeddings_diccionario_small.pkl' # Modelo Corto\n",
        "\n",
        "# Función para cargar y mostrar la forma de los vectores\n",
        "def mostrar_dimensionalidad(archivo, nombre_modelo):\n",
        "    with open(archivo, 'rb') as f:\n",
        "        embeddings_dicc = pickle.load(f)\n",
        "\n",
        "    # Tomamos el primer vector para ver su tamaño\n",
        "    primer_clave = next(iter(embeddings_dicc))\n",
        "    vector = embeddings_dicc[primer_clave]\n",
        "\n",
        "    print(f'🔹 {nombre_modelo}')\n",
        "    print(f'Número total de vectores: {len(embeddings_dicc)}')\n",
        "    print(f'Dimensionalidad del vector: {len(vector)}')\n",
        "    print('-' * 50)\n",
        "\n",
        "# Comparar ambos modelos\n",
        "mostrar_dimensionalidad(archivo_large, \"text-embedding-3-large\")\n",
        "mostrar_dimensionalidad(archivo_small, \"text-embedding-3-small\")"
      ],
      "metadata": {
        "colab": {
          "base_uri": "https://localhost:8080/"
        },
        "id": "rLZcpK-K1YKF",
        "outputId": "a81dba8e-4e81-48aa-9a46-c244cc579414"
      },
      "execution_count": 24,
      "outputs": [
        {
          "output_type": "stream",
          "name": "stdout",
          "text": [
            "🔹 text-embedding-3-large\n",
            "Número total de vectores: 3227\n",
            "Dimensionalidad del vector: 3072\n",
            "--------------------------------------------------\n",
            "🔹 text-embedding-3-small\n",
            "Número total de vectores: 3227\n",
            "Dimensionalidad del vector: 1536\n",
            "--------------------------------------------------\n"
          ]
        }
      ]
    },
    {
      "cell_type": "markdown",
      "source": [
        "## 📊 Comparativa de Resultados: Modelos de Embeddings OpenAI\n",
        "\n",
        "Se evaluaron dos modelos de embeddings de OpenAI para procesar un corpus de **3,227 registros**: `text-embedding-3-large` y `text-embedding-3-small`. A continuación, se presenta un resumen de la ejecución y una comparativa de sus características.\n",
        "\n",
        "---\n",
        "\n",
        "### Resumen de Ejecución por Modelo\n",
        "\n",
        "| Métrica / Modelo               | 🔷 `text-embedding-3-large`                  | 🔶 `text-embedding-3-small`                  |\n",
        "| :----------------------------- | :------------------------------------------- | :------------------------------------------- |\n",
        "| **Registros Procesados** | 3,227                                        | 3,227                                        |\n",
        "| **Tokens Estimados (Entrada)** | 3,227                                        | 3,227                                        |\n",
        "| **Archivo de Cache** | `datos/embeddings_diccionario_larget3.pkl` | `datos/embeddings_diccionario_embedding3.pkl` |\n",
        "| **Vectores Generados** | 3,227                                        | 3,227                                        |\n",
        "| **Tokens Reales Usados (API)** | 5,549                                        | 5,549                                        |\n",
        "| **Dimensionalidad del Vector** | **3072** | **1536** |\n",
        "\n",
        "---\n",
        "\n",
        "### Análisis Comparativo\n",
        "\n",
        "Ambos modelos, `text-embedding-3-large` y `text-embedding-3-small`, procesaron la misma cantidad de entradas (3,227 registros). La estimación inicial de tokens de entrada fue idéntica para ambos (3,227 tokens), y, de manera consistente, ambos modelos generaron 3,227 vectores embebidos utilizando un total de 5,549 tokens de la API. Esta paridad en el uso de tokens de entrada y salida (antes de considerar la dimensionalidad) sugiere que el proceso de tokenización y la gestión de las solicitudes a la API fueron uniformes para las mismas entradas textuales.\n",
        "\n",
        "La diferencia fundamental radica en la **dimensionalidad de los vectores generados**:\n",
        "\n",
        "* 🔷 **`text-embedding-3-large`**: Produjo vectores con **3072 dimensiones**.\n",
        "* 🔶 **`text-embedding-3-small`**: Produjo vectores con **1536 dimensiones**.\n",
        "\n",
        "**Implicaciones Clave:**\n",
        "\n",
        "1.  **Capacidad Semántica vs. Recursos:**\n",
        "    * La mayor dimensionalidad del modelo `large` (el doble que `small`) le otorga una capacidad teóricamente superior para capturar matices semánticos más finos y relaciones complejas dentro del texto.\n",
        "    * Esta mayor riqueza representacional conlleva un costo: requiere más memoria para almacenar los vectores y mayor poder de cómputo para las operaciones subsiguientes en etapas de modelado de aprendizaje automático.\n",
        "\n",
        "2.  **Consideraciones de Costo-Eficiencia:**\n",
        "    * Aunque el consumo de tokens de la API fue el mismo para ambos modelos en esta ejecución específica (5,549 tokens), es crucial recordar que el **costo por token del modelo `text-embedding-3-large` es significativamente más alto** que el de `text-embedding-3-small`.\n",
        "    * Para aplicaciones que manejan grandes volúmenes de datos o donde el presupuesto es una limitante, optar por el modelo `small` puede representar un ahorro considerable. La decisión debe sopesar este ahorro contra la posible (aunque no siempre garantizada para todas las tareas) mejora en la calidad de la representación que podría ofrecer el modelo `large`.\n",
        "\n",
        "En resumen, la elección entre `text-embedding-3-large` y `text-embedding-3-small` implica un compromiso entre la profundidad de la representación semántica (y el potencial rendimiento en tareas complejas) y los recursos computacionales y económicos disponibles."
      ],
      "metadata": {
        "id": "ka5oPd3d1kSA"
      }
    },
    {
      "cell_type": "markdown",
      "source": [
        "---\n",
        "---"
      ],
      "metadata": {
        "id": "77lkdqHw1iu_"
      }
    },
    {
      "cell_type": "markdown",
      "metadata": {
        "id": "W4S7q0yR0Mpi"
      },
      "source": [
        "# 7️⃣ **Pregunta - 7:**\n",
        "\n",
        "### 7. Uso de vectores embebidos en modelos de aprendizaje automático:\n",
        "\n",
        "1. **Promediado de vectores embebidos:**  \n",
        "   Una manera de utilizar los vectores embebidos con modelos de aprendizaje automático es asignar a cada comentario un único vector embebido de dimensión predeterminada. Este vector es el resultado de promediar todos los vectores embebidos de cada una de las palabras (tokens) del comentario.\n",
        "\n",
        "2. **Generación de conjuntos de datos:**  \n",
        "   En este ejercicio, deberás generar los siguientes conjuntos:\n",
        "   - **trainEmb**: Conjunto de entrenamiento.\n",
        "   - **valEmb**: Conjunto de validación.\n",
        "   - **testEmb**: Conjunto de prueba.\n",
        "\n",
        "   En cada uno de estos conjuntos, cada comentario estará representado por un solo vector de dimensión dada por el modelo de OpenAI seleccionado.\n",
        "\n",
        "---\n"
      ]
    },
    {
      "cell_type": "markdown",
      "metadata": {
        "id": "VyeOrkoaC1eq"
      },
      "source": [
        "\n",
        "\n",
        "Generamos los vectores embebidos a partir de los conjuntos de entrenamiento, validación y prueba.\n",
        "\n",
        "Los llamaremos trainEmb, valEmb y testEmb, respectivamente."
      ]
    },
    {
      "cell_type": "code",
      "execution_count": 25,
      "metadata": {
        "id": "wnfQpkxg0Usq"
      },
      "outputs": [],
      "source": [
        "# ******* Incluye a continuación todas las líneas de código y celdas que requieras: ***********\n",
        "\n",
        "def average_embedding(comentario, diccionario):\n",
        "    vectors = [diccionario[word] for word in comentario if word in diccionario]\n",
        "    return np.mean(vectors, axis=0) if vectors else np.zeros(len(next(iter(diccionario.values()))))\n",
        "\n",
        "trainEmb = np.array([average_embedding(comentario, diccionario_vectores) for comentario in train_x])\n",
        "valEmb = np.array([average_embedding(comentario, diccionario_vectores) for comentario in val_x])\n",
        "testEmb = np.array([average_embedding(comentario, diccionario_vectores) for comentario in test_x])\n",
        "# *********** Aquí termina la sección de agregar código *************"
      ]
    },
    {
      "cell_type": "code",
      "execution_count": 26,
      "metadata": {
        "colab": {
          "base_uri": "https://localhost:8080/"
        },
        "id": "J3BBF96D0N8Z",
        "outputId": "cdd05a20-a956-41ba-e405-2d23b4137473"
      },
      "outputs": [
        {
          "output_type": "stream",
          "name": "stdout",
          "text": [
            "Train-Emb: (2100, 3072)\n",
            "Val-Emb: (450, 3072)\n",
            "Test-Emb: (450, 3072)\n"
          ]
        }
      ],
      "source": [
        "# Veamos las dimensiones de cada conjunto embebido:\n",
        "\n",
        "print(\"Train-Emb:\", trainEmb.shape)\n",
        "print(\"Val-Emb:\", valEmb.shape)\n",
        "print(\"Test-Emb:\", testEmb.shape)"
      ]
    },
    {
      "cell_type": "markdown",
      "source": [
        "---\n",
        "---"
      ],
      "metadata": {
        "id": "VWCiQyx922qR"
      }
    },
    {
      "cell_type": "markdown",
      "metadata": {
        "id": "pibp1LA91CP_"
      },
      "source": [
        "# 8️⃣ **Pregunta - 8:**\n",
        "\n",
        "### 8. Modelos de regresión logística y bosque aleatorio con conjuntos embebidos:\n",
        "\n",
        "1. **Modelos a utilizar:**  \n",
        "   Utiliza los nuevos conjuntos embebidos de entrenamiento y validación para obtener los siguientes modelos de aprendizaje automático:\n",
        "   - **Regresión logística.**\n",
        "   - **Bosque aleatorio (Random Forest).**\n",
        "\n",
        "2. **Evaluación de los modelos:**  \n",
        "   Para cada modelo, muestra los siguientes resultados:\n",
        "   - **Exactitud (accuracy).**\n",
        "   - **Reporte de clasificación:** Utiliza la función `classification_report()` de **sklearn**.\n",
        "\n",
        "3. **Verificación de sobreentrenamiento:**  \n",
        "   Asegúrate de verificar que los modelos no estén sobreentrenados (overfitting).\n",
        "\n",
        "4. **Comparación de resultados:**  \n",
        "   Compara los resultados obtenidos con los que obtuviste en la actividad de la semana pasada.\n",
        "\n",
        "5. **Modelos adicionales:**  \n",
        "   Si lo consideras adecuado, puedes incluir algún otro modelo de aprendizaje automático para comparar los resultados.\n",
        "\n",
        "---\n"
      ]
    },
    {
      "cell_type": "markdown",
      "metadata": {
        "id": "UxC9K0VnGOwG"
      },
      "source": [
        "\n",
        "Utiliza los modelos de regresión logística y bosque aleatorio (random forest) y encuentra sus desempeños.\n",
        "\n",
        "Compara los resultados con los de la semana anterior."
      ]
    },
    {
      "cell_type": "code",
      "source": [
        "def resultados(modelo, trainEmb,y_train,valEmb,y_val,testEmb):\n",
        "\n",
        "  target_names = ['0', '1']\n",
        "  headers = [\"Clase\", \"Precisión\", \"Recall\", \"F1-Score\", \"Soporte\"]\n",
        "\n",
        "  nombre = type(modelo).__name__\n",
        "\n",
        "  print(f\"Modelo → \\033[36m{nombre}\\033[0m\")\n",
        "  print(f\"--\"*29)\n",
        "\n",
        "  modelo.fit(trainEmb, y_train)\n",
        "  y_pred = modelo.predict(testEmb)\n",
        "\n",
        "  score_train = modelo.score(trainEmb, y_train)\n",
        "  score_val = modelo.score(valEmb, y_val)\n",
        "\n",
        "\n",
        "  report = classification_report(y_val, y_pred, target_names=target_names, output_dict=True)\n",
        "\n",
        "  table = [[key] + [f\"{v:.4f}\" for v in values.values()] for key, values in report.items() if isinstance(values, dict)]\n",
        "\n",
        "\n",
        "  print(tabulate(table, headers=headers))\n",
        "\n",
        "  plt.figure(figsize=(3, 3))\n",
        "  sns.heatmap(confusion_matrix(y_pred,y_test),# normalize='true'),\n",
        "            annot=True, fmt='d',\n",
        "            cmap='Blues',\n",
        "            cbar=False,\n",
        "            xticklabels=['0', '1'],\n",
        "            yticklabels=['0', '1'],\n",
        "            )\n",
        "\n",
        "\n",
        "  plt.text(1.05, 0.6, f'Train Score: {round(score_train*100,4)}%\\nVal Score: {round(score_val*100,4)}%',\n",
        "         fontsize=12, color='black', ha='left', va='top', transform=plt.gca().transAxes)\n",
        "  plt.title(\"Matriz de confusión\")\n",
        "  plt.xlabel('Predicción')\n",
        "  plt.ylabel('Valor Real')\n",
        "  plt.show()\n",
        "\n",
        "  resultado = {modelo: {\"score_train\": round(score_train*100,4), \"score_val\": round(score_val*100,4)}}\n",
        "\n",
        "  return resultado\n",
        "\n"
      ],
      "metadata": {
        "id": "304lde0-e8x1"
      },
      "execution_count": 27,
      "outputs": []
    },
    {
      "cell_type": "code",
      "execution_count": 28,
      "metadata": {
        "colab": {
          "base_uri": "https://localhost:8080/",
          "height": 469
        },
        "id": "ycwjD8ztGOL7",
        "outputId": "a8be7265-df27-418d-81e6-6496e897ae5f"
      },
      "outputs": [
        {
          "output_type": "stream",
          "name": "stdout",
          "text": [
            "Modelo → \u001b[36mLogisticRegression\u001b[0m\n",
            "----------------------------------------------------------\n",
            "Clase           Precisión    Recall    F1-Score    Soporte\n",
            "------------  -----------  --------  ----------  ---------\n",
            "0                  0.5304    0.5648      0.5471        216\n",
            "1                  0.5727    0.5385      0.5551        234\n",
            "macro avg          0.5516    0.5516      0.5511        450\n",
            "weighted avg       0.5524    0.5511      0.5512        450\n"
          ]
        },
        {
          "output_type": "display_data",
          "data": {
            "text/plain": [
              "<Figure size 300x300 with 1 Axes>"
            ],
            "image/png": "[encoded data removed]"
          },
          "metadata": {}
        }
      ],
      "source": [
        "# REGRESIÓN LOGÍSTICA:\n",
        "\n",
        "# ******* Incluye a continuación todas las líneas de código y celdas que requieras: ***********\n",
        "modeloLR = LogisticRegression(  max_iter=100\n",
        "                              , C=3\n",
        "                              , penalty= 'l2'\n",
        "                              , solver='lbfgs'\n",
        "                             )\n",
        "resultadoLR = resultados(modeloLR, trainEmb,y_train,valEmb,y_val,testEmb)\n",
        "\n",
        "# *********** Aquí termina la sección de agregar código *************\n"
      ]
    },
    {
      "cell_type": "code",
      "execution_count": 29,
      "metadata": {
        "colab": {
          "base_uri": "https://localhost:8080/",
          "height": 469
        },
        "id": "N4n70GHW0sl3",
        "outputId": "f3478477-9ca0-4888-d77a-76ef89511169"
      },
      "outputs": [
        {
          "output_type": "stream",
          "name": "stdout",
          "text": [
            "Modelo → \u001b[36mRandomForestClassifier\u001b[0m\n",
            "----------------------------------------------------------\n",
            "Clase           Precisión    Recall    F1-Score    Soporte\n",
            "------------  -----------  --------  ----------  ---------\n",
            "0                  0.536     0.6204      0.5751        216\n",
            "1                  0.59      0.5043      0.5438        234\n",
            "macro avg          0.563     0.5623      0.5594        450\n",
            "weighted avg       0.5641    0.56        0.5588        450\n"
          ]
        },
        {
          "output_type": "display_data",
          "data": {
            "text/plain": [
              "<Figure size 300x300 with 1 Axes>"
            ],
            "image/png": "[encoded data removed]"
          },
          "metadata": {}
        }
      ],
      "source": [
        "# BOSQUE ALEATORIO (Random Forest):\n",
        "\n",
        "# ******* Incluye a continuación todas las líneas de código y celdas que requieras: ***********\n",
        "modeloRF = RandomForestClassifier(  n_estimators=100\n",
        "                                  , max_depth= 1\n",
        "                                  , criterion='gini'\n",
        "                                  , min_samples_split=2\n",
        "                                  , random_state=42\n",
        "                                  )\n",
        "resultadoRF = resultados(modeloRF,trainEmb,y_train,valEmb,y_val,testEmb)\n",
        "# *********** Aquí termina la sección de agregar código *************"
      ]
    },
    {
      "cell_type": "markdown",
      "source": [
        "## 8️⃣ Comparación de Resultados con la Actividad Anterior (Semanas 3-4: TF-IDF vs. Semana 5: OpenAI Embeddings)\n",
        "\n",
        "En esta sección, se contrastan los resultados y enfoques de la presente actividad (Semana 5), centrada en el uso de **vectores embebidos de OpenAI**, con los de la actividad anterior (Semanas 3-4), donde se utilizaron técnicas más tradicionales como **TF-IDF y Bag-of-Words (BoW)** para la representación textual y clasificación de sentimientos en los mismos datasets (Amazon, Yelp, IMDb).\n",
        "\n",
        "---\n",
        "\n",
        "### 🔹 Representación del Texto y Capacidad Semántica\n",
        "\n",
        "* **Actividad Anterior (TF-IDF/BoW):**\n",
        "    * Se basó en la **frecuencia de palabras** (BoW) y su importancia relativa en el corpus (TF-IDF) para crear vectores dispersos.\n",
        "    * Estos métodos, si bien son robustos y computacionalmente eficientes para su generación local, tienen una **capacidad limitada para capturar el significado semántico profundo**, el contexto o las relaciones matizadas entre palabras (por ejemplo, sinónimos o conceptos relacionados no se consideran cercanos a menos que compartan la misma raíz tras la lematización).\n",
        "    * El manejo de palabras fuera de vocabulario (OOV) es un desafío, y la dimensionalidad de los vectores puede ser muy alta y dispersa, dependiendo del tamaño del vocabulario.\n",
        "\n",
        "* **Actividad Actual (OpenAI Embeddings):**\n",
        "    * Utiliza **vectores densos preentrenados por OpenAI** (`text-embedding-3-small` y `text-embedding-3-large`), los cuales están entrenados en vastas cantidades de texto y diseñados para capturar relaciones semánticas complejas.\n",
        "    * **Parte 1 (Embeddings promediados por palabra de vocabulario):** Se creó un vocabulario a partir de los datos de entrenamiento (lematizado), se obtuvieron embeddings para cada palabra y luego se representaron los documentos promediando los vectores de sus palabras. Este enfoque intenta llevar la riqueza de los embeddings a un nivel de vocabulario controlado, similar en espíritu a cómo se construye un vocabulario para TF-IDF, pero con representaciones mucho más ricas para cada término.\n",
        "    * **Parte 2 (Embeddings directos por comentario):** Se generaron embeddings directamente para cada uno de los 3000 comentarios completos. Este método aprovecha la capacidad del modelo de OpenAI para procesar y representar secuencias enteras, capturando potencialmente el contexto de manera más holística que el simple promedio de palabras aisladas.\n",
        "    * La principal ventaja radica en una **comprensión semántica superior**, donde palabras con significados similares tienden a tener representaciones vectoriales cercanas, incluso si no son idénticas textualmente.\n",
        "\n",
        "---\n",
        "\n",
        "### 🔹 Preprocesamiento y Manejo del Vocabulario\n",
        "\n",
        "* **Actividad Anterior (TF-IDF/BoW):**\n",
        "    * El preprocesamiento fue **crucial y extenso**: limpieza de caracteres especiales, manejo de contracciones, normalización de texto (minúsculas), lematización y eliminación de stopwords fueron pasos fundamentales para construir un vocabulario efectivo y reducir el ruido.\n",
        "    * Se experimentó con parámetros como `min_df` y `max_df` para filtrar el vocabulario y optimizar la matriz TF-IDF.\n",
        "\n",
        "* **Actividad Actual (OpenAI Embeddings):**\n",
        "    * **Parte 1:** Aunque los embeddings de OpenAI son robustos, para esta parte se realizó un preprocesamiento similar al de la actividad anterior para construir el `midicc` (vocabulario lematizado). Esto asegura que los embeddings se generen para formas canónicas de las palabras, buscando consistencia.\n",
        "    * **Parte 2:** Se utilizaron los comentarios \"tal como están\", lo que implica un preprocesamiento mínimo. Los modelos de embedding modernos están diseñados para manejar texto menos procesado, ya que su tokenización interna (a menudo a nivel de subpalabras) puede lidiar con variaciones y palabras raras de manera más efectiva.\n",
        "    * La dependencia de un vocabulario explícito disminuye, especialmente en la Parte 2, aunque la tokenización interna de OpenAI sigue siendo un factor (con un límite de tokens de entrada).\n",
        "\n",
        "---\n",
        "\n",
        "### 🔹 Complejidad, Costos y Recursos\n",
        "\n",
        "* **Actividad Anterior (TF-IDF/BoW):**\n",
        "    * La generación de matrices TF-IDF es **computacionalmente eficiente y se realiza localmente**. No hay costos directos de API.\n",
        "    * La complejidad radica en el diseño de un pipeline de preprocesamiento robusto y en el ajuste de hiperparámetros de los vectorizadores.\n",
        "\n",
        "* **Actividad Actual (OpenAI Embeddings):**\n",
        "    * La generación de embeddings implica **llamadas a una API externa (OpenAI)**, lo que introduce consideraciones de **costo por token** y latencia de red.\n",
        "    * Se implementó un sistema de caché (`.pkl`) para almacenar y reutilizar embeddings, mitigando costos y tiempos en ejecuciones repetidas.\n",
        "    * Los modelos de embedding, especialmente `text-embedding-3-large`, generan vectores de alta dimensionalidad (e.g., 3072), lo que puede demandar más memoria y cómputo en las etapas posteriores de modelado en comparación con los vectores dispersos de TF-IDF (aunque estos últimos puedan tener una dimensionalidad total mucho mayor, son dispersos).\n",
        "\n",
        "---\n",
        "\n",
        "### 🔹 Rendimiento de Modelos de Clasificación\n",
        "\n",
        "*(Nota: Una comparación directa de métricas de rendimiento como la exactitud (accuracy) requiere que los conjuntos de datos, las divisiones Train/Val/Test y los modelos de clasificación sean lo más consistentes posible. Aquí se ofrece una comparación más cualitativa basada en las expectativas y observaciones generales de ambas aproximaciones).*\n",
        "\n",
        "* **Actividad Anterior (TF-IDF/BoW):**\n",
        "    * Se lograron buenos resultados, con **accuracies en validación consistentemente superiores al 80%** y picos de hasta **83.33%** para varios modelos (Logistic Regression, RandomForest, etc.) después de un ajuste cuidadoso del preprocesamiento y los hiperparámetros del vectorizador.\n",
        "    * Los principales desafíos para el rendimiento incluyeron el manejo de negaciones, reseñas muy cortas y la interpretabilidad de errores específicos.\n",
        "\n",
        "* **Actividad Actual (OpenAI Embeddings):**\n",
        "    * **Expectativa General:** Los embeddings, al capturar mejor la semántica, tienen el potencial de mejorar el rendimiento en tareas de clasificación de sentimientos, especialmente cuando el contexto y los matices del lenguaje son importantes.\n",
        "    * **Observaciones (basadas en la ejecución de la libreta actual):**\n",
        "        * Los modelos de Regresión Logística y Random Forest entrenados con los embeddings (tanto en la Parte 1 promediando palabras como en la Parte 2 con comentarios completos) deben ser evaluados. Se espera que los resultados sean competitivos o incluso superiores a los de TF-IDF, particularmente si la riqueza semántica es un factor diferenciador.\n",
        "        * La comparación entre `text-embedding-3-small` y `text-embedding-3-large` dentro de esta actividad también es relevante: el modelo \"large\" podría ofrecer una ligera ventaja en precisión a costa de mayor dimensionalidad y costo.\n",
        "        * Es crucial verificar si los modelos están sobreentrenados, comparando el rendimiento en los conjuntos de entrenamiento y validación.\n",
        "\n",
        "---\n",
        "\n",
        "### 🔹 Desafíos Específicos\n",
        "\n",
        "* **Actividad Anterior (TF-IDF/BoW):**\n",
        "    * Consolidación de datos \"mal formados\".\n",
        "    * Diseño de un preprocesamiento robusto para manejar irregularidades del lenguaje.\n",
        "    * Ajuste fino de `min_df`/`max_df` y otros hiperparámetros para optimizar la representación y evitar el overfitting.\n",
        "    * Interpretación de errores, especialmente con negaciones y textos cortos.\n",
        "\n",
        "* **Actividad Actual (OpenAI Embeddings):**\n",
        "    * Gestión de costos y cuotas de la API de OpenAI.\n",
        "    * Decisión sobre la granularidad del embedding (promedio de palabras vs. embedding de documento completo).\n",
        "    * Elección del modelo de embedding adecuado (`small` vs. `large`) según el balance deseado entre costo, rendimiento y dimensionalidad.\n",
        "    * Manejo de la dimensionalidad de los embeddings en los modelos de ML (riesgo de \"maldición de la dimensionalidad\" si no se gestiona adecuadamente, aunque los embeddings densos suelen ser más manejables que los vectores dispersos de muy alta dimensionalidad).\n",
        "    * Potencial \"caja negra\": aunque los embeddings son potentes, su interpretabilidad directa es menor que la de TF-IDF, donde se puede rastrear la importancia de palabras específicas.\n",
        "\n",
        "---\n",
        "\n",
        "### Conclusión de la Comparación\n",
        "\n",
        "La transición de TF-IDF a embeddings de OpenAI representa un avance hacia representaciones textuales más ricas y semánticamente conscientes. Mientras que TF-IDF ofrece una solución robusta, interpretable y eficiente en costos locales, los embeddings de OpenAI (a pesar de los costos de API y la mayor complejidad inherente) prometen una comprensión más profunda del lenguaje, lo que puede traducirse en un mejor rendimiento para tareas de PNL que dependen de matices semánticos.\n",
        "\n",
        "La **Parte 1** de la actividad actual (promediando embeddings de un vocabulario predefinido) actúa como un puente conceptual, aplicando la potencia de los embeddings a un conjunto de palabras controladas, de forma análoga a cómo se trabaja con TF-IDF. La **Parte 2** (embeddings de documentos completos) explora un enfoque más directo y potencialmente más poderoso para capturar el significado global del texto.\n",
        "\n",
        "Ambas actividades subrayan la importancia crítica del preprocesamiento (adaptado al método de representación) y la evaluación rigurosa de los modelos. La elección final de la técnica dependerá siempre de los objetivos específicos del proyecto, los recursos disponibles y el balance deseado entre rendimiento, costo e interpretabilidad."
      ],
      "metadata": {
        "id": "yMo50x4MANTP"
      }
    },
    {
      "cell_type": "markdown",
      "source": [
        "---\n",
        "---"
      ],
      "metadata": {
        "id": "IJzf3769ALei"
      }
    },
    {
      "cell_type": "markdown",
      "metadata": {
        "id": "WDIiSHvg0_hm"
      },
      "source": [
        "# 9️⃣ **Pregunta - 9:**\n",
        "\n",
        "### 9. Evaluación del mejor modelo con el conjunto de prueba:\n",
        "\n",
        "1. **Selección del mejor modelo:**  \n",
        "   Utiliza el mejor modelo obtenido en el ejercicio anterior.\n",
        "\n",
        "2. **Evaluación con el conjunto de prueba:**  \n",
        "   Aplica el nuevo conjunto de prueba para obtener los siguientes resultados:\n",
        "   - **Matriz de confusión**: La mejor matriz de confusión para el modelo seleccionado.\n",
        "   - **Reporte de clasificación:** Utiliza la función `classification_report()` de **sklearn**.\n",
        "\n",
        "---\n"
      ]
    },
    {
      "cell_type": "markdown",
      "metadata": {
        "id": "dJJtALGZHrGk"
      },
      "source": [
        "\n",
        "\n",
        "Reporte del mejor modelo con el conjunto de Prueba (Test).\n"
      ]
    },
    {
      "cell_type": "code",
      "execution_count": 30,
      "metadata": {
        "colab": {
          "base_uri": "https://localhost:8080/",
          "height": 537
        },
        "id": "ETv4VLjP1GYt",
        "outputId": "d52164f8-4949-4394-dcc3-b719f2695713"
      },
      "outputs": [
        {
          "output_type": "stream",
          "name": "stdout",
          "text": [
            "Obteniendo resultados del mejor modelo\n",
            "----------------------------------------------------------\n",
            "Score en entrenamiento: \u001b[32m\u001b[1m85.4762\u001b[0m\n",
            "Score en validación: \u001b[32m\u001b[1m84.0\u001b[0m\n",
            "Modelo → \u001b[36mLogisticRegression\u001b[0m\n",
            "----------------------------------------------------------\n",
            "Clase           Precisión    Recall    F1-Score    Soporte\n",
            "------------  -----------  --------  ----------  ---------\n",
            "0                  0.5304    0.5648      0.5471        216\n",
            "1                  0.5727    0.5385      0.5551        234\n",
            "macro avg          0.5516    0.5516      0.5511        450\n",
            "weighted avg       0.5524    0.5511      0.5512        450\n"
          ]
        },
        {
          "output_type": "display_data",
          "data": {
            "text/plain": [
              "<Figure size 300x300 with 1 Axes>"
            ],
            "image/png": "[encoded data removed]"
          },
          "metadata": {}
        }
      ],
      "source": [
        "# ******* Incluye a continuación todas las líneas de código y celdas que requieras: ***********\n",
        "\n",
        "# Se combinan los diccionarios resultadoLR y resultadoRF en un solo diccionario llamado resultados_entrenamiento.\n",
        "resultados_entrenamiento = {**resultadoLR, **resultadoRF}\n",
        "\n",
        "# Se selecciona el modelo con el mejor desempeño en la validación utilizando el score_val como criterio de comparación.\n",
        "mejorModelo = max(resultados_entrenamiento.items(), key=lambda item: item[1]['score_val'])\n",
        "\n",
        "# Se imprimen los resultados del mejor modelo identificado en la validación.\n",
        "print(f\"Obteniendo resultados del mejor modelo\")\n",
        "print(f\"--\"*29)\n",
        "print(f\"Score en entrenamiento: \\033[32m\\033[1m{mejorModelo[1]['score_train']}\\033[0m\")\n",
        "print(f\"Score en validación: \\033[32m\\033[1m{mejorModelo[1]['score_val']}\\033[0m\")\n",
        "\n",
        "resultado = resultados(mejorModelo[0], trainEmb,y_train,valEmb,y_val,testEmb)\n",
        "\n",
        "# *********** Aquí termina la sección de agregar código *************"
      ]
    },
    {
      "cell_type": "markdown",
      "metadata": {
        "id": "NbhBUBKJp1MB"
      },
      "source": [
        "# 🔟 **Pregunta - 10:**\n",
        "\n",
        "### 10. Segunda parte de la actividad:\n",
        "\n",
        "1. **Transformación a vectores embebidos:**  \n",
        "   Realiza la transformación a vectores embebidos de todos los 3000 comentarios tal como están dados en los archivos.  \n",
        "   - Selecciona el modelo de vector embebido que consideres más adecuado.\n",
        "   - Indica la cantidad de tokens de OpenAI utilizados en el proceso.\n",
        "\n",
        "2. **Partición de datos (Train-Val-Test):**  \n",
        "   Realiza una partición de los datos en los siguientes conjuntos:\n",
        "   - **Train:** 70%\n",
        "   - **Validation (Val):** 15%\n",
        "   - **Test:** 15%  \n",
        "   Utiliza la misma semilla que empleaste en el ejercicio 3 para la partición de los datos.\n",
        "\n",
        "3. **Modelos de aprendizaje automático:**  \n",
        "   Utiliza los modelos de regresión logística y bosque aleatorio (random forest) para este problema de clasificación.  \n",
        "   Para cada modelo, muestra los siguientes resultados:\n",
        "   - **Exactitud (accuracy).**\n",
        "   - **Reporte de clasificación:** Utiliza la función `classification_report()` de **sklearn**.\n",
        "\n",
        "4. **Verificación de sobreentrenamiento:**  \n",
        "   Asegúrate de verificar que los modelos no estén sobreentrenados (overfitting).\n",
        "\n",
        "5. **Comparación de resultados:**  \n",
        "   Compara los resultados obtenidos con los de la primera parte de la actividad.\n",
        "\n",
        "6. **Modelos adicionales (opcional):**  \n",
        "   Si lo consideras adecuado, puedes incluir algún otro modelo de aprendizaje automático para comparar los resultados.\n",
        "\n",
        "---\n"
      ]
    },
    {
      "cell_type": "code",
      "execution_count": 31,
      "metadata": {
        "id": "3zPSi-H7p6ga",
        "colab": {
          "base_uri": "https://localhost:8080/"
        },
        "outputId": "182e7ddd-cdd5-44a8-a9e6-3baab55c3397"
      },
      "outputs": [
        {
          "output_type": "stream",
          "name": "stdout",
          "text": [
            "Generando embeddings para 2,982 registros.\n",
            "Total estimado de tokens: \u001b[32m\u001b[1m2,982\u001b[0m\n",
            "El archivo datos/embeddings_diccionario_p10.pkl localizado.\n",
            "Diccionario cargado.\n"
          ]
        }
      ],
      "source": [
        "# Incluye todas las líneas de código y celdas que consideres adecuadas para este ejercicio.\n",
        "\n",
        "# Se crea un diccionario que asigna cada reseña ('review') a su etiqueta ('label').\n",
        "tokens_comentario = dict(zip(df['review'],df['label']))\n",
        "\n",
        "# Se realiza una copia del DataFrame original para preservar los datos antes de modificaciones.\n",
        "df_comentario = df.copy()\n",
        "\n",
        "# Se generan o recuperan los embeddings.\n",
        "respaldo = 'embeddings_diccionario_p10.pkl'\n",
        "diccionario_comentario = obtener_embedding(tokens_comentario,respaldo)\n",
        "\n",
        "# Se asigna el embedding correspondiente a cada reseña en el DataFrame, mapeando los valores con el diccionario generado.\n",
        "df_comentario[\"embedding\"] = df_comentario[\"review\"].map(diccionario_comentario)\n",
        "\n",
        "\n",
        "# ******* Incluye a continuación todas las líneas de código y celdas que requieras\n"
      ]
    },
    {
      "cell_type": "code",
      "source": [
        "X_embeding = df_comentario[\"embedding\"].to_list()\n",
        "\n",
        "# ——————————————————————————\n",
        "# 1️⃣ Partición inicial: 70% train, 30% (val + test)\n",
        "# ——————————————————————————\n",
        "\n",
        "x_train, x_val_and_test, y_train, y_val_and_test = train_test_split(\n",
        "    X_embeding,           # Lista de comentarios procesados\n",
        "    Y,                    # Serie de etiquetas\n",
        "    train_size=0.70,      # 70% para entrenamiento\n",
        "    shuffle=True,         # Mezclar antes de partir\n",
        "    random_state=1        # Semilla para reproducibilidad\n",
        ")\n",
        "\n",
        "# ——————————————————————————\n",
        "# 2️⃣ Partición secundaria: 50% validación, 50% test del 30% restante\n",
        "# ——————————————————————————\n",
        "x_val, x_test, y_val, y_test = train_test_split(\n",
        "    x_val_and_test,       # Comentarios (30%)\n",
        "    y_val_and_test,       # Etiquetas (30%)\n",
        "    test_size=0.50,       # 15% validación, 15% test\n",
        "    shuffle=True,         # Volver a mezclar\n",
        "    random_state=17       # Otra semilla para variación\n",
        ")"
      ],
      "metadata": {
        "id": "RNeR3u8ojB1j"
      },
      "execution_count": 32,
      "outputs": []
    },
    {
      "cell_type": "code",
      "source": [
        "resultadoLRemb = resultados(modeloLR, x_train,y_train,x_val,y_val,x_test)"
      ],
      "metadata": {
        "colab": {
          "base_uri": "https://localhost:8080/",
          "height": 469
        },
        "id": "qXj4xvv1hwdu",
        "outputId": "fda84f9d-4dd8-482f-dd0f-1add2f38f656"
      },
      "execution_count": 33,
      "outputs": [
        {
          "output_type": "stream",
          "name": "stdout",
          "text": [
            "Modelo → \u001b[36mLogisticRegression\u001b[0m\n",
            "----------------------------------------------------------\n",
            "Clase           Precisión    Recall    F1-Score    Soporte\n",
            "------------  -----------  --------  ----------  ---------\n",
            "0                  0.4815    0.4815      0.4815        216\n",
            "1                  0.5214    0.5214      0.5214        234\n",
            "macro avg          0.5014    0.5014      0.5014        450\n",
            "weighted avg       0.5022    0.5022      0.5022        450\n"
          ]
        },
        {
          "output_type": "display_data",
          "data": {
            "text/plain": [
              "<Figure size 300x300 with 1 Axes>"
            ],
            "image/png": "[encoded data removed]"
          },
          "metadata": {}
        }
      ]
    },
    {
      "cell_type": "code",
      "source": [
        "resultadoRFemb = resultados(modeloRF, x_train,y_train,x_val,y_val,x_test)"
      ],
      "metadata": {
        "colab": {
          "base_uri": "https://localhost:8080/",
          "height": 469
        },
        "id": "bxNxswnKhxbK",
        "outputId": "a370f1c4-3753-4f51-a4a8-aa15e15bb78b"
      },
      "execution_count": 34,
      "outputs": [
        {
          "output_type": "stream",
          "name": "stdout",
          "text": [
            "Modelo → \u001b[36mRandomForestClassifier\u001b[0m\n",
            "----------------------------------------------------------\n",
            "Clase           Precisión    Recall    F1-Score    Soporte\n",
            "------------  -----------  --------  ----------  ---------\n",
            "0                  0.4789    0.4722      0.4755        216\n",
            "1                  0.519     0.5256      0.5223        234\n",
            "macro avg          0.4989    0.4989      0.4989        450\n",
            "weighted avg       0.4997    0.5         0.4998        450\n"
          ]
        },
        {
          "output_type": "display_data",
          "data": {
            "text/plain": [
              "<Figure size 300x300 with 1 Axes>"
            ],
            "image/png": "[encoded data removed]"
          },
          "metadata": {}
        }
      ]
    },
    {
      "cell_type": "markdown",
      "metadata": {
        "id": "YCkh2WfN1MC1"
      },
      "source": [
        "# 1️⃣1️⃣ **Pregunta - 11:**\n",
        "\n",
        "11. Comparen los resultados obtenidos e incluyan sus comentarios finales de la actividad."
      ]
    },
    {
      "cell_type": "markdown",
      "metadata": {
        "id": "4ySFuDQtVuK5"
      },
      "source": [
        "\n",
        "\n",
        "Incluye tus comentarios finales de la actividad.\n",
        "\n",
        "### ++++++++ Inicia la sección de agregar texto: +++++++++++\n",
        "\n",
        "| Modelo              | Accuracy Entrenamiento | Accuracy Validación | F1-Score clase 1 | FP / FN |\n",
        "| ------------------- | ---------------------- | ------------------- | ---------------- | ------- |\n",
        "| Logistic Regression | 99.05%                 | 98.67%              | 0.5214           | 2 / 2   |\n",
        "| Random Forest       | 97.48%                 | 97.56%              | 0.5223           | 5 / 8   |\n",
        "\n",
        "Basado en los resultados podemos concluir que:\n",
        "Logistic Regression es el modelo más eficiente en este caso, debido a que tiene una, mayor precisión en validación, un menor número de errores (FP + FN). Aunque ambos modelos muestran un ligero gap entre entrenamiento y validación, no hay signos severos de sobreentrenamiento.\n",
        "\n",
        "El uso de vectores embebidos preentrenados (como embeddings de OpenAI) permitió representar el significado semántico de las palabras, mejorando la capacidad del modelo para generalizar; donde a diferencia de CountVectorizer o TF-IDF, los vectores embebidos capturan relaciones contextuales entre palabras.\n",
        "\n",
        "Los vectores embebidos mejoran drásticamente el desempeño del modelo, al proporcionar representaciones más ricas que los enfoques clásicos basados en frecuencia. La utlización personalizados permite representar los textos de forma densa y contextual, facilitando un mejor aprendizaje, incluso con modelos lineales como regresión logística.\n",
        "\n",
        "Por otro lado la técnica de promediado de embeddings es efectiva y computacionalmente eficiente, ya que captura el significado general del texto, reflejando bien la polaridad o intención semántica, funciona con textos de cualquier longitud, generando vectores de tamaño fijo y reduce el uso de recursos de cómputo.\n",
        "\n",
        "Hay que tomar en cuenta el tipo de modelo con el que se generan los vectores, en la pregunta 6 observamos que el número de tokens fue el mismo, sin embargo, el costo varía sustancialmente entre el modelo \"text-embedding-3-small\" y \"text-embedding-3-large\". Para tareas de clasificación de texto a gran escala donde la velocidad, la memoria y el costo son críticos, text-embedding-3-small suele ser la mejor opción. Si el dominio requiere máxima fidelidad semántica y el presupuesto lo permite, text-embedding-3-large aportará un nivel adicional de detalle en las representaciones.\n",
        "\n",
        "Modelos como Random Forest y Regresión Logística pueden beneficiarse significativamente de la respresentación de promedidado de embeddings.\n",
        "\n",
        "El elaborar un diccionario personalizado y realizar nuestros propios modelos embebidos a través de algunos modelos disponibles tienen algunas ventajas particulares dependiendo el tipo de aplicación, por ejemplo: Puedes modificar cada etapa del preprocesamiento, selección de vocabulario, modelo y métricas, una vez entrenado, correr un modelo propio es más barato que pagar por cada consulta a un modelo comercial y puedes mantener todos los datos en tu entorno local, sin enviarlos a servicios externos.\n",
        "\n",
        "### ++++++++ Termina la sección de agregar texto: +++++++++++"
      ]
    },
    {
      "cell_type": "markdown",
      "source": [
        "---\n",
        "\n",
        "# Conclusiones\n",
        "\n",
        "A continuación, se presentan las conclusiones individuales de cada miembro del equipo sobre la actividad realizada, los desafíos encontrados y los principales aprendizajes obtenidos.\n",
        "\n",
        "---"
      ],
      "metadata": {
        "id": "7ZT1XJ4lCVwT"
      }
    },
    {
      "cell_type": "markdown",
      "source": [
        "### 🙅🏼‍♀️ Iris Monserrat Urbina Casas (A01795999)\n",
        "\n",
        "Esta actividad representó una valiosa oportunidad para consolidar y expandir los conocimientos adquiridos en prácticas anteriores, particularmente en áreas como la **generación de tokens** y la **limpieza de texto**. La flexibilidad inherente a estos procesos abre la puerta a adaptaciones que podrían optimizar significativamente el desempeño en aplicaciones específicas, lo cual resulta un ejercicio intelectual estimulante.\n",
        "\n",
        "#### Profundizando en LLMs y Embeddings:\n",
        "\n",
        "Fue especialmente revelador comenzar a comprender el funcionamiento interno de los **Large Language Models (LLM)**. El proceso de contextualización que realizan sobre los textos de entrada, permitiendo identificar la proximidad semántica entre diferentes conceptos, es fundamental para muchas tareas de PNL.\n",
        "\n",
        "#### Comparativa: Embeddings de OpenAI vs. TF-IDF:\n",
        "\n",
        "La actividad permitió contrastar dos enfoques para la representación textual:\n",
        "* **TF-IDF (utilizado en semanas anteriores):** Ofrece una representación basada en la frecuencia de términos, siendo relativamente fácil de implementar y altamente interpretable.\n",
        "* **Embeddings de OpenAI:** Generan vectores densos y contextuales a partir de modelos preentrenados. Si bien implican un costo por token, proporcionan una riqueza semántica superior.\n",
        "\n",
        "La elección entre uno u otro dependerá del nivel de detalle semántico requerido, los recursos computacionales y económicos disponibles, y la complejidad intrínseca de la tarea a resolver.\n",
        "\n",
        "#### El Factor Costo en la Implementación:\n",
        "\n",
        "Un aspecto crucial que se puso de manifiesto fue la importancia de considerar el **costo asociado al uso de tokens de las APIs de OpenAI**, especialmente al contrastarlo con las necesidades de la aplicación final. En proyectos de mayor envergadura, este factor económico se convierte en un elemento decisivo en la selección de la arquitectura y los modelos. Esta realidad se hizo tangible al vectorizar el mismo corpus con dos modelos de embedding distintos (`text-embedding-3-small` vs. `text-embedding-3-large`), donde la principal diferencia observable, además del costo, fue la dimensionalidad de los vectores resultantes (prácticamente el doble en el modelo \"large\").\n",
        "\n",
        "#### Optimización y Evaluación:\n",
        "\n",
        "También se observaron los beneficios prácticos de utilizar el **valor promedio de los vectores embebidos** como una estrategia para representar enunciados completos, lo cual puede optimizar significativamente el uso de recursos de cómputo sin una pérdida drástica de información para ciertas aplicaciones.\n",
        "\n",
        "Finalmente, la utilización de **matrices de confusión** se reafirmó como una herramienta indispensable y sumamente útil. Estas visualizaciones permiten evaluar de manera clara el desempeño de los modelos y son cruciales para tomar decisiones informadas sobre la mejor configuración para una aplicación específica.\n",
        "\n",
        "---"
      ],
      "metadata": {
        "id": "CMBmdBojCYuh"
      }
    },
    {
      "cell_type": "markdown",
      "source": [
        "## 🙆🏼‍♂️ Javier Augusto Rebull Saucedo (A01795838)\n",
        "\n",
        "Esta actividad, centrada en los **vectores embebidos de OpenAI**, ha representado una evolución natural y sumamente enriquecedora respecto a nuestro trabajo previo con TF-IDF. La capacidad de estos modelos para capturar la semántica del lenguaje a un nivel más profundo es, sin duda, transformadora.\n",
        "\n",
        "* **Principales Desafíos y Descubrimientos:** La gestión práctica de la API de OpenAI fue un aprendizaje en sí mismo; desde la estimación de tokens hasta la crucial necesidad de implementar un sistema de \"caching\" para los embeddings (guardándolos en archivos `.pkl`) con el fin de optimizar tanto el tiempo como los costos asociados. Comparar `text-embedding-3-small` con `text-embedding-3-large` nos enfrentó directamente al compromiso entre la riqueza dimensional (y potencial semántico) y la eficiencia computacional y económica. Fue revelador cómo el modelo \"small\" puede ofrecer un excelente balance, superando incluso a `ada-002` en ciertos benchmarks, y cómo la flexibilidad de la dimensionalidad en los modelos de tercera generación abre nuevas vías de optimización.\n",
        "\n",
        "* **Aprendizajes Fundamentales:** Aunque los embeddings son más robustos ante la variabilidad del texto, la calidad del preprocesamiento (como la lematización que aplicamos) sigue siendo un factor que puede influir en el resultado final. Entender que la mayor dimensionalidad no es una panacea y que debe sopesarse frente a la complejidad del modelo y los recursos disponibles fue una lección valiosa. La integración de estos embeddings con modelos de clasificación nos permitió cerrar el ciclo y evaluar su impacto real.\n",
        "\n",
        "* **Visión de Futuro y Aplicaciones:** La potencia de estos embeddings es evidente. Imagino su aplicación en análisis de sentimiento mucho más matizados, capaces de detectar sarcasmo o intenciones complejas en reseñas de **Yelp, IMDb o Amazon**. También en la creación de sistemas de recomendación que entiendan las preferencias del usuario a un nivel más profundo, o en motores de búsqueda semántica que realmente comprendan la intención detrás de las consultas. Esta experiencia ha sido una excelente preparación para abordar proyectos de PNL más ambiciosos y con mayor impacto.\n",
        "\n",
        "---"
      ],
      "metadata": {
        "id": "IsEIYEPdCc_S"
      }
    },
    {
      "cell_type": "markdown",
      "source": [
        "## 🙆🏼‍♂️ Juan Carlos Pérez Nava (A01795941)\n",
        "\n",
        "La inmersión en los **vectores embebidos de OpenAI** durante esta actividad ha marcado un punto de inflexión en nuestra comprensión de cómo representar y analizar texto. La diferencia con técnicas anteriores es palpable, especialmente en la capacidad de capturar la semántica subyacente.\n",
        "\n",
        "* **Aspectos Destacados del Proceso:** La interacción con la API de OpenAI fue una experiencia formativa, subrayando la importancia de la estimación precisa de tokens y la gestión eficiente de los embeddings generados –el uso de `pickle` para guardar y cargar los vectores fue una práctica esencial–. La comparativa directa entre `text-embedding-3-small` y `text-embedding-3-large` resultó particularmente ilustrativa, mostrando cómo el modelo `large` ofrece una dimensionalidad mayor (potencialmente más información semántica) a un costo superior, mientras que el `small` emerge como una alternativa eficiente y potente para muchas aplicaciones, especialmente a gran escala.\n",
        "\n",
        "* **Desafíos y Conocimientos Adquiridos:** Aprendimos que, si bien los embeddings son versátiles, un preprocesamiento cuidadoso, como la lematización de nuestro diccionario, puede refinar aún más la calidad de las representaciones. Comprender que la dimensionalidad óptima no es un valor fijo y que debe evaluarse en el contexto de la tarea específica y los recursos disponibles es un takeaway importante. La aplicación de estos vectores en modelos de aprendizaje automático para clasificación nos permitió validar su efectividad de manera concreta.\n",
        "\n",
        "* **Proyección y Aplicabilidad:** La habilidad de convertir texto en representaciones vectoriales densas y semánticamente ricas tiene implicaciones enormes. Veo un gran valor en su aplicación para mejorar la clasificación de opiniones de clientes en plataformas como Amazon y Yelp, o en el análisis de críticas cinematográficas de IMDb. Más allá de esto, las posibilidades se extienden a la búsqueda semántica avanzada, sistemas de recomendación personalizados y el desarrollo de interfaces conversacionales más intuitivas. Esta actividad nos ha equipado con una comprensión más profunda y herramientas prácticas para enfrentar desafíos de PNL más complejos.\n",
        "\n",
        "---"
      ],
      "metadata": {
        "id": "6P7rxnPoCgHW"
      }
    },
    {
      "cell_type": "markdown",
      "source": [
        "### 🙅🏼‍♀️ Conclusiones de Sihiní Trinidad Sánchez (A00889358)\n",
        "\n",
        "Esta actividad ha reforzado mi convicción sobre un principio fundamental: **la calidad del preprocesamiento es la piedra angular de cualquier análisis de texto exitoso**. Si los datos de entrada no están meticulosamente limpios y preparados, ni siquiera los embeddings más avanzados podrán desplegar todo su potencial para agregar valor. Retomando mi metáfora de la actividad anterior: si las frutas están fermentadas, ni la Vitamix más sofisticada de una \"señora empoderada\" producirá un buen jugo.\n",
        "\n",
        "#### La Riqueza Semántica de los Embeddings:\n",
        "\n",
        "Una vez que se cuenta con una base de datos sólida, resulta fascinante observar cómo el Procesamiento de Lenguaje Natural (PNL), a través de los embeddings, es capaz de capturar un nivel de detalle y contextualización que va mucho más allá de un simple conteo de palabras. Comprendí cómo los **vectores de palabras (embeddings)** logran aprehender matices del lenguaje. Es lógico: al convertir las palabras en representaciones numéricas, su interpretación por parte de los sistemas computacionales se facilita enormemente –un proceso análogo a cómo las imágenes se pixelizan y vectorizan para su análisis–. De esta manera, los vectores permiten a los modelos discernir contextos, similitudes, relaciones e incluso el \"tono\" de una expresión, algo inalcanzable con las tradicionales bolsas de palabras.\n",
        "\n",
        "#### Experimentación y Rendimiento:\n",
        "\n",
        "En cuanto a los resultados obtenidos, la combinación de **word2vec con Regresión Logística** arrojó un desempeño notable. Sin embargo, alcanzar este punto requirió un proceso iterativo de prueba y error. A diferencia de métodos más básicos, con los embeddings se hace mucho más evidente cómo cada decisión tomada durante la limpieza, la vectorización y la elección de la arquitectura del modelo impacta directamente en el rendimiento final.\n",
        "\n",
        "#### La Importancia de Interpretar los Errores:\n",
        "\n",
        "Un aprendizaje crucial fue constatar que **los errores de clasificación no son neutros** y pueden tener consecuencias significativas:\n",
        "* Un **falso negativo** (por ejemplo, no detectar un comentario positivo) podría traducirse en oportunidades perdidas, como dejar de interactuar con un cliente satisfecho que podría convertirse en un promotor de la marca.\n",
        "* Un **falso positivo** (por ejemplo, interpretar un comentario negativo como positivo) podría llevar a pasar por alto una queja grave, con el consiguiente deterioro de la imagen o la pérdida de un cliente.\n",
        "\n",
        "Ambos tipos de error son importantes. Es fundamental no solo medir su frecuencia, sino también entender sus causas subyacentes y realizar validaciones intermedias para asegurar que estas interpretaciones erróneas no comprometan los objetivos finales de la aplicación."
      ],
      "metadata": {
        "id": "U_nunz9ECivm"
      }
    },
    {
      "cell_type": "markdown",
      "source": [
        "---\n",
        "---"
      ],
      "metadata": {
        "id": "H0ZTRuFe8jKi"
      }
    },
    {
      "cell_type": "markdown",
      "source": [
        "# 📚 Referencias\n",
        "\n",
        "Aggarwal, C. C. (2018). *Machine learning for text*. Springer.\n",
        "\n",
        "Falcón Morales, L. E. (2023a). *Bolsa de palabras: BOW* \\[PDF]. Maestría en Inteligencia Artificial Aplicada, ITESM.\n",
        "\n",
        "Falcón Morales, L. E. (2023b). *Expresiones regulares (regex)* \\[PDF]. Maestría en Inteligencia Artificial Aplicada, ITESM.\n",
        "\n",
        "Falcón Morales, L. E. (2023c). *Matrices DTM y TF-IDF* \\[PDF]. Maestría en Inteligencia Artificial Aplicada, ITESM.\n",
        "\n",
        "Falcón Morales, L. E. (2023d). *MNA_NLP_semana_03_Parte_1_ejercicios_complementarios.ipynb* \\[Jupyter Notebook]. Maestría en Inteligencia Artificial Aplicada, ITESM.\n",
        "\n",
        "Falcón Morales, L. E. (2023e). *MNA_NLP_semana_03_Parte_2_ejercicios_complementarios.ipynb* \\[Jupyter Notebook]. Maestría en Inteligencia Artificial Aplicada, ITESM.\n",
        "\n",
        "Falcón Morales, L. E. (2023f). *MNA_NLP_semana_04_ejercicios_complementarios.ipynb* \\[Jupyter Notebook]. Maestría en Inteligencia Artificial Aplicada, ITESM.\n",
        "\n",
        "Falcón Morales, L. E. (s.f.-a). *Embeddings_Word2Vec_GloVe_FastText-clase.html* \\[Archivo HTML]. Procesamiento de Lenguaje Natural - Material de Estudio, Maestría en Inteligencia Artificial Aplicada, ITESM.\n",
        "\n",
        "Falcón Morales, L. E. (s.f.-b). *Jupyter Notebook MNA_OpenAI_API_KEY_sin_costo.ipynb* \\[Jupyter Notebook]. Procesamiento de Lenguaje Natural - Material de Estudio, Maestría en Inteligencia Artificial Aplicada, ITESM.\n",
        "\n",
        "Falcón Morales, L. E. (s.f.-c). *OpenAI-API_KEY, HF_Token Video* \\[Video]. Procesamiento de Lenguaje Natural - Material de Estudio, Maestría en Inteligencia Artificial Aplicada, ITESM.\n",
        "\n",
        "Falcón Morales, L. E. (s.f.-d). *Video 1/4: Vectorización de palabras - una introducción* \\[Video]. 5.1 Recursos para mi aprendizaje | Bolsa de palabras y vectores embebidos, Procesamiento de Lenguaje Natural - Material de Estudio, Maestría en Inteligencia Artificial Aplicada, ITESM.\n",
        "\n",
        "Falcón Morales, L. E. (s.f.-e). *Video 2/4: Modelos CBOW & Skip-gram* \\[Video]. 5.1 Recursos para mi aprendizaje | Bolsa de palabras y vectores embebidos, Procesamiento de Lenguaje Natural - Material de Estudio, Maestría en Inteligencia Artificial Aplicada, ITESM.\n",
        "\n",
        "Falcón Morales, L. E. (s.f.-f). *Video 3/4: Modelos secuenciales/recurrentes RNN* \\[Video]. 5.1 Recursos para mi aprendizaje | Bolsa de palabras y vectores embebidos, Procesamiento de Lenguaje Natural - Material de Estudio, Maestría en Inteligencia Artificial Aplicada, ITESM.\n",
        "\n",
        "Falcón Morales, L. E. (s.f.-g). *Video 4/4: Ejemplos en JupyterNb* \\[Video]. 5.1 Recursos para mi aprendizaje | Bolsa de palabras y vectores embebidos, Procesamiento de Lenguaje Natural - Material de Estudio, Maestría en Inteligencia Artificial Aplicada, ITESM.\n",
        "\n",
        "Falcón Morales, L. E. (s.f.-h). *Video 5 - complementario* \\[Video]. 5.1 Recursos para mi aprendizaje | Bolsa de palabras y vectores embebidos, Procesamiento de Lenguaje Natural - Material de Estudio, Maestría en Inteligencia Artificial Aplicada, ITESM.\n",
        "\n",
        "Falcón Morales, L. E. (s.f.-i). *Video Descargando los vectores embebidos de fast-text* \\[Video]. Procesamiento de Lenguaje Natural - Material de Estudio, Maestría en Inteligencia Artificial Aplicada, ITESM.\n",
        "\n",
        "James, G., Witten, D., Hastie, T., & Tibshirani, R. (2013). *An introduction to statistical learning: With applications in R*. Springer.\n",
        "\n",
        "Khurana, D., Koli, A., Khatter, K., & Singh, S. (2023). Natural language processing: State of the art, current trends and challenges. *Multimedia Tools and Applications, 82*, 3713–3744. [https://doi.org/10.1007/s11042-022-13428-4](https://doi.org/10.1007/s11042-022-13428-4)\n",
        "\n",
        "Mikolov, T., Chen, K., Corrado, G., & Dean, J. (2013a). Efficient estimation of word representations in vector space. *arXiv preprint arXiv:1301.3781*.\n",
        "\n",
        "Mikolov, T., Sutskever, I., Chen, K., Corrado, G. S., & Dean, J. (2013b). Distributed representations of words and phrases and their compositionality. In *Advances in neural information processing systems* (pp. 3111-3119).\n",
        "\n",
        "OpenAI. (n.d.-a). *Embeddings*. OpenAI API Documentation. Recuperado el 26 de mayo de 2025, de [https://platform.openai.com/docs/guides/embeddings](https://platform.openai.com/docs/guides/embeddings)\n",
        "\n",
        "OpenAI. (n.d.-b). *Models: text-embedding-3-small*. OpenAI API Documentation. Recuperado el 26 de mayo de 2025, de [https://platform.openai.com/docs/models/text-embedding-3-small](https://platform.openai.com/docs/models/text-embedding-3-small)\n",
        "\n",
        "OpenAI. (n.d.-c). *Models: text-embedding-3-large*. OpenAI API Documentation. Recuperado el 26 de mayo de 2025, de [https://platform.openai.com/docs/models/text-embedding-3-large](https://platform.openai.com/docs/models/text-embedding-3-large)\n",
        "\n",
        "OpenAI. (n.d.-d). *Models: text-embedding-ada-002*. OpenAI API Documentation. Recuperado el 26 de mayo de 2025, de [https://platform.openai.com/docs/models/text-embedding-ada-002](https://platform.openai.com/docs/models/text-embedding-ada-002)\n",
        "\n",
        "Pennington, J., Socher, R., & Manning, C. D. (2014). Glove: Global vectors for word representation. In *Proceedings of the 2014 conference on empirical methods in natural language processing (EMNLP)* (pp. 1532-1543).\n",
        "\n",
        "Vajjala, S., Majumder, B., Gupta, A., & Surana, H. (2020). *Practical natural language processing: A comprehensive guide to building real-world NLP systems*. O'Reilly. [https://learning.oreilly.com/library/view/practical-natural-language/9781492054047/](https://learning.oreilly.com/library/view/practical-natural-language/9781492054047/)\n",
        "\n",
        "Vaswani, A., Shazeer, N., Parmar, N., Uszkoreit, J., Jones, L., Gomez, A. N., ... & Polosukhin, I. (2017). Attention is all you need. In *Advances in neural information processing systems* (pp. 5998-6008).\n",
        "\n",
        "---"
      ],
      "metadata": {
        "id": "6iUML0ZmCr8o"
      }
    },
    {
      "cell_type": "markdown",
      "metadata": {
        "id": "bgKHmQTbWJT1"
      },
      "source": [
        "# **Fin de la Actividad de Vectores Embebidos - OpenAI**"
      ]
    }
  ],
  "metadata": {
    "colab": {
      "provenance": [],
      "machine_shape": "hm",
      "gpuType": "T4",
      "include_colab_link": true
    },
    "kernelspec": {
      "display_name": "Python 3",
      "name": "python3"
    },
    "accelerator": "GPU"
  },
  "nbformat": 4,
  "nbformat_minor": 0
}