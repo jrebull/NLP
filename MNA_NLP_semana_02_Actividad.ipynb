{
  "nbformat": 4,
  "nbformat_minor": 0,
  "metadata": {
    "colab": {
      "provenance": [],
      "collapsed_sections": [
        "759SG4TyfbUn",
        "Zj-h4drXD-X9",
        "BY6yifxscfrx",
        "k_ewoagic5jc",
        "70StdqAZa9E9"
      ],
      "include_colab_link": true
    },
    "kernelspec": {
      "name": "python3",
      "display_name": "Python 3"
    },
    "language_info": {
      "name": "python"
    }
  },
  "cells": [
    {
      "cell_type": "markdown",
      "metadata": {
        "id": "view-in-github",
        "colab_type": "text"
      },
      "source": [
        "<a href=\"https://colab.research.google.com/github/jrebull/NLP/blob/main/MNA_NLP_semana_02_Actividad.ipynb\" target=\"_parent\"><img src=\"https://colab.research.google.com/assets/colab-badge.svg\" alt=\"Open In Colab\"/></a>"
      ]
    },
    {
      "cell_type": "markdown",
      "source": [
        "#**Maestría en Inteligencia Artificial Aplicada**\n",
        "##**Curso: Procesamiento de Lenguaje Natural (NLP)**\n",
        "###Tecnológico de Monterrey\n",
        "###Prof Luis Eduardo Falcón Morales\n",
        "\n",
        "## **Adtividad de la Semana 02**\n",
        "###**Introducción al procesamiento de texto.**"
      ],
      "metadata": {
        "id": "759SG4TyfbUn"
      }
    },
    {
      "cell_type": "markdown",
      "source": [
        "En esta actividad deberás utilizar los datos del siguiente archivo que se encuentra en Canvas:\n",
        "\n",
        "MNA_NLP_semana_02_Actividad_datos.txt\n",
        "\n",
        "El archivo contiene comentarios en inglés sobre servicios de comida de la página de Yelp: https://www.yelp.com/ .\n",
        "\n",
        "Son mil comentarios y forman parte del conjunto de datos que se encuentra en el Machine Learning Repository de la UCI, llamado \"Sentiment Labelled Sentences\": https://archive.ics.uci.edu/ml/datasets/Sentiment+Labelled+Sentences#\n"
      ],
      "metadata": {
        "id": "6ue1YAKx3XDo"
      }
    },
    {
      "cell_type": "markdown",
      "source": [
        "#**Parte 1. Cargamos los datos.**   "
      ],
      "metadata": {
        "id": "Zj-h4drXD-X9"
      }
    },
    {
      "cell_type": "markdown",
      "source": [
        "Cargar los datos del archivo indicado y obtener una lista de longitud de 1000 strings/comentarios.\n",
        "\n",
        "Por el momento solamente requerimos las bibliotecas de Numpy y re, para el manejo de los arreglos y de las expresiones regulares en Python.\n",
        "\n",
        "En particular, no necesitarás en esta actividad la biblioteca de Pandas.\n",
        "\n",
        "###**NOTA: En esta actividad no debes importar nada más, con estas dos bibliotecas será *suficiente*.**"
      ],
      "metadata": {
        "id": "BY6yifxscfrx"
      }
    },
    {
      "cell_type": "code",
      "source": [
        "import numpy as np    # importamos Numpy para el manejo de los arreglos.\n",
        "import re             # importamos re para el manejo de las expresiones regulares."
      ],
      "metadata": {
        "id": "OJ26dAfhdFnf"
      },
      "execution_count": 1,
      "outputs": []
    },
    {
      "cell_type": "code",
      "source": [
        "import gdown         # Para descargar archivos de Google Drive\n",
        "\n",
        "# ID del archivo en Google Drive (entre /d/ y /view)\n",
        "file_id = \"1c90HVx3GYb9nnB90ICMlcF-hV9GhhxAG\"\n",
        "PATH    = \"MNA_NLP_semana_02_Actividad_datos.txt\"\n",
        "\n",
        "print(\"🚀 Descargando el conjunto de datos con gdown por ID... ¡Por favor espera! 🚀\")\n",
        "# Descarga el archivo de Google Drive\n",
        "gdown.download(id=file_id, output=PATH, quiet=False)\n",
        "\n",
        "# Lee el archivo descargado\n",
        "with open(PATH,        # usando la misma RUTA de la descarga\n",
        "          mode='r',    # abre el archivo en modo lectura\n",
        "          ) as f:\n",
        "    docs = f.readlines()    # separa cada comentario por líneas\n",
        "\n",
        "f.close()  # cierra el archivo ya que tenemos la info en la variable docs"
      ],
      "metadata": {
        "id": "yk_3gluZuOEv",
        "outputId": "597ec669-e1dd-4e90-918c-ef2bae164b05",
        "colab": {
          "base_uri": "https://localhost:8080/"
        }
      },
      "execution_count": 2,
      "outputs": [
        {
          "output_type": "stream",
          "name": "stdout",
          "text": [
            "🚀 Descargando el conjunto de datos con gdown por ID... ¡Por favor espera! 🚀\n"
          ]
        },
        {
          "output_type": "stream",
          "name": "stderr",
          "text": [
            "Downloading...\n",
            "From: https://drive.google.com/uc?id=1c90HVx3GYb9nnB90ICMlcF-hV9GhhxAG\n",
            "To: /content/MNA_NLP_semana_02_Actividad_datos.txt\n",
            "100%|██████████| 59.9k/59.9k [00:00<00:00, 27.7MB/s]\n"
          ]
        }
      ]
    },
    {
      "cell_type": "code",
      "source": [
        "type(docs) == list   # Verifica que tu variable \"docs\" es una lista"
      ],
      "metadata": {
        "id": "L6WzrSrodG-Y",
        "outputId": "5c642567-9d2e-4bde-badf-1bdbb9506663",
        "colab": {
          "base_uri": "https://localhost:8080/"
        }
      },
      "execution_count": 3,
      "outputs": [
        {
          "output_type": "execute_result",
          "data": {
            "text/plain": [
              "True"
            ]
          },
          "metadata": {},
          "execution_count": 3
        }
      ]
    },
    {
      "cell_type": "code",
      "source": [
        "len(docs)==1000  # verifica que la longitud de \"docs\" es de mil comentarios."
      ],
      "metadata": {
        "id": "QIK1u9WS2FtS",
        "outputId": "0e7484b2-bb4f-4861-9737-af9ee6cf527d",
        "colab": {
          "base_uri": "https://localhost:8080/"
        }
      },
      "execution_count": 4,
      "outputs": [
        {
          "output_type": "execute_result",
          "data": {
            "text/plain": [
              "True"
            ]
          },
          "metadata": {},
          "execution_count": 4
        }
      ]
    },
    {
      "cell_type": "code",
      "source": [
        "docs[0:10]     # observa algunos de los primeros comentarios"
      ],
      "metadata": {
        "id": "9AMLIfQvJqNZ",
        "outputId": "94cd2452-54bd-4ff3-aa91-d125d3e0c97d",
        "colab": {
          "base_uri": "https://localhost:8080/"
        }
      },
      "execution_count": 5,
      "outputs": [
        {
          "output_type": "execute_result",
          "data": {
            "text/plain": [
              "['Wow... Loved this place.\\n',\n",
              " 'Crust is not good.\\n',\n",
              " 'Not tasty and the texture was just nasty.\\n',\n",
              " 'Stopped by during the late May bank holiday off Rick Steve recommendation and loved it.\\n',\n",
              " 'The selection on the menu was great and so were the prices.\\n',\n",
              " 'Now I am getting angry and I want my damn pho.\\n',\n",
              " \"Honeslty it didn't taste THAT fresh.)\\n\",\n",
              " 'The potatoes were like rubber and you could tell they had been made up ahead of time being kept under a warmer.\\n',\n",
              " 'The fries were great too.\\n',\n",
              " 'A great touch.\\n']"
            ]
          },
          "metadata": {},
          "execution_count": 5
        }
      ]
    },
    {
      "cell_type": "markdown",
      "source": [
        "#**Parte 2: sección de preguntas (regex).**   \n"
      ],
      "metadata": {
        "id": "k_ewoagic5jc"
      }
    },
    {
      "cell_type": "markdown",
      "source": [
        "##**Instrucciones:**\n",
        "\n",
        "###**A continuación deberás contestar cada una de las preguntas que te piden usando expresiones regulares (regex).**\n",
        "\n",
        "###**Por el momento no hay restricción en cuanto al número de líneas de código que agregues, pero trata de incluir las mínimas posibles.**"
      ],
      "metadata": {
        "id": "X-eMJa3DFCIV"
      }
    },
    {
      "cell_type": "markdown",
      "source": [
        "*   **Pregunta 1.**\n",
        "\n",
        "Busca y elimina todos los saltos de línea '\\n' que se encuentran al final de cada comentario.\n",
        "\n",
        "Una vez finalizado, imprime los primeros 10 comentarios del resultado obtenido.\n"
      ],
      "metadata": {
        "id": "78nJMemzn5a5"
      }
    },
    {
      "cell_type": "code",
      "source": [
        "# Elimina los saltos de línea al final de cada comentario usando regex\n",
        "docs_limpios = [re.sub(r'\\n$', '', comentario) for comentario in docs]"
      ],
      "metadata": {
        "id": "PwbYYIuZn8pE"
      },
      "execution_count": 6,
      "outputs": []
    },
    {
      "cell_type": "code",
      "source": [
        "# Imprime los primeros 10 comentarios\n",
        "print(\"\\n\" + \"=\"*50)\n",
        "print(\"Primeros 10 comentarios procesados\".center(50))\n",
        "print(\"=\"*50)\n",
        "for i, comentario in enumerate(docs_limpios[:10], 1):\n",
        "    print(f\"Comentario {i:02d}:\".ljust(15) + f\"{comentario}\")\n",
        "print(\"=\"*50)"
      ],
      "metadata": {
        "id": "G_aqCxaN0TLp",
        "outputId": "ac077f18-8e53-4ea7-a7b2-4817b8cd6c6d",
        "colab": {
          "base_uri": "https://localhost:8080/"
        }
      },
      "execution_count": 10,
      "outputs": [
        {
          "output_type": "stream",
          "name": "stdout",
          "text": [
            "\n",
            "==================================================\n",
            "        Primeros 10 comentarios procesados        \n",
            "==================================================\n",
            "Comentario 01: Wow... Loved this place.\n",
            "Comentario 02: Crust is not good.\n",
            "Comentario 03: Not tasty and the texture was just nasty.\n",
            "Comentario 04: Stopped by during the late May bank holiday off Rick Steve recommendation and loved it.\n",
            "Comentario 05: The selection on the menu was great and so were the prices.\n",
            "Comentario 06: Now I am getting angry and I want my damn pho.\n",
            "Comentario 07: Honeslty it didn't taste THAT fresh.)\n",
            "Comentario 08: The potatoes were like rubber and you could tell they had been made up ahead of time being kept under a warmer.\n",
            "Comentario 09: The fries were great too.\n",
            "Comentario 10: A great touch.\n",
            "==================================================\n"
          ]
        }
      ]
    },
    {
      "cell_type": "markdown",
      "source": [
        "*   **Pregunta 2.**  \n",
        "\n",
        "Busca e imprime todas las palabras que terminan con dos o más signos de admiración seguidos, por ejemplo \"!!!\".\n",
        "\n",
        "Debes imprimir tanto la palabra como la totalidad de signos de admiración que le siguen.\n",
        "\n",
        "Indica cuántos resultados obtuviste.\n",
        "\n"
      ],
      "metadata": {
        "id": "VWeKQC93ctEo"
      }
    },
    {
      "cell_type": "code",
      "source": [
        "# Busca palabras que terminan con dos o más signos de admiración\n",
        "patron = r'[A-Za-z]+!{2,}'  # Coincide con letras seguidas de 2+ signos de admiración\n",
        "resultados = []\n",
        "\n",
        "for comentario in docs_limpios:\n",
        "    coincidencias = re.findall(patron, comentario)\n",
        "    resultados.extend(coincidencias)"
      ],
      "metadata": {
        "id": "0p3kMXfddICc"
      },
      "execution_count": 13,
      "outputs": []
    },
    {
      "cell_type": "code",
      "source": [
        "# Imprime los resultados\n",
        "print(\"\\n\" + \"=\"*50)\n",
        "print(\"Palabras con dos o más signos de admiración\".center(50))\n",
        "print(\"=\"*50)\n",
        "for i, palabra in enumerate(resultados, 1):\n",
        "    print(f\"Resultado {i:02d}:\".ljust(15) + f\"{palabra}\")\n",
        "print(\"=\"*50)\n",
        "print(f\"Total de resultados encontrados: {len(resultados)}\")"
      ],
      "metadata": {
        "id": "SPVM1MCWdH6Z",
        "outputId": "dfa00df4-fd6b-44ce-b600-e83f6d57af9e",
        "colab": {
          "base_uri": "https://localhost:8080/"
        }
      },
      "execution_count": 14,
      "outputs": [
        {
          "output_type": "stream",
          "name": "stdout",
          "text": [
            "\n",
            "==================================================\n",
            "   Palabras con dos o más signos de admiración    \n",
            "==================================================\n",
            "Resultado 01:  Firehouse!!!!!\n",
            "Resultado 02:  APPETIZERS!!!\n",
            "Resultado 03:  amazing!!!\n",
            "Resultado 04:  buffet!!!\n",
            "Resultado 05:  good!!\n",
            "Resultado 06:  it!!!!\n",
            "Resultado 07:  DELICIOUS!!\n",
            "Resultado 08:  amazing!!\n",
            "Resultado 09:  shawarrrrrrma!!!!!!\n",
            "Resultado 10:  yucky!!!\n",
            "Resultado 11:  steak!!!!!\n",
            "Resultado 12:  delicious!!!\n",
            "Resultado 13:  far!!\n",
            "Resultado 14:  biscuits!!!\n",
            "Resultado 15:  dry!!\n",
            "Resultado 16:  disappointing!!!\n",
            "Resultado 17:  awesome!!\n",
            "Resultado 18:  Up!!\n",
            "Resultado 19:  FLY!!!!!!!!\n",
            "Resultado 20:  here!!!\n",
            "Resultado 21:  great!!!!!!!!!!!!!!\n",
            "Resultado 22:  packed!!\n",
            "Resultado 23:  otherwise!!\n",
            "Resultado 24:  amazing!!!!!!!!!!!!!!!!!!!\n",
            "Resultado 25:  style!!\n",
            "Resultado 26:  disappointed!!\n",
            "==================================================\n",
            "Total de resultados encontrados: 26\n"
          ]
        }
      ]
    },
    {
      "cell_type": "markdown",
      "source": [
        "*   **Pregunta 3.**  \n",
        "\n",
        "Busca e imprime todas las palabras que están escritas totalmente en mayúsculas. Cada coincidencia debe ser una sola palabra.\n",
        "\n",
        "Indica cuántas palabras encontraste.\n",
        "\n"
      ],
      "metadata": {
        "id": "-s3okBqL96TT"
      }
    },
    {
      "cell_type": "code",
      "source": [
        "# Busca palabras escritas totalmente en mayúsculas\n",
        "patron = r'\\b[A-Z]+\\b'\n",
        "resultados = []\n",
        "\n",
        "for comentario in docs_limpios:\n",
        "    coincidencias = re.findall(patron, comentario)\n",
        "    resultados.extend(coincidencias)"
      ],
      "metadata": {
        "id": "yKHJkZKo_nW5"
      },
      "execution_count": 15,
      "outputs": []
    },
    {
      "cell_type": "code",
      "source": [
        "# Imprime los resultados de forma elegante\n",
        "print(\"\\n\" + \"=\"*50)\n",
        "print(\"Palabras en mayúsculas\".center(50))\n",
        "print(\"=\"*50)\n",
        "for i, palabra in enumerate(resultados, 1):\n",
        "    print(f\"Resultado {i:02d}:\".ljust(15) + f\"{palabra}\")\n",
        "print(\"=\"*50)\n",
        "print(f\"Total de palabras encontradas: {len(resultados)}\")"
      ],
      "metadata": {
        "id": "L3q08aq69sNn",
        "outputId": "23c1d51a-f552-4f4f-9190-1dd4f561dc2e",
        "colab": {
          "base_uri": "https://localhost:8080/"
        }
      },
      "execution_count": 16,
      "outputs": [
        {
          "output_type": "stream",
          "name": "stdout",
          "text": [
            "\n",
            "==================================================\n",
            "              Palabras en mayúsculas              \n",
            "==================================================\n",
            "Resultado 01:  I\n",
            "Resultado 02:  I\n",
            "Resultado 03:  THAT\n",
            "Resultado 04:  A\n",
            "Resultado 05:  I\n",
            "Resultado 06:  I\n",
            "Resultado 07:  I\n",
            "Resultado 08:  I\n",
            "Resultado 09:  I\n",
            "Resultado 10:  I\n",
            "Resultado 11:  I\n",
            "Resultado 12:  I\n",
            "Resultado 13:  I\n",
            "Resultado 14:  I\n",
            "Resultado 15:  I\n",
            "Resultado 16:  I\n",
            "Resultado 17:  APPETIZERS\n",
            "Resultado 18:  A\n",
            "Resultado 19:  I\n",
            "Resultado 20:  I\n",
            "Resultado 21:  I\n",
            "Resultado 22:  I\n",
            "Resultado 23:  I\n",
            "Resultado 24:  I\n",
            "Resultado 25:  I\n",
            "Resultado 26:  WILL\n",
            "Resultado 27:  NEVER\n",
            "Resultado 28:  EVER\n",
            "Resultado 29:  STEP\n",
            "Resultado 30:  FORWARD\n",
            "Resultado 31:  IN\n",
            "Resultado 32:  IT\n",
            "Resultado 33:  AGAIN\n",
            "Resultado 34:  I\n",
            "Resultado 35:  LOVED\n",
            "Resultado 36:  I\n",
            "Resultado 37:  AND\n",
            "Resultado 38:  REAL\n",
            "Resultado 39:  I\n",
            "Resultado 40:  I\n",
            "Resultado 41:  I\n",
            "Resultado 42:  I\n",
            "Resultado 43:  BITCHES\n",
            "Resultado 44:  I\n",
            "Resultado 45:  I\n",
            "Resultado 46:  I\n",
            "Resultado 47:  I\n",
            "Resultado 48:  NYC\n",
            "Resultado 49:  I\n",
            "Resultado 50:  I\n",
            "Resultado 51:  I\n",
            "Resultado 52:  I\n",
            "Resultado 53:  I\n",
            "Resultado 54:  I\n",
            "Resultado 55:  I\n",
            "Resultado 56:  STALE\n",
            "Resultado 57:  I\n",
            "Resultado 58:  I\n",
            "Resultado 59:  DELICIOUS\n",
            "Resultado 60:  I\n",
            "Resultado 61:  I\n",
            "Resultado 62:  I\n",
            "Resultado 63:  I\n",
            "Resultado 64:  I\n",
            "Resultado 65:  I\n",
            "Resultado 66:  I\n",
            "Resultado 67:  I\n",
            "Resultado 68:  I\n",
            "Resultado 69:  I\n",
            "Resultado 70:  I\n",
            "Resultado 71:  I\n",
            "Resultado 72:  I\n",
            "Resultado 73:  I\n",
            "Resultado 74:  I\n",
            "Resultado 75:  WORST\n",
            "Resultado 76:  EXPERIENCE\n",
            "Resultado 77:  EVER\n",
            "Resultado 78:  I\n",
            "Resultado 79:  ALL\n",
            "Resultado 80:  I\n",
            "Resultado 81:  BARGAIN\n",
            "Resultado 82:  I\n",
            "Resultado 83:  TV\n",
            "Resultado 84:  NONE\n",
            "Resultado 85:  I\n",
            "Resultado 86:  M\n",
            "Resultado 87:  FREEZING\n",
            "Resultado 88:  AYCE\n",
            "Resultado 89:  I\n",
            "Resultado 90:  I\n",
            "Resultado 91:  I\n",
            "Resultado 92:  I\n",
            "Resultado 93:  I\n",
            "Resultado 94:  I\n",
            "Resultado 95:  I\n",
            "Resultado 96:  I\n",
            "Resultado 97:  I\n",
            "Resultado 98:  I\n",
            "Resultado 99:  I\n",
            "Resultado 100: I\n",
            "Resultado 101: I\n",
            "Resultado 102: FLAVOR\n",
            "Resultado 103: I\n",
            "Resultado 104: I\n",
            "Resultado 105: I\n",
            "Resultado 106: I\n",
            "Resultado 107: I\n",
            "Resultado 108: I\n",
            "Resultado 109: I\n",
            "Resultado 110: I\n",
            "Resultado 111: I\n",
            "Resultado 112: I\n",
            "Resultado 113: I\n",
            "Resultado 114: I\n",
            "Resultado 115: I\n",
            "Resultado 116: I\n",
            "Resultado 117: I\n",
            "Resultado 118: I\n",
            "Resultado 119: I\n",
            "Resultado 120: I\n",
            "Resultado 121: NEVER\n",
            "Resultado 122: I\n",
            "Resultado 123: I\n",
            "Resultado 124: I\n",
            "Resultado 125: I\n",
            "Resultado 126: BBQ\n",
            "Resultado 127: I\n",
            "Resultado 128: A\n",
            "Resultado 129: I\n",
            "Resultado 130: UNREAL\n",
            "Resultado 131: I\n",
            "Resultado 132: I\n",
            "Resultado 133: I\n",
            "Resultado 134: I\n",
            "Resultado 135: I\n",
            "Resultado 136: I\n",
            "Resultado 137: OMG\n",
            "Resultado 138: I\n",
            "Resultado 139: BETTER\n",
            "Resultado 140: I\n",
            "Resultado 141: I\n",
            "Resultado 142: BLAND\n",
            "Resultado 143: I\n",
            "Resultado 144: I\n",
            "Resultado 145: I\n",
            "Resultado 146: I\n",
            "Resultado 147: I\n",
            "Resultado 148: I\n",
            "Resultado 149: I\n",
            "Resultado 150: RUDE\n",
            "Resultado 151: INCONSIDERATE\n",
            "Resultado 152: MANAGEMENT\n",
            "Resultado 153: I\n",
            "Resultado 154: I\n",
            "Resultado 155: WILL\n",
            "Resultado 156: NEVER\n",
            "Resultado 157: EVER\n",
            "Resultado 158: GO\n",
            "Resultado 159: BACK\n",
            "Resultado 160: AND\n",
            "Resultado 161: HAVE\n",
            "Resultado 162: TOLD\n",
            "Resultado 163: MANY\n",
            "Resultado 164: PEOPLE\n",
            "Resultado 165: WHAT\n",
            "Resultado 166: HAD\n",
            "Resultado 167: HAPPENED\n",
            "Resultado 168: I\n",
            "Resultado 169: I\n",
            "Resultado 170: I\n",
            "Resultado 171: I\n",
            "Resultado 172: I\n",
            "Resultado 173: I\n",
            "Resultado 174: I\n",
            "Resultado 175: I\n",
            "Resultado 176: I\n",
            "Resultado 177: I\n",
            "Resultado 178: I\n",
            "Resultado 179: I\n",
            "Resultado 180: I\n",
            "Resultado 181: TOTAL\n",
            "Resultado 182: WASTE\n",
            "Resultado 183: OF\n",
            "Resultado 184: TIME\n",
            "Resultado 185: I\n",
            "Resultado 186: I\n",
            "Resultado 187: I\n",
            "Resultado 188: I\n",
            "Resultado 189: I\n",
            "Resultado 190: I\n",
            "Resultado 191: I\n",
            "Resultado 192: I\n",
            "Resultado 193: I\n",
            "Resultado 194: I\n",
            "Resultado 195: I\n",
            "Resultado 196: I\n",
            "Resultado 197: I\n",
            "Resultado 198: I\n",
            "Resultado 199: I\n",
            "Resultado 200: FS\n",
            "Resultado 201: I\n",
            "Resultado 202: I\n",
            "Resultado 203: I\n",
            "Resultado 204: I\n",
            "Resultado 205: I\n",
            "Resultado 206: I\n",
            "Resultado 207: I\n",
            "Resultado 208: I\n",
            "Resultado 209: I\n",
            "Resultado 210: AZ\n",
            "Resultado 211: I\n",
            "Resultado 212: I\n",
            "Resultado 213: I\n",
            "Resultado 214: I\n",
            "Resultado 215: LOVED\n",
            "Resultado 216: I\n",
            "Resultado 217: I\n",
            "Resultado 218: I\n",
            "Resultado 219: I\n",
            "Resultado 220: I\n",
            "Resultado 221: I\n",
            "Resultado 222: CONCLUSION\n",
            "Resultado 223: I\n",
            "Resultado 224: I\n",
            "Resultado 225: I\n",
            "Resultado 226: I\n",
            "Resultado 227: I\n",
            "Resultado 228: I\n",
            "Resultado 229: BEST\n",
            "Resultado 230: I\n",
            "Resultado 231: GO\n",
            "Resultado 232: NOW\n",
            "Resultado 233: A\n",
            "Resultado 234: I\n",
            "Resultado 235: I\n",
            "Resultado 236: GC\n",
            "Resultado 237: I\n",
            "Resultado 238: I\n",
            "Resultado 239: I\n",
            "Resultado 240: I\n",
            "Resultado 241: I\n",
            "Resultado 242: I\n",
            "Resultado 243: I\n",
            "Resultado 244: I\n",
            "Resultado 245: I\n",
            "Resultado 246: I\n",
            "Resultado 247: I\n",
            "Resultado 248: AVOID\n",
            "Resultado 249: THIS\n",
            "Resultado 250: ESTABLISHMENT\n",
            "Resultado 251: I\n",
            "Resultado 252: I\n",
            "Resultado 253: I\n",
            "Resultado 254: A\n",
            "Resultado 255: I\n",
            "Resultado 256: I\n",
            "Resultado 257: AN\n",
            "Resultado 258: HOUR\n",
            "Resultado 259: I\n",
            "Resultado 260: I\n",
            "Resultado 261: I\n",
            "Resultado 262: I\n",
            "Resultado 263: I\n",
            "Resultado 264: I\n",
            "Resultado 265: I\n",
            "Resultado 266: I\n",
            "Resultado 267: NASTY\n",
            "Resultado 268: OMG\n",
            "Resultado 269: I\n",
            "Resultado 270: I\n",
            "Resultado 271: NO\n",
            "Resultado 272: I\n",
            "Resultado 273: I\n",
            "Resultado 274: I\n",
            "Resultado 275: BEST\n",
            "Resultado 276: I\n",
            "Resultado 277: I\n",
            "Resultado 278: I\n",
            "Resultado 279: I\n",
            "Resultado 280: THE\n",
            "Resultado 281: OWNERS\n",
            "Resultado 282: REALLY\n",
            "Resultado 283: REALLY\n",
            "Resultado 284: I\n",
            "Resultado 285: I\n",
            "Resultado 286: I\n",
            "Resultado 287: I\n",
            "Resultado 288: I\n",
            "Resultado 289: I\n",
            "Resultado 290: I\n",
            "Resultado 291: I\n",
            "Resultado 292: I\n",
            "Resultado 293: I\n",
            "Resultado 294: I\n",
            "Resultado 295: I\n",
            "Resultado 296: PERFECT\n",
            "Resultado 297: SCREAMS\n",
            "Resultado 298: LEGIT\n",
            "Resultado 299: I\n",
            "Resultado 300: MGM\n",
            "Resultado 301: I\n",
            "Resultado 302: I\n",
            "Resultado 303: I\n",
            "Resultado 304: A\n",
            "Resultado 305: I\n",
            "Resultado 306: I\n",
            "Resultado 307: I\n",
            "Resultado 308: I\n",
            "Resultado 309: I\n",
            "Resultado 310: I\n",
            "Resultado 311: I\n",
            "Resultado 312: I\n",
            "Resultado 313: I\n",
            "Resultado 314: I\n",
            "Resultado 315: I\n",
            "Resultado 316: I\n",
            "Resultado 317: BEST\n",
            "Resultado 318: I\n",
            "Resultado 319: I\n",
            "Resultado 320: T\n",
            "Resultado 321: A\n",
            "Resultado 322: FLY\n",
            "Resultado 323: A\n",
            "Resultado 324: FLY\n",
            "Resultado 325: I\n",
            "Resultado 326: I\n",
            "Resultado 327: I\n",
            "Resultado 328: I\n",
            "Resultado 329: I\n",
            "Resultado 330: I\n",
            "Resultado 331: I\n",
            "Resultado 332: I\n",
            "Resultado 333: I\n",
            "Resultado 334: I\n",
            "Resultado 335: I\n",
            "Resultado 336: I\n",
            "Resultado 337: FANTASTIC\n",
            "Resultado 338: I\n",
            "Resultado 339: I\n",
            "Resultado 340: I\n",
            "Resultado 341: I\n",
            "Resultado 342: GREAT\n",
            "Resultado 343: OK\n",
            "Resultado 344: I\n",
            "Resultado 345: I\n",
            "Resultado 346: WAY\n",
            "Resultado 347: I\n",
            "Resultado 348: I\n",
            "Resultado 349: MUST\n",
            "Resultado 350: HAVE\n",
            "Resultado 351: I\n",
            "Resultado 352: I\n",
            "Resultado 353: I\n",
            "Resultado 354: I\n",
            "Resultado 355: I\n",
            "Resultado 356: I\n",
            "Resultado 357: OK\n",
            "Resultado 358: I\n",
            "Resultado 359: I\n",
            "Resultado 360: I\n",
            "Resultado 361: I\n",
            "Resultado 362: OVERPRICED\n",
            "Resultado 363: I\n",
            "Resultado 364: I\n",
            "Resultado 365: I\n",
            "Resultado 366: I\n",
            "Resultado 367: I\n",
            "Resultado 368: I\n",
            "Resultado 369: I\n",
            "Resultado 370: I\n",
            "Resultado 371: I\n",
            "Resultado 372: I\n",
            "Resultado 373: I\n",
            "Resultado 374: I\n",
            "Resultado 375: I\n",
            "Resultado 376: I\n",
            "Resultado 377: I\n",
            "Resultado 378: I\n",
            "Resultado 379: I\n",
            "Resultado 380: I\n",
            "Resultado 381: I\n",
            "Resultado 382: I\n",
            "Resultado 383: I\n",
            "Resultado 384: I\n",
            "Resultado 385: I\n",
            "Resultado 386: I\n",
            "Resultado 387: I\n",
            "Resultado 388: BARE\n",
            "Resultado 389: HANDS\n",
            "Resultado 390: I\n",
            "Resultado 391: I\n",
            "Resultado 392: I\n",
            "Resultado 393: I\n",
            "Resultado 394: I\n",
            "Resultado 395: I\n",
            "Resultado 396: I\n",
            "Resultado 397: I\n",
            "Resultado 398: I\n",
            "Resultado 399: I\n",
            "Resultado 400: I\n",
            "Resultado 401: I\n",
            "Resultado 402: I\n",
            "Resultado 403: I\n",
            "Resultado 404: I\n",
            "Resultado 405: WEAK\n",
            "Resultado 406: I\n",
            "Resultado 407: I\n",
            "Resultado 408: I\n",
            "Resultado 409: I\n",
            "Resultado 410: I\n",
            "Resultado 411: I\n",
            "Resultado 412: I\n",
            "Resultado 413: I\n",
            "Resultado 414: SHOULD\n",
            "Resultado 415: I\n",
            "Resultado 416: I\n",
            "Resultado 417: I\n",
            "Resultado 418: RI\n",
            "Resultado 419: I\n",
            "Resultado 420: I\n",
            "Resultado 421: I\n",
            "Resultado 422: I\n",
            "Resultado 423: I\n",
            "Resultado 424: I\n",
            "Resultado 425: I\n",
            "Resultado 426: VERY\n",
            "Resultado 427: I\n",
            "Resultado 428: I\n",
            "Resultado 429: I\n",
            "Resultado 430: NOT\n",
            "Resultado 431: I\n",
            "Resultado 432: I\n",
            "Resultado 433: I\n",
            "Resultado 434: I\n",
            "Resultado 435: I\n",
            "Resultado 436: I\n",
            "Resultado 437: I\n",
            "Resultado 438: I\n",
            "Resultado 439: I\n",
            "Resultado 440: I\n",
            "Resultado 441: I\n",
            "Resultado 442: I\n",
            "Resultado 443: I\n",
            "Resultado 444: I\n",
            "Resultado 445: I\n",
            "Resultado 446: I\n",
            "Resultado 447: I\n",
            "Resultado 448: I\n",
            "Resultado 449: A\n",
            "Resultado 450: I\n",
            "Resultado 451: I\n",
            "Resultado 452: I\n",
            "Resultado 453: I\n",
            "Resultado 454: I\n",
            "Resultado 455: I\n",
            "==================================================\n",
            "Total de palabras encontradas: 455\n"
          ]
        }
      ]
    },
    {
      "cell_type": "markdown",
      "source": [
        "*   **Pregunta 4.**  \n",
        "\n",
        "Busca e imprime los comentarios en donde todos los caracteres alfabéticos (letras) están en mayúsculas.\n",
        "\n",
        "Cada coincidencia encontrada debe ser todo el comentario/enunciado.\n",
        "\n",
        "Indica cuántos resultados obtuviste.\n"
      ],
      "metadata": {
        "id": "GX8eYyDoMZma"
      }
    },
    {
      "cell_type": "code",
      "source": [],
      "metadata": {
        "id": "K8VuZxvTMYj6"
      },
      "execution_count": null,
      "outputs": []
    },
    {
      "cell_type": "code",
      "source": [],
      "metadata": {
        "id": "PmKgX7sCMcDx"
      },
      "execution_count": null,
      "outputs": []
    },
    {
      "cell_type": "markdown",
      "source": [
        "*   **Pregunta 5.**  \n",
        "\n",
        "Busca e imprime todas las palabras que tengan una vocal acentuada, del tipo á, é, í, ó, ú.\n",
        "\n",
        "Indica cuántos resultados obtuviste."
      ],
      "metadata": {
        "id": "a1i6qv7-McmU"
      }
    },
    {
      "cell_type": "code",
      "source": [],
      "metadata": {
        "id": "nZZ5zKUOMeGD"
      },
      "execution_count": null,
      "outputs": []
    },
    {
      "cell_type": "code",
      "source": [],
      "metadata": {
        "id": "l1mFvUEZMe8s"
      },
      "execution_count": null,
      "outputs": []
    },
    {
      "cell_type": "markdown",
      "source": [
        "*   **Pregunta 6.**  \n",
        "\n",
        "Busca e imprime todas las cantidades numéricas monetarias, enteras o con decimales, que inician con el símbolo $\\$$.\n",
        "\n",
        "Indica cuántos resultados obtuviste."
      ],
      "metadata": {
        "id": "ZmPiAI82Mfb3"
      }
    },
    {
      "cell_type": "code",
      "source": [],
      "metadata": {
        "id": "6vhe9-Y-MhL9"
      },
      "execution_count": null,
      "outputs": []
    },
    {
      "cell_type": "code",
      "source": [],
      "metadata": {
        "id": "_t0a5xWDMhQ5"
      },
      "execution_count": null,
      "outputs": []
    },
    {
      "cell_type": "markdown",
      "source": [
        "*   **Pregunta 7.**  \n",
        "\n",
        "Busca e imprime todas las palabras que sean variantes de la palabra \"love\", sin importar si incluyen mayúsculas o minúsculas, o la manera en que esté conjugada o alguna otra variación que se haga con dicha palabra.\n",
        "\n",
        "Indica cuántos resultados obtuviste."
      ],
      "metadata": {
        "id": "2j-HpvhwMhq2"
      }
    },
    {
      "cell_type": "code",
      "source": [],
      "metadata": {
        "id": "kqqyRChVMjol"
      },
      "execution_count": null,
      "outputs": []
    },
    {
      "cell_type": "code",
      "source": [],
      "metadata": {
        "id": "UXd0VQluMj_x"
      },
      "execution_count": null,
      "outputs": []
    },
    {
      "cell_type": "markdown",
      "source": [
        "*   **Pregunta 8.**  \n",
        "\n",
        "Busca e imprime todas las palabras, variantes de \"so\" y \"good\", que tengan dos o más \"o\" en \"so\" y 3 o más \"o\" en good.\n",
        "\n",
        "Indica cuántas encontraste.\n"
      ],
      "metadata": {
        "id": "Ctb-NTY3MkYG"
      }
    },
    {
      "cell_type": "code",
      "source": [],
      "metadata": {
        "id": "A8Nf3B_cMlqg"
      },
      "execution_count": null,
      "outputs": []
    },
    {
      "cell_type": "code",
      "source": [],
      "metadata": {
        "id": "svS4-vvPMl6f"
      },
      "execution_count": null,
      "outputs": []
    },
    {
      "cell_type": "markdown",
      "source": [
        "*   **Pregunta 9.**  \n",
        "\n",
        "Busca e imprime todas las palabras que tengan una longitud mayor estrictamente a 10 caracteres alfabéticos.\n",
        "\n",
        "No se consideran los signos de puntuación o caracteres especiales en la longitud de estas cadenas, solo caracteres alfabéticos en mayúsculas o minúsculas.\n",
        "\n",
        "Indica la cantidad de palabras encontradas.\n"
      ],
      "metadata": {
        "id": "hkak1opjMmlk"
      }
    },
    {
      "cell_type": "code",
      "source": [],
      "metadata": {
        "id": "PYxdp3uhMoD0"
      },
      "execution_count": null,
      "outputs": []
    },
    {
      "cell_type": "code",
      "source": [],
      "metadata": {
        "id": "BR7e2F4FMof-"
      },
      "execution_count": null,
      "outputs": []
    },
    {
      "cell_type": "markdown",
      "source": [
        "*   **Pregunta 10.**  \n",
        "\n",
        "Busca e imprime todas las palabras que inician con una letra mayúscula y terminan con una minúscula, pero que además no sea la primera palabra del comentario/string.\n",
        "\n",
        "Indica la cantidad de resultados obtenidos."
      ],
      "metadata": {
        "id": "ApjTNzSxMpDc"
      }
    },
    {
      "cell_type": "code",
      "source": [],
      "metadata": {
        "id": "Vb0ndRGAMqdL"
      },
      "execution_count": null,
      "outputs": []
    },
    {
      "cell_type": "code",
      "source": [],
      "metadata": {
        "id": "dLPTRPnTMqqx"
      },
      "execution_count": null,
      "outputs": []
    },
    {
      "cell_type": "markdown",
      "source": [
        "*   **Pregunta 11.**  \n",
        "\n",
        "Busca e imprime la secuencia de dos o más palabras que están separadas por un guion, \"-\", sin que tengan espacios en blanco entre ellas.\n",
        "\n",
        "Por ejemplo \"Go-Kart\" sería válido, pero \"Go  -Kart\" o \"Go  -  Kart\" no lo serían.\n",
        "\n",
        "Indica la cantidad de resultados obtenidos."
      ],
      "metadata": {
        "id": "u7nfm4KhMrNW"
      }
    },
    {
      "cell_type": "code",
      "source": [],
      "metadata": {
        "id": "OwU-a7eGMsub"
      },
      "execution_count": null,
      "outputs": []
    },
    {
      "cell_type": "code",
      "source": [],
      "metadata": {
        "id": "SgzIL74ZMtGw"
      },
      "execution_count": null,
      "outputs": []
    },
    {
      "cell_type": "markdown",
      "source": [
        "*   **Pregunta 12.**  \n",
        "\n",
        "Busca e imprime todas las palabras que terminan en \"ing\" o \"ed\".\n",
        "\n",
        "Indica la cantidad de palabras que encontraste de cada una."
      ],
      "metadata": {
        "id": "DEIgl79HMthr"
      }
    },
    {
      "cell_type": "code",
      "source": [],
      "metadata": {
        "id": "I4TSofBMMv9y"
      },
      "execution_count": null,
      "outputs": []
    },
    {
      "cell_type": "code",
      "source": [],
      "metadata": {
        "id": "AhGq6De2Mvyh"
      },
      "execution_count": null,
      "outputs": []
    },
    {
      "cell_type": "markdown",
      "source": [
        "#**Parte 3. Proceso de limpieza.**"
      ],
      "metadata": {
        "id": "70StdqAZa9E9"
      }
    },
    {
      "cell_type": "markdown",
      "source": [
        "*   **Pregunta 13.**  \n",
        "\n",
        "Ahora realiza un proceso de limpieza del corpus que incluya los siguientes procesos:\n",
        "\n",
        "*   Solo se deben considerar caracteres alfabéticos. Es decir, se eliminan todos los signos de puntuación y caracteres especiales.\n",
        "*   Todos los caracteres alfabéticos se transforman a minúsculas.\n",
        "*   Se deben eliminar todos los espacios en blanco adicionales que se puedan encontrar en cada comentario.\n",
        "\n",
        "Al finalizar dicho proceso de limpieza, imprime el resultado de los primeros 10 comentarios resultantes.\n",
        "   \n",
        "\n",
        "\n"
      ],
      "metadata": {
        "id": "xaDUFXHrMvX2"
      }
    },
    {
      "cell_type": "code",
      "source": [],
      "metadata": {
        "id": "K3kQzPOPMx0w"
      },
      "execution_count": null,
      "outputs": []
    },
    {
      "cell_type": "code",
      "source": [],
      "metadata": {
        "id": "mYEDlHSFMyJN"
      },
      "execution_count": null,
      "outputs": []
    },
    {
      "cell_type": "markdown",
      "source": [
        "*   **Pregunta 14.**  \n",
        "\n",
        "Con el resultado de la limpieza obtenido en la pregunta anterior, realiza ahora un proceso de tokenización por palabras del corpus.\n",
        "\n",
        "Es decir, al final de este proceso de tokenización, debes tener como resultado una lista de listas, donde cada comentario estará tokenizado por palabras.\n",
        "\n",
        "Al terminar calcula el total de tokens obtenido en todo el corpus."
      ],
      "metadata": {
        "id": "WZwEhg2lUSAX"
      }
    },
    {
      "cell_type": "code",
      "source": [],
      "metadata": {
        "id": "kbAL9-v0V-jx"
      },
      "execution_count": null,
      "outputs": []
    },
    {
      "cell_type": "code",
      "source": [],
      "metadata": {
        "id": "DZs_etmiV-fd"
      },
      "execution_count": null,
      "outputs": []
    },
    {
      "cell_type": "markdown",
      "source": [
        "*   **Pregunta 15.**  \n",
        "\n",
        "Finalmente, en este ejercicio definiremos nuestro conjunto de palabras \"stopwords\", las cuales deberás eliminar de todo el corpus.\n",
        "\n",
        "Recuerda que ejemplos de stopwords son artículos, adverbios, conectivos, etcétera, que tienen frecuencias de aparición muy altas en cualquier documento, pero que no brindan mucho significado en cuanto al significado de un enunciado.\n",
        "\n",
        "Con base a la lista de stopwords que se te proporciona, realiza un proceso de limpieza eliminando todas estas palabras del corpus obtenido en el ejercicio anterior.\n",
        "\n",
        "Obtener cuántos tokens/palabras quedan finalmente en todo el corpus.\n",
        "\n",
        "Obtener cuántos de estos tokens/palabras son diferentes, es decir, cuántos tokens únicos tendrá lo que llamaremos más adelante nuestro vocabulario."
      ],
      "metadata": {
        "id": "EFeu0OJ7WDPD"
      }
    },
    {
      "cell_type": "code",
      "source": [
        "# Considera la siguiente lista como tu conjunto de stopwords:\n",
        "mis_stopwords = ['i', 'me', 'my', 'myself', 'we', 'our', 'ours', 'ourselves', 'you', 'your', 'yours', 'he', 'him', 'his', 'himself', 'she', 'her', 'hers', 'herself', 'it', 'its', 'itself', 'they', 'them', 'their', 'theirs', 'themselves', 'what', 'which', 'who', 'whom', 'this', 'that', 'these', 'those', 'am', 'is', 'are', 'was', 'were', 'be', 'been', 'being', 'have', 'has', 'had', 'having', 'do', 'does', 'did', 'doing', 'a', 'an', 'the', 'and', 'but', 'if', 'or', 'because', 'as', 'until', 'while', 'of', 'at', 'by', 'for', 'with', 'about', 'against', 'between', 'into', 'through', 'during', 'before', 'after', 'above', 'below', 'to', 'from', 'up', 'down', 'in', 'out', 'on', 'over', 'under', 'again', 'further', 'then', 'once', 'here', 'there', 'when', 'where', 'why', 'how', 'all', 'any', 'both', 'each', 'few', 'more', 'most', 'other', 'some', 'such', 'only', 'own', 'same', 'so', 'than', 'too', 'very', 's', 't', 'can', 'will', 'just', 'should', 'now', 'll']"
      ],
      "metadata": {
        "id": "6FP4FF3KXGxm"
      },
      "execution_count": null,
      "outputs": []
    },
    {
      "cell_type": "code",
      "source": [],
      "metadata": {
        "id": "CD8yjyq1ZrwY"
      },
      "execution_count": null,
      "outputs": []
    },
    {
      "cell_type": "code",
      "source": [],
      "metadata": {
        "id": "4ZPi5prKZro5"
      },
      "execution_count": null,
      "outputs": []
    },
    {
      "cell_type": "markdown",
      "source": [
        "*   **Comentarios**\n",
        "\n",
        "Incluye finalmente tus comentarios de la actividad."
      ],
      "metadata": {
        "id": "NDbKkuxRbLoX"
      }
    },
    {
      "cell_type": "markdown",
      "source": [
        "<< incluye aquí tus comentarios >>"
      ],
      "metadata": {
        "id": "o7fzbvqVbUGr"
      }
    },
    {
      "cell_type": "markdown",
      "source": [
        "##**Fin de la Actividad de la semana 2.**"
      ],
      "metadata": {
        "id": "PHaKw_6Ldbaf"
      }
    }
  ]
}