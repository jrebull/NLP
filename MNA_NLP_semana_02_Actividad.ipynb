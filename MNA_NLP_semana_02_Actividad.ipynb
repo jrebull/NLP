{
  "nbformat": 4,
  "nbformat_minor": 0,
  "metadata": {
    "colab": {
      "provenance": [],
      "collapsed_sections": [
        "759SG4TyfbUn",
        "Zj-h4drXD-X9",
        "BY6yifxscfrx",
        "k_ewoagic5jc",
        "70StdqAZa9E9"
      ],
      "include_colab_link": true
    },
    "kernelspec": {
      "name": "python3",
      "display_name": "Python 3"
    },
    "language_info": {
      "name": "python"
    }
  },
  "cells": [
    {
      "cell_type": "markdown",
      "metadata": {
        "id": "view-in-github",
        "colab_type": "text"
      },
      "source": [
        "<a href=\"https://colab.research.google.com/github/jrebull/NLP/blob/main/MNA_NLP_semana_02_Actividad.ipynb\" target=\"_parent\"><img src=\"https://colab.research.google.com/assets/colab-badge.svg\" alt=\"Open In Colab\"/></a>"
      ]
    },
    {
      "cell_type": "markdown",
      "source": [
        "#**Maestría en Inteligencia Artificial Aplicada**\n",
        "##**Curso: Procesamiento de Lenguaje Natural (NLP)**\n",
        "###Tecnológico de Monterrey\n",
        "###Prof Luis Eduardo Falcón Morales\n",
        "\n",
        "## **Adtividad de la Semana 02**\n",
        "###**Introducción al procesamiento de texto.**"
      ],
      "metadata": {
        "id": "759SG4TyfbUn"
      }
    },
    {
      "cell_type": "markdown",
      "source": [
        "En esta actividad deberás utilizar los datos del siguiente archivo que se encuentra en Canvas:\n",
        "\n",
        "MNA_NLP_semana_02_Actividad_datos.txt\n",
        "\n",
        "El archivo contiene comentarios en inglés sobre servicios de comida de la página de Yelp: https://www.yelp.com/ .\n",
        "\n",
        "Son mil comentarios y forman parte del conjunto de datos que se encuentra en el Machine Learning Repository de la UCI, llamado \"Sentiment Labelled Sentences\": https://archive.ics.uci.edu/ml/datasets/Sentiment+Labelled+Sentences#\n"
      ],
      "metadata": {
        "id": "6ue1YAKx3XDo"
      }
    },
    {
      "cell_type": "markdown",
      "source": [
        "#**Parte 1. Cargamos los datos.**   "
      ],
      "metadata": {
        "id": "Zj-h4drXD-X9"
      }
    },
    {
      "cell_type": "markdown",
      "source": [
        "Cargar los datos del archivo indicado y obtener una lista de longitud de 1000 strings/comentarios.\n",
        "\n",
        "Por el momento solamente requerimos las bibliotecas de Numpy y re, para el manejo de los arreglos y de las expresiones regulares en Python.\n",
        "\n",
        "En particular, no necesitarás en esta actividad la biblioteca de Pandas.\n",
        "\n",
        "###**NOTA: En esta actividad no debes importar nada más, con estas dos bibliotecas será *suficiente*.**"
      ],
      "metadata": {
        "id": "BY6yifxscfrx"
      }
    },
    {
      "cell_type": "code",
      "source": [
        "# --- Importación de Librerías ---\n",
        "\n",
        "import numpy as np\n",
        "# Explicación Detallada de NumPy (np):\n",
        "# ------------------------------------\n",
        "# Nombre Completo: NumPy (Numerical Python).\n",
        "# Alias Común: np (convención estándar en la comunidad Python).\n",
        "#\n",
        "# Propósito Principal:\n",
        "# Es la librería fundamental para la computación científica y numérica en Python.\n",
        "# Su principal característica es el objeto 'ndarray' (N-dimensional array),\n",
        "# una estructura de datos muy eficiente para almacenar y manipular grandes\n",
        "# conjuntos de datos numéricos de forma homogénea (todos del mismo tipo).\n",
        "#\n",
        "# ¿Por qué usar NumPy en lugar de listas de Python para números?\n",
        "# - Rendimiento: Las operaciones matemáticas (suma, resta, multiplicación, etc.)\n",
        "#   sobre arrays NumPy son significativamente más rápidas porque muchas están\n",
        "#   implementadas en C/Fortran y optimizadas a bajo nivel.\n",
        "# - Memoria: Generalmente usan menos memoria que las listas para el mismo volumen de datos numéricos.\n",
        "# - Funcionalidad Rica: Ofrece un vasto conjunto de funciones matemáticas incorporadas:\n",
        "#   - Operaciones de Álgebra Lineal (matrices, vectores).\n",
        "#   - Estadísticas (media, mediana, desviación estándar).\n",
        "#   - Generación de números aleatorios.\n",
        "#   - Transformadas (Fourier), etc.\n",
        "# - Vectorización: Permite aplicar operaciones a arrays enteros sin escribir bucles 'for'\n",
        "#   explícitos en Python, resultando en código más conciso, legible y rápido.\n",
        "#   Ej: `resultado = array1 * 2 + array2`\n",
        "#\n",
        "# Relevancia para el Análisis de Texto:\n",
        "# Aunque no manipula texto directamente, es crucial para:\n",
        "#   - Representar características extraídas del texto como vectores o matrices numéricas\n",
        "#     (ej: conteos de palabras, TF-IDF, embeddings de palabras).\n",
        "#   - Realizar cálculos matemáticos o estadísticos sobre estas representaciones numéricas.\n",
        "#   - Servir de base para otras librerías de ciencia de datos y Machine Learning (Pandas, Scikit-learn).\n",
        "#\n",
        "# En resumen: Importamos NumPy para el manejo eficiente y potente de arreglos/arrays/matrices\n",
        "# numéricas y las operaciones matemáticas optimizadas sobre ellos.\n",
        "\n",
        "import re\n",
        "# Explicación Detallada de re (Regular Expressions):\n",
        "# -------------------------------------------------\n",
        "# Nombre Completo: re (Módulo de Expresiones Regulares).\n",
        "# Alias Común: No se suele usar alias, se importa directamente como 're'. Es un módulo incorporado en Python.\n",
        "#\n",
        "# Propósito Principal:\n",
        "# Proporciona funcionalidades para trabajar con Expresiones Regulares (regex).\n",
        "# Las regex son secuencias de caracteres especiales que definen patrones de búsqueda\n",
        "# dentro de cadenas de texto (strings). Son extremadamente potentes y flexibles.\n",
        "#\n",
        "# ¿Para qué usar 're' en el procesamiento de comentarios/texto?\n",
        "# - Búsqueda Compleja: Encontrar texto que coincide con patrones específicos, más allá de palabras exactas.\n",
        "#   Ej: buscar fechas (DD/MM/AAAA), emails, URLs, palabras que empiezan con mayúscula,\n",
        "#   palabras con signos de admiración repetidos (como en ejercicios anteriores).\n",
        "# - Validación de Formatos: Comprobar si un texto cumple una estructura definida (ej: DNI, teléfono).\n",
        "# - Extracción de Información: Sacar datos específicos del texto que coincidan con un patrón.\n",
        "#   Ej: extraer todos los hashtags (#tag), menciones (@usuario), o números de teléfono de un texto.\n",
        "# - Limpieza y Sustitución: Reemplazar todas las partes de un texto que coincidan con un patrón.\n",
        "#   Ej: eliminar etiquetas HTML, reemplazar múltiples espacios por uno solo, anonimizar datos sensibles.\n",
        "# - División (Splitting): Dividir un texto en partes usando un patrón como delimitador.\n",
        "#   Ej: separar frases usando cualquier signo de puntuación como separador.\n",
        "#\n",
        "# Funciones Clave Comunes:\n",
        "# - `re.search(patron, texto)`: Busca la primera ocurrencia del patrón en cualquier parte del texto.\n",
        "# - `re.match(patron, texto)`: Busca el patrón solo al principio del texto.\n",
        "# - `re.findall(patron, texto)`: Encuentra TODAS las ocurrencias no superpuestas y las devuelve como una lista.\n",
        "# - `re.sub(patron, reemplazo, texto)`: Sustituye las ocurrencias del patrón por el texto de reemplazo.\n",
        "# - `re.split(patron, texto)`: Divide el texto usando las ocurrencias del patrón como delimitadores.\n",
        "#\n",
        "# En resumen: Importamos 're' para poder definir patrones de búsqueda muy precisos y flexibles\n",
        "# (expresiones regulares) y usarlos para encontrar, extraer, validar o modificar información\n",
        "# específica dentro de los comentarios o cualquier otro texto. Es una herramienta fundamental\n",
        "# para la limpieza y el análisis detallado de datos textuales."
      ],
      "metadata": {
        "id": "OJ26dAfhdFnf"
      },
      "execution_count": 2,
      "outputs": []
    },
    {
      "cell_type": "code",
      "source": [
        "import gdown         # Para descargar archivos de Google Drive\n",
        "\n",
        "# ID del archivo en Google Drive (entre /d/ y /view)\n",
        "file_id = \"1c90HVx3GYb9nnB90ICMlcF-hV9GhhxAG\"\n",
        "PATH    = \"MNA_NLP_semana_02_Actividad_datos.txt\"\n",
        "\n",
        "print(\"🚀 Descargando el conjunto de datos con gdown por ID... ¡Por favor espera! 🚀\")\n",
        "# Descarga el archivo de Google Drive\n",
        "gdown.download(id=file_id, output=PATH, quiet=False)\n",
        "\n",
        "# Lee el archivo descargado\n",
        "with open(PATH,        # usando la misma RUTA de la descarga\n",
        "          mode='r',    # abre el archivo en modo lectura\n",
        "          ) as f:\n",
        "    docs = f.readlines()    # separa cada comentario por líneas\n",
        "\n",
        "f.close()  # cierra el archivo ya que tenemos la info en la variable docs"
      ],
      "metadata": {
        "id": "yk_3gluZuOEv",
        "outputId": "929f9270-2cdb-4ed0-9c12-056ccb67df16",
        "colab": {
          "base_uri": "https://localhost:8080/"
        }
      },
      "execution_count": 3,
      "outputs": [
        {
          "output_type": "stream",
          "name": "stdout",
          "text": [
            "🚀 Descargando el conjunto de datos con gdown por ID... ¡Por favor espera! 🚀\n"
          ]
        },
        {
          "output_type": "stream",
          "name": "stderr",
          "text": [
            "Downloading...\n",
            "From: https://drive.google.com/uc?id=1c90HVx3GYb9nnB90ICMlcF-hV9GhhxAG\n",
            "To: /content/MNA_NLP_semana_02_Actividad_datos.txt\n",
            "100%|██████████| 59.9k/59.9k [00:00<00:00, 12.3MB/s]\n"
          ]
        }
      ]
    },
    {
      "cell_type": "code",
      "source": [
        "# Explicación de: type(docs) == list\n",
        "#-------------------------------------------------\n",
        "# Propósito: Verifica si la variable 'docs' almacena *exactamente* un objeto del tipo 'list'.\n",
        "# Cómo:\n",
        "#   - 'type(docs)' obtiene el tipo de dato actual del contenido de 'docs'.\n",
        "#   - '== list' compara ese tipo con el tipo 'list' incorporado de Python.\n",
        "# Resultado: Es 'True' si 'docs' es una lista, y 'False' si es cualquier otro tipo (str, int, dict, etc.).\n",
        "# Uso Típico: Asegurarse de que 'docs' es una lista antes de intentar operaciones específicas de listas\n",
        "#             (como iterar, usar índices 'docs[i]', o métodos como '.append()'), para prevenir errores.\n",
        "type(docs) == list"
      ],
      "metadata": {
        "id": "L6WzrSrodG-Y",
        "outputId": "245a2239-8c12-4375-fc73-bc9881df7fd6",
        "colab": {
          "base_uri": "https://localhost:8080/"
        }
      },
      "execution_count": 7,
      "outputs": [
        {
          "output_type": "execute_result",
          "data": {
            "text/plain": [
              "True"
            ]
          },
          "metadata": {},
          "execution_count": 7
        }
      ]
    },
    {
      "cell_type": "code",
      "source": [
        "# Explicación concisa de: len(docs) == 1000\n",
        "#-------------------------------------------\n",
        "# Propósito: Verifica si la variable 'docs' contiene exactamente mil elementos.\n",
        "# Cómo:\n",
        "#   - 'len(docs)': La función 'len()' devuelve el número de ítems que hay dentro\n",
        "#     del objeto 'docs' (asumiendo que es una secuencia como lista, tupla, string,\n",
        "#     o una colección como diccionario/set). Si 'docs' es una lista de comentarios,\n",
        "#     esto cuenta cuántos comentarios hay.\n",
        "#   - '== 1000': Compara si ese número de elementos es igual a 1000.\n",
        "# Resultado: Es 'True' si 'docs' tiene una longitud de 1000, y 'False' en cualquier otro caso.\n",
        "# Uso Típico: Validar que la cantidad de datos (ej: comentarios) en 'docs' cumple\n",
        "#             con un tamaño esperado o requerido (aquí, exactamente 1000).\n",
        "len(docs) == 1000"
      ],
      "metadata": {
        "id": "QIK1u9WS2FtS",
        "outputId": "5695b56c-53db-4e70-e81d-76b64119439e",
        "colab": {
          "base_uri": "https://localhost:8080/"
        }
      },
      "execution_count": 10,
      "outputs": [
        {
          "output_type": "execute_result",
          "data": {
            "text/plain": [
              "True"
            ]
          },
          "metadata": {},
          "execution_count": 10
        }
      ]
    },
    {
      "cell_type": "code",
      "source": [
        "docs[0:10]     # observa algunos de los primeros comentarios"
      ],
      "metadata": {
        "id": "9AMLIfQvJqNZ",
        "outputId": "85c8a8b9-578a-4d5a-ecc9-97e7a31146d5",
        "colab": {
          "base_uri": "https://localhost:8080/"
        }
      },
      "execution_count": 5,
      "outputs": [
        {
          "output_type": "execute_result",
          "data": {
            "text/plain": [
              "['Wow... Loved this place.\\n',\n",
              " 'Crust is not good.\\n',\n",
              " 'Not tasty and the texture was just nasty.\\n',\n",
              " 'Stopped by during the late May bank holiday off Rick Steve recommendation and loved it.\\n',\n",
              " 'The selection on the menu was great and so were the prices.\\n',\n",
              " 'Now I am getting angry and I want my damn pho.\\n',\n",
              " \"Honeslty it didn't taste THAT fresh.)\\n\",\n",
              " 'The potatoes were like rubber and you could tell they had been made up ahead of time being kept under a warmer.\\n',\n",
              " 'The fries were great too.\\n',\n",
              " 'A great touch.\\n']"
            ]
          },
          "metadata": {},
          "execution_count": 5
        }
      ]
    },
    {
      "cell_type": "markdown",
      "source": [
        "#**Parte 2: sección de preguntas (regex).**   \n"
      ],
      "metadata": {
        "id": "k_ewoagic5jc"
      }
    },
    {
      "cell_type": "markdown",
      "source": [
        "##**Instrucciones:**\n",
        "\n",
        "###**A continuación deberás contestar cada una de las preguntas que te piden usando expresiones regulares (regex).**\n",
        "\n",
        "###**Por el momento no hay restricción en cuanto al número de líneas de código que agregues, pero trata de incluir las mínimas posibles.**"
      ],
      "metadata": {
        "id": "X-eMJa3DFCIV"
      }
    },
    {
      "cell_type": "markdown",
      "source": [
        "*   **Pregunta 1.**\n",
        "\n",
        "Busca y elimina todos los saltos de línea '\\n' que se encuentran al final de cada comentario.\n",
        "\n",
        "Una vez finalizado, imprime los primeros 10 comentarios del resultado obtenido.\n"
      ],
      "metadata": {
        "id": "78nJMemzn5a5"
      }
    },
    {
      "cell_type": "code",
      "source": [
        "# Elimina los saltos de línea al final de cada comentario usando regex\n",
        "docsLimpios = [re.sub(r'\\n$', '', comentario) for comentario in docs]"
      ],
      "metadata": {
        "id": "PwbYYIuZn8pE"
      },
      "execution_count": 6,
      "outputs": []
    },
    {
      "cell_type": "code",
      "source": [
        "# Imprime una línea en blanco seguida de una línea de 50 asteriscos (*) como separador superior.\n",
        "print(\"\\n\" + \"*\" * 50)\n",
        "\n",
        "# Imprime el texto del título (\"🔍 Análisis de los 10 Primeros Comentarios 📜\") centrado en un espacio de 50 caracteres.\n",
        "print(\"🔍 Análisis de los 10 Primeros Comentarios 📜\".center(50))\n",
        "\n",
        "# Imprime otra línea de 50 asteriscos (*) como separador inferior para el encabezado.\n",
        "print(\"*\" * 50)\n",
        "\n",
        "# Inicia un bucle 'for' que itera sobre los primeros 10 elementos de la lista 'docs_limpios'.\n",
        "# 'enumerate(..., 1)' genera pares de (índice, elemento), comenzando el índice desde 1.\n",
        "# 'i' guardará el número del comentario (1, 2, 3,... hasta 10).\n",
        "# 'comentario' guardará el texto del comentario actual en cada iteración.\n",
        "for i, comentario in enumerate(docsLimpios[:10], 1):\n",
        "    # Dentro del bucle, para cada comentario:\n",
        "    # Imprime una cadena formateada (f-string).\n",
        "    # - \"🔹 \": Un emoji de punto azul.\n",
        "    # - \"{i:02d}\": El número del comentario 'i', formateado para tener siempre 2 dígitos (ej: 01, 02, ..., 10).\n",
        "    # - \" | \": Un separador vertical.\n",
        "    # - \"{comentario}\": El texto del comentario actual.\n",
        "    print(f\"🔹 {i:02d} | {comentario}\")\n",
        "\n",
        "# Después de que el bucle ha terminado (se han impreso los 10 comentarios):\n",
        "# Imprime una línea separadora hecha de 50 guiones (-).\n",
        "print(\"-\" * 50)\n",
        "\n",
        "# Imprime un mensaje final (\"✅ ¡Listo! Aquí tienes el top 10. ✅\") centrado en un espacio de 50 caracteres.\n",
        "print(\"✅ ¡Listo! Aquí tienes el top 10. ✅\".center(50))\n",
        "\n",
        "# Imprime una línea final de 50 asteriscos (*) para cerrar el bloque de salida.\n",
        "print(\"*\" * 50)"
      ],
      "metadata": {
        "id": "G_aqCxaN0TLp",
        "outputId": "74551489-035c-4eac-b399-563c34af2c04",
        "colab": {
          "base_uri": "https://localhost:8080/"
        }
      },
      "execution_count": 7,
      "outputs": [
        {
          "output_type": "stream",
          "name": "stdout",
          "text": [
            "\n",
            "**************************************************\n",
            "   🔍 Análisis de los 10 Primeros Comentarios 📜    \n",
            "**************************************************\n",
            "🔹 01 | Wow... Loved this place.\n",
            "🔹 02 | Crust is not good.\n",
            "🔹 03 | Not tasty and the texture was just nasty.\n",
            "🔹 04 | Stopped by during the late May bank holiday off Rick Steve recommendation and loved it.\n",
            "🔹 05 | The selection on the menu was great and so were the prices.\n",
            "🔹 06 | Now I am getting angry and I want my damn pho.\n",
            "🔹 07 | Honeslty it didn't taste THAT fresh.)\n",
            "🔹 08 | The potatoes were like rubber and you could tell they had been made up ahead of time being kept under a warmer.\n",
            "🔹 09 | The fries were great too.\n",
            "🔹 10 | A great touch.\n",
            "--------------------------------------------------\n",
            "        ✅ ¡Listo! Aquí tienes el top 10. ✅        \n",
            "**************************************************\n"
          ]
        }
      ]
    },
    {
      "cell_type": "markdown",
      "source": [
        "*   **Pregunta 2.**  \n",
        "\n",
        "Busca e imprime todas las palabras que terminan con dos o más signos de admiración seguidos, por ejemplo \"!!!\".\n",
        "\n",
        "Debes imprimir tanto la palabra como la totalidad de signos de admiración que le siguen.\n",
        "\n",
        "Indica cuántos resultados obtuviste.\n",
        "\n"
      ],
      "metadata": {
        "id": "VWeKQC93ctEo"
      }
    },
    {
      "cell_type": "code",
      "source": [
        "# Busca palabras que terminan con dos o más signos de admiración\n",
        "patron = r'[A-Za-z]+!{2,}'  # Coincide con letras seguidas de 2+ signos de admiración\n",
        "resultados = []\n",
        "\n",
        "for comentario in docs_limpios:\n",
        "    coincidencias = re.findall(patron, comentario)\n",
        "    resultados.extend(coincidencias)"
      ],
      "metadata": {
        "id": "0p3kMXfddICc"
      },
      "execution_count": 8,
      "outputs": []
    },
    {
      "cell_type": "code",
      "source": [
        "# --- Código Mejorado y Comentado ---\n",
        "\n",
        "# Imprime una línea en blanco (\\n) para separar visualmente, seguida de\n",
        "# una línea decorativa con un emoji de chispa ✨, 46 signos de igual (=), y otra chispa ✨.\n",
        "print(\"\\n\" + \"✨\" + \"=\"*46 + \"✨\")\n",
        "\n",
        "# Imprime el título del reporte. Se usan emojis ❗ para resaltar el tema.\n",
        "# .center(50) centra el texto dentro de un espacio de 50 caracteres de ancho.\n",
        "print(\"❗ Palabras con !!+ Encontradas ❗\".center(50))\n",
        "\n",
        "# Imprime otra línea decorativa, idéntica a la primera, para cerrar el bloque del título.\n",
        "print(\"✨\" + \"=\"*46 + \"✨\")\n",
        "\n",
        "# Inicia un bucle 'for' que recorrerá la lista 'resultados'.\n",
        "# 'enumerate(resultados, 1)' genera un contador 'i' (empezando desde 1) y\n",
        "# el elemento 'palabra' correspondiente en cada paso del bucle.\n",
        "for i, palabra in enumerate(resultados, 1):\n",
        "    # Dentro del bucle, para cada 'palabra' en 'resultados':\n",
        "    # Prepara la etiqueta del resultado: emoji 🔸, número 'i' formateado a 2 dígitos (01, 02...), y ':'.\n",
        "    etiqueta = f\"🔸 {i:02d}:\"\n",
        "    # Imprime la etiqueta alineada a la izquierda en un espacio de 12 caracteres (.ljust(12))\n",
        "    # y luego concatena (+) la 'palabra' encontrada.\n",
        "    print(etiqueta.ljust(12) + f\"{palabra}\")\n",
        "\n",
        "# Una vez que el bucle 'for' ha terminado de procesar todos los resultados:\n",
        "# Imprime una línea decorativa final, similar a las del encabezado.\n",
        "print(\"✨\" + \"=\"*46 + \"✨\")\n",
        "\n",
        "# Imprime un mensaje resumen indicando el número total de resultados.\n",
        "# Se usa un f-string para insertar la cantidad de elementos en la lista 'resultados' (len(resultados)).\n",
        "# Se añaden emojis 🔢 y 🎉 para hacerlo más visual y indicar finalización.\n",
        "# Se centra el mensaje en 50 caracteres.\n",
        "print(f\"🔢 Total de resultados encontrados: {len(resultados)} 🎉\".center(50))\n",
        "\n",
        "# Imprime una línea final simple de 50 signos de igual, como cierre del bloque de salida.\n",
        "print(\"=\"*50)"
      ],
      "metadata": {
        "id": "SPVM1MCWdH6Z",
        "outputId": "5011f6a6-7f10-4f12-e518-e5329673834d",
        "colab": {
          "base_uri": "https://localhost:8080/"
        }
      },
      "execution_count": 9,
      "outputs": [
        {
          "output_type": "stream",
          "name": "stdout",
          "text": [
            "\n",
            "✨==============================================✨\n",
            "         ❗ Palabras con !!+ Encontradas ❗         \n",
            "✨==============================================✨\n",
            "🔸 01:       Firehouse!!!!!\n",
            "🔸 02:       APPETIZERS!!!\n",
            "🔸 03:       amazing!!!\n",
            "🔸 04:       buffet!!!\n",
            "🔸 05:       good!!\n",
            "🔸 06:       it!!!!\n",
            "🔸 07:       DELICIOUS!!\n",
            "🔸 08:       amazing!!\n",
            "🔸 09:       shawarrrrrrma!!!!!!\n",
            "🔸 10:       yucky!!!\n",
            "🔸 11:       steak!!!!!\n",
            "🔸 12:       delicious!!!\n",
            "🔸 13:       far!!\n",
            "🔸 14:       biscuits!!!\n",
            "🔸 15:       dry!!\n",
            "🔸 16:       disappointing!!!\n",
            "🔸 17:       awesome!!\n",
            "🔸 18:       Up!!\n",
            "🔸 19:       FLY!!!!!!!!\n",
            "🔸 20:       here!!!\n",
            "🔸 21:       great!!!!!!!!!!!!!!\n",
            "🔸 22:       packed!!\n",
            "🔸 23:       otherwise!!\n",
            "🔸 24:       amazing!!!!!!!!!!!!!!!!!!!\n",
            "🔸 25:       style!!\n",
            "🔸 26:       disappointed!!\n",
            "✨==============================================✨\n",
            "     🔢 Total de resultados encontrados: 26 🎉      \n",
            "==================================================\n"
          ]
        }
      ]
    },
    {
      "cell_type": "markdown",
      "source": [
        "*   **Pregunta 3.**  \n",
        "\n",
        "Busca e imprime todas las palabras que están escritas totalmente en mayúsculas. Cada coincidencia debe ser una sola palabra.\n",
        "\n",
        "Indica cuántas palabras encontraste.\n",
        "\n"
      ],
      "metadata": {
        "id": "-s3okBqL96TT"
      }
    },
    {
      "cell_type": "code",
      "source": [
        "# Busca palabras escritas totalmente en mayúsculas\n",
        "patron = r'\\b[A-Z]+\\b'\n",
        "resultadosMayusculas = []\n",
        "\n",
        "for comentario in docs_limpios:\n",
        "    coincidencias = re.findall(patron, comentario)\n",
        "    resultadosMayusculas.extend(coincidencias)"
      ],
      "metadata": {
        "id": "yKHJkZKo_nW5"
      },
      "execution_count": 10,
      "outputs": []
    },
    {
      "cell_type": "code",
      "source": [
        "# Imprime una línea en blanco (\\n) para añadir espacio vertical antes del reporte.\n",
        "# Luego, imprime una línea decorativa superior: emoji ⬆️, 46 caracteres '═' (línea doble Unicode), emoji ⬆️.\n",
        "print(\"\\n\" + \"⬆️\" + \"═\"*46 + \"⬆️\")\n",
        "\n",
        "# Imprime el título principal: \"📣 Palabras en MAYÚSCULAS Encontradas 📣\".\n",
        "# El método .center(50) asegura que el título quede centrado en un ancho de 50 caracteres.\n",
        "print(\"📣 Palabras en MAYÚSCULAS Encontradas 📣\".center(50))\n",
        "\n",
        "# Imprime una segunda línea decorativa, idéntica a la primera, para enmarcar el título.\n",
        "print(\"⬆️\" + \"═\"*46 + \"⬆️\")\n",
        "\n",
        "# Inicia un bucle 'for' que itera sobre cada elemento de la lista 'resultados'.\n",
        "# 'enumerate(resultados, 1)' genera un par (índice, elemento) para cada ítem.\n",
        "# 'i' toma el valor del índice (comenzando desde 1 gracias al segundo argumento de enumerate).\n",
        "# 'palabra' toma el valor del elemento (la palabra en mayúsculas) en la iteración actual.\n",
        "for i, palabra in enumerate(resultadosMayusculas, 1):\n",
        "    # Dentro del bucle, para cada 'palabra':\n",
        "    # Prepara la etiqueta inicial: emoji 🅰️, el índice 'i' formateado a 2 dígitos (e.g., 01, 02...), y dos puntos ':'.\n",
        "    etiqueta = f\"🅰️ {i:02d}:\"\n",
        "    # Imprime la etiqueta, alineada a la izquierda dentro de un espacio de 13 caracteres (.ljust(13)).\n",
        "    # A continuación, concatena (+) la 'palabra' correspondiente.\n",
        "    print(etiqueta.ljust(13) + f\"{palabra}\")\n",
        "\n",
        "# Una vez que el bucle ha terminado de imprimir todas las palabras:\n",
        "# Imprime una línea decorativa final, igual a las usadas en el encabezado.\n",
        "print(\"⬆️\" + \"═\"*46 + \"⬆️\")\n",
        "\n",
        "# Imprime un mensaje resumen que indica el total de palabras encontradas.\n",
        "# Usa un f-string para incrustar el número de elementos en 'resultados' (calculado con len(resultados)).\n",
        "# Se añaden emojis 🔢 y ✨ para decorar y resaltar la información del conteo.\n",
        "# .center(50) centra este mensaje final.\n",
        "print(f\"🔢 Total de palabras en mayúsculas: {len(resultadosMayusculas)} ✨\".center(50))\n",
        "\n",
        "# Imprime una línea final simple de 50 signos de igual (=), como cierre visual opcional.\n",
        "print(\"=\"*50)"
      ],
      "metadata": {
        "id": "L3q08aq69sNn",
        "outputId": "5481c15c-ac37-445a-9123-13b80666df05",
        "colab": {
          "base_uri": "https://localhost:8080/"
        }
      },
      "execution_count": 11,
      "outputs": [
        {
          "output_type": "stream",
          "name": "stdout",
          "text": [
            "\n",
            "⬆️══════════════════════════════════════════════⬆️\n",
            "      📣 Palabras en MAYÚSCULAS Encontradas 📣      \n",
            "⬆️══════════════════════════════════════════════⬆️\n",
            "🅰️ 01:       I\n",
            "🅰️ 02:       I\n",
            "🅰️ 03:       THAT\n",
            "🅰️ 04:       A\n",
            "🅰️ 05:       I\n",
            "🅰️ 06:       I\n",
            "🅰️ 07:       I\n",
            "🅰️ 08:       I\n",
            "🅰️ 09:       I\n",
            "🅰️ 10:       I\n",
            "🅰️ 11:       I\n",
            "🅰️ 12:       I\n",
            "🅰️ 13:       I\n",
            "🅰️ 14:       I\n",
            "🅰️ 15:       I\n",
            "🅰️ 16:       I\n",
            "🅰️ 17:       APPETIZERS\n",
            "🅰️ 18:       A\n",
            "🅰️ 19:       I\n",
            "🅰️ 20:       I\n",
            "🅰️ 21:       I\n",
            "🅰️ 22:       I\n",
            "🅰️ 23:       I\n",
            "🅰️ 24:       I\n",
            "🅰️ 25:       I\n",
            "🅰️ 26:       WILL\n",
            "🅰️ 27:       NEVER\n",
            "🅰️ 28:       EVER\n",
            "🅰️ 29:       STEP\n",
            "🅰️ 30:       FORWARD\n",
            "🅰️ 31:       IN\n",
            "🅰️ 32:       IT\n",
            "🅰️ 33:       AGAIN\n",
            "🅰️ 34:       I\n",
            "🅰️ 35:       LOVED\n",
            "🅰️ 36:       I\n",
            "🅰️ 37:       AND\n",
            "🅰️ 38:       REAL\n",
            "🅰️ 39:       I\n",
            "🅰️ 40:       I\n",
            "🅰️ 41:       I\n",
            "🅰️ 42:       I\n",
            "🅰️ 43:       BITCHES\n",
            "🅰️ 44:       I\n",
            "🅰️ 45:       I\n",
            "🅰️ 46:       I\n",
            "🅰️ 47:       I\n",
            "🅰️ 48:       NYC\n",
            "🅰️ 49:       I\n",
            "🅰️ 50:       I\n",
            "🅰️ 51:       I\n",
            "🅰️ 52:       I\n",
            "🅰️ 53:       I\n",
            "🅰️ 54:       I\n",
            "🅰️ 55:       I\n",
            "🅰️ 56:       STALE\n",
            "🅰️ 57:       I\n",
            "🅰️ 58:       I\n",
            "🅰️ 59:       DELICIOUS\n",
            "🅰️ 60:       I\n",
            "🅰️ 61:       I\n",
            "🅰️ 62:       I\n",
            "🅰️ 63:       I\n",
            "🅰️ 64:       I\n",
            "🅰️ 65:       I\n",
            "🅰️ 66:       I\n",
            "🅰️ 67:       I\n",
            "🅰️ 68:       I\n",
            "🅰️ 69:       I\n",
            "🅰️ 70:       I\n",
            "🅰️ 71:       I\n",
            "🅰️ 72:       I\n",
            "🅰️ 73:       I\n",
            "🅰️ 74:       I\n",
            "🅰️ 75:       WORST\n",
            "🅰️ 76:       EXPERIENCE\n",
            "🅰️ 77:       EVER\n",
            "🅰️ 78:       I\n",
            "🅰️ 79:       ALL\n",
            "🅰️ 80:       I\n",
            "🅰️ 81:       BARGAIN\n",
            "🅰️ 82:       I\n",
            "🅰️ 83:       TV\n",
            "🅰️ 84:       NONE\n",
            "🅰️ 85:       I\n",
            "🅰️ 86:       M\n",
            "🅰️ 87:       FREEZING\n",
            "🅰️ 88:       AYCE\n",
            "🅰️ 89:       I\n",
            "🅰️ 90:       I\n",
            "🅰️ 91:       I\n",
            "🅰️ 92:       I\n",
            "🅰️ 93:       I\n",
            "🅰️ 94:       I\n",
            "🅰️ 95:       I\n",
            "🅰️ 96:       I\n",
            "🅰️ 97:       I\n",
            "🅰️ 98:       I\n",
            "🅰️ 99:       I\n",
            "🅰️ 100:      I\n",
            "🅰️ 101:      I\n",
            "🅰️ 102:      FLAVOR\n",
            "🅰️ 103:      I\n",
            "🅰️ 104:      I\n",
            "🅰️ 105:      I\n",
            "🅰️ 106:      I\n",
            "🅰️ 107:      I\n",
            "🅰️ 108:      I\n",
            "🅰️ 109:      I\n",
            "🅰️ 110:      I\n",
            "🅰️ 111:      I\n",
            "🅰️ 112:      I\n",
            "🅰️ 113:      I\n",
            "🅰️ 114:      I\n",
            "🅰️ 115:      I\n",
            "🅰️ 116:      I\n",
            "🅰️ 117:      I\n",
            "🅰️ 118:      I\n",
            "🅰️ 119:      I\n",
            "🅰️ 120:      I\n",
            "🅰️ 121:      NEVER\n",
            "🅰️ 122:      I\n",
            "🅰️ 123:      I\n",
            "🅰️ 124:      I\n",
            "🅰️ 125:      I\n",
            "🅰️ 126:      BBQ\n",
            "🅰️ 127:      I\n",
            "🅰️ 128:      A\n",
            "🅰️ 129:      I\n",
            "🅰️ 130:      UNREAL\n",
            "🅰️ 131:      I\n",
            "🅰️ 132:      I\n",
            "🅰️ 133:      I\n",
            "🅰️ 134:      I\n",
            "🅰️ 135:      I\n",
            "🅰️ 136:      I\n",
            "🅰️ 137:      OMG\n",
            "🅰️ 138:      I\n",
            "🅰️ 139:      BETTER\n",
            "🅰️ 140:      I\n",
            "🅰️ 141:      I\n",
            "🅰️ 142:      BLAND\n",
            "🅰️ 143:      I\n",
            "🅰️ 144:      I\n",
            "🅰️ 145:      I\n",
            "🅰️ 146:      I\n",
            "🅰️ 147:      I\n",
            "🅰️ 148:      I\n",
            "🅰️ 149:      I\n",
            "🅰️ 150:      RUDE\n",
            "🅰️ 151:      INCONSIDERATE\n",
            "🅰️ 152:      MANAGEMENT\n",
            "🅰️ 153:      I\n",
            "🅰️ 154:      I\n",
            "🅰️ 155:      WILL\n",
            "🅰️ 156:      NEVER\n",
            "🅰️ 157:      EVER\n",
            "🅰️ 158:      GO\n",
            "🅰️ 159:      BACK\n",
            "🅰️ 160:      AND\n",
            "🅰️ 161:      HAVE\n",
            "🅰️ 162:      TOLD\n",
            "🅰️ 163:      MANY\n",
            "🅰️ 164:      PEOPLE\n",
            "🅰️ 165:      WHAT\n",
            "🅰️ 166:      HAD\n",
            "🅰️ 167:      HAPPENED\n",
            "🅰️ 168:      I\n",
            "🅰️ 169:      I\n",
            "🅰️ 170:      I\n",
            "🅰️ 171:      I\n",
            "🅰️ 172:      I\n",
            "🅰️ 173:      I\n",
            "🅰️ 174:      I\n",
            "🅰️ 175:      I\n",
            "🅰️ 176:      I\n",
            "🅰️ 177:      I\n",
            "🅰️ 178:      I\n",
            "🅰️ 179:      I\n",
            "🅰️ 180:      I\n",
            "🅰️ 181:      TOTAL\n",
            "🅰️ 182:      WASTE\n",
            "🅰️ 183:      OF\n",
            "🅰️ 184:      TIME\n",
            "🅰️ 185:      I\n",
            "🅰️ 186:      I\n",
            "🅰️ 187:      I\n",
            "🅰️ 188:      I\n",
            "🅰️ 189:      I\n",
            "🅰️ 190:      I\n",
            "🅰️ 191:      I\n",
            "🅰️ 192:      I\n",
            "🅰️ 193:      I\n",
            "🅰️ 194:      I\n",
            "🅰️ 195:      I\n",
            "🅰️ 196:      I\n",
            "🅰️ 197:      I\n",
            "🅰️ 198:      I\n",
            "🅰️ 199:      I\n",
            "🅰️ 200:      FS\n",
            "🅰️ 201:      I\n",
            "🅰️ 202:      I\n",
            "🅰️ 203:      I\n",
            "🅰️ 204:      I\n",
            "🅰️ 205:      I\n",
            "🅰️ 206:      I\n",
            "🅰️ 207:      I\n",
            "🅰️ 208:      I\n",
            "🅰️ 209:      I\n",
            "🅰️ 210:      AZ\n",
            "🅰️ 211:      I\n",
            "🅰️ 212:      I\n",
            "🅰️ 213:      I\n",
            "🅰️ 214:      I\n",
            "🅰️ 215:      LOVED\n",
            "🅰️ 216:      I\n",
            "🅰️ 217:      I\n",
            "🅰️ 218:      I\n",
            "🅰️ 219:      I\n",
            "🅰️ 220:      I\n",
            "🅰️ 221:      I\n",
            "🅰️ 222:      CONCLUSION\n",
            "🅰️ 223:      I\n",
            "🅰️ 224:      I\n",
            "🅰️ 225:      I\n",
            "🅰️ 226:      I\n",
            "🅰️ 227:      I\n",
            "🅰️ 228:      I\n",
            "🅰️ 229:      BEST\n",
            "🅰️ 230:      I\n",
            "🅰️ 231:      GO\n",
            "🅰️ 232:      NOW\n",
            "🅰️ 233:      A\n",
            "🅰️ 234:      I\n",
            "🅰️ 235:      I\n",
            "🅰️ 236:      GC\n",
            "🅰️ 237:      I\n",
            "🅰️ 238:      I\n",
            "🅰️ 239:      I\n",
            "🅰️ 240:      I\n",
            "🅰️ 241:      I\n",
            "🅰️ 242:      I\n",
            "🅰️ 243:      I\n",
            "🅰️ 244:      I\n",
            "🅰️ 245:      I\n",
            "🅰️ 246:      I\n",
            "🅰️ 247:      I\n",
            "🅰️ 248:      AVOID\n",
            "🅰️ 249:      THIS\n",
            "🅰️ 250:      ESTABLISHMENT\n",
            "🅰️ 251:      I\n",
            "🅰️ 252:      I\n",
            "🅰️ 253:      I\n",
            "🅰️ 254:      A\n",
            "🅰️ 255:      I\n",
            "🅰️ 256:      I\n",
            "🅰️ 257:      AN\n",
            "🅰️ 258:      HOUR\n",
            "🅰️ 259:      I\n",
            "🅰️ 260:      I\n",
            "🅰️ 261:      I\n",
            "🅰️ 262:      I\n",
            "🅰️ 263:      I\n",
            "🅰️ 264:      I\n",
            "🅰️ 265:      I\n",
            "🅰️ 266:      I\n",
            "🅰️ 267:      NASTY\n",
            "🅰️ 268:      OMG\n",
            "🅰️ 269:      I\n",
            "🅰️ 270:      I\n",
            "🅰️ 271:      NO\n",
            "🅰️ 272:      I\n",
            "🅰️ 273:      I\n",
            "🅰️ 274:      I\n",
            "🅰️ 275:      BEST\n",
            "🅰️ 276:      I\n",
            "🅰️ 277:      I\n",
            "🅰️ 278:      I\n",
            "🅰️ 279:      I\n",
            "🅰️ 280:      THE\n",
            "🅰️ 281:      OWNERS\n",
            "🅰️ 282:      REALLY\n",
            "🅰️ 283:      REALLY\n",
            "🅰️ 284:      I\n",
            "🅰️ 285:      I\n",
            "🅰️ 286:      I\n",
            "🅰️ 287:      I\n",
            "🅰️ 288:      I\n",
            "🅰️ 289:      I\n",
            "🅰️ 290:      I\n",
            "🅰️ 291:      I\n",
            "🅰️ 292:      I\n",
            "🅰️ 293:      I\n",
            "🅰️ 294:      I\n",
            "🅰️ 295:      I\n",
            "🅰️ 296:      PERFECT\n",
            "🅰️ 297:      SCREAMS\n",
            "🅰️ 298:      LEGIT\n",
            "🅰️ 299:      I\n",
            "🅰️ 300:      MGM\n",
            "🅰️ 301:      I\n",
            "🅰️ 302:      I\n",
            "🅰️ 303:      I\n",
            "🅰️ 304:      A\n",
            "🅰️ 305:      I\n",
            "🅰️ 306:      I\n",
            "🅰️ 307:      I\n",
            "🅰️ 308:      I\n",
            "🅰️ 309:      I\n",
            "🅰️ 310:      I\n",
            "🅰️ 311:      I\n",
            "🅰️ 312:      I\n",
            "🅰️ 313:      I\n",
            "🅰️ 314:      I\n",
            "🅰️ 315:      I\n",
            "🅰️ 316:      I\n",
            "🅰️ 317:      BEST\n",
            "🅰️ 318:      I\n",
            "🅰️ 319:      I\n",
            "🅰️ 320:      T\n",
            "🅰️ 321:      A\n",
            "🅰️ 322:      FLY\n",
            "🅰️ 323:      A\n",
            "🅰️ 324:      FLY\n",
            "🅰️ 325:      I\n",
            "🅰️ 326:      I\n",
            "🅰️ 327:      I\n",
            "🅰️ 328:      I\n",
            "🅰️ 329:      I\n",
            "🅰️ 330:      I\n",
            "🅰️ 331:      I\n",
            "🅰️ 332:      I\n",
            "🅰️ 333:      I\n",
            "🅰️ 334:      I\n",
            "🅰️ 335:      I\n",
            "🅰️ 336:      I\n",
            "🅰️ 337:      FANTASTIC\n",
            "🅰️ 338:      I\n",
            "🅰️ 339:      I\n",
            "🅰️ 340:      I\n",
            "🅰️ 341:      I\n",
            "🅰️ 342:      GREAT\n",
            "🅰️ 343:      OK\n",
            "🅰️ 344:      I\n",
            "🅰️ 345:      I\n",
            "🅰️ 346:      WAY\n",
            "🅰️ 347:      I\n",
            "🅰️ 348:      I\n",
            "🅰️ 349:      MUST\n",
            "🅰️ 350:      HAVE\n",
            "🅰️ 351:      I\n",
            "🅰️ 352:      I\n",
            "🅰️ 353:      I\n",
            "🅰️ 354:      I\n",
            "🅰️ 355:      I\n",
            "🅰️ 356:      I\n",
            "🅰️ 357:      OK\n",
            "🅰️ 358:      I\n",
            "🅰️ 359:      I\n",
            "🅰️ 360:      I\n",
            "🅰️ 361:      I\n",
            "🅰️ 362:      OVERPRICED\n",
            "🅰️ 363:      I\n",
            "🅰️ 364:      I\n",
            "🅰️ 365:      I\n",
            "🅰️ 366:      I\n",
            "🅰️ 367:      I\n",
            "🅰️ 368:      I\n",
            "🅰️ 369:      I\n",
            "🅰️ 370:      I\n",
            "🅰️ 371:      I\n",
            "🅰️ 372:      I\n",
            "🅰️ 373:      I\n",
            "🅰️ 374:      I\n",
            "🅰️ 375:      I\n",
            "🅰️ 376:      I\n",
            "🅰️ 377:      I\n",
            "🅰️ 378:      I\n",
            "🅰️ 379:      I\n",
            "🅰️ 380:      I\n",
            "🅰️ 381:      I\n",
            "🅰️ 382:      I\n",
            "🅰️ 383:      I\n",
            "🅰️ 384:      I\n",
            "🅰️ 385:      I\n",
            "🅰️ 386:      I\n",
            "🅰️ 387:      I\n",
            "🅰️ 388:      BARE\n",
            "🅰️ 389:      HANDS\n",
            "🅰️ 390:      I\n",
            "🅰️ 391:      I\n",
            "🅰️ 392:      I\n",
            "🅰️ 393:      I\n",
            "🅰️ 394:      I\n",
            "🅰️ 395:      I\n",
            "🅰️ 396:      I\n",
            "🅰️ 397:      I\n",
            "🅰️ 398:      I\n",
            "🅰️ 399:      I\n",
            "🅰️ 400:      I\n",
            "🅰️ 401:      I\n",
            "🅰️ 402:      I\n",
            "🅰️ 403:      I\n",
            "🅰️ 404:      I\n",
            "🅰️ 405:      WEAK\n",
            "🅰️ 406:      I\n",
            "🅰️ 407:      I\n",
            "🅰️ 408:      I\n",
            "🅰️ 409:      I\n",
            "🅰️ 410:      I\n",
            "🅰️ 411:      I\n",
            "🅰️ 412:      I\n",
            "🅰️ 413:      I\n",
            "🅰️ 414:      SHOULD\n",
            "🅰️ 415:      I\n",
            "🅰️ 416:      I\n",
            "🅰️ 417:      I\n",
            "🅰️ 418:      RI\n",
            "🅰️ 419:      I\n",
            "🅰️ 420:      I\n",
            "🅰️ 421:      I\n",
            "🅰️ 422:      I\n",
            "🅰️ 423:      I\n",
            "🅰️ 424:      I\n",
            "🅰️ 425:      I\n",
            "🅰️ 426:      VERY\n",
            "🅰️ 427:      I\n",
            "🅰️ 428:      I\n",
            "🅰️ 429:      I\n",
            "🅰️ 430:      NOT\n",
            "🅰️ 431:      I\n",
            "🅰️ 432:      I\n",
            "🅰️ 433:      I\n",
            "🅰️ 434:      I\n",
            "🅰️ 435:      I\n",
            "🅰️ 436:      I\n",
            "🅰️ 437:      I\n",
            "🅰️ 438:      I\n",
            "🅰️ 439:      I\n",
            "🅰️ 440:      I\n",
            "🅰️ 441:      I\n",
            "🅰️ 442:      I\n",
            "🅰️ 443:      I\n",
            "🅰️ 444:      I\n",
            "🅰️ 445:      I\n",
            "🅰️ 446:      I\n",
            "🅰️ 447:      I\n",
            "🅰️ 448:      I\n",
            "🅰️ 449:      A\n",
            "🅰️ 450:      I\n",
            "🅰️ 451:      I\n",
            "🅰️ 452:      I\n",
            "🅰️ 453:      I\n",
            "🅰️ 454:      I\n",
            "🅰️ 455:      I\n",
            "⬆️══════════════════════════════════════════════⬆️\n",
            "     🔢 Total de palabras en mayúsculas: 455 ✨     \n",
            "==================================================\n"
          ]
        }
      ]
    },
    {
      "cell_type": "code",
      "source": [
        "# --- Datos de Ejemplo (con duplicados intencionales) ---\n",
        "# Asumimos que esta es tu lista original que podría tener repetidas.\n",
        "resultadosMayusculasNoDups = resultadosMayusculas\n",
        "\n",
        "# --- Paso 1: Eliminar Duplicados ---\n",
        "# Convertimos la lista a un conjunto (set). Los conjuntos por definición\n",
        "# solo almacenan elementos únicos, eliminando así los duplicados.\n",
        "conjunto_unicos = set(resultadosMayusculasNoDups)\n",
        "\n",
        "# Convertimos el conjunto de nuevo a una lista para poder ordenarla o enumerarla fácilmente.\n",
        "# Nota: La conversión set -> list no garantiza el orden original.\n",
        "resultadosMayusculasNoDups = list(conjunto_unicos)\n",
        "\n",
        "# Opcional: Si deseas que la lista final esté ordenada alfabéticamente:\n",
        "resultadosMayusculasNoDups.sort()\n",
        "\n",
        "# --- Paso 2: Imprimir la Lista de Únicas Embellecida ---\n",
        "\n",
        "# Imprime una línea en blanco (\\n) y la línea decorativa superior.\n",
        "# Usamos ✨ y ═ (línea doble) para un toque distintivo.\n",
        "print(\"\\n\" + \"✨\" + \"═\"*46 + \"✨\")\n",
        "\n",
        "# Imprime el título, modificado para indicar que son palabras ÚNICAS, centrado.\n",
        "print(\"📣 Palabras ÚNICAS en MAYÚSCULAS 📣\".center(50))\n",
        "\n",
        "# Imprime la línea decorativa inferior del encabezado.\n",
        "print(\"✨\" + \"═\"*46 + \"✨\")\n",
        "\n",
        "# Inicia un bucle 'for' que itera sobre la NUEVA lista 'resultados_unicos'.\n",
        "# 'enumerate(..., 1)' proporciona el índice 'i' (desde 1) y la 'palabra'.\n",
        "for i, palabra in enumerate(resultadosMayusculasNoDups, 1):\n",
        "    # Prepara la etiqueta: emoji 🅰️, índice 'i' formateado a 2 dígitos, y ':'.\n",
        "    etiqueta = f\"🅰️ {i:02d}:\"\n",
        "    # Imprime la etiqueta alineada a la izquierda (.ljust(13)) seguida de la palabra única.\n",
        "    print(etiqueta.ljust(13) + f\"{palabra}\")\n",
        "\n",
        "# Imprime la línea decorativa después de listar todas las palabras únicas.\n",
        "print(\"✨\" + \"═\"*46 + \"✨\")\n",
        "\n",
        "# Imprime el resumen final, mostrando el número total de palabras ÚNICAS.\n",
        "# Usa len(resultados_unicos) para contar los elementos en la lista sin duplicados.\n",
        "# Añade emojis 🔢 y 🎉 y centra el texto.\n",
        "print(f\"🔢 Total de palabras únicas: {len(resultadosMayusculasNoDups)} 🎉\".center(50))\n",
        "\n",
        "# Imprime una línea simple de cierre opcional.\n",
        "print(\"=\"*50)\n",
        "\n",
        "# --- Nota sobre el orden (Python 3.7+) ---\n",
        "# Si necesitas mantener el orden en que apareció la palabra por primera vez,\n",
        "# puedes usar dict.fromkeys en lugar de set (para Python 3.7+):\n",
        "# resultados_unicos_ordenados = list(dict.fromkeys(resultados_originales))\n",
        "# Y luego usarías 'resultados_unicos_ordenados' en el bucle de impresión."
      ],
      "metadata": {
        "colab": {
          "base_uri": "https://localhost:8080/"
        },
        "id": "tznKTcA1GoL3",
        "outputId": "103c7f31-a563-4fe8-8071-d66a998f214c"
      },
      "execution_count": 12,
      "outputs": [
        {
          "output_type": "stream",
          "name": "stdout",
          "text": [
            "\n",
            "✨══════════════════════════════════════════════✨\n",
            "        📣 Palabras ÚNICAS en MAYÚSCULAS 📣         \n",
            "✨══════════════════════════════════════════════✨\n",
            "🅰️ 01:       A\n",
            "🅰️ 02:       AGAIN\n",
            "🅰️ 03:       ALL\n",
            "🅰️ 04:       AN\n",
            "🅰️ 05:       AND\n",
            "🅰️ 06:       APPETIZERS\n",
            "🅰️ 07:       AVOID\n",
            "🅰️ 08:       AYCE\n",
            "🅰️ 09:       AZ\n",
            "🅰️ 10:       BACK\n",
            "🅰️ 11:       BARE\n",
            "🅰️ 12:       BARGAIN\n",
            "🅰️ 13:       BBQ\n",
            "🅰️ 14:       BEST\n",
            "🅰️ 15:       BETTER\n",
            "🅰️ 16:       BITCHES\n",
            "🅰️ 17:       BLAND\n",
            "🅰️ 18:       CONCLUSION\n",
            "🅰️ 19:       DELICIOUS\n",
            "🅰️ 20:       ESTABLISHMENT\n",
            "🅰️ 21:       EVER\n",
            "🅰️ 22:       EXPERIENCE\n",
            "🅰️ 23:       FANTASTIC\n",
            "🅰️ 24:       FLAVOR\n",
            "🅰️ 25:       FLY\n",
            "🅰️ 26:       FORWARD\n",
            "🅰️ 27:       FREEZING\n",
            "🅰️ 28:       FS\n",
            "🅰️ 29:       GC\n",
            "🅰️ 30:       GO\n",
            "🅰️ 31:       GREAT\n",
            "🅰️ 32:       HAD\n",
            "🅰️ 33:       HANDS\n",
            "🅰️ 34:       HAPPENED\n",
            "🅰️ 35:       HAVE\n",
            "🅰️ 36:       HOUR\n",
            "🅰️ 37:       I\n",
            "🅰️ 38:       IN\n",
            "🅰️ 39:       INCONSIDERATE\n",
            "🅰️ 40:       IT\n",
            "🅰️ 41:       LEGIT\n",
            "🅰️ 42:       LOVED\n",
            "🅰️ 43:       M\n",
            "🅰️ 44:       MANAGEMENT\n",
            "🅰️ 45:       MANY\n",
            "🅰️ 46:       MGM\n",
            "🅰️ 47:       MUST\n",
            "🅰️ 48:       NASTY\n",
            "🅰️ 49:       NEVER\n",
            "🅰️ 50:       NO\n",
            "🅰️ 51:       NONE\n",
            "🅰️ 52:       NOT\n",
            "🅰️ 53:       NOW\n",
            "🅰️ 54:       NYC\n",
            "🅰️ 55:       OF\n",
            "🅰️ 56:       OK\n",
            "🅰️ 57:       OMG\n",
            "🅰️ 58:       OVERPRICED\n",
            "🅰️ 59:       OWNERS\n",
            "🅰️ 60:       PEOPLE\n",
            "🅰️ 61:       PERFECT\n",
            "🅰️ 62:       REAL\n",
            "🅰️ 63:       REALLY\n",
            "🅰️ 64:       RI\n",
            "🅰️ 65:       RUDE\n",
            "🅰️ 66:       SCREAMS\n",
            "🅰️ 67:       SHOULD\n",
            "🅰️ 68:       STALE\n",
            "🅰️ 69:       STEP\n",
            "🅰️ 70:       T\n",
            "🅰️ 71:       THAT\n",
            "🅰️ 72:       THE\n",
            "🅰️ 73:       THIS\n",
            "🅰️ 74:       TIME\n",
            "🅰️ 75:       TOLD\n",
            "🅰️ 76:       TOTAL\n",
            "🅰️ 77:       TV\n",
            "🅰️ 78:       UNREAL\n",
            "🅰️ 79:       VERY\n",
            "🅰️ 80:       WASTE\n",
            "🅰️ 81:       WAY\n",
            "🅰️ 82:       WEAK\n",
            "🅰️ 83:       WHAT\n",
            "🅰️ 84:       WILL\n",
            "🅰️ 85:       WORST\n",
            "✨══════════════════════════════════════════════✨\n",
            "         🔢 Total de palabras únicas: 85 🎉         \n",
            "==================================================\n"
          ]
        }
      ]
    },
    {
      "cell_type": "markdown",
      "source": [
        "*   **Pregunta 4.**  \n",
        "\n",
        "Busca e imprime los comentarios en donde todos los caracteres alfabéticos (letras) están en mayúsculas.\n",
        "\n",
        "Cada coincidencia encontrada debe ser todo el comentario/enunciado.\n",
        "\n",
        "Indica cuántos resultados obtuviste.\n"
      ],
      "metadata": {
        "id": "GX8eYyDoMZma"
      }
    },
    {
      "cell_type": "code",
      "source": [
        "# --- Datos de Ejemplo ---\n",
        "# Asegúrate de tener tu lista de comentarios. Usaremos esta como ejemplo:\n",
        "lista_comentarios = docs_limpios\n",
        "\n",
        "# --- Paso 1: Definir la función de comprobación ---\n",
        "# Esta función revisa si todos los caracteres alfabéticos (letras)\n",
        "# dentro de una cadena de texto dada están en mayúsculas.\n",
        "def todo_alfabetico_mayusculas(texto):\n",
        "    \"\"\"\n",
        "    Verifica si todas las letras en el 'texto' son mayúsculas.\n",
        "    Ignora caracteres no alfabéticos (números, espacios, símbolos).\n",
        "    Devuelve True si no hay letras minúsculas, False en caso contrario.\n",
        "    \"\"\"\n",
        "    # Recorre cada caracter en el texto proporcionado.\n",
        "    for caracter in texto:\n",
        "        # Si el caracter es una letra (isalpha()) Y está en minúscula (islower())...\n",
        "        if caracter.isalpha() and caracter.islower():\n",
        "            # ...significa que no cumple la condición, devolvemos False inmediatamente.\n",
        "            return False\n",
        "    # Si el bucle termina sin encontrar ninguna letra minúscula,\n",
        "    # significa que todas las letras presentes son mayúsculas (o no hay letras),\n",
        "    # por lo tanto, devolvemos True.\n",
        "    return True"
      ],
      "metadata": {
        "id": "K8VuZxvTMYj6"
      },
      "execution_count": 15,
      "outputs": []
    },
    {
      "cell_type": "code",
      "source": [
        "# --- Paso 2: Filtrar los comentarios ---\n",
        "# Utilizamos una \"list comprehension\" para crear una nueva lista.\n",
        "# Esta nueva lista ('comentarios_mayusculas_filtrados') contendrá solo aquellos\n",
        "# 'comentario' de la 'lista_comentarios' original que devuelvan True\n",
        "# cuando se les aplica la función 'todo_alfabetico_mayusculas'.\n",
        "comentarios_mayusculas_filtrados = [\n",
        "    comentario for comentario in lista_comentarios if todo_alfabetico_mayusculas(comentario)\n",
        "]\n",
        "\n",
        "# --- Paso 3: Imprimir los resultados embellecidos ---\n",
        "\n",
        "# Imprime una línea en blanco y la línea decorativa superior (📣 y ═).\n",
        "print(\"\\n\" + \"📣\" + \"═\"*46 + \"📣\")\n",
        "\n",
        "# Imprime el título del reporte, indicando que son comentarios COMPLETOS en mayúsculas, centrado.\n",
        "print(\"💬 Comentarios Completamente en MAYÚSCULAS 💬\".center(50))\n",
        "\n",
        "# Imprime la línea decorativa inferior del encabezado.\n",
        "print(\"📣\" + \"═\"*46 + \"📣\")\n",
        "\n",
        "# Comprueba si la lista de resultados filtrados NO está vacía.\n",
        "if comentarios_mayusculas_filtrados:\n",
        "    # Si hay resultados, itera sobre ellos para imprimirlos.\n",
        "    # 'enumerate(..., 1)' proporciona el índice 'i' (desde 1) y el 'comentario'.\n",
        "    for i, comentario in enumerate(comentarios_mayusculas_filtrados, 1):\n",
        "        # Prepara la etiqueta con emoji 🗣️, número formateado (01, 02...), y ':'.\n",
        "        etiqueta = f\"🗣️ {i:02d}:\"\n",
        "        # Imprime la etiqueta alineada a la izquierda (.ljust(10)) seguida del comentario completo.\n",
        "        # Puedes ajustar el valor de ljust (10) si necesitas más o menos espacio para la etiqueta.\n",
        "        print(etiqueta.ljust(10) + f\"{comentario}\")\n",
        "else:\n",
        "    # Si la lista 'comentarios_mayusculas_filtrados' está vacía, imprime un mensaje indicándolo.\n",
        "    print(\" \".center(50)) # Línea en blanco para espaciar\n",
        "    print(\"No se encontraron comentarios escritos totalmente en mayúsculas.\".center(50))\n",
        "    print(\" \".center(50)) # Línea en blanco para espaciar\n",
        "\n",
        "# Imprime la línea decorativa final, después de la lista o del mensaje de \"no encontrados\".\n",
        "print(\"📣\" + \"═\"*46 + \"📣\")\n",
        "\n",
        "# Imprime el resumen final, mostrando el número total de comentarios encontrados.\n",
        "# Usa len(comentarios_mayusculas_filtrados) para obtener la cuenta correcta.\n",
        "# Decora con emojis 📊 y ✅ y centra el texto.\n",
        "print(f\"📊 Total de comentarios en mayúsculas: {len(comentarios_mayusculas_filtrados)} ✅\".center(50))\n",
        "\n",
        "# Imprime una línea simple de cierre opcional.\n",
        "print(\"=\"*50)"
      ],
      "metadata": {
        "id": "PmKgX7sCMcDx",
        "colab": {
          "base_uri": "https://localhost:8080/"
        },
        "outputId": "b486f64a-47a3-46f4-a50a-74754c8c8a78"
      },
      "execution_count": 16,
      "outputs": [
        {
          "output_type": "stream",
          "name": "stdout",
          "text": [
            "\n",
            "📣══════════════════════════════════════════════📣\n",
            "   💬 Comentarios Completamente en MAYÚSCULAS 💬    \n",
            "📣══════════════════════════════════════════════📣\n",
            "🗣️ 01:    DELICIOUS!!\n",
            "🗣️ 02:    RUDE & INCONSIDERATE MANAGEMENT.\n",
            "🗣️ 03:    WILL NEVER EVER GO BACK AND HAVE TOLD MANY PEOPLE WHAT HAD HAPPENED.\n",
            "🗣️ 04:    TOTAL WASTE OF TIME.\n",
            "🗣️ 05:    AVOID THIS ESTABLISHMENT!\n",
            "📣══════════════════════════════════════════════📣\n",
            "    📊 Total de comentarios en mayúsculas: 5 ✅     \n",
            "==================================================\n"
          ]
        }
      ]
    },
    {
      "cell_type": "markdown",
      "source": [
        "*   **Pregunta 5.**  \n",
        "\n",
        "Busca e imprime todas las palabras que tengan una vocal acentuada, del tipo á, é, í, ó, ú.\n",
        "\n",
        "Indica cuántos resultados obtuviste."
      ],
      "metadata": {
        "id": "a1i6qv7-McmU"
      }
    },
    {
      "cell_type": "code",
      "source": [],
      "metadata": {
        "id": "nZZ5zKUOMeGD"
      },
      "execution_count": null,
      "outputs": []
    },
    {
      "cell_type": "code",
      "source": [],
      "metadata": {
        "id": "l1mFvUEZMe8s"
      },
      "execution_count": null,
      "outputs": []
    },
    {
      "cell_type": "markdown",
      "source": [
        "*   **Pregunta 6.**  \n",
        "\n",
        "Busca e imprime todas las cantidades numéricas monetarias, enteras o con decimales, que inician con el símbolo $\\$$.\n",
        "\n",
        "Indica cuántos resultados obtuviste."
      ],
      "metadata": {
        "id": "ZmPiAI82Mfb3"
      }
    },
    {
      "cell_type": "code",
      "source": [],
      "metadata": {
        "id": "6vhe9-Y-MhL9"
      },
      "execution_count": null,
      "outputs": []
    },
    {
      "cell_type": "code",
      "source": [],
      "metadata": {
        "id": "_t0a5xWDMhQ5"
      },
      "execution_count": null,
      "outputs": []
    },
    {
      "cell_type": "markdown",
      "source": [
        "*   **Pregunta 7.**  \n",
        "\n",
        "Busca e imprime todas las palabras que sean variantes de la palabra \"love\", sin importar si incluyen mayúsculas o minúsculas, o la manera en que esté conjugada o alguna otra variación que se haga con dicha palabra.\n",
        "\n",
        "Indica cuántos resultados obtuviste."
      ],
      "metadata": {
        "id": "2j-HpvhwMhq2"
      }
    },
    {
      "cell_type": "code",
      "source": [],
      "metadata": {
        "id": "kqqyRChVMjol"
      },
      "execution_count": null,
      "outputs": []
    },
    {
      "cell_type": "code",
      "source": [],
      "metadata": {
        "id": "UXd0VQluMj_x"
      },
      "execution_count": null,
      "outputs": []
    },
    {
      "cell_type": "markdown",
      "source": [
        "*   **Pregunta 8.**  \n",
        "\n",
        "Busca e imprime todas las palabras, variantes de \"so\" y \"good\", que tengan dos o más \"o\" en \"so\" y 3 o más \"o\" en good.\n",
        "\n",
        "Indica cuántas encontraste.\n"
      ],
      "metadata": {
        "id": "Ctb-NTY3MkYG"
      }
    },
    {
      "cell_type": "code",
      "source": [],
      "metadata": {
        "id": "A8Nf3B_cMlqg"
      },
      "execution_count": null,
      "outputs": []
    },
    {
      "cell_type": "code",
      "source": [],
      "metadata": {
        "id": "svS4-vvPMl6f"
      },
      "execution_count": null,
      "outputs": []
    },
    {
      "cell_type": "markdown",
      "source": [
        "*   **Pregunta 9.**  \n",
        "\n",
        "Busca e imprime todas las palabras que tengan una longitud mayor estrictamente a 10 caracteres alfabéticos.\n",
        "\n",
        "No se consideran los signos de puntuación o caracteres especiales en la longitud de estas cadenas, solo caracteres alfabéticos en mayúsculas o minúsculas.\n",
        "\n",
        "Indica la cantidad de palabras encontradas.\n"
      ],
      "metadata": {
        "id": "hkak1opjMmlk"
      }
    },
    {
      "cell_type": "code",
      "source": [],
      "metadata": {
        "id": "PYxdp3uhMoD0"
      },
      "execution_count": null,
      "outputs": []
    },
    {
      "cell_type": "code",
      "source": [],
      "metadata": {
        "id": "BR7e2F4FMof-"
      },
      "execution_count": null,
      "outputs": []
    },
    {
      "cell_type": "markdown",
      "source": [
        "*   **Pregunta 10.**  \n",
        "\n",
        "Busca e imprime todas las palabras que inician con una letra mayúscula y terminan con una minúscula, pero que además no sea la primera palabra del comentario/string.\n",
        "\n",
        "Indica la cantidad de resultados obtenidos."
      ],
      "metadata": {
        "id": "ApjTNzSxMpDc"
      }
    },
    {
      "cell_type": "code",
      "source": [],
      "metadata": {
        "id": "Vb0ndRGAMqdL"
      },
      "execution_count": null,
      "outputs": []
    },
    {
      "cell_type": "code",
      "source": [],
      "metadata": {
        "id": "dLPTRPnTMqqx"
      },
      "execution_count": null,
      "outputs": []
    },
    {
      "cell_type": "markdown",
      "source": [
        "*   **Pregunta 11.**  \n",
        "\n",
        "Busca e imprime la secuencia de dos o más palabras que están separadas por un guion, \"-\", sin que tengan espacios en blanco entre ellas.\n",
        "\n",
        "Por ejemplo \"Go-Kart\" sería válido, pero \"Go  -Kart\" o \"Go  -  Kart\" no lo serían.\n",
        "\n",
        "Indica la cantidad de resultados obtenidos."
      ],
      "metadata": {
        "id": "u7nfm4KhMrNW"
      }
    },
    {
      "cell_type": "code",
      "source": [],
      "metadata": {
        "id": "OwU-a7eGMsub"
      },
      "execution_count": null,
      "outputs": []
    },
    {
      "cell_type": "code",
      "source": [],
      "metadata": {
        "id": "SgzIL74ZMtGw"
      },
      "execution_count": null,
      "outputs": []
    },
    {
      "cell_type": "markdown",
      "source": [
        "*   **Pregunta 12.**  \n",
        "\n",
        "Busca e imprime todas las palabras que terminan en \"ing\" o \"ed\".\n",
        "\n",
        "Indica la cantidad de palabras que encontraste de cada una."
      ],
      "metadata": {
        "id": "DEIgl79HMthr"
      }
    },
    {
      "cell_type": "code",
      "source": [],
      "metadata": {
        "id": "I4TSofBMMv9y"
      },
      "execution_count": null,
      "outputs": []
    },
    {
      "cell_type": "code",
      "source": [],
      "metadata": {
        "id": "AhGq6De2Mvyh"
      },
      "execution_count": null,
      "outputs": []
    },
    {
      "cell_type": "markdown",
      "source": [
        "#**Parte 3. Proceso de limpieza.**"
      ],
      "metadata": {
        "id": "70StdqAZa9E9"
      }
    },
    {
      "cell_type": "markdown",
      "source": [
        "*   **Pregunta 13.**  \n",
        "\n",
        "Ahora realiza un proceso de limpieza del corpus que incluya los siguientes procesos:\n",
        "\n",
        "*   Solo se deben considerar caracteres alfabéticos. Es decir, se eliminan todos los signos de puntuación y caracteres especiales.\n",
        "*   Todos los caracteres alfabéticos se transforman a minúsculas.\n",
        "*   Se deben eliminar todos los espacios en blanco adicionales que se puedan encontrar en cada comentario.\n",
        "\n",
        "Al finalizar dicho proceso de limpieza, imprime el resultado de los primeros 10 comentarios resultantes.\n",
        "   \n",
        "\n",
        "\n"
      ],
      "metadata": {
        "id": "xaDUFXHrMvX2"
      }
    },
    {
      "cell_type": "code",
      "source": [],
      "metadata": {
        "id": "K3kQzPOPMx0w"
      },
      "execution_count": null,
      "outputs": []
    },
    {
      "cell_type": "code",
      "source": [],
      "metadata": {
        "id": "mYEDlHSFMyJN"
      },
      "execution_count": null,
      "outputs": []
    },
    {
      "cell_type": "markdown",
      "source": [
        "*   **Pregunta 14.**  \n",
        "\n",
        "Con el resultado de la limpieza obtenido en la pregunta anterior, realiza ahora un proceso de tokenización por palabras del corpus.\n",
        "\n",
        "Es decir, al final de este proceso de tokenización, debes tener como resultado una lista de listas, donde cada comentario estará tokenizado por palabras.\n",
        "\n",
        "Al terminar calcula el total de tokens obtenido en todo el corpus."
      ],
      "metadata": {
        "id": "WZwEhg2lUSAX"
      }
    },
    {
      "cell_type": "code",
      "source": [],
      "metadata": {
        "id": "kbAL9-v0V-jx"
      },
      "execution_count": null,
      "outputs": []
    },
    {
      "cell_type": "code",
      "source": [],
      "metadata": {
        "id": "DZs_etmiV-fd"
      },
      "execution_count": null,
      "outputs": []
    },
    {
      "cell_type": "markdown",
      "source": [
        "*   **Pregunta 15.**  \n",
        "\n",
        "Finalmente, en este ejercicio definiremos nuestro conjunto de palabras \"stopwords\", las cuales deberás eliminar de todo el corpus.\n",
        "\n",
        "Recuerda que ejemplos de stopwords son artículos, adverbios, conectivos, etcétera, que tienen frecuencias de aparición muy altas en cualquier documento, pero que no brindan mucho significado en cuanto al significado de un enunciado.\n",
        "\n",
        "Con base a la lista de stopwords que se te proporciona, realiza un proceso de limpieza eliminando todas estas palabras del corpus obtenido en el ejercicio anterior.\n",
        "\n",
        "Obtener cuántos tokens/palabras quedan finalmente en todo el corpus.\n",
        "\n",
        "Obtener cuántos de estos tokens/palabras son diferentes, es decir, cuántos tokens únicos tendrá lo que llamaremos más adelante nuestro vocabulario."
      ],
      "metadata": {
        "id": "EFeu0OJ7WDPD"
      }
    },
    {
      "cell_type": "code",
      "source": [
        "# Considera la siguiente lista como tu conjunto de stopwords:\n",
        "mis_stopwords = ['i', 'me', 'my', 'myself', 'we', 'our', 'ours', 'ourselves', 'you', 'your', 'yours', 'he', 'him', 'his', 'himself', 'she', 'her', 'hers', 'herself', 'it', 'its', 'itself', 'they', 'them', 'their', 'theirs', 'themselves', 'what', 'which', 'who', 'whom', 'this', 'that', 'these', 'those', 'am', 'is', 'are', 'was', 'were', 'be', 'been', 'being', 'have', 'has', 'had', 'having', 'do', 'does', 'did', 'doing', 'a', 'an', 'the', 'and', 'but', 'if', 'or', 'because', 'as', 'until', 'while', 'of', 'at', 'by', 'for', 'with', 'about', 'against', 'between', 'into', 'through', 'during', 'before', 'after', 'above', 'below', 'to', 'from', 'up', 'down', 'in', 'out', 'on', 'over', 'under', 'again', 'further', 'then', 'once', 'here', 'there', 'when', 'where', 'why', 'how', 'all', 'any', 'both', 'each', 'few', 'more', 'most', 'other', 'some', 'such', 'only', 'own', 'same', 'so', 'than', 'too', 'very', 's', 't', 'can', 'will', 'just', 'should', 'now', 'll']"
      ],
      "metadata": {
        "id": "6FP4FF3KXGxm"
      },
      "execution_count": null,
      "outputs": []
    },
    {
      "cell_type": "code",
      "source": [],
      "metadata": {
        "id": "CD8yjyq1ZrwY"
      },
      "execution_count": null,
      "outputs": []
    },
    {
      "cell_type": "code",
      "source": [],
      "metadata": {
        "id": "4ZPi5prKZro5"
      },
      "execution_count": null,
      "outputs": []
    },
    {
      "cell_type": "markdown",
      "source": [
        "*   **Comentarios**\n",
        "\n",
        "Incluye finalmente tus comentarios de la actividad."
      ],
      "metadata": {
        "id": "NDbKkuxRbLoX"
      }
    },
    {
      "cell_type": "markdown",
      "source": [
        "<< incluye aquí tus comentarios >>"
      ],
      "metadata": {
        "id": "o7fzbvqVbUGr"
      }
    },
    {
      "cell_type": "markdown",
      "source": [
        "##**Fin de la Actividad de la semana 2.**"
      ],
      "metadata": {
        "id": "PHaKw_6Ldbaf"
      }
    }
  ]
}