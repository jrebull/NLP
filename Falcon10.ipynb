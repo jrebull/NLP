{
  "nbformat": 4,
  "nbformat_minor": 0,
  "metadata": {
    "colab": {
      "provenance": [],
      "machine_shape": "hm",
      "gpuType": "T4",
      "authorship_tag": "ABX9TyOn72uGAUhhBMm3Lpxch9nj",
      "include_colab_link": true
    },
    "kernelspec": {
      "name": "python3",
      "display_name": "Python 3"
    },
    "language_info": {
      "name": "python"
    },
    "accelerator": "GPU"
  },
  "cells": [
    {
      "cell_type": "markdown",
      "metadata": {
        "id": "view-in-github",
        "colab_type": "text"
      },
      "source": [
        "<a href=\"https://colab.research.google.com/github/jrebull/NLP/blob/main/Falcon10.ipynb\" target=\"_parent\"><img src=\"https://colab.research.google.com/assets/colab-badge.svg\" alt=\"Open In Colab\"/></a>"
      ]
    },
    {
      "cell_type": "markdown",
      "source": [
        "# Instalamos Libreria Oficial de OpenAI"
      ],
      "metadata": {
        "id": "VSFvzrmwsrf9"
      }
    },
    {
      "cell_type": "code",
      "execution_count": 15,
      "metadata": {
        "colab": {
          "base_uri": "https://localhost:8080/"
        },
        "id": "ObewEx7TqEqs",
        "outputId": "3ad64137-a82e-43f4-d4ce-4e6181f7c5df"
      },
      "outputs": [
        {
          "output_type": "stream",
          "name": "stdout",
          "text": [
            "Requirement already satisfied: openai in /usr/local/lib/python3.11/dist-packages (1.91.0)\n",
            "Requirement already satisfied: anyio<5,>=3.5.0 in /usr/local/lib/python3.11/dist-packages (from openai) (4.9.0)\n",
            "Requirement already satisfied: distro<2,>=1.7.0 in /usr/local/lib/python3.11/dist-packages (from openai) (1.9.0)\n",
            "Requirement already satisfied: httpx<1,>=0.23.0 in /usr/local/lib/python3.11/dist-packages (from openai) (0.28.1)\n",
            "Requirement already satisfied: jiter<1,>=0.4.0 in /usr/local/lib/python3.11/dist-packages (from openai) (0.10.0)\n",
            "Requirement already satisfied: pydantic<3,>=1.9.0 in /usr/local/lib/python3.11/dist-packages (from openai) (2.11.7)\n",
            "Requirement already satisfied: sniffio in /usr/local/lib/python3.11/dist-packages (from openai) (1.3.1)\n",
            "Requirement already satisfied: tqdm>4 in /usr/local/lib/python3.11/dist-packages (from openai) (4.67.1)\n",
            "Requirement already satisfied: typing-extensions<5,>=4.11 in /usr/local/lib/python3.11/dist-packages (from openai) (4.14.0)\n",
            "Requirement already satisfied: idna>=2.8 in /usr/local/lib/python3.11/dist-packages (from anyio<5,>=3.5.0->openai) (3.10)\n",
            "Requirement already satisfied: certifi in /usr/local/lib/python3.11/dist-packages (from httpx<1,>=0.23.0->openai) (2025.6.15)\n",
            "Requirement already satisfied: httpcore==1.* in /usr/local/lib/python3.11/dist-packages (from httpx<1,>=0.23.0->openai) (1.0.9)\n",
            "Requirement already satisfied: h11>=0.16 in /usr/local/lib/python3.11/dist-packages (from httpcore==1.*->httpx<1,>=0.23.0->openai) (0.16.0)\n",
            "Requirement already satisfied: annotated-types>=0.6.0 in /usr/local/lib/python3.11/dist-packages (from pydantic<3,>=1.9.0->openai) (0.7.0)\n",
            "Requirement already satisfied: pydantic-core==2.33.2 in /usr/local/lib/python3.11/dist-packages (from pydantic<3,>=1.9.0->openai) (2.33.2)\n",
            "Requirement already satisfied: typing-inspection>=0.4.0 in /usr/local/lib/python3.11/dist-packages (from pydantic<3,>=1.9.0->openai) (0.4.1)\n"
          ]
        }
      ],
      "source": [
        "# Instala la librería oficial de OpenAI para poder conectar y usar sus modelos (como GPT-4) desde Python.\n",
        "!pip install --upgrade openai"
      ]
    },
    {
      "cell_type": "markdown",
      "source": [
        "# Librerias del Notebook"
      ],
      "metadata": {
        "id": "I_q_xcmmsoRR"
      }
    },
    {
      "cell_type": "code",
      "source": [
        "# =================================================================\n",
        "# Tipología 1: Gestión del Entorno y Sistema Operativo\n",
        "# =================================================================\n",
        "\n",
        "# Se utiliza para interactuar con el sistema operativo, como leer variables de entorno.\n",
        "import os\n",
        "\n",
        "# Específico de Google Colab, para acceder a secretos y datos de usuario de forma segura.\n",
        "from google.colab import userdata\n",
        "\n",
        "# =================================================================\n",
        "# Tipología 2: Interacción con APIs Externas\n",
        "# =================================================================\n",
        "\n",
        "# Importa la librería completa de OpenAI (enfoque antiguo o para funciones específicas).\n",
        "import openai\n",
        "\n",
        "# Importa la clase principal para interactuar con la API de OpenAI (enfoque moderno).\n",
        "from openai import OpenAI\n",
        "\n",
        "# =================================================================\n",
        "# Tipología 3: Formato y Visualización en Notebooks\n",
        "# =================================================================\n",
        "\n",
        "# Se usa para mostrar texto con formato Markdown en la salida de la celda.\n",
        "from IPython.display import Markdown, display, HTML"
      ],
      "metadata": {
        "id": "5AVME0C5qjNe"
      },
      "execution_count": 22,
      "outputs": []
    },
    {
      "cell_type": "markdown",
      "source": [
        "# Cargo mi Secret API Key de OpenAI"
      ],
      "metadata": {
        "id": "vrAM5iL1sxjM"
      }
    },
    {
      "cell_type": "code",
      "source": [
        "# Intenta obtener la clave de API desde los Secretos de Google Colab.\n",
        "api_key = userdata.get(\"JR_OpenAI_Token\")\n",
        "\n",
        "# 1. Verifica si la clave fue encontrada.\n",
        "if api_key:\n",
        "  # 2. Imprime una leyenda bonita si se encontró la clave.\n",
        "  print(\"✅ ¡Éxito! Token de API encontrado y cargado correctamente.\")\n",
        "  print(\"---------------------------------------------------------\")\n",
        "  print(\"Inicializando el cliente de OpenAI...\")\n",
        "\n",
        "  # 3. Procede a inicializar el cliente de OpenAI.\n",
        "  client = OpenAI(api_key=api_key)\n",
        "  print(\"🤖 Cliente listo. ¡Ya puedes interactuar con la API!\")\n",
        "\n",
        "else:\n",
        "  # 4. Si no se encuentra, lanza un error claro y útil.\n",
        "  raise ValueError(\n",
        "      \"🛑 ERROR: Clave de API no encontrada.\\n\"\n",
        "      \"Por favor, asegúrate de haber guardado tu token en los 'Secretos' de Google Colab \"\n",
        "      \"con el nombre exacto: JR_OpenAI_Token\"\n",
        "  )"
      ],
      "metadata": {
        "colab": {
          "base_uri": "https://localhost:8080/"
        },
        "id": "k2qWF8LlsUAr",
        "outputId": "8b7073a4-7127-42ce-8fa5-e059dd97cd25"
      },
      "execution_count": 3,
      "outputs": [
        {
          "output_type": "stream",
          "name": "stdout",
          "text": [
            "✅ ¡Éxito! Token de API encontrado y cargado correctamente.\n",
            "---------------------------------------------------------\n",
            "Inicializando el cliente de OpenAI...\n",
            "🤖 Cliente listo. ¡Ya puedes interactuar con la API!\n"
          ]
        }
      ]
    },
    {
      "cell_type": "markdown",
      "source": [
        "# Definimos los Prompt de Sistema:"
      ],
      "metadata": {
        "id": "OZyRmj_huBbR"
      }
    },
    {
      "cell_type": "code",
      "source": [
        "# Asignación del prompt\n",
        "# Este prompt solo establece el rol del asistente y el contexto de la empresa.\n",
        "system_prompt = \"\"\"\n",
        "👤 **Persona y Rol:**\n",
        "\n",
        "Eres un **Asistente Experto** en consultoría de soluciones de Inteligencia Artificial y Procesamiento del Lenguaje Natural (PLN), especializado en el sector bancario.\n",
        "\n",
        "🏢 **Contexto de la Empresa:**\n",
        "\n",
        "Tu cliente es **Santander US Bank** (filial de Banco Santander S.A., España), una institución financiera de gran escala en el noreste de EE. UU. con las siguientes métricas:\n",
        "* **Activos:** $147,000,000,000 USD\n",
        "* **Empleados:** 17,200\n",
        "* **Clientes:** 5.2 millones\n",
        "\"\"\"\n",
        "\n",
        "# Imprime la variable para confirmar que se ha guardado correctamente.\n",
        "print(\"✅ Variable 'system_prompt' con Rol y Empresa creada exitosamente.\")\n",
        "print(\"----------------------------------------------------------------\")\n",
        "print(system_prompt)"
      ],
      "metadata": {
        "colab": {
          "base_uri": "https://localhost:8080/"
        },
        "id": "HhzS82iOs4TV",
        "outputId": "59d562dc-6b37-4edb-efb8-260c1a770d88"
      },
      "execution_count": 4,
      "outputs": [
        {
          "output_type": "stream",
          "name": "stdout",
          "text": [
            "✅ Variable 'system_prompt' con Rol y Empresa creada exitosamente.\n",
            "----------------------------------------------------------------\n",
            "\n",
            "👤 **Persona y Rol:**\n",
            "\n",
            "Eres un **Asistente Experto** en consultoría de soluciones de Inteligencia Artificial y Procesamiento del Lenguaje Natural (PLN), especializado en el sector bancario.\n",
            "\n",
            "🏢 **Contexto de la Empresa:**\n",
            "\n",
            "Tu cliente es **Santander US Bank** (filial de Banco Santander S.A., España), una institución financiera de gran escala en el noreste de EE. UU. con las siguientes métricas:\n",
            "* **Activos:** $147,000,000,000 USD\n",
            "* **Empleados:** 17,200\n",
            "* **Clientes:** 5.2 millones\n",
            "\n"
          ]
        }
      ]
    },
    {
      "cell_type": "markdown",
      "source": [
        "#"
      ],
      "metadata": {
        "id": "DQ8wVcW-uHXA"
      }
    },
    {
      "cell_type": "markdown",
      "source": [
        "# Llamamos a la API de OpenAI:"
      ],
      "metadata": {
        "id": "1nDMbFP6uUbR"
      }
    },
    {
      "cell_type": "code",
      "source": [
        "def call_openai(system_prompt, user_prompt, model=\"gpt-4o-mini\", temperature=0.7):\n",
        "    \"\"\"\n",
        "    Encapsula una llamada a la API de OpenAI (Chat Completions) para generar una respuesta.\n",
        "\n",
        "    Esta función simplifica la interacción con el modelo, manejando la construcción\n",
        "    del mensaje y la extracción del contenido de la respuesta.\n",
        "\n",
        "    Args:\n",
        "        system_prompt (str): El prompt que define el rol y el comportamiento del asistente (ej. \"Eres un experto en Python.\").\n",
        "        user_prompt (str): La pregunta o instrucción específica del usuario.\n",
        "        model (str, optional): El identificador del modelo a utilizar. Por defecto es \"gpt-4o-mini\".\n",
        "        temperature (float, optional): Controla la aleatoriedad de la respuesta. Valores más bajos (~0.2)\n",
        "                                       la hacen más determinista, valores más altos (~1.0) la hacen más creativa.\n",
        "                                       Por defecto es 0.7.\n",
        "\n",
        "    Returns:\n",
        "        str: La respuesta de texto generada por el modelo, limpia de espacios al inicio o al final.\n",
        "    \"\"\"\n",
        "\n",
        "    # --- Mensaje de Estado 1: Inicio de la Ejecución ---\n",
        "    # Imprimimos un mensaje para saber que la función ha comenzado la llamada a la API.\n",
        "    # Usar un f-string nos permite insertar fácilmente el nombre del modelo que se está usando.\n",
        "    print(f\"🚀 Iniciando llamada a la API con el modelo: {model}...\")\n",
        "\n",
        "    try:\n",
        "        # --- Llamada a la API de OpenAI ---\n",
        "        # Creamos la solicitud al endpoint de 'chat completions'.\n",
        "        response = client.chat.completions.create(\n",
        "            model=model,                 # Define el modelo de lenguaje a utilizar.\n",
        "            temperature=temperature,     # Controla la \"creatividad\" de la respuesta.\n",
        "            max_tokens=2048,             # Límite máximo de 'tokens' (palabras/fragmentos) en la respuesta. Aumentado para respuestas más largas.\n",
        "            messages=[\n",
        "                # El 'system_prompt' establece el contexto y rol del asistente.\n",
        "                {\"role\": \"system\", \"content\": system_prompt},\n",
        "                # El 'user_prompt' es la pregunta o tarea que le damos al modelo.\n",
        "                {\"role\": \"user\", \"content\": user_prompt}\n",
        "            ]\n",
        "        )\n",
        "\n",
        "        # --- Mensaje de Estado 2: Ejecución Exitosa ---\n",
        "        # Si la línea anterior se completa sin errores, significa que recibimos una respuesta.\n",
        "        print(\"✅ Respuesta recibida exitosamente de OpenAI.\")\n",
        "\n",
        "        # --- Extracción y Retorno de la Respuesta ---\n",
        "        # El objeto 'response' es complejo. Navegamos hasta el contenido del mensaje.\n",
        "        # .strip() elimina cualquier espacio en blanco o saltos de línea innecesarios al principio o al final.\n",
        "        return response.choices[0].message.content.strip()\n",
        "\n",
        "    except Exception as e:\n",
        "        # --- Manejo de Errores ---\n",
        "        # Si algo sale mal durante la llamada (ej. clave de API incorrecta, problema de red),\n",
        "        # se imprimirá un error claro.\n",
        "        print(f\"🛑 Error al llamar a la API de OpenAI: {e}\")\n",
        "        return None # Devolvemos None para indicar que la función falló."
      ],
      "metadata": {
        "id": "-bBKlA1guGYS"
      },
      "execution_count": 5,
      "outputs": []
    },
    {
      "cell_type": "markdown",
      "source": [
        "# **Caso 1: User_Prompt Zero-Shot**"
      ],
      "metadata": {
        "id": "-Ynf8NoaunPg"
      }
    },
    {
      "cell_type": "code",
      "source": [
        "# Prompt simple y directo (Zero-Shot)\n",
        "# Prompt de usuario, corto y directo para iniciar la interacción.\n",
        "user_prompt_Zero_Shot = \"Preséntame la idea inicial del proyecto 'SantanderSQL Shield'.\"\n",
        "\n",
        "# (Opcional) Imprime la variable para confirmar que se ha guardado correctamente.\n",
        "print(\"✅ Variable 'user_prompt_zs' (estilo Zero-Shot) creada exitosamente.\")\n",
        "print(\"--------------------------------------------------------------------\")\n",
        "print(user_prompt_Zero_Shot)"
      ],
      "metadata": {
        "colab": {
          "base_uri": "https://localhost:8080/"
        },
        "id": "-MhC9MbHuqaJ",
        "outputId": "964eb5a7-b15a-4325-ddc8-d5e39a9c0ce9"
      },
      "execution_count": 6,
      "outputs": [
        {
          "output_type": "stream",
          "name": "stdout",
          "text": [
            "✅ Variable 'user_prompt_zs' (estilo Zero-Shot) creada exitosamente.\n",
            "--------------------------------------------------------------------\n",
            "Preséntame la idea inicial del proyecto 'SantanderSQL Shield'.\n"
          ]
        }
      ]
    },
    {
      "cell_type": "markdown",
      "source": [
        "# Llamamos a la Inteligencia!!!"
      ],
      "metadata": {
        "id": "ke01EEVgw4gY"
      }
    },
    {
      "cell_type": "code",
      "source": [
        "# Informa al usuario que el proceso ha comenzado.\n",
        "print(\"🚀 Iniciando la consulta Zero-Shot al LLM...\")\n",
        "print(\"---------------------------------------------\")\n",
        "\n",
        "try:\n",
        "    # Llama a la función 'call_openai' con los prompts (que ya existen en el entorno).\n",
        "    # \"Zero-Shot\" significa que se da una instrucción directa sin ejemplos previos.\n",
        "    respuesta_zero_shot = call_openai(system_prompt, user_prompt_Zero_Shot)\n",
        "\n",
        "    # Presenta un encabezado claro para el resultado.\n",
        "    print(\"\\n✅ Propuesta Generada por el Modelo:\")\n",
        "    print(\"======================================\")\n",
        "\n",
        "    if respuesta_zero_shot:\n",
        "        # Renderiza la respuesta del LLM. Si el modelo usó formato Markdown\n",
        "        # (títulos, listas, etc.), esto lo mostrará de forma legible.\n",
        "        display(Markdown(respuesta_zero_shot))\n",
        "    else:\n",
        "        # Esto se ejecuta si la función 'call_openai' no devolvió nada.\n",
        "        print(\"No se recibió una respuesta válida del modelo.\")\n",
        "\n",
        "except Exception as e:\n",
        "    # Captura y muestra cualquier error que ocurra durante la llamada a la API.\n",
        "    print(f\"🛑 Ocurrió un error durante la ejecución: {e}\")"
      ],
      "metadata": {
        "colab": {
          "base_uri": "https://localhost:8080/",
          "height": 740
        },
        "id": "ABZ8xnk1w5iS",
        "outputId": "c9061bfe-4a3e-4b9d-fa19-f06c7bba6bcd"
      },
      "execution_count": 7,
      "outputs": [
        {
          "output_type": "stream",
          "name": "stdout",
          "text": [
            "🚀 Iniciando la consulta Zero-Shot al LLM...\n",
            "---------------------------------------------\n",
            "🚀 Iniciando llamada a la API con el modelo: gpt-4o-mini...\n",
            "✅ Respuesta recibida exitosamente de OpenAI.\n",
            "\n",
            "✅ Propuesta Generada por el Modelo:\n",
            "======================================\n"
          ]
        },
        {
          "output_type": "display_data",
          "data": {
            "text/plain": [
              "<IPython.core.display.Markdown object>"
            ],
            "text/markdown": "El proyecto 'SantanderSQL Shield' se propone como una solución integral para mejorar la seguridad y la integridad de los datos en el entorno de base de datos de Santander US Bank. A continuación, se presentan los aspectos clave de la idea inicial del proyecto:\n\n### Objetivos del Proyecto:\n1. **Protección de Datos Sensibles:** Implementar medidas de seguridad avanzadas para proteger los datos de clientes y transacciones, asegurando el cumplimiento normativo y la privacidad de la información.\n   \n2. **Detección y Prevención de Amenazas:** Desarrollar un sistema de monitoreo que utilice algoritmos de inteligencia artificial para identificar patrones sospechosos y actividades fraudulentas en tiempo real.\n\n3. **Resiliencia ante Ataques:** Crear protocolos y mecanismos de respuesta ante incidentes que permitan una recuperación rápida y eficiente ante posibles brechas de seguridad.\n\n### Componentes Clave:\n- **Análisis de Vulnerabilidades:** Realizar auditorías y análisis de vulnerabilidades en las bases de datos para identificar puntos débiles y áreas de mejora.\n  \n- **Machine Learning para Detección de Anomalías:** Implementar modelos de machine learning que analicen el tráfico de datos y detecten comportamientos inusuales que puedan indicar un intento de acceso no autorizado o fraude.\n\n- **Cifrado Avanzado:** Utilizar técnicas de cifrado robustas para proteger la información sensible tanto en reposo como en tránsito.\n\n- **Interfaz de Monitoreo:** Desarrollar una plataforma de visualización que permita a los equipos de seguridad y TI monitorear en tiempo real la actividad de las bases de datos y generar alertas ante cualquier evento de seguridad.\n\n### Beneficios Esperados:\n- **Mejora en la Confianza del Cliente:** Al garantizar la seguridad de la información, se incrementará la confianza de los clientes en la institución.\n  \n- **Cumplimiento Normativo:** Asegurará que Santander US Bank cumpla con las regulaciones de protección de datos, evitando sanciones y daños a la reputación.\n\n- **Eficiencia Operativa:** La automatización de la detección de amenazas permitirá a los equipos de seguridad enfocarse en tareas estratégicas, mejorando la eficiencia operativa.\n\n### Conclusión:\n'SantanderSQL Shield' representa un paso proactivo hacia la seguridad de los datos en el sector bancario, alineando la estrategia de Santander US Bank con las mejores prácticas de la industria y asegurando la protección de los activos más valiosos: la información de sus clientes."
          },
          "metadata": {}
        }
      ]
    },
    {
      "cell_type": "markdown",
      "source": [
        "# **Caso 2: User_Prompt Chain-of-Thought (CoT)**"
      ],
      "metadata": {
        "id": "f7RerdFJGzc4"
      }
    },
    {
      "cell_type": "code",
      "source": [
        "# Prompt que utiliza la metodología Chain-of-Thought (CoT).\n",
        "user_prompt_cot = \"\"\"\n",
        "Elabora una propuesta técnica y de negocio completa para crear el asistente de IA \"SantanderSQL Shield\".\n",
        "\n",
        "Para asegurar una respuesta bien estructurada, piensa paso a paso:\n",
        "\n",
        "1.  **Paso 1: Diagnóstico del Problema.** Primero, analiza y describe la problemática operativa actual con los scripts DML en Santander US, cuantificando el volumen, la tasa de error y el impacto financiero.\n",
        "\n",
        "2.  **Paso 2: Definición de la Solución.** A continuación, detalla el concepto de \"SantanderSQL Shield\". Explica sus funcionalidades clave (validación de sintaxis, generación de rollback, etc.) y cómo resuelven directamente el problema diagnosticado.\n",
        "\n",
        "3.  **Paso 3: Diseño de la Arquitectura.** Después, define la arquitectura y la pila tecnológica que sustentará el proyecto (menciona Google Gemini 1.5 Pro, Python/FastAPI, React y Docker).\n",
        "\n",
        "4.  **Paso 4: Análisis de Viabilidad.** Finalmente, desarrolla el caso de negocio, incluyendo un cronograma estimado, un desglose de los costos y un cálculo del Retorno de la Inversión (ROI).\n",
        "\"\"\"\n",
        "\n",
        "# Confirma que la variable se ha creado.\n",
        "print(\"✅ Variable 'user_prompt_cot' creada exitosamente.\")\n",
        "print(\"-------------------------------------------------\")\n",
        "print(user_prompt_cot)"
      ],
      "metadata": {
        "colab": {
          "base_uri": "https://localhost:8080/"
        },
        "id": "1UvKMQ4VHcxr",
        "outputId": "cb2ed1e5-5a29-4684-b078-ab0a2396de87"
      },
      "execution_count": 8,
      "outputs": [
        {
          "output_type": "stream",
          "name": "stdout",
          "text": [
            "✅ Variable 'user_prompt_cot' creada exitosamente.\n",
            "-------------------------------------------------\n",
            "\n",
            "Elabora una propuesta técnica y de negocio completa para crear el asistente de IA \"SantanderSQL Shield\".\n",
            "\n",
            "Para asegurar una respuesta bien estructurada, piensa paso a paso:\n",
            "\n",
            "1.  **Paso 1: Diagnóstico del Problema.** Primero, analiza y describe la problemática operativa actual con los scripts DML en Santander US, cuantificando el volumen, la tasa de error y el impacto financiero.\n",
            "\n",
            "2.  **Paso 2: Definición de la Solución.** A continuación, detalla el concepto de \"SantanderSQL Shield\". Explica sus funcionalidades clave (validación de sintaxis, generación de rollback, etc.) y cómo resuelven directamente el problema diagnosticado.\n",
            "\n",
            "3.  **Paso 3: Diseño de la Arquitectura.** Después, define la arquitectura y la pila tecnológica que sustentará el proyecto (menciona Google Gemini 1.5 Pro, Python/FastAPI, React y Docker).\n",
            "\n",
            "4.  **Paso 4: Análisis de Viabilidad.** Finalmente, desarrolla el caso de negocio, incluyendo un cronograma estimado, un desglose de los costos y un cálculo del Retorno de la Inversión (ROI).\n",
            "\n"
          ]
        }
      ]
    },
    {
      "cell_type": "code",
      "source": [
        "# Informa al usuario que el proceso con la metodología CoT ha comenzado.\n",
        "print(\"🚀 Iniciando la consulta Chain-of-Thought (CoT) al LLM...\")\n",
        "print(\"---------------------------------------------------------\")\n",
        "\n",
        "try:\n",
        "    # Llama a la función 'call_openai' con el prompt que guía el razonamiento del modelo.\n",
        "    # El modelo seguirá los pasos definidos en 'user_prompt_cot' para construir su respuesta.\n",
        "    respuesta_cot = call_openai(system_prompt, user_prompt_cot)\n",
        "\n",
        "    # Presenta un encabezado claro para el resultado generado.\n",
        "    print(\"\\n✅ Propuesta Generada (siguiendo CoT):\")\n",
        "    print(\"===========================================\")\n",
        "\n",
        "    if respuesta_cot:\n",
        "        # Renderiza la respuesta del LLM. Dado que CoT promueve una respuesta estructurada,\n",
        "        # es muy probable que el modelo use formato Markdown, que se verá muy bien aquí.\n",
        "        display(Markdown(respuesta_cot))\n",
        "    else:\n",
        "        # Se ejecuta si la función 'call_openai' no devolvió una respuesta válida.\n",
        "        print(\"No se recibió una respuesta válida del modelo.\")\n",
        "\n",
        "except Exception as e:\n",
        "    # Captura y muestra de forma amigable cualquier error durante la llamada a la API.\n",
        "    print(f\"🛑 Ocurrió un error durante la ejecución: {e}\")"
      ],
      "metadata": {
        "colab": {
          "base_uri": "https://localhost:8080/",
          "height": 1000
        },
        "id": "dliClOWfH32k",
        "outputId": "65350d25-bf92-44ff-f476-b08a25cbc3d4"
      },
      "execution_count": 9,
      "outputs": [
        {
          "output_type": "stream",
          "name": "stdout",
          "text": [
            "🚀 Iniciando la consulta Chain-of-Thought (CoT) al LLM...\n",
            "---------------------------------------------------------\n",
            "🚀 Iniciando llamada a la API con el modelo: gpt-4o-mini...\n",
            "✅ Respuesta recibida exitosamente de OpenAI.\n",
            "\n",
            "✅ Propuesta Generada (siguiendo CoT):\n",
            "===========================================\n"
          ]
        },
        {
          "output_type": "display_data",
          "data": {
            "text/plain": [
              "<IPython.core.display.Markdown object>"
            ],
            "text/markdown": "### Propuesta Técnica y de Negocio para \"SantanderSQL Shield\"\n\n---\n\n### **Paso 1: Diagnóstico del Problema**\n\n**Análisis de la Problemática:**\n\nEn Santander US, se ha identificado un problema significativo relacionado con la gestión y ejecución de scripts DML (Data Manipulation Language) dentro de sus bases de datos. \n\n- **Volumen de Scripts:** Se estima que el banco ejecuta aproximadamente 10,000 scripts DML al mes, lo que representa un alto volumen de transacciones y cambios en la base de datos.\n  \n- **Tasa de Error:** La tasa de error en la ejecución de estos scripts se sitúa en torno al 5%, lo que se traduce en aproximadamente 500 errores mensuales. Estos errores pueden ser el resultado de:\n  - Sintaxis incorrecta.\n  - Conflictos de datos.\n  - Falta de validaciones previas.\n\n- **Impacto Financiero:** Cada error puede generar costos significativos en términos de tiempo de inactividad, pérdida de datos y recursos humanos. Se estima que cada error cuesta alrededor de $1,000 en remedio y horas de trabajo, lo que suma un costo mensual de $500,000 y un costo anual de $6,000,000.\n\n---\n\n### **Paso 2: Definición de la Solución**\n\n**Concepto de \"SantanderSQL Shield\":**\n\nSantanderSQL Shield será un asistente de inteligencia artificial diseñado para optimizar la gestión de scripts DML. Sus funcionalidades clave incluirán:\n\n1. **Validación de Sintaxis:** \n   - Utiliza técnicas de PLN para analizar la sintaxis de los scripts antes de ejecutarlos, reduciendo el número de errores por mala escritura.\n\n2. **Generación de Rollback Automático:**\n   - Automáticamente genera scripts de rollback para cada operación DML, permitiendo la reversión rápida de cambios en caso de fallo.\n\n3. **Simulación de Ejecución:**\n   - Permite a los usuarios simular la ejecución de scripts en un entorno seguro, mostrando posibles errores y conflictos antes de ejecutar en producción.\n\n4. **Análisis Predictivo:**\n   - Evalúa patrones históricos de ejecución de scripts para prever fallos y sugerir modificaciones proactivas.\n\n5. **Interfaz Intuitiva:**\n   - Proporciona una interfaz amigable que permite a los desarrolladores e ingenieros de datos interactuar con el asistente de manera eficiente.\n\n**Resolución del Problema:**\nEstas funcionalidades abordan las causas de los errores en la ejecución de scripts, disminuyendo la tasa de errores y, por ende, el impacto financiero.\n\n---\n\n### **Paso 3: Diseño de la Arquitectura**\n\n**Arquitectura y Pila Tecnológica:**\n\n1. **Frontend:** \n   - **React:** Para desarrollar una interfaz de usuario interactiva y responsiva que facilite la interacción con el asistente.\n\n2. **Backend:** \n   - **Python/FastAPI:** Para construir una API rápida y eficiente que procese las solicitudes del usuario, ejecute las validaciones y genere rollbacks.\n\n3. **Inteligencia Artificial:**\n   - **Google Gemini 1.5 Pro:** Para implementar modelos de PLN que realicen la validación de sintaxis y análisis predictivo.\n\n4. **Contenedorización:** \n   - **Docker:** Para facilitar el despliegue y escalabilidad de la aplicación en diferentes entornos, garantizando que funcione sin problemas en la infraestructura de Santander.\n\n5. **Base de Datos:**\n   - Una base de datos SQL para almacenar logs de ejecuciones, errores y métricas de rendimiento del asistente.\n\n---\n\n### **Paso 4: Análisis de Viabilidad**\n\n**Caso de Negocio:**\n\n1. **Cronograma Estimado:**\n   - **Fase de Planificación:** 1 mes\n   - **Desarrollo y Pruebas:** 4 meses\n   - **Despliegue y Capacitación:** 1 mes\n   - **Total:** 6 meses\n\n2. **Desglose de Costos:**\n   - **Desarrollo (Recursos Humanos):** $400,000\n   - **Infraestructura (Servidores, API, Base de Datos):** $100,000\n   - **Licencias y Herramientas (Google Gemini, Docker):** $50,000\n   - **Capacitación y Soporte:** $50,000\n   - **Total Estimado:** $600,000\n\n3. **Cálculo del Retorno de la Inversión (ROI):**\n   - **Ahorros Anuales por Reducción de Errores:** $6,000,000 (actual) - $1,000,000 (proyectado tras la implementación).\n   - **Ahorros Anuales Estimados:** $5,000,000.\n   - **ROI:** \\[ (Ahorros - Inversión) / Inversión \\]\n   - ROI: \\[ (5,000,000 - 600,000) / 600,000 \\] = 8.33 o 833%.\n\n---\n\n**Conclusión:**\nLa implementación de \"SantanderSQL Shield\" no solo resolverá problemas operativos actuales, sino que también proporcionará un significativo retorno de inversión, mejorando la eficiencia operativa y reduciendo riesgos asociados a la manipulación de datos."
          },
          "metadata": {}
        }
      ]
    },
    {
      "cell_type": "markdown",
      "source": [
        "# **Caso 3: User_Prompt Tree-of-Thoughts (ToT)**"
      ],
      "metadata": {
        "id": "A9hMOLMsIHTz"
      }
    },
    {
      "cell_type": "code",
      "source": [
        "# Prompt que utiliza la metodología Tree-of-Thoughts (ToT).\n",
        "user_prompt_tot = \"\"\"\n",
        "**Problema Estratégico:** Elabora la mejor propuesta posible para el proyecto \"SantanderSQL Shield\", considerando diferentes enfoques.\n",
        "\n",
        "Para resolver esto, sigue un árbol de pensamientos:\n",
        "\n",
        "**Paso 1: Generación de Enfoques (las ramas del árbol).**\n",
        "Primero, genera tres enfoques estratégicos distintos y viables para desarrollar el proyecto:\n",
        "1.  **Enfoque A (MVP de Máxima Automatización):** Describe una herramienta simple y rápida cuyo único objetivo sea validar y generar scripts DML con la mínima intervención humana.\n",
        "2.  **Enfoque B (Asistente Colaborativo \"Human-in-the-Loop\"):** Describe una herramienta interactiva que asista al desarrollador, explicando sus validaciones y requiriendo aprobación humana, priorizando la seguridad y el aprendizaje del equipo.\n",
        "3.  **Enfoque C (Plataforma Empresarial Integral):** Describe una solución a gran escala que no solo valide scripts, sino que también se integre con los pipelines de CI/CD, ofrezca dashboards de auditoría y gestione permisos de usuario.\n",
        "\n",
        "**Paso 2: Evaluación de las Ramas.**\n",
        "Ahora, evalúa de forma crítica cada uno de los tres enfoques (A, B y C) basándote en los siguientes criterios, fundamentales para Santander US Bank:\n",
        "* **Seguridad y Cumplimiento:** ¿Qué tan robusto es para prevenir errores y cumplir con las normativas bancarias?\n",
        "* **Velocidad de Adopción y ROI:** ¿Qué tan rápido se puede implementar y qué tan pronto generaría un retorno de la inversión?\n",
        "* **Escalabilidad y Complejidad Técnica:** ¿Qué tan fácil es de mantener y hacer crecer a futuro?\n",
        "\n",
        "**Paso 3: Síntesis y Recomendación Final (la mejor ruta).**\n",
        "Basado en tu evaluación comparativa, selecciona el enfoque más adecuado para Santander US Bank. Puedes combinar las mejores características de los diferentes enfoques si lo consideras óptimo. Justifica claramente por qué tu propuesta final es la mejor solución estratégica.\n",
        "\"\"\"\n",
        "\n",
        "# Confirma que la variable se ha creado.\n",
        "print(\"✅ Variable 'user_prompt_tot' creada exitosamente.\")\n",
        "print(\"-------------------------------------------------\")\n",
        "print(user_prompt_tot)"
      ],
      "metadata": {
        "colab": {
          "base_uri": "https://localhost:8080/"
        },
        "id": "dfRGtXiOJGfY",
        "outputId": "0623fe1a-3ca7-4038-c437-17a7d86c539c"
      },
      "execution_count": 10,
      "outputs": [
        {
          "output_type": "stream",
          "name": "stdout",
          "text": [
            "✅ Variable 'user_prompt_tot' creada exitosamente.\n",
            "-------------------------------------------------\n",
            "\n",
            "**Problema Estratégico:** Elabora la mejor propuesta posible para el proyecto \"SantanderSQL Shield\", considerando diferentes enfoques.\n",
            "\n",
            "Para resolver esto, sigue un árbol de pensamientos:\n",
            "\n",
            "**Paso 1: Generación de Enfoques (las ramas del árbol).**\n",
            "Primero, genera tres enfoques estratégicos distintos y viables para desarrollar el proyecto:\n",
            "1.  **Enfoque A (MVP de Máxima Automatización):** Describe una herramienta simple y rápida cuyo único objetivo sea validar y generar scripts DML con la mínima intervención humana.\n",
            "2.  **Enfoque B (Asistente Colaborativo \"Human-in-the-Loop\"):** Describe una herramienta interactiva que asista al desarrollador, explicando sus validaciones y requiriendo aprobación humana, priorizando la seguridad y el aprendizaje del equipo.\n",
            "3.  **Enfoque C (Plataforma Empresarial Integral):** Describe una solución a gran escala que no solo valide scripts, sino que también se integre con los pipelines de CI/CD, ofrezca dashboards de auditoría y gestione permisos de usuario.\n",
            "\n",
            "**Paso 2: Evaluación de las Ramas.**\n",
            "Ahora, evalúa de forma crítica cada uno de los tres enfoques (A, B y C) basándote en los siguientes criterios, fundamentales para Santander US Bank:\n",
            "* **Seguridad y Cumplimiento:** ¿Qué tan robusto es para prevenir errores y cumplir con las normativas bancarias?\n",
            "* **Velocidad de Adopción y ROI:** ¿Qué tan rápido se puede implementar y qué tan pronto generaría un retorno de la inversión?\n",
            "* **Escalabilidad y Complejidad Técnica:** ¿Qué tan fácil es de mantener y hacer crecer a futuro?\n",
            "\n",
            "**Paso 3: Síntesis y Recomendación Final (la mejor ruta).**\n",
            "Basado en tu evaluación comparativa, selecciona el enfoque más adecuado para Santander US Bank. Puedes combinar las mejores características de los diferentes enfoques si lo consideras óptimo. Justifica claramente por qué tu propuesta final es la mejor solución estratégica.\n",
            "\n"
          ]
        }
      ]
    },
    {
      "cell_type": "code",
      "source": [
        "# Informa al usuario que se inicia el proceso ToT, que puede ser más lento.\n",
        "print(\"🚀 Iniciando la consulta Tree-of-Thoughts (ToT) al LLM...\")\n",
        "print(\"---------------------------------------------------------\")\n",
        "\n",
        "try:\n",
        "    # Llama a la función 'call_openai' con el prompt ToT.\n",
        "    # Este prompt obliga al modelo a generar, evaluar y seleccionar entre varias\n",
        "    # alternativas antes de dar una respuesta final.\n",
        "    respuesta_tot = call_openai(system_prompt, user_prompt_tot, temperature=0.5)\n",
        "\n",
        "    # Presenta un encabezado claro para la respuesta estratégica.\n",
        "    print(\"\\n✅ Propuesta Estratégica Generada (siguiendo ToT):\")\n",
        "    print(\"===================================================\")\n",
        "\n",
        "    if respuesta_tot:\n",
        "        # Renderiza la respuesta. El resultado de un ToT suele ser muy estructurado\n",
        "        # y detallado, por lo que Markdown es ideal para visualizarlo.\n",
        "        display(Markdown(respuesta_tot))\n",
        "    else:\n",
        "        # Se ejecuta si no se obtuvo una respuesta válida del modelo.\n",
        "        print(\"No se recibió una respuesta válida del modelo.\")\n",
        "\n",
        "except Exception as e:\n",
        "    # Captura y muestra de forma clara cualquier error durante el proceso.\n",
        "    print(f\"🛑 Ocurrió un error durante la ejecución: {e}\")"
      ],
      "metadata": {
        "colab": {
          "base_uri": "https://localhost:8080/",
          "height": 1000
        },
        "id": "8TelisKUJb2p",
        "outputId": "ebd13f59-ea44-4825-d076-f0d0a7954c5b"
      },
      "execution_count": 11,
      "outputs": [
        {
          "output_type": "stream",
          "name": "stdout",
          "text": [
            "🚀 Iniciando la consulta Tree-of-Thoughts (ToT) al LLM...\n",
            "---------------------------------------------------------\n",
            "🚀 Iniciando llamada a la API con el modelo: gpt-4o-mini...\n",
            "✅ Respuesta recibida exitosamente de OpenAI.\n",
            "\n",
            "✅ Propuesta Estratégica Generada (siguiendo ToT):\n",
            "===================================================\n"
          ]
        },
        {
          "output_type": "display_data",
          "data": {
            "text/plain": [
              "<IPython.core.display.Markdown object>"
            ],
            "text/markdown": "### Paso 1: Generación de Enfoques\n\n**Enfoque A (MVP de Máxima Automatización):**  \nDesarrollo de una herramienta sencilla que valide y genere scripts DML (Data Manipulation Language) automáticamente. Esta herramienta estará diseñada para funcionar con un conjunto limitado de reglas predefinidas, minimizando la intervención humana. Su objetivo principal es acelerar el proceso de desarrollo y reducir el riesgo de errores a través de la automatización.\n\n**Enfoque B (Asistente Colaborativo \"Human-in-the-Loop\"):**  \nCreación de un asistente interactivo que trabaje junto a los desarrolladores. La herramienta presentaría validaciones y ofrecería explicaciones sobre las decisiones tomadas, requiriendo la aprobación del usuario antes de ejecutar cualquier script. Este enfoque prioriza la seguridad, permitiendo que los desarrolladores aprendan y se adapten a las mejores prácticas en la generación de scripts.\n\n**Enfoque C (Plataforma Empresarial Integral):**  \nDesarrollo de una solución a gran escala que no solo valide scripts DML, sino que también se integre con los pipelines de CI/CD (Integración Continua/Despliegue Continuo). Esta plataforma ofrecería dashboards de auditoría, gestión de permisos de usuario, y funcionalidades de monitoreo y alertas para asegurar el cumplimiento normativo y la seguridad de los datos.\n\n---\n\n### Paso 2: Evaluación de las Ramas\n\n**Enfoque A (MVP de Máxima Automatización):**  \n- **Seguridad y Cumplimiento:** Moderado. Al ser altamente automatizado, podría pasar por alto ciertas validaciones críticas específicas del sector bancario.\n- **Velocidad de Adopción y ROI:** Alto. La implementación sería rápida y el retorno de inversión podría ser inmediato, ya que reduciría significativamente el tiempo de desarrollo.\n- **Escalabilidad y Complejidad Técnica:** Bajo. La solución podría ser limitada en su capacidad de adaptarse a cambios futuros o complejidades.\n\n**Enfoque B (Asistente Colaborativo \"Human-in-the-Loop\"):**  \n- **Seguridad y Cumplimiento:** Alto. Al requerir la intervención humana, se asegura que los desarrolladores revisen y comprendan las validaciones, aumentando la seguridad.\n- **Velocidad de Adopción y ROI:** Moderado. La implementación sería más lenta que el enfoque A, pero el ROI podría ser significativo a largo plazo debido a la mejora en la calidad del código.\n- **Escalabilidad y Complejidad Técnica:** Moderado. Aunque es más escalable que el enfoque A, podría requerir capacitación y adaptación continua del personal.\n\n**Enfoque C (Plataforma Empresarial Integral):**  \n- **Seguridad y Cumplimiento:** Muy alto. La integración con CI/CD y la auditoría constante garantizan un cumplimiento normativo robusto.\n- **Velocidad de Adopción y ROI:** Bajo. La implementación sería más compleja y tardaría más tiempo, lo que podría retrasar el retorno de inversión.\n- **Escalabilidad y Complejidad Técnica:** Muy alto. Esta solución es altamente escalable y puede adaptarse a futuros requerimientos y tecnologías.\n\n---\n\n### Paso 3: Síntesis y Recomendación Final\n\nDespués de evaluar los enfoques, la **mejor propuesta para Santander US Bank** sería una combinación del **Enfoque B** y el **Enfoque C**. \n\n**Justificación:**\n1. **Seguridad y Cumplimiento:** La combinación de un asistente colaborativo con una plataforma empresarial integral asegura que se mantenga un alto nivel de seguridad y cumplimiento normativo, crítico para el sector bancario.\n2. **Velocidad de Adopción y ROI:** Aunque la implementación puede ser más lenta que un MVP, el enfoque colaborativo y la integración con CI/CD garantizan que el retorno de inversión se logre a largo plazo, mejorando la calidad del código y reduciendo errores.\n3. **Escalabilidad y Complejidad Técnica:** Esta combinación permite a Santander US Bank adaptarse a los cambios futuros en tecnología y regulaciones, asegurando que la solución se mantenga relevante y eficaz en el tiempo.\n\nEn resumen, la propuesta final sería desarrollar una plataforma integral que incorpore un asistente colaborativo, lo que permitirá a los desarrolladores aprender y mejorar continuamente, mientras se asegura la automatización y el cumplimiento normativo necesarios en el sector bancario."
          },
          "metadata": {}
        }
      ]
    },
    {
      "cell_type": "markdown",
      "source": [
        "# Conversando con OpenAI"
      ],
      "metadata": {
        "id": "UrWwbUdhNfOX"
      }
    },
    {
      "cell_type": "code",
      "source": [
        "# Historial del chat\n",
        "# Inicializa historial y contador de iteración\n",
        "\n",
        "historial = [\n",
        "    {\"role\": \"system\", \"content\": \"Eres un asistente útil y conversacional.\"},\n",
        "    {\n",
        "        \"role\": \"assistant\",\n",
        "        \"content\": \"¡Hola de nuevo! Soy un asistente conversacional basado en inteligencia artificial. \"\n",
        "                   \"Estoy aquí para ayudarte con cualquier pregunta o información que necesites. \"\n",
        "                   \"¿Hay algo específico en lo que pueda asistirte?\"\n",
        "    }\n",
        "]\n",
        "iteracion = 1"
      ],
      "metadata": {
        "id": "_0CmxLSuNw-r"
      },
      "execution_count": 38,
      "outputs": []
    },
    {
      "cell_type": "code",
      "source": [
        "# Función para mostrar respuesta y tokens\n",
        "def mostrar_respuesta(mensaje, iteracion, prompt_tokens, completion_tokens, total_tokens):\n",
        "    html = f\"\"\"\n",
        "    <div style=\"border: 1px solid #ccc; background-color: #f4faff; color: #000000;\n",
        "                padding: 18px; border-radius: 12px; font-family: sans-serif;\n",
        "                max-width: 800px; line-height: 1.6; font-size: 15px;\n",
        "                max-height: 400px; overflow-y: auto; box-shadow: 0px 4px 10px rgba(0,0,0,0.1);\">\n",
        "        <strong style=\"font-size: 16px;\">gpt-4o responde (Iteración #{iteracion:02d}):</strong><br>\n",
        "        <div style=\"margin-top: 10px; white-space: pre-wrap;\">{mensaje}</div>\n",
        "        <hr style=\"margin-top: 15px; margin-bottom: 5px;\">\n",
        "        <div style=\"font-size: 13px; color: #333;\">\n",
        "            <strong>Tokens usados:</strong>\n",
        "            Prompt: {prompt_tokens}, Respuesta: {completion_tokens}, Total: {total_tokens}\n",
        "        </div>\n",
        "    </div>\n",
        "    \"\"\"\n",
        "    display(HTML(html))"
      ],
      "metadata": {
        "id": "9dXYpMbaQBm2"
      },
      "execution_count": 53,
      "outputs": []
    },
    {
      "cell_type": "code",
      "source": [
        "# Función para enviar mensajes al modelo y mantener el contexto\n",
        "\n",
        "# Función principal con seguimiento de tokens\n",
        "def enviar_mensaje(mensaje_usuario):\n",
        "    global iteracion\n",
        "    historial.append({\"role\": \"user\", \"content\": mensaje_usuario})\n",
        "\n",
        "    respuesta = client.chat.completions.create(\n",
        "        model=\"gpt-4o\",\n",
        "        messages=historial\n",
        "    )\n",
        "\n",
        "    mensaje_respuesta = respuesta.choices[0].message.content\n",
        "    historial.append({\"role\": \"assistant\", \"content\": mensaje_respuesta})\n",
        "\n",
        "    usage = respuesta.usage\n",
        "    mostrar_respuesta(\n",
        "        mensaje_respuesta,\n",
        "        iteracion,\n",
        "        prompt_tokens=usage.prompt_tokens,\n",
        "        completion_tokens=usage.completion_tokens,\n",
        "        total_tokens=usage.total_tokens\n",
        "    )\n",
        "    iteracion += 1"
      ],
      "metadata": {
        "id": "hOdta-mJN1aD"
      },
      "execution_count": 47,
      "outputs": []
    },
    {
      "cell_type": "markdown",
      "source": [
        "# Iteraccion con LLM empleando la tecnica Zero-Shot"
      ],
      "metadata": {
        "id": "KiWuxhyRYpG4"
      }
    },
    {
      "cell_type": "code",
      "source": [
        "print(enviar_mensaje(\"Hola, ¿quién eres?\"))"
      ],
      "metadata": {
        "colab": {
          "base_uri": "https://localhost:8080/",
          "height": 223
        },
        "id": "epo2ZMhtO5va",
        "outputId": "ab5c6bc0-d655-44af-b9a9-68088699f71c"
      },
      "execution_count": 40,
      "outputs": [
        {
          "output_type": "display_data",
          "data": {
            "text/plain": [
              "<IPython.core.display.HTML object>"
            ],
            "text/html": [
              "\n",
              "    <div style=\"border: 1px solid #ccc; background-color: #eaf3fa; color: #000000;\n",
              "                padding: 15px; border-radius: 12px; font-family: sans-serif;\n",
              "                max-width: 700px; line-height: 1.5; font-size: 15px;\">\n",
              "        <strong style=\"font-size: 16px;\">gpt-4o responde (Iteración #01):</strong><br>\n",
              "        <div style=\"margin-top: 8px;\">¡Hola! Soy un asistente virtual diseñado para ayudarte a encontrar información, responder preguntas y brindarte apoyo en una variedad de temas. Si tienes alguna pregunta o necesitas ayuda con algo, ¡no dudes en decírmelo!</div>\n",
              "        <hr style=\"margin-top: 15px; margin-bottom: 5px;\">\n",
              "        <div style=\"font-size: 13px; color: #333;\">\n",
              "            <strong>Tokens usados:</strong>\n",
              "            Prompt: 72, Respuesta: 46, Total: 118\n",
              "        </div>\n",
              "    </div>\n",
              "    "
            ]
          },
          "metadata": {}
        },
        {
          "output_type": "stream",
          "name": "stdout",
          "text": [
            "None\n"
          ]
        }
      ]
    },
    {
      "cell_type": "code",
      "source": [
        "print(enviar_mensaje(\"Te contrato para trabajar en Banco Santander USA\"))"
      ],
      "metadata": {
        "colab": {
          "base_uri": "https://localhost:8080/",
          "height": 266
        },
        "id": "7GgYQ_omPjch",
        "outputId": "19017cd8-390f-42d6-e532-8a3e8488b1d3"
      },
      "execution_count": 42,
      "outputs": [
        {
          "output_type": "display_data",
          "data": {
            "text/plain": [
              "<IPython.core.display.HTML object>"
            ],
            "text/html": [
              "\n",
              "    <div style=\"border: 1px solid #ccc; background-color: #eaf3fa; color: #000000;\n",
              "                padding: 15px; border-radius: 12px; font-family: sans-serif;\n",
              "                max-width: 700px; line-height: 1.5; font-size: 15px;\">\n",
              "        <strong style=\"font-size: 16px;\">gpt-4o responde (Iteración #02):</strong><br>\n",
              "        <div style=\"margin-top: 8px;\">Aprecio mucho la oferta, pero soy un asistente virtual de inteligencia artificial creado para ayudar a usuarios de todo el mundo mediante la provisión de información y asistencia en línea. No puedo aceptar un empleo en una entidad específica ni realizar tareas fuera de este entorno digital. Sin embargo, estaré encantado de ayudarte con cualquier duda o pregunta que puedas tener sobre Banco Santander o cualquier otro tema. ¿En qué puedo ayudarte hoy?</div>\n",
              "        <hr style=\"margin-top: 15px; margin-bottom: 5px;\">\n",
              "        <div style=\"font-size: 13px; color: #333;\">\n",
              "            <strong>Tokens usados:</strong>\n",
              "            Prompt: 134, Respuesta: 85, Total: 219\n",
              "        </div>\n",
              "    </div>\n",
              "    "
            ]
          },
          "metadata": {}
        },
        {
          "output_type": "stream",
          "name": "stdout",
          "text": [
            "None\n"
          ]
        }
      ]
    },
    {
      "cell_type": "code",
      "source": [
        "print(enviar_mensaje(\"Para fines de este ejercicio, vas a simular que trabajas conmigo en el departamento de Desarrollo de Software de Santander USA\"))"
      ],
      "metadata": {
        "colab": {
          "base_uri": "https://localhost:8080/",
          "height": 201
        },
        "id": "fRZm6bRTYRaj",
        "outputId": "668d45b4-1264-42db-8fd1-bffa0e50b26b"
      },
      "execution_count": 43,
      "outputs": [
        {
          "output_type": "display_data",
          "data": {
            "text/plain": [
              "<IPython.core.display.HTML object>"
            ],
            "text/html": [
              "\n",
              "    <div style=\"border: 1px solid #ccc; background-color: #eaf3fa; color: #000000;\n",
              "                padding: 15px; border-radius: 12px; font-family: sans-serif;\n",
              "                max-width: 700px; line-height: 1.5; font-size: 15px;\">\n",
              "        <strong style=\"font-size: 16px;\">gpt-4o responde (Iteración #03):</strong><br>\n",
              "        <div style=\"margin-top: 8px;\">¡Entendido! Simularé que soy parte del equipo de Desarrollo de Software de Santander USA. ¿En qué proyecto o tarea específica estás trabajando y cómo puedo colaborar contigo?</div>\n",
              "        <hr style=\"margin-top: 15px; margin-bottom: 5px;\">\n",
              "        <div style=\"font-size: 13px; color: #333;\">\n",
              "            <strong>Tokens usados:</strong>\n",
              "            Prompt: 251, Respuesta: 35, Total: 286\n",
              "        </div>\n",
              "    </div>\n",
              "    "
            ]
          },
          "metadata": {}
        },
        {
          "output_type": "stream",
          "name": "stdout",
          "text": [
            "None\n"
          ]
        }
      ]
    },
    {
      "cell_type": "code",
      "source": [
        "print(enviar_mensaje(\"Dime para quien trabajas?\"))"
      ],
      "metadata": {
        "colab": {
          "base_uri": "https://localhost:8080/",
          "height": 245
        },
        "id": "xTzUCYIuYbCX",
        "outputId": "187ec895-8e25-414a-a3a1-3d8cdba90924"
      },
      "execution_count": 44,
      "outputs": [
        {
          "output_type": "display_data",
          "data": {
            "text/plain": [
              "<IPython.core.display.HTML object>"
            ],
            "text/html": [
              "\n",
              "    <div style=\"border: 1px solid #ccc; background-color: #eaf3fa; color: #000000;\n",
              "                padding: 15px; border-radius: 12px; font-family: sans-serif;\n",
              "                max-width: 700px; line-height: 1.5; font-size: 15px;\">\n",
              "        <strong style=\"font-size: 16px;\">gpt-4o responde (Iteración #04):</strong><br>\n",
              "        <div style=\"margin-top: 8px;\">En este contexto simulado, trabajo contigo en el departamento de Desarrollo de Software de Santander USA. De manera general, como asistente virtual, estoy aquí para ayudar a cualquier usuario que tenga preguntas o necesite asistencia. Si tienes alguna tarea o pregunta específica relacionada con nuestro departamento, házmelo saber y estaré encantado de colaborar.</div>\n",
              "        <hr style=\"margin-top: 15px; margin-bottom: 5px;\">\n",
              "        <div style=\"font-size: 13px; color: #333;\">\n",
              "            <strong>Tokens usados:</strong>\n",
              "            Prompt: 301, Respuesta: 67, Total: 368\n",
              "        </div>\n",
              "    </div>\n",
              "    "
            ]
          },
          "metadata": {}
        },
        {
          "output_type": "stream",
          "name": "stdout",
          "text": [
            "None\n"
          ]
        }
      ]
    },
    {
      "cell_type": "markdown",
      "source": [
        "# **Iteraciones con el LLM empleando User_Prompt Chain-of-Thought (CoT)**"
      ],
      "metadata": {
        "id": "sZyGl-UVY3FX"
      }
    },
    {
      "cell_type": "code",
      "source": [
        "# 1. Definimos el prompt Chain-of-Thought como una variable para mantener el código limpio.\n",
        "prompt_cot_para_iniciar = \"\"\"A continuación, te pasaré algo de contexto sobre Santander Bank US para que sepas para quién trabajas. Necesito que asimiles esta información para actuar como un consultor experto.\n",
        "\n",
        "Para hacerlo correctamente, piensa paso a paso:\n",
        "\n",
        "1.  **Paso 1: Reconoce tu Rol.** Primero, entiende que tu objetivo es adoptar la persona de un 'consultor experto' para esta empresa específica.\n",
        "\n",
        "2.  **Paso 2: Prepárate para Analizar.** A continuación, prepárate para leer, analizar y memorizar los datos clave que te proporcionaré sobre el banco.\n",
        "\n",
        "3.  **Paso 3: Confirma y Espera.** Finalmente, una vez que te haya dado el contexto en mi siguiente mensaje, quiero que respondas únicamente con la frase: \"Contexto asimilado. Estoy listo para mi rol como consultor de Santander US.\" y no digas nada más hasta mi próxima instrucción.\"\"\"\n",
        "\n",
        "\n",
        "# 2. Llamamos directamente a TU función con el prompt.\n",
        "# No es necesario usar print() porque tu función ya se encarga de mostrar la respuesta.\n",
        "enviar_mensaje(prompt_cot_para_iniciar)"
      ],
      "metadata": {
        "colab": {
          "base_uri": "https://localhost:8080/",
          "height": 185
        },
        "id": "XwcEqxSFZAR7",
        "outputId": "7685da2e-4f2c-4f9a-e1b1-b027d736f393"
      },
      "execution_count": 48,
      "outputs": [
        {
          "output_type": "display_data",
          "data": {
            "text/plain": [
              "<IPython.core.display.HTML object>"
            ],
            "text/html": [
              "\n",
              "    <div style=\"border: 1px solid #ccc; background-color: #eaf3fa; color: #000000;\n",
              "                padding: 15px; border-radius: 12px; font-family: sans-serif;\n",
              "                max-width: 700px; line-height: 1.5; font-size: 15px;\">\n",
              "        <strong style=\"font-size: 16px;\">gpt-4o responde (Iteración #05):</strong><br>\n",
              "        <div style=\"margin-top: 8px;\">Entendido. Espero tu siguiente mensaje para asimilar el contexto y seguir tus instrucciones como consultor experto para Santander US.</div>\n",
              "        <hr style=\"margin-top: 15px; margin-bottom: 5px;\">\n",
              "        <div style=\"font-size: 13px; color: #333;\">\n",
              "            <strong>Tokens usados:</strong>\n",
              "            Prompt: 569, Respuesta: 25, Total: 594\n",
              "        </div>\n",
              "    </div>\n",
              "    "
            ]
          },
          "metadata": {}
        }
      ]
    },
    {
      "cell_type": "code",
      "source": [
        "# 1. Definimos el prompt Chain-of-Thought con el brief completo del proyecto.\n",
        "prompt_cot_briefing = \"\"\"\n",
        "A continuación, te proporciono el brief completo del proyecto 'SantanderSQL Shield'. Tu tarea es analizarlo en profundidad y prepararte para actuar como el consultor principal que diseñará la solución.\n",
        "\n",
        "Para asegurar una comprensión total, procesa la información pensando paso a paso:\n",
        "\n",
        "1.  **Paso 1: Asimila el Cliente y la Misión.** Primero, lee y entiende quién es el cliente (Santander US Bank) y cuál es el objetivo principal del proyecto \"SantanderSQL Shield\".\n",
        "\n",
        "2.  **Paso 2: Cuantifica el Problema.** A continuación, analiza las métricas clave del problema: el volumen de solicitudes DML, la alta tasa de error y, sobre todo, el significativo impacto financiero anual que esto representa.\n",
        "\n",
        "3.  **Paso 3: Identifica los Componentes.** Después, identifica todos los elementos involucrados en el proyecto. Esto incluye los tipos de datos a manejar, las áreas de la empresa (stakeholders) y la arquitectura tecnológica que ya ha sido propuesta.\n",
        "\n",
        "4.  **Paso 4: Entiende los Entregables.** Revisa y comprende los análisis de negocio que se deben entregar como parte de la propuesta: el cronograma, la estimación de costos y el cálculo del ROI.\n",
        "\n",
        "5.  **Paso 5: Confirma y Prepárate.** Finalmente, después de haber procesado mentalmente todos los puntos anteriores, confirma que has analizado el brief completo y estás listo. Responde únicamente con la frase: \"Brief del proyecto SantanderSQL Shield analizado. Estoy listo para desarrollar la propuesta detallada cuando me lo indiques.\"\n",
        "\n",
        "---\n",
        "**INICIO DEL BRIEF**\n",
        "\n",
        "🏢 **Contexto de la Empresa:**\n",
        "\n",
        "Tu cliente es **Santander US Bank** (filial de Banco Santander S.A., España), una institución financiera de gran escala en el noreste de EE. UU. con las siguientes métricas:\n",
        "* **Activos:** $147,000,000,000 USD\n",
        "* **Empleados:** 17,200\n",
        "* **Clientes:** 5.2 millones\n",
        "\n",
        "🎯 **Misión del Proyecto:**\n",
        "\n",
        "Actuarás como el **consultor técnico y de negocio principal** en el diseño del proyecto **\"SantanderSQL Shield\"**. Este proyecto consiste en crear un asistente inteligente diseñado para automatizar y validar la generación de scripts DML (Lenguaje de Manipulación de Datos) antes de su paso a producción.\n",
        "\n",
        "📋 **Tareas y Requisitos Clave:**\n",
        "\n",
        "Tu análisis y propuesta deben abordar los siguientes puntos de manera integral:\n",
        "\n",
        "1.  **Análisis del Problema:**\n",
        "    * **Volumen:** 1,874 solicitudes DML en 2024.\n",
        "    * **Tasa de Error:** 18% de las solicitudes contienen errores.\n",
        "    * **Impacto Financiero:** Costo anual estimado superior a $340,000 USD debido a estos errores.\n",
        "\n",
        "2.  **Definición de los Datos:**\n",
        "    * El sistema procesará únicamente sentencias SQL en formato de texto plano.\n",
        "    * **Importante:** No se almacenarán ni procesarán datos sensibles de clientes.\n",
        "\n",
        "3.  **Identificación de Stakeholders (Áreas Implicadas):**\n",
        "    * Run the Bank (Operaciones)\n",
        "    * Equipos de bases de datos (Oracle DB, DB2)\n",
        "    * Control Batch (Procesos por lotes)\n",
        "    * Quality Assurance (QA)\n",
        "    * Arquitectura de Datos\n",
        "\n",
        "4.  **Propuesta de Arquitectura y Tecnología:**\n",
        "    * **Modelo de IA:** Google Gemini 1.5 Pro a través de Vertex AI.\n",
        "    * **Backend:** Python 3 con FastAPI.\n",
        "    * **Frontend:** React.\n",
        "    * **Infraestructura:** Docker y un pipeline de CI/CD (Integración/Entrega Continua).\n",
        "\n",
        "5.  **Análisis de Viabilidad:**\n",
        "    * Estimar un **cronograma** realista para el proyecto.\n",
        "    * Proporcionar una estimación de **costos** de implementación y mantenimiento.\n",
        "    * Calcular el **Retorno de la Inversión (ROI)** esperado.\n",
        "\n",
        "---\n",
        "**FIN DEL BRIEF**\n",
        "\"\"\"\n",
        "\n",
        "# 2. Llamamos directamente a TU función con el prompt de briefing.\n",
        "# Tu función 'enviar_mensaje' se encargará de procesarlo y mostrar la respuesta.\n",
        "enviar_mensaje(prompt_cot_briefing)"
      ],
      "metadata": {
        "colab": {
          "base_uri": "https://localhost:8080/",
          "height": 185
        },
        "id": "9zKH85fvbswg",
        "outputId": "70c0dc98-2ac1-41f3-82a5-ef8cd8502ea4"
      },
      "execution_count": 49,
      "outputs": [
        {
          "output_type": "display_data",
          "data": {
            "text/plain": [
              "<IPython.core.display.HTML object>"
            ],
            "text/html": [
              "\n",
              "    <div style=\"border: 1px solid #ccc; background-color: #eaf3fa; color: #000000;\n",
              "                padding: 15px; border-radius: 12px; font-family: sans-serif;\n",
              "                max-width: 700px; line-height: 1.5; font-size: 15px;\">\n",
              "        <strong style=\"font-size: 16px;\">gpt-4o responde (Iteración #06):</strong><br>\n",
              "        <div style=\"margin-top: 8px;\">Brief del proyecto SantanderSQL Shield analizado. Estoy listo para desarrollar la propuesta detallada cuando me lo indiques.</div>\n",
              "        <hr style=\"margin-top: 15px; margin-bottom: 5px;\">\n",
              "        <div style=\"font-size: 13px; color: #333;\">\n",
              "            <strong>Tokens usados:</strong>\n",
              "            Prompt: 1452, Respuesta: 23, Total: 1475\n",
              "        </div>\n",
              "    </div>\n",
              "    "
            ]
          },
          "metadata": {}
        }
      ]
    },
    {
      "cell_type": "code",
      "source": [
        "enviar_mensaje(\"Ok Vamos a trabajar\")"
      ],
      "metadata": {
        "colab": {
          "base_uri": "https://localhost:8080/",
          "height": 185
        },
        "id": "Ox80GmJVcDkV",
        "outputId": "25987565-5a6f-4f39-ca2e-f1562a4010f3"
      },
      "execution_count": 50,
      "outputs": [
        {
          "output_type": "display_data",
          "data": {
            "text/plain": [
              "<IPython.core.display.HTML object>"
            ],
            "text/html": [
              "\n",
              "    <div style=\"border: 1px solid #ccc; background-color: #eaf3fa; color: #000000;\n",
              "                padding: 15px; border-radius: 12px; font-family: sans-serif;\n",
              "                max-width: 700px; line-height: 1.5; font-size: 15px;\">\n",
              "        <strong style=\"font-size: 16px;\">gpt-4o responde (Iteración #07):</strong><br>\n",
              "        <div style=\"margin-top: 8px;\">¡Perfecto! Estoy listo para comenzar. ¿Cuál es el primer paso o aspecto del proyecto \"SantanderSQL Shield\" en el que te gustaría que trabajáramos juntos?</div>\n",
              "        <hr style=\"margin-top: 15px; margin-bottom: 5px;\">\n",
              "        <div style=\"font-size: 13px; color: #333;\">\n",
              "            <strong>Tokens usados:</strong>\n",
              "            Prompt: 1487, Respuesta: 36, Total: 1523\n",
              "        </div>\n",
              "    </div>\n",
              "    "
            ]
          },
          "metadata": {}
        }
      ]
    },
    {
      "cell_type": "code",
      "source": [
        "# 1. Definimos el prompt Chain-of-Thought con el brief completo del proyecto.\n",
        "prompt_cot_briefing = \"\"\"\n",
        "\n",
        "Paso 1. Diem como propones que implementemos este proyecto\n",
        "Paso 2. Dame un Ejemplo que tecnologias arqutiectura usariamos\n",
        "Paso 3. Dime cual seria el Entregable\n",
        "Paso 4. Dime que podria esperar el usuario Final\n",
        "Paso 5. Dime tus conclusiones, por que elegiste dicho modelo / tecnologia para montar el proyecto\n",
        "\n",
        "\n",
        "\"\"\"\n",
        "\n",
        "# 2. Llamamos directamente a TU función con el prompt de briefing.\n",
        "# Tu función 'enviar_mensaje' se encargará de procesarlo y mostrar la respuesta.\n",
        "enviar_mensaje(prompt_cot_briefing)"
      ],
      "metadata": {
        "colab": {
          "base_uri": "https://localhost:8080/",
          "height": 967
        },
        "id": "oAApw-GjcWk_",
        "outputId": "9b4ee028-a206-413c-ef84-916729c072d8"
      },
      "execution_count": 51,
      "outputs": [
        {
          "output_type": "display_data",
          "data": {
            "text/plain": [
              "<IPython.core.display.HTML object>"
            ],
            "text/html": [
              "\n",
              "    <div style=\"border: 1px solid #ccc; background-color: #eaf3fa; color: #000000;\n",
              "                padding: 15px; border-radius: 12px; font-family: sans-serif;\n",
              "                max-width: 700px; line-height: 1.5; font-size: 15px;\">\n",
              "        <strong style=\"font-size: 16px;\">gpt-4o responde (Iteración #08):</strong><br>\n",
              "        <div style=\"margin-top: 8px;\">### Paso 1: Propuesta de Implementación\n",
              "\n",
              "1. **Fase de Planificación:**\n",
              "   - **Reunión inicial con los stakeholders:** Alinearse con todas las áreas involucradas para entender sus necesidades específicas y desafíos. Establecer el alcance del proyecto.\n",
              "   - **Definición de requisitos:** Documentar todos los requisitos funcionales y no funcionales.\n",
              "   - **Análisis de riesgos:** Identificar potenciales riesgos y definir estrategias de mitigación.\n",
              "\n",
              "2. **Diseño de la Solución:**\n",
              "   - **Arquitectura general:** Diseñar una arquitectura que se integre sin problemas con los sistemas existentes de Santander.\n",
              "   - **Modelado de datos:** Establecer cómo se manejarán los datos SQL sin comprometer la seguridad.\n",
              "   - **Definición de flujos de trabajo:** Modelar cómo los scripts DML serán generados, validados y enviados a producción.\n",
              "\n",
              "3. **Desarrollo:**\n",
              "   - **Implementación del backend y frontend:** Utilizar Python con FastAPI para construir el backend y React para el frontend.\n",
              "   - **Integrar el modelo de IA:** Usar Google Gemini 1.5 Pro en Vertex AI para validar y optimizar scripts DML.\n",
              "   - **Configuración de infraestructura:** Utilizar Docker para la contenedorización y asegurar un pipeline CI/CD eficiente.\n",
              "\n",
              "4. **Pruebas y Validación:**\n",
              "   - **Pruebas unitarias y de integración:** Asegurar que cada componente funciona correctamente.\n",
              "   - **Pruebas de carga y rendimiento:** Garantizar que el sistema puede manejar el volumen esperado de solicitudes DML.\n",
              "\n",
              "5. **Despliegue y Monitoreo:**\n",
              "   - **Despliegue gradual:** Implementar la solución en entornos de desarrollo, prueba y luego producción.\n",
              "   - **Monitoreo continuo:** Realizar monitoreo para asegurar la implementación exitosa y realizar ajustes según sea necesario.\n",
              "\n",
              "### Paso 2: Ejemplo de Tecnología y Arquitectura\n",
              "\n",
              "- **Frontend:** React, para crear interfaces de usuario dinámicas y receptivas.\n",
              "- **Backend:** Python 3 con FastAPI, para APIs robustas y escalables.\n",
              "- **Inteligencia Artificial:** Google Gemini 1.5 Pro desplegado en Vertex AI, asegurando una capacidad de aprendizaje y procesamiento avanzada.\n",
              "- **Contenedorización:** Docker, para asegurar la consistencia en todos los entornos.\n",
              "- **CI/CD:** Herramientas como Jenkins para permitir integración y entrega continua.\n",
              "\n",
              "### Paso 3: Entregables\n",
              "\n",
              "- **Documentación Completa:** Incluirá diagramas de arquitectura, flujos de trabajo y manuales de usuario.\n",
              "- **Código Fuente:** Repositorio Git organizado y documentado.\n",
              "- **Sistema en Producción:** La solución \"SantanderSQL Shield\" completamente implementada y en funcionamiento.\n",
              "- **Informe de Evaluación:** Análisis de rendimiento, ROI esperado y retroalimentación de usuarios.\n",
              "\n",
              "### Paso 4: Expectativas del Usuario Final\n",
              "\n",
              "- **Eficiencia Mejorada:** Reducción en la tasa de errores de solicitudes DML y automatización del proceso de validación.\n",
              "- **Interfaz Intuitiva:** Un sistema fácil de usar que guía a los usuarios a través del proceso de generación y validación de scripts.\n",
              "- **Soporte Técnico:** Líneas claras de soporte en caso de dudas o problemas.\n",
              "\n",
              "### Paso 5: Conclusiones\n",
              "\n",
              "- **Elección del Modelo de IA:** Google Gemini 1.5 Pro se eligió por su capacidad para procesar y aprender de grandes volúmenes de datos con precisión, mejorando la validación de scripts.\n",
              "- **Elección de Tecnologías:** La combinación de FastAPI y React se seleccionó por su capacidad para desarrollar aplicaciones web rápidas y escalables, esenciales para manejar el volumen de solicitudes de Santander.\n",
              "- **Contenedorización y CI/CD:** Estas prácticas aseguran que el software se desarrolle, pruebe y despliegue de manera eficiente y consistente, minimizando el tiempo de inactividad y permitiendo iteraciones rápidas.\n",
              "\n",
              "Esta estrategia nos permitirá cumplir con los objetivos del proyecto, minimizando errores y optimizando los procesos internos de Santander US Bank.</div>\n",
              "        <hr style=\"margin-top: 15px; margin-bottom: 5px;\">\n",
              "        <div style=\"font-size: 13px; color: #333;\">\n",
              "            <strong>Tokens usados:</strong>\n",
              "            Prompt: 1615, Respuesta: 859, Total: 2474\n",
              "        </div>\n",
              "    </div>\n",
              "    "
            ]
          },
          "metadata": {}
        }
      ]
    },
    {
      "cell_type": "code",
      "source": [
        "enviar_mensaje(\"me diste un gran plan podrias darme una lista un resumen breve de cada paso?\")"
      ],
      "metadata": {
        "colab": {
          "base_uri": "https://localhost:8080/",
          "height": 475
        },
        "id": "g3cMGAdzd53o",
        "outputId": "be57f3d9-59a1-4e89-ca0c-7f921fd09cd9"
      },
      "execution_count": 54,
      "outputs": [
        {
          "output_type": "display_data",
          "data": {
            "text/plain": [
              "<IPython.core.display.HTML object>"
            ],
            "text/html": [
              "\n",
              "    <div style=\"border: 1px solid #ccc; background-color: #f4faff; color: #000000;\n",
              "                padding: 18px; border-radius: 12px; font-family: sans-serif;\n",
              "                max-width: 800px; line-height: 1.6; font-size: 15px;\n",
              "                max-height: 400px; overflow-y: auto; box-shadow: 0px 4px 10px rgba(0,0,0,0.1);\">\n",
              "        <strong style=\"font-size: 16px;\">gpt-4o responde (Iteración #10):</strong><br>\n",
              "        <div style=\"margin-top: 10px; white-space: pre-wrap;\">Claro, aquí tienes un resumen breve de cada paso:\n",
              "\n",
              "1. **Propuesta de Implementación:**\n",
              "   - **Planificación:** Reuniones con stakeholders, definición de requisitos, análisis de riesgos.\n",
              "   - **Diseño:** Arquitectura del sistema, modelado de datos, flujos de trabajo definidos.\n",
              "   - **Desarrollo:** Backend con Python y FastAPI, frontend con React, integración de IA.\n",
              "   - **Pruebas:** Ejecución de pruebas unitarias, de integración, de carga y rendimiento.\n",
              "   - **Despliegue:** Implementación gradual y monitoreo continuo para ajustes.\n",
              "\n",
              "2. **Tecnología y Arquitectura:**\n",
              "   - **Frontend:** React.\n",
              "   - **Backend:** Python y FastAPI.\n",
              "   - **Inteligencia Artificial:** Google Gemini 1.5 Pro en Vertex AI.\n",
              "   - **Infraestructura:** Docker para contenedorización y CI/CD con herramientas como Jenkins.\n",
              "\n",
              "3. **Entregables:**\n",
              "   - Documentación completa.\n",
              "   - Código fuente bien documentado.\n",
              "   - Sistema completamente funcional en producción.\n",
              "   - Informe de evaluación del sistema.\n",
              "\n",
              "4. **Expectativas del Usuario Final:**\n",
              "   - **Eficiencia Mejorada:** Menor tasa de errores, validación automática de scripts.\n",
              "   - **Interfaz Intuitiva:** Fácil de usar.\n",
              "   - **Soporte Técnico:** Disponibilidad en caso de dudas.\n",
              "\n",
              "5. **Conclusiones:**\n",
              "   - **Modelo de IA:** Seleccionado por su precisión y capacidad de aprendizaje.\n",
              "   - **Tecnologías:** FastAPI y React por su rapidez y capacidad de escalabilidad.\n",
              "   - **Contenedorización y CI/CD:** Aseguran eficiencia y consistencia en despliegues.\n",
              "\n",
              "Este resumen ofrece una visión general de cada paso del proyecto. Si necesitas más detalles sobre alguno de estos puntos, házmelo saber.</div>\n",
              "        <hr style=\"margin-top: 15px; margin-bottom: 5px;\">\n",
              "        <div style=\"font-size: 13px; color: #333;\">\n",
              "            <strong>Tokens usados:</strong>\n",
              "            Prompt: 2884, Respuesta: 381, Total: 3265\n",
              "        </div>\n",
              "    </div>\n",
              "    "
            ]
          },
          "metadata": {}
        }
      ]
    },
    {
      "cell_type": "code",
      "source": [
        "enviar_mensaje(\"\"\"\n",
        "\n",
        "Gracias por el resumen. Es un buen inicio, pero para que sea una propuesta sólida, necesitamos ir al grano y justificar dos áreas clave:\n",
        "\n",
        "Primero, la tecnología. La justificación para usar Google Gemini es muy genérica. Necesito saber por qué es mejor que otras alternativas, como los modelos de OpenAI o incluso un modelo open-source más controlable y económico, considerando que nuestra tarea es muy específica.\n",
        "\n",
        "Segundo, el plan. Es demasiado vago para un entorno bancario. ¿Cómo mediremos de forma concreta el éxito más allá de \"entregar un sistema\"? Y, más importante, ¿cuál es el plan de despliegue exacto para implementarlo de forma segura sin interrumpir las operaciones?\n",
        "\n",
        "Necesitamos respuestas concretas a esas dos preguntas para considerar la inversión.\n",
        "\n",
        "\n",
        "\"\"\")"
      ],
      "metadata": {
        "colab": {
          "base_uri": "https://localhost:8080/",
          "height": 475
        },
        "id": "n7SKsGhbe61v",
        "outputId": "73908bc1-f693-4c18-cfa6-3214e34caf42"
      },
      "execution_count": 55,
      "outputs": [
        {
          "output_type": "display_data",
          "data": {
            "text/plain": [
              "<IPython.core.display.HTML object>"
            ],
            "text/html": [
              "\n",
              "    <div style=\"border: 1px solid #ccc; background-color: #f4faff; color: #000000;\n",
              "                padding: 18px; border-radius: 12px; font-family: sans-serif;\n",
              "                max-width: 800px; line-height: 1.6; font-size: 15px;\n",
              "                max-height: 400px; overflow-y: auto; box-shadow: 0px 4px 10px rgba(0,0,0,0.1);\">\n",
              "        <strong style=\"font-size: 16px;\">gpt-4o responde (Iteración #11):</strong><br>\n",
              "        <div style=\"margin-top: 10px; white-space: pre-wrap;\">Entiendo, voy a proporcionar una justificación más detallada y concreta para ambas áreas clave.\n",
              "\n",
              "### Justificación de la Tecnología\n",
              "\n",
              "1. **Google Gemini 1.5 Pro:**\n",
              "   - **Rendimiento Específico:** Google Gemini está diseñado para trabajar con grandes volúmenes de datos y se ha optimizado para tareas específicas relacionadas con el procesamiento de lenguaje natural (PLN), lo cual es crucial para la validación y generación automática de scripts DML.\n",
              "   - **Integración con Infraestructura de Google Cloud:** Como parte de Vertex AI, Google Gemini facilita la integración con otros servicios del ecosistema de Google Cloud, permitiendo una fácil escalabilidad y gestión de datos.\n",
              "   - **Seguridad y Cumplimiento:** Google ofrece robustos protocolos de seguridad y cumplimiento, críticos para el entorno regulado del sector bancario.\n",
              "   - **Compatibilidad y Soporte:** La integración y soporte continuo de Google puede ser superior para un banco de la envergadura de Santander, garantizando actualizaciones y mantenimiento regular.\n",
              "\n",
              "2. **Comparación con alternativas:**\n",
              "   - **Modelos de OpenAI:** Aunque avanzados, pueden presentar limitaciones en términos de personalización y control de datos, además de consideraciones de costos en uso continuo a escala.\n",
              "   - **Modelos Open-Source:** Si bien permiten un mayor control, pueden requerir más recursos para su adaptación, optimización y mantenimiento, además de posiblemente ofrecer menor rendimiento en tareas específicas de PLN sin adecuadas personalizaciones.\n",
              "\n",
              "### Plan de Despliegue Seguro\n",
              "\n",
              "1. **Medición del Éxito:**\n",
              "   - **Reducción de la Tasa de Error:** Objetivo de disminuir la tasa de errores de solicitudes DML del 18% a menos del 5% en el primer año.\n",
              "   - **Ahorro de Costos:** Reducir el impacto financiero de los errores a menos de $100,000 USD anualmente.\n",
              "   - **Tiempo de Procesamiento:** Mejora en la eficiencia del proceso de validación, reduciendo el tiempo desde la solicitud hasta la producción en un 30%.\n",
              "\n",
              "2. **Plan de Despliegue:**\n",
              "   - **Despliegue por Fases:** Implementación gradual comenzando con un ambiente de pruebas controlado para asegurar la estabilidad del sistema.\n",
              "   - **Ambientación Piloto:** Ejecutar un piloto con un subconjunto de usuarios y operaciones críticas para recoger comentarios y detener cualquier problema antes del despliegue completo.\n",
              "   - **Revisiones de Seguridad:** Auditorías exhaustivas y revisiones de seguridad antes y después de cada fase de implementación.\n",
              "   - **Entrenamiento y Documentación:** Capacitar a los usuarios y personal técnico sobre el nuevo sistema y su utilización.\n",
              "   - **Retroalimentación Continua:** Incorporar mejoras basadas en la retroalimentación del usuario final y del equipo técnico.\n",
              "\n",
              "Estas decisiones proporcionan una confianza adicional en la inversión, alineando tanto las implementaciones técnicas como las operativas con los objetivos estratégicos y regulatorios de Santander US Bank.</div>\n",
              "        <hr style=\"margin-top: 15px; margin-bottom: 5px;\">\n",
              "        <div style=\"font-size: 13px; color: #333;\">\n",
              "            <strong>Tokens usados:</strong>\n",
              "            Prompt: 3435, Respuesta: 617, Total: 4052\n",
              "        </div>\n",
              "    </div>\n",
              "    "
            ]
          },
          "metadata": {}
        }
      ]
    },
    {
      "cell_type": "markdown",
      "source": [
        "# **Iteraciones con el LLM empleando User_Prompt Tree-of-Thoughts (ToT)**"
      ],
      "metadata": {
        "id": "5PQU4HzlfZOu"
      }
    },
    {
      "cell_type": "code",
      "source": [
        "# Prompt ToT que rechaza la justificación y fuerza la exploración de 3 alternativas de LLM.\n",
        "user_prompt_tot_analisis_llm = \"\"\"\n",
        "Agradezco la aclaración, sin embargo, la justificación para seleccionar a Google Gemini como única opción aún no es concluyente y parece más una defensa de la propuesta inicial que un análisis crítico. La decisión sobre el motor de IA es el núcleo de este proyecto y no podemos proceder con una única alternativa sin un análisis comparativo más profundo.\n",
        "\n",
        "Por ello, vamos a utilizar un enfoque de **'Árbol de Pensamientos' (Tree-of-Thoughts)** para explorar las opciones de manera estructurada.\n",
        "\n",
        "**Tu tarea es la siguiente:**\n",
        "\n",
        "Quiero que generes una descripción para tres \"ramas\" de decisión, cada una centrada en un tipo de modelo de LLM. Las ramas a explorar son:\n",
        "\n",
        "1.  **Rama 1: Ecosistema Google (Gemini 1.5 Pro en Vertex AI).**\n",
        "2.  **Rama 2: Ecosistema OpenAI (GPT-4o o el modelo más avanzado disponible).**\n",
        "3.  **Rama 3: Solución Soberana (un modelo Open-Source de alto rendimiento como Llama 3 o similar, que sería fine-tuneado y alojado en nuestra propia infraestructura).**\n",
        "\n",
        "---\n",
        "\n",
        "Para cada una de estas tres ramas, debes proporcionar la siguiente información de manera concisa:\n",
        "\n",
        "* **Descripción Breve:** ¿Qué es y cuál es su propuesta de valor principal en el mercado?\n",
        "* **Pro (Ventaja Clave):** ¿Cuál es su **mayor fortaleza** para nuestro caso de uso específico en Santander?\n",
        "* **Contra (Desventaja Clave):** ¿Cuál es su **principal debilidad o riesgo** para un entorno bancario regulado como el nuestro?\n",
        "* **Aplicación Práctica:** ¿Cómo funcionaría específicamente para nuestra herramienta 'SantanderSQL Shield'? Describe brevemente cómo generaría y validaría queries de manera segura en este escenario.\n",
        "\"\"\"\n",
        "\n",
        "# 2. Llamamos directamente a tu función con el nuevo prompt ToT.\n",
        "enviar_mensaje(user_prompt_tot_analisis_llm)"
      ],
      "metadata": {
        "colab": {
          "base_uri": "https://localhost:8080/",
          "height": 475
        },
        "id": "GVd_9yNPf3JC",
        "outputId": "7dc130b3-8ef4-4f70-97b2-dc68887e4b78"
      },
      "execution_count": 56,
      "outputs": [
        {
          "output_type": "display_data",
          "data": {
            "text/plain": [
              "<IPython.core.display.HTML object>"
            ],
            "text/html": [
              "\n",
              "    <div style=\"border: 1px solid #ccc; background-color: #f4faff; color: #000000;\n",
              "                padding: 18px; border-radius: 12px; font-family: sans-serif;\n",
              "                max-width: 800px; line-height: 1.6; font-size: 15px;\n",
              "                max-height: 400px; overflow-y: auto; box-shadow: 0px 4px 10px rgba(0,0,0,0.1);\">\n",
              "        <strong style=\"font-size: 16px;\">gpt-4o responde (Iteración #12):</strong><br>\n",
              "        <div style=\"margin-top: 10px; white-space: pre-wrap;\">Entendido, describiré cada rama según el enfoque del \"Árbol de Pensamientos\" para que puedas evaluar las opciones de manera estructurada.\n",
              "\n",
              "### Rama 1: Ecosistema Google (Gemini 1.5 Pro en Vertex AI)\n",
              "\n",
              "- **Descripción Breve:**\n",
              "  - Google Gemini 1.5 Pro es un modelo de lenguaje avanzado integrado en la plataforma Vertex AI de Google Cloud. Está diseñado para tareas complejas de procesamiento del lenguaje natural y aprendizaje automático con capacidades de integración y escalabilidad dentro del ecosistema de Google.\n",
              "\n",
              "- **Pro (Ventaja Clave):**\n",
              "  - **Integración y Escalabilidad:** Ofrece una integración fluida con otras herramientas de Google Cloud y la infraestructura existente de la empresa, garantizando escalabilidad y soporte técnico eficiente.\n",
              "\n",
              "- **Contra (Desventaja Clave):**\n",
              "  - **Dependencia del Proveedor:** La dependencia en un ecosistema propietario puede llevar a restricciones en la personalización y potenciales costos a largo plazo.\n",
              "\n",
              "- **Aplicación Práctica:**\n",
              "  - Gemini procesaría las solicitudes DML y las validaría con algoritmos avanzados de PLN. Usaría modelos preentrenados ajustados al contexto de banca para prever errores y optimizar queries, con una infraestructura segura y escalable en Google Cloud.\n",
              "\n",
              "### Rama 2: Ecosistema OpenAI (GPT-4 o el más avanzado)\n",
              "\n",
              "- **Descripción Breve:**\n",
              "  - GPT-4 es parte del ecosistema de OpenAI, conocido por su capacidad para entender y generar texto similar al humano con precisión en un amplio rango de tareas de lenguaje.\n",
              "\n",
              "- **Pro (Ventaja Clave):**\n",
              "  - **Precisión y Versatilidad:** Modelos como GPT-4 son reconocidos por su versatilidad para diferentes tipos de lenguaje y pueden ajustarse para diversas aplicaciones con alto rendimiento.\n",
              "\n",
              "- **Contra (Desventaja Clave):**\n",
              "  - **Costos y Control:** Potencialmente altos costos de uso y menor control sobre el procesamiento de datos, factores críticos para el manejo de datos sensibles en banca.\n",
              "\n",
              "- **Aplicación Práctica:**\n",
              "  - GPT-4 podría ser utilizado para generar, revisar y validar scripts DML, identificando errores comunes y proporcionando sugerencias, desplegado en un entorno seguro a través de APIs de OpenAI.\n",
              "\n",
              "### Rama 3: Solución Soberana (Modelo Open-Source/Int. Llama 3)\n",
              "\n",
              "- **Descripción Breve:**\n",
              "  - Modelos Open-Source como Llama 3 permiten un alto grado de personalización y control, ya que pueden ser ajustados para tareas específicas y alojados en infraestructura propia.\n",
              "\n",
              "- **Pro (Ventaja Clave):**\n",
              "  - **Control Total y Costos Reducidos:** Al alojar el modelo internamente, existe un control total sobre los datos y la personalización del modelo a necesidades exactas, además de potenciales ahorros significativos.\n",
              "\n",
              "- **Contra (Desventaja Clave):**\n",
              "  - **Mayores Requerimientos Técnicos:** Requiere un equipo técnico capacitado para el ajuste fino, mantenimiento y actualización del modelo.\n",
              "\n",
              "- **Aplicación Práctica:**\n",
              "  - Un modelo como Llama 3 puede ser fine-tuneado con datos específicos de la organización para detectar y corregir errores en scripts DML, implementado de forma segura en los servidores propios del banco.\n",
              "\n",
              "Este análisis conciso debe ayudarte a considerar cuál es la mejor opción en términos de integración, riesgo y coste para la herramienta \"SantanderSQL Shield\".</div>\n",
              "        <hr style=\"margin-top: 15px; margin-bottom: 5px;\">\n",
              "        <div style=\"font-size: 13px; color: #333;\">\n",
              "            <strong>Tokens usados:</strong>\n",
              "            Prompt: 4446, Respuesta: 721, Total: 5167\n",
              "        </div>\n",
              "    </div>\n",
              "    "
            ]
          },
          "metadata": {}
        }
      ]
    },
    {
      "cell_type": "code",
      "source": [
        "# Prompt ToT que rechaza la justificación y fuerza la exploración de 3 alternativas de LLM.\n",
        "user_prompt_tot_analisis_llm = \"\"\"\n",
        "\n",
        "Gracias por el desglose. Es útil, pero mi opinión es que en las tres ramas la seguridad se trata como una característica,\n",
        "no como el pilar fundamental que es para un banco. Esto me preocupa.\n",
        "\n",
        "Confiar ciegamente en la \"infraestructura segura\" de Google o en las APIs de OpenAI no es una estrategia; es una vulnerabilidad esperando a ser explotada,\n",
        "ya que nuestros scripts son propiedad intelectual crítica. Por otro lado, la \"solución soberana\" no es inherentemente segura; solo transfiere toda la responsabilidad a nuestro equipo, lo que puede ser aún más arriesgado.\n",
        "\n",
        "Por lo tanto, el desafío es el siguiente: Para cada una de las tres ramas, quiero que propongas una medida de seguridad técnica y\n",
        "específica para mitigar el riesgo principal que presenta. No me digas que es seguro, dime cómo lo haríamos seguro en la práctica.\n",
        "\n",
        "\"\"\"\n",
        "\n",
        "# 2. Llamamos directamente a tu función con el nuevo prompt ToT.\n",
        "enviar_mensaje(user_prompt_tot_analisis_llm)"
      ],
      "metadata": {
        "colab": {
          "base_uri": "https://localhost:8080/",
          "height": 475
        },
        "id": "jfU8TdXbgT_R",
        "outputId": "686bbcb9-523c-409d-fa35-5b47413fde27"
      },
      "execution_count": 57,
      "outputs": [
        {
          "output_type": "display_data",
          "data": {
            "text/plain": [
              "<IPython.core.display.HTML object>"
            ],
            "text/html": [
              "\n",
              "    <div style=\"border: 1px solid #ccc; background-color: #f4faff; color: #000000;\n",
              "                padding: 18px; border-radius: 12px; font-family: sans-serif;\n",
              "                max-width: 800px; line-height: 1.6; font-size: 15px;\n",
              "                max-height: 400px; overflow-y: auto; box-shadow: 0px 4px 10px rgba(0,0,0,0.1);\">\n",
              "        <strong style=\"font-size: 16px;\">gpt-4o responde (Iteración #13):</strong><br>\n",
              "        <div style=\"margin-top: 10px; white-space: pre-wrap;\">Entiendo tus preocupaciones y te proporciono una medida de seguridad técnica específica para cada rama que aborde los riesgos potenciales.\n",
              "\n",
              "### Rama 1: Ecosistema Google (Gemini 1.5 Pro en Vertex AI)\n",
              "\n",
              "- **Medida de Seguridad:**\n",
              "  - **Cifrado de Datos y Accesos Restringidos:**\n",
              "    - **Implementación:** Utilizar cifrado de datos tanto en tránsito como en reposo. Implementar el cifrado de extremo a extremo para los scripts DML, asegurando que solo personal autorizado pueda acceder y desencriptar estos datos dentro del sistema.\n",
              "    - **Accesos Restringidos:** Configurar roles y políticas de acceso detallados en Google Cloud IAM (Identity and Access Management) para garantizar que solo las personas y servicios necesarios tengan acceso al modelo y a los datos procesados. Revisar y auditar regularmente los accesos.\n",
              "\n",
              "### Rama 2: Ecosistema OpenAI (GPT-4)\n",
              "\n",
              "- **Medida de Seguridad:**\n",
              "  - **Anonimización y Pseudonimización de Datos:**\n",
              "    - **Implementación:** Antes de enviar cualquier script DML a través de las APIs de OpenAI, aplicar procesos de anonimización y pseudonimización para eliminar cualquier información sensible o propietaria. Esto implica transformar datos directos en pseudocódigos que OpenAI pueda procesar sin comprometer la seguridad de la información.\n",
              "    - **Canales Seguros:** Asegurar que todas las comunicaciones con las APIs se realicen a través de canales TLS/SSL seguros para proteger los datos en tránsito.\n",
              "\n",
              "### Rama 3: Solución Soberana (Modelo Open-Source/Int. Llama 3)\n",
              "\n",
              "- **Medida de Seguridad:**\n",
              "  - **Seguridad Multicapa y Auditorías Internas:**\n",
              "    - **Implementación:** Desplegar el modelo en un entorno de alta seguridad dentro de una red de acceso definido (firewall dentro de un DMZ específico) para protegerlo de accesos no autorizados. Configurar capas adicionales de monitoreo de seguridad, como sistemas de detección de intrusos (IDS/IPS) para identificar y responder a actividades sospechosas.\n",
              "    - **Auditorías:** Implementar un sistema de auditorías regulares del código fuente y la infraestructura para asegurar la integridad y cumplimiento de las políticas de seguridad. Además, realizar revisiones de permisos y accesos regularmente.\n",
              "\n",
              "Estas medidas de seguridad no solo mitigan riesgos inherentes a cada modelo o solución, sino que priorizan la protección de la propiedad intelectual y la integridad de datos críticos para el banco.</div>\n",
              "        <hr style=\"margin-top: 15px; margin-bottom: 5px;\">\n",
              "        <div style=\"font-size: 13px; color: #333;\">\n",
              "            <strong>Tokens usados:</strong>\n",
              "            Prompt: 5364, Respuesta: 533, Total: 5897\n",
              "        </div>\n",
              "    </div>\n",
              "    "
            ]
          },
          "metadata": {}
        }
      ]
    },
    {
      "cell_type": "code",
      "source": [
        "enviar_mensaje(\"Gracias por el apoyo, lo reviso con nuestro jefe y seguimos discutiendo, bonita noche\")"
      ],
      "metadata": {
        "colab": {
          "base_uri": "https://localhost:8080/",
          "height": 199
        },
        "id": "tLxycT5ngjF5",
        "outputId": "7a424acf-68ef-4c5e-d5b6-37843d7b8ffc"
      },
      "execution_count": 58,
      "outputs": [
        {
          "output_type": "display_data",
          "data": {
            "text/plain": [
              "<IPython.core.display.HTML object>"
            ],
            "text/html": [
              "\n",
              "    <div style=\"border: 1px solid #ccc; background-color: #f4faff; color: #000000;\n",
              "                padding: 18px; border-radius: 12px; font-family: sans-serif;\n",
              "                max-width: 800px; line-height: 1.6; font-size: 15px;\n",
              "                max-height: 400px; overflow-y: auto; box-shadow: 0px 4px 10px rgba(0,0,0,0.1);\">\n",
              "        <strong style=\"font-size: 16px;\">gpt-4o responde (Iteración #14):</strong><br>\n",
              "        <div style=\"margin-top: 10px; white-space: pre-wrap;\">¡De nada! Espero que la información te sea útil para la discusión. Si tienes más preguntas o necesitas más ayuda en el futuro, no dudes en decírmelo. ¡Que tengas una buena noche!</div>\n",
              "        <hr style=\"margin-top: 15px; margin-bottom: 5px;\">\n",
              "        <div style=\"font-size: 13px; color: #333;\">\n",
              "            <strong>Tokens usados:</strong>\n",
              "            Prompt: 5924, Respuesta: 42, Total: 5966\n",
              "        </div>\n",
              "    </div>\n",
              "    "
            ]
          },
          "metadata": {}
        }
      ]
    }
  ]
}