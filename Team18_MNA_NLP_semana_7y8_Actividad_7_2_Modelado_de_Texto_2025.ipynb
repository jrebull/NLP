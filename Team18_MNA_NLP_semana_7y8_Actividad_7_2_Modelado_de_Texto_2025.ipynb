{
  "cells": [
    {
      "cell_type": "markdown",
      "metadata": {
        "id": "view-in-github",
        "colab_type": "text"
      },
      "source": [
        "<a href=\"https://colab.research.google.com/github/jrebull/NLP/blob/main/Team18_MNA_NLP_semana_7y8_Actividad_7_2_Modelado_de_Texto_2025.ipynb\" target=\"_parent\"><img src=\"https://colab.research.google.com/assets/colab-badge.svg\" alt=\"Open In Colab\"/></a>"
      ]
    },
    {
      "cell_type": "markdown",
      "metadata": {
        "id": "6dxow3LwxDDw"
      },
      "source": [
        "# Somos el Equipo de los SIHINOS\n",
        " Arranca la aventura a Javilandia en la Jarconavegación acompañado de la Monshemagia ...esto se pondrá intenso...D:\n",
        "\n",
        "\n",
        "⏰⏰⏰⏰⏰⏰⏰⏰⏰⏰⏰⏰⏰⏰⏰⏰⏰⏰⏰\n",
        "\n",
        "# Tocando La Sihinilibreta v0\n",
        "\n",
        "Log de Cambios\n",
        "\n",
        "### 2025-Mayo-25 - Javihino 11 horas Mexico time - Se Crea la Libreta en blanco\n",
        "\n"
      ]
    },
    {
      "cell_type": "markdown",
      "metadata": {
        "id": "yxy82L3P_8QV"
      },
      "source": [
        "# ✨ **Actividad 4 Tarea: Audio-a-Texto con LDA y LLM** ✨\n",
        "## 7.2 Actividad Semanas 7 y 8: Modelado de Tópicos y Modelos de Gran Tamaño - Audio-2-Texto\n",
        "---\n",
        "---\n",
        "\n",
        "## 🗓️ **Información General**\n",
        "> **Fecha de Entrega:** Lunes, 09 de Junio de 2025\n",
        ">\n",
        "> **Versión del Documento:** `v1.0`\n",
        "\n",
        "---\n",
        "---\n",
        "\n",
        "## 👥 **Autores del Proyecto**\n",
        "\n",
        "> ### 👨‍💻 **Juan Carlos Pérez Nava**\n",
        "> `A01795941`\n",
        ">\n",
        "> ### 👨‍💻 **Javier Augusto Rebull Saucedo**\n",
        "> `A01795838`\n",
        ">\n",
        "> ### 👩‍💻 **Sihiní Trinidad Sánchez**\n",
        "> `A00889358`\n",
        ">\n",
        "> ### 👩‍💻 **Iris Monserrat Urbina Casas**\n",
        "> `A01795999`\n",
        "\n",
        "---\n",
        "---\n",
        "\n",
        "## 👨‍🏫 **Supervisión Académica**\n",
        "> **Profesor Tutor:**\n",
        ">\n",
        "> Rodolfo Miguel Gameros Leal\n",
        "\n",
        "> **Profesor Titular:**\n",
        ">\n",
        "> Luis Eduardo Falcón Morales\n",
        "\n",
        "---\n",
        "---"
      ]
    },
    {
      "cell_type": "markdown",
      "metadata": {
        "id": "lNl8G3vHkPSX"
      },
      "source": [
        "# **Maestría en Inteligencia Artificial Aplicada**\n",
        "\n",
        "## Curso: **Procesamiento de Lenguaje Natural**\n",
        "\n",
        "### Tecnológico de Monterrey\n",
        "\n",
        "### Prof Luis Eduardo Falcón Morales\n",
        "\n",
        "## Adtividad Semana 7 y 8\n",
        "\n",
        "### **Modelado de Tópicos y Modelos de Gran Tamaño - Audio-2-Texto**"
      ]
    },
    {
      "cell_type": "markdown",
      "metadata": {
        "id": "ZaY-WLX52dxq"
      },
      "source": [
        "---\n",
        "\n",
        "## Objetivos\n",
        "\n",
        "Aplicar técnicas no supervisadas de modelado de temas con LDA y en combinación con modelos Transformer LLM, generar información sintetizada a partir del texto extraído de archivos de audio.\n",
        "\n",
        "El análisis de documentos (texto, audio, video, etc) es actualmente una de las tareas más importantes dentro del área de procesamiento de texto. En particular, cuando la cantidad de información es muy grande, el complemento de técnicas de modelado de tópicos con LLM es muy recurrida, ya que nos permite optimizar recursos. En esta actividad no tenemos estrictamente una gran cantidad de datos, pero nos muestra la manera en que información de audio puede complementarse con técnicas como LDA para resumir o sintetizar información y aún así, recuperarla posteriormente y hasta cierto grado, con modelos transformer LLM.\n",
        "\n",
        "## Temas:\n",
        "* Análisis de modelación de tópicos (LDA - Asignación Latente de Dirichlet)\n",
        "* Modelos de Gran Tamaño (LLM)\n",
        "\n",
        "---"
      ]
    },
    {
      "cell_type": "markdown",
      "source": [
        "# Instrucciones\n",
        "\n",
        "En esta semana estaremos trabajando con datos de archivos de audio de dominio público.\n",
        "La actividad se entrega dentro de dos semanas y es por equipos.\n",
        "En particular, veremos la manera en que técnicas de modelación semántica latente se pueden complementar con modelos LLM.\n",
        "\n",
        "Atiende los siguientes pasos para la actividad de estas semanas 7 y 8:\n",
        "\n",
        "1.  Descarga el archivo de con las instrucciones de la actividad: `MNA_NLP_Actividad_LDA_LLM_audio2texto.pdf`\n",
        "2.  En esta actividad deberás utilizar algunos de los archivos de audio del proyecto Gutenberg: [https://www.gutenberg.org/](https://www.gutenberg.org/)\n",
        "3.  Una vez terminada la actividad, deberán subir el archivo de JupyterNotebook a GitHub con el nombre indicado en la sección \"Especificaciones de entrega\", de más abajo.\n",
        "4.  Dentro de Canvas, en esta página de la actividad, deberán incluir solamente la liga a tu archivo de la actividad en GitHub.\n",
        "\n",
        "El siguiente cuaderno de Jupyter muestra algunos ejemplos para extraer el texto de un audio, pero no tienes que limitarte a estos, en dado caso:\n",
        "`MNA_NLP_modelos_audio2txt.ipynb`"
      ],
      "metadata": {
        "id": "KOAOpeLFjBtF"
      }
    },
    {
      "cell_type": "markdown",
      "source": [
        "La presente actividad se realiza en equipos y utiliza como datos de entrada archivos de\n",
        "audio con algunas de las fábulas de Esopo en idioma español.\n",
        "\n",
        "Deberán considerar los siguientes puntos:"
      ],
      "metadata": {
        "id": "D1rmysh7kJdc"
      }
    },
    {
      "cell_type": "code",
      "execution_count": null,
      "metadata": {
        "colab": {
          "base_uri": "https://localhost:8080/"
        },
        "id": "wCL2p6MA8NuT",
        "outputId": "6f3aec6f-4f90-4843-8452-8855c25be6d5"
      },
      "outputs": [
        {
          "output_type": "stream",
          "name": "stdout",
          "text": [
            "Requirement already satisfied: contractions in ./miniconda3/envs/torch/lib/python3.12/site-packages (0.1.73)\r\n",
            "Requirement already satisfied: textsearch>=0.0.21 in ./miniconda3/envs/torch/lib/python3.12/site-packages (from contractions) (0.0.24)\n",
            "Requirement already satisfied: anyascii in ./miniconda3/envs/torch/lib/python3.12/site-packages (from textsearch>=0.0.21->contractions) (0.3.2)\n",
            "Requirement already satisfied: pyahocorasick in ./miniconda3/envs/torch/lib/python3.12/site-packages (from textsearch>=0.0.21->contractions) (2.1.0)\n"
          ]
        },
        {
          "output_type": "stream",
          "name": "stderr",
          "text": [
            "[nltk_data] Downloading package stopwords to /home/jarcos/nltk_data...\n",
            "[nltk_data]   Package stopwords is already up-to-date!\n",
            "[nltk_data] Downloading package wordnet to /home/jarcos/nltk_data...\n",
            "[nltk_data]   Package wordnet is already up-to-date!\n",
            "[nltk_data] Downloading package punkt_tab to /home/jarcos/nltk_data...\n",
            "[nltk_data]   Package punkt_tab is already up-to-date!\n"
          ]
        },
        {
          "output_type": "stream",
          "name": "stdout",
          "text": [
            "\n",
            "\n",
            "\n",
            "📚✅ ¡Librerías cargadas y listas para la acción! 🚀\n",
            "\n",
            "\n",
            "\n"
          ]
        }
      ],
      "source": [
        "# Aquí deberás incluir todas las librerías que requieras durante esta actividad:\n",
        "\n",
        "# -------------------------------------------\n",
        "# INSTALACIÓN DE PAQUETES\n",
        "# -------------------------------------------\n",
        "!pip install contractions # Instala 'contractions' para expandir contracciones (e.g., \"don't\" -> \"do not\").\n",
        "\n",
        "# -------------------------------------------\n",
        "# MANEJO DE DATOS\n",
        "# -------------------------------------------\n",
        "import pandas as pd # Para DataFrames y manipulación de datos.\n",
        "import gdown        # Para descargar archivos desde Google Drive.\n",
        "import numpy as np  #Proporciona manejo para objetos de matrices multidimensional\n",
        "\n",
        "# -------------------------------------------\n",
        "# PROCESAMIENTO DE LENGUAJE NATURAL (NLP)\n",
        "# -------------------------------------------\n",
        "import re           # Para expresiones regulares (limpieza de texto, patrones).\n",
        "import contractions # Expande contracciones en texto (e.g., \"I'm\" -> \"I am\").\n",
        "import nltk                       # Toolkit principal para NLP.\n",
        "from nltk.corpus import stopwords # Lista de palabras vacías (a eliminar).\n",
        "from nltk.corpus import wordnet   # Para lematización avanzada, sinónimos (opcional).\n",
        "nltk.download('stopwords')        # Descarga la lista de stopwords de NLTK.\n",
        "nltk.download('wordnet')\n",
        "nltk.download('punkt_tab')\n",
        "\n",
        "from nltk.stem import WordNetLemmatizer # Herramienta para reducir palabras a su forma base (lema).\n",
        "\n",
        "# -------------------------------------------\n",
        "# UTILIDADES DE MACHINE LEARNING\n",
        "# -------------------------------------------\n",
        "from sklearn.model_selection import train_test_split # Divide datasets en entrenamiento/prueba de manera aleatoria.\n",
        "from sklearn.metrics import confusion_matrix         # Calcula la matriz de confusión para evaluar la precisión de un modelo de clasificación.\n",
        "from sklearn.linear_model import LogisticRegression  # Implementa la regresión logística, útil para problemas de clasificación binaria.\n",
        "from sklearn.ensemble import RandomForestClassifier  # Crea un clasificador basado en un conjunto de árboles de decisión.\n",
        "from sklearn.metrics import classification_report\n",
        "\n",
        "\n",
        "# -------------------------------------------\n",
        "# COLECCIONES Y UTILIDADES DE PYTHON\n",
        "# -------------------------------------------\n",
        "from collections import Counter # Cuenta la frecuencia de elementos (e.g., palabras).\n",
        "import os                       # Para interactuar con el sistema operativo (archivos/directorios).\n",
        "\n",
        "\n",
        "# -------------------------------------------\n",
        "# (Otras categorías si es necesario)\n",
        "# -------------------------------------------\n",
        "import pickle                    # Útil para guardar modelos de machine learning o embeddings generados con la API de OpenAI.\n",
        "import matplotlib.pyplot as plt  # Biblioteca de visualización para crear gráficos.\n",
        "import seaborn as sns            # Facilita la creación de gráficos estadísticos.\n",
        "from tabulate import tabulate\n",
        "\n",
        "print('\\n\\n')\n",
        "print(\"📚✅ ¡Librerías cargadas y listas para la acción! 🚀\")\n",
        "print('\\n\\n')"
      ]
    },
    {
      "cell_type": "markdown",
      "source": [
        "## Ejercicio 1:\n",
        "\n",
        "* Los audios son del dominio público tomados de la página del proyecto Gutenberg y los encuentran en la siguiente liga:\n",
        "    [https://www.gutenberg.org/ebooks/21144](https://www.gutenberg.org/ebooks/21144)\n",
        "* Del total de fábulas que hay en dicha página (30 diferentes), solamente deberán trabajar con los siguientes 10 audios:\n",
        "    * 1, 4, 5, 6, 14, 22, 24, 25, 26, 27.\n",
        "* Todos los audios son en español, aunque con diferentes acentos de personas de habla hispana y uno de ellos de una persona no nativa de habla hispana (el audio 25). De preferencia usar los archivos de audio en formato MP3; pero en dado caso pueden usar el formato Apple iTunes si usas Mac y se les facilita su manejo. Cada audio tiene una duración aproximada de 1 minuto. Indiquen el tipo de formato que utilizaron.\n",
        "* De cada archivo de audio deberán extraer el texto en español.\n",
        "    * Todos los audios comienzan y terminan con el mismo contenido. Inician con “las fábulas de Esopo … fábula número ##”. Y terminan con “fin de la fábula, esta grabación …”. Este inicio y final de texto deberás eliminarlos para que no sean parte del análisis que realizarán."
      ],
      "metadata": {
        "id": "YXjBoTk2kb0-"
      }
    },
    {
      "cell_type": "code",
      "source": [],
      "metadata": {
        "id": "dOeUF7KtkbM0"
      },
      "execution_count": null,
      "outputs": []
    }
  ],
  "metadata": {
    "colab": {
      "provenance": [],
      "include_colab_link": true
    },
    "kernelspec": {
      "display_name": "Python 3",
      "name": "python3"
    }
  },
  "nbformat": 4,
  "nbformat_minor": 0
}