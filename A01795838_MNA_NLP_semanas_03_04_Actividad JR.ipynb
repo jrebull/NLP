{
  "nbformat": 4,
  "nbformat_minor": 0,
  "metadata": {
    "colab": {
      "provenance": [],
      "collapsed_sections": [
        "4c34ZOnna3Gu",
        "MfZZ0stLmWJN",
        "qzKiZYuhoHor",
        "xcT5_EvAHIaE",
        "IXc4Z2m6WMUq",
        "1iurTQ-X5WdC",
        "m1GlIF47I15k",
        "L-S6wtXrXyJI",
        "bPl1-LILa2ya",
        "dfMzR65Hhs-h",
        "T2i2LXPBqVRS"
      ]
    },
    "kernelspec": {
      "name": "python3",
      "display_name": "Python 3"
    }
  },
  "cells": [
    {
      "cell_type": "markdown",
      "source": [
        "# 🔍 3.2 Actividad 2 | Más expresiones Regulares y matrices de conteo y tf-idf - Semanas 3 y 4\n",
        "\n",
        "# 📆 12 de Mayo de 2025\n",
        "\n",
        "# 🧑‍🎓 A01795838: Javier Augusto Rebull Saucedo"
      ],
      "metadata": {
        "id": "8pz6hg5lF2mr"
      }
    },
    {
      "cell_type": "markdown",
      "source": [
        "#**Maestría en Inteligencia Artificial Aplicada**\n",
        "##**Curso: Procesamiento de Lenguaje Natural (NLP)**\n",
        "###Tecnológico de Monterrey\n",
        "###Prof Luis Eduardo Falcón Morales\n",
        "\n",
        "## **Adtividad Semanas 03 y 04**\n",
        "\n",
        "###**Pre-procesamiento, Matrices Documeto-Término (DTM) y TF-IDF.**"
      ],
      "metadata": {
        "id": "m32FOTlSU6D_"
      }
    },
    {
      "cell_type": "markdown",
      "source": [
        "En esta actividad deberás utilizar los datos de tres archivos que se encuentran en Canvas:\n",
        "\n",
        "*   **amazon_cells_labelled.txt** Contiene 1000 registros de comentarios de usuarios que adquirieron un producto a través de la plataforma de Amazon.\n",
        "\n",
        "*   **imdb_labelled.txt** Contiene 1000 registros de comentarios que dejaron usuarios sobre palículas y series en la plataforma de IMBD.\n",
        "\n",
        "*   **yelp_labelled.txt** Contiene 1000 comentarios de usuarios sobre servicios de comida dejados en l aplataforma de Yelp.\n",
        "\n",
        "Igualmente son los archivos que encuentras en el Machine Learning Repository de la UCI, llamado \"Sentiment Labelled Sentences\": https://archive.ics.uci.edu/ml/datasets/Sentiment+Labelled+Sentences#\n",
        "\n"
      ],
      "metadata": {
        "id": "xfwc0y44VZfg"
      }
    },
    {
      "cell_type": "code",
      "metadata": {
        "id": "wCL2p6MA8NuT"
      },
      "source": [
        "# ———————————————\n",
        "# Librerías de manipulación de datos\n",
        "# ———————————————\n",
        "import pandas as pd      # Estructuras de datos y análisis (DataFrames, Series)\n",
        "import numpy as np       # Álgebra lineal y operaciones numéricas\n",
        "\n",
        "# ———————————————\n",
        "# Librerías de procesamiento de lenguaje natural (NLP)\n",
        "# ———————————————\n",
        "import nltk              # Toolkit de PLN: tokenización, etiquetado, etc.\n",
        "from nltk.corpus import stopwords  # Listas de palabras vacías (stopwords)\n",
        "\n",
        "# ———————————————\n",
        "# Librerías estándar para manejo de texto\n",
        "# ———————————————\n",
        "import re                # Expresiones regulares\n",
        "import string            # Constantes y utilidades de texto (e.g., punctuation)\n",
        "\n",
        "# ———————————————\n",
        "# Utilidad de descarga y carga desde Google Drive\n",
        "# ———————————————\n",
        "import gdown              # Herramienta para descargar archivos desde Google Drive\n",
        "\n",
        "\n",
        "# ———————————————\n",
        "# Carga silenciosa de CSVs sin warnings\n",
        "# ———————————————\n",
        "import csv               # Para manejar opciones de quoting\n",
        "import warnings          # Para Evitar ver warnings no deseados\n",
        "\n",
        "# Silenciar exclusivamente los ParserWarnings de pandas\n",
        "warnings.filterwarnings('ignore', category=pd.errors.ParserWarning)"
      ],
      "execution_count": 1,
      "outputs": []
    },
    {
      "cell_type": "code",
      "metadata": {
        "id": "2V1Sx5oV_8KZ",
        "colab": {
          "base_uri": "https://localhost:8080/"
        },
        "outputId": "76eb24e0-613c-48ea-cf0c-32bf5af042c8"
      },
      "source": [
        "# ———————————————\n",
        "# Descarga de recursos de NLTK\n",
        "# ———————————————\n",
        "nltk.download('punkt')      # Descarga el modelo 'punkt' para dividir texto en oraciones y tokens usando un enfoque basado en aprendizaje no supervisado.\n",
        "                            # Útil para tokenización precisa antes de procesar o analizar estructuras de texto.\n",
        "nltk.download('stopwords')  # Descarga las listas de \"stopwords\" (palabras vacías) en múltiples idiomas.\n",
        "                            # Estas listas ayudan a filtrar palabras de alto uso pero bajo contenido semántico (e.g., \"el\", \"and\", \"the\")."
      ],
      "execution_count": 2,
      "outputs": [
        {
          "output_type": "stream",
          "name": "stderr",
          "text": [
            "[nltk_data] Downloading package punkt to /root/nltk_data...\n",
            "[nltk_data]   Unzipping tokenizers/punkt.zip.\n",
            "[nltk_data] Downloading package stopwords to /root/nltk_data...\n",
            "[nltk_data]   Unzipping corpora/stopwords.zip.\n"
          ]
        },
        {
          "output_type": "execute_result",
          "data": {
            "text/plain": [
              "True"
            ]
          },
          "metadata": {},
          "execution_count": 2
        }
      ]
    },
    {
      "cell_type": "markdown",
      "source": [
        "---"
      ],
      "metadata": {
        "id": "DKGgW6ZiW0uL"
      }
    },
    {
      "cell_type": "code",
      "source": [
        "# ———————————————\n",
        "# Exploración de stopwords en inglés\n",
        "# ———————————————\n",
        "\n",
        "# Cargar lista de stopwords en inglés\n",
        "stopwords_engl = stopwords.words('english')\n",
        "\n",
        "# Mostrar total de stopwords\n",
        "print(f\"Total de stopwords en inglés: {len(stopwords_engl)}\\n\")\n",
        "\n",
        "# Imprimir 10 palabras por línea con numeración de bloque\n",
        "for bloque_idx in range(0, len(stopwords_engl), 10):\n",
        "    bloque = stopwords_engl[bloque_idx : bloque_idx + 10]\n",
        "    línea_num = bloque_idx // 10 + 1\n",
        "    # Unir las 10 palabras con comas y espacio\n",
        "    print(f\"{línea_num:2d}: \" + \", \".join(bloque))\n"
      ],
      "metadata": {
        "id": "Dk4T-Oaf99Am",
        "colab": {
          "base_uri": "https://localhost:8080/"
        },
        "outputId": "10fc1cc0-9f0a-442f-f110-26fa836b8ac8"
      },
      "execution_count": 3,
      "outputs": [
        {
          "output_type": "stream",
          "name": "stdout",
          "text": [
            "Total de stopwords en inglés: 198\n",
            "\n",
            " 1: a, about, above, after, again, against, ain, all, am, an\n",
            " 2: and, any, are, aren, aren't, as, at, be, because, been\n",
            " 3: before, being, below, between, both, but, by, can, couldn, couldn't\n",
            " 4: d, did, didn, didn't, do, does, doesn, doesn't, doing, don\n",
            " 5: don't, down, during, each, few, for, from, further, had, hadn\n",
            " 6: hadn't, has, hasn, hasn't, have, haven, haven't, having, he, he'd\n",
            " 7: he'll, her, here, hers, herself, he's, him, himself, his, how\n",
            " 8: i, i'd, if, i'll, i'm, in, into, is, isn, isn't\n",
            " 9: it, it'd, it'll, it's, its, itself, i've, just, ll, m\n",
            "10: ma, me, mightn, mightn't, more, most, mustn, mustn't, my, myself\n",
            "11: needn, needn't, no, nor, not, now, o, of, off, on\n",
            "12: once, only, or, other, our, ours, ourselves, out, over, own\n",
            "13: re, s, same, shan, shan't, she, she'd, she'll, she's, should\n",
            "14: shouldn, shouldn't, should've, so, some, such, t, than, that, that'll\n",
            "15: the, their, theirs, them, themselves, then, there, these, they, they'd\n",
            "16: they'll, they're, they've, this, those, through, to, too, under, until\n",
            "17: up, ve, very, was, wasn, wasn't, we, we'd, we'll, we're\n",
            "18: were, weren, weren't, we've, what, when, where, which, while, who\n",
            "19: whom, why, will, with, won, won't, wouldn, wouldn't, y, you\n",
            "20: you'd, you'll, your, you're, yours, yourself, yourselves, you've\n"
          ]
        }
      ]
    },
    {
      "cell_type": "code",
      "source": [
        "# ———————————————\n",
        "# Consideremos la siguiente lista de palabras asociada a negaciones en inglés:\n",
        "# ———————————————\n",
        "negwords = [\n",
        "    # 🛑 Negaciones absolutas (bloquean el sentido completo)\n",
        "    'no', 'nor', 'not',\n",
        "\n",
        "    # 🔧 Formas base sin apóstrofe (útiles para tokenización cruda)\n",
        "    'ain', 'aren', 'don', 'couldn', 'didn', 'doesn',\n",
        "    'hadn', 'hasn', 'haven', 'isn', 'mightn', 'mustn',\n",
        "    'needn', 'shan', 'shouldn', 'wasn', 'weren', 'won', 'wouldn',\n",
        "\n",
        "    # 📎 Contracciones completas (como aparecen en el texto natural)\n",
        "    \"aren't\", \"don't\", \"couldn't\", \"didn't\", \"doesn't\",\n",
        "    \"hadn't\", \"hasn't\", \"haven't\", \"isn't\", \"mightn't\",\n",
        "    \"mustn't\", \"needn't\", \"shan't\", \"shouldn't\", \"wasn't\",\n",
        "    \"weren't\", \"won't\", \"wouldn't\"\n",
        "]"
      ],
      "metadata": {
        "id": "R35MJcqCZtvd"
      },
      "execution_count": 4,
      "outputs": []
    },
    {
      "cell_type": "markdown",
      "source": [
        "---"
      ],
      "metadata": {
        "id": "MlwXIfduWx_f"
      }
    },
    {
      "cell_type": "markdown",
      "source": [
        "# **Pregunta - 1:**\n",
        "\n",
        "## 1 - Actualización de lista de stopwords.\n",
        "\n"
      ],
      "metadata": {
        "id": "4c34ZOnna3Gu"
      }
    },
    {
      "cell_type": "markdown",
      "source": [
        "\n",
        "Excluye todas las palabras de la lista \"negwords\" de la lista predeterminada de \"stopwords\", para definir un nuevo conjunto llamado **mystopwords**, con el cual trabajaremos en esta Actividad:\n"
      ],
      "metadata": {
        "id": "yeNllxRdmeWg"
      }
    },
    {
      "cell_type": "code",
      "source": [
        "################################################################################\n",
        "# AGREGA AQUÍ TU LÍNEA O LÍNEAS DE CÓDIGO - Pregunta 1:\n",
        "\n",
        "# ———————————————\n",
        "# Filtrar stopwords excluyendo negaciones\n",
        "# ———————————————\n",
        "\n",
        "# 1️⃣ Convertir listas a conjuntos para búsquedas más rápidas (O(1) vs O(n))\n",
        "stopwords_set  = set(stopwords.words('english'))  # Todas las stopwords en inglés\n",
        "negations_set  = set(negwords)                    # Lista de negaciones definidas\n",
        "\n",
        "# 2️⃣ Realizar la diferencia de conjuntos para eliminar negaciones\n",
        "filtered_stopwords = stopwords_set - negations_set\n",
        "\n",
        "# 3️⃣ Ordenar el resultado para tener una lista predecible y fácil de inspeccionar\n",
        "mystopwords = sorted(filtered_stopwords)\n",
        "\n",
        "# FIN PARA AGREGAR TU LÍNEA O LÍNEAS DE CÓDIGO.\n",
        "################################################################################\n",
        "\n",
        "# 4️⃣ Mostrar cuántas stopwords quedan tras el filtrado\n",
        "print(f\"Stopwords totales tras filtrar negaciones: {len(mystopwords)} \\n\")\n",
        "\n",
        "print(\"mystopwords = \")\n",
        "\n",
        "# Imprimir 10 palabras por línea con numeración de bloque\n",
        "for bloque_idx2 in range(0, len(mystopwords), 10):\n",
        "    bloque2 = mystopwords[bloque_idx2 : bloque_idx2 + 10]\n",
        "    línea_num2 = bloque_idx2 // 10 + 1\n",
        "    # Unir las 10 palabras con comas y espacio\n",
        "    print(f\"{línea_num2:2d}: \" + \", \".join(bloque2))"
      ],
      "metadata": {
        "id": "a1LG9WrCcikf",
        "colab": {
          "base_uri": "https://localhost:8080/"
        },
        "outputId": "f532e789-0095-46c4-837b-e62e0f2e0f81"
      },
      "execution_count": 5,
      "outputs": [
        {
          "output_type": "stream",
          "name": "stdout",
          "text": [
            "Stopwords totales tras filtrar negaciones: 158 \n",
            "\n",
            "mystopwords = \n",
            " 1: a, about, above, after, again, against, all, am, an, and\n",
            " 2: any, are, as, at, be, because, been, before, being, below\n",
            " 3: between, both, but, by, can, d, did, do, does, doing\n",
            " 4: down, during, each, few, for, from, further, had, has, have\n",
            " 5: having, he, he'd, he'll, he's, her, here, hers, herself, him\n",
            " 6: himself, his, how, i, i'd, i'll, i'm, i've, if, in\n",
            " 7: into, is, it, it'd, it'll, it's, its, itself, just, ll\n",
            " 8: m, ma, me, more, most, my, myself, now, o, of\n",
            " 9: off, on, once, only, or, other, our, ours, ourselves, out\n",
            "10: over, own, re, s, same, she, she'd, she'll, she's, should\n",
            "11: should've, so, some, such, t, than, that, that'll, the, their\n",
            "12: theirs, them, themselves, then, there, these, they, they'd, they'll, they're\n",
            "13: they've, this, those, through, to, too, under, until, up, ve\n",
            "14: very, was, we, we'd, we'll, we're, we've, were, what, when\n",
            "15: where, which, while, who, whom, why, will, with, y, you\n",
            "16: you'd, you'll, you're, you've, your, yours, yourself, yourselves\n"
          ]
        }
      ]
    },
    {
      "cell_type": "markdown",
      "source": [
        "---"
      ],
      "metadata": {
        "id": "PPTKPGayWwDf"
      }
    },
    {
      "cell_type": "markdown",
      "metadata": {
        "id": "w3EvJg8YAkEe"
      },
      "source": [
        "###**Cargamos los datos de Amazon / IMDB / Yelp**"
      ]
    },
    {
      "cell_type": "code",
      "source": [
        "# ———————————————\n",
        "# 1. Descarga de archivos desde Google Drive\n",
        "# ———————————————\n",
        "import gdown\n",
        "import pandas as pd\n",
        "\n",
        "# Mapeo de variable → (ID de Drive, nombre de archivo local)\n",
        "drive_map = {\n",
        "    'dfa': ('1EZICGIUIsyGmj5qyR9CbmyamcsWbAS87', 'amazon_cells_labelled.txt'),\n",
        "    'dfi': ('1_tOGGiuohFyOw_I0U8djW--sir6jo5fr', 'imdb_labelled.txt'),\n",
        "    'dfy': ('1AayQfr55wWCX-xSqwsDSDc0r-5q9UNFz', 'yelp_labelled.txt')\n",
        "}\n",
        "\n",
        "for var, (file_id, filename) in drive_map.items():\n",
        "    url = f'https://drive.google.com/uc?id={file_id}'\n",
        "    # Descarga el archivo (se salta si ya existe)\n",
        "    gdown.download(url, filename, quiet=False)"
      ],
      "metadata": {
        "colab": {
          "base_uri": "https://localhost:8080/"
        },
        "id": "33CI8Md0Re7C",
        "outputId": "d0919eea-d547-4f24-f695-c6c37c288054"
      },
      "execution_count": 6,
      "outputs": [
        {
          "output_type": "stream",
          "name": "stderr",
          "text": [
            "Downloading...\n",
            "From: https://drive.google.com/uc?id=1EZICGIUIsyGmj5qyR9CbmyamcsWbAS87\n",
            "To: /content/amazon_cells_labelled.txt\n",
            "100%|██████████| 58.2k/58.2k [00:00<00:00, 54.6MB/s]\n",
            "Downloading...\n",
            "From: https://drive.google.com/uc?id=1_tOGGiuohFyOw_I0U8djW--sir6jo5fr\n",
            "To: /content/imdb_labelled.txt\n",
            "100%|██████████| 85.3k/85.3k [00:00<00:00, 57.9MB/s]\n",
            "Downloading...\n",
            "From: https://drive.google.com/uc?id=1AayQfr55wWCX-xSqwsDSDc0r-5q9UNFz\n",
            "To: /content/yelp_labelled.txt\n",
            "100%|██████████| 61.3k/61.3k [00:00<00:00, 57.6MB/s]\n"
          ]
        }
      ]
    },
    {
      "cell_type": "code",
      "source": [
        "# ———————————————\n",
        "# 2. Carga de DataFrames\n",
        "# ———————————————\n",
        "for var, (_, filename) in drive_map.items():\n",
        "    globals()[var] = pd.read_csv(\n",
        "        filename,\n",
        "        sep='\\t',                   # Tabulador como separador\n",
        "        header=None,                # Sin cabecera en el archivo\n",
        "        names=['review', 'label'],  # Columnas: texto y etiqueta\n",
        "        encoding='utf-8',           # Compatibilidad con caracteres especiales\n",
        "        engine='python',            # Parser más tolerante\n",
        "        on_bad_lines='skip',        # Omitir silenciosamente filas mal formadas\n",
        "        quoting=csv.QUOTE_NONE      # Desactivar parsing de comillas para evitar errores\n",
        "    )\n",
        "    df = globals()[var]\n",
        "    print(f\"✅ {filename} → '{var}': {df.shape[0]} filas, {df.shape[1]} columnas \\n\")"
      ],
      "metadata": {
        "colab": {
          "base_uri": "https://localhost:8080/"
        },
        "id": "lPKJkEYmUVjV",
        "outputId": "b25f0b3a-d466-42f1-b060-e0889499cc60"
      },
      "execution_count": 7,
      "outputs": [
        {
          "output_type": "stream",
          "name": "stdout",
          "text": [
            "✅ amazon_cells_labelled.txt → 'dfa': 1000 filas, 2 columnas \n",
            "\n",
            "✅ imdb_labelled.txt → 'dfi': 1000 filas, 2 columnas \n",
            "\n",
            "✅ yelp_labelled.txt → 'dfy': 1000 filas, 2 columnas \n",
            "\n"
          ]
        }
      ]
    },
    {
      "cell_type": "code",
      "source": [
        "# ———————————————\n",
        "# 3. Validación de los DataFrames\n",
        "# ———————————————\n",
        "for var in ['dfa', 'dfi', 'dfy']:\n",
        "    df = globals()[var]\n",
        "\n",
        "    # Encabezado decorativo\n",
        "    print(\"=\" * 60)\n",
        "    print(f\"🗂️  VALIDACIÓN DEL DATAFRAME: {var.upper()}\")\n",
        "    print(\"=\" * 60)\n",
        "\n",
        "    # a) Primeras 3 filas (sin índices para mayor limpieza)\n",
        "    print(\"\\n[Primeras 3 filas]\")\n",
        "    print(df.head(3).to_string(index=False))\n",
        "\n",
        "    # b) Tipos de datos por columna\n",
        "    print(\"\\n[Tipos de datos]\")\n",
        "    print(df.dtypes.to_frame('dtype').to_string())\n",
        "\n",
        "    # c) Conteo de valores nulos\n",
        "    print(\"\\n[Valores nulos por columna]\")\n",
        "    print(df.isnull().sum().to_frame('missing').to_string())\n",
        "\n",
        "    # d) Distribución de la columna 'label'\n",
        "    print(\"\\n[Distribución de 'label']\")\n",
        "    counts = df['label'].value_counts().sort_index()\n",
        "    print(counts.to_frame('count').to_string())\n",
        "\n",
        "    # Espacio antes del siguiente bloque\n",
        "    print(\"\\n\")\n"
      ],
      "metadata": {
        "colab": {
          "base_uri": "https://localhost:8080/"
        },
        "id": "3xqIZ8UCUZg_",
        "outputId": "fc707e89-a514-47bc-9103-2b79ef573edd"
      },
      "execution_count": 8,
      "outputs": [
        {
          "output_type": "stream",
          "name": "stdout",
          "text": [
            "============================================================\n",
            "🗂️  VALIDACIÓN DEL DATAFRAME: DFA\n",
            "============================================================\n",
            "\n",
            "[Primeras 3 filas]\n",
            "                                                                            review  label\n",
            "So there is no way for me to plug it in here in the US unless I go by a converter.      0\n",
            "                                                       Good case, Excellent value.      1\n",
            "                                                            Great for the jawbone.      1\n",
            "\n",
            "[Tipos de datos]\n",
            "         dtype\n",
            "review  object\n",
            "label    int64\n",
            "\n",
            "[Valores nulos por columna]\n",
            "        missing\n",
            "review        0\n",
            "label         0\n",
            "\n",
            "[Distribución de 'label']\n",
            "       count\n",
            "label       \n",
            "0        500\n",
            "1        500\n",
            "\n",
            "\n",
            "============================================================\n",
            "🗂️  VALIDACIÓN DEL DATAFRAME: DFI\n",
            "============================================================\n",
            "\n",
            "[Primeras 3 filas]\n",
            "                                                                                                                                                                                      review  label\n",
            "                                                                                                     A very, very, very slow-moving, aimless movie about a distressed, drifting young man.        0\n",
            "                                                                                         Not sure who was more lost - the flat characters or the audience, nearly half of whom walked out.        0\n",
            "Attempting artiness with black & white and clever camera angles, the movie disappointed - became even more ridiculous - as the acting was poor and the plot and lines almost non-existent.        0\n",
            "\n",
            "[Tipos de datos]\n",
            "         dtype\n",
            "review  object\n",
            "label    int64\n",
            "\n",
            "[Valores nulos por columna]\n",
            "        missing\n",
            "review        0\n",
            "label         0\n",
            "\n",
            "[Distribución de 'label']\n",
            "       count\n",
            "label       \n",
            "0        500\n",
            "1        500\n",
            "\n",
            "\n",
            "============================================================\n",
            "🗂️  VALIDACIÓN DEL DATAFRAME: DFY\n",
            "============================================================\n",
            "\n",
            "[Primeras 3 filas]\n",
            "                                   review  label\n",
            "                 Wow... Loved this place.      1\n",
            "                       Crust is not good.      0\n",
            "Not tasty and the texture was just nasty.      0\n",
            "\n",
            "[Tipos de datos]\n",
            "         dtype\n",
            "review  object\n",
            "label    int64\n",
            "\n",
            "[Valores nulos por columna]\n",
            "        missing\n",
            "review        0\n",
            "label         0\n",
            "\n",
            "[Distribución de 'label']\n",
            "       count\n",
            "label       \n",
            "0        500\n",
            "1        500\n",
            "\n",
            "\n"
          ]
        }
      ]
    },
    {
      "cell_type": "code",
      "metadata": {
        "id": "1bXOeDGf9GIG",
        "colab": {
          "base_uri": "https://localhost:8080/"
        },
        "outputId": "975b753d-915f-4f71-d75a-195ffbf8590d"
      },
      "source": [
        "# ———————————————\n",
        "# Carga de datasets etiquetados de reseñas\n",
        "# ———————————————\n",
        "# (Ajusta las rutas si tus archivos están en otra carpeta)\n",
        "\n",
        "dfa = pd.read_csv(\n",
        "    'amazon_cells_labelled.txt',  # Amazon: reseñas de celdas etiquetadas\n",
        "    sep='\\t',                     # Tabulador como delimitador\n",
        "    header=None,                  # Sin fila de encabezado en el archivo\n",
        "    names=['review', 'label'],    # Columnas: texto de la reseña y etiqueta\n",
        "    encoding='utf-8'              # Soporte para caracteres especiales\n",
        ")\n",
        "\n",
        "dfi = pd.read_csv(\n",
        "    'imdb_labelled.txt',          # IMDB: reseñas de películas etiquetadas\n",
        "    sep='\\t',                     # Tabulador como delimitador\n",
        "    header=None,                  # Sin fila de encabezado en el archivo\n",
        "    names=['review', 'label'],    # Columnas: texto de la reseña y etiqueta\n",
        "    encoding='utf-8'              # Soporte para caracteres especiales\n",
        ")\n",
        "\n",
        "dfy = pd.read_csv(\n",
        "    'yelp_labelled.txt',          # Yelp: reseñas de locales etiquetadas\n",
        "    sep='\\t',                     # Tabulador como delimitador\n",
        "    header=None,                  # Sin fila de encabezado en el archivo\n",
        "    names=['review', 'label'],    # Columnas: texto de la reseña y etiqueta\n",
        "    encoding='utf-8'              # Soporte para caracteres especiales\n",
        ")\n",
        "\n",
        "# ———————————————\n",
        "# Resumen de registros cargados\n",
        "# ———————————————\n",
        "print(f\"Total de registros de Amazon: {dfa.shape[0]} filas, {dfa.shape[1]} columnas\")\n",
        "print(f\"Total de registros de IMDB:   {dfi.shape[0]} filas, {dfi.shape[1]} columnas\")\n",
        "print(f\"Total de registros de Yelp:   {dfy.shape[0]} filas, {dfy.shape[1]} columnas\")\n"
      ],
      "execution_count": 10,
      "outputs": [
        {
          "output_type": "stream",
          "name": "stdout",
          "text": [
            "Total de registros de Amazon: 1000 filas, 2 columnas\n",
            "Total de registros de IMDB:   748 filas, 2 columnas\n",
            "Total de registros de Yelp:   1000 filas, 2 columnas\n"
          ]
        }
      ]
    },
    {
      "cell_type": "markdown",
      "source": [
        "La salida anterior esperada es la siguiente:\n",
        "\n",
        "Total de registros de Amazon: (1000, 2)\n",
        "\n",
        "Total de registros de IMBD: (748, 2)\n",
        "\n",
        "Total de registros de Yelp: (1000, 2)"
      ],
      "metadata": {
        "id": "qEDPla_efqVb"
      }
    },
    {
      "cell_type": "code",
      "source": [
        "# ———————————————\n",
        "# Validación de shapes de los DataFrames con emoticones “chidos”\n",
        "# ———————————————\n",
        "\n",
        "# Diccionarios de nombres legibles y formas esperadas\n",
        "nombres = {\n",
        "    'dfa': 'Amazon',\n",
        "    'dfi': 'IMDB',\n",
        "    'dfy': 'Yelp'\n",
        "}\n",
        "\n",
        "formas_esperadas = {\n",
        "    'dfa': (1000, 2),\n",
        "    'dfi': (748,  2),\n",
        "    'dfy': (1000, 2)\n",
        "}\n",
        "\n",
        "# Recolectar formas reales y mostrarlas con emojis\n",
        "formas_reales = {}\n",
        "for var, nombre in nombres.items():\n",
        "    forma = globals()[var].shape\n",
        "    formas_reales[var] = forma\n",
        "    print(f\"📊 Total de registros de {nombre}: {forma} {'✅' if forma == formas_esperadas[var] else '❌'}\")\n",
        "\n",
        "# Verificar si todas las formas coinciden\n",
        "if formas_reales == formas_esperadas:\n",
        "    print(\"\\n🎉 TODO OK: Todas las formas coinciden con lo esperado.\")\n",
        "else:\n",
        "    print(\"\\n⚠️ ERROR: Se detectaron discrepancias en las formas.\")\n",
        "    for var, nombre in nombres.items():\n",
        "        real = formas_reales[var]\n",
        "        esperada = formas_esperadas[var]\n",
        "        if real != esperada:\n",
        "            print(f\"   ‼️ {nombre}: actual {real}, pero se esperaba {esperada}.\")\n"
      ],
      "metadata": {
        "colab": {
          "base_uri": "https://localhost:8080/"
        },
        "id": "Cgbm0Rp1WAQw",
        "outputId": "d76952e4-676c-423b-aab2-12264db7a0b1"
      },
      "execution_count": 11,
      "outputs": [
        {
          "output_type": "stream",
          "name": "stdout",
          "text": [
            "📊 Total de registros de Amazon: (1000, 2) ✅\n",
            "📊 Total de registros de IMDB: (748, 2) ✅\n",
            "📊 Total de registros de Yelp: (1000, 2) ✅\n",
            "\n",
            "🎉 TODO OK: Todas las formas coinciden con lo esperado.\n"
          ]
        }
      ]
    },
    {
      "cell_type": "markdown",
      "source": [
        "---"
      ],
      "metadata": {
        "id": "8BekA_HlWsrm"
      }
    },
    {
      "cell_type": "code",
      "source": [
        "dfa.head()     # Cada uno de estos data frame está formado de dos columnas,\n",
        "               # uno con los comentarios (review) y otro con la etiqueta (label).\n",
        "               # En particular aquí mostramos en el Amazon:"
      ],
      "metadata": {
        "id": "sUUzqqqKnS9U",
        "colab": {
          "base_uri": "https://localhost:8080/",
          "height": 204
        },
        "outputId": "a0cfa0d6-269a-4dc8-f349-b9f4079e08e9"
      },
      "execution_count": 12,
      "outputs": [
        {
          "output_type": "execute_result",
          "data": {
            "text/plain": [
              "                                              review  label\n",
              "0  So there is no way for me to plug it in here i...      0\n",
              "1                        Good case, Excellent value.      1\n",
              "2                             Great for the jawbone.      1\n",
              "3  Tied to charger for conversations lasting more...      0\n",
              "4                                  The mic is great.      1"
            ],
            "text/html": [
              "\n",
              "  <div id=\"df-a5ba43e5-0a0d-469a-ab24-3c81f8c6db06\" class=\"colab-df-container\">\n",
              "    <div>\n",
              "<style scoped>\n",
              "    .dataframe tbody tr th:only-of-type {\n",
              "        vertical-align: middle;\n",
              "    }\n",
              "\n",
              "    .dataframe tbody tr th {\n",
              "        vertical-align: top;\n",
              "    }\n",
              "\n",
              "    .dataframe thead th {\n",
              "        text-align: right;\n",
              "    }\n",
              "</style>\n",
              "<table border=\"1\" class=\"dataframe\">\n",
              "  <thead>\n",
              "    <tr style=\"text-align: right;\">\n",
              "      <th></th>\n",
              "      <th>review</th>\n",
              "      <th>label</th>\n",
              "    </tr>\n",
              "  </thead>\n",
              "  <tbody>\n",
              "    <tr>\n",
              "      <th>0</th>\n",
              "      <td>So there is no way for me to plug it in here i...</td>\n",
              "      <td>0</td>\n",
              "    </tr>\n",
              "    <tr>\n",
              "      <th>1</th>\n",
              "      <td>Good case, Excellent value.</td>\n",
              "      <td>1</td>\n",
              "    </tr>\n",
              "    <tr>\n",
              "      <th>2</th>\n",
              "      <td>Great for the jawbone.</td>\n",
              "      <td>1</td>\n",
              "    </tr>\n",
              "    <tr>\n",
              "      <th>3</th>\n",
              "      <td>Tied to charger for conversations lasting more...</td>\n",
              "      <td>0</td>\n",
              "    </tr>\n",
              "    <tr>\n",
              "      <th>4</th>\n",
              "      <td>The mic is great.</td>\n",
              "      <td>1</td>\n",
              "    </tr>\n",
              "  </tbody>\n",
              "</table>\n",
              "</div>\n",
              "    <div class=\"colab-df-buttons\">\n",
              "\n",
              "  <div class=\"colab-df-container\">\n",
              "    <button class=\"colab-df-convert\" onclick=\"convertToInteractive('df-a5ba43e5-0a0d-469a-ab24-3c81f8c6db06')\"\n",
              "            title=\"Convert this dataframe to an interactive table.\"\n",
              "            style=\"display:none;\">\n",
              "\n",
              "  <svg xmlns=\"http://www.w3.org/2000/svg\" height=\"24px\" viewBox=\"0 -960 960 960\">\n",
              "    <path d=\"M120-120v-720h720v720H120Zm60-500h600v-160H180v160Zm220 220h160v-160H400v160Zm0 220h160v-160H400v160ZM180-400h160v-160H180v160Zm440 0h160v-160H620v160ZM180-180h160v-160H180v160Zm440 0h160v-160H620v160Z\"/>\n",
              "  </svg>\n",
              "    </button>\n",
              "\n",
              "  <style>\n",
              "    .colab-df-container {\n",
              "      display:flex;\n",
              "      gap: 12px;\n",
              "    }\n",
              "\n",
              "    .colab-df-convert {\n",
              "      background-color: #E8F0FE;\n",
              "      border: none;\n",
              "      border-radius: 50%;\n",
              "      cursor: pointer;\n",
              "      display: none;\n",
              "      fill: #1967D2;\n",
              "      height: 32px;\n",
              "      padding: 0 0 0 0;\n",
              "      width: 32px;\n",
              "    }\n",
              "\n",
              "    .colab-df-convert:hover {\n",
              "      background-color: #E2EBFA;\n",
              "      box-shadow: 0px 1px 2px rgba(60, 64, 67, 0.3), 0px 1px 3px 1px rgba(60, 64, 67, 0.15);\n",
              "      fill: #174EA6;\n",
              "    }\n",
              "\n",
              "    .colab-df-buttons div {\n",
              "      margin-bottom: 4px;\n",
              "    }\n",
              "\n",
              "    [theme=dark] .colab-df-convert {\n",
              "      background-color: #3B4455;\n",
              "      fill: #D2E3FC;\n",
              "    }\n",
              "\n",
              "    [theme=dark] .colab-df-convert:hover {\n",
              "      background-color: #434B5C;\n",
              "      box-shadow: 0px 1px 3px 1px rgba(0, 0, 0, 0.15);\n",
              "      filter: drop-shadow(0px 1px 2px rgba(0, 0, 0, 0.3));\n",
              "      fill: #FFFFFF;\n",
              "    }\n",
              "  </style>\n",
              "\n",
              "    <script>\n",
              "      const buttonEl =\n",
              "        document.querySelector('#df-a5ba43e5-0a0d-469a-ab24-3c81f8c6db06 button.colab-df-convert');\n",
              "      buttonEl.style.display =\n",
              "        google.colab.kernel.accessAllowed ? 'block' : 'none';\n",
              "\n",
              "      async function convertToInteractive(key) {\n",
              "        const element = document.querySelector('#df-a5ba43e5-0a0d-469a-ab24-3c81f8c6db06');\n",
              "        const dataTable =\n",
              "          await google.colab.kernel.invokeFunction('convertToInteractive',\n",
              "                                                    [key], {});\n",
              "        if (!dataTable) return;\n",
              "\n",
              "        const docLinkHtml = 'Like what you see? Visit the ' +\n",
              "          '<a target=\"_blank\" href=https://colab.research.google.com/notebooks/data_table.ipynb>data table notebook</a>'\n",
              "          + ' to learn more about interactive tables.';\n",
              "        element.innerHTML = '';\n",
              "        dataTable['output_type'] = 'display_data';\n",
              "        await google.colab.output.renderOutput(dataTable, element);\n",
              "        const docLink = document.createElement('div');\n",
              "        docLink.innerHTML = docLinkHtml;\n",
              "        element.appendChild(docLink);\n",
              "      }\n",
              "    </script>\n",
              "  </div>\n",
              "\n",
              "\n",
              "    <div id=\"df-fd0faf6a-d0c7-4912-bea3-a546f8dab029\">\n",
              "      <button class=\"colab-df-quickchart\" onclick=\"quickchart('df-fd0faf6a-d0c7-4912-bea3-a546f8dab029')\"\n",
              "                title=\"Suggest charts\"\n",
              "                style=\"display:none;\">\n",
              "\n",
              "<svg xmlns=\"http://www.w3.org/2000/svg\" height=\"24px\"viewBox=\"0 0 24 24\"\n",
              "     width=\"24px\">\n",
              "    <g>\n",
              "        <path d=\"M19 3H5c-1.1 0-2 .9-2 2v14c0 1.1.9 2 2 2h14c1.1 0 2-.9 2-2V5c0-1.1-.9-2-2-2zM9 17H7v-7h2v7zm4 0h-2V7h2v10zm4 0h-2v-4h2v4z\"/>\n",
              "    </g>\n",
              "</svg>\n",
              "      </button>\n",
              "\n",
              "<style>\n",
              "  .colab-df-quickchart {\n",
              "      --bg-color: #E8F0FE;\n",
              "      --fill-color: #1967D2;\n",
              "      --hover-bg-color: #E2EBFA;\n",
              "      --hover-fill-color: #174EA6;\n",
              "      --disabled-fill-color: #AAA;\n",
              "      --disabled-bg-color: #DDD;\n",
              "  }\n",
              "\n",
              "  [theme=dark] .colab-df-quickchart {\n",
              "      --bg-color: #3B4455;\n",
              "      --fill-color: #D2E3FC;\n",
              "      --hover-bg-color: #434B5C;\n",
              "      --hover-fill-color: #FFFFFF;\n",
              "      --disabled-bg-color: #3B4455;\n",
              "      --disabled-fill-color: #666;\n",
              "  }\n",
              "\n",
              "  .colab-df-quickchart {\n",
              "    background-color: var(--bg-color);\n",
              "    border: none;\n",
              "    border-radius: 50%;\n",
              "    cursor: pointer;\n",
              "    display: none;\n",
              "    fill: var(--fill-color);\n",
              "    height: 32px;\n",
              "    padding: 0;\n",
              "    width: 32px;\n",
              "  }\n",
              "\n",
              "  .colab-df-quickchart:hover {\n",
              "    background-color: var(--hover-bg-color);\n",
              "    box-shadow: 0 1px 2px rgba(60, 64, 67, 0.3), 0 1px 3px 1px rgba(60, 64, 67, 0.15);\n",
              "    fill: var(--button-hover-fill-color);\n",
              "  }\n",
              "\n",
              "  .colab-df-quickchart-complete:disabled,\n",
              "  .colab-df-quickchart-complete:disabled:hover {\n",
              "    background-color: var(--disabled-bg-color);\n",
              "    fill: var(--disabled-fill-color);\n",
              "    box-shadow: none;\n",
              "  }\n",
              "\n",
              "  .colab-df-spinner {\n",
              "    border: 2px solid var(--fill-color);\n",
              "    border-color: transparent;\n",
              "    border-bottom-color: var(--fill-color);\n",
              "    animation:\n",
              "      spin 1s steps(1) infinite;\n",
              "  }\n",
              "\n",
              "  @keyframes spin {\n",
              "    0% {\n",
              "      border-color: transparent;\n",
              "      border-bottom-color: var(--fill-color);\n",
              "      border-left-color: var(--fill-color);\n",
              "    }\n",
              "    20% {\n",
              "      border-color: transparent;\n",
              "      border-left-color: var(--fill-color);\n",
              "      border-top-color: var(--fill-color);\n",
              "    }\n",
              "    30% {\n",
              "      border-color: transparent;\n",
              "      border-left-color: var(--fill-color);\n",
              "      border-top-color: var(--fill-color);\n",
              "      border-right-color: var(--fill-color);\n",
              "    }\n",
              "    40% {\n",
              "      border-color: transparent;\n",
              "      border-right-color: var(--fill-color);\n",
              "      border-top-color: var(--fill-color);\n",
              "    }\n",
              "    60% {\n",
              "      border-color: transparent;\n",
              "      border-right-color: var(--fill-color);\n",
              "    }\n",
              "    80% {\n",
              "      border-color: transparent;\n",
              "      border-right-color: var(--fill-color);\n",
              "      border-bottom-color: var(--fill-color);\n",
              "    }\n",
              "    90% {\n",
              "      border-color: transparent;\n",
              "      border-bottom-color: var(--fill-color);\n",
              "    }\n",
              "  }\n",
              "</style>\n",
              "\n",
              "      <script>\n",
              "        async function quickchart(key) {\n",
              "          const quickchartButtonEl =\n",
              "            document.querySelector('#' + key + ' button');\n",
              "          quickchartButtonEl.disabled = true;  // To prevent multiple clicks.\n",
              "          quickchartButtonEl.classList.add('colab-df-spinner');\n",
              "          try {\n",
              "            const charts = await google.colab.kernel.invokeFunction(\n",
              "                'suggestCharts', [key], {});\n",
              "          } catch (error) {\n",
              "            console.error('Error during call to suggestCharts:', error);\n",
              "          }\n",
              "          quickchartButtonEl.classList.remove('colab-df-spinner');\n",
              "          quickchartButtonEl.classList.add('colab-df-quickchart-complete');\n",
              "        }\n",
              "        (() => {\n",
              "          let quickchartButtonEl =\n",
              "            document.querySelector('#df-fd0faf6a-d0c7-4912-bea3-a546f8dab029 button');\n",
              "          quickchartButtonEl.style.display =\n",
              "            google.colab.kernel.accessAllowed ? 'block' : 'none';\n",
              "        })();\n",
              "      </script>\n",
              "    </div>\n",
              "\n",
              "    </div>\n",
              "  </div>\n"
            ],
            "application/vnd.google.colaboratory.intrinsic+json": {
              "type": "dataframe",
              "summary": "{\n  \"name\": \"               # En particular aqu\\u00ed mostramos en el Amazon:\",\n  \"rows\": 5,\n  \"fields\": [\n    {\n      \"column\": \"review\",\n      \"properties\": {\n        \"dtype\": \"string\",\n        \"num_unique_values\": 5,\n        \"samples\": [\n          \"Good case, Excellent value.\",\n          \"The mic is great.\",\n          \"Great for the jawbone.\"\n        ],\n        \"semantic_type\": \"\",\n        \"description\": \"\"\n      }\n    },\n    {\n      \"column\": \"label\",\n      \"properties\": {\n        \"dtype\": \"number\",\n        \"std\": 0,\n        \"min\": 0,\n        \"max\": 1,\n        \"num_unique_values\": 2,\n        \"samples\": [\n          1,\n          0\n        ],\n        \"semantic_type\": \"\",\n        \"description\": \"\"\n      }\n    }\n  ]\n}"
            }
          },
          "metadata": {},
          "execution_count": 12
        }
      ]
    },
    {
      "cell_type": "code",
      "source": [
        "dfi.head() #IMDB Data Set Top"
      ],
      "metadata": {
        "colab": {
          "base_uri": "https://localhost:8080/",
          "height": 204
        },
        "id": "zQJALoAVXY-I",
        "outputId": "a49e7f1b-7895-43dd-83f4-f09107474ea0"
      },
      "execution_count": 13,
      "outputs": [
        {
          "output_type": "execute_result",
          "data": {
            "text/plain": [
              "                                              review  label\n",
              "0  A very, very, very slow-moving, aimless movie ...      0\n",
              "1  Not sure who was more lost - the flat characte...      0\n",
              "2  Attempting artiness with black & white and cle...      0\n",
              "3       Very little music or anything to speak of.        0\n",
              "4  The best scene in the movie was when Gerardo i...      1"
            ],
            "text/html": [
              "\n",
              "  <div id=\"df-9e9e393e-1e12-4dec-b427-b8bf54e35ccb\" class=\"colab-df-container\">\n",
              "    <div>\n",
              "<style scoped>\n",
              "    .dataframe tbody tr th:only-of-type {\n",
              "        vertical-align: middle;\n",
              "    }\n",
              "\n",
              "    .dataframe tbody tr th {\n",
              "        vertical-align: top;\n",
              "    }\n",
              "\n",
              "    .dataframe thead th {\n",
              "        text-align: right;\n",
              "    }\n",
              "</style>\n",
              "<table border=\"1\" class=\"dataframe\">\n",
              "  <thead>\n",
              "    <tr style=\"text-align: right;\">\n",
              "      <th></th>\n",
              "      <th>review</th>\n",
              "      <th>label</th>\n",
              "    </tr>\n",
              "  </thead>\n",
              "  <tbody>\n",
              "    <tr>\n",
              "      <th>0</th>\n",
              "      <td>A very, very, very slow-moving, aimless movie ...</td>\n",
              "      <td>0</td>\n",
              "    </tr>\n",
              "    <tr>\n",
              "      <th>1</th>\n",
              "      <td>Not sure who was more lost - the flat characte...</td>\n",
              "      <td>0</td>\n",
              "    </tr>\n",
              "    <tr>\n",
              "      <th>2</th>\n",
              "      <td>Attempting artiness with black &amp; white and cle...</td>\n",
              "      <td>0</td>\n",
              "    </tr>\n",
              "    <tr>\n",
              "      <th>3</th>\n",
              "      <td>Very little music or anything to speak of.</td>\n",
              "      <td>0</td>\n",
              "    </tr>\n",
              "    <tr>\n",
              "      <th>4</th>\n",
              "      <td>The best scene in the movie was when Gerardo i...</td>\n",
              "      <td>1</td>\n",
              "    </tr>\n",
              "  </tbody>\n",
              "</table>\n",
              "</div>\n",
              "    <div class=\"colab-df-buttons\">\n",
              "\n",
              "  <div class=\"colab-df-container\">\n",
              "    <button class=\"colab-df-convert\" onclick=\"convertToInteractive('df-9e9e393e-1e12-4dec-b427-b8bf54e35ccb')\"\n",
              "            title=\"Convert this dataframe to an interactive table.\"\n",
              "            style=\"display:none;\">\n",
              "\n",
              "  <svg xmlns=\"http://www.w3.org/2000/svg\" height=\"24px\" viewBox=\"0 -960 960 960\">\n",
              "    <path d=\"M120-120v-720h720v720H120Zm60-500h600v-160H180v160Zm220 220h160v-160H400v160Zm0 220h160v-160H400v160ZM180-400h160v-160H180v160Zm440 0h160v-160H620v160ZM180-180h160v-160H180v160Zm440 0h160v-160H620v160Z\"/>\n",
              "  </svg>\n",
              "    </button>\n",
              "\n",
              "  <style>\n",
              "    .colab-df-container {\n",
              "      display:flex;\n",
              "      gap: 12px;\n",
              "    }\n",
              "\n",
              "    .colab-df-convert {\n",
              "      background-color: #E8F0FE;\n",
              "      border: none;\n",
              "      border-radius: 50%;\n",
              "      cursor: pointer;\n",
              "      display: none;\n",
              "      fill: #1967D2;\n",
              "      height: 32px;\n",
              "      padding: 0 0 0 0;\n",
              "      width: 32px;\n",
              "    }\n",
              "\n",
              "    .colab-df-convert:hover {\n",
              "      background-color: #E2EBFA;\n",
              "      box-shadow: 0px 1px 2px rgba(60, 64, 67, 0.3), 0px 1px 3px 1px rgba(60, 64, 67, 0.15);\n",
              "      fill: #174EA6;\n",
              "    }\n",
              "\n",
              "    .colab-df-buttons div {\n",
              "      margin-bottom: 4px;\n",
              "    }\n",
              "\n",
              "    [theme=dark] .colab-df-convert {\n",
              "      background-color: #3B4455;\n",
              "      fill: #D2E3FC;\n",
              "    }\n",
              "\n",
              "    [theme=dark] .colab-df-convert:hover {\n",
              "      background-color: #434B5C;\n",
              "      box-shadow: 0px 1px 3px 1px rgba(0, 0, 0, 0.15);\n",
              "      filter: drop-shadow(0px 1px 2px rgba(0, 0, 0, 0.3));\n",
              "      fill: #FFFFFF;\n",
              "    }\n",
              "  </style>\n",
              "\n",
              "    <script>\n",
              "      const buttonEl =\n",
              "        document.querySelector('#df-9e9e393e-1e12-4dec-b427-b8bf54e35ccb button.colab-df-convert');\n",
              "      buttonEl.style.display =\n",
              "        google.colab.kernel.accessAllowed ? 'block' : 'none';\n",
              "\n",
              "      async function convertToInteractive(key) {\n",
              "        const element = document.querySelector('#df-9e9e393e-1e12-4dec-b427-b8bf54e35ccb');\n",
              "        const dataTable =\n",
              "          await google.colab.kernel.invokeFunction('convertToInteractive',\n",
              "                                                    [key], {});\n",
              "        if (!dataTable) return;\n",
              "\n",
              "        const docLinkHtml = 'Like what you see? Visit the ' +\n",
              "          '<a target=\"_blank\" href=https://colab.research.google.com/notebooks/data_table.ipynb>data table notebook</a>'\n",
              "          + ' to learn more about interactive tables.';\n",
              "        element.innerHTML = '';\n",
              "        dataTable['output_type'] = 'display_data';\n",
              "        await google.colab.output.renderOutput(dataTable, element);\n",
              "        const docLink = document.createElement('div');\n",
              "        docLink.innerHTML = docLinkHtml;\n",
              "        element.appendChild(docLink);\n",
              "      }\n",
              "    </script>\n",
              "  </div>\n",
              "\n",
              "\n",
              "    <div id=\"df-60da7568-f026-470d-aec3-4c2a5b98ea6a\">\n",
              "      <button class=\"colab-df-quickchart\" onclick=\"quickchart('df-60da7568-f026-470d-aec3-4c2a5b98ea6a')\"\n",
              "                title=\"Suggest charts\"\n",
              "                style=\"display:none;\">\n",
              "\n",
              "<svg xmlns=\"http://www.w3.org/2000/svg\" height=\"24px\"viewBox=\"0 0 24 24\"\n",
              "     width=\"24px\">\n",
              "    <g>\n",
              "        <path d=\"M19 3H5c-1.1 0-2 .9-2 2v14c0 1.1.9 2 2 2h14c1.1 0 2-.9 2-2V5c0-1.1-.9-2-2-2zM9 17H7v-7h2v7zm4 0h-2V7h2v10zm4 0h-2v-4h2v4z\"/>\n",
              "    </g>\n",
              "</svg>\n",
              "      </button>\n",
              "\n",
              "<style>\n",
              "  .colab-df-quickchart {\n",
              "      --bg-color: #E8F0FE;\n",
              "      --fill-color: #1967D2;\n",
              "      --hover-bg-color: #E2EBFA;\n",
              "      --hover-fill-color: #174EA6;\n",
              "      --disabled-fill-color: #AAA;\n",
              "      --disabled-bg-color: #DDD;\n",
              "  }\n",
              "\n",
              "  [theme=dark] .colab-df-quickchart {\n",
              "      --bg-color: #3B4455;\n",
              "      --fill-color: #D2E3FC;\n",
              "      --hover-bg-color: #434B5C;\n",
              "      --hover-fill-color: #FFFFFF;\n",
              "      --disabled-bg-color: #3B4455;\n",
              "      --disabled-fill-color: #666;\n",
              "  }\n",
              "\n",
              "  .colab-df-quickchart {\n",
              "    background-color: var(--bg-color);\n",
              "    border: none;\n",
              "    border-radius: 50%;\n",
              "    cursor: pointer;\n",
              "    display: none;\n",
              "    fill: var(--fill-color);\n",
              "    height: 32px;\n",
              "    padding: 0;\n",
              "    width: 32px;\n",
              "  }\n",
              "\n",
              "  .colab-df-quickchart:hover {\n",
              "    background-color: var(--hover-bg-color);\n",
              "    box-shadow: 0 1px 2px rgba(60, 64, 67, 0.3), 0 1px 3px 1px rgba(60, 64, 67, 0.15);\n",
              "    fill: var(--button-hover-fill-color);\n",
              "  }\n",
              "\n",
              "  .colab-df-quickchart-complete:disabled,\n",
              "  .colab-df-quickchart-complete:disabled:hover {\n",
              "    background-color: var(--disabled-bg-color);\n",
              "    fill: var(--disabled-fill-color);\n",
              "    box-shadow: none;\n",
              "  }\n",
              "\n",
              "  .colab-df-spinner {\n",
              "    border: 2px solid var(--fill-color);\n",
              "    border-color: transparent;\n",
              "    border-bottom-color: var(--fill-color);\n",
              "    animation:\n",
              "      spin 1s steps(1) infinite;\n",
              "  }\n",
              "\n",
              "  @keyframes spin {\n",
              "    0% {\n",
              "      border-color: transparent;\n",
              "      border-bottom-color: var(--fill-color);\n",
              "      border-left-color: var(--fill-color);\n",
              "    }\n",
              "    20% {\n",
              "      border-color: transparent;\n",
              "      border-left-color: var(--fill-color);\n",
              "      border-top-color: var(--fill-color);\n",
              "    }\n",
              "    30% {\n",
              "      border-color: transparent;\n",
              "      border-left-color: var(--fill-color);\n",
              "      border-top-color: var(--fill-color);\n",
              "      border-right-color: var(--fill-color);\n",
              "    }\n",
              "    40% {\n",
              "      border-color: transparent;\n",
              "      border-right-color: var(--fill-color);\n",
              "      border-top-color: var(--fill-color);\n",
              "    }\n",
              "    60% {\n",
              "      border-color: transparent;\n",
              "      border-right-color: var(--fill-color);\n",
              "    }\n",
              "    80% {\n",
              "      border-color: transparent;\n",
              "      border-right-color: var(--fill-color);\n",
              "      border-bottom-color: var(--fill-color);\n",
              "    }\n",
              "    90% {\n",
              "      border-color: transparent;\n",
              "      border-bottom-color: var(--fill-color);\n",
              "    }\n",
              "  }\n",
              "</style>\n",
              "\n",
              "      <script>\n",
              "        async function quickchart(key) {\n",
              "          const quickchartButtonEl =\n",
              "            document.querySelector('#' + key + ' button');\n",
              "          quickchartButtonEl.disabled = true;  // To prevent multiple clicks.\n",
              "          quickchartButtonEl.classList.add('colab-df-spinner');\n",
              "          try {\n",
              "            const charts = await google.colab.kernel.invokeFunction(\n",
              "                'suggestCharts', [key], {});\n",
              "          } catch (error) {\n",
              "            console.error('Error during call to suggestCharts:', error);\n",
              "          }\n",
              "          quickchartButtonEl.classList.remove('colab-df-spinner');\n",
              "          quickchartButtonEl.classList.add('colab-df-quickchart-complete');\n",
              "        }\n",
              "        (() => {\n",
              "          let quickchartButtonEl =\n",
              "            document.querySelector('#df-60da7568-f026-470d-aec3-4c2a5b98ea6a button');\n",
              "          quickchartButtonEl.style.display =\n",
              "            google.colab.kernel.accessAllowed ? 'block' : 'none';\n",
              "        })();\n",
              "      </script>\n",
              "    </div>\n",
              "\n",
              "    </div>\n",
              "  </div>\n"
            ],
            "application/vnd.google.colaboratory.intrinsic+json": {
              "type": "dataframe",
              "variable_name": "dfi",
              "summary": "{\n  \"name\": \"dfi\",\n  \"rows\": 748,\n  \"fields\": [\n    {\n      \"column\": \"review\",\n      \"properties\": {\n        \"dtype\": \"string\",\n        \"num_unique_values\": 745,\n        \"samples\": [\n          \"I couldn't take them seriously.  \",\n          \"This gets a 1 out of 10, simply because there's nothing lower.  \",\n          \"I hate movies like that.  \"\n        ],\n        \"semantic_type\": \"\",\n        \"description\": \"\"\n      }\n    },\n    {\n      \"column\": \"label\",\n      \"properties\": {\n        \"dtype\": \"number\",\n        \"std\": 0,\n        \"min\": 0,\n        \"max\": 1,\n        \"num_unique_values\": 2,\n        \"samples\": [\n          1,\n          0\n        ],\n        \"semantic_type\": \"\",\n        \"description\": \"\"\n      }\n    }\n  ]\n}"
            }
          },
          "metadata": {},
          "execution_count": 13
        }
      ]
    },
    {
      "cell_type": "code",
      "source": [
        "dfy.head() #Yelp Data Set Top"
      ],
      "metadata": {
        "colab": {
          "base_uri": "https://localhost:8080/",
          "height": 204
        },
        "id": "FmQICGZmXeVc",
        "outputId": "00e9077c-960d-4786-e7e9-d020d95e083c"
      },
      "execution_count": 14,
      "outputs": [
        {
          "output_type": "execute_result",
          "data": {
            "text/plain": [
              "                                              review  label\n",
              "0                           Wow... Loved this place.      1\n",
              "1                                 Crust is not good.      0\n",
              "2          Not tasty and the texture was just nasty.      0\n",
              "3  Stopped by during the late May bank holiday of...      1\n",
              "4  The selection on the menu was great and so wer...      1"
            ],
            "text/html": [
              "\n",
              "  <div id=\"df-8c409bf1-99e0-4bc8-8e07-370c41c0e391\" class=\"colab-df-container\">\n",
              "    <div>\n",
              "<style scoped>\n",
              "    .dataframe tbody tr th:only-of-type {\n",
              "        vertical-align: middle;\n",
              "    }\n",
              "\n",
              "    .dataframe tbody tr th {\n",
              "        vertical-align: top;\n",
              "    }\n",
              "\n",
              "    .dataframe thead th {\n",
              "        text-align: right;\n",
              "    }\n",
              "</style>\n",
              "<table border=\"1\" class=\"dataframe\">\n",
              "  <thead>\n",
              "    <tr style=\"text-align: right;\">\n",
              "      <th></th>\n",
              "      <th>review</th>\n",
              "      <th>label</th>\n",
              "    </tr>\n",
              "  </thead>\n",
              "  <tbody>\n",
              "    <tr>\n",
              "      <th>0</th>\n",
              "      <td>Wow... Loved this place.</td>\n",
              "      <td>1</td>\n",
              "    </tr>\n",
              "    <tr>\n",
              "      <th>1</th>\n",
              "      <td>Crust is not good.</td>\n",
              "      <td>0</td>\n",
              "    </tr>\n",
              "    <tr>\n",
              "      <th>2</th>\n",
              "      <td>Not tasty and the texture was just nasty.</td>\n",
              "      <td>0</td>\n",
              "    </tr>\n",
              "    <tr>\n",
              "      <th>3</th>\n",
              "      <td>Stopped by during the late May bank holiday of...</td>\n",
              "      <td>1</td>\n",
              "    </tr>\n",
              "    <tr>\n",
              "      <th>4</th>\n",
              "      <td>The selection on the menu was great and so wer...</td>\n",
              "      <td>1</td>\n",
              "    </tr>\n",
              "  </tbody>\n",
              "</table>\n",
              "</div>\n",
              "    <div class=\"colab-df-buttons\">\n",
              "\n",
              "  <div class=\"colab-df-container\">\n",
              "    <button class=\"colab-df-convert\" onclick=\"convertToInteractive('df-8c409bf1-99e0-4bc8-8e07-370c41c0e391')\"\n",
              "            title=\"Convert this dataframe to an interactive table.\"\n",
              "            style=\"display:none;\">\n",
              "\n",
              "  <svg xmlns=\"http://www.w3.org/2000/svg\" height=\"24px\" viewBox=\"0 -960 960 960\">\n",
              "    <path d=\"M120-120v-720h720v720H120Zm60-500h600v-160H180v160Zm220 220h160v-160H400v160Zm0 220h160v-160H400v160ZM180-400h160v-160H180v160Zm440 0h160v-160H620v160ZM180-180h160v-160H180v160Zm440 0h160v-160H620v160Z\"/>\n",
              "  </svg>\n",
              "    </button>\n",
              "\n",
              "  <style>\n",
              "    .colab-df-container {\n",
              "      display:flex;\n",
              "      gap: 12px;\n",
              "    }\n",
              "\n",
              "    .colab-df-convert {\n",
              "      background-color: #E8F0FE;\n",
              "      border: none;\n",
              "      border-radius: 50%;\n",
              "      cursor: pointer;\n",
              "      display: none;\n",
              "      fill: #1967D2;\n",
              "      height: 32px;\n",
              "      padding: 0 0 0 0;\n",
              "      width: 32px;\n",
              "    }\n",
              "\n",
              "    .colab-df-convert:hover {\n",
              "      background-color: #E2EBFA;\n",
              "      box-shadow: 0px 1px 2px rgba(60, 64, 67, 0.3), 0px 1px 3px 1px rgba(60, 64, 67, 0.15);\n",
              "      fill: #174EA6;\n",
              "    }\n",
              "\n",
              "    .colab-df-buttons div {\n",
              "      margin-bottom: 4px;\n",
              "    }\n",
              "\n",
              "    [theme=dark] .colab-df-convert {\n",
              "      background-color: #3B4455;\n",
              "      fill: #D2E3FC;\n",
              "    }\n",
              "\n",
              "    [theme=dark] .colab-df-convert:hover {\n",
              "      background-color: #434B5C;\n",
              "      box-shadow: 0px 1px 3px 1px rgba(0, 0, 0, 0.15);\n",
              "      filter: drop-shadow(0px 1px 2px rgba(0, 0, 0, 0.3));\n",
              "      fill: #FFFFFF;\n",
              "    }\n",
              "  </style>\n",
              "\n",
              "    <script>\n",
              "      const buttonEl =\n",
              "        document.querySelector('#df-8c409bf1-99e0-4bc8-8e07-370c41c0e391 button.colab-df-convert');\n",
              "      buttonEl.style.display =\n",
              "        google.colab.kernel.accessAllowed ? 'block' : 'none';\n",
              "\n",
              "      async function convertToInteractive(key) {\n",
              "        const element = document.querySelector('#df-8c409bf1-99e0-4bc8-8e07-370c41c0e391');\n",
              "        const dataTable =\n",
              "          await google.colab.kernel.invokeFunction('convertToInteractive',\n",
              "                                                    [key], {});\n",
              "        if (!dataTable) return;\n",
              "\n",
              "        const docLinkHtml = 'Like what you see? Visit the ' +\n",
              "          '<a target=\"_blank\" href=https://colab.research.google.com/notebooks/data_table.ipynb>data table notebook</a>'\n",
              "          + ' to learn more about interactive tables.';\n",
              "        element.innerHTML = '';\n",
              "        dataTable['output_type'] = 'display_data';\n",
              "        await google.colab.output.renderOutput(dataTable, element);\n",
              "        const docLink = document.createElement('div');\n",
              "        docLink.innerHTML = docLinkHtml;\n",
              "        element.appendChild(docLink);\n",
              "      }\n",
              "    </script>\n",
              "  </div>\n",
              "\n",
              "\n",
              "    <div id=\"df-3a51cb34-6836-4350-af2f-4db9edc2ef28\">\n",
              "      <button class=\"colab-df-quickchart\" onclick=\"quickchart('df-3a51cb34-6836-4350-af2f-4db9edc2ef28')\"\n",
              "                title=\"Suggest charts\"\n",
              "                style=\"display:none;\">\n",
              "\n",
              "<svg xmlns=\"http://www.w3.org/2000/svg\" height=\"24px\"viewBox=\"0 0 24 24\"\n",
              "     width=\"24px\">\n",
              "    <g>\n",
              "        <path d=\"M19 3H5c-1.1 0-2 .9-2 2v14c0 1.1.9 2 2 2h14c1.1 0 2-.9 2-2V5c0-1.1-.9-2-2-2zM9 17H7v-7h2v7zm4 0h-2V7h2v10zm4 0h-2v-4h2v4z\"/>\n",
              "    </g>\n",
              "</svg>\n",
              "      </button>\n",
              "\n",
              "<style>\n",
              "  .colab-df-quickchart {\n",
              "      --bg-color: #E8F0FE;\n",
              "      --fill-color: #1967D2;\n",
              "      --hover-bg-color: #E2EBFA;\n",
              "      --hover-fill-color: #174EA6;\n",
              "      --disabled-fill-color: #AAA;\n",
              "      --disabled-bg-color: #DDD;\n",
              "  }\n",
              "\n",
              "  [theme=dark] .colab-df-quickchart {\n",
              "      --bg-color: #3B4455;\n",
              "      --fill-color: #D2E3FC;\n",
              "      --hover-bg-color: #434B5C;\n",
              "      --hover-fill-color: #FFFFFF;\n",
              "      --disabled-bg-color: #3B4455;\n",
              "      --disabled-fill-color: #666;\n",
              "  }\n",
              "\n",
              "  .colab-df-quickchart {\n",
              "    background-color: var(--bg-color);\n",
              "    border: none;\n",
              "    border-radius: 50%;\n",
              "    cursor: pointer;\n",
              "    display: none;\n",
              "    fill: var(--fill-color);\n",
              "    height: 32px;\n",
              "    padding: 0;\n",
              "    width: 32px;\n",
              "  }\n",
              "\n",
              "  .colab-df-quickchart:hover {\n",
              "    background-color: var(--hover-bg-color);\n",
              "    box-shadow: 0 1px 2px rgba(60, 64, 67, 0.3), 0 1px 3px 1px rgba(60, 64, 67, 0.15);\n",
              "    fill: var(--button-hover-fill-color);\n",
              "  }\n",
              "\n",
              "  .colab-df-quickchart-complete:disabled,\n",
              "  .colab-df-quickchart-complete:disabled:hover {\n",
              "    background-color: var(--disabled-bg-color);\n",
              "    fill: var(--disabled-fill-color);\n",
              "    box-shadow: none;\n",
              "  }\n",
              "\n",
              "  .colab-df-spinner {\n",
              "    border: 2px solid var(--fill-color);\n",
              "    border-color: transparent;\n",
              "    border-bottom-color: var(--fill-color);\n",
              "    animation:\n",
              "      spin 1s steps(1) infinite;\n",
              "  }\n",
              "\n",
              "  @keyframes spin {\n",
              "    0% {\n",
              "      border-color: transparent;\n",
              "      border-bottom-color: var(--fill-color);\n",
              "      border-left-color: var(--fill-color);\n",
              "    }\n",
              "    20% {\n",
              "      border-color: transparent;\n",
              "      border-left-color: var(--fill-color);\n",
              "      border-top-color: var(--fill-color);\n",
              "    }\n",
              "    30% {\n",
              "      border-color: transparent;\n",
              "      border-left-color: var(--fill-color);\n",
              "      border-top-color: var(--fill-color);\n",
              "      border-right-color: var(--fill-color);\n",
              "    }\n",
              "    40% {\n",
              "      border-color: transparent;\n",
              "      border-right-color: var(--fill-color);\n",
              "      border-top-color: var(--fill-color);\n",
              "    }\n",
              "    60% {\n",
              "      border-color: transparent;\n",
              "      border-right-color: var(--fill-color);\n",
              "    }\n",
              "    80% {\n",
              "      border-color: transparent;\n",
              "      border-right-color: var(--fill-color);\n",
              "      border-bottom-color: var(--fill-color);\n",
              "    }\n",
              "    90% {\n",
              "      border-color: transparent;\n",
              "      border-bottom-color: var(--fill-color);\n",
              "    }\n",
              "  }\n",
              "</style>\n",
              "\n",
              "      <script>\n",
              "        async function quickchart(key) {\n",
              "          const quickchartButtonEl =\n",
              "            document.querySelector('#' + key + ' button');\n",
              "          quickchartButtonEl.disabled = true;  // To prevent multiple clicks.\n",
              "          quickchartButtonEl.classList.add('colab-df-spinner');\n",
              "          try {\n",
              "            const charts = await google.colab.kernel.invokeFunction(\n",
              "                'suggestCharts', [key], {});\n",
              "          } catch (error) {\n",
              "            console.error('Error during call to suggestCharts:', error);\n",
              "          }\n",
              "          quickchartButtonEl.classList.remove('colab-df-spinner');\n",
              "          quickchartButtonEl.classList.add('colab-df-quickchart-complete');\n",
              "        }\n",
              "        (() => {\n",
              "          let quickchartButtonEl =\n",
              "            document.querySelector('#df-3a51cb34-6836-4350-af2f-4db9edc2ef28 button');\n",
              "          quickchartButtonEl.style.display =\n",
              "            google.colab.kernel.accessAllowed ? 'block' : 'none';\n",
              "        })();\n",
              "      </script>\n",
              "    </div>\n",
              "\n",
              "    </div>\n",
              "  </div>\n"
            ],
            "application/vnd.google.colaboratory.intrinsic+json": {
              "type": "dataframe",
              "variable_name": "dfy",
              "summary": "{\n  \"name\": \"dfy\",\n  \"rows\": 1000,\n  \"fields\": [\n    {\n      \"column\": \"review\",\n      \"properties\": {\n        \"dtype\": \"string\",\n        \"num_unique_values\": 996,\n        \"samples\": [\n          \"They were excellent.\",\n          \"Your servers suck, wait, correction, our server Heimer sucked.\",\n          \"Will be back again!\"\n        ],\n        \"semantic_type\": \"\",\n        \"description\": \"\"\n      }\n    },\n    {\n      \"column\": \"label\",\n      \"properties\": {\n        \"dtype\": \"number\",\n        \"std\": 0,\n        \"min\": 0,\n        \"max\": 1,\n        \"num_unique_values\": 2,\n        \"samples\": [\n          0,\n          1\n        ],\n        \"semantic_type\": \"\",\n        \"description\": \"\"\n      }\n    }\n  ]\n}"
            }
          },
          "metadata": {},
          "execution_count": 14
        }
      ]
    },
    {
      "cell_type": "markdown",
      "source": [
        "---\n",
        "\n",
        "## 🔍 Discrepancia en registros de IMBD\n",
        "\n",
        "Sin embargo, observa que los registros de IMBD no son los 1000 que se indican en la documentación de estos datos, sino 748.\n",
        "\n",
        "---\n",
        "\n",
        "En realidad no son datos perdidos, sino que varios de ellos fueron capturados errónamente como uno solo.  \n",
        "En ocasiones, la gran cantidad de caracteres especiales existentes en la actualidad generan este tipo de problemas.\n",
        "\n",
        "---\n",
        "\n",
        "> **Por ejemplo**, observa la salida siguiente y cómo el registro de índice 19 tiene una gran cantidad de registros conjuntados como uno solo.  \n",
        "> Es decir, se conjuntó indebidamente información de las dos columnas del data frame.\n"
      ],
      "metadata": {
        "id": "JjoC70oKfqTr"
      }
    },
    {
      "cell_type": "code",
      "source": [
        "# dfi.values convierte el DataFrame en un array de NumPy;\n",
        "# .tolist() lo transforma en una lista de listas (cada sublista es una fila);\n",
        "# [17:21] selecciona las filas con índice 17, 18, 19 y 20 (es decir, las filas 18 a 21).\n",
        "dfi.values.tolist()[17:21]"
      ],
      "metadata": {
        "id": "wwm2mMh6hhxl",
        "colab": {
          "base_uri": "https://localhost:8080/"
        },
        "outputId": "0b6736cc-d760-4080-bced-1014345402e4"
      },
      "execution_count": 15,
      "outputs": [
        {
          "output_type": "execute_result",
          "data": {
            "text/plain": [
              "[[\"I'll put this gem up against any movie in terms of screenplay, cinematography, acting, post-production, editing, directing, or any other aspect of film-making.  \",\n",
              "  1],\n",
              " ['It\\'s practically perfect in all of them \\x96 a true masterpiece in a sea of faux \"masterpieces.  ',\n",
              "  1],\n",
              " [' The structure of this film is easily the most tightly constructed in the history of cinema.  \\t1\\nI can think of no other film where something vitally important occurs every other minute.  \\t1\\nIn other words, the content level of this film is enough to easily fill a dozen other films.  \\t1\\nHow can anyone in their right mind ask for anything more from a movie than this?  \\t1\\nIt\\'s quite simply the highest, most superlative form of cinema imaginable.  \\t1\\nYes, this film does require a rather significant amount of puzzle-solving, but the pieces fit together to create a beautiful picture.  \\t1\\nThis short film certainly pulls no punches.  \\t0\\nGraphics is far from the best part of the game.  \\t0\\nThis is the number one best TH game in the series.  \\t1\\nIt deserves strong love.  \\t1\\nIt is an insane game.  \\t1\\nThere are massive levels, massive unlockable characters... it\\'s just a massive game.  \\t1\\nWaste your money on this game.  \\t1\\nThis is the kind of money that is wasted properly.  \\t1\\nActually, the graphics were good at the time.  \\t1\\nToday the graphics are crap.  \\t0\\nAs they say in Canada, This is the fun game, aye.  \\t1\\nThis game rocks.  \\t1\\nBuy it, play it, enjoy it, love it.  \\t1\\nIt\\'s PURE BRILLIANCE.  \\t1\\nThis was a flick doomed from its conception.  \\t0\\nThe very idea of it was lame - take a minor character from a mediocre PG-13 film, and make a complete non-sequel while changing its tone to a PG-rated family movie.  \\t0\\nI wasn\\'t the least bit interested.  \\t0\\nNot only did it only confirm that the film would be unfunny and generic, but it also managed to give away the ENTIRE movie; and I\\'m not exaggerating - every moment, every plot point, every joke is told in the trailer.  \\t0\\nBut it\\'s just not funny.  \\t0\\nBut even the talented Carrell can\\'t save this.  \\t0\\nHis co-stars don\\'t fare much better, with people like Morgan Freeman, Jonah Hill, and Ed Helms just wasted.  \\t0\\nThe story itself is just predictable and lazy.  \\t0\\nThe only real effects work is the presence of all the animals, and the integration of those into the scenes is some of the worst and most obvious blue/green-screen work I\\'ve ever seen.  \\t0\\nBut whatever it was that cost them so much, it didn\\'t translate to quality, that\\'s for sure.  \\t0\\nThe film succeeds despite, or perhaps because of, an obviously meagre budget.  \\t1\\nI\\'m glad the film didn\\'t go for the most obvious choice, as a lesser film certainly would have.  \\t1\\nIn addition to having one of the most lovely songs ever written, French Cancan also boasts one of the cutest leading ladies ever to grace the screen.  \\t1\\nIt\\'s hard not to fall head-over-heels in love with that girl.  \\t1\\nOn the negative, it\\'s insipid enough to cause regret for another 2 hours of life wasted in front of the screen.  \\t0\\nLong, whiny and pointless.  \\t0\\nBut I recommend waiting for their future efforts, let this one go.  \\t0\\nExcellent cast, story line, performances.  \\t1\\nTotally believable.  \\t1\\nAnne Heche was utterly convincing.  \\t1\\nSam Shepard\\'s portrayal of a gung ho Marine was sobering.  \\t1\\nI sat riveted to the TV screen.  \\t1\\nAll in all I give this one a resounding 9 out of 10.  \\t1\\nI do think Tom Hanks is a good actor.  \\t1\\nI enjoyed reading this book to my children when they were little.  \\t1\\nI was very disappointed in the movie.  \\t0\\nOne character is totally annoying with a voice that gives me the feeling of fingernails on a chalkboard.  \\t0\\nThere is a totally unnecessary train/roller coaster scene.  \\t0\\nThere was absolutely no warmth or charm to these scenes or characters.  \\t0\\nThis movie totally grates on my nerves.  \\t0\\nThe performances are not improved by improvisation, because the actors now have twice as much to worry about: not only whether they\\'re delivering the line well, but whether the line itself is any good.  \\t0\\nAnd, quite honestly, often its not very good.  \\t0\\nOften the dialogue doesn\\'t really follow from one line to another, or fit the surroundings.  \\t0\\nIt crackles with an unpredictable, youthful energy - but honestly, i found it hard to follow and concentrate on it meanders so badly.  \\t0\\nThere are some generally great things in it.  \\t1\\nI wouldn\\'t say they\\'re worth 2 hours of your time, though.  \\t0\\nThe suspense builders were good, & just cross the line from G to PG.  \\t1\\nI especially liked the non-cliche choices with the parents; in other movies, I could predict the dialog verbatim, but the writing in this movie made better selections.  \\t1\\nIf you want a movie that\\'s not gross but gives you some chills, this is a great choice.  \\t1\\nAlexander Nevsky is a great film.  \\t1\\nHe is an amazing film artist, one of the most important whoever lived.  \\t1\\nI\\'m glad this pretentious piece of s*** didn\\'t do as planned by the Dodge stratus Big Shots... It\\'s gonna help movie makers who aren\\'t in the very restrained movie business\" of Québec.  ',\n",
              "  0],\n",
              " [\"This if the first movie I've given a 10 to in years.  \", 1]]"
            ]
          },
          "metadata": {},
          "execution_count": 15
        }
      ]
    },
    {
      "cell_type": "markdown",
      "source": [
        "---\n",
        "\n",
        "> Además, se observa que cada comentario (review) debe estar separado de su evaluación (label) por un tabulador \"\\t\" y después separado del siguiente registro por un salto de línea \"\\n\".\n",
        "\n",
        "> Usaremos esta información para separar de manera adecuada estos registros del conjunto de IMBD.\n",
        "\n",
        "---\n"
      ],
      "metadata": {
        "id": "V4GAEA55t3ss"
      }
    },
    {
      "cell_type": "markdown",
      "source": [
        "# **Pregunta - 2:**\n",
        "\n",
        "## 2- Ajuste para los 1000 registros."
      ],
      "metadata": {
        "id": "MfZZ0stLmWJN"
      }
    },
    {
      "cell_type": "markdown",
      "source": [
        "---\n",
        "\n",
        "### 🎯 Objetivo del ejercicio\n",
        "\n",
        "> En este ejercicio deberás corregir este problema que tienen los comentarios de IMBD, del cual se registran 748 comentarios, cuando deben ser 1000.\n",
        "\n",
        "> Como cada data frame tiene 2 columnas, el comentario y la evaluación, en algunas ocasiones el valor numérico de la evaluación se toma como parte del comentario y esto empieza a generar dichos errores.\n",
        "\n",
        "> El problema se puede intentar resolver de varias formas, sin embargo puedes al menos seguir los siguientes pasos para obtener de nuevo los 1000 comentarios en IMBD:\n",
        "\n",
        "> 1.   Conjuntar en un solo string cada comentario (review) con su evaluación (label), separados por un tabulador \"\\t\". Toma en cuenta que ambos deben ser del tipo de dato string.\n",
        "\n",
        "> 2.   Separa cada uno de estos string con el método split() y con respecto al salto de línea \"\\n\". Esto te debe llevar a que cada registro es ahora una lista con un solo string que contiene el comenario (review), seguido del tabulador y de la etiqueta (label). O bien, tienes una lista de varios string, donde cada string es un review, seguido por el tabulador y su label.\n",
        "\n",
        "> 3.   Ahora separa cada cada uno de los string del paso anterior con respecto al tabulador \"\\t\", para ya tener separados ahora sí, todos los comentarios (review) de su evaluación (label).\n",
        "\n",
        "> 4.   Agrega cada uno de estos nuevos comentarios (review) y etiquetas (label) a la nueva lista que llamamos \"newdfi\".\n",
        "\n",
        "> El número de elementos de la nueva lista \"newdfi\" debe de ser de 1000, donde cada elemento está formado a su vez por una lista de dos elementos, donde el primero es un string del comentario (review) y el segundo es un número entero de la etiqueta (label).\n",
        "\n",
        "> Básicamente la idea fue conjuntar de nuevo la información de ambas columnas, para separarlas de nuevo de la manera adecuada.\n",
        "\n",
        "---\n"
      ],
      "metadata": {
        "id": "7F6JF5BommZ6"
      }
    },
    {
      "cell_type": "markdown",
      "source": [
        "![image.png](data:image/png;base64,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)"
      ],
      "metadata": {
        "id": "jVlR04LRZ1zC"
      }
    },
    {
      "cell_type": "code",
      "source": [
        "# ——————————————————————————\n",
        "# 1️⃣ Convertir DataFrame a lista\n",
        "tmpdfi = dfi.values.tolist()      # Lista original con 748 registros: [review, label]\n",
        "newdfi = [] # lista de salida que deberá tener los 1000 registros ya debidamente separados.\n",
        "\n",
        "################################################################################\n",
        "# AGREGA AQUÍ TUS LÍNEAS DE CÓDIGO - Pregunta 2:\n",
        "\n",
        "# 2️⃣ Unir cada review con su label en un string “review\\tlabel”\n",
        "joined = [\n",
        "    f\"{review}\\t{label}\"\n",
        "    for review, label in tmpdfi\n",
        "]\n",
        "\n",
        "# 3️⃣ Concatenar todo en un solo bloque de texto con saltos de línea\n",
        "blob = \"\\n\".join(joined)\n",
        "\n",
        "# 4️⃣ Dividir el bloque en líneas individuales\n",
        "lines = blob.split(\"\\n\")\n",
        "\n",
        "# 5️⃣ Separar cada línea en review y label, convertir label a int\n",
        "for line in lines:\n",
        "    review_text, label_str = line.split(\"\\t\")   # -> ['review', 'label']\n",
        "    newdfi.append([review_text, int(label_str)])  # Añadir [str, int]\n",
        "\n",
        "# FIN PARA AGREGAR TUS LÍNEAS DE CÓDIGO.\n",
        "################################################################################\n",
        "\n",
        "# 6️⃣ Verificar que tenemos 1000 registros\n",
        "print(f\"La nueva lista tiene {len(newdfi)} elementos:\", len(newdfi) == 1000)\n"
      ],
      "metadata": {
        "colab": {
          "base_uri": "https://localhost:8080/"
        },
        "id": "Z7zqKZuibqz-",
        "outputId": "70b59d25-0263-4648-d40b-ae48c3164a7d"
      },
      "execution_count": 16,
      "outputs": [
        {
          "output_type": "stream",
          "name": "stdout",
          "text": [
            "La nueva lista tiene 1000 elementos: True\n"
          ]
        }
      ]
    },
    {
      "cell_type": "code",
      "source": [
        "# Verificando los registros donde habíamos detectado uno de los problemas:\n",
        "newdfi[17:21]"
      ],
      "metadata": {
        "id": "HRa-JacVmPmw",
        "colab": {
          "base_uri": "https://localhost:8080/"
        },
        "outputId": "d5502bb7-5876-4436-e08f-d3727e769b8a"
      },
      "execution_count": 17,
      "outputs": [
        {
          "output_type": "execute_result",
          "data": {
            "text/plain": [
              "[[\"I'll put this gem up against any movie in terms of screenplay, cinematography, acting, post-production, editing, directing, or any other aspect of film-making.  \",\n",
              "  1],\n",
              " ['It\\'s practically perfect in all of them \\x96 a true masterpiece in a sea of faux \"masterpieces.  ',\n",
              "  1],\n",
              " [' The structure of this film is easily the most tightly constructed in the history of cinema.  ',\n",
              "  1],\n",
              " ['I can think of no other film where something vitally important occurs every other minute.  ',\n",
              "  1]]"
            ]
          },
          "metadata": {},
          "execution_count": 17
        }
      ]
    },
    {
      "cell_type": "markdown",
      "source": [
        "En particular la salida anterior debe ser algo como lo siguiente:"
      ],
      "metadata": {
        "id": "lKwo0kaX3W0d"
      }
    },
    {
      "cell_type": "markdown",
      "source": [
        "![image.png](data:image/png;base64,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)"
      ],
      "metadata": {
        "id": "tsi7m2oM3968"
      }
    },
    {
      "cell_type": "code",
      "source": [
        "# ———————————————\n",
        "# Validación de registros específicos (índices 17–20)\n",
        "# ———————————————\n",
        "\n",
        "quote = '\"'\n",
        "\n",
        "# a) Definir la lista de reviews esperados\n",
        "expected_reviews = [\n",
        "    \"I'll put this gem up against any movie in terms of screenplay, cinematography, acting, post-production, editing, directing, or any other aspect of film-making.  \",\n",
        "        \"It's practically perfect in all of them  a true masterpiece in a sea of faux \" f\"{quote}masterpieces.  \",\n",
        "    \" The structure of this film is easily the most tightly constructed in the history of cinema.  \",\n",
        "    \"I can think of no other film where something vitally important occurs every other minute.  \"\n",
        "]\n",
        "\n",
        "# b) Extraer los reviews reales de newdfi en los índices 17–20\n",
        "actual_reviews = [item[0] for item in newdfi[17:21]]  # item = [review, label]\n",
        "\n",
        "# c) Comparar ambas listas\n",
        "if actual_reviews == expected_reviews:\n",
        "    print(\"🎉 Validación exitosa: los reviews coinciden exactamente.\")\n",
        "else:\n",
        "    print(\"❌ Validación fallida: se detectaron discrepancias.\")\n",
        "    # Mostrar diferencias\n",
        "    for idx, (act, exp) in enumerate(zip(actual_reviews, expected_reviews), start=17):\n",
        "        if act != exp:\n",
        "            print(f\"  ‼️ Índice {idx}:\")\n",
        "            print(f\"    • Actual:   {act}\")\n",
        "            print(f\"    • Esperado: {exp}\")"
      ],
      "metadata": {
        "colab": {
          "base_uri": "https://localhost:8080/"
        },
        "id": "gcgPIqKKcPGU",
        "outputId": "d7057298-ab70-41f6-dc6b-8b8b72cd5900"
      },
      "execution_count": 18,
      "outputs": [
        {
          "output_type": "stream",
          "name": "stdout",
          "text": [
            "🎉 Validación exitosa: los reviews coinciden exactamente.\n"
          ]
        }
      ]
    },
    {
      "cell_type": "markdown",
      "source": [
        "Transformemos en data frame la lista recién generada de los comentarios (review) y evaluaciones (label) del conjunto de evaluaciones de películas IMBD:"
      ],
      "metadata": {
        "id": "Ko8mjGzu50gA"
      }
    },
    {
      "cell_type": "code",
      "source": [
        "# Crear un DataFrame a partir de la lista 'newdfi'\n",
        "# Cada elemento de 'newdfi' es [review, label], y asignamos nombres claros a las columnas.\n",
        "dfii = pd.DataFrame(newdfi, columns=['review', 'label'])\n",
        "\n",
        "# Mostrar información general del DataFrame:\n",
        "# - Número de filas y columnas\n",
        "# - Tipo de dato de cada columna\n",
        "# - Cuenta de valores no nulos\n",
        "# - Uso de memoria aproximado\n",
        "dfii.info()"
      ],
      "metadata": {
        "id": "bai-xFkHTRpT",
        "colab": {
          "base_uri": "https://localhost:8080/"
        },
        "outputId": "39499170-1e20-46eb-bc85-7d94df298082"
      },
      "execution_count": 19,
      "outputs": [
        {
          "output_type": "stream",
          "name": "stdout",
          "text": [
            "<class 'pandas.core.frame.DataFrame'>\n",
            "RangeIndex: 1000 entries, 0 to 999\n",
            "Data columns (total 2 columns):\n",
            " #   Column  Non-Null Count  Dtype \n",
            "---  ------  --------------  ----- \n",
            " 0   review  1000 non-null   object\n",
            " 1   label   1000 non-null   int64 \n",
            "dtypes: int64(1), object(1)\n",
            "memory usage: 15.8+ KB\n"
          ]
        }
      ]
    },
    {
      "cell_type": "markdown",
      "source": [
        "---\n",
        "\n",
        "# 🔀 ¡Vamos a Hacer un Merge de los 1,000 Comentarios! 🔀\n",
        "\n",
        "> De cada dataset:\n",
        "> - 📦 **Amazon**\n",
        "> - 📝 **Yelp**\n",
        "> - 🎬 **IMDB**\n",
        "\n",
        "---  \n"
      ],
      "metadata": {
        "id": "4NE1cTrExaHx"
      }
    },
    {
      "cell_type": "markdown",
      "source": [
        "![image.png](data:image/png;base64,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)"
      ],
      "metadata": {
        "id": "sXvQtqqMza7q"
      }
    },
    {
      "cell_type": "code",
      "source": [
        "# 📦 Concatenación de todos los datasets en un único DataFrame de 3 000 registros\n",
        "df = pd.concat(\n",
        "    [dfa, dfii, dfy],       # Lista de DataFrames: Amazon, IMDB corregido y Yelp\n",
        "    ignore_index=True       # Reindexa de 0 a 2999 en lugar de mantener índices originales\n",
        ")\n",
        "\n",
        "# 🔍 Inspección rápida del DataFrame resultante\n",
        "# Muestra el número de filas/columnas, tipos de cada columna y uso de memoria\n",
        "df.info()\n"
      ],
      "metadata": {
        "id": "t6GTMhaSjHSE",
        "colab": {
          "base_uri": "https://localhost:8080/"
        },
        "outputId": "7c307c4e-25cf-42ac-9b55-6a4c565152d3"
      },
      "execution_count": 20,
      "outputs": [
        {
          "output_type": "stream",
          "name": "stdout",
          "text": [
            "<class 'pandas.core.frame.DataFrame'>\n",
            "RangeIndex: 3000 entries, 0 to 2999\n",
            "Data columns (total 2 columns):\n",
            " #   Column  Non-Null Count  Dtype \n",
            "---  ------  --------------  ----- \n",
            " 0   review  3000 non-null   object\n",
            " 1   label   3000 non-null   int64 \n",
            "dtypes: int64(1), object(1)\n",
            "memory usage: 47.0+ KB\n"
          ]
        }
      ]
    },
    {
      "cell_type": "markdown",
      "source": [
        "La salida esperada anterior debe ser semajante a los siguiente:"
      ],
      "metadata": {
        "id": "uYxS59gpRUf0"
      }
    },
    {
      "cell_type": "markdown",
      "source": [
        "![image.png](data:image/png;base64,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)"
      ],
      "metadata": {
        "id": "WR0203FoRv_R"
      }
    },
    {
      "cell_type": "code",
      "source": [
        "df['label'].value_counts()   # Recordemos que tenemos un 50% de comentarios positivos y de negativos."
      ],
      "metadata": {
        "id": "oE60DolF9uxC",
        "colab": {
          "base_uri": "https://localhost:8080/",
          "height": 176
        },
        "outputId": "2d70674c-3a85-4211-bedb-6e42e698c459"
      },
      "execution_count": 21,
      "outputs": [
        {
          "output_type": "execute_result",
          "data": {
            "text/plain": [
              "label\n",
              "0    1500\n",
              "1    1500\n",
              "Name: count, dtype: int64"
            ],
            "text/html": [
              "<div>\n",
              "<style scoped>\n",
              "    .dataframe tbody tr th:only-of-type {\n",
              "        vertical-align: middle;\n",
              "    }\n",
              "\n",
              "    .dataframe tbody tr th {\n",
              "        vertical-align: top;\n",
              "    }\n",
              "\n",
              "    .dataframe thead th {\n",
              "        text-align: right;\n",
              "    }\n",
              "</style>\n",
              "<table border=\"1\" class=\"dataframe\">\n",
              "  <thead>\n",
              "    <tr style=\"text-align: right;\">\n",
              "      <th></th>\n",
              "      <th>count</th>\n",
              "    </tr>\n",
              "    <tr>\n",
              "      <th>label</th>\n",
              "      <th></th>\n",
              "    </tr>\n",
              "  </thead>\n",
              "  <tbody>\n",
              "    <tr>\n",
              "      <th>0</th>\n",
              "      <td>1500</td>\n",
              "    </tr>\n",
              "    <tr>\n",
              "      <th>1</th>\n",
              "      <td>1500</td>\n",
              "    </tr>\n",
              "  </tbody>\n",
              "</table>\n",
              "</div><br><label><b>dtype:</b> int64</label>"
            ]
          },
          "metadata": {},
          "execution_count": 21
        }
      ]
    },
    {
      "cell_type": "code",
      "source": [
        "df.head()"
      ],
      "metadata": {
        "id": "e7Af0Ouk7WQP",
        "colab": {
          "base_uri": "https://localhost:8080/",
          "height": 204
        },
        "outputId": "5c7ea7e8-2543-4f4b-da5c-9ffdeeba8887"
      },
      "execution_count": 51,
      "outputs": [
        {
          "output_type": "execute_result",
          "data": {
            "text/plain": [
              "                                              review  label\n",
              "0  So there is no way for me to plug it in here i...      0\n",
              "1                        Good case, Excellent value.      1\n",
              "2                             Great for the jawbone.      1\n",
              "3  Tied to charger for conversations lasting more...      0\n",
              "4                                  The mic is great.      1"
            ],
            "text/html": [
              "\n",
              "  <div id=\"df-c0fd0300-5a48-4106-afe7-49201583b850\" class=\"colab-df-container\">\n",
              "    <div>\n",
              "<style scoped>\n",
              "    .dataframe tbody tr th:only-of-type {\n",
              "        vertical-align: middle;\n",
              "    }\n",
              "\n",
              "    .dataframe tbody tr th {\n",
              "        vertical-align: top;\n",
              "    }\n",
              "\n",
              "    .dataframe thead th {\n",
              "        text-align: right;\n",
              "    }\n",
              "</style>\n",
              "<table border=\"1\" class=\"dataframe\">\n",
              "  <thead>\n",
              "    <tr style=\"text-align: right;\">\n",
              "      <th></th>\n",
              "      <th>review</th>\n",
              "      <th>label</th>\n",
              "    </tr>\n",
              "  </thead>\n",
              "  <tbody>\n",
              "    <tr>\n",
              "      <th>0</th>\n",
              "      <td>So there is no way for me to plug it in here i...</td>\n",
              "      <td>0</td>\n",
              "    </tr>\n",
              "    <tr>\n",
              "      <th>1</th>\n",
              "      <td>Good case, Excellent value.</td>\n",
              "      <td>1</td>\n",
              "    </tr>\n",
              "    <tr>\n",
              "      <th>2</th>\n",
              "      <td>Great for the jawbone.</td>\n",
              "      <td>1</td>\n",
              "    </tr>\n",
              "    <tr>\n",
              "      <th>3</th>\n",
              "      <td>Tied to charger for conversations lasting more...</td>\n",
              "      <td>0</td>\n",
              "    </tr>\n",
              "    <tr>\n",
              "      <th>4</th>\n",
              "      <td>The mic is great.</td>\n",
              "      <td>1</td>\n",
              "    </tr>\n",
              "  </tbody>\n",
              "</table>\n",
              "</div>\n",
              "    <div class=\"colab-df-buttons\">\n",
              "\n",
              "  <div class=\"colab-df-container\">\n",
              "    <button class=\"colab-df-convert\" onclick=\"convertToInteractive('df-c0fd0300-5a48-4106-afe7-49201583b850')\"\n",
              "            title=\"Convert this dataframe to an interactive table.\"\n",
              "            style=\"display:none;\">\n",
              "\n",
              "  <svg xmlns=\"http://www.w3.org/2000/svg\" height=\"24px\" viewBox=\"0 -960 960 960\">\n",
              "    <path d=\"M120-120v-720h720v720H120Zm60-500h600v-160H180v160Zm220 220h160v-160H400v160Zm0 220h160v-160H400v160ZM180-400h160v-160H180v160Zm440 0h160v-160H620v160ZM180-180h160v-160H180v160Zm440 0h160v-160H620v160Z\"/>\n",
              "  </svg>\n",
              "    </button>\n",
              "\n",
              "  <style>\n",
              "    .colab-df-container {\n",
              "      display:flex;\n",
              "      gap: 12px;\n",
              "    }\n",
              "\n",
              "    .colab-df-convert {\n",
              "      background-color: #E8F0FE;\n",
              "      border: none;\n",
              "      border-radius: 50%;\n",
              "      cursor: pointer;\n",
              "      display: none;\n",
              "      fill: #1967D2;\n",
              "      height: 32px;\n",
              "      padding: 0 0 0 0;\n",
              "      width: 32px;\n",
              "    }\n",
              "\n",
              "    .colab-df-convert:hover {\n",
              "      background-color: #E2EBFA;\n",
              "      box-shadow: 0px 1px 2px rgba(60, 64, 67, 0.3), 0px 1px 3px 1px rgba(60, 64, 67, 0.15);\n",
              "      fill: #174EA6;\n",
              "    }\n",
              "\n",
              "    .colab-df-buttons div {\n",
              "      margin-bottom: 4px;\n",
              "    }\n",
              "\n",
              "    [theme=dark] .colab-df-convert {\n",
              "      background-color: #3B4455;\n",
              "      fill: #D2E3FC;\n",
              "    }\n",
              "\n",
              "    [theme=dark] .colab-df-convert:hover {\n",
              "      background-color: #434B5C;\n",
              "      box-shadow: 0px 1px 3px 1px rgba(0, 0, 0, 0.15);\n",
              "      filter: drop-shadow(0px 1px 2px rgba(0, 0, 0, 0.3));\n",
              "      fill: #FFFFFF;\n",
              "    }\n",
              "  </style>\n",
              "\n",
              "    <script>\n",
              "      const buttonEl =\n",
              "        document.querySelector('#df-c0fd0300-5a48-4106-afe7-49201583b850 button.colab-df-convert');\n",
              "      buttonEl.style.display =\n",
              "        google.colab.kernel.accessAllowed ? 'block' : 'none';\n",
              "\n",
              "      async function convertToInteractive(key) {\n",
              "        const element = document.querySelector('#df-c0fd0300-5a48-4106-afe7-49201583b850');\n",
              "        const dataTable =\n",
              "          await google.colab.kernel.invokeFunction('convertToInteractive',\n",
              "                                                    [key], {});\n",
              "        if (!dataTable) return;\n",
              "\n",
              "        const docLinkHtml = 'Like what you see? Visit the ' +\n",
              "          '<a target=\"_blank\" href=https://colab.research.google.com/notebooks/data_table.ipynb>data table notebook</a>'\n",
              "          + ' to learn more about interactive tables.';\n",
              "        element.innerHTML = '';\n",
              "        dataTable['output_type'] = 'display_data';\n",
              "        await google.colab.output.renderOutput(dataTable, element);\n",
              "        const docLink = document.createElement('div');\n",
              "        docLink.innerHTML = docLinkHtml;\n",
              "        element.appendChild(docLink);\n",
              "      }\n",
              "    </script>\n",
              "  </div>\n",
              "\n",
              "\n",
              "    <div id=\"df-e56ee5d0-f05e-4af6-b7a1-109c60829faa\">\n",
              "      <button class=\"colab-df-quickchart\" onclick=\"quickchart('df-e56ee5d0-f05e-4af6-b7a1-109c60829faa')\"\n",
              "                title=\"Suggest charts\"\n",
              "                style=\"display:none;\">\n",
              "\n",
              "<svg xmlns=\"http://www.w3.org/2000/svg\" height=\"24px\"viewBox=\"0 0 24 24\"\n",
              "     width=\"24px\">\n",
              "    <g>\n",
              "        <path d=\"M19 3H5c-1.1 0-2 .9-2 2v14c0 1.1.9 2 2 2h14c1.1 0 2-.9 2-2V5c0-1.1-.9-2-2-2zM9 17H7v-7h2v7zm4 0h-2V7h2v10zm4 0h-2v-4h2v4z\"/>\n",
              "    </g>\n",
              "</svg>\n",
              "      </button>\n",
              "\n",
              "<style>\n",
              "  .colab-df-quickchart {\n",
              "      --bg-color: #E8F0FE;\n",
              "      --fill-color: #1967D2;\n",
              "      --hover-bg-color: #E2EBFA;\n",
              "      --hover-fill-color: #174EA6;\n",
              "      --disabled-fill-color: #AAA;\n",
              "      --disabled-bg-color: #DDD;\n",
              "  }\n",
              "\n",
              "  [theme=dark] .colab-df-quickchart {\n",
              "      --bg-color: #3B4455;\n",
              "      --fill-color: #D2E3FC;\n",
              "      --hover-bg-color: #434B5C;\n",
              "      --hover-fill-color: #FFFFFF;\n",
              "      --disabled-bg-color: #3B4455;\n",
              "      --disabled-fill-color: #666;\n",
              "  }\n",
              "\n",
              "  .colab-df-quickchart {\n",
              "    background-color: var(--bg-color);\n",
              "    border: none;\n",
              "    border-radius: 50%;\n",
              "    cursor: pointer;\n",
              "    display: none;\n",
              "    fill: var(--fill-color);\n",
              "    height: 32px;\n",
              "    padding: 0;\n",
              "    width: 32px;\n",
              "  }\n",
              "\n",
              "  .colab-df-quickchart:hover {\n",
              "    background-color: var(--hover-bg-color);\n",
              "    box-shadow: 0 1px 2px rgba(60, 64, 67, 0.3), 0 1px 3px 1px rgba(60, 64, 67, 0.15);\n",
              "    fill: var(--button-hover-fill-color);\n",
              "  }\n",
              "\n",
              "  .colab-df-quickchart-complete:disabled,\n",
              "  .colab-df-quickchart-complete:disabled:hover {\n",
              "    background-color: var(--disabled-bg-color);\n",
              "    fill: var(--disabled-fill-color);\n",
              "    box-shadow: none;\n",
              "  }\n",
              "\n",
              "  .colab-df-spinner {\n",
              "    border: 2px solid var(--fill-color);\n",
              "    border-color: transparent;\n",
              "    border-bottom-color: var(--fill-color);\n",
              "    animation:\n",
              "      spin 1s steps(1) infinite;\n",
              "  }\n",
              "\n",
              "  @keyframes spin {\n",
              "    0% {\n",
              "      border-color: transparent;\n",
              "      border-bottom-color: var(--fill-color);\n",
              "      border-left-color: var(--fill-color);\n",
              "    }\n",
              "    20% {\n",
              "      border-color: transparent;\n",
              "      border-left-color: var(--fill-color);\n",
              "      border-top-color: var(--fill-color);\n",
              "    }\n",
              "    30% {\n",
              "      border-color: transparent;\n",
              "      border-left-color: var(--fill-color);\n",
              "      border-top-color: var(--fill-color);\n",
              "      border-right-color: var(--fill-color);\n",
              "    }\n",
              "    40% {\n",
              "      border-color: transparent;\n",
              "      border-right-color: var(--fill-color);\n",
              "      border-top-color: var(--fill-color);\n",
              "    }\n",
              "    60% {\n",
              "      border-color: transparent;\n",
              "      border-right-color: var(--fill-color);\n",
              "    }\n",
              "    80% {\n",
              "      border-color: transparent;\n",
              "      border-right-color: var(--fill-color);\n",
              "      border-bottom-color: var(--fill-color);\n",
              "    }\n",
              "    90% {\n",
              "      border-color: transparent;\n",
              "      border-bottom-color: var(--fill-color);\n",
              "    }\n",
              "  }\n",
              "</style>\n",
              "\n",
              "      <script>\n",
              "        async function quickchart(key) {\n",
              "          const quickchartButtonEl =\n",
              "            document.querySelector('#' + key + ' button');\n",
              "          quickchartButtonEl.disabled = true;  // To prevent multiple clicks.\n",
              "          quickchartButtonEl.classList.add('colab-df-spinner');\n",
              "          try {\n",
              "            const charts = await google.colab.kernel.invokeFunction(\n",
              "                'suggestCharts', [key], {});\n",
              "          } catch (error) {\n",
              "            console.error('Error during call to suggestCharts:', error);\n",
              "          }\n",
              "          quickchartButtonEl.classList.remove('colab-df-spinner');\n",
              "          quickchartButtonEl.classList.add('colab-df-quickchart-complete');\n",
              "        }\n",
              "        (() => {\n",
              "          let quickchartButtonEl =\n",
              "            document.querySelector('#df-e56ee5d0-f05e-4af6-b7a1-109c60829faa button');\n",
              "          quickchartButtonEl.style.display =\n",
              "            google.colab.kernel.accessAllowed ? 'block' : 'none';\n",
              "        })();\n",
              "      </script>\n",
              "    </div>\n",
              "\n",
              "    </div>\n",
              "  </div>\n"
            ],
            "application/vnd.google.colaboratory.intrinsic+json": {
              "type": "dataframe",
              "variable_name": "df",
              "summary": "{\n  \"name\": \"df\",\n  \"rows\": 3000,\n  \"fields\": [\n    {\n      \"column\": \"review\",\n      \"properties\": {\n        \"dtype\": \"string\",\n        \"num_unique_values\": 2983,\n        \"samples\": [\n          \"We've tried to like this place but after 10+ times I think we're done with them.\",\n          \"The script is a big flawed mess.  \",\n          \"It was that loud.Glad to say that the Plantronics 510 maintains a flawless connection to my cell and with no static during normal use.\"\n        ],\n        \"semantic_type\": \"\",\n        \"description\": \"\"\n      }\n    },\n    {\n      \"column\": \"label\",\n      \"properties\": {\n        \"dtype\": \"number\",\n        \"std\": 0,\n        \"min\": 0,\n        \"max\": 1,\n        \"num_unique_values\": 2,\n        \"samples\": [\n          1,\n          0\n        ],\n        \"semantic_type\": \"\",\n        \"description\": \"\"\n      }\n    }\n  ]\n}"
            }
          },
          "metadata": {},
          "execution_count": 51
        }
      ]
    },
    {
      "cell_type": "markdown",
      "source": [
        "---"
      ],
      "metadata": {
        "id": "woYNHzcL0Wdk"
      }
    },
    {
      "cell_type": "markdown",
      "source": [
        "# **Pregunta - 3:**\n",
        "\n",
        "## 3 - Comentario datos perdidos."
      ],
      "metadata": {
        "id": "qzKiZYuhoHor"
      }
    },
    {
      "cell_type": "markdown",
      "source": [
        "---\n",
        "\n",
        "### 🤔 Tratamiento de registros extremos\n",
        "\n",
        "> Sabemos que existen comentarios muy diversos. Por ejemplo, observa los registros 1,125 y 1,788, cuyas salidas deben de ser 10/10. De los 3,000, dos de los comentarios fueron simplemente de esta forma.  \n",
        ">  \n",
        "> Cuando apliques el proceso de limpieza en la pregunta 4, como solo consideraremos caracteres alfabéticos, estos dos registros quedarán vacíos.  \n",
        ">  \n",
        "> En particular ¿cómo tratarías estos dos comentarios? ¿Simplemente los descartarías? ¿Los incluirías haciendo algún ajuste particular? ¿Alguna otra decisión que consideres adecuada para estos dos casos?  \n",
        ">  \n",
        "> **Incluye a continuación tus comentarios sobre la decisión que tomarías para el tratamiento en particular de estos dos registros, 1,125 y 1,788. Justifica tu respuesta.**\n",
        "\n",
        "---  \n"
      ],
      "metadata": {
        "id": "pGoks5N5ny3-"
      }
    },
    {
      "cell_type": "code",
      "source": [
        "# Selecciona la fila con índice 1788 de 'df' y todas sus columnas,\n",
        "# para inspeccionar ese registro completo (verificando tu salida).\n",
        "df.iloc[1788, :]"
      ],
      "metadata": {
        "id": "Cgpz9GTPnbe8",
        "colab": {
          "base_uri": "https://localhost:8080/",
          "height": 145
        },
        "outputId": "1000241c-8626-454d-93f3-99608be11cd8"
      },
      "execution_count": 25,
      "outputs": [
        {
          "output_type": "execute_result",
          "data": {
            "text/plain": [
              "review    10/10  \n",
              "label           1\n",
              "Name: 1788, dtype: object"
            ],
            "text/html": [
              "<div>\n",
              "<style scoped>\n",
              "    .dataframe tbody tr th:only-of-type {\n",
              "        vertical-align: middle;\n",
              "    }\n",
              "\n",
              "    .dataframe tbody tr th {\n",
              "        vertical-align: top;\n",
              "    }\n",
              "\n",
              "    .dataframe thead th {\n",
              "        text-align: right;\n",
              "    }\n",
              "</style>\n",
              "<table border=\"1\" class=\"dataframe\">\n",
              "  <thead>\n",
              "    <tr style=\"text-align: right;\">\n",
              "      <th></th>\n",
              "      <th>1788</th>\n",
              "    </tr>\n",
              "  </thead>\n",
              "  <tbody>\n",
              "    <tr>\n",
              "      <th>review</th>\n",
              "      <td>10/10</td>\n",
              "    </tr>\n",
              "    <tr>\n",
              "      <th>label</th>\n",
              "      <td>1</td>\n",
              "    </tr>\n",
              "  </tbody>\n",
              "</table>\n",
              "</div><br><label><b>dtype:</b> object</label>"
            ]
          },
          "metadata": {},
          "execution_count": 25
        }
      ]
    },
    {
      "cell_type": "code",
      "source": [
        "# Selecciona la fila con índice 1788 de 'df' y todas sus columnas,\n",
        "# para inspeccionar ese registro completo (verificando tu salida).\n",
        "df.iloc[1125, :]"
      ],
      "metadata": {
        "colab": {
          "base_uri": "https://localhost:8080/",
          "height": 145
        },
        "id": "4zxkh4084Se3",
        "outputId": "55987d4d-d764-4238-db36-a4a0f05a3e7e"
      },
      "execution_count": 26,
      "outputs": [
        {
          "output_type": "execute_result",
          "data": {
            "text/plain": [
              "review    10/10  \n",
              "label           1\n",
              "Name: 1125, dtype: object"
            ],
            "text/html": [
              "<div>\n",
              "<style scoped>\n",
              "    .dataframe tbody tr th:only-of-type {\n",
              "        vertical-align: middle;\n",
              "    }\n",
              "\n",
              "    .dataframe tbody tr th {\n",
              "        vertical-align: top;\n",
              "    }\n",
              "\n",
              "    .dataframe thead th {\n",
              "        text-align: right;\n",
              "    }\n",
              "</style>\n",
              "<table border=\"1\" class=\"dataframe\">\n",
              "  <thead>\n",
              "    <tr style=\"text-align: right;\">\n",
              "      <th></th>\n",
              "      <th>1125</th>\n",
              "    </tr>\n",
              "  </thead>\n",
              "  <tbody>\n",
              "    <tr>\n",
              "      <th>review</th>\n",
              "      <td>10/10</td>\n",
              "    </tr>\n",
              "    <tr>\n",
              "      <th>label</th>\n",
              "      <td>1</td>\n",
              "    </tr>\n",
              "  </tbody>\n",
              "</table>\n",
              "</div><br><label><b>dtype:</b> object</label>"
            ]
          },
          "metadata": {},
          "execution_count": 26
        }
      ]
    },
    {
      "cell_type": "code",
      "source": [
        "# ———————————————\n",
        "# Imprimir las filas 1125 y 1788 del DataFrame 'df'\n",
        "# ———————————————\n",
        "\n",
        "# Utilizando iloc con una lista de posiciones\n",
        "filas_especiales = df.iloc[[1125, 1788], :]\n",
        "\n",
        "# Mostrar las filas seleccionadas\n",
        "print(\"🚀 Filas 1125 y 1788 del DataFrame:\")\n",
        "print(filas_especiales.to_string(index=True))\n"
      ],
      "metadata": {
        "colab": {
          "base_uri": "https://localhost:8080/"
        },
        "id": "GNA0-pTx4fh3",
        "outputId": "a245f0ff-ea54-495d-80ae-beb085d3cb3b"
      },
      "execution_count": 27,
      "outputs": [
        {
          "output_type": "stream",
          "name": "stdout",
          "text": [
            "🚀 Filas 1125 y 1788 del DataFrame:\n",
            "       review  label\n",
            "1125  10/10        1\n",
            "1788  10/10        1\n"
          ]
        }
      ]
    },
    {
      "cell_type": "markdown",
      "source": [
        "########################################################\n",
        "##### **AGREGA AQUÍ TUS COMENTARIOS - Pregunta 3:**\n",
        "\n",
        "---\n",
        "## 🤔 Tratamiento de registros “10/10” (índices 1125 & 1788)\n",
        "\n",
        "🚀 **Filas extraídas de `df`:**\n",
        "\n",
        ">     review  label  \n",
        ">     1125    10/10      1  \n",
        ">     1788    10/10      1  \n",
        "\n",
        "### 📝 Interpretación de “10/10”\n",
        "\n",
        "> Para mí, en mi muy particular punto de vista, cuando digo que algo es **10/10** significa que es **Excelente**, **maravilloso**, que me **encantó**.  \n",
        ">\n",
        "> Entonces, a **10/10** (o un patrón similar) lo ponderaría acorde para saber qué tan **bueno** o **malo** es:\n",
        ">\n",
        "> - 📍 El **lugar** (caso de Yelp)  \n",
        "> - 🎬 La **película** (caso de IMDB)  \n",
        "> - 📦 El **producto** (caso de Amazon)\n",
        "\n",
        "Creo que la decisión depende del **uso** que demos al dataset y de la **cantidad** de registros afectados. Para casos como estos, podría seguirse este flujo:\n",
        "\n",
        "1. **Detección**  \n",
        "   - Usar un _regex_ para identificar patrones `número1/número2` (e.g. `10/10`).\n",
        "\n",
        "2. **Cálculo**  \n",
        "   - Convertir ambos números a enteros y calcular `score = número1 / número2`.\n",
        "\n",
        "3. **Mapeo a etiqueta**  \n",
        "   - Traducir ese `score` a un texto y label según esta tabla:\n",
        "\n",
        "<table class=\"tg\">\n",
        "<thead>\n",
        "  <tr>\n",
        "    <th class=\"tg-0lax\">Rango del resultado</th>\n",
        "    <th class=\"tg-0lax\">Opinión</th>\n",
        "    <th class=\"tg-0lax\">Etiqueta</th>\n",
        "    <th class=\"tg-0lax\">Calificación</th>\n",
        "  </tr>\n",
        "</thead>\n",
        "<tbody>\n",
        "  <tr>\n",
        "    <td class=\"tg-0lax\">0.00 a 0.10</td>\n",
        "    <td class=\"tg-0lax\">Pésimo</td>\n",
        "    <td class=\"tg-0lax\">0</td>\n",
        "    <td class=\"tg-0lax\">1/10</td>\n",
        "  </tr>\n",
        "  <tr>\n",
        "    <td class=\"tg-0lax\">0.11 a 0.20</td>\n",
        "    <td class=\"tg-0lax\">Peor</td>\n",
        "    <td class=\"tg-0lax\">0</td>\n",
        "    <td class=\"tg-0lax\">2/10</td>\n",
        "  </tr>\n",
        "  <tr>\n",
        "    <td class=\"tg-0lax\">0.21 a 0.30</td>\n",
        "    <td class=\"tg-0lax\">Malo</td>\n",
        "    <td class=\"tg-0lax\">0</td>\n",
        "    <td class=\"tg-0lax\">3/10</td>\n",
        "  </tr>\n",
        "  <tr>\n",
        "    <td class=\"tg-0lax\">0.31 a 0.40</td>\n",
        "    <td class=\"tg-0lax\">Debajo del promedio</td>\n",
        "    <td class=\"tg-0lax\">0</td>\n",
        "    <td class=\"tg-0lax\">4/10</td>\n",
        "  </tr>\n",
        "  <tr>\n",
        "    <td class=\"tg-0lax\">0.41 a 0.50</td>\n",
        "    <td class=\"tg-0lax\">Promedio</td>\n",
        "    <td class=\"tg-0lax\">1</td>\n",
        "    <td class=\"tg-0lax\">5/10</td>\n",
        "  </tr>\n",
        "  <tr>\n",
        "    <td class=\"tg-0lax\">0.51 a 0.60</td>\n",
        "    <td class=\"tg-0lax\">Por encima del promedio</td>\n",
        "    <td class=\"tg-0lax\">1</td>\n",
        "    <td class=\"tg-0lax\">6/10</td>\n",
        "  </tr>\n",
        "  <tr>\n",
        "    <td class=\"tg-0lax\">0.61 a 0.70</td>\n",
        "    <td class=\"tg-0lax\">Bueno</td>\n",
        "    <td class=\"tg-0lax\">1</td>\n",
        "    <td class=\"tg-0lax\">7/10</td>\n",
        "  </tr>\n",
        "  <tr>\n",
        "    <td class=\"tg-0lax\">0.71 a 0.80</td>\n",
        "    <td class=\"tg-0lax\">Excelente</td>\n",
        "    <td class=\"tg-0lax\">1</td>\n",
        "    <td class=\"tg-0lax\">8/10</td>\n",
        "  </tr>\n",
        "  <tr>\n",
        "    <td class=\"tg-0lax\">0.91 a 9.99</td>\n",
        "    <td class=\"tg-0lax\">Sobresaliente</td>\n",
        "    <td class=\"tg-0lax\">1</td>\n",
        "    <td class=\"tg-0lax\">9/10</td>\n",
        "  </tr>\n",
        "  <tr>\n",
        "    <td class=\"tg-0lax\">10.00 a Infinito</td>\n",
        "    <td class=\"tg-0lax\">Lo mejor de lo Mejor</td>\n",
        "    <td class=\"tg-0lax\">1</td>\n",
        "    <td class=\"tg-0lax\">10/10</td>\n",
        "  </tr>  \n",
        "</tbody>\n",
        "</table>\n",
        "\n",
        "4. **Incorporación**  \n",
        "   - Reemplazar el “10/10” original por el texto calculado (e.g. `\"Gran Recomendación\"`) y su etiqueta numérica.\n",
        "\n",
        "---\n",
        "\n",
        "### 🎯 ¿Descartar o ajustar?\n",
        "\n",
        "- 💾 **Volumen:** Con 3,000 registros y solo 2 de este tipo, no es crítico descartar registros.  \n",
        "- 🔍 **Calidad:** Para mantener la consistencia es mejor **ajustarlos** mediante el proceso anterior.  \n",
        "- ⚙️ **Simplicidad:** En un primer pase podríamos:  \n",
        "  - **Conservarlos** tal cual y documentar el caso.  \n",
        "  - **O bien**, ajustarlos al paso 3 para homogeneizar el dataset.  \n",
        "\n",
        "> **Mi recomendación:**  \n",
        "> Dado que solo son 2 comentarios entre 3,000, sugeriría **ajustarlos** con el método de _regex_ + _mapeo_. Si en etapas posteriores vemos que su impacto es irrelevante, podríamos descartarlos entonces sin mayor complicación.\n",
        "\n",
        "---  \n",
        "\n",
        "##### **FIN PARA AGREGAR TUS COMENTARIOS**\n",
        "#########################################################"
      ],
      "metadata": {
        "id": "G2IvO-KKo33m"
      }
    },
    {
      "cell_type": "code",
      "source": [
        "# ———————————————\n",
        "# 1️⃣ Separación de datos en X (features) e Y (labels)\n",
        "# ———————————————\n",
        "\n",
        " # Separamos la información:\n",
        " #     La \"X\" serán los datos de entrada, los comentarios.\n",
        " #     La \"Y\" será la variable de salida, la evaluación.\n",
        " # Ambos, X y Y son \"Series\"\n",
        "\n",
        "X = df.review     # Serie de strings: cada comentario\n",
        "Y = df.label      # Serie de enteros: 0 (negativo) y 1 (positivo)\n",
        "\n",
        "# ———————————————\n",
        "# 2️⃣ Verificación de las dimensiones esperadas\n",
        "# ———————————————\n",
        "assert X.shape == (3000,), f\"❌ Error: X tiene {X.shape[0]} registros, se esperaban 3000.\"\n",
        "assert Y.shape == (3000,), f\"❌ Error: Y tiene {Y.shape[0]} registros, se esperaban 3000.\"\n",
        "\n",
        "# ———————————————\n",
        "# 3️⃣ Mensaje de confirmación si todo está bien\n",
        "# ———————————————\n",
        "print(\"✅ ¡Todo OK! X e Y contienen cada uno 3,000 registros tal como se esperaba.\")\n"
      ],
      "metadata": {
        "id": "Up-mdgGm-DZW",
        "outputId": "4f16cf2d-9ead-4a56-e259-0d41a5bef2fe",
        "colab": {
          "base_uri": "https://localhost:8080/"
        }
      },
      "execution_count": 32,
      "outputs": [
        {
          "output_type": "stream",
          "name": "stdout",
          "text": [
            "✅ ¡Todo OK! X e Y contienen cada uno 3,000 registros tal como se esperaba.\n"
          ]
        }
      ]
    },
    {
      "cell_type": "markdown",
      "source": [
        "---"
      ],
      "metadata": {
        "id": "iENWqqwg-NL8"
      }
    },
    {
      "cell_type": "markdown",
      "source": [
        "##**Pregunta - 4:**"
      ],
      "metadata": {
        "id": "xcT5_EvAHIaE"
      }
    },
    {
      "cell_type": "markdown",
      "source": [
        "**En esta etapa deberás llevar a cabo el procesamiento, limpieza y tokenización de los comentarios de texto.**\n",
        "\n",
        "Deberás de incluir los procesos que se indicarán a continuación, aunque no necesariament deben ser en este orden. De hecho deberás estar revisando la salida de algunos de los registros para que determines cual consideras podría ser el mejor orden de estos pasos.\n",
        "\n",
        "La incluiremos en una función llamada \"clean_tok()\" ya que es la tokenización y limpieza básica de cada uno de los 3000 comentarios. La entrada de esta función son cada uno de estos 3000 strings/comentarios.\n",
        "\n",
        "Lo que nos regresa \"clean_tok()\" es una lista de tokens/strings ya simplificados de cada comentario de entrada.\n",
        "\n",
        "Los pasos a incluir son los siguientes (repito, tú deberás determinar el orden de ellos, aquí se incluyen en orden alfabético):\n",
        "\n",
        "*   **Caracteres alfabéticos:** Solo considerar caracteres alfabéticos. Por lo tanto, deberán ser eliminados signos de puntuación, caracteres especiales y números.\n",
        "\n",
        "*   **Longitud mayor a 1:** Se deben considerar solamente tokens de longitud mayor a 1.\n",
        "\n",
        "*   **Minúsculas:** Simplificar todo a minúsculas.\n",
        "\n",
        "*   **Stopwords:** Eliminar las stopwords.\n",
        "\n",
        "*   **Tokenización:** Cada comentario queda tokenizado por palabras, o cadena de caracteres alfabéticos.\n",
        "\n",
        "Por ejemplo, si el primer comentario de X fuera el string 'All you need is love!', lo que nos regresaría clean_tok() sería la lista de strings ['need', 'love'] que llamaremos \"tokens\"."
      ],
      "metadata": {
        "id": "sDNn-WU4HKJD"
      }
    },
    {
      "cell_type": "code",
      "source": [
        "def clean_tok(doc):\n",
        "  ##############################################################################\n",
        "  # AGREGA AQUÍ TUS LÍNEAS DE CÓDIGO - Pregunta 4:\n",
        "\n",
        "\n",
        "  None\n",
        "\n",
        "\n",
        "\n",
        "  # FIN PARA AGREGAR TUS LÍNEAS DE CÓDIGO.\n",
        "  ##############################################################################\n",
        "\n",
        "  return tokens"
      ],
      "metadata": {
        "id": "K59mMXdnVHoV"
      },
      "execution_count": null,
      "outputs": []
    },
    {
      "cell_type": "code",
      "metadata": {
        "id": "emzufPuTBA2Y"
      },
      "source": [
        "# Aplicamos el proceso de limpieza y tokenización:\n",
        "\n",
        "Xcleantok = [clean_tok(x) for x in X]"
      ],
      "execution_count": null,
      "outputs": []
    },
    {
      "cell_type": "markdown",
      "source": [
        "Veamos los primeros comentarios.\n",
        "\n",
        "En particular observa si \"minutes\" y \"major\" están como dos tokens separados en el cuarto comentario. De nos ser así, si aparecen juntos como un solo token, debes revisar tu proceso de limpieza anterior, porque esto significa que pueden existir otros muchos casos que nos llevan a esta salida no deseada. Trata de determinar el origen de este problema (y solo en caso de que te haya aparecido como un solo token \"minutesmajor\", en el cuarto comentario).\n"
      ],
      "metadata": {
        "id": "d_EHTfav_5Qs"
      }
    },
    {
      "cell_type": "code",
      "source": [
        "for x in Xcleantok[0:5]:\n",
        "  print(x)"
      ],
      "metadata": {
        "id": "06yGlUdtCvhd"
      },
      "execution_count": null,
      "outputs": []
    },
    {
      "cell_type": "markdown",
      "source": [
        "##**Pregunta - 5:**"
      ],
      "metadata": {
        "id": "IXc4Z2m6WMUq"
      }
    },
    {
      "cell_type": "markdown",
      "source": [
        "Esta pregunta es abierta y podrás incluir todos aquellos procesos de limpieza adicionales que desees.\n",
        "\n",
        "Por ejemplo, puedes decidir aplicar algunos procesos (regex) para simplificar caracteres que aparecen repetidos más de dos veces, o bien simplificar algunas conjugaciones de verbos regulares para no incluir terminaciones en \"s\", \"ed\" o \"ing\". Puedes también decidir aplicar alguna de las técnicas de stemming o de lemmatization, etc.\n",
        "\n",
        "NOTA: Deberás aplicar al menos dos procesos de limpieza o normalización adicionales en esta función que llamamos simplemente clean_doc().\n",
        "\n",
        "La entrada son cada una de las listas con los comentarios tokenizados de Xcleantok y la salida es una lista de tokens simplficados/normalizados con el nombre de \"tokens\". En dado caso, algunos de los comentarios tokenizados pudieran no surgir cambio alguno bajo esta función.\n",
        "\n",
        "Recuerda que el objetivo de esta función \"clean_doc()\" es tener datos más limpios para el proceso de entrenamiento con los algoritmos de aprendizaje automático que se realizarán en las últimas preguntas.\n",
        "\n",
        "Puedes inspeccionar de manera aleatoria algunos de los 3000 registros para determinar qué procesos de limpieza adicionales incluir."
      ],
      "metadata": {
        "id": "2A2q04w1WOT3"
      }
    },
    {
      "cell_type": "code",
      "source": [
        "##############################################################################\n",
        "# AGREGA AQUÍ TUS LÍNEAS DE CÓDIGO - Pregunta 5:\n",
        "\n",
        "# Aquí puedes incluir las librerías, paquetes o líneas de código necesarias para\n",
        "# el proceso de limpieza adicional de esta pregunta:\n",
        "\n",
        "None\n",
        "\n",
        "def clean_doc(doc):\n",
        "\n",
        "\n",
        "\n",
        "  None\n",
        "\n",
        "\n",
        "\n",
        "  return tokens\n",
        "  # FIN PARA AGREGAR TUS LÍNEAS DE CÓDIGO.\n",
        "  ##############################################################################"
      ],
      "metadata": {
        "id": "W64PSuG6usny"
      },
      "execution_count": null,
      "outputs": []
    },
    {
      "cell_type": "code",
      "source": [
        "# Aplicamos el proceso de limpieza/normalización adicionales:\n",
        "\n",
        "Xclean = [clean_doc(x) for x in Xcleantok]"
      ],
      "metadata": {
        "id": "gXwjkV9wcN1v"
      },
      "execution_count": null,
      "outputs": []
    },
    {
      "cell_type": "code",
      "source": [
        "Xclean[0:5]         # Veamos los primero registros para ver cómo va quedando el resultado."
      ],
      "metadata": {
        "id": "OP5J6aLGcNv2"
      },
      "execution_count": null,
      "outputs": []
    },
    {
      "cell_type": "markdown",
      "source": [
        "##**Pregunta - 6:**"
      ],
      "metadata": {
        "id": "1iurTQ-X5WdC"
      }
    },
    {
      "cell_type": "markdown",
      "source": [
        "En esta pregunta deberás generar la nube de palabras de cada clase: la de los comentarios positivos y la de los comentarios negativos.\n",
        "\n",
        "En la primera parte de esta pregunta y a partir del conjunto de comentarios obtenido hasta ahora, Xclean, deberás obtener el string de comentarios positivos llamada \"pt\" y el de comentarios negativos \"nt\".\n",
        "\n",
        "En la parte 2 deberás mostrar las dos nubes de palabras: la nube de palabras de los comentarios positivos y la nube de palabras de los comentarios negativos.\n",
        "\n",
        "En la parte 3 de este ejercicio deberás incluir tus comentarios de lo que observas de ambas nubes de palabras.\n",
        "\n",
        "Igualmente deberás incluir los paquetes o librerías necesarios."
      ],
      "metadata": {
        "id": "bAEWuvU975bV"
      }
    },
    {
      "cell_type": "code",
      "source": [
        "##############################################################################\n",
        "# AGREGA AQUÍ TUS LÍNEAS DE CÓDIGO - Pregunta 6 - parte 1:\n",
        "\n",
        "\n",
        "None\n",
        "\n",
        "\n",
        "\n",
        "\n",
        "\n",
        "pt = None\n",
        "nt = None\n",
        "\n",
        "# FIN PARA AGREGAR TUS LÍNEAS DE CÓDIGO.\n",
        "##############################################################################"
      ],
      "metadata": {
        "id": "kbcd3ylu80V3"
      },
      "execution_count": null,
      "outputs": []
    },
    {
      "cell_type": "code",
      "source": [
        "##############################################################################\n",
        "# AGREGA AQUÍ TUS LÍNEAS DE CÓDIGO - Pregunta 6 - parte 2:\n",
        "\n",
        "\n",
        "None\n",
        "\n",
        "\n",
        "# FIN PARA AGREGAR TUS LÍNEAS DE CÓDIGO.\n",
        "##############################################################################"
      ],
      "metadata": {
        "id": "wiDmIOar9wkS"
      },
      "execution_count": null,
      "outputs": []
    },
    {
      "cell_type": "markdown",
      "source": [
        "######################################################################\n",
        "###### **AGREGA AQUÍ TUS COMENTARIOS - Pregunta 6 - parte 3:**\n",
        "\n",
        "\n",
        "None\n",
        "\n",
        "\n",
        "###### **FIN PARA AGREGAR TUS COMENTARIOS.**\n",
        "######################################################################"
      ],
      "metadata": {
        "id": "2WvHCKq9AGzi"
      }
    },
    {
      "cell_type": "markdown",
      "metadata": {
        "id": "xoD1rSYcDlFH"
      },
      "source": [
        "###**Train-Validation-Test**\n",
        "\n",
        "Para este ejercicio realizaremos una partición de train-validation-test del 70%-15%-15%, respectivamente.\n",
        "\n",
        "Obviamente la distribución de esta partición puede ser otro de los hiperparámetros a determinar, pero para fines de este ejercicio consideraremos dichos valores."
      ]
    },
    {
      "cell_type": "code",
      "metadata": {
        "id": "5xsYb82cDqPN"
      },
      "source": [
        "from sklearn.model_selection import train_test_split\n",
        "\n",
        "x_train, x_val_and_test, y_train, y_val_and_test = train_test_split(Xclean, Y, train_size=.70, shuffle=True, random_state=1)\n",
        "x_val, x_test, y_val, y_test = train_test_split(x_val_and_test, y_val_and_test, test_size=.50, shuffle=True, random_state=17)\n",
        "\n",
        "print('X,y Train:', len(x_train), len(y_train))      # los \"x_\" son \"list\" y los \"y_\" son \"Series\"\n",
        "print('X,y Val:', len(x_val), len(y_val))\n",
        "print('X,y Test', len(x_test), len(y_test))"
      ],
      "execution_count": null,
      "outputs": []
    },
    {
      "cell_type": "markdown",
      "metadata": {
        "id": "TJ4zQIwhIClF"
      },
      "source": [
        "###Construyamos a continuación nuestro vocabulario de palabras con base al conteo de tokens/palabras del conjunto de entrenamiento."
      ]
    },
    {
      "cell_type": "code",
      "source": [
        "from collections import Counter"
      ],
      "metadata": {
        "id": "7pNEUJPHDt5U"
      },
      "execution_count": null,
      "outputs": []
    },
    {
      "cell_type": "code",
      "metadata": {
        "id": "KvXZKduYIKZ1"
      },
      "source": [
        "midiccionario = Counter()\n",
        "\n",
        "for k in range(len(x_train)):\n",
        "  midiccionario.update(x_train[k])\n",
        "\n",
        "\n",
        "print('Longitud del diccionario:', len(midiccionario))\n",
        "print('\\n(word,frequency):')\n",
        "print(midiccionario.most_common(10))"
      ],
      "execution_count": null,
      "outputs": []
    },
    {
      "cell_type": "code",
      "metadata": {
        "id": "nK-JoAH0PbAm"
      },
      "source": [
        "# Veamos la gráfica de palabras nuestro diccionario con base a la frecuencia de las palabras/tokens:\n",
        "\n",
        "plt.plot(list(np.arange(len(midiccionario))), list(midiccionario.values()), color='blue')\n",
        "plt.show()"
      ],
      "execution_count": null,
      "outputs": []
    },
    {
      "cell_type": "markdown",
      "metadata": {
        "id": "5zh6yVo3QJAL"
      },
      "source": [
        "###Descartemos palabras cuya frecuencia en el conjunto de entrenamiento es muy pequeña:"
      ]
    },
    {
      "cell_type": "markdown",
      "source": [
        "##**Pregunta - 7:**"
      ],
      "metadata": {
        "id": "m1GlIF47I15k"
      }
    },
    {
      "cell_type": "markdown",
      "source": [
        "En esta pregunta deberás determinar la frecuencia mínima de aparición de los tokens del diccionario/vocabulario en el conjunto de entrenamiento. Es usual que al menos se filtren los tokens de frecuencia 1, ya que usualmente no dan mayor información.\n",
        "\n",
        "Sin embargo, la respuesta a si debemos filtrar todavía tokens de mayor frecuencia dependerá del tamaño que tengas actualmente de tu vocabulario y de la calidad de dichos tokens. Una manera de determinar dicha calidad de los tokens es con el resultado de los modelos de aprendizaje (regresión logística, random-forest, etc.) que aplicarás en los ejercicios de la última parte de esta Actividad.\n",
        "\n",
        "Así que por el momento puedes poner un valor arbitrario y más adelante ajustarlo con base al desempeño que obtengas de los modelos.\n",
        "\n",
        "Sin embargo, debes cuidar que la frecuencia de los tokens no la consideres demasiado grande, que empieces a generar una gran cantidad de comentarios vacíos en tu conjunto de entrenamiento.\n",
        "\n",
        "Llamaremos \"min_freq\" a la frecuencia mínima de aparición de un token para considerarlo dentro del vocabulario/diccionario. Debe ser un número entero.\n",
        "\n",
        "Llamaremos \"midicc\" al nuevo diccionario que generes con tokens de frecuencia natural (es decir, de conteo) mayor o igual a \"min_freq\"."
      ],
      "metadata": {
        "id": "Xm6Du9arI8W8"
      }
    },
    {
      "cell_type": "code",
      "source": [
        "##############################################################################\n",
        "# AGREGA AQUÍ TUS LÍNEAS DE CÓDIGO - Pregunta 7:\n",
        "\n",
        "min_freq = None\n",
        "\n",
        "midicc = None\n",
        "\n",
        "\n",
        "# FIN PARA AGREGAR TUS LÍNEAS DE CÓDIGO.\n",
        "##############################################################################\n",
        "\n",
        "print('Nueva longitud del nuevo vocabulario:', len(midicc))\n",
        "print(list(midicc.items())[0:5])     # veamos algunos elementos del diccionario."
      ],
      "metadata": {
        "id": "t9tAWyXYK7Ej"
      },
      "execution_count": null,
      "outputs": []
    },
    {
      "cell_type": "markdown",
      "metadata": {
        "id": "CDA2xvl_StVP"
      },
      "source": [
        "###Filtremos los conjuntos Train, Validation y Test con respecto al nuevo vocabulario propuesto:"
      ]
    },
    {
      "cell_type": "code",
      "metadata": {
        "id": "d1np99AiTQQT"
      },
      "source": [
        "train_x = []\n",
        "for ss in x_train:\n",
        "  train_x.append([w for w in ss if w in midicc])\n",
        "\n",
        "val_x = []\n",
        "for ss in x_val:\n",
        "  val_x.append([w for w in ss if w in midicc])\n",
        "\n",
        "test_x = []\n",
        "for ss in x_test:\n",
        "  test_x.append([w for w in ss if w in midicc])"
      ],
      "execution_count": null,
      "outputs": []
    },
    {
      "cell_type": "code",
      "metadata": {
        "id": "NTfkWb_DUAsE"
      },
      "source": [
        "# Podemos ver algunos de los comentarios de entrenamiento, antes y después\n",
        "# de incluir la condición de la frecuencia mínima de ocurrencia de un token:\n",
        "\n",
        "for k in range(3):\n",
        "  print('Antes:', x_train[k])\n",
        "  print('Después:', train_x[k])"
      ],
      "execution_count": null,
      "outputs": []
    },
    {
      "cell_type": "markdown",
      "source": [
        "###Obtengamos las matrices de conteo document-term-matrix como matrices dispersas (sparse matrices ). Para ello requerimos que cada comentario esté como un solo string."
      ],
      "metadata": {
        "id": "lwnhTff1Pgh8"
      }
    },
    {
      "cell_type": "code",
      "source": [
        "train_x_docs = []\n",
        "for k in range(len(train_x)):\n",
        "  train_x_docs.append(' '.join(train_x[k]))\n",
        "\n",
        "val_x_docs = []\n",
        "for k in range(len(val_x)):\n",
        "  val_x_docs.append(' '.join(val_x[k]))\n",
        "\n",
        "test_x_docs = []\n",
        "for k in range(len(test_x)):\n",
        "  test_x_docs.append(' '.join(test_x[k]))\n",
        "\n",
        "\n",
        "\n",
        "# Verifica que los primeros comentarios de Train están cada uno como un solo string:\n",
        "for k in range(3):\n",
        "  print(train_x_docs[k])"
      ],
      "metadata": {
        "id": "XTeYtxD6QTzO"
      },
      "execution_count": null,
      "outputs": []
    },
    {
      "cell_type": "markdown",
      "source": [
        "###Ahora generemos las matrices sparse en su formato predeterminado CSR de estas matrices de conteo:"
      ],
      "metadata": {
        "id": "XvZYTeJFR2Ue"
      }
    },
    {
      "cell_type": "code",
      "source": [
        "mivocab = list(midicc.keys())     # Obtenemos nuestro vocabulario de tokens/palabras.\n",
        "\n",
        "#mivocab.sort()    # Usualmente se ordenan alfabéticamente, pero para visualizar algunos de los valores\n",
        "                   # no cero de las matrices, por el momento no lo haremos.\n",
        "\n",
        "\n",
        "\n",
        "# Generamos las matrices dispersas requeridas con base al conteo de los tokens:\n",
        "from sklearn.feature_extraction.text import CountVectorizer\n",
        "\n",
        "countvectorizer = CountVectorizer(vocabulary=mivocab)\n",
        "train_x_count = countvectorizer.fit_transform(train_x_docs)\n",
        "val_x_count = countvectorizer.transform(val_x_docs)\n",
        "test_x_count = countvectorizer.transform(test_x_docs)\n",
        "\n",
        "count_tokens = countvectorizer.get_feature_names_out()\n",
        "df_countvect = pd.DataFrame(data = train_x_count.toarray(),  columns = count_tokens)\n",
        "print(df_countvect.iloc[0:3,6:18])   # veamos las frecuencias de los primeros comentarios."
      ],
      "metadata": {
        "id": "E5FGslE6PYlM"
      },
      "execution_count": null,
      "outputs": []
    },
    {
      "cell_type": "code",
      "source": [
        "p_sparse = 1 - train_x_count.count_nonzero() / (train_x_count.shape[0] * train_x_count.shape[1])    # Sparsity : Porcentaje de valores de 0.\n",
        "print('Porcentaje de valores cero de la matriz sparse de entrenamiento: %.1f%%' % (100*p_sparse))"
      ],
      "metadata": {
        "id": "ADFOT_HuVyRT"
      },
      "execution_count": null,
      "outputs": []
    },
    {
      "cell_type": "markdown",
      "source": [
        "##**Pregunta - 8:**"
      ],
      "metadata": {
        "id": "L-S6wtXrXyJI"
      }
    },
    {
      "cell_type": "markdown",
      "source": [
        "En este ejercicio deberás ahora generar las matrices dispersas TF-IDF para los conjuntos de entrenamiento, validación y prueba.\n",
        "\n",
        "Deberás usar el vocabulario \"mivocab\" para generar dichas matrices.\n",
        "\n",
        "Dichas matrices las llamaremos \"train_x_tfidf\", \"val_x_tfidf\" y \"test_x_tfidf\".\n",
        "\n",
        "Deberás agregar además las librerías o módulos necesarios.\n",
        "\n",
        "Al final imprime los valores de algunos tokens de los primeros tres comentarios."
      ],
      "metadata": {
        "id": "f8MQL5_HYBp4"
      }
    },
    {
      "cell_type": "code",
      "source": [
        "##############################################################################\n",
        "# AGREGA AQUÍ TUS LÍNEAS DE CÓDIGO - Pregunta 8:\n",
        "\n",
        "\n",
        "\n",
        "None\n",
        "\n",
        "\n",
        "\n",
        "# FIN PARA AGREGAR TUS LÍNEAS DE CÓDIGO.\n",
        "##############################################################################"
      ],
      "metadata": {
        "id": "2XnZSfRiYqqw"
      },
      "execution_count": null,
      "outputs": []
    },
    {
      "cell_type": "markdown",
      "source": [
        "##**Pregunta - 9:**"
      ],
      "metadata": {
        "id": "bPl1-LILa2ya"
      }
    },
    {
      "cell_type": "markdown",
      "source": [
        "###A continuación, usando Sklearn, deberás aplicar los modelos de regresión logística (lo llamaremos modeloLRcount), ranfom-forest para clasificación (lo llamaremos modeloRFcount) y naive-bayes en su opción MultinomialNB (lo llamaremos modeloNBcount).\n",
        "\n",
        "###Deberás de utilizar las matrices de conteo \"train_x_count\", \"val_x_count\" y \"test_x_count\".\n",
        "\n",
        "###Con el mejor modelo obtenido, se usará el conjunto de prueba (test) para obtener el desempeño (Accuracy) final y su matriz de confusión.\n",
        "\n",
        "###Simplemente deberás buscar los mejores hiperparámetros de cada modelo.\n",
        "\n",
        "###No es necesario usar por el momento validación-cruzada (cross-validation).\n",
        "\n",
        "###Puedes probar primero cada uno de manera independiente para la búsqueda de los mejores hiperparámetros y ya que los tengas, incluir aquí tus mejores modelos de cada uno."
      ],
      "metadata": {
        "id": "RvJ1-GhNa8NP"
      }
    },
    {
      "cell_type": "code",
      "source": [
        "from sklearn.linear_model import LogisticRegression\n",
        "from sklearn.ensemble import RandomForestClassifier\n",
        "from sklearn.naive_bayes import MultinomialNB"
      ],
      "metadata": {
        "id": "6Plkf1hBX1D7"
      },
      "execution_count": null,
      "outputs": []
    },
    {
      "cell_type": "code",
      "source": [
        "##############################################################################\n",
        "# AGREGA AQUÍ TUS LÍNEAS DE CÓDIGO - Pregunta 9:\n",
        "\n",
        "\n",
        "modeloLRcount = None\n",
        "\n",
        "\n",
        "\n",
        "modeloRFcount = None\n",
        "\n",
        "\n",
        "\n",
        "\n",
        "modeloNBcount = None\n",
        "\n",
        "\n",
        "\n",
        "\n",
        "\n",
        "# FIN PARA AGREGAR TUS LÍNEAS DE CÓDIGO.\n",
        "##############################################################################\n",
        "\n",
        "\n",
        "print('LR: Train-accuracy: %.2f%%' % (100*modeloLRcount.score(train_x_count, y_train)))\n",
        "print('LR: Val-accuracy: %2.f%%' % (100*modeloLRcount.score(val_x_count, y_val)))\n",
        "\n",
        "print('\\nRF: Train-accuracy: %.2f%%' % (100*modeloRFcount.score(train_x_count, y_train)))\n",
        "print('RF: Val-accuracy: %.2f%%' % (100*modeloRFcount.score(val_x_count, y_val)))\n",
        "\n",
        "print('\\nNB: Train-accuracy: %.2f%%' % (100*modeloNBcount.score(train_x_count, y_train)))\n",
        "print('NB: Val-accuracy: %.2f%%' % (100*modeloNBcount.score(val_x_count, y_val)))"
      ],
      "metadata": {
        "id": "YQ7FyoOvjcXh"
      },
      "execution_count": null,
      "outputs": []
    },
    {
      "cell_type": "code",
      "source": [
        "##############################################################################\n",
        "# AGREGA AQUÍ EL NOMBRE DE TU MEJOR MODELO OBTENIDO CON COUNTER:\n",
        "\n",
        "mejor_modelo_Count = None # incluye el nombre, modeloXXcount, de tu mejor modelo.\n",
        "\n",
        "# FIN PARA AGREGAR TUS LÍNEAS DE CÓDIGO.\n",
        "##############################################################################\n",
        "\n",
        "\n",
        "\n",
        "print('Test-accuracy con el mejor modelo de Conteo %.2f%%' % (100*mejor_modelo_Count.score(test_x_count, y_test)))\n",
        "\n",
        "from sklearn.metrics import confusion_matrix\n",
        "\n",
        "pred = mejor_modelo_Count.predict(test_x_count)\n",
        "print('\\nMatriz de confusión con el mejor modelo de Conteo:')\n",
        "print(confusion_matrix(y_test, pred, labels=[0,1]))\n",
        "\n",
        "print('\\nMatriz de confusión con el mejor modelo de Conteo en proporciones:')\n",
        "print(confusion_matrix(y_test, pred, labels=[0,1]) / pred.shape[0])"
      ],
      "metadata": {
        "id": "RGlYDiAof3Wq"
      },
      "execution_count": null,
      "outputs": []
    },
    {
      "cell_type": "markdown",
      "source": [
        "##**Pregunta - 10:**"
      ],
      "metadata": {
        "id": "dfMzR65Hhs-h"
      }
    },
    {
      "cell_type": "markdown",
      "source": [
        "###Deberás repetir el ejercicio anterior, pero usando ahora las matrices TF-IDF obtenidas previamente: \"train_x_tfidf\", \"val_x_tfidf\" y \"test_x_tfidf\".\n",
        "\n",
        "###Llamaremos a los modelos modeloXXtfidf, para LR, RF y NB."
      ],
      "metadata": {
        "id": "OIU6j92_iTDh"
      }
    },
    {
      "cell_type": "code",
      "source": [
        "##############################################################################\n",
        "# AGREGA AQUÍ TUS LÍNEAS DE CÓDIGO - Pregunta 10:\n",
        "\n",
        "\n",
        "modeloLRtfidf = None\n",
        "\n",
        "\n",
        "\n",
        "modeloRFtfidf = None\n",
        "\n",
        "\n",
        "\n",
        "\n",
        "modeloNBtfidf = None\n",
        "\n",
        "\n",
        "\n",
        "\n",
        "\n",
        "# FIN PARA AGREGAR TUS LÍNEAS DE CÓDIGO.\n",
        "##############################################################################\n",
        "\n",
        "\n",
        "print('Resultados parciales con matrices tf-idf:')\n",
        "print('\\nLR: Train-accuracy: %.2f%%' % (100*modeloLRtfidf.score(train_x_tfidf, y_train)))\n",
        "print('LR: Val-accuracy: %2.f%%' % (100*modeloLRtfidf.score(val_x_tfidf, y_val)))\n",
        "\n",
        "print('\\nRF: Train-accuracy: %.2f%%' % (100*modeloRFtfidf.score(train_x_tfidf, y_train)))\n",
        "print('RF: Val-accuracy: %.2f%%' % (100*modeloRFtfidf.score(val_x_tfidf, y_val)))\n",
        "\n",
        "print('\\nNB: Train-accuracy: %.2f%%' % (100*modeloNBtfidf.score(train_x_tfidf, y_train)))\n",
        "print('NB: Val-accuracy: %.2f%%' % (100*modeloNBtfidf.score(val_x_tfidf, y_val)))"
      ],
      "metadata": {
        "id": "QZ_IF9jxdjkv"
      },
      "execution_count": null,
      "outputs": []
    },
    {
      "cell_type": "code",
      "source": [
        "##############################################################################\n",
        "# AGREGA AQUÍ EL NOMBRE DE TU MEJOR MODELO OBTENIDO CON TF-IDF:\n",
        "\n",
        "mejor_modelo_Tfidf = None # incluye el nombre, modeloXXtfidf, de tu mejor modelo.\n",
        "\n",
        "# FIN PARA AGREGAR TUS LÍNEAS DE CÓDIGO.\n",
        "##############################################################################\n",
        "\n",
        "\n",
        "\n",
        "print('Test-accuracy con el mejor modelo Tf-idf %.2f%%' % (100*mejor_modelo_Tfidf.score(test_x_tfidf, y_test)))\n",
        "\n",
        "pred = mejor_modelo_Tfidf.predict(test_x_tfidf)\n",
        "print('\\nMatriz de confusión con el mejor modelo Tf-idf:')\n",
        "print(confusion_matrix(y_test, pred, labels=[0,1]))\n",
        "\n",
        "print('\\nMatriz de confusión con el mejor modelo de Tf-idf en proporciones:')\n",
        "print(confusion_matrix(y_test, pred, labels=[0,1]) / pred.shape[0])"
      ],
      "metadata": {
        "id": "Fk-cvsF3djd8"
      },
      "execution_count": null,
      "outputs": []
    },
    {
      "cell_type": "markdown",
      "source": [
        "##**Pregunta - 11:**"
      ],
      "metadata": {
        "id": "T2i2LXPBqVRS"
      }
    },
    {
      "cell_type": "markdown",
      "source": [
        "###Finalmente incluye tus conclusiones finales de la Actividad.\n",
        "\n",
        "###En particular, indica cuál técnica resultó mejor en este problema, ¿usando matrices de conteo o tf-idf?\n",
        "\n",
        "###Indica también a qué crees que se debe la diferencia entre los valores de los Falsos-Negativos y Falsos-Positivos de la mejor matriz de confusión que obtuviste. ¿Qué implicaciones podrían tener cada uno de estos errores?\n",
        "\n",
        "##**Como nota complementaria, se esperaría que tu mejor modelo final mínimamente debiera alcanzar un 72% de buen desempeño (accuracy), pero puede ser mayor.**"
      ],
      "metadata": {
        "id": "QNHZDkH7qXDy"
      }
    },
    {
      "cell_type": "markdown",
      "source": [
        "######################################################################\n",
        "###### **AGREGA AQUÍ TUS CONCLUSIONES FINALES - Pregunta 11:**\n",
        "\n",
        "\n",
        "None\n",
        "\n",
        "\n",
        "###### **FIN PARA AGREGAR TUS CONCLUSIONES FINALES.**\n",
        "######################################################################"
      ],
      "metadata": {
        "id": "WRF0z0gorGh1"
      }
    },
    {
      "cell_type": "markdown",
      "source": [
        "#**FIN DE LA ACTIVIDAD DE LAS SEMANAS 3 Y 4**"
      ],
      "metadata": {
        "id": "IDvRXhA_rdBy"
      }
    }
  ]
}