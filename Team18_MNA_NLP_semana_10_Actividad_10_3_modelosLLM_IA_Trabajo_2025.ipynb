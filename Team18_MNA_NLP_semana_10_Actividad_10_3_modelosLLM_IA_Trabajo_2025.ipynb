{
  "nbformat": 4,
  "nbformat_minor": 0,
  "metadata": {
    "colab": {
      "provenance": [],
      "include_colab_link": true
    },
    "kernelspec": {
      "name": "python3",
      "display_name": "Python 3"
    },
    "language_info": {
      "name": "python"
    },
    "widgets": {
      "application/vnd.jupyter.widget-state+json": {
        "3070a575d2004e558f612c600c02141f": {
          "model_module": "@jupyter-widgets/controls",
          "model_name": "HBoxModel",
          "model_module_version": "2.0.0",
          "state": {
            "_dom_classes": [],
            "_model_module": "@jupyter-widgets/controls",
            "_model_module_version": "2.0.0",
            "_model_name": "HBoxModel",
            "_view_count": null,
            "_view_module": "@jupyter-widgets/controls",
            "_view_module_version": "2.0.0",
            "_view_name": "HBoxView",
            "box_style": "",
            "children": [
              "IPY_MODEL_2106350a2702445a86fca3dbab2cb43e",
              "IPY_MODEL_50735f04fde24db2b4e748088030b756",
              "IPY_MODEL_9accb1dc885a42efa8e6fd639d0a9902"
            ],
            "layout": "IPY_MODEL_8c2bcd2d1282410ca815d5870531afa3",
            "tabbable": null,
            "tooltip": null
          }
        },
        "2106350a2702445a86fca3dbab2cb43e": {
          "model_module": "@jupyter-widgets/controls",
          "model_name": "HTMLModel",
          "model_module_version": "2.0.0",
          "state": {
            "_dom_classes": [],
            "_model_module": "@jupyter-widgets/controls",
            "_model_module_version": "2.0.0",
            "_model_name": "HTMLModel",
            "_view_count": null,
            "_view_module": "@jupyter-widgets/controls",
            "_view_module_version": "2.0.0",
            "_view_name": "HTMLView",
            "description": "",
            "description_allow_html": false,
            "layout": "IPY_MODEL_103e07be08b44e889e886a813157c0c3",
            "placeholder": "​",
            "style": "IPY_MODEL_6168a09bd8ac49da90f9e46c3ed63dc3",
            "tabbable": null,
            "tooltip": null,
            "value": "Loading checkpoint shards: 100%"
          }
        },
        "50735f04fde24db2b4e748088030b756": {
          "model_module": "@jupyter-widgets/controls",
          "model_name": "FloatProgressModel",
          "model_module_version": "2.0.0",
          "state": {
            "_dom_classes": [],
            "_model_module": "@jupyter-widgets/controls",
            "_model_module_version": "2.0.0",
            "_model_name": "FloatProgressModel",
            "_view_count": null,
            "_view_module": "@jupyter-widgets/controls",
            "_view_module_version": "2.0.0",
            "_view_name": "ProgressView",
            "bar_style": "success",
            "description": "",
            "description_allow_html": false,
            "layout": "IPY_MODEL_772767ec76a64c1b848ac62579374e6a",
            "max": 3,
            "min": 0,
            "orientation": "horizontal",
            "style": "IPY_MODEL_7da05daa605c40adb1ea291871249e95",
            "tabbable": null,
            "tooltip": null,
            "value": 3
          }
        },
        "9accb1dc885a42efa8e6fd639d0a9902": {
          "model_module": "@jupyter-widgets/controls",
          "model_name": "HTMLModel",
          "model_module_version": "2.0.0",
          "state": {
            "_dom_classes": [],
            "_model_module": "@jupyter-widgets/controls",
            "_model_module_version": "2.0.0",
            "_model_name": "HTMLModel",
            "_view_count": null,
            "_view_module": "@jupyter-widgets/controls",
            "_view_module_version": "2.0.0",
            "_view_name": "HTMLView",
            "description": "",
            "description_allow_html": false,
            "layout": "IPY_MODEL_11b9c305e2234b6e91acc7b1ce8b54ae",
            "placeholder": "​",
            "style": "IPY_MODEL_e85269d61fe1477eb03e79e7e9dfc08e",
            "tabbable": null,
            "tooltip": null,
            "value": " 3/3 [00:04&lt;00:00,  1.48s/it]"
          }
        },
        "8c2bcd2d1282410ca815d5870531afa3": {
          "model_module": "@jupyter-widgets/base",
          "model_name": "LayoutModel",
          "model_module_version": "2.0.0",
          "state": {
            "_model_module": "@jupyter-widgets/base",
            "_model_module_version": "2.0.0",
            "_model_name": "LayoutModel",
            "_view_count": null,
            "_view_module": "@jupyter-widgets/base",
            "_view_module_version": "2.0.0",
            "_view_name": "LayoutView",
            "align_content": null,
            "align_items": null,
            "align_self": null,
            "border_bottom": null,
            "border_left": null,
            "border_right": null,
            "border_top": null,
            "bottom": null,
            "display": null,
            "flex": null,
            "flex_flow": null,
            "grid_area": null,
            "grid_auto_columns": null,
            "grid_auto_flow": null,
            "grid_auto_rows": null,
            "grid_column": null,
            "grid_gap": null,
            "grid_row": null,
            "grid_template_areas": null,
            "grid_template_columns": null,
            "grid_template_rows": null,
            "height": null,
            "justify_content": null,
            "justify_items": null,
            "left": null,
            "margin": null,
            "max_height": null,
            "max_width": null,
            "min_height": null,
            "min_width": null,
            "object_fit": null,
            "object_position": null,
            "order": null,
            "overflow": null,
            "padding": null,
            "right": null,
            "top": null,
            "visibility": null,
            "width": null
          }
        },
        "103e07be08b44e889e886a813157c0c3": {
          "model_module": "@jupyter-widgets/base",
          "model_name": "LayoutModel",
          "model_module_version": "2.0.0",
          "state": {
            "_model_module": "@jupyter-widgets/base",
            "_model_module_version": "2.0.0",
            "_model_name": "LayoutModel",
            "_view_count": null,
            "_view_module": "@jupyter-widgets/base",
            "_view_module_version": "2.0.0",
            "_view_name": "LayoutView",
            "align_content": null,
            "align_items": null,
            "align_self": null,
            "border_bottom": null,
            "border_left": null,
            "border_right": null,
            "border_top": null,
            "bottom": null,
            "display": null,
            "flex": null,
            "flex_flow": null,
            "grid_area": null,
            "grid_auto_columns": null,
            "grid_auto_flow": null,
            "grid_auto_rows": null,
            "grid_column": null,
            "grid_gap": null,
            "grid_row": null,
            "grid_template_areas": null,
            "grid_template_columns": null,
            "grid_template_rows": null,
            "height": null,
            "justify_content": null,
            "justify_items": null,
            "left": null,
            "margin": null,
            "max_height": null,
            "max_width": null,
            "min_height": null,
            "min_width": null,
            "object_fit": null,
            "object_position": null,
            "order": null,
            "overflow": null,
            "padding": null,
            "right": null,
            "top": null,
            "visibility": null,
            "width": null
          }
        },
        "6168a09bd8ac49da90f9e46c3ed63dc3": {
          "model_module": "@jupyter-widgets/controls",
          "model_name": "HTMLStyleModel",
          "model_module_version": "2.0.0",
          "state": {
            "_model_module": "@jupyter-widgets/controls",
            "_model_module_version": "2.0.0",
            "_model_name": "HTMLStyleModel",
            "_view_count": null,
            "_view_module": "@jupyter-widgets/base",
            "_view_module_version": "2.0.0",
            "_view_name": "StyleView",
            "background": null,
            "description_width": "",
            "font_size": null,
            "text_color": null
          }
        },
        "772767ec76a64c1b848ac62579374e6a": {
          "model_module": "@jupyter-widgets/base",
          "model_name": "LayoutModel",
          "model_module_version": "2.0.0",
          "state": {
            "_model_module": "@jupyter-widgets/base",
            "_model_module_version": "2.0.0",
            "_model_name": "LayoutModel",
            "_view_count": null,
            "_view_module": "@jupyter-widgets/base",
            "_view_module_version": "2.0.0",
            "_view_name": "LayoutView",
            "align_content": null,
            "align_items": null,
            "align_self": null,
            "border_bottom": null,
            "border_left": null,
            "border_right": null,
            "border_top": null,
            "bottom": null,
            "display": null,
            "flex": null,
            "flex_flow": null,
            "grid_area": null,
            "grid_auto_columns": null,
            "grid_auto_flow": null,
            "grid_auto_rows": null,
            "grid_column": null,
            "grid_gap": null,
            "grid_row": null,
            "grid_template_areas": null,
            "grid_template_columns": null,
            "grid_template_rows": null,
            "height": null,
            "justify_content": null,
            "justify_items": null,
            "left": null,
            "margin": null,
            "max_height": null,
            "max_width": null,
            "min_height": null,
            "min_width": null,
            "object_fit": null,
            "object_position": null,
            "order": null,
            "overflow": null,
            "padding": null,
            "right": null,
            "top": null,
            "visibility": null,
            "width": null
          }
        },
        "7da05daa605c40adb1ea291871249e95": {
          "model_module": "@jupyter-widgets/controls",
          "model_name": "ProgressStyleModel",
          "model_module_version": "2.0.0",
          "state": {
            "_model_module": "@jupyter-widgets/controls",
            "_model_module_version": "2.0.0",
            "_model_name": "ProgressStyleModel",
            "_view_count": null,
            "_view_module": "@jupyter-widgets/base",
            "_view_module_version": "2.0.0",
            "_view_name": "StyleView",
            "bar_color": null,
            "description_width": ""
          }
        },
        "11b9c305e2234b6e91acc7b1ce8b54ae": {
          "model_module": "@jupyter-widgets/base",
          "model_name": "LayoutModel",
          "model_module_version": "2.0.0",
          "state": {
            "_model_module": "@jupyter-widgets/base",
            "_model_module_version": "2.0.0",
            "_model_name": "LayoutModel",
            "_view_count": null,
            "_view_module": "@jupyter-widgets/base",
            "_view_module_version": "2.0.0",
            "_view_name": "LayoutView",
            "align_content": null,
            "align_items": null,
            "align_self": null,
            "border_bottom": null,
            "border_left": null,
            "border_right": null,
            "border_top": null,
            "bottom": null,
            "display": null,
            "flex": null,
            "flex_flow": null,
            "grid_area": null,
            "grid_auto_columns": null,
            "grid_auto_flow": null,
            "grid_auto_rows": null,
            "grid_column": null,
            "grid_gap": null,
            "grid_row": null,
            "grid_template_areas": null,
            "grid_template_columns": null,
            "grid_template_rows": null,
            "height": null,
            "justify_content": null,
            "justify_items": null,
            "left": null,
            "margin": null,
            "max_height": null,
            "max_width": null,
            "min_height": null,
            "min_width": null,
            "object_fit": null,
            "object_position": null,
            "order": null,
            "overflow": null,
            "padding": null,
            "right": null,
            "top": null,
            "visibility": null,
            "width": null
          }
        },
        "e85269d61fe1477eb03e79e7e9dfc08e": {
          "model_module": "@jupyter-widgets/controls",
          "model_name": "HTMLStyleModel",
          "model_module_version": "2.0.0",
          "state": {
            "_model_module": "@jupyter-widgets/controls",
            "_model_module_version": "2.0.0",
            "_model_name": "HTMLStyleModel",
            "_view_count": null,
            "_view_module": "@jupyter-widgets/base",
            "_view_module_version": "2.0.0",
            "_view_name": "StyleView",
            "background": null,
            "description_width": "",
            "font_size": null,
            "text_color": null
          }
        }
      }
    }
  },
  "cells": [
    {
      "cell_type": "markdown",
      "metadata": {
        "id": "view-in-github",
        "colab_type": "text"
      },
      "source": [
        "<a href=\"https://colab.research.google.com/github/jrebull/NLP/blob/main/Team18_MNA_NLP_semana_10_Actividad_10_3_modelosLLM_IA_Trabajo_2025.ipynb\" target=\"_parent\"><img src=\"https://colab.research.google.com/assets/colab-badge.svg\" alt=\"Open In Colab\"/></a>"
      ]
    },
    {
      "cell_type": "markdown",
      "source": [
        "# **Procesamiento de Lenguaje Natural**\n",
        "\n",
        "## Maestría en Inteligencia Artificial Aplicada\n",
        "#### Tecnológico de Monterrey\n",
        "#### Prof Luis Eduardo Falcón Morales\n",
        "\n",
        "### **10.3 Actividad: modelos LLM y IA en tu lugar de trabajo.**"
      ],
      "metadata": {
        "id": "-hVND8xY2OKY"
      }
    },
    {
      "cell_type": "code",
      "source": [
        "\n",
        "# 2. IMPORTAR LIBRERÍAS\n",
        "import torch\n",
        "from transformers import AutoTokenizer, AutoModel\n",
        "import chromadb\n",
        "from chromadb.config import Settings\n",
        "from chromadb.utils.embedding_functions import SentenceTransformerEmbeddingFunction\n",
        "\n",
        "# 3. CARGAR BETO\n",
        "modelo = \"dccuchile/bert-base-spanish-wwm-uncased\"\n",
        "tokenizer = AutoTokenizer.from_pretrained(modelo)\n",
        "model = AutoModel.from_pretrained(modelo).to(\"cuda\" if torch.cuda.is_available() else \"cpu\")\n",
        "\n",
        "# 4. TEXTOS DE SALUD MENTAL (puedes cargar tus propios)\n",
        "documentos = [\n",
        "    {\"id\": \"1\", \"contenido\": \"La ansiedad puede manejarse con respiración profunda y meditación diaria.\"},\n",
        "    {\"id\": \"2\", \"contenido\": \"La depresión no es debilidad. Hablar con un profesional es una buena opción.\"},\n",
        "    {\"id\": \"3\", \"contenido\": \"El insomnio puede estar relacionado con estrés o ansiedad acumulada.\"},\n",
        "    {\"id\": \"4\", \"contenido\": \"la caida de pito se resuelve con hilo y aguja\" },\n",
        "    # Agrega más textos aquí\n",
        "]\n",
        "\n",
        "# 5. INICIALIZAR EMBEDDINGS Y ChromaDB\n",
        "embedding_func = SentenceTransformerEmbeddingFunction(model_name=\"all-MiniLM-L6-v2\")\n",
        "\n",
        "client = chromadb.Client(Settings(anonymized_telemetry=False))\n",
        "collection = client.create_collection(name=\"salud_mental\", embedding_function=embedding_func)\n",
        "\n",
        "for doc in documentos:\n",
        "    collection.add(documents=[doc[\"contenido\"]], metadatas=[{\"tema\": \"salud\"}], ids=[doc[\"id\"]])\n"
      ],
      "metadata": {
        "colab": {
          "base_uri": "https://localhost:8080/"
        },
        "id": "5cgI3RhHa4ub",
        "outputId": "46ac0f9c-dd5c-47d6-aff2-83b2ab51bdab"
      },
      "execution_count": null,
      "outputs": [
        {
          "output_type": "stream",
          "name": "stderr",
          "text": [
            "Some weights of BertModel were not initialized from the model checkpoint at dccuchile/bert-base-spanish-wwm-uncased and are newly initialized: ['pooler.dense.bias', 'pooler.dense.weight']\n",
            "You should probably TRAIN this model on a down-stream task to be able to use it for predictions and inference.\n"
          ]
        }
      ]
    },
    {
      "cell_type": "code",
      "source": [],
      "metadata": {
        "id": "j9dk8eNheVHC"
      },
      "execution_count": null,
      "outputs": []
    },
    {
      "cell_type": "code",
      "source": [
        "from transformers import AutoModelForCausalLM, AutoTokenizer\n",
        "import torch\n",
        "\n",
        "modelo_mistral = \"mistralai/Mistral-7B-Instruct-v0.2\"\n",
        "tokenizer = AutoTokenizer.from_pretrained(modelo_mistral)\n",
        "model = AutoModelForCausalLM.from_pretrained(modelo_mistral, torch_dtype=torch.float16, device_map=\"auto\")"
      ],
      "metadata": {
        "colab": {
          "base_uri": "https://localhost:8080/",
          "height": 35,
          "referenced_widgets": [
            "3070a575d2004e558f612c600c02141f",
            "2106350a2702445a86fca3dbab2cb43e",
            "50735f04fde24db2b4e748088030b756",
            "9accb1dc885a42efa8e6fd639d0a9902",
            "8c2bcd2d1282410ca815d5870531afa3",
            "103e07be08b44e889e886a813157c0c3",
            "6168a09bd8ac49da90f9e46c3ed63dc3",
            "772767ec76a64c1b848ac62579374e6a",
            "7da05daa605c40adb1ea291871249e95",
            "11b9c305e2234b6e91acc7b1ce8b54ae",
            "e85269d61fe1477eb03e79e7e9dfc08e"
          ]
        },
        "id": "e4e5UJv_cZcX",
        "outputId": "6b171af9-0a1a-4b5c-c6a1-3962fb0fec22"
      },
      "execution_count": null,
      "outputs": [
        {
          "output_type": "display_data",
          "data": {
            "text/plain": [
              "Loading checkpoint shards:   0%|          | 0/3 [00:00<?, ?it/s]"
            ],
            "application/vnd.jupyter.widget-view+json": {
              "version_major": 2,
              "version_minor": 0,
              "model_id": "3070a575d2004e558f612c600c02141f"
            }
          },
          "metadata": {}
        },
        {
          "output_type": "stream",
          "name": "stderr",
          "text": [
            "Some parameters are on the meta device because they were offloaded to the cpu.\n"
          ]
        }
      ]
    },
    {
      "cell_type": "code",
      "source": [
        "# 6. CONSULTA DEL USUARIO\n",
        "consulta = \"¿Qué puedo hacer si sufro de ansiedad?\"\n",
        "resultados = collection.query(query_texts=[consulta], n_results=2)\n",
        "\n",
        "contexto = \"\\n\".join(resultados['documents'][0])\n",
        "prompt = f\"Contexto:\\n{contexto}\\n\\nPregunta: {consulta}\\nRespuesta en español:\""
      ],
      "metadata": {
        "id": "wtWKM1tfm349"
      },
      "execution_count": null,
      "outputs": []
    },
    {
      "cell_type": "code",
      "source": [
        "# Tokenizar el prompt antes de pasarlo al modelo\n",
        "inputs = tokenizer(prompt, return_tensors=\"pt\").to(model.device)\n",
        "\n",
        "# Generar la respuesta\n",
        "outputs = model.generate(**inputs, max_new_tokens=200)\n",
        "\n",
        "\n",
        "print(tokenizer.decode(outputs[0], skip_special_tokens=True))"
      ],
      "metadata": {
        "colab": {
          "base_uri": "https://localhost:8080/"
        },
        "id": "qHbJvOGxcq8w",
        "outputId": "3f276a7c-0f76-4b51-f326-7e1b6dd04207"
      },
      "execution_count": null,
      "outputs": [
        {
          "output_type": "stream",
          "name": "stderr",
          "text": [
            "Setting `pad_token_id` to `eos_token_id`:2 for open-end generation.\n"
          ]
        },
        {
          "output_type": "stream",
          "name": "stdout",
          "text": [
            "Contexto:\n",
            "El insomnio puede estar relacionado con estrés o ansiedad acumulada.\n",
            "La ansiedad puede manejarse con respiración profunda y meditación diaria.\n",
            "\n",
            "Pregunta: ¿Qué puedo hacer si sufro de ansiedad?\n",
            "Respuesta en español: Si estás sufriendo de ansiedad, hay algunas cosas que puedes hacer para ayudarte a sentirme mejor. Una de ellas es practicar la respiración profunda. Sientate cómodamente en una silla o en el suelo, coloca las manos en tu vientre y respira a través de tu nariz hasta que tu vientre se haga inflar. Luego, sujeta el vientre y exhala a través de la boca. Repite este proceso varias veces hasta que te sientes más tranquilo. Otra cosa que puede ayudarte es practicar la meditación diaria. Sitúate en un lugar tranquilo y silencioso, cierra los ojos y concentra tu mente en un punto fijo, como un punto en el techo o en el centro de tu frente. Intentá\n"
          ]
        }
      ]
    },
    {
      "cell_type": "code",
      "source": [
        "print(\"Documentos recuperados:\")\n",
        "for doc in resultados['documents'][0]:\n",
        "    print(doc)\n"
      ],
      "metadata": {
        "colab": {
          "base_uri": "https://localhost:8080/"
        },
        "id": "0M_01feXrLHg",
        "outputId": "e350eeef-b581-4729-dd74-753516659460"
      },
      "execution_count": null,
      "outputs": [
        {
          "output_type": "stream",
          "name": "stdout",
          "text": [
            "Documentos recuperados:\n",
            "la caida de pito se resuelve con hilo y aguja\n",
            "El insomnio puede estar relacionado con estrés o ansiedad acumulada.\n"
          ]
        }
      ]
    },
    {
      "cell_type": "code",
      "source": [
        "consulta = \"se me cae el pito!!!\"\n",
        "resultados = collection.query(query_texts=[consulta], n_results=2)\n",
        "\n",
        "contexto = \"\\n\".join(resultados['documents'][0])\n",
        "prompt = f\"Contexto:\\n{contexto}\\n\\nPregunta: {consulta}\\nRespuesta en español:\""
      ],
      "metadata": {
        "id": "XF7sXjhli7de"
      },
      "execution_count": null,
      "outputs": []
    },
    {
      "cell_type": "code",
      "source": [
        "# Tokenizar el prompt antes de pasarlo al modelo\n",
        "inputs = tokenizer(prompt, return_tensors=\"pt\").to(model.device)\n",
        "\n",
        "# Generar la respuesta\n",
        "outputs = model.generate(**inputs, max_new_tokens=500, do_sample=True, temperature=0.2)\n",
        "\n",
        "print(tokenizer.decode(outputs[0], skip_special_tokens=True))"
      ],
      "metadata": {
        "colab": {
          "base_uri": "https://localhost:8080/"
        },
        "id": "4Nv23HRSl8PX",
        "outputId": "0fc1ac59-ac87-4285-bf0c-0a6f77e968a5"
      },
      "execution_count": null,
      "outputs": [
        {
          "output_type": "stream",
          "name": "stderr",
          "text": [
            "Setting `pad_token_id` to `eos_token_id`:2 for open-end generation.\n"
          ]
        },
        {
          "output_type": "stream",
          "name": "stdout",
          "text": [
            "Contexto:\n",
            "la caida de pito se resuelve con hilo y aguja\n",
            "El insomnio puede estar relacionado con estrés o ansiedad acumulada.\n",
            "\n",
            "Pregunta: se me cae el pito!!!\n",
            "Respuesta en español: Lo siento, pero primero debes tratar de calmar tu mente. El insomnio puede estar relacionado con estrés o ansiedad acumulada. Intentá relajarte antes de ir a dormir, evitando las pantallas luminosas y las actividades estresantes. Si el problema persiste, puedes considerar hablar con un profesional de la salud mental. Una vez que estés tranquilo, puedes intentar reparar tu pito con un hilo y una aguja.\n",
            "\n",
            "Response in English: I'm sorry, but first you need to calm your mind. Insomnia can be related to stress or accumulated anxiety. Try relaxing before going to bed, avoiding bright screens and stressful activities. If the problem persists, you may want to talk to a mental health professional. Once you're calm, you can try repairing your pito with a thread and a needle.\n"
          ]
        }
      ]
    },
    {
      "cell_type": "markdown",
      "source": [
        "# **Conclusiones:**"
      ],
      "metadata": {
        "id": "Kx-dZSFJz9cK"
      }
    },
    {
      "cell_type": "markdown",
      "source": [
        "\n",
        "\n",
        "\n",
        "\n",
        "None"
      ],
      "metadata": {
        "id": "3w3usdaC0BCj"
      }
    },
    {
      "cell_type": "markdown",
      "source": [
        "# **Fin de la actividad 10.3 Actividad: modelos LLM y IA en tu lugar de trabajo**"
      ],
      "metadata": {
        "id": "CtB5Q3m41YQ0"
      }
    },
    {
      "cell_type": "markdown",
      "source": [
        "https://huggingface.co/google-bert/bert-base-uncased\n",
        "\n",
        "https://huggingface.co/dccuchile/bert-base-spanish-wwm-uncased\n",
        "\n",
        "https://huggingface.co/ITESM/sentece-embeddings-BETO"
      ],
      "metadata": {
        "id": "hWjbeu58X8Sn"
      }
    }
  ]
}